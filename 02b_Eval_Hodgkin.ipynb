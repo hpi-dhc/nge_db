{
 "cells": [
  {
   "cell_type": "markdown",
   "metadata": {},
   "source": [
    "# Prospective Evaluation of Targeted Literature Search: Hodgkin Lymphoma"
   ]
  },
  {
   "cell_type": "code",
   "execution_count": 1,
   "metadata": {
    "tags": []
   },
   "outputs": [
    {
     "data": {
      "text/plain": [
       "False"
      ]
     },
     "execution_count": 1,
     "metadata": {},
     "output_type": "execute_result"
    }
   ],
   "source": [
    "from dotenv import load_dotenv\n",
    "load_dotenv()"
   ]
  },
  {
   "cell_type": "code",
   "execution_count": 2,
   "metadata": {
    "tags": []
   },
   "outputs": [],
   "source": [
    "from api.app import app\n",
    "from fastapi.testclient import TestClient\n",
    "import os\n",
    "\n",
    "with TestClient(app) as client:\n",
    "    # Initialize state\n",
    "    pass    \n",
    "\n",
    "session = app.state.session()"
   ]
  },
  {
   "cell_type": "code",
   "execution_count": 3,
   "metadata": {
    "tags": []
   },
   "outputs": [],
   "source": [
    "from pathlib import Path\n",
    "import matplotlib.pyplot as plt"
   ]
  },
  {
   "cell_type": "code",
   "execution_count": 4,
   "metadata": {
    "tags": []
   },
   "outputs": [],
   "source": [
    "OVERWRITE_LATEX_OUTPUT = True"
   ]
  },
  {
   "cell_type": "code",
   "execution_count": 5,
   "metadata": {
    "tags": []
   },
   "outputs": [],
   "source": [
    "GUIDELINE_ID = \"hodgkin-lymphom\"\n",
    "SCREENING_TF_MIN = \"01/01/2016\"\n",
    "SCREENING_TF_MAX = \"06/01/2023\""
   ]
  },
  {
   "cell_type": "code",
   "execution_count": 6,
   "metadata": {
    "tags": []
   },
   "outputs": [],
   "source": [
    "PATH_PREFIX = \"hodgkin_lymphoma\"\n",
    "PATH_GGPONC_LITERATURE = Path(\"data/screening/ggponc_v2.1_2023_03_30_literature.csv\")\n",
    "PATH_RIS_CONTENT = Path(f\"data/screening/{PATH_PREFIX}/ris_with_matched_ids.csv\")\n",
    "PATH_MANUAL_REVIEW = Path(f\"data/screening/{PATH_PREFIX}/manual_review.csv\")\n",
    "PATH_QUERY_RESULT = Path(f\"data/screening/{PATH_PREFIX}/retrieved_evidence.parquet\")\n",
    "PATH_UNSCREENED_HQ = Path(f\"data/screening/{PATH_PREFIX}/unscreened_hq.csv\")\n",
    "PATH_LATEX_TABLE_OUTPUT = Path(\n",
    "    f\"thesis/from_python/tables/evaluation/{PATH_PREFIX}/\"\n",
    ")\n",
    "PATH_LATEX_PLOT_OUTPUT = Path(\n",
    "    f\"thesis/from_python/figures/evaluation/{PATH_PREFIX}/\"\n",
    ")\n",
    "PATH_LATEX_TABLE_OUTPUT.mkdir(exist_ok=True, parents=True)\n",
    "PATH_LATEX_PLOT_OUTPUT.mkdir(exist_ok=True, parents=True)"
   ]
  },
  {
   "cell_type": "markdown",
   "metadata": {},
   "source": [
    "## Screened evidence"
   ]
  },
  {
   "cell_type": "code",
   "execution_count": 7,
   "metadata": {
    "tags": []
   },
   "outputs": [],
   "source": [
    "import pandas as pd"
   ]
  },
  {
   "cell_type": "code",
   "execution_count": 8,
   "metadata": {
    "tags": []
   },
   "outputs": [],
   "source": [
    "df_s = pd.read_csv(\n",
    "    PATH_RIS_CONTENT,\n",
    "    parse_dates=[\"publication_date\", \"article_date_api\"],\n",
    ").astype({\"pm_id\": \"Int64\"})"
   ]
  },
  {
   "cell_type": "code",
   "execution_count": 9,
   "metadata": {
    "tags": []
   },
   "outputs": [],
   "source": [
    "import ast\n",
    "\n",
    "df_s[\"publication_types\"] = df_s[\"publication_types\"].apply(ast.literal_eval)"
   ]
  },
  {
   "cell_type": "code",
   "execution_count": 10,
   "metadata": {
    "tags": []
   },
   "outputs": [
    {
     "data": {
      "text/html": [
       "<div>\n",
       "<style scoped>\n",
       "    .dataframe tbody tr th:only-of-type {\n",
       "        vertical-align: middle;\n",
       "    }\n",
       "\n",
       "    .dataframe tbody tr th {\n",
       "        vertical-align: top;\n",
       "    }\n",
       "\n",
       "    .dataframe thead th {\n",
       "        text-align: right;\n",
       "    }\n",
       "</style>\n",
       "<table border=\"1\" class=\"dataframe\">\n",
       "  <thead>\n",
       "    <tr style=\"text-align: right;\">\n",
       "      <th>is_rct_api</th>\n",
       "      <th>False</th>\n",
       "      <th>True</th>\n",
       "      <th>All</th>\n",
       "    </tr>\n",
       "    <tr>\n",
       "      <th>is_relevant</th>\n",
       "      <th></th>\n",
       "      <th></th>\n",
       "      <th></th>\n",
       "    </tr>\n",
       "  </thead>\n",
       "  <tbody>\n",
       "    <tr>\n",
       "      <th>False</th>\n",
       "      <td>79</td>\n",
       "      <td>35</td>\n",
       "      <td>114</td>\n",
       "    </tr>\n",
       "    <tr>\n",
       "      <th>True</th>\n",
       "      <td>40</td>\n",
       "      <td>31</td>\n",
       "      <td>71</td>\n",
       "    </tr>\n",
       "    <tr>\n",
       "      <th>All</th>\n",
       "      <td>119</td>\n",
       "      <td>66</td>\n",
       "      <td>185</td>\n",
       "    </tr>\n",
       "  </tbody>\n",
       "</table>\n",
       "</div>"
      ],
      "text/plain": [
       "is_rct_api   False  True  All\n",
       "is_relevant                  \n",
       "False           79    35  114\n",
       "True            40    31   71\n",
       "All            119    66  185"
      ]
     },
     "execution_count": 10,
     "metadata": {},
     "output_type": "execute_result"
    }
   ],
   "source": [
    "pd.crosstab(df_s[\"is_relevant\"], df_s[\"is_rct_api\"], margins=True)"
   ]
  },
  {
   "cell_type": "code",
   "execution_count": 11,
   "metadata": {
    "tags": []
   },
   "outputs": [
    {
     "data": {
      "text/html": [
       "<div>\n",
       "<style scoped>\n",
       "    .dataframe tbody tr th:only-of-type {\n",
       "        vertical-align: middle;\n",
       "    }\n",
       "\n",
       "    .dataframe tbody tr th {\n",
       "        vertical-align: top;\n",
       "    }\n",
       "\n",
       "    .dataframe thead th {\n",
       "        text-align: right;\n",
       "    }\n",
       "</style>\n",
       "<table border=\"1\" class=\"dataframe\">\n",
       "  <thead>\n",
       "    <tr style=\"text-align: right;\">\n",
       "      <th>screening_origin</th>\n",
       "      <th>manual</th>\n",
       "      <th>original</th>\n",
       "      <th>All</th>\n",
       "    </tr>\n",
       "    <tr>\n",
       "      <th>is_relevant</th>\n",
       "      <th></th>\n",
       "      <th></th>\n",
       "      <th></th>\n",
       "    </tr>\n",
       "  </thead>\n",
       "  <tbody>\n",
       "    <tr>\n",
       "      <th>False</th>\n",
       "      <td>11</td>\n",
       "      <td>103</td>\n",
       "      <td>114</td>\n",
       "    </tr>\n",
       "    <tr>\n",
       "      <th>True</th>\n",
       "      <td>6</td>\n",
       "      <td>65</td>\n",
       "      <td>71</td>\n",
       "    </tr>\n",
       "    <tr>\n",
       "      <th>All</th>\n",
       "      <td>17</td>\n",
       "      <td>168</td>\n",
       "      <td>185</td>\n",
       "    </tr>\n",
       "  </tbody>\n",
       "</table>\n",
       "</div>"
      ],
      "text/plain": [
       "screening_origin  manual  original  All\n",
       "is_relevant                            \n",
       "False                 11       103  114\n",
       "True                   6        65   71\n",
       "All                   17       168  185"
      ]
     },
     "execution_count": 11,
     "metadata": {},
     "output_type": "execute_result"
    }
   ],
   "source": [
    "pd.crosstab(df_s[\"is_relevant\"], df_s[\"screening_origin\"], margins=True)"
   ]
  },
  {
   "cell_type": "code",
   "execution_count": 12,
   "metadata": {
    "tags": []
   },
   "outputs": [
    {
     "data": {
      "text/plain": [
       "screening_origin  is_relevant  is_rct_api\n",
       "manual            False        True          11\n",
       "                  True         True           6\n",
       "original          False        False         79\n",
       "                               True          24\n",
       "                  True         False         40\n",
       "                               True          25\n",
       "dtype: int64"
      ]
     },
     "execution_count": 12,
     "metadata": {},
     "output_type": "execute_result"
    }
   ],
   "source": [
    "df_s.groupby(['screening_origin', 'is_relevant', 'is_rct_api']).size()"
   ]
  },
  {
   "cell_type": "markdown",
   "metadata": {},
   "source": [
    "## Retrieved Evidence"
   ]
  },
  {
   "cell_type": "code",
   "execution_count": 13,
   "metadata": {
    "tags": []
   },
   "outputs": [],
   "source": [
    "from api.models import EvidenceQuery\n",
    "from api.utils import query_api_for_evidence, evidence_to_df"
   ]
  },
  {
   "cell_type": "code",
   "execution_count": 14,
   "metadata": {
    "tags": []
   },
   "outputs": [],
   "source": [
    "from integration.citation_utils import pm_id_to_publication_date\n",
    "from evaluation.matching import is_in_ggponc\n",
    "from tqdm.auto import tqdm\n",
    "import os\n",
    "from requests.exceptions import ConnectionError\n",
    "\n",
    "if PATH_QUERY_RESULT.exists():\n",
    "    df_query = pd.read_parquet(PATH_QUERY_RESULT).astype({\"pm_id\": \"Int64\"})\n",
    "else:\n",
    "    query = EvidenceQuery(guideline_id=GUIDELINE_ID)\n",
    "    try:\n",
    "        # fetch evidence from API\n",
    "        print(\"Fetching evidence from API\")\n",
    "        evidence = query_api_for_evidence(query=query)\n",
    "        df_query = evidence_to_df(evidence)\n",
    "        df_query[\"guideline_id\"] = GUIDELINE_ID\n",
    "        print(\"Done.\")\n",
    "\n",
    "        # retrieve exact article dates from Pubmed API\n",
    "        tqdm.pandas(desc=\"Fetching article dates\")\n",
    "        df_query[\"article_date_api\"] = pd.to_datetime(\n",
    "            df_query[\"pm_id\"].progress_apply(\n",
    "                lambda pm_id: pm_id_to_publication_date(\n",
    "                    pm_id=pm_id,\n",
    "                    email=os.environ.get(\"PUBMED_USER\"),\n",
    "                    api_key=os.environ.get(\"PUBMED_API_KEY\"),\n",
    "                    cache_path=\"data/literature/pm_id_to_entrez_xml.json\",\n",
    "                )\n",
    "            )\n",
    "        )\n",
    "\n",
    "        # exclude articles outside of screening timeframe\n",
    "        df_query[\"publication_date_combined\"] = df_query[\"article_date_api\"].fillna(\n",
    "            df_query[\"publication_date\"]\n",
    "        )\n",
    "        df_query = df_query.query(\n",
    "            \"publication_date_combined >= @SCREENING_TF_MIN & publication_date_combined <= @SCREENING_TF_MAX\"\n",
    "        )\n",
    "\n",
    "        # check presence in GGPONC\n",
    "        df_ggponc = (\n",
    "            pd.read_csv(PATH_GGPONC_LITERATURE)\n",
    "            .astype({\"pm_id\": \"Int64\"})\n",
    "            .query(\"guideline_id == @GUIDELINE_ID\")\n",
    "        )\n",
    "        ggponc_pm_ids = set(df_ggponc[\"pm_id\"].dropna())\n",
    "        ggponc_titles = set(df_ggponc[\"title\"])\n",
    "\n",
    "        tqdm.pandas(desc=\"Checking for presence in GGPONC\")\n",
    "        df_query = df_query.progress_apply(  # type: ignore\n",
    "            lambda row: is_in_ggponc(\n",
    "                row=row, ggponc_pm_ids=ggponc_pm_ids, ggponc_titles=ggponc_titles\n",
    "            ),\n",
    "            axis=1,\n",
    "        )\n",
    "\n",
    "        df_query.to_parquet(PATH_QUERY_RESULT)\n",
    "    except ConnectionError:\n",
    "        print(\"Can't connect to the API, is it running?\")"
   ]
  },
  {
   "cell_type": "markdown",
   "metadata": {},
   "source": [
    "Some of the retrieved results are already in GGPONC:"
   ]
  },
  {
   "cell_type": "code",
   "execution_count": 15,
   "metadata": {
    "tags": []
   },
   "outputs": [
    {
     "data": {
      "text/html": [
       "<div>\n",
       "<style scoped>\n",
       "    .dataframe tbody tr th:only-of-type {\n",
       "        vertical-align: middle;\n",
       "    }\n",
       "\n",
       "    .dataframe tbody tr th {\n",
       "        vertical-align: top;\n",
       "    }\n",
       "\n",
       "    .dataframe thead th {\n",
       "        text-align: right;\n",
       "    }\n",
       "</style>\n",
       "<table border=\"1\" class=\"dataframe\">\n",
       "  <thead>\n",
       "    <tr style=\"text-align: right;\">\n",
       "      <th>is_in_ggponc</th>\n",
       "      <th>False</th>\n",
       "      <th>True</th>\n",
       "      <th>All</th>\n",
       "    </tr>\n",
       "    <tr>\n",
       "      <th>source</th>\n",
       "      <th></th>\n",
       "      <th></th>\n",
       "      <th></th>\n",
       "    </tr>\n",
       "  </thead>\n",
       "  <tbody>\n",
       "    <tr>\n",
       "      <th>Civic</th>\n",
       "      <td>1</td>\n",
       "      <td>0</td>\n",
       "      <td>1</td>\n",
       "    </tr>\n",
       "    <tr>\n",
       "      <th>ClinicalTrials</th>\n",
       "      <td>138</td>\n",
       "      <td>0</td>\n",
       "      <td>138</td>\n",
       "    </tr>\n",
       "    <tr>\n",
       "      <th>Pubmed</th>\n",
       "      <td>225</td>\n",
       "      <td>26</td>\n",
       "      <td>251</td>\n",
       "    </tr>\n",
       "    <tr>\n",
       "      <th>All</th>\n",
       "      <td>364</td>\n",
       "      <td>26</td>\n",
       "      <td>390</td>\n",
       "    </tr>\n",
       "  </tbody>\n",
       "</table>\n",
       "</div>"
      ],
      "text/plain": [
       "is_in_ggponc    False  True  All\n",
       "source                          \n",
       "Civic               1     0    1\n",
       "ClinicalTrials    138     0  138\n",
       "Pubmed            225    26  251\n",
       "All               364    26  390"
      ]
     },
     "execution_count": 15,
     "metadata": {},
     "output_type": "execute_result"
    }
   ],
   "source": [
    "pd.crosstab(df_query[\"source\"], df_query[\"is_in_ggponc\"], margins=True)"
   ]
  },
  {
   "cell_type": "markdown",
   "metadata": {},
   "source": [
    "## Retrieval Evaluation using the Pubmed data"
   ]
  },
  {
   "cell_type": "markdown",
   "metadata": {},
   "source": [
    "For the evaluation, we only look at results retrieved from Pubmed:"
   ]
  },
  {
   "cell_type": "code",
   "execution_count": 16,
   "metadata": {
    "tags": []
   },
   "outputs": [],
   "source": [
    "df_r = df_query.query(\"source == 'Pubmed'\").copy()"
   ]
  },
  {
   "cell_type": "markdown",
   "metadata": {
    "tags": []
   },
   "source": [
    "Check if CIViC results are already in PubMed result"
   ]
  },
  {
   "cell_type": "code",
   "execution_count": 17,
   "metadata": {
    "tags": []
   },
   "outputs": [
    {
     "name": "stdout",
     "output_type": "stream",
     "text": [
      "29351986 True\n"
     ]
    }
   ],
   "source": [
    "df_civic = df_query.query(\"source == 'Civic'\")\n",
    "for pm_id in df_civic.pm_id:\n",
    "    print(pm_id, pm_id in df_r.pm_id.values)"
   ]
  },
  {
   "cell_type": "markdown",
   "metadata": {},
   "source": [
    "Furthermore, we consider all results that we can retrieve from GGPONC as having been screened and included, thus making them relevant. We therefor add these records to the dataframe containing the screened records:"
   ]
  },
  {
   "cell_type": "code",
   "execution_count": 18,
   "metadata": {
    "tags": []
   },
   "outputs": [],
   "source": [
    "from evaluation.matching import add_unscreened_ggponc_citations"
   ]
  },
  {
   "cell_type": "code",
   "execution_count": 19,
   "metadata": {
    "tags": []
   },
   "outputs": [],
   "source": [
    "df_s_with_ggponc = add_unscreened_ggponc_citations(df_s, df_r)"
   ]
  },
  {
   "cell_type": "code",
   "execution_count": 20,
   "metadata": {
    "tags": []
   },
   "outputs": [],
   "source": [
    "from evaluation.metrics import FILTERS_SCREENED, FILTERS_RETRIEVED"
   ]
  },
  {
   "cell_type": "markdown",
   "metadata": {},
   "source": [
    "### Original Screening"
   ]
  },
  {
   "cell_type": "code",
   "execution_count": 21,
   "metadata": {
    "tags": []
   },
   "outputs": [
    {
     "name": "stdout",
     "output_type": "stream",
     "text": [
      "Evaluating screened document subset 'All'\n"
     ]
    },
    {
     "data": {
      "application/vnd.jupyter.widget-view+json": {
       "model_id": "f5093540f82e45bca925b66679627d5c",
       "version_major": 2,
       "version_minor": 0
      },
      "text/plain": [
       "Evaluating filter combinations:   0%|          | 0/14 [00:00<?, ?it/s]"
      ]
     },
     "metadata": {},
     "output_type": "display_data"
    },
    {
     "name": "stdout",
     "output_type": "stream",
     "text": [
      "Evaluating screened document subset 'Only RCTs'\n"
     ]
    },
    {
     "data": {
      "application/vnd.jupyter.widget-view+json": {
       "model_id": "b6362538c9904bd294e50a82ecbc655d",
       "version_major": 2,
       "version_minor": 0
      },
      "text/plain": [
       "Evaluating filter combinations:   0%|          | 0/14 [00:00<?, ?it/s]"
      ]
     },
     "metadata": {},
     "output_type": "display_data"
    }
   ],
   "source": [
    "from evaluation.metrics import run_evaluation\n",
    "\n",
    "metrics = run_evaluation(\n",
    "    df_s_with_ggponc.query(\"screening_origin == 'original'\"),\n",
    "    df_r,\n",
    "    filters_screened=FILTERS_SCREENED,\n",
    "    filters_retrieved=FILTERS_RETRIEVED,\n",
    "    col_id=\"pm_id\",\n",
    "    col_relevant=\"is_relevant\",\n",
    "    compute_combinations=False,\n",
    ")"
   ]
  },
  {
   "cell_type": "code",
   "execution_count": 22,
   "metadata": {
    "tags": []
   },
   "outputs": [],
   "source": [
    "from evaluation.plotting import draw_venn_rsi"
   ]
  },
  {
   "cell_type": "markdown",
   "metadata": {},
   "source": [
    "### All evidence with a Pubmed ID"
   ]
  },
  {
   "cell_type": "code",
   "execution_count": 23,
   "metadata": {
    "tags": []
   },
   "outputs": [
    {
     "name": "stderr",
     "output_type": "stream",
     "text": [
      "/home/Florian.Borchert/miniconda3/envs/nge/lib/python3.10/site-packages/matplotlib_venn/_venn3.py:117: UserWarning: Bad circle positioning\n",
      "  warnings.warn(\"Bad circle positioning\")\n"
     ]
    },
    {
     "data": {
      "image/png": "[encoded data removed]",
      "text/plain": [
       "<Figure size 551.181x340.649 with 1 Axes>"
      ]
     },
     "metadata": {},
     "output_type": "display_data"
    }
   ],
   "source": [
    "draw_venn_rsi(\n",
    "    title=\"All\",\n",
    "    ids_retrieved=metrics[\"All\"][\"All\"][\"ids_retrieved\"],\n",
    "    ids_screened=metrics[\"All\"][\"All\"][\"ids_screened\"],\n",
    "    ids_screened_relevant=metrics[\"All\"][\"All\"][\"ids_screened_relevant\"],\n",
    "    add_pn_labels=True,\n",
    ");"
   ]
  },
  {
   "cell_type": "code",
   "execution_count": 24,
   "metadata": {
    "tags": []
   },
   "outputs": [],
   "source": [
    "from evaluation.metrics import metrics_to_df, highlight_metrics"
   ]
  },
  {
   "cell_type": "code",
   "execution_count": 25,
   "metadata": {
    "tags": []
   },
   "outputs": [
    {
     "data": {
      "text/html": [
       "<style type=\"text/css\">\n",
       "#T_e7f9c_row0_col1, #T_e7f9c_row0_col2, #T_e7f9c_row0_col3, #T_e7f9c_row0_col5, #T_e7f9c_row2_col1, #T_e7f9c_row2_col2, #T_e7f9c_row2_col3, #T_e7f9c_row2_col5, #T_e7f9c_row5_col0, #T_e7f9c_row5_col4, #T_e7f9c_row6_col1, #T_e7f9c_row6_col2, #T_e7f9c_row6_col3, #T_e7f9c_row6_col5 {\n",
       "  font-weight: bold;\n",
       "}\n",
       "</style>\n",
       "<table id=\"T_e7f9c\">\n",
       "  <thead>\n",
       "    <tr>\n",
       "      <th class=\"blank level0\" >&nbsp;</th>\n",
       "      <th id=\"T_e7f9c_level0_col0\" class=\"col_heading level0 col0\" >Precision</th>\n",
       "      <th id=\"T_e7f9c_level0_col1\" class=\"col_heading level0 col1\" >Recall</th>\n",
       "      <th id=\"T_e7f9c_level0_col2\" class=\"col_heading level0 col2\" >$F_1$</th>\n",
       "      <th id=\"T_e7f9c_level0_col3\" class=\"col_heading level0 col3\" >TP</th>\n",
       "      <th id=\"T_e7f9c_level0_col4\" class=\"col_heading level0 col4\" >FP</th>\n",
       "      <th id=\"T_e7f9c_level0_col5\" class=\"col_heading level0 col5\" >FN</th>\n",
       "      <th id=\"T_e7f9c_level0_col6\" class=\"col_heading level0 col6\" >TN</th>\n",
       "      <th id=\"T_e7f9c_level0_col7\" class=\"col_heading level0 col7\" >?</th>\n",
       "      <th id=\"T_e7f9c_level0_col8\" class=\"col_heading level0 col8\" >Retrieved</th>\n",
       "      <th id=\"T_e7f9c_level0_col9\" class=\"col_heading level0 col9\" >Screened</th>\n",
       "      <th id=\"T_e7f9c_level0_col10\" class=\"col_heading level0 col10\" >Relevant</th>\n",
       "    </tr>\n",
       "  </thead>\n",
       "  <tbody>\n",
       "    <tr>\n",
       "      <th id=\"T_e7f9c_level0_row0\" class=\"row_heading level0 row0\" >All</th>\n",
       "      <td id=\"T_e7f9c_row0_col0\" class=\"data row0 col0\" >0.9000</td>\n",
       "      <td id=\"T_e7f9c_row0_col1\" class=\"data row0 col1\" >0.5714</td>\n",
       "      <td id=\"T_e7f9c_row0_col2\" class=\"data row0 col2\" >0.699000</td>\n",
       "      <td id=\"T_e7f9c_row0_col3\" class=\"data row0 col3\" >36</td>\n",
       "      <td id=\"T_e7f9c_row0_col4\" class=\"data row0 col4\" >4</td>\n",
       "      <td id=\"T_e7f9c_row0_col5\" class=\"data row0 col5\" >27</td>\n",
       "      <td id=\"T_e7f9c_row0_col6\" class=\"data row0 col6\" >91</td>\n",
       "      <td id=\"T_e7f9c_row0_col7\" class=\"data row0 col7\" >211</td>\n",
       "      <td id=\"T_e7f9c_row0_col8\" class=\"data row0 col8\" >251</td>\n",
       "      <td id=\"T_e7f9c_row0_col9\" class=\"data row0 col9\" >158</td>\n",
       "      <td id=\"T_e7f9c_row0_col10\" class=\"data row0 col10\" >63</td>\n",
       "    </tr>\n",
       "    <tr>\n",
       "      <th id=\"T_e7f9c_level0_row1\" class=\"row_heading level0 row1\" >Is RCT</th>\n",
       "      <td id=\"T_e7f9c_row1_col0\" class=\"data row1 col0\" >0.8621</td>\n",
       "      <td id=\"T_e7f9c_row1_col1\" class=\"data row1 col1\" >0.3968</td>\n",
       "      <td id=\"T_e7f9c_row1_col2\" class=\"data row1 col2\" >0.543500</td>\n",
       "      <td id=\"T_e7f9c_row1_col3\" class=\"data row1 col3\" >25</td>\n",
       "      <td id=\"T_e7f9c_row1_col4\" class=\"data row1 col4\" >4</td>\n",
       "      <td id=\"T_e7f9c_row1_col5\" class=\"data row1 col5\" >38</td>\n",
       "      <td id=\"T_e7f9c_row1_col6\" class=\"data row1 col6\" >91</td>\n",
       "      <td id=\"T_e7f9c_row1_col7\" class=\"data row1 col7\" >58</td>\n",
       "      <td id=\"T_e7f9c_row1_col8\" class=\"data row1 col8\" >87</td>\n",
       "      <td id=\"T_e7f9c_row1_col9\" class=\"data row1 col9\" >158</td>\n",
       "      <td id=\"T_e7f9c_row1_col10\" class=\"data row1 col10\" >63</td>\n",
       "    </tr>\n",
       "    <tr>\n",
       "      <th id=\"T_e7f9c_level0_row2\" class=\"row_heading level0 row2\" >Non-empty Abstract</th>\n",
       "      <td id=\"T_e7f9c_row2_col0\" class=\"data row2 col0\" >0.9000</td>\n",
       "      <td id=\"T_e7f9c_row2_col1\" class=\"data row2 col1\" >0.5714</td>\n",
       "      <td id=\"T_e7f9c_row2_col2\" class=\"data row2 col2\" >0.699000</td>\n",
       "      <td id=\"T_e7f9c_row2_col3\" class=\"data row2 col3\" >36</td>\n",
       "      <td id=\"T_e7f9c_row2_col4\" class=\"data row2 col4\" >4</td>\n",
       "      <td id=\"T_e7f9c_row2_col5\" class=\"data row2 col5\" >27</td>\n",
       "      <td id=\"T_e7f9c_row2_col6\" class=\"data row2 col6\" >91</td>\n",
       "      <td id=\"T_e7f9c_row2_col7\" class=\"data row2 col7\" >189</td>\n",
       "      <td id=\"T_e7f9c_row2_col8\" class=\"data row2 col8\" >229</td>\n",
       "      <td id=\"T_e7f9c_row2_col9\" class=\"data row2 col9\" >158</td>\n",
       "      <td id=\"T_e7f9c_row2_col10\" class=\"data row2 col10\" >63</td>\n",
       "    </tr>\n",
       "    <tr>\n",
       "      <th id=\"T_e7f9c_level0_row3\" class=\"row_heading level0 row3\" >Non-pediatric population</th>\n",
       "      <td id=\"T_e7f9c_row3_col0\" class=\"data row3 col0\" >0.8947</td>\n",
       "      <td id=\"T_e7f9c_row3_col1\" class=\"data row3 col1\" >0.5397</td>\n",
       "      <td id=\"T_e7f9c_row3_col2\" class=\"data row3 col2\" >0.673300</td>\n",
       "      <td id=\"T_e7f9c_row3_col3\" class=\"data row3 col3\" >34</td>\n",
       "      <td id=\"T_e7f9c_row3_col4\" class=\"data row3 col4\" >4</td>\n",
       "      <td id=\"T_e7f9c_row3_col5\" class=\"data row3 col5\" >29</td>\n",
       "      <td id=\"T_e7f9c_row3_col6\" class=\"data row3 col6\" >91</td>\n",
       "      <td id=\"T_e7f9c_row3_col7\" class=\"data row3 col7\" >185</td>\n",
       "      <td id=\"T_e7f9c_row3_col8\" class=\"data row3 col8\" >223</td>\n",
       "      <td id=\"T_e7f9c_row3_col9\" class=\"data row3 col9\" >158</td>\n",
       "      <td id=\"T_e7f9c_row3_col10\" class=\"data row3 col10\" >63</td>\n",
       "    </tr>\n",
       "    <tr>\n",
       "      <th id=\"T_e7f9c_level0_row4\" class=\"row_heading level0 row4\" >Phase >= 2</th>\n",
       "      <td id=\"T_e7f9c_row4_col0\" class=\"data row4 col0\" >0.9259</td>\n",
       "      <td id=\"T_e7f9c_row4_col1\" class=\"data row4 col1\" >0.3968</td>\n",
       "      <td id=\"T_e7f9c_row4_col2\" class=\"data row4 col2\" >0.555600</td>\n",
       "      <td id=\"T_e7f9c_row4_col3\" class=\"data row4 col3\" >25</td>\n",
       "      <td id=\"T_e7f9c_row4_col4\" class=\"data row4 col4\" >2</td>\n",
       "      <td id=\"T_e7f9c_row4_col5\" class=\"data row4 col5\" >38</td>\n",
       "      <td id=\"T_e7f9c_row4_col6\" class=\"data row4 col6\" >93</td>\n",
       "      <td id=\"T_e7f9c_row4_col7\" class=\"data row4 col7\" >139</td>\n",
       "      <td id=\"T_e7f9c_row4_col8\" class=\"data row4 col8\" >166</td>\n",
       "      <td id=\"T_e7f9c_row4_col9\" class=\"data row4 col9\" >158</td>\n",
       "      <td id=\"T_e7f9c_row4_col10\" class=\"data row4 col10\" >63</td>\n",
       "    </tr>\n",
       "    <tr>\n",
       "      <th id=\"T_e7f9c_level0_row5\" class=\"row_heading level0 row5\" >Phase >= 3</th>\n",
       "      <td id=\"T_e7f9c_row5_col0\" class=\"data row5 col0\" >1.0000</td>\n",
       "      <td id=\"T_e7f9c_row5_col1\" class=\"data row5 col1\" >0.2698</td>\n",
       "      <td id=\"T_e7f9c_row5_col2\" class=\"data row5 col2\" >0.425000</td>\n",
       "      <td id=\"T_e7f9c_row5_col3\" class=\"data row5 col3\" >17</td>\n",
       "      <td id=\"T_e7f9c_row5_col4\" class=\"data row5 col4\" >0</td>\n",
       "      <td id=\"T_e7f9c_row5_col5\" class=\"data row5 col5\" >46</td>\n",
       "      <td id=\"T_e7f9c_row5_col6\" class=\"data row5 col6\" >95</td>\n",
       "      <td id=\"T_e7f9c_row5_col7\" class=\"data row5 col7\" >29</td>\n",
       "      <td id=\"T_e7f9c_row5_col8\" class=\"data row5 col8\" >46</td>\n",
       "      <td id=\"T_e7f9c_row5_col9\" class=\"data row5 col9\" >158</td>\n",
       "      <td id=\"T_e7f9c_row5_col10\" class=\"data row5 col10\" >63</td>\n",
       "    </tr>\n",
       "    <tr>\n",
       "      <th id=\"T_e7f9c_level0_row6\" class=\"row_heading level0 row6\" >Sample Size >= 5</th>\n",
       "      <td id=\"T_e7f9c_row6_col0\" class=\"data row6 col0\" >0.9000</td>\n",
       "      <td id=\"T_e7f9c_row6_col1\" class=\"data row6 col1\" >0.5714</td>\n",
       "      <td id=\"T_e7f9c_row6_col2\" class=\"data row6 col2\" >0.699000</td>\n",
       "      <td id=\"T_e7f9c_row6_col3\" class=\"data row6 col3\" >36</td>\n",
       "      <td id=\"T_e7f9c_row6_col4\" class=\"data row6 col4\" >4</td>\n",
       "      <td id=\"T_e7f9c_row6_col5\" class=\"data row6 col5\" >27</td>\n",
       "      <td id=\"T_e7f9c_row6_col6\" class=\"data row6 col6\" >91</td>\n",
       "      <td id=\"T_e7f9c_row6_col7\" class=\"data row6 col7\" >200</td>\n",
       "      <td id=\"T_e7f9c_row6_col8\" class=\"data row6 col8\" >240</td>\n",
       "      <td id=\"T_e7f9c_row6_col9\" class=\"data row6 col9\" >158</td>\n",
       "      <td id=\"T_e7f9c_row6_col10\" class=\"data row6 col10\" >63</td>\n",
       "    </tr>\n",
       "    <tr>\n",
       "      <th id=\"T_e7f9c_level0_row7\" class=\"row_heading level0 row7\" >Sample Size >= 10</th>\n",
       "      <td id=\"T_e7f9c_row7_col0\" class=\"data row7 col0\" >0.8947</td>\n",
       "      <td id=\"T_e7f9c_row7_col1\" class=\"data row7 col1\" >0.5397</td>\n",
       "      <td id=\"T_e7f9c_row7_col2\" class=\"data row7 col2\" >0.673300</td>\n",
       "      <td id=\"T_e7f9c_row7_col3\" class=\"data row7 col3\" >34</td>\n",
       "      <td id=\"T_e7f9c_row7_col4\" class=\"data row7 col4\" >4</td>\n",
       "      <td id=\"T_e7f9c_row7_col5\" class=\"data row7 col5\" >29</td>\n",
       "      <td id=\"T_e7f9c_row7_col6\" class=\"data row7 col6\" >91</td>\n",
       "      <td id=\"T_e7f9c_row7_col7\" class=\"data row7 col7\" >194</td>\n",
       "      <td id=\"T_e7f9c_row7_col8\" class=\"data row7 col8\" >232</td>\n",
       "      <td id=\"T_e7f9c_row7_col9\" class=\"data row7 col9\" >158</td>\n",
       "      <td id=\"T_e7f9c_row7_col10\" class=\"data row7 col10\" >63</td>\n",
       "    </tr>\n",
       "    <tr>\n",
       "      <th id=\"T_e7f9c_level0_row8\" class=\"row_heading level0 row8\" >Sample Size >= 15</th>\n",
       "      <td id=\"T_e7f9c_row8_col0\" class=\"data row8 col0\" >0.8919</td>\n",
       "      <td id=\"T_e7f9c_row8_col1\" class=\"data row8 col1\" >0.5238</td>\n",
       "      <td id=\"T_e7f9c_row8_col2\" class=\"data row8 col2\" >0.660000</td>\n",
       "      <td id=\"T_e7f9c_row8_col3\" class=\"data row8 col3\" >33</td>\n",
       "      <td id=\"T_e7f9c_row8_col4\" class=\"data row8 col4\" >4</td>\n",
       "      <td id=\"T_e7f9c_row8_col5\" class=\"data row8 col5\" >30</td>\n",
       "      <td id=\"T_e7f9c_row8_col6\" class=\"data row8 col6\" >91</td>\n",
       "      <td id=\"T_e7f9c_row8_col7\" class=\"data row8 col7\" >185</td>\n",
       "      <td id=\"T_e7f9c_row8_col8\" class=\"data row8 col8\" >222</td>\n",
       "      <td id=\"T_e7f9c_row8_col9\" class=\"data row8 col9\" >158</td>\n",
       "      <td id=\"T_e7f9c_row8_col10\" class=\"data row8 col10\" >63</td>\n",
       "    </tr>\n",
       "    <tr>\n",
       "      <th id=\"T_e7f9c_level0_row9\" class=\"row_heading level0 row9\" >Known Intervention</th>\n",
       "      <td id=\"T_e7f9c_row9_col0\" class=\"data row9 col0\" >0.8974</td>\n",
       "      <td id=\"T_e7f9c_row9_col1\" class=\"data row9 col1\" >0.5556</td>\n",
       "      <td id=\"T_e7f9c_row9_col2\" class=\"data row9 col2\" >0.686300</td>\n",
       "      <td id=\"T_e7f9c_row9_col3\" class=\"data row9 col3\" >35</td>\n",
       "      <td id=\"T_e7f9c_row9_col4\" class=\"data row9 col4\" >4</td>\n",
       "      <td id=\"T_e7f9c_row9_col5\" class=\"data row9 col5\" >28</td>\n",
       "      <td id=\"T_e7f9c_row9_col6\" class=\"data row9 col6\" >91</td>\n",
       "      <td id=\"T_e7f9c_row9_col7\" class=\"data row9 col7\" >169</td>\n",
       "      <td id=\"T_e7f9c_row9_col8\" class=\"data row9 col8\" >208</td>\n",
       "      <td id=\"T_e7f9c_row9_col9\" class=\"data row9 col9\" >158</td>\n",
       "      <td id=\"T_e7f9c_row9_col10\" class=\"data row9 col10\" >63</td>\n",
       "    </tr>\n",
       "    <tr>\n",
       "      <th id=\"T_e7f9c_level0_row10\" class=\"row_heading level0 row10\" >Unknown Intervention</th>\n",
       "      <td id=\"T_e7f9c_row10_col0\" class=\"data row10 col0\" >0.8889</td>\n",
       "      <td id=\"T_e7f9c_row10_col1\" class=\"data row10 col1\" >0.2540</td>\n",
       "      <td id=\"T_e7f9c_row10_col2\" class=\"data row10 col2\" >0.395100</td>\n",
       "      <td id=\"T_e7f9c_row10_col3\" class=\"data row10 col3\" >16</td>\n",
       "      <td id=\"T_e7f9c_row10_col4\" class=\"data row10 col4\" >2</td>\n",
       "      <td id=\"T_e7f9c_row10_col5\" class=\"data row10 col5\" >47</td>\n",
       "      <td id=\"T_e7f9c_row10_col6\" class=\"data row10 col6\" >93</td>\n",
       "      <td id=\"T_e7f9c_row10_col7\" class=\"data row10 col7\" >110</td>\n",
       "      <td id=\"T_e7f9c_row10_col8\" class=\"data row10 col8\" >128</td>\n",
       "      <td id=\"T_e7f9c_row10_col9\" class=\"data row10 col9\" >158</td>\n",
       "      <td id=\"T_e7f9c_row10_col10\" class=\"data row10 col10\" >63</td>\n",
       "    </tr>\n",
       "    <tr>\n",
       "      <th id=\"T_e7f9c_level0_row11\" class=\"row_heading level0 row11\" >K+U Intervention</th>\n",
       "      <td id=\"T_e7f9c_row11_col0\" class=\"data row11 col0\" >0.8824</td>\n",
       "      <td id=\"T_e7f9c_row11_col1\" class=\"data row11 col1\" >0.2381</td>\n",
       "      <td id=\"T_e7f9c_row11_col2\" class=\"data row11 col2\" >0.375000</td>\n",
       "      <td id=\"T_e7f9c_row11_col3\" class=\"data row11 col3\" >15</td>\n",
       "      <td id=\"T_e7f9c_row11_col4\" class=\"data row11 col4\" >2</td>\n",
       "      <td id=\"T_e7f9c_row11_col5\" class=\"data row11 col5\" >48</td>\n",
       "      <td id=\"T_e7f9c_row11_col6\" class=\"data row11 col6\" >93</td>\n",
       "      <td id=\"T_e7f9c_row11_col7\" class=\"data row11 col7\" >88</td>\n",
       "      <td id=\"T_e7f9c_row11_col8\" class=\"data row11 col8\" >105</td>\n",
       "      <td id=\"T_e7f9c_row11_col9\" class=\"data row11 col9\" >158</td>\n",
       "      <td id=\"T_e7f9c_row11_col10\" class=\"data row11 col10\" >63</td>\n",
       "    </tr>\n",
       "    <tr>\n",
       "      <th id=\"T_e7f9c_level0_row12\" class=\"row_heading level0 row12\" >Significant Finding</th>\n",
       "      <td id=\"T_e7f9c_row12_col0\" class=\"data row12 col0\" >0.8696</td>\n",
       "      <td id=\"T_e7f9c_row12_col1\" class=\"data row12 col1\" >0.3175</td>\n",
       "      <td id=\"T_e7f9c_row12_col2\" class=\"data row12 col2\" >0.465100</td>\n",
       "      <td id=\"T_e7f9c_row12_col3\" class=\"data row12 col3\" >20</td>\n",
       "      <td id=\"T_e7f9c_row12_col4\" class=\"data row12 col4\" >3</td>\n",
       "      <td id=\"T_e7f9c_row12_col5\" class=\"data row12 col5\" >43</td>\n",
       "      <td id=\"T_e7f9c_row12_col6\" class=\"data row12 col6\" >92</td>\n",
       "      <td id=\"T_e7f9c_row12_col7\" class=\"data row12 col7\" >141</td>\n",
       "      <td id=\"T_e7f9c_row12_col8\" class=\"data row12 col8\" >164</td>\n",
       "      <td id=\"T_e7f9c_row12_col9\" class=\"data row12 col9\" >158</td>\n",
       "      <td id=\"T_e7f9c_row12_col10\" class=\"data row12 col10\" >63</td>\n",
       "    </tr>\n",
       "    <tr>\n",
       "      <th id=\"T_e7f9c_level0_row13\" class=\"row_heading level0 row13\" >No Significant Finding</th>\n",
       "      <td id=\"T_e7f9c_row13_col0\" class=\"data row13 col0\" >0.9412</td>\n",
       "      <td id=\"T_e7f9c_row13_col1\" class=\"data row13 col1\" >0.2540</td>\n",
       "      <td id=\"T_e7f9c_row13_col2\" class=\"data row13 col2\" >0.400000</td>\n",
       "      <td id=\"T_e7f9c_row13_col3\" class=\"data row13 col3\" >16</td>\n",
       "      <td id=\"T_e7f9c_row13_col4\" class=\"data row13 col4\" >1</td>\n",
       "      <td id=\"T_e7f9c_row13_col5\" class=\"data row13 col5\" >47</td>\n",
       "      <td id=\"T_e7f9c_row13_col6\" class=\"data row13 col6\" >94</td>\n",
       "      <td id=\"T_e7f9c_row13_col7\" class=\"data row13 col7\" >48</td>\n",
       "      <td id=\"T_e7f9c_row13_col8\" class=\"data row13 col8\" >65</td>\n",
       "      <td id=\"T_e7f9c_row13_col9\" class=\"data row13 col9\" >158</td>\n",
       "      <td id=\"T_e7f9c_row13_col10\" class=\"data row13 col10\" >63</td>\n",
       "    </tr>\n",
       "  </tbody>\n",
       "</table>\n"
      ],
      "text/plain": [
       "<pandas.io.formats.style.Styler at 0x7f12b92b2ef0>"
      ]
     },
     "execution_count": 25,
     "metadata": {},
     "output_type": "execute_result"
    }
   ],
   "source": [
    "highlight_metrics(\n",
    "    metrics_to_df(metrics[\"All\"], drop_zero_tp=False).head(len(FILTERS_RETRIEVED))\n",
    ")"
   ]
  },
  {
   "cell_type": "markdown",
   "metadata": {},
   "source": [
    "### RCTs only"
   ]
  },
  {
   "cell_type": "code",
   "execution_count": 26,
   "metadata": {
    "tags": []
   },
   "outputs": [
    {
     "name": "stderr",
     "output_type": "stream",
     "text": [
      "/home/Florian.Borchert/miniconda3/envs/nge/lib/python3.10/site-packages/matplotlib_venn/_venn3.py:117: UserWarning: Bad circle positioning\n",
      "  warnings.warn(\"Bad circle positioning\")\n"
     ]
    },
    {
     "data": {
      "image/png": "[encoded data removed]",
      "text/plain": [
       "<Figure size 551.181x340.649 with 1 Axes>"
      ]
     },
     "metadata": {},
     "output_type": "display_data"
    }
   ],
   "source": [
    "draw_venn_rsi(\n",
    "    title=\"RCTs only\",\n",
    "    ids_retrieved=metrics[\"Only RCTs\"][\"Is RCT\"][\"ids_retrieved\"],\n",
    "    ids_screened=metrics[\"Only RCTs\"][\"Is RCT\"][\"ids_screened\"],\n",
    "    ids_screened_relevant=metrics[\"Only RCTs\"][\"Is RCT\"][\"ids_screened_relevant\"],\n",
    "    add_pn_labels=True,\n",
    ");"
   ]
  },
  {
   "cell_type": "code",
   "execution_count": 27,
   "metadata": {
    "tags": []
   },
   "outputs": [
    {
     "data": {
      "text/html": [
       "<style type=\"text/css\">\n",
       "#T_49f56_row0_col1, #T_49f56_row0_col2, #T_49f56_row0_col3, #T_49f56_row0_col5, #T_49f56_row1_col1, #T_49f56_row1_col2, #T_49f56_row1_col3, #T_49f56_row1_col5, #T_49f56_row2_col1, #T_49f56_row2_col2, #T_49f56_row2_col3, #T_49f56_row2_col5, #T_49f56_row5_col0, #T_49f56_row5_col4, #T_49f56_row6_col1, #T_49f56_row6_col2, #T_49f56_row6_col3, #T_49f56_row6_col5, #T_49f56_row7_col1, #T_49f56_row7_col2, #T_49f56_row7_col3, #T_49f56_row7_col5, #T_49f56_row8_col1, #T_49f56_row8_col2, #T_49f56_row8_col3, #T_49f56_row8_col5 {\n",
       "  font-weight: bold;\n",
       "}\n",
       "</style>\n",
       "<table id=\"T_49f56\">\n",
       "  <thead>\n",
       "    <tr>\n",
       "      <th class=\"blank level0\" >&nbsp;</th>\n",
       "      <th id=\"T_49f56_level0_col0\" class=\"col_heading level0 col0\" >Precision</th>\n",
       "      <th id=\"T_49f56_level0_col1\" class=\"col_heading level0 col1\" >Recall</th>\n",
       "      <th id=\"T_49f56_level0_col2\" class=\"col_heading level0 col2\" >$F_1$</th>\n",
       "      <th id=\"T_49f56_level0_col3\" class=\"col_heading level0 col3\" >TP</th>\n",
       "      <th id=\"T_49f56_level0_col4\" class=\"col_heading level0 col4\" >FP</th>\n",
       "      <th id=\"T_49f56_level0_col5\" class=\"col_heading level0 col5\" >FN</th>\n",
       "      <th id=\"T_49f56_level0_col6\" class=\"col_heading level0 col6\" >TN</th>\n",
       "      <th id=\"T_49f56_level0_col7\" class=\"col_heading level0 col7\" >?</th>\n",
       "      <th id=\"T_49f56_level0_col8\" class=\"col_heading level0 col8\" >Retrieved</th>\n",
       "      <th id=\"T_49f56_level0_col9\" class=\"col_heading level0 col9\" >Screened</th>\n",
       "      <th id=\"T_49f56_level0_col10\" class=\"col_heading level0 col10\" >Relevant</th>\n",
       "    </tr>\n",
       "  </thead>\n",
       "  <tbody>\n",
       "    <tr>\n",
       "      <th id=\"T_49f56_level0_row0\" class=\"row_heading level0 row0\" >All</th>\n",
       "      <td id=\"T_49f56_row0_col0\" class=\"data row0 col0\" >0.8621</td>\n",
       "      <td id=\"T_49f56_row0_col1\" class=\"data row0 col1\" >1.0000</td>\n",
       "      <td id=\"T_49f56_row0_col2\" class=\"data row0 col2\" >0.925900</td>\n",
       "      <td id=\"T_49f56_row0_col3\" class=\"data row0 col3\" >25</td>\n",
       "      <td id=\"T_49f56_row0_col4\" class=\"data row0 col4\" >4</td>\n",
       "      <td id=\"T_49f56_row0_col5\" class=\"data row0 col5\" >0</td>\n",
       "      <td id=\"T_49f56_row0_col6\" class=\"data row0 col6\" >20</td>\n",
       "      <td id=\"T_49f56_row0_col7\" class=\"data row0 col7\" >222</td>\n",
       "      <td id=\"T_49f56_row0_col8\" class=\"data row0 col8\" >251</td>\n",
       "      <td id=\"T_49f56_row0_col9\" class=\"data row0 col9\" >49</td>\n",
       "      <td id=\"T_49f56_row0_col10\" class=\"data row0 col10\" >25</td>\n",
       "    </tr>\n",
       "    <tr>\n",
       "      <th id=\"T_49f56_level0_row1\" class=\"row_heading level0 row1\" >Is RCT</th>\n",
       "      <td id=\"T_49f56_row1_col0\" class=\"data row1 col0\" >0.8621</td>\n",
       "      <td id=\"T_49f56_row1_col1\" class=\"data row1 col1\" >1.0000</td>\n",
       "      <td id=\"T_49f56_row1_col2\" class=\"data row1 col2\" >0.925900</td>\n",
       "      <td id=\"T_49f56_row1_col3\" class=\"data row1 col3\" >25</td>\n",
       "      <td id=\"T_49f56_row1_col4\" class=\"data row1 col4\" >4</td>\n",
       "      <td id=\"T_49f56_row1_col5\" class=\"data row1 col5\" >0</td>\n",
       "      <td id=\"T_49f56_row1_col6\" class=\"data row1 col6\" >20</td>\n",
       "      <td id=\"T_49f56_row1_col7\" class=\"data row1 col7\" >58</td>\n",
       "      <td id=\"T_49f56_row1_col8\" class=\"data row1 col8\" >87</td>\n",
       "      <td id=\"T_49f56_row1_col9\" class=\"data row1 col9\" >49</td>\n",
       "      <td id=\"T_49f56_row1_col10\" class=\"data row1 col10\" >25</td>\n",
       "    </tr>\n",
       "    <tr>\n",
       "      <th id=\"T_49f56_level0_row2\" class=\"row_heading level0 row2\" >Non-empty Abstract</th>\n",
       "      <td id=\"T_49f56_row2_col0\" class=\"data row2 col0\" >0.8621</td>\n",
       "      <td id=\"T_49f56_row2_col1\" class=\"data row2 col1\" >1.0000</td>\n",
       "      <td id=\"T_49f56_row2_col2\" class=\"data row2 col2\" >0.925900</td>\n",
       "      <td id=\"T_49f56_row2_col3\" class=\"data row2 col3\" >25</td>\n",
       "      <td id=\"T_49f56_row2_col4\" class=\"data row2 col4\" >4</td>\n",
       "      <td id=\"T_49f56_row2_col5\" class=\"data row2 col5\" >0</td>\n",
       "      <td id=\"T_49f56_row2_col6\" class=\"data row2 col6\" >20</td>\n",
       "      <td id=\"T_49f56_row2_col7\" class=\"data row2 col7\" >200</td>\n",
       "      <td id=\"T_49f56_row2_col8\" class=\"data row2 col8\" >229</td>\n",
       "      <td id=\"T_49f56_row2_col9\" class=\"data row2 col9\" >49</td>\n",
       "      <td id=\"T_49f56_row2_col10\" class=\"data row2 col10\" >25</td>\n",
       "    </tr>\n",
       "    <tr>\n",
       "      <th id=\"T_49f56_level0_row3\" class=\"row_heading level0 row3\" >Non-pediatric population</th>\n",
       "      <td id=\"T_49f56_row3_col0\" class=\"data row3 col0\" >0.8571</td>\n",
       "      <td id=\"T_49f56_row3_col1\" class=\"data row3 col1\" >0.9600</td>\n",
       "      <td id=\"T_49f56_row3_col2\" class=\"data row3 col2\" >0.905700</td>\n",
       "      <td id=\"T_49f56_row3_col3\" class=\"data row3 col3\" >24</td>\n",
       "      <td id=\"T_49f56_row3_col4\" class=\"data row3 col4\" >4</td>\n",
       "      <td id=\"T_49f56_row3_col5\" class=\"data row3 col5\" >1</td>\n",
       "      <td id=\"T_49f56_row3_col6\" class=\"data row3 col6\" >20</td>\n",
       "      <td id=\"T_49f56_row3_col7\" class=\"data row3 col7\" >195</td>\n",
       "      <td id=\"T_49f56_row3_col8\" class=\"data row3 col8\" >223</td>\n",
       "      <td id=\"T_49f56_row3_col9\" class=\"data row3 col9\" >49</td>\n",
       "      <td id=\"T_49f56_row3_col10\" class=\"data row3 col10\" >25</td>\n",
       "    </tr>\n",
       "    <tr>\n",
       "      <th id=\"T_49f56_level0_row4\" class=\"row_heading level0 row4\" >Phase >= 2</th>\n",
       "      <td id=\"T_49f56_row4_col0\" class=\"data row4 col0\" >0.9048</td>\n",
       "      <td id=\"T_49f56_row4_col1\" class=\"data row4 col1\" >0.7600</td>\n",
       "      <td id=\"T_49f56_row4_col2\" class=\"data row4 col2\" >0.826100</td>\n",
       "      <td id=\"T_49f56_row4_col3\" class=\"data row4 col3\" >19</td>\n",
       "      <td id=\"T_49f56_row4_col4\" class=\"data row4 col4\" >2</td>\n",
       "      <td id=\"T_49f56_row4_col5\" class=\"data row4 col5\" >6</td>\n",
       "      <td id=\"T_49f56_row4_col6\" class=\"data row4 col6\" >22</td>\n",
       "      <td id=\"T_49f56_row4_col7\" class=\"data row4 col7\" >145</td>\n",
       "      <td id=\"T_49f56_row4_col8\" class=\"data row4 col8\" >166</td>\n",
       "      <td id=\"T_49f56_row4_col9\" class=\"data row4 col9\" >49</td>\n",
       "      <td id=\"T_49f56_row4_col10\" class=\"data row4 col10\" >25</td>\n",
       "    </tr>\n",
       "    <tr>\n",
       "      <th id=\"T_49f56_level0_row5\" class=\"row_heading level0 row5\" >Phase >= 3</th>\n",
       "      <td id=\"T_49f56_row5_col0\" class=\"data row5 col0\" >1.0000</td>\n",
       "      <td id=\"T_49f56_row5_col1\" class=\"data row5 col1\" >0.5200</td>\n",
       "      <td id=\"T_49f56_row5_col2\" class=\"data row5 col2\" >0.684200</td>\n",
       "      <td id=\"T_49f56_row5_col3\" class=\"data row5 col3\" >13</td>\n",
       "      <td id=\"T_49f56_row5_col4\" class=\"data row5 col4\" >0</td>\n",
       "      <td id=\"T_49f56_row5_col5\" class=\"data row5 col5\" >12</td>\n",
       "      <td id=\"T_49f56_row5_col6\" class=\"data row5 col6\" >24</td>\n",
       "      <td id=\"T_49f56_row5_col7\" class=\"data row5 col7\" >33</td>\n",
       "      <td id=\"T_49f56_row5_col8\" class=\"data row5 col8\" >46</td>\n",
       "      <td id=\"T_49f56_row5_col9\" class=\"data row5 col9\" >49</td>\n",
       "      <td id=\"T_49f56_row5_col10\" class=\"data row5 col10\" >25</td>\n",
       "    </tr>\n",
       "    <tr>\n",
       "      <th id=\"T_49f56_level0_row6\" class=\"row_heading level0 row6\" >Sample Size >= 5</th>\n",
       "      <td id=\"T_49f56_row6_col0\" class=\"data row6 col0\" >0.8621</td>\n",
       "      <td id=\"T_49f56_row6_col1\" class=\"data row6 col1\" >1.0000</td>\n",
       "      <td id=\"T_49f56_row6_col2\" class=\"data row6 col2\" >0.925900</td>\n",
       "      <td id=\"T_49f56_row6_col3\" class=\"data row6 col3\" >25</td>\n",
       "      <td id=\"T_49f56_row6_col4\" class=\"data row6 col4\" >4</td>\n",
       "      <td id=\"T_49f56_row6_col5\" class=\"data row6 col5\" >0</td>\n",
       "      <td id=\"T_49f56_row6_col6\" class=\"data row6 col6\" >20</td>\n",
       "      <td id=\"T_49f56_row6_col7\" class=\"data row6 col7\" >211</td>\n",
       "      <td id=\"T_49f56_row6_col8\" class=\"data row6 col8\" >240</td>\n",
       "      <td id=\"T_49f56_row6_col9\" class=\"data row6 col9\" >49</td>\n",
       "      <td id=\"T_49f56_row6_col10\" class=\"data row6 col10\" >25</td>\n",
       "    </tr>\n",
       "    <tr>\n",
       "      <th id=\"T_49f56_level0_row7\" class=\"row_heading level0 row7\" >Sample Size >= 10</th>\n",
       "      <td id=\"T_49f56_row7_col0\" class=\"data row7 col0\" >0.8621</td>\n",
       "      <td id=\"T_49f56_row7_col1\" class=\"data row7 col1\" >1.0000</td>\n",
       "      <td id=\"T_49f56_row7_col2\" class=\"data row7 col2\" >0.925900</td>\n",
       "      <td id=\"T_49f56_row7_col3\" class=\"data row7 col3\" >25</td>\n",
       "      <td id=\"T_49f56_row7_col4\" class=\"data row7 col4\" >4</td>\n",
       "      <td id=\"T_49f56_row7_col5\" class=\"data row7 col5\" >0</td>\n",
       "      <td id=\"T_49f56_row7_col6\" class=\"data row7 col6\" >20</td>\n",
       "      <td id=\"T_49f56_row7_col7\" class=\"data row7 col7\" >203</td>\n",
       "      <td id=\"T_49f56_row7_col8\" class=\"data row7 col8\" >232</td>\n",
       "      <td id=\"T_49f56_row7_col9\" class=\"data row7 col9\" >49</td>\n",
       "      <td id=\"T_49f56_row7_col10\" class=\"data row7 col10\" >25</td>\n",
       "    </tr>\n",
       "    <tr>\n",
       "      <th id=\"T_49f56_level0_row8\" class=\"row_heading level0 row8\" >Sample Size >= 15</th>\n",
       "      <td id=\"T_49f56_row8_col0\" class=\"data row8 col0\" >0.8621</td>\n",
       "      <td id=\"T_49f56_row8_col1\" class=\"data row8 col1\" >1.0000</td>\n",
       "      <td id=\"T_49f56_row8_col2\" class=\"data row8 col2\" >0.925900</td>\n",
       "      <td id=\"T_49f56_row8_col3\" class=\"data row8 col3\" >25</td>\n",
       "      <td id=\"T_49f56_row8_col4\" class=\"data row8 col4\" >4</td>\n",
       "      <td id=\"T_49f56_row8_col5\" class=\"data row8 col5\" >0</td>\n",
       "      <td id=\"T_49f56_row8_col6\" class=\"data row8 col6\" >20</td>\n",
       "      <td id=\"T_49f56_row8_col7\" class=\"data row8 col7\" >193</td>\n",
       "      <td id=\"T_49f56_row8_col8\" class=\"data row8 col8\" >222</td>\n",
       "      <td id=\"T_49f56_row8_col9\" class=\"data row8 col9\" >49</td>\n",
       "      <td id=\"T_49f56_row8_col10\" class=\"data row8 col10\" >25</td>\n",
       "    </tr>\n",
       "    <tr>\n",
       "      <th id=\"T_49f56_level0_row9\" class=\"row_heading level0 row9\" >Known Intervention</th>\n",
       "      <td id=\"T_49f56_row9_col0\" class=\"data row9 col0\" >0.8571</td>\n",
       "      <td id=\"T_49f56_row9_col1\" class=\"data row9 col1\" >0.9600</td>\n",
       "      <td id=\"T_49f56_row9_col2\" class=\"data row9 col2\" >0.905700</td>\n",
       "      <td id=\"T_49f56_row9_col3\" class=\"data row9 col3\" >24</td>\n",
       "      <td id=\"T_49f56_row9_col4\" class=\"data row9 col4\" >4</td>\n",
       "      <td id=\"T_49f56_row9_col5\" class=\"data row9 col5\" >1</td>\n",
       "      <td id=\"T_49f56_row9_col6\" class=\"data row9 col6\" >20</td>\n",
       "      <td id=\"T_49f56_row9_col7\" class=\"data row9 col7\" >180</td>\n",
       "      <td id=\"T_49f56_row9_col8\" class=\"data row9 col8\" >208</td>\n",
       "      <td id=\"T_49f56_row9_col9\" class=\"data row9 col9\" >49</td>\n",
       "      <td id=\"T_49f56_row9_col10\" class=\"data row9 col10\" >25</td>\n",
       "    </tr>\n",
       "    <tr>\n",
       "      <th id=\"T_49f56_level0_row10\" class=\"row_heading level0 row10\" >Unknown Intervention</th>\n",
       "      <td id=\"T_49f56_row10_col0\" class=\"data row10 col0\" >0.8462</td>\n",
       "      <td id=\"T_49f56_row10_col1\" class=\"data row10 col1\" >0.4400</td>\n",
       "      <td id=\"T_49f56_row10_col2\" class=\"data row10 col2\" >0.578900</td>\n",
       "      <td id=\"T_49f56_row10_col3\" class=\"data row10 col3\" >11</td>\n",
       "      <td id=\"T_49f56_row10_col4\" class=\"data row10 col4\" >2</td>\n",
       "      <td id=\"T_49f56_row10_col5\" class=\"data row10 col5\" >14</td>\n",
       "      <td id=\"T_49f56_row10_col6\" class=\"data row10 col6\" >22</td>\n",
       "      <td id=\"T_49f56_row10_col7\" class=\"data row10 col7\" >115</td>\n",
       "      <td id=\"T_49f56_row10_col8\" class=\"data row10 col8\" >128</td>\n",
       "      <td id=\"T_49f56_row10_col9\" class=\"data row10 col9\" >49</td>\n",
       "      <td id=\"T_49f56_row10_col10\" class=\"data row10 col10\" >25</td>\n",
       "    </tr>\n",
       "    <tr>\n",
       "      <th id=\"T_49f56_level0_row11\" class=\"row_heading level0 row11\" >K+U Intervention</th>\n",
       "      <td id=\"T_49f56_row11_col0\" class=\"data row11 col0\" >0.8333</td>\n",
       "      <td id=\"T_49f56_row11_col1\" class=\"data row11 col1\" >0.4000</td>\n",
       "      <td id=\"T_49f56_row11_col2\" class=\"data row11 col2\" >0.540500</td>\n",
       "      <td id=\"T_49f56_row11_col3\" class=\"data row11 col3\" >10</td>\n",
       "      <td id=\"T_49f56_row11_col4\" class=\"data row11 col4\" >2</td>\n",
       "      <td id=\"T_49f56_row11_col5\" class=\"data row11 col5\" >15</td>\n",
       "      <td id=\"T_49f56_row11_col6\" class=\"data row11 col6\" >22</td>\n",
       "      <td id=\"T_49f56_row11_col7\" class=\"data row11 col7\" >93</td>\n",
       "      <td id=\"T_49f56_row11_col8\" class=\"data row11 col8\" >105</td>\n",
       "      <td id=\"T_49f56_row11_col9\" class=\"data row11 col9\" >49</td>\n",
       "      <td id=\"T_49f56_row11_col10\" class=\"data row11 col10\" >25</td>\n",
       "    </tr>\n",
       "    <tr>\n",
       "      <th id=\"T_49f56_level0_row12\" class=\"row_heading level0 row12\" >Significant Finding</th>\n",
       "      <td id=\"T_49f56_row12_col0\" class=\"data row12 col0\" >0.8421</td>\n",
       "      <td id=\"T_49f56_row12_col1\" class=\"data row12 col1\" >0.6400</td>\n",
       "      <td id=\"T_49f56_row12_col2\" class=\"data row12 col2\" >0.727300</td>\n",
       "      <td id=\"T_49f56_row12_col3\" class=\"data row12 col3\" >16</td>\n",
       "      <td id=\"T_49f56_row12_col4\" class=\"data row12 col4\" >3</td>\n",
       "      <td id=\"T_49f56_row12_col5\" class=\"data row12 col5\" >9</td>\n",
       "      <td id=\"T_49f56_row12_col6\" class=\"data row12 col6\" >21</td>\n",
       "      <td id=\"T_49f56_row12_col7\" class=\"data row12 col7\" >145</td>\n",
       "      <td id=\"T_49f56_row12_col8\" class=\"data row12 col8\" >164</td>\n",
       "      <td id=\"T_49f56_row12_col9\" class=\"data row12 col9\" >49</td>\n",
       "      <td id=\"T_49f56_row12_col10\" class=\"data row12 col10\" >25</td>\n",
       "    </tr>\n",
       "    <tr>\n",
       "      <th id=\"T_49f56_level0_row13\" class=\"row_heading level0 row13\" >No Significant Finding</th>\n",
       "      <td id=\"T_49f56_row13_col0\" class=\"data row13 col0\" >0.9000</td>\n",
       "      <td id=\"T_49f56_row13_col1\" class=\"data row13 col1\" >0.3600</td>\n",
       "      <td id=\"T_49f56_row13_col2\" class=\"data row13 col2\" >0.514300</td>\n",
       "      <td id=\"T_49f56_row13_col3\" class=\"data row13 col3\" >9</td>\n",
       "      <td id=\"T_49f56_row13_col4\" class=\"data row13 col4\" >1</td>\n",
       "      <td id=\"T_49f56_row13_col5\" class=\"data row13 col5\" >16</td>\n",
       "      <td id=\"T_49f56_row13_col6\" class=\"data row13 col6\" >23</td>\n",
       "      <td id=\"T_49f56_row13_col7\" class=\"data row13 col7\" >55</td>\n",
       "      <td id=\"T_49f56_row13_col8\" class=\"data row13 col8\" >65</td>\n",
       "      <td id=\"T_49f56_row13_col9\" class=\"data row13 col9\" >49</td>\n",
       "      <td id=\"T_49f56_row13_col10\" class=\"data row13 col10\" >25</td>\n",
       "    </tr>\n",
       "  </tbody>\n",
       "</table>\n"
      ],
      "text/plain": [
       "<pandas.io.formats.style.Styler at 0x7f12b92b3c70>"
      ]
     },
     "execution_count": 27,
     "metadata": {},
     "output_type": "execute_result"
    }
   ],
   "source": [
    "highlight_metrics(\n",
    "    metrics_to_df(metrics[\"Only RCTs\"], drop_zero_tp=False).head(len(FILTERS_RETRIEVED))\n",
    ")"
   ]
  },
  {
   "cell_type": "code",
   "execution_count": 28,
   "metadata": {
    "tags": []
   },
   "outputs": [
    {
     "name": "stdout",
     "output_type": "stream",
     "text": [
      "Evaluating screened document subset 'All'\n"
     ]
    },
    {
     "data": {
      "application/vnd.jupyter.widget-view+json": {
       "model_id": "c6c866ef91f34e0bb40188d3b244dee3",
       "version_major": 2,
       "version_minor": 0
      },
      "text/plain": [
       "Evaluating filter combinations:   0%|          | 0/12 [00:00<?, ?it/s]"
      ]
     },
     "metadata": {},
     "output_type": "display_data"
    },
    {
     "name": "stdout",
     "output_type": "stream",
     "text": [
      "Evaluating screened document subset 'Only RCTs'\n"
     ]
    },
    {
     "data": {
      "application/vnd.jupyter.widget-view+json": {
       "model_id": "b7a3a27b7bef4207afc363fb5763e386",
       "version_major": 2,
       "version_minor": 0
      },
      "text/plain": [
       "Evaluating filter combinations:   0%|          | 0/12 [00:00<?, ?it/s]"
      ]
     },
     "metadata": {},
     "output_type": "display_data"
    },
    {
     "data": {
      "text/html": [
       "<style type=\"text/css\">\n",
       "#T_4e149_row0_col1, #T_4e149_row0_col2, #T_4e149_row0_col3, #T_4e149_row0_col5, #T_4e149_row2_col0, #T_4e149_row2_col4 {\n",
       "  font-weight: bold;\n",
       "}\n",
       "</style>\n",
       "<table id=\"T_4e149\">\n",
       "  <thead>\n",
       "    <tr>\n",
       "      <th class=\"blank\" >&nbsp;</th>\n",
       "      <th class=\"blank\" >&nbsp;</th>\n",
       "      <th class=\"blank\" >&nbsp;</th>\n",
       "      <th class=\"blank\" >&nbsp;</th>\n",
       "      <th class=\"blank\" >&nbsp;</th>\n",
       "      <th class=\"blank level0\" >&nbsp;</th>\n",
       "      <th id=\"T_4e149_level0_col0\" class=\"col_heading level0 col0\" >Prec.</th>\n",
       "      <th id=\"T_4e149_level0_col1\" class=\"col_heading level0 col1\" >Rec.</th>\n",
       "      <th id=\"T_4e149_level0_col2\" class=\"col_heading level0 col2\" >$F_1$</th>\n",
       "      <th id=\"T_4e149_level0_col3\" class=\"col_heading level0 col3\" >TP</th>\n",
       "      <th id=\"T_4e149_level0_col4\" class=\"col_heading level0 col4\" >FP</th>\n",
       "      <th id=\"T_4e149_level0_col5\" class=\"col_heading level0 col5\" >FN</th>\n",
       "      <th id=\"T_4e149_level0_col6\" class=\"col_heading level0 col6\" >TN</th>\n",
       "      <th id=\"T_4e149_level0_col7\" class=\"col_heading level0 col7\" >?</th>\n",
       "      <th id=\"T_4e149_level0_col8\" class=\"col_heading level0 col8\" >Retr.</th>\n",
       "      <th id=\"T_4e149_level0_col9\" class=\"col_heading level0 col9\" >Scr.</th>\n",
       "      <th id=\"T_4e149_level0_col10\" class=\"col_heading level0 col10\" >Rel.</th>\n",
       "    </tr>\n",
       "  </thead>\n",
       "  <tbody>\n",
       "    <tr>\n",
       "      <th id=\"T_4e149_level0_row0\" class=\"row_heading level0 row0\" rowspan=\"3\">RCTs</th>\n",
       "      <th id=\"T_4e149_level1_row0\" class=\"row_heading level1 row0\" ></th>\n",
       "      <th id=\"T_4e149_level2_row0\" class=\"row_heading level2 row0\" ></th>\n",
       "      <th id=\"T_4e149_level3_row0\" class=\"row_heading level3 row0\" ></th>\n",
       "      <th id=\"T_4e149_level4_row0\" class=\"row_heading level4 row0\" ></th>\n",
       "      <th id=\"T_4e149_level5_row0\" class=\"row_heading level5 row0\" ></th>\n",
       "      <td id=\"T_4e149_row0_col0\" class=\"data row0 col0\" >0.862100</td>\n",
       "      <td id=\"T_4e149_row0_col1\" class=\"data row0 col1\" >1.000000</td>\n",
       "      <td id=\"T_4e149_row0_col2\" class=\"data row0 col2\" >0.925900</td>\n",
       "      <td id=\"T_4e149_row0_col3\" class=\"data row0 col3\" >25</td>\n",
       "      <td id=\"T_4e149_row0_col4\" class=\"data row0 col4\" >4</td>\n",
       "      <td id=\"T_4e149_row0_col5\" class=\"data row0 col5\" >0</td>\n",
       "      <td id=\"T_4e149_row0_col6\" class=\"data row0 col6\" >20</td>\n",
       "      <td id=\"T_4e149_row0_col7\" class=\"data row0 col7\" >58</td>\n",
       "      <td id=\"T_4e149_row0_col8\" class=\"data row0 col8\" >87</td>\n",
       "      <td id=\"T_4e149_row0_col9\" class=\"data row0 col9\" >49</td>\n",
       "      <td id=\"T_4e149_row0_col10\" class=\"data row0 col10\" >25</td>\n",
       "    </tr>\n",
       "    <tr>\n",
       "      <th id=\"T_4e149_level1_row1\" class=\"row_heading level1 row1\" rowspan=\"2\">Abstr., NC</th>\n",
       "      <th id=\"T_4e149_level2_row1\" class=\"row_heading level2 row1\" ></th>\n",
       "      <th id=\"T_4e149_level3_row1\" class=\"row_heading level3 row1\" ></th>\n",
       "      <th id=\"T_4e149_level4_row1\" class=\"row_heading level4 row1\" ></th>\n",
       "      <th id=\"T_4e149_level5_row1\" class=\"row_heading level5 row1\" ></th>\n",
       "      <td id=\"T_4e149_row1_col0\" class=\"data row1 col0\" >0.857100</td>\n",
       "      <td id=\"T_4e149_row1_col1\" class=\"data row1 col1\" >0.960000</td>\n",
       "      <td id=\"T_4e149_row1_col2\" class=\"data row1 col2\" >0.905700</td>\n",
       "      <td id=\"T_4e149_row1_col3\" class=\"data row1 col3\" >24</td>\n",
       "      <td id=\"T_4e149_row1_col4\" class=\"data row1 col4\" >4</td>\n",
       "      <td id=\"T_4e149_row1_col5\" class=\"data row1 col5\" >1</td>\n",
       "      <td id=\"T_4e149_row1_col6\" class=\"data row1 col6\" >20</td>\n",
       "      <td id=\"T_4e149_row1_col7\" class=\"data row1 col7\" >41</td>\n",
       "      <td id=\"T_4e149_row1_col8\" class=\"data row1 col8\" >69</td>\n",
       "      <td id=\"T_4e149_row1_col9\" class=\"data row1 col9\" >49</td>\n",
       "      <td id=\"T_4e149_row1_col10\" class=\"data row1 col10\" >25</td>\n",
       "    </tr>\n",
       "    <tr>\n",
       "      <th id=\"T_4e149_level2_row2\" class=\"row_heading level2 row2\" >Phase >= 2</th>\n",
       "      <th id=\"T_4e149_level3_row2\" class=\"row_heading level3 row2\" ></th>\n",
       "      <th id=\"T_4e149_level4_row2\" class=\"row_heading level4 row2\" ></th>\n",
       "      <th id=\"T_4e149_level5_row2\" class=\"row_heading level5 row2\" ></th>\n",
       "      <td id=\"T_4e149_row2_col0\" class=\"data row2 col0\" >0.900000</td>\n",
       "      <td id=\"T_4e149_row2_col1\" class=\"data row2 col1\" >0.720000</td>\n",
       "      <td id=\"T_4e149_row2_col2\" class=\"data row2 col2\" >0.800000</td>\n",
       "      <td id=\"T_4e149_row2_col3\" class=\"data row2 col3\" >18</td>\n",
       "      <td id=\"T_4e149_row2_col4\" class=\"data row2 col4\" >2</td>\n",
       "      <td id=\"T_4e149_row2_col5\" class=\"data row2 col5\" >7</td>\n",
       "      <td id=\"T_4e149_row2_col6\" class=\"data row2 col6\" >22</td>\n",
       "      <td id=\"T_4e149_row2_col7\" class=\"data row2 col7\" >20</td>\n",
       "      <td id=\"T_4e149_row2_col8\" class=\"data row2 col8\" >40</td>\n",
       "      <td id=\"T_4e149_row2_col9\" class=\"data row2 col9\" >49</td>\n",
       "      <td id=\"T_4e149_row2_col10\" class=\"data row2 col10\" >25</td>\n",
       "    </tr>\n",
       "  </tbody>\n",
       "</table>\n"
      ],
      "text/plain": [
       "<pandas.io.formats.style.Styler at 0x7f12b70d00d0>"
      ]
     },
     "execution_count": 28,
     "metadata": {},
     "output_type": "execute_result"
    }
   ],
   "source": [
    "from evaluation.metrics import build_filter_combinations_table\n",
    "\n",
    "combinations_table, metrics_combinations = build_filter_combinations_table(\n",
    "    df_retrieved=df_r,\n",
    "    df_screened=df_s_with_ggponc.query(\"screening_origin == 'original'\"),\n",
    "    latex_output_path=PATH_LATEX_TABLE_OUTPUT / \"final_metrics_original_only.tex\",\n",
    "    stop_at_line=3,\n",
    "    overwrite_latex_output=OVERWRITE_LATEX_OUTPUT,\n",
    "    use_abbreviations=True,\n",
    "    column_format=\"llllllS[table-format=1.2]S[table-format=1.2]S[table-format=1.2]S[table-format=2]S[table-format=3]S[table-format=1]S[table-format=3]S[table-format=2]S[table-format=3]\",\n",
    ")\n",
    "\n",
    "highlight_metrics(combinations_table)"
   ]
  },
  {
   "cell_type": "markdown",
   "metadata": {},
   "source": [
    "### Including Results of Manual Review"
   ]
  },
  {
   "cell_type": "code",
   "execution_count": 29,
   "metadata": {
    "tags": []
   },
   "outputs": [
    {
     "name": "stdout",
     "output_type": "stream",
     "text": [
      "Evaluating screened document subset 'All'\n"
     ]
    },
    {
     "data": {
      "application/vnd.jupyter.widget-view+json": {
       "model_id": "0240fd4055fe4cb590a69d90b38fcd72",
       "version_major": 2,
       "version_minor": 0
      },
      "text/plain": [
       "Evaluating filter combinations:   0%|          | 0/14 [00:00<?, ?it/s]"
      ]
     },
     "metadata": {},
     "output_type": "display_data"
    },
    {
     "name": "stdout",
     "output_type": "stream",
     "text": [
      "Evaluating screened document subset 'Only RCTs'\n"
     ]
    },
    {
     "data": {
      "application/vnd.jupyter.widget-view+json": {
       "model_id": "3d0b71745ffb421686fc4022841cde7d",
       "version_major": 2,
       "version_minor": 0
      },
      "text/plain": [
       "Evaluating filter combinations:   0%|          | 0/14 [00:00<?, ?it/s]"
      ]
     },
     "metadata": {},
     "output_type": "display_data"
    }
   ],
   "source": [
    "metrics_w_manual = run_evaluation(\n",
    "    df_s_with_ggponc,\n",
    "    df_r,\n",
    "    filters_screened=FILTERS_SCREENED,\n",
    "    filters_retrieved=FILTERS_RETRIEVED,\n",
    "    col_id=\"pm_id\",\n",
    "    col_relevant=\"is_relevant\",\n",
    "    compute_combinations=False,\n",
    ")"
   ]
  },
  {
   "cell_type": "markdown",
   "metadata": {},
   "source": [
    "#### All"
   ]
  },
  {
   "cell_type": "code",
   "execution_count": 30,
   "metadata": {
    "tags": []
   },
   "outputs": [
    {
     "data": {
      "image/png": "[encoded data removed]",
      "text/plain": [
       "<Figure size 551.181x340.649 with 1 Axes>"
      ]
     },
     "metadata": {},
     "output_type": "display_data"
    }
   ],
   "source": [
    "draw_venn_rsi(\n",
    "    title=\"All\",\n",
    "    ids_retrieved=metrics_w_manual[\"All\"][\"All\"][\"ids_retrieved\"],\n",
    "    ids_screened=metrics_w_manual[\"All\"][\"All\"][\"ids_screened\"],\n",
    "    ids_screened_relevant=metrics_w_manual[\"All\"][\"All\"][\"ids_screened_relevant\"],\n",
    "    add_pn_labels=True,\n",
    ");"
   ]
  },
  {
   "cell_type": "code",
   "execution_count": 31,
   "metadata": {
    "tags": []
   },
   "outputs": [
    {
     "data": {
      "text/html": [
       "<style type=\"text/css\">\n",
       "#T_2c3ff_row0_col1, #T_2c3ff_row0_col2, #T_2c3ff_row0_col3, #T_2c3ff_row0_col5, #T_2c3ff_row2_col1, #T_2c3ff_row2_col2, #T_2c3ff_row2_col3, #T_2c3ff_row2_col5, #T_2c3ff_row5_col0, #T_2c3ff_row5_col4 {\n",
       "  font-weight: bold;\n",
       "}\n",
       "</style>\n",
       "<table id=\"T_2c3ff\">\n",
       "  <thead>\n",
       "    <tr>\n",
       "      <th class=\"blank level0\" >&nbsp;</th>\n",
       "      <th id=\"T_2c3ff_level0_col0\" class=\"col_heading level0 col0\" >Precision</th>\n",
       "      <th id=\"T_2c3ff_level0_col1\" class=\"col_heading level0 col1\" >Recall</th>\n",
       "      <th id=\"T_2c3ff_level0_col2\" class=\"col_heading level0 col2\" >$F_1$</th>\n",
       "      <th id=\"T_2c3ff_level0_col3\" class=\"col_heading level0 col3\" >TP</th>\n",
       "      <th id=\"T_2c3ff_level0_col4\" class=\"col_heading level0 col4\" >FP</th>\n",
       "      <th id=\"T_2c3ff_level0_col5\" class=\"col_heading level0 col5\" >FN</th>\n",
       "      <th id=\"T_2c3ff_level0_col6\" class=\"col_heading level0 col6\" >TN</th>\n",
       "      <th id=\"T_2c3ff_level0_col7\" class=\"col_heading level0 col7\" >?</th>\n",
       "      <th id=\"T_2c3ff_level0_col8\" class=\"col_heading level0 col8\" >Retrieved</th>\n",
       "      <th id=\"T_2c3ff_level0_col9\" class=\"col_heading level0 col9\" >Screened</th>\n",
       "      <th id=\"T_2c3ff_level0_col10\" class=\"col_heading level0 col10\" >Relevant</th>\n",
       "    </tr>\n",
       "  </thead>\n",
       "  <tbody>\n",
       "    <tr>\n",
       "      <th id=\"T_2c3ff_level0_row0\" class=\"row_heading level0 row0\" >All</th>\n",
       "      <td id=\"T_2c3ff_row0_col0\" class=\"data row0 col0\" >0.7973</td>\n",
       "      <td id=\"T_2c3ff_row0_col1\" class=\"data row0 col1\" >0.6860</td>\n",
       "      <td id=\"T_2c3ff_row0_col2\" class=\"data row0 col2\" >0.737500</td>\n",
       "      <td id=\"T_2c3ff_row0_col3\" class=\"data row0 col3\" >59</td>\n",
       "      <td id=\"T_2c3ff_row0_col4\" class=\"data row0 col4\" >15</td>\n",
       "      <td id=\"T_2c3ff_row0_col5\" class=\"data row0 col5\" >27</td>\n",
       "      <td id=\"T_2c3ff_row0_col6\" class=\"data row0 col6\" >91</td>\n",
       "      <td id=\"T_2c3ff_row0_col7\" class=\"data row0 col7\" >177</td>\n",
       "      <td id=\"T_2c3ff_row0_col8\" class=\"data row0 col8\" >251</td>\n",
       "      <td id=\"T_2c3ff_row0_col9\" class=\"data row0 col9\" >192</td>\n",
       "      <td id=\"T_2c3ff_row0_col10\" class=\"data row0 col10\" >86</td>\n",
       "    </tr>\n",
       "    <tr>\n",
       "      <th id=\"T_2c3ff_level0_row1\" class=\"row_heading level0 row1\" >Is RCT</th>\n",
       "      <td id=\"T_2c3ff_row1_col0\" class=\"data row1 col0\" >0.7273</td>\n",
       "      <td id=\"T_2c3ff_row1_col1\" class=\"data row1 col1\" >0.4651</td>\n",
       "      <td id=\"T_2c3ff_row1_col2\" class=\"data row1 col2\" >0.567400</td>\n",
       "      <td id=\"T_2c3ff_row1_col3\" class=\"data row1 col3\" >40</td>\n",
       "      <td id=\"T_2c3ff_row1_col4\" class=\"data row1 col4\" >15</td>\n",
       "      <td id=\"T_2c3ff_row1_col5\" class=\"data row1 col5\" >46</td>\n",
       "      <td id=\"T_2c3ff_row1_col6\" class=\"data row1 col6\" >91</td>\n",
       "      <td id=\"T_2c3ff_row1_col7\" class=\"data row1 col7\" >32</td>\n",
       "      <td id=\"T_2c3ff_row1_col8\" class=\"data row1 col8\" >87</td>\n",
       "      <td id=\"T_2c3ff_row1_col9\" class=\"data row1 col9\" >192</td>\n",
       "      <td id=\"T_2c3ff_row1_col10\" class=\"data row1 col10\" >86</td>\n",
       "    </tr>\n",
       "    <tr>\n",
       "      <th id=\"T_2c3ff_level0_row2\" class=\"row_heading level0 row2\" >Non-empty Abstract</th>\n",
       "      <td id=\"T_2c3ff_row2_col0\" class=\"data row2 col0\" >0.7973</td>\n",
       "      <td id=\"T_2c3ff_row2_col1\" class=\"data row2 col1\" >0.6860</td>\n",
       "      <td id=\"T_2c3ff_row2_col2\" class=\"data row2 col2\" >0.737500</td>\n",
       "      <td id=\"T_2c3ff_row2_col3\" class=\"data row2 col3\" >59</td>\n",
       "      <td id=\"T_2c3ff_row2_col4\" class=\"data row2 col4\" >15</td>\n",
       "      <td id=\"T_2c3ff_row2_col5\" class=\"data row2 col5\" >27</td>\n",
       "      <td id=\"T_2c3ff_row2_col6\" class=\"data row2 col6\" >91</td>\n",
       "      <td id=\"T_2c3ff_row2_col7\" class=\"data row2 col7\" >155</td>\n",
       "      <td id=\"T_2c3ff_row2_col8\" class=\"data row2 col8\" >229</td>\n",
       "      <td id=\"T_2c3ff_row2_col9\" class=\"data row2 col9\" >192</td>\n",
       "      <td id=\"T_2c3ff_row2_col10\" class=\"data row2 col10\" >86</td>\n",
       "    </tr>\n",
       "    <tr>\n",
       "      <th id=\"T_2c3ff_level0_row3\" class=\"row_heading level0 row3\" >Non-pediatric population</th>\n",
       "      <td id=\"T_2c3ff_row3_col0\" class=\"data row3 col0\" >0.8209</td>\n",
       "      <td id=\"T_2c3ff_row3_col1\" class=\"data row3 col1\" >0.6395</td>\n",
       "      <td id=\"T_2c3ff_row3_col2\" class=\"data row3 col2\" >0.719000</td>\n",
       "      <td id=\"T_2c3ff_row3_col3\" class=\"data row3 col3\" >55</td>\n",
       "      <td id=\"T_2c3ff_row3_col4\" class=\"data row3 col4\" >12</td>\n",
       "      <td id=\"T_2c3ff_row3_col5\" class=\"data row3 col5\" >31</td>\n",
       "      <td id=\"T_2c3ff_row3_col6\" class=\"data row3 col6\" >94</td>\n",
       "      <td id=\"T_2c3ff_row3_col7\" class=\"data row3 col7\" >156</td>\n",
       "      <td id=\"T_2c3ff_row3_col8\" class=\"data row3 col8\" >223</td>\n",
       "      <td id=\"T_2c3ff_row3_col9\" class=\"data row3 col9\" >192</td>\n",
       "      <td id=\"T_2c3ff_row3_col10\" class=\"data row3 col10\" >86</td>\n",
       "    </tr>\n",
       "    <tr>\n",
       "      <th id=\"T_2c3ff_level0_row4\" class=\"row_heading level0 row4\" >Phase >= 2</th>\n",
       "      <td id=\"T_2c3ff_row4_col0\" class=\"data row4 col0\" >0.7636</td>\n",
       "      <td id=\"T_2c3ff_row4_col1\" class=\"data row4 col1\" >0.4884</td>\n",
       "      <td id=\"T_2c3ff_row4_col2\" class=\"data row4 col2\" >0.595700</td>\n",
       "      <td id=\"T_2c3ff_row4_col3\" class=\"data row4 col3\" >42</td>\n",
       "      <td id=\"T_2c3ff_row4_col4\" class=\"data row4 col4\" >13</td>\n",
       "      <td id=\"T_2c3ff_row4_col5\" class=\"data row4 col5\" >44</td>\n",
       "      <td id=\"T_2c3ff_row4_col6\" class=\"data row4 col6\" >93</td>\n",
       "      <td id=\"T_2c3ff_row4_col7\" class=\"data row4 col7\" >111</td>\n",
       "      <td id=\"T_2c3ff_row4_col8\" class=\"data row4 col8\" >166</td>\n",
       "      <td id=\"T_2c3ff_row4_col9\" class=\"data row4 col9\" >192</td>\n",
       "      <td id=\"T_2c3ff_row4_col10\" class=\"data row4 col10\" >86</td>\n",
       "    </tr>\n",
       "    <tr>\n",
       "      <th id=\"T_2c3ff_level0_row5\" class=\"row_heading level0 row5\" >Phase >= 3</th>\n",
       "      <td id=\"T_2c3ff_row5_col0\" class=\"data row5 col0\" >0.8788</td>\n",
       "      <td id=\"T_2c3ff_row5_col1\" class=\"data row5 col1\" >0.3372</td>\n",
       "      <td id=\"T_2c3ff_row5_col2\" class=\"data row5 col2\" >0.487400</td>\n",
       "      <td id=\"T_2c3ff_row5_col3\" class=\"data row5 col3\" >29</td>\n",
       "      <td id=\"T_2c3ff_row5_col4\" class=\"data row5 col4\" >4</td>\n",
       "      <td id=\"T_2c3ff_row5_col5\" class=\"data row5 col5\" >57</td>\n",
       "      <td id=\"T_2c3ff_row5_col6\" class=\"data row5 col6\" >102</td>\n",
       "      <td id=\"T_2c3ff_row5_col7\" class=\"data row5 col7\" >13</td>\n",
       "      <td id=\"T_2c3ff_row5_col8\" class=\"data row5 col8\" >46</td>\n",
       "      <td id=\"T_2c3ff_row5_col9\" class=\"data row5 col9\" >192</td>\n",
       "      <td id=\"T_2c3ff_row5_col10\" class=\"data row5 col10\" >86</td>\n",
       "    </tr>\n",
       "    <tr>\n",
       "      <th id=\"T_2c3ff_level0_row6\" class=\"row_heading level0 row6\" >Sample Size >= 5</th>\n",
       "      <td id=\"T_2c3ff_row6_col0\" class=\"data row6 col0\" >0.7945</td>\n",
       "      <td id=\"T_2c3ff_row6_col1\" class=\"data row6 col1\" >0.6744</td>\n",
       "      <td id=\"T_2c3ff_row6_col2\" class=\"data row6 col2\" >0.729600</td>\n",
       "      <td id=\"T_2c3ff_row6_col3\" class=\"data row6 col3\" >58</td>\n",
       "      <td id=\"T_2c3ff_row6_col4\" class=\"data row6 col4\" >15</td>\n",
       "      <td id=\"T_2c3ff_row6_col5\" class=\"data row6 col5\" >28</td>\n",
       "      <td id=\"T_2c3ff_row6_col6\" class=\"data row6 col6\" >91</td>\n",
       "      <td id=\"T_2c3ff_row6_col7\" class=\"data row6 col7\" >167</td>\n",
       "      <td id=\"T_2c3ff_row6_col8\" class=\"data row6 col8\" >240</td>\n",
       "      <td id=\"T_2c3ff_row6_col9\" class=\"data row6 col9\" >192</td>\n",
       "      <td id=\"T_2c3ff_row6_col10\" class=\"data row6 col10\" >86</td>\n",
       "    </tr>\n",
       "    <tr>\n",
       "      <th id=\"T_2c3ff_level0_row7\" class=\"row_heading level0 row7\" >Sample Size >= 10</th>\n",
       "      <td id=\"T_2c3ff_row7_col0\" class=\"data row7 col0\" >0.7887</td>\n",
       "      <td id=\"T_2c3ff_row7_col1\" class=\"data row7 col1\" >0.6512</td>\n",
       "      <td id=\"T_2c3ff_row7_col2\" class=\"data row7 col2\" >0.713400</td>\n",
       "      <td id=\"T_2c3ff_row7_col3\" class=\"data row7 col3\" >56</td>\n",
       "      <td id=\"T_2c3ff_row7_col4\" class=\"data row7 col4\" >15</td>\n",
       "      <td id=\"T_2c3ff_row7_col5\" class=\"data row7 col5\" >30</td>\n",
       "      <td id=\"T_2c3ff_row7_col6\" class=\"data row7 col6\" >91</td>\n",
       "      <td id=\"T_2c3ff_row7_col7\" class=\"data row7 col7\" >161</td>\n",
       "      <td id=\"T_2c3ff_row7_col8\" class=\"data row7 col8\" >232</td>\n",
       "      <td id=\"T_2c3ff_row7_col9\" class=\"data row7 col9\" >192</td>\n",
       "      <td id=\"T_2c3ff_row7_col10\" class=\"data row7 col10\" >86</td>\n",
       "    </tr>\n",
       "    <tr>\n",
       "      <th id=\"T_2c3ff_level0_row8\" class=\"row_heading level0 row8\" >Sample Size >= 15</th>\n",
       "      <td id=\"T_2c3ff_row8_col0\" class=\"data row8 col0\" >0.7857</td>\n",
       "      <td id=\"T_2c3ff_row8_col1\" class=\"data row8 col1\" >0.6395</td>\n",
       "      <td id=\"T_2c3ff_row8_col2\" class=\"data row8 col2\" >0.705100</td>\n",
       "      <td id=\"T_2c3ff_row8_col3\" class=\"data row8 col3\" >55</td>\n",
       "      <td id=\"T_2c3ff_row8_col4\" class=\"data row8 col4\" >15</td>\n",
       "      <td id=\"T_2c3ff_row8_col5\" class=\"data row8 col5\" >31</td>\n",
       "      <td id=\"T_2c3ff_row8_col6\" class=\"data row8 col6\" >91</td>\n",
       "      <td id=\"T_2c3ff_row8_col7\" class=\"data row8 col7\" >152</td>\n",
       "      <td id=\"T_2c3ff_row8_col8\" class=\"data row8 col8\" >222</td>\n",
       "      <td id=\"T_2c3ff_row8_col9\" class=\"data row8 col9\" >192</td>\n",
       "      <td id=\"T_2c3ff_row8_col10\" class=\"data row8 col10\" >86</td>\n",
       "    </tr>\n",
       "    <tr>\n",
       "      <th id=\"T_2c3ff_level0_row9\" class=\"row_heading level0 row9\" >Known Intervention</th>\n",
       "      <td id=\"T_2c3ff_row9_col0\" class=\"data row9 col0\" >0.7917</td>\n",
       "      <td id=\"T_2c3ff_row9_col1\" class=\"data row9 col1\" >0.6628</td>\n",
       "      <td id=\"T_2c3ff_row9_col2\" class=\"data row9 col2\" >0.721500</td>\n",
       "      <td id=\"T_2c3ff_row9_col3\" class=\"data row9 col3\" >57</td>\n",
       "      <td id=\"T_2c3ff_row9_col4\" class=\"data row9 col4\" >15</td>\n",
       "      <td id=\"T_2c3ff_row9_col5\" class=\"data row9 col5\" >29</td>\n",
       "      <td id=\"T_2c3ff_row9_col6\" class=\"data row9 col6\" >91</td>\n",
       "      <td id=\"T_2c3ff_row9_col7\" class=\"data row9 col7\" >136</td>\n",
       "      <td id=\"T_2c3ff_row9_col8\" class=\"data row9 col8\" >208</td>\n",
       "      <td id=\"T_2c3ff_row9_col9\" class=\"data row9 col9\" >192</td>\n",
       "      <td id=\"T_2c3ff_row9_col10\" class=\"data row9 col10\" >86</td>\n",
       "    </tr>\n",
       "    <tr>\n",
       "      <th id=\"T_2c3ff_level0_row10\" class=\"row_heading level0 row10\" >Unknown Intervention</th>\n",
       "      <td id=\"T_2c3ff_row10_col0\" class=\"data row10 col0\" >0.8333</td>\n",
       "      <td id=\"T_2c3ff_row10_col1\" class=\"data row10 col1\" >0.2907</td>\n",
       "      <td id=\"T_2c3ff_row10_col2\" class=\"data row10 col2\" >0.431000</td>\n",
       "      <td id=\"T_2c3ff_row10_col3\" class=\"data row10 col3\" >25</td>\n",
       "      <td id=\"T_2c3ff_row10_col4\" class=\"data row10 col4\" >5</td>\n",
       "      <td id=\"T_2c3ff_row10_col5\" class=\"data row10 col5\" >61</td>\n",
       "      <td id=\"T_2c3ff_row10_col6\" class=\"data row10 col6\" >101</td>\n",
       "      <td id=\"T_2c3ff_row10_col7\" class=\"data row10 col7\" >98</td>\n",
       "      <td id=\"T_2c3ff_row10_col8\" class=\"data row10 col8\" >128</td>\n",
       "      <td id=\"T_2c3ff_row10_col9\" class=\"data row10 col9\" >192</td>\n",
       "      <td id=\"T_2c3ff_row10_col10\" class=\"data row10 col10\" >86</td>\n",
       "    </tr>\n",
       "    <tr>\n",
       "      <th id=\"T_2c3ff_level0_row11\" class=\"row_heading level0 row11\" >K+U Intervention</th>\n",
       "      <td id=\"T_2c3ff_row11_col0\" class=\"data row11 col0\" >0.8276</td>\n",
       "      <td id=\"T_2c3ff_row11_col1\" class=\"data row11 col1\" >0.2791</td>\n",
       "      <td id=\"T_2c3ff_row11_col2\" class=\"data row11 col2\" >0.417400</td>\n",
       "      <td id=\"T_2c3ff_row11_col3\" class=\"data row11 col3\" >24</td>\n",
       "      <td id=\"T_2c3ff_row11_col4\" class=\"data row11 col4\" >5</td>\n",
       "      <td id=\"T_2c3ff_row11_col5\" class=\"data row11 col5\" >62</td>\n",
       "      <td id=\"T_2c3ff_row11_col6\" class=\"data row11 col6\" >101</td>\n",
       "      <td id=\"T_2c3ff_row11_col7\" class=\"data row11 col7\" >76</td>\n",
       "      <td id=\"T_2c3ff_row11_col8\" class=\"data row11 col8\" >105</td>\n",
       "      <td id=\"T_2c3ff_row11_col9\" class=\"data row11 col9\" >192</td>\n",
       "      <td id=\"T_2c3ff_row11_col10\" class=\"data row11 col10\" >86</td>\n",
       "    </tr>\n",
       "    <tr>\n",
       "      <th id=\"T_2c3ff_level0_row12\" class=\"row_heading level0 row12\" >Significant Finding</th>\n",
       "      <td id=\"T_2c3ff_row12_col0\" class=\"data row12 col0\" >0.7561</td>\n",
       "      <td id=\"T_2c3ff_row12_col1\" class=\"data row12 col1\" >0.3605</td>\n",
       "      <td id=\"T_2c3ff_row12_col2\" class=\"data row12 col2\" >0.488200</td>\n",
       "      <td id=\"T_2c3ff_row12_col3\" class=\"data row12 col3\" >31</td>\n",
       "      <td id=\"T_2c3ff_row12_col4\" class=\"data row12 col4\" >10</td>\n",
       "      <td id=\"T_2c3ff_row12_col5\" class=\"data row12 col5\" >55</td>\n",
       "      <td id=\"T_2c3ff_row12_col6\" class=\"data row12 col6\" >96</td>\n",
       "      <td id=\"T_2c3ff_row12_col7\" class=\"data row12 col7\" >123</td>\n",
       "      <td id=\"T_2c3ff_row12_col8\" class=\"data row12 col8\" >164</td>\n",
       "      <td id=\"T_2c3ff_row12_col9\" class=\"data row12 col9\" >192</td>\n",
       "      <td id=\"T_2c3ff_row12_col10\" class=\"data row12 col10\" >86</td>\n",
       "    </tr>\n",
       "    <tr>\n",
       "      <th id=\"T_2c3ff_level0_row13\" class=\"row_heading level0 row13\" >No Significant Finding</th>\n",
       "      <td id=\"T_2c3ff_row13_col0\" class=\"data row13 col0\" >0.8485</td>\n",
       "      <td id=\"T_2c3ff_row13_col1\" class=\"data row13 col1\" >0.3256</td>\n",
       "      <td id=\"T_2c3ff_row13_col2\" class=\"data row13 col2\" >0.470600</td>\n",
       "      <td id=\"T_2c3ff_row13_col3\" class=\"data row13 col3\" >28</td>\n",
       "      <td id=\"T_2c3ff_row13_col4\" class=\"data row13 col4\" >5</td>\n",
       "      <td id=\"T_2c3ff_row13_col5\" class=\"data row13 col5\" >58</td>\n",
       "      <td id=\"T_2c3ff_row13_col6\" class=\"data row13 col6\" >101</td>\n",
       "      <td id=\"T_2c3ff_row13_col7\" class=\"data row13 col7\" >32</td>\n",
       "      <td id=\"T_2c3ff_row13_col8\" class=\"data row13 col8\" >65</td>\n",
       "      <td id=\"T_2c3ff_row13_col9\" class=\"data row13 col9\" >192</td>\n",
       "      <td id=\"T_2c3ff_row13_col10\" class=\"data row13 col10\" >86</td>\n",
       "    </tr>\n",
       "  </tbody>\n",
       "</table>\n"
      ],
      "text/plain": [
       "<pandas.io.formats.style.Styler at 0x7f12b7099db0>"
      ]
     },
     "execution_count": 31,
     "metadata": {},
     "output_type": "execute_result"
    }
   ],
   "source": [
    "highlight_metrics(\n",
    "    metrics_to_df(metrics_w_manual[\"All\"], drop_zero_tp=False).head(\n",
    "        len(FILTERS_RETRIEVED)\n",
    "    )\n",
    ")"
   ]
  },
  {
   "cell_type": "markdown",
   "metadata": {},
   "source": [
    "#### RCTs only"
   ]
  },
  {
   "cell_type": "code",
   "execution_count": 32,
   "metadata": {
    "tags": []
   },
   "outputs": [
    {
     "data": {
      "image/png": "[encoded data removed]",
      "text/plain": [
       "<Figure size 551.181x340.649 with 1 Axes>"
      ]
     },
     "metadata": {},
     "output_type": "display_data"
    }
   ],
   "source": [
    "draw_venn_rsi(\n",
    "    title=\"RCTs only\",\n",
    "    ids_retrieved=metrics_w_manual[\"Only RCTs\"][\"Is RCT\"][\"ids_retrieved\"],\n",
    "    ids_screened=metrics_w_manual[\"Only RCTs\"][\"Is RCT\"][\"ids_screened\"],\n",
    "    ids_screened_relevant=metrics_w_manual[\"Only RCTs\"][\"Is RCT\"][\n",
    "        \"ids_screened_relevant\"\n",
    "    ],\n",
    "    add_pn_labels=True,\n",
    ");"
   ]
  },
  {
   "cell_type": "code",
   "execution_count": 33,
   "metadata": {
    "tags": []
   },
   "outputs": [
    {
     "data": {
      "text/html": [
       "<style type=\"text/css\">\n",
       "#T_84041_row0_col1, #T_84041_row0_col3, #T_84041_row0_col5, #T_84041_row1_col1, #T_84041_row1_col3, #T_84041_row1_col5, #T_84041_row2_col1, #T_84041_row2_col3, #T_84041_row2_col5, #T_84041_row3_col2, #T_84041_row5_col0, #T_84041_row5_col4, #T_84041_row6_col1, #T_84041_row6_col3, #T_84041_row6_col5, #T_84041_row7_col1, #T_84041_row7_col3, #T_84041_row7_col5, #T_84041_row8_col1, #T_84041_row8_col3, #T_84041_row8_col5 {\n",
       "  font-weight: bold;\n",
       "}\n",
       "</style>\n",
       "<table id=\"T_84041\">\n",
       "  <thead>\n",
       "    <tr>\n",
       "      <th class=\"blank level0\" >&nbsp;</th>\n",
       "      <th id=\"T_84041_level0_col0\" class=\"col_heading level0 col0\" >Precision</th>\n",
       "      <th id=\"T_84041_level0_col1\" class=\"col_heading level0 col1\" >Recall</th>\n",
       "      <th id=\"T_84041_level0_col2\" class=\"col_heading level0 col2\" >$F_1$</th>\n",
       "      <th id=\"T_84041_level0_col3\" class=\"col_heading level0 col3\" >TP</th>\n",
       "      <th id=\"T_84041_level0_col4\" class=\"col_heading level0 col4\" >FP</th>\n",
       "      <th id=\"T_84041_level0_col5\" class=\"col_heading level0 col5\" >FN</th>\n",
       "      <th id=\"T_84041_level0_col6\" class=\"col_heading level0 col6\" >TN</th>\n",
       "      <th id=\"T_84041_level0_col7\" class=\"col_heading level0 col7\" >?</th>\n",
       "      <th id=\"T_84041_level0_col8\" class=\"col_heading level0 col8\" >Retrieved</th>\n",
       "      <th id=\"T_84041_level0_col9\" class=\"col_heading level0 col9\" >Screened</th>\n",
       "      <th id=\"T_84041_level0_col10\" class=\"col_heading level0 col10\" >Relevant</th>\n",
       "    </tr>\n",
       "  </thead>\n",
       "  <tbody>\n",
       "    <tr>\n",
       "      <th id=\"T_84041_level0_row0\" class=\"row_heading level0 row0\" >All</th>\n",
       "      <td id=\"T_84041_row0_col0\" class=\"data row0 col0\" >0.7273</td>\n",
       "      <td id=\"T_84041_row0_col1\" class=\"data row0 col1\" >1.0000</td>\n",
       "      <td id=\"T_84041_row0_col2\" class=\"data row0 col2\" >0.842100</td>\n",
       "      <td id=\"T_84041_row0_col3\" class=\"data row0 col3\" >40</td>\n",
       "      <td id=\"T_84041_row0_col4\" class=\"data row0 col4\" >15</td>\n",
       "      <td id=\"T_84041_row0_col5\" class=\"data row0 col5\" >0</td>\n",
       "      <td id=\"T_84041_row0_col6\" class=\"data row0 col6\" >20</td>\n",
       "      <td id=\"T_84041_row0_col7\" class=\"data row0 col7\" >196</td>\n",
       "      <td id=\"T_84041_row0_col8\" class=\"data row0 col8\" >251</td>\n",
       "      <td id=\"T_84041_row0_col9\" class=\"data row0 col9\" >75</td>\n",
       "      <td id=\"T_84041_row0_col10\" class=\"data row0 col10\" >40</td>\n",
       "    </tr>\n",
       "    <tr>\n",
       "      <th id=\"T_84041_level0_row1\" class=\"row_heading level0 row1\" >Is RCT</th>\n",
       "      <td id=\"T_84041_row1_col0\" class=\"data row1 col0\" >0.7273</td>\n",
       "      <td id=\"T_84041_row1_col1\" class=\"data row1 col1\" >1.0000</td>\n",
       "      <td id=\"T_84041_row1_col2\" class=\"data row1 col2\" >0.842100</td>\n",
       "      <td id=\"T_84041_row1_col3\" class=\"data row1 col3\" >40</td>\n",
       "      <td id=\"T_84041_row1_col4\" class=\"data row1 col4\" >15</td>\n",
       "      <td id=\"T_84041_row1_col5\" class=\"data row1 col5\" >0</td>\n",
       "      <td id=\"T_84041_row1_col6\" class=\"data row1 col6\" >20</td>\n",
       "      <td id=\"T_84041_row1_col7\" class=\"data row1 col7\" >32</td>\n",
       "      <td id=\"T_84041_row1_col8\" class=\"data row1 col8\" >87</td>\n",
       "      <td id=\"T_84041_row1_col9\" class=\"data row1 col9\" >75</td>\n",
       "      <td id=\"T_84041_row1_col10\" class=\"data row1 col10\" >40</td>\n",
       "    </tr>\n",
       "    <tr>\n",
       "      <th id=\"T_84041_level0_row2\" class=\"row_heading level0 row2\" >Non-empty Abstract</th>\n",
       "      <td id=\"T_84041_row2_col0\" class=\"data row2 col0\" >0.7273</td>\n",
       "      <td id=\"T_84041_row2_col1\" class=\"data row2 col1\" >1.0000</td>\n",
       "      <td id=\"T_84041_row2_col2\" class=\"data row2 col2\" >0.842100</td>\n",
       "      <td id=\"T_84041_row2_col3\" class=\"data row2 col3\" >40</td>\n",
       "      <td id=\"T_84041_row2_col4\" class=\"data row2 col4\" >15</td>\n",
       "      <td id=\"T_84041_row2_col5\" class=\"data row2 col5\" >0</td>\n",
       "      <td id=\"T_84041_row2_col6\" class=\"data row2 col6\" >20</td>\n",
       "      <td id=\"T_84041_row2_col7\" class=\"data row2 col7\" >174</td>\n",
       "      <td id=\"T_84041_row2_col8\" class=\"data row2 col8\" >229</td>\n",
       "      <td id=\"T_84041_row2_col9\" class=\"data row2 col9\" >75</td>\n",
       "      <td id=\"T_84041_row2_col10\" class=\"data row2 col10\" >40</td>\n",
       "    </tr>\n",
       "    <tr>\n",
       "      <th id=\"T_84041_level0_row3\" class=\"row_heading level0 row3\" >Non-pediatric population</th>\n",
       "      <td id=\"T_84041_row3_col0\" class=\"data row3 col0\" >0.7600</td>\n",
       "      <td id=\"T_84041_row3_col1\" class=\"data row3 col1\" >0.9500</td>\n",
       "      <td id=\"T_84041_row3_col2\" class=\"data row3 col2\" >0.844400</td>\n",
       "      <td id=\"T_84041_row3_col3\" class=\"data row3 col3\" >38</td>\n",
       "      <td id=\"T_84041_row3_col4\" class=\"data row3 col4\" >12</td>\n",
       "      <td id=\"T_84041_row3_col5\" class=\"data row3 col5\" >2</td>\n",
       "      <td id=\"T_84041_row3_col6\" class=\"data row3 col6\" >23</td>\n",
       "      <td id=\"T_84041_row3_col7\" class=\"data row3 col7\" >173</td>\n",
       "      <td id=\"T_84041_row3_col8\" class=\"data row3 col8\" >223</td>\n",
       "      <td id=\"T_84041_row3_col9\" class=\"data row3 col9\" >75</td>\n",
       "      <td id=\"T_84041_row3_col10\" class=\"data row3 col10\" >40</td>\n",
       "    </tr>\n",
       "    <tr>\n",
       "      <th id=\"T_84041_level0_row4\" class=\"row_heading level0 row4\" >Phase >= 2</th>\n",
       "      <td id=\"T_84041_row4_col0\" class=\"data row4 col0\" >0.7111</td>\n",
       "      <td id=\"T_84041_row4_col1\" class=\"data row4 col1\" >0.8000</td>\n",
       "      <td id=\"T_84041_row4_col2\" class=\"data row4 col2\" >0.752900</td>\n",
       "      <td id=\"T_84041_row4_col3\" class=\"data row4 col3\" >32</td>\n",
       "      <td id=\"T_84041_row4_col4\" class=\"data row4 col4\" >13</td>\n",
       "      <td id=\"T_84041_row4_col5\" class=\"data row4 col5\" >8</td>\n",
       "      <td id=\"T_84041_row4_col6\" class=\"data row4 col6\" >22</td>\n",
       "      <td id=\"T_84041_row4_col7\" class=\"data row4 col7\" >121</td>\n",
       "      <td id=\"T_84041_row4_col8\" class=\"data row4 col8\" >166</td>\n",
       "      <td id=\"T_84041_row4_col9\" class=\"data row4 col9\" >75</td>\n",
       "      <td id=\"T_84041_row4_col10\" class=\"data row4 col10\" >40</td>\n",
       "    </tr>\n",
       "    <tr>\n",
       "      <th id=\"T_84041_level0_row5\" class=\"row_heading level0 row5\" >Phase >= 3</th>\n",
       "      <td id=\"T_84041_row5_col0\" class=\"data row5 col0\" >0.8571</td>\n",
       "      <td id=\"T_84041_row5_col1\" class=\"data row5 col1\" >0.6000</td>\n",
       "      <td id=\"T_84041_row5_col2\" class=\"data row5 col2\" >0.705900</td>\n",
       "      <td id=\"T_84041_row5_col3\" class=\"data row5 col3\" >24</td>\n",
       "      <td id=\"T_84041_row5_col4\" class=\"data row5 col4\" >4</td>\n",
       "      <td id=\"T_84041_row5_col5\" class=\"data row5 col5\" >16</td>\n",
       "      <td id=\"T_84041_row5_col6\" class=\"data row5 col6\" >31</td>\n",
       "      <td id=\"T_84041_row5_col7\" class=\"data row5 col7\" >18</td>\n",
       "      <td id=\"T_84041_row5_col8\" class=\"data row5 col8\" >46</td>\n",
       "      <td id=\"T_84041_row5_col9\" class=\"data row5 col9\" >75</td>\n",
       "      <td id=\"T_84041_row5_col10\" class=\"data row5 col10\" >40</td>\n",
       "    </tr>\n",
       "    <tr>\n",
       "      <th id=\"T_84041_level0_row6\" class=\"row_heading level0 row6\" >Sample Size >= 5</th>\n",
       "      <td id=\"T_84041_row6_col0\" class=\"data row6 col0\" >0.7273</td>\n",
       "      <td id=\"T_84041_row6_col1\" class=\"data row6 col1\" >1.0000</td>\n",
       "      <td id=\"T_84041_row6_col2\" class=\"data row6 col2\" >0.842100</td>\n",
       "      <td id=\"T_84041_row6_col3\" class=\"data row6 col3\" >40</td>\n",
       "      <td id=\"T_84041_row6_col4\" class=\"data row6 col4\" >15</td>\n",
       "      <td id=\"T_84041_row6_col5\" class=\"data row6 col5\" >0</td>\n",
       "      <td id=\"T_84041_row6_col6\" class=\"data row6 col6\" >20</td>\n",
       "      <td id=\"T_84041_row6_col7\" class=\"data row6 col7\" >185</td>\n",
       "      <td id=\"T_84041_row6_col8\" class=\"data row6 col8\" >240</td>\n",
       "      <td id=\"T_84041_row6_col9\" class=\"data row6 col9\" >75</td>\n",
       "      <td id=\"T_84041_row6_col10\" class=\"data row6 col10\" >40</td>\n",
       "    </tr>\n",
       "    <tr>\n",
       "      <th id=\"T_84041_level0_row7\" class=\"row_heading level0 row7\" >Sample Size >= 10</th>\n",
       "      <td id=\"T_84041_row7_col0\" class=\"data row7 col0\" >0.7273</td>\n",
       "      <td id=\"T_84041_row7_col1\" class=\"data row7 col1\" >1.0000</td>\n",
       "      <td id=\"T_84041_row7_col2\" class=\"data row7 col2\" >0.842100</td>\n",
       "      <td id=\"T_84041_row7_col3\" class=\"data row7 col3\" >40</td>\n",
       "      <td id=\"T_84041_row7_col4\" class=\"data row7 col4\" >15</td>\n",
       "      <td id=\"T_84041_row7_col5\" class=\"data row7 col5\" >0</td>\n",
       "      <td id=\"T_84041_row7_col6\" class=\"data row7 col6\" >20</td>\n",
       "      <td id=\"T_84041_row7_col7\" class=\"data row7 col7\" >177</td>\n",
       "      <td id=\"T_84041_row7_col8\" class=\"data row7 col8\" >232</td>\n",
       "      <td id=\"T_84041_row7_col9\" class=\"data row7 col9\" >75</td>\n",
       "      <td id=\"T_84041_row7_col10\" class=\"data row7 col10\" >40</td>\n",
       "    </tr>\n",
       "    <tr>\n",
       "      <th id=\"T_84041_level0_row8\" class=\"row_heading level0 row8\" >Sample Size >= 15</th>\n",
       "      <td id=\"T_84041_row8_col0\" class=\"data row8 col0\" >0.7273</td>\n",
       "      <td id=\"T_84041_row8_col1\" class=\"data row8 col1\" >1.0000</td>\n",
       "      <td id=\"T_84041_row8_col2\" class=\"data row8 col2\" >0.842100</td>\n",
       "      <td id=\"T_84041_row8_col3\" class=\"data row8 col3\" >40</td>\n",
       "      <td id=\"T_84041_row8_col4\" class=\"data row8 col4\" >15</td>\n",
       "      <td id=\"T_84041_row8_col5\" class=\"data row8 col5\" >0</td>\n",
       "      <td id=\"T_84041_row8_col6\" class=\"data row8 col6\" >20</td>\n",
       "      <td id=\"T_84041_row8_col7\" class=\"data row8 col7\" >167</td>\n",
       "      <td id=\"T_84041_row8_col8\" class=\"data row8 col8\" >222</td>\n",
       "      <td id=\"T_84041_row8_col9\" class=\"data row8 col9\" >75</td>\n",
       "      <td id=\"T_84041_row8_col10\" class=\"data row8 col10\" >40</td>\n",
       "    </tr>\n",
       "    <tr>\n",
       "      <th id=\"T_84041_level0_row9\" class=\"row_heading level0 row9\" >Known Intervention</th>\n",
       "      <td id=\"T_84041_row9_col0\" class=\"data row9 col0\" >0.7222</td>\n",
       "      <td id=\"T_84041_row9_col1\" class=\"data row9 col1\" >0.9750</td>\n",
       "      <td id=\"T_84041_row9_col2\" class=\"data row9 col2\" >0.829800</td>\n",
       "      <td id=\"T_84041_row9_col3\" class=\"data row9 col3\" >39</td>\n",
       "      <td id=\"T_84041_row9_col4\" class=\"data row9 col4\" >15</td>\n",
       "      <td id=\"T_84041_row9_col5\" class=\"data row9 col5\" >1</td>\n",
       "      <td id=\"T_84041_row9_col6\" class=\"data row9 col6\" >20</td>\n",
       "      <td id=\"T_84041_row9_col7\" class=\"data row9 col7\" >154</td>\n",
       "      <td id=\"T_84041_row9_col8\" class=\"data row9 col8\" >208</td>\n",
       "      <td id=\"T_84041_row9_col9\" class=\"data row9 col9\" >75</td>\n",
       "      <td id=\"T_84041_row9_col10\" class=\"data row9 col10\" >40</td>\n",
       "    </tr>\n",
       "    <tr>\n",
       "      <th id=\"T_84041_level0_row10\" class=\"row_heading level0 row10\" >Unknown Intervention</th>\n",
       "      <td id=\"T_84041_row10_col0\" class=\"data row10 col0\" >0.7619</td>\n",
       "      <td id=\"T_84041_row10_col1\" class=\"data row10 col1\" >0.4000</td>\n",
       "      <td id=\"T_84041_row10_col2\" class=\"data row10 col2\" >0.524600</td>\n",
       "      <td id=\"T_84041_row10_col3\" class=\"data row10 col3\" >16</td>\n",
       "      <td id=\"T_84041_row10_col4\" class=\"data row10 col4\" >5</td>\n",
       "      <td id=\"T_84041_row10_col5\" class=\"data row10 col5\" >24</td>\n",
       "      <td id=\"T_84041_row10_col6\" class=\"data row10 col6\" >30</td>\n",
       "      <td id=\"T_84041_row10_col7\" class=\"data row10 col7\" >107</td>\n",
       "      <td id=\"T_84041_row10_col8\" class=\"data row10 col8\" >128</td>\n",
       "      <td id=\"T_84041_row10_col9\" class=\"data row10 col9\" >75</td>\n",
       "      <td id=\"T_84041_row10_col10\" class=\"data row10 col10\" >40</td>\n",
       "    </tr>\n",
       "    <tr>\n",
       "      <th id=\"T_84041_level0_row11\" class=\"row_heading level0 row11\" >K+U Intervention</th>\n",
       "      <td id=\"T_84041_row11_col0\" class=\"data row11 col0\" >0.7500</td>\n",
       "      <td id=\"T_84041_row11_col1\" class=\"data row11 col1\" >0.3750</td>\n",
       "      <td id=\"T_84041_row11_col2\" class=\"data row11 col2\" >0.500000</td>\n",
       "      <td id=\"T_84041_row11_col3\" class=\"data row11 col3\" >15</td>\n",
       "      <td id=\"T_84041_row11_col4\" class=\"data row11 col4\" >5</td>\n",
       "      <td id=\"T_84041_row11_col5\" class=\"data row11 col5\" >25</td>\n",
       "      <td id=\"T_84041_row11_col6\" class=\"data row11 col6\" >30</td>\n",
       "      <td id=\"T_84041_row11_col7\" class=\"data row11 col7\" >85</td>\n",
       "      <td id=\"T_84041_row11_col8\" class=\"data row11 col8\" >105</td>\n",
       "      <td id=\"T_84041_row11_col9\" class=\"data row11 col9\" >75</td>\n",
       "      <td id=\"T_84041_row11_col10\" class=\"data row11 col10\" >40</td>\n",
       "    </tr>\n",
       "    <tr>\n",
       "      <th id=\"T_84041_level0_row12\" class=\"row_heading level0 row12\" >Significant Finding</th>\n",
       "      <td id=\"T_84041_row12_col0\" class=\"data row12 col0\" >0.6875</td>\n",
       "      <td id=\"T_84041_row12_col1\" class=\"data row12 col1\" >0.5500</td>\n",
       "      <td id=\"T_84041_row12_col2\" class=\"data row12 col2\" >0.611100</td>\n",
       "      <td id=\"T_84041_row12_col3\" class=\"data row12 col3\" >22</td>\n",
       "      <td id=\"T_84041_row12_col4\" class=\"data row12 col4\" >10</td>\n",
       "      <td id=\"T_84041_row12_col5\" class=\"data row12 col5\" >18</td>\n",
       "      <td id=\"T_84041_row12_col6\" class=\"data row12 col6\" >25</td>\n",
       "      <td id=\"T_84041_row12_col7\" class=\"data row12 col7\" >132</td>\n",
       "      <td id=\"T_84041_row12_col8\" class=\"data row12 col8\" >164</td>\n",
       "      <td id=\"T_84041_row12_col9\" class=\"data row12 col9\" >75</td>\n",
       "      <td id=\"T_84041_row12_col10\" class=\"data row12 col10\" >40</td>\n",
       "    </tr>\n",
       "    <tr>\n",
       "      <th id=\"T_84041_level0_row13\" class=\"row_heading level0 row13\" >No Significant Finding</th>\n",
       "      <td id=\"T_84041_row13_col0\" class=\"data row13 col0\" >0.7826</td>\n",
       "      <td id=\"T_84041_row13_col1\" class=\"data row13 col1\" >0.4500</td>\n",
       "      <td id=\"T_84041_row13_col2\" class=\"data row13 col2\" >0.571400</td>\n",
       "      <td id=\"T_84041_row13_col3\" class=\"data row13 col3\" >18</td>\n",
       "      <td id=\"T_84041_row13_col4\" class=\"data row13 col4\" >5</td>\n",
       "      <td id=\"T_84041_row13_col5\" class=\"data row13 col5\" >22</td>\n",
       "      <td id=\"T_84041_row13_col6\" class=\"data row13 col6\" >30</td>\n",
       "      <td id=\"T_84041_row13_col7\" class=\"data row13 col7\" >42</td>\n",
       "      <td id=\"T_84041_row13_col8\" class=\"data row13 col8\" >65</td>\n",
       "      <td id=\"T_84041_row13_col9\" class=\"data row13 col9\" >75</td>\n",
       "      <td id=\"T_84041_row13_col10\" class=\"data row13 col10\" >40</td>\n",
       "    </tr>\n",
       "  </tbody>\n",
       "</table>\n"
      ],
      "text/plain": [
       "<pandas.io.formats.style.Styler at 0x7f12b70a3d90>"
      ]
     },
     "execution_count": 33,
     "metadata": {},
     "output_type": "execute_result"
    }
   ],
   "source": [
    "highlight_metrics(\n",
    "    metrics_to_df(metrics_w_manual[\"Only RCTs\"], drop_zero_tp=False).head(\n",
    "        len(FILTERS_RETRIEVED)\n",
    "    )\n",
    ")"
   ]
  },
  {
   "cell_type": "markdown",
   "metadata": {},
   "source": [
    "# Final Results (for RCTs)"
   ]
  },
  {
   "cell_type": "code",
   "execution_count": 34,
   "metadata": {
    "tags": []
   },
   "outputs": [],
   "source": [
    "from evaluation.metrics import build_filter_combinations_table"
   ]
  },
  {
   "cell_type": "code",
   "execution_count": 35,
   "metadata": {
    "tags": []
   },
   "outputs": [],
   "source": [
    "# Queries for combinations table\n",
    "Q_RCTS = \"is_rct_pt == True & abstract.str.len() > 1\"\n",
    "Q_RCTS_P2 = Q_RCTS + \" & phase_int >= 2\"\n",
    "Q_RCTS_P3 = Q_RCTS + \" & phase_int >= 3\"\n",
    "Q_RCTS_P3_NC = Q_RCTS_P3 + \" & has_pediatric_population == False\"\n",
    "Q_SIG = \"(has_significant_finding == True)\"\n",
    "Q_INSIQ = \"(has_significant_finding == False)\"\n",
    "Q_KNOWN = \"(has_known_intervention == True)\"\n",
    "Q_UNKNOWN = \"(has_unknown_intervention == True)\"\n",
    "Q_REC = \"(has_recommended_intervention == True)\"\n",
    "Q_UNREC = \"(has_not_recommended_intervention == True)\"\n",
    "\n",
    "# Filters for combinations table\n",
    "FILTERS_COMBINATIONS = {\n",
    "    \"RCTs\": Q_RCTS,\n",
    "    \"Phase >= 2\": Q_RCTS_P2,\n",
    "    \"Phase >= 3\": Q_RCTS_P3,\n",
    "    \"Exclude Children\": Q_RCTS_P3_NC,\n",
    "    \n",
    "    \"Significant\" : Q_RCTS_P3_NC + \"&\" + Q_SIG,\n",
    "    \n",
    "    \"R\" :  Q_RCTS_P3_NC + \"&\" + Q_REC + \"&\" + Q_SIG,\n",
    "    \"NR\" :  Q_RCTS_P3_NC + \"&\" + Q_UNREC + \"&\" + Q_SIG,\n",
    "}\n",
    "\n",
    "# Hierarchy for combinations table\n",
    "FILTERS_HIERARCHY = {\n",
    "    \"RCTs\": {\n",
    "        \"Phase >= 2\": {\n",
    "            \"Phase >= 3\": {\n",
    "                \"Exclude Children\": \n",
    "                    {\n",
    "                        \"Significant\" : [\"R\", \"NR\" ],\n",
    "                    }\n",
    "                }\n",
    "            }\n",
    "        }\n",
    "}"
   ]
  },
  {
   "cell_type": "markdown",
   "metadata": {},
   "source": [
    "## Without manual review"
   ]
  },
  {
   "cell_type": "code",
   "execution_count": 36,
   "metadata": {
    "tags": []
   },
   "outputs": [
    {
     "name": "stdout",
     "output_type": "stream",
     "text": [
      "Evaluating screened document subset 'All'\n"
     ]
    },
    {
     "data": {
      "application/vnd.jupyter.widget-view+json": {
       "model_id": "3cb9d2c39f5c4e04b206340794054fa2",
       "version_major": 2,
       "version_minor": 0
      },
      "text/plain": [
       "Evaluating filter combinations:   0%|          | 0/7 [00:00<?, ?it/s]"
      ]
     },
     "metadata": {},
     "output_type": "display_data"
    },
    {
     "name": "stdout",
     "output_type": "stream",
     "text": [
      "Evaluating screened document subset 'Only RCTs'\n"
     ]
    },
    {
     "data": {
      "application/vnd.jupyter.widget-view+json": {
       "model_id": "2e87676425e940cabe7f5cc4d5bf939a",
       "version_major": 2,
       "version_minor": 0
      },
      "text/plain": [
       "Evaluating filter combinations:   0%|          | 0/7 [00:00<?, ?it/s]"
      ]
     },
     "metadata": {},
     "output_type": "display_data"
    },
    {
     "data": {
      "text/html": [
       "<style type=\"text/css\">\n",
       "#T_aee67_row0_col1, #T_aee67_row0_col2, #T_aee67_row0_col3, #T_aee67_row0_col5, #T_aee67_row2_col0, #T_aee67_row2_col4, #T_aee67_row3_col0, #T_aee67_row3_col4, #T_aee67_row4_col0, #T_aee67_row4_col4, #T_aee67_row5_col0, #T_aee67_row5_col4, #T_aee67_row6_col0, #T_aee67_row6_col4 {\n",
       "  font-weight: bold;\n",
       "}\n",
       "</style>\n",
       "<table id=\"T_aee67\">\n",
       "  <thead>\n",
       "    <tr>\n",
       "      <th class=\"blank\" >&nbsp;</th>\n",
       "      <th class=\"blank\" >&nbsp;</th>\n",
       "      <th class=\"blank\" >&nbsp;</th>\n",
       "      <th class=\"blank\" >&nbsp;</th>\n",
       "      <th class=\"blank\" >&nbsp;</th>\n",
       "      <th class=\"blank level0\" >&nbsp;</th>\n",
       "      <th id=\"T_aee67_level0_col0\" class=\"col_heading level0 col0\" >Prec.</th>\n",
       "      <th id=\"T_aee67_level0_col1\" class=\"col_heading level0 col1\" >Rec.</th>\n",
       "      <th id=\"T_aee67_level0_col2\" class=\"col_heading level0 col2\" >$F_1$</th>\n",
       "      <th id=\"T_aee67_level0_col3\" class=\"col_heading level0 col3\" >TP</th>\n",
       "      <th id=\"T_aee67_level0_col4\" class=\"col_heading level0 col4\" >FP</th>\n",
       "      <th id=\"T_aee67_level0_col5\" class=\"col_heading level0 col5\" >FN</th>\n",
       "      <th id=\"T_aee67_level0_col6\" class=\"col_heading level0 col6\" >TN</th>\n",
       "      <th id=\"T_aee67_level0_col7\" class=\"col_heading level0 col7\" >?</th>\n",
       "      <th id=\"T_aee67_level0_col8\" class=\"col_heading level0 col8\" >Retr.</th>\n",
       "      <th id=\"T_aee67_level0_col9\" class=\"col_heading level0 col9\" >Scr.</th>\n",
       "      <th id=\"T_aee67_level0_col10\" class=\"col_heading level0 col10\" >Rel.</th>\n",
       "    </tr>\n",
       "  </thead>\n",
       "  <tbody>\n",
       "    <tr>\n",
       "      <th id=\"T_aee67_level0_row0\" class=\"row_heading level0 row0\" rowspan=\"7\">RCTs</th>\n",
       "      <th id=\"T_aee67_level1_row0\" class=\"row_heading level1 row0\" ></th>\n",
       "      <th id=\"T_aee67_level2_row0\" class=\"row_heading level2 row0\" ></th>\n",
       "      <th id=\"T_aee67_level3_row0\" class=\"row_heading level3 row0\" ></th>\n",
       "      <th id=\"T_aee67_level4_row0\" class=\"row_heading level4 row0\" ></th>\n",
       "      <th id=\"T_aee67_level5_row0\" class=\"row_heading level5 row0\" ></th>\n",
       "      <td id=\"T_aee67_row0_col0\" class=\"data row0 col0\" >0.862100</td>\n",
       "      <td id=\"T_aee67_row0_col1\" class=\"data row0 col1\" >1.000000</td>\n",
       "      <td id=\"T_aee67_row0_col2\" class=\"data row0 col2\" >0.925900</td>\n",
       "      <td id=\"T_aee67_row0_col3\" class=\"data row0 col3\" >25</td>\n",
       "      <td id=\"T_aee67_row0_col4\" class=\"data row0 col4\" >4</td>\n",
       "      <td id=\"T_aee67_row0_col5\" class=\"data row0 col5\" >0</td>\n",
       "      <td id=\"T_aee67_row0_col6\" class=\"data row0 col6\" >20</td>\n",
       "      <td id=\"T_aee67_row0_col7\" class=\"data row0 col7\" >51</td>\n",
       "      <td id=\"T_aee67_row0_col8\" class=\"data row0 col8\" >80</td>\n",
       "      <td id=\"T_aee67_row0_col9\" class=\"data row0 col9\" >49</td>\n",
       "      <td id=\"T_aee67_row0_col10\" class=\"data row0 col10\" >25</td>\n",
       "    </tr>\n",
       "    <tr>\n",
       "      <th id=\"T_aee67_level1_row1\" class=\"row_heading level1 row1\" rowspan=\"6\">Phase >= 2</th>\n",
       "      <th id=\"T_aee67_level2_row1\" class=\"row_heading level2 row1\" ></th>\n",
       "      <th id=\"T_aee67_level3_row1\" class=\"row_heading level3 row1\" ></th>\n",
       "      <th id=\"T_aee67_level4_row1\" class=\"row_heading level4 row1\" ></th>\n",
       "      <th id=\"T_aee67_level5_row1\" class=\"row_heading level5 row1\" ></th>\n",
       "      <td id=\"T_aee67_row1_col0\" class=\"data row1 col0\" >0.904800</td>\n",
       "      <td id=\"T_aee67_row1_col1\" class=\"data row1 col1\" >0.760000</td>\n",
       "      <td id=\"T_aee67_row1_col2\" class=\"data row1 col2\" >0.826100</td>\n",
       "      <td id=\"T_aee67_row1_col3\" class=\"data row1 col3\" >19</td>\n",
       "      <td id=\"T_aee67_row1_col4\" class=\"data row1 col4\" >2</td>\n",
       "      <td id=\"T_aee67_row1_col5\" class=\"data row1 col5\" >6</td>\n",
       "      <td id=\"T_aee67_row1_col6\" class=\"data row1 col6\" >22</td>\n",
       "      <td id=\"T_aee67_row1_col7\" class=\"data row1 col7\" >24</td>\n",
       "      <td id=\"T_aee67_row1_col8\" class=\"data row1 col8\" >45</td>\n",
       "      <td id=\"T_aee67_row1_col9\" class=\"data row1 col9\" >49</td>\n",
       "      <td id=\"T_aee67_row1_col10\" class=\"data row1 col10\" >25</td>\n",
       "    </tr>\n",
       "    <tr>\n",
       "      <th id=\"T_aee67_level2_row2\" class=\"row_heading level2 row2\" rowspan=\"5\">Phase >= 3</th>\n",
       "      <th id=\"T_aee67_level3_row2\" class=\"row_heading level3 row2\" ></th>\n",
       "      <th id=\"T_aee67_level4_row2\" class=\"row_heading level4 row2\" ></th>\n",
       "      <th id=\"T_aee67_level5_row2\" class=\"row_heading level5 row2\" ></th>\n",
       "      <td id=\"T_aee67_row2_col0\" class=\"data row2 col0\" >1.000000</td>\n",
       "      <td id=\"T_aee67_row2_col1\" class=\"data row2 col1\" >0.520000</td>\n",
       "      <td id=\"T_aee67_row2_col2\" class=\"data row2 col2\" >0.684200</td>\n",
       "      <td id=\"T_aee67_row2_col3\" class=\"data row2 col3\" >13</td>\n",
       "      <td id=\"T_aee67_row2_col4\" class=\"data row2 col4\" >0</td>\n",
       "      <td id=\"T_aee67_row2_col5\" class=\"data row2 col5\" >12</td>\n",
       "      <td id=\"T_aee67_row2_col6\" class=\"data row2 col6\" >24</td>\n",
       "      <td id=\"T_aee67_row2_col7\" class=\"data row2 col7\" >15</td>\n",
       "      <td id=\"T_aee67_row2_col8\" class=\"data row2 col8\" >28</td>\n",
       "      <td id=\"T_aee67_row2_col9\" class=\"data row2 col9\" >49</td>\n",
       "      <td id=\"T_aee67_row2_col10\" class=\"data row2 col10\" >25</td>\n",
       "    </tr>\n",
       "    <tr>\n",
       "      <th id=\"T_aee67_level3_row3\" class=\"row_heading level3 row3\" rowspan=\"4\">Exclude Children</th>\n",
       "      <th id=\"T_aee67_level4_row3\" class=\"row_heading level4 row3\" ></th>\n",
       "      <th id=\"T_aee67_level5_row3\" class=\"row_heading level5 row3\" ></th>\n",
       "      <td id=\"T_aee67_row3_col0\" class=\"data row3 col0\" >1.000000</td>\n",
       "      <td id=\"T_aee67_row3_col1\" class=\"data row3 col1\" >0.520000</td>\n",
       "      <td id=\"T_aee67_row3_col2\" class=\"data row3 col2\" >0.684200</td>\n",
       "      <td id=\"T_aee67_row3_col3\" class=\"data row3 col3\" >13</td>\n",
       "      <td id=\"T_aee67_row3_col4\" class=\"data row3 col4\" >0</td>\n",
       "      <td id=\"T_aee67_row3_col5\" class=\"data row3 col5\" >12</td>\n",
       "      <td id=\"T_aee67_row3_col6\" class=\"data row3 col6\" >24</td>\n",
       "      <td id=\"T_aee67_row3_col7\" class=\"data row3 col7\" >12</td>\n",
       "      <td id=\"T_aee67_row3_col8\" class=\"data row3 col8\" >25</td>\n",
       "      <td id=\"T_aee67_row3_col9\" class=\"data row3 col9\" >49</td>\n",
       "      <td id=\"T_aee67_row3_col10\" class=\"data row3 col10\" >25</td>\n",
       "    </tr>\n",
       "    <tr>\n",
       "      <th id=\"T_aee67_level4_row4\" class=\"row_heading level4 row4\" rowspan=\"3\">Significant</th>\n",
       "      <th id=\"T_aee67_level5_row4\" class=\"row_heading level5 row4\" ></th>\n",
       "      <td id=\"T_aee67_row4_col0\" class=\"data row4 col0\" >1.000000</td>\n",
       "      <td id=\"T_aee67_row4_col1\" class=\"data row4 col1\" >0.280000</td>\n",
       "      <td id=\"T_aee67_row4_col2\" class=\"data row4 col2\" >0.437500</td>\n",
       "      <td id=\"T_aee67_row4_col3\" class=\"data row4 col3\" >7</td>\n",
       "      <td id=\"T_aee67_row4_col4\" class=\"data row4 col4\" >0</td>\n",
       "      <td id=\"T_aee67_row4_col5\" class=\"data row4 col5\" >18</td>\n",
       "      <td id=\"T_aee67_row4_col6\" class=\"data row4 col6\" >24</td>\n",
       "      <td id=\"T_aee67_row4_col7\" class=\"data row4 col7\" >3</td>\n",
       "      <td id=\"T_aee67_row4_col8\" class=\"data row4 col8\" >10</td>\n",
       "      <td id=\"T_aee67_row4_col9\" class=\"data row4 col9\" >49</td>\n",
       "      <td id=\"T_aee67_row4_col10\" class=\"data row4 col10\" >25</td>\n",
       "    </tr>\n",
       "    <tr>\n",
       "      <th id=\"T_aee67_level5_row5\" class=\"row_heading level5 row5\" >R</th>\n",
       "      <td id=\"T_aee67_row5_col0\" class=\"data row5 col0\" >1.000000</td>\n",
       "      <td id=\"T_aee67_row5_col1\" class=\"data row5 col1\" >0.280000</td>\n",
       "      <td id=\"T_aee67_row5_col2\" class=\"data row5 col2\" >0.437500</td>\n",
       "      <td id=\"T_aee67_row5_col3\" class=\"data row5 col3\" >7</td>\n",
       "      <td id=\"T_aee67_row5_col4\" class=\"data row5 col4\" >0</td>\n",
       "      <td id=\"T_aee67_row5_col5\" class=\"data row5 col5\" >18</td>\n",
       "      <td id=\"T_aee67_row5_col6\" class=\"data row5 col6\" >24</td>\n",
       "      <td id=\"T_aee67_row5_col7\" class=\"data row5 col7\" >3</td>\n",
       "      <td id=\"T_aee67_row5_col8\" class=\"data row5 col8\" >10</td>\n",
       "      <td id=\"T_aee67_row5_col9\" class=\"data row5 col9\" >49</td>\n",
       "      <td id=\"T_aee67_row5_col10\" class=\"data row5 col10\" >25</td>\n",
       "    </tr>\n",
       "    <tr>\n",
       "      <th id=\"T_aee67_level5_row6\" class=\"row_heading level5 row6\" >NR</th>\n",
       "      <td id=\"T_aee67_row6_col0\" class=\"data row6 col0\" >1.000000</td>\n",
       "      <td id=\"T_aee67_row6_col1\" class=\"data row6 col1\" >0.280000</td>\n",
       "      <td id=\"T_aee67_row6_col2\" class=\"data row6 col2\" >0.437500</td>\n",
       "      <td id=\"T_aee67_row6_col3\" class=\"data row6 col3\" >7</td>\n",
       "      <td id=\"T_aee67_row6_col4\" class=\"data row6 col4\" >0</td>\n",
       "      <td id=\"T_aee67_row6_col5\" class=\"data row6 col5\" >18</td>\n",
       "      <td id=\"T_aee67_row6_col6\" class=\"data row6 col6\" >24</td>\n",
       "      <td id=\"T_aee67_row6_col7\" class=\"data row6 col7\" >3</td>\n",
       "      <td id=\"T_aee67_row6_col8\" class=\"data row6 col8\" >10</td>\n",
       "      <td id=\"T_aee67_row6_col9\" class=\"data row6 col9\" >49</td>\n",
       "      <td id=\"T_aee67_row6_col10\" class=\"data row6 col10\" >25</td>\n",
       "    </tr>\n",
       "  </tbody>\n",
       "</table>\n"
      ],
      "text/plain": [
       "<pandas.io.formats.style.Styler at 0x7f12b71f3970>"
      ]
     },
     "execution_count": 36,
     "metadata": {},
     "output_type": "execute_result"
    }
   ],
   "source": [
    "combinations_table, metrics_combinations_final = build_filter_combinations_table(\n",
    "    df_retrieved=df_r,\n",
    "    df_screened=df_s_with_ggponc.query(\"screening_origin != 'manual' and screening_origin != 'ggponc'\"),\n",
    "    latex_output_path=PATH_LATEX_TABLE_OUTPUT / \"final_metrics.tex\",\n",
    "    overwrite_latex_output=False,\n",
    "    use_abbreviations=True,\n",
    "    column_format=\"llllllS[table-format=1.2]S[table-format=1.2]S[table-format=1.2]S[table-format=2]S[table-format=2]S[table-format=2]S[table-format=2]S[table-format=2]S[table-format=2]\",\n",
    "    filters_retrieved = FILTERS_COMBINATIONS,\n",
    "    filters_retrieved_hierarchy = FILTERS_HIERARCHY,\n",
    ")\n",
    "highlight_metrics(combinations_table)"
   ]
  },
  {
   "cell_type": "code",
   "execution_count": 37,
   "metadata": {
    "tags": []
   },
   "outputs": [
    {
     "name": "stdout",
     "output_type": "stream",
     "text": [
      "\\begin{tabular}{lrrrrrrr}\n",
      "\\toprule\n",
      "{} &  Retr. &  TP &   ? &  FP &  TN &  FN &  Rec. \\\\\n",
      "\\midrule\n",
      "0 &     80 &  25 &  51 &   4 &  20 &   0 &  1.00 \\\\\n",
      "1 &     45 &  19 &  24 &   2 &  22 &   6 &  0.76 \\\\\n",
      "2 &     28 &  13 &  15 &   0 &  24 &  12 &  0.52 \\\\\n",
      "3 &     25 &  13 &  12 &   0 &  24 &  12 &  0.52 \\\\\n",
      "4 &     10 &   7 &   3 &   0 &  24 &  18 &  0.28 \\\\\n",
      "5 &     10 &   7 &   3 &   0 &  24 &  18 &  0.28 \\\\\n",
      "6 &     10 &   7 &   3 &   0 &  24 &  18 &  0.28 \\\\\n",
      "\\bottomrule\n",
      "\\end{tabular}\n",
      "\n"
     ]
    },
    {
     "name": "stderr",
     "output_type": "stream",
     "text": [
      "/tmp/ipykernel_3057478/569929526.py:1: FutureWarning: In future versions `DataFrame.to_latex` is expected to utilise the base implementation of `Styler.to_latex` for formatting and rendering. The arguments signature may therefore change. It is recommended instead to use `DataFrame.style.to_latex` which also contains additional functionality.\n",
      "  print(combinations_table.reset_index()[['Retr.', 'TP', '?', 'FP', 'TN', 'FN', 'Rec.']].round(2).to_latex())\n"
     ]
    }
   ],
   "source": [
    "print(combinations_table.reset_index()[['Retr.', 'TP', '?', 'FP', 'TN', 'FN', 'Rec.']].round(2).to_latex())"
   ]
  },
  {
   "cell_type": "markdown",
   "metadata": {},
   "source": [
    "## After manual review"
   ]
  },
  {
   "cell_type": "code",
   "execution_count": 38,
   "metadata": {
    "tags": []
   },
   "outputs": [],
   "source": [
    "df_manual = pd.read_csv(PATH_MANUAL_REVIEW)"
   ]
  },
  {
   "cell_type": "code",
   "execution_count": 39,
   "metadata": {
    "tags": []
   },
   "outputs": [
    {
     "name": "stdout",
     "output_type": "stream",
     "text": [
      "False non-Hodgkin Lymphome\n",
      "False Children\n",
      "False für Leitlinie nicht relevant, da cost-effectiveness Analyse\n",
      "False Children\n",
      "False irrelevant in RCT Suche: sekundäre Analyse eines RCTs, die nicht randomisiert war \n",
      "False irrelevant in RCT Suche: sekundäre Analyse eines RCTs, die nicht randomisiert war \n",
      "False non-Hodgkin Lymphome \n",
      "False Studienprotokoll, nicht relevant \n",
      "False irrelevant in RCT Suche: \"healthy controls\", deshalb Fall-Kontroll-Studie\n",
      "False irrelevant in RCT Suche: sekundäre Analyse eines RCTs (NIVAHL), die nicht randomisiert war\n",
      "False Children\n",
      "True nan\n",
      "True grundsätzlich relevant, fälschlicherweise als \"Kohortenstudie\" verstanden\n",
      "True Grundsätzlich relevant, im letzten Update zur Verfügung gestellt, von Autor*innen scheinbar nicht genutzt\n",
      "True Grundsätzlich relevant, im letzten Update zur Verfügung gestellt, von Autor*innen scheinbar nicht genutzt\n",
      "True Grundsätzlich relevant, im letzten Update zur Verfügung gestellt, von Autor*innen scheinbar nicht genutzt\n",
      "True grundsätzlich relevant, zum Zeitpunkt des Screenings kein Zugriff auf den Volltext, deshalb zunächst als Abstract ausgeschlossen\n"
     ]
    }
   ],
   "source": [
    "for _, p in df_manual[df_manual.pm_id.isin(df_r.pm_id)].sort_values('is_included').iterrows():\n",
    "    print(p.is_included, p['Ein- / Ausschlussgrund'])"
   ]
  },
  {
   "cell_type": "code",
   "execution_count": 40,
   "metadata": {
    "tags": []
   },
   "outputs": [
    {
     "name": "stdout",
     "output_type": "stream",
     "text": [
      "Evaluating screened document subset 'All'\n"
     ]
    },
    {
     "data": {
      "application/vnd.jupyter.widget-view+json": {
       "model_id": "0b7085913d31495fbc353c9f4249ce86",
       "version_major": 2,
       "version_minor": 0
      },
      "text/plain": [
       "Evaluating filter combinations:   0%|          | 0/7 [00:00<?, ?it/s]"
      ]
     },
     "metadata": {},
     "output_type": "display_data"
    },
    {
     "name": "stdout",
     "output_type": "stream",
     "text": [
      "Evaluating screened document subset 'Only RCTs'\n"
     ]
    },
    {
     "data": {
      "application/vnd.jupyter.widget-view+json": {
       "model_id": "45b13a43dcdc44f2a55a7590c77760e1",
       "version_major": 2,
       "version_minor": 0
      },
      "text/plain": [
       "Evaluating filter combinations:   0%|          | 0/7 [00:00<?, ?it/s]"
      ]
     },
     "metadata": {},
     "output_type": "display_data"
    },
    {
     "data": {
      "text/html": [
       "<style type=\"text/css\">\n",
       "#T_644c4_row0_col1, #T_644c4_row0_col2, #T_644c4_row0_col3, #T_644c4_row0_col5, #T_644c4_row4_col0, #T_644c4_row4_col4, #T_644c4_row5_col0, #T_644c4_row5_col4, #T_644c4_row6_col0, #T_644c4_row6_col4 {\n",
       "  font-weight: bold;\n",
       "}\n",
       "</style>\n",
       "<table id=\"T_644c4\">\n",
       "  <thead>\n",
       "    <tr>\n",
       "      <th class=\"blank\" >&nbsp;</th>\n",
       "      <th class=\"blank\" >&nbsp;</th>\n",
       "      <th class=\"blank\" >&nbsp;</th>\n",
       "      <th class=\"blank\" >&nbsp;</th>\n",
       "      <th class=\"blank\" >&nbsp;</th>\n",
       "      <th class=\"blank level0\" >&nbsp;</th>\n",
       "      <th id=\"T_644c4_level0_col0\" class=\"col_heading level0 col0\" >Prec.</th>\n",
       "      <th id=\"T_644c4_level0_col1\" class=\"col_heading level0 col1\" >Rec.</th>\n",
       "      <th id=\"T_644c4_level0_col2\" class=\"col_heading level0 col2\" >$F_1$</th>\n",
       "      <th id=\"T_644c4_level0_col3\" class=\"col_heading level0 col3\" >TP</th>\n",
       "      <th id=\"T_644c4_level0_col4\" class=\"col_heading level0 col4\" >FP</th>\n",
       "      <th id=\"T_644c4_level0_col5\" class=\"col_heading level0 col5\" >FN</th>\n",
       "      <th id=\"T_644c4_level0_col6\" class=\"col_heading level0 col6\" >TN</th>\n",
       "      <th id=\"T_644c4_level0_col7\" class=\"col_heading level0 col7\" >?</th>\n",
       "      <th id=\"T_644c4_level0_col8\" class=\"col_heading level0 col8\" >Retr.</th>\n",
       "      <th id=\"T_644c4_level0_col9\" class=\"col_heading level0 col9\" >Scr.</th>\n",
       "      <th id=\"T_644c4_level0_col10\" class=\"col_heading level0 col10\" >Rel.</th>\n",
       "    </tr>\n",
       "  </thead>\n",
       "  <tbody>\n",
       "    <tr>\n",
       "      <th id=\"T_644c4_level0_row0\" class=\"row_heading level0 row0\" rowspan=\"7\">RCTs</th>\n",
       "      <th id=\"T_644c4_level1_row0\" class=\"row_heading level1 row0\" ></th>\n",
       "      <th id=\"T_644c4_level2_row0\" class=\"row_heading level2 row0\" ></th>\n",
       "      <th id=\"T_644c4_level3_row0\" class=\"row_heading level3 row0\" ></th>\n",
       "      <th id=\"T_644c4_level4_row0\" class=\"row_heading level4 row0\" ></th>\n",
       "      <th id=\"T_644c4_level5_row0\" class=\"row_heading level5 row0\" ></th>\n",
       "      <td id=\"T_644c4_row0_col0\" class=\"data row0 col0\" >0.727300</td>\n",
       "      <td id=\"T_644c4_row0_col1\" class=\"data row0 col1\" >1.000000</td>\n",
       "      <td id=\"T_644c4_row0_col2\" class=\"data row0 col2\" >0.842100</td>\n",
       "      <td id=\"T_644c4_row0_col3\" class=\"data row0 col3\" >40</td>\n",
       "      <td id=\"T_644c4_row0_col4\" class=\"data row0 col4\" >15</td>\n",
       "      <td id=\"T_644c4_row0_col5\" class=\"data row0 col5\" >0</td>\n",
       "      <td id=\"T_644c4_row0_col6\" class=\"data row0 col6\" >20</td>\n",
       "      <td id=\"T_644c4_row0_col7\" class=\"data row0 col7\" >25</td>\n",
       "      <td id=\"T_644c4_row0_col8\" class=\"data row0 col8\" >80</td>\n",
       "      <td id=\"T_644c4_row0_col9\" class=\"data row0 col9\" >75</td>\n",
       "      <td id=\"T_644c4_row0_col10\" class=\"data row0 col10\" >40</td>\n",
       "    </tr>\n",
       "    <tr>\n",
       "      <th id=\"T_644c4_level1_row1\" class=\"row_heading level1 row1\" rowspan=\"6\">Phase >= 2</th>\n",
       "      <th id=\"T_644c4_level2_row1\" class=\"row_heading level2 row1\" ></th>\n",
       "      <th id=\"T_644c4_level3_row1\" class=\"row_heading level3 row1\" ></th>\n",
       "      <th id=\"T_644c4_level4_row1\" class=\"row_heading level4 row1\" ></th>\n",
       "      <th id=\"T_644c4_level5_row1\" class=\"row_heading level5 row1\" ></th>\n",
       "      <td id=\"T_644c4_row1_col0\" class=\"data row1 col0\" >0.711100</td>\n",
       "      <td id=\"T_644c4_row1_col1\" class=\"data row1 col1\" >0.800000</td>\n",
       "      <td id=\"T_644c4_row1_col2\" class=\"data row1 col2\" >0.752900</td>\n",
       "      <td id=\"T_644c4_row1_col3\" class=\"data row1 col3\" >32</td>\n",
       "      <td id=\"T_644c4_row1_col4\" class=\"data row1 col4\" >13</td>\n",
       "      <td id=\"T_644c4_row1_col5\" class=\"data row1 col5\" >8</td>\n",
       "      <td id=\"T_644c4_row1_col6\" class=\"data row1 col6\" >22</td>\n",
       "      <td id=\"T_644c4_row1_col7\" class=\"data row1 col7\" >0</td>\n",
       "      <td id=\"T_644c4_row1_col8\" class=\"data row1 col8\" >45</td>\n",
       "      <td id=\"T_644c4_row1_col9\" class=\"data row1 col9\" >75</td>\n",
       "      <td id=\"T_644c4_row1_col10\" class=\"data row1 col10\" >40</td>\n",
       "    </tr>\n",
       "    <tr>\n",
       "      <th id=\"T_644c4_level2_row2\" class=\"row_heading level2 row2\" rowspan=\"5\">Phase >= 3</th>\n",
       "      <th id=\"T_644c4_level3_row2\" class=\"row_heading level3 row2\" ></th>\n",
       "      <th id=\"T_644c4_level4_row2\" class=\"row_heading level4 row2\" ></th>\n",
       "      <th id=\"T_644c4_level5_row2\" class=\"row_heading level5 row2\" ></th>\n",
       "      <td id=\"T_644c4_row2_col0\" class=\"data row2 col0\" >0.857100</td>\n",
       "      <td id=\"T_644c4_row2_col1\" class=\"data row2 col1\" >0.600000</td>\n",
       "      <td id=\"T_644c4_row2_col2\" class=\"data row2 col2\" >0.705900</td>\n",
       "      <td id=\"T_644c4_row2_col3\" class=\"data row2 col3\" >24</td>\n",
       "      <td id=\"T_644c4_row2_col4\" class=\"data row2 col4\" >4</td>\n",
       "      <td id=\"T_644c4_row2_col5\" class=\"data row2 col5\" >16</td>\n",
       "      <td id=\"T_644c4_row2_col6\" class=\"data row2 col6\" >31</td>\n",
       "      <td id=\"T_644c4_row2_col7\" class=\"data row2 col7\" >0</td>\n",
       "      <td id=\"T_644c4_row2_col8\" class=\"data row2 col8\" >28</td>\n",
       "      <td id=\"T_644c4_row2_col9\" class=\"data row2 col9\" >75</td>\n",
       "      <td id=\"T_644c4_row2_col10\" class=\"data row2 col10\" >40</td>\n",
       "    </tr>\n",
       "    <tr>\n",
       "      <th id=\"T_644c4_level3_row3\" class=\"row_heading level3 row3\" rowspan=\"4\">Exclude Children</th>\n",
       "      <th id=\"T_644c4_level4_row3\" class=\"row_heading level4 row3\" ></th>\n",
       "      <th id=\"T_644c4_level5_row3\" class=\"row_heading level5 row3\" ></th>\n",
       "      <td id=\"T_644c4_row3_col0\" class=\"data row3 col0\" >0.920000</td>\n",
       "      <td id=\"T_644c4_row3_col1\" class=\"data row3 col1\" >0.575000</td>\n",
       "      <td id=\"T_644c4_row3_col2\" class=\"data row3 col2\" >0.707700</td>\n",
       "      <td id=\"T_644c4_row3_col3\" class=\"data row3 col3\" >23</td>\n",
       "      <td id=\"T_644c4_row3_col4\" class=\"data row3 col4\" >2</td>\n",
       "      <td id=\"T_644c4_row3_col5\" class=\"data row3 col5\" >17</td>\n",
       "      <td id=\"T_644c4_row3_col6\" class=\"data row3 col6\" >33</td>\n",
       "      <td id=\"T_644c4_row3_col7\" class=\"data row3 col7\" >0</td>\n",
       "      <td id=\"T_644c4_row3_col8\" class=\"data row3 col8\" >25</td>\n",
       "      <td id=\"T_644c4_row3_col9\" class=\"data row3 col9\" >75</td>\n",
       "      <td id=\"T_644c4_row3_col10\" class=\"data row3 col10\" >40</td>\n",
       "    </tr>\n",
       "    <tr>\n",
       "      <th id=\"T_644c4_level4_row4\" class=\"row_heading level4 row4\" rowspan=\"3\">Significant</th>\n",
       "      <th id=\"T_644c4_level5_row4\" class=\"row_heading level5 row4\" ></th>\n",
       "      <td id=\"T_644c4_row4_col0\" class=\"data row4 col0\" >1.000000</td>\n",
       "      <td id=\"T_644c4_row4_col1\" class=\"data row4 col1\" >0.250000</td>\n",
       "      <td id=\"T_644c4_row4_col2\" class=\"data row4 col2\" >0.400000</td>\n",
       "      <td id=\"T_644c4_row4_col3\" class=\"data row4 col3\" >10</td>\n",
       "      <td id=\"T_644c4_row4_col4\" class=\"data row4 col4\" >0</td>\n",
       "      <td id=\"T_644c4_row4_col5\" class=\"data row4 col5\" >30</td>\n",
       "      <td id=\"T_644c4_row4_col6\" class=\"data row4 col6\" >35</td>\n",
       "      <td id=\"T_644c4_row4_col7\" class=\"data row4 col7\" >0</td>\n",
       "      <td id=\"T_644c4_row4_col8\" class=\"data row4 col8\" >10</td>\n",
       "      <td id=\"T_644c4_row4_col9\" class=\"data row4 col9\" >75</td>\n",
       "      <td id=\"T_644c4_row4_col10\" class=\"data row4 col10\" >40</td>\n",
       "    </tr>\n",
       "    <tr>\n",
       "      <th id=\"T_644c4_level5_row5\" class=\"row_heading level5 row5\" >R</th>\n",
       "      <td id=\"T_644c4_row5_col0\" class=\"data row5 col0\" >1.000000</td>\n",
       "      <td id=\"T_644c4_row5_col1\" class=\"data row5 col1\" >0.250000</td>\n",
       "      <td id=\"T_644c4_row5_col2\" class=\"data row5 col2\" >0.400000</td>\n",
       "      <td id=\"T_644c4_row5_col3\" class=\"data row5 col3\" >10</td>\n",
       "      <td id=\"T_644c4_row5_col4\" class=\"data row5 col4\" >0</td>\n",
       "      <td id=\"T_644c4_row5_col5\" class=\"data row5 col5\" >30</td>\n",
       "      <td id=\"T_644c4_row5_col6\" class=\"data row5 col6\" >35</td>\n",
       "      <td id=\"T_644c4_row5_col7\" class=\"data row5 col7\" >0</td>\n",
       "      <td id=\"T_644c4_row5_col8\" class=\"data row5 col8\" >10</td>\n",
       "      <td id=\"T_644c4_row5_col9\" class=\"data row5 col9\" >75</td>\n",
       "      <td id=\"T_644c4_row5_col10\" class=\"data row5 col10\" >40</td>\n",
       "    </tr>\n",
       "    <tr>\n",
       "      <th id=\"T_644c4_level5_row6\" class=\"row_heading level5 row6\" >NR</th>\n",
       "      <td id=\"T_644c4_row6_col0\" class=\"data row6 col0\" >1.000000</td>\n",
       "      <td id=\"T_644c4_row6_col1\" class=\"data row6 col1\" >0.250000</td>\n",
       "      <td id=\"T_644c4_row6_col2\" class=\"data row6 col2\" >0.400000</td>\n",
       "      <td id=\"T_644c4_row6_col3\" class=\"data row6 col3\" >10</td>\n",
       "      <td id=\"T_644c4_row6_col4\" class=\"data row6 col4\" >0</td>\n",
       "      <td id=\"T_644c4_row6_col5\" class=\"data row6 col5\" >30</td>\n",
       "      <td id=\"T_644c4_row6_col6\" class=\"data row6 col6\" >35</td>\n",
       "      <td id=\"T_644c4_row6_col7\" class=\"data row6 col7\" >0</td>\n",
       "      <td id=\"T_644c4_row6_col8\" class=\"data row6 col8\" >10</td>\n",
       "      <td id=\"T_644c4_row6_col9\" class=\"data row6 col9\" >75</td>\n",
       "      <td id=\"T_644c4_row6_col10\" class=\"data row6 col10\" >40</td>\n",
       "    </tr>\n",
       "  </tbody>\n",
       "</table>\n"
      ],
      "text/plain": [
       "<pandas.io.formats.style.Styler at 0x7f12b722e290>"
      ]
     },
     "execution_count": 40,
     "metadata": {},
     "output_type": "execute_result"
    }
   ],
   "source": [
    "combinations_table, metrics_combinations_final = build_filter_combinations_table(\n",
    "    df_retrieved=df_r,\n",
    "    df_screened=df_s_with_ggponc,\n",
    "    latex_output_path=PATH_LATEX_TABLE_OUTPUT / \"final_metrics.tex\",\n",
    "    overwrite_latex_output=False,\n",
    "    use_abbreviations=True,\n",
    "    column_format=\"llllllS[table-format=1.2]S[table-format=1.2]S[table-format=1.2]S[table-format=2]S[table-format=2]S[table-format=2]S[table-format=2]S[table-format=2]S[table-format=2]\",\n",
    "    filters_retrieved = FILTERS_COMBINATIONS,\n",
    "    filters_retrieved_hierarchy = FILTERS_HIERARCHY,\n",
    ")\n",
    "\n",
    "highlight_metrics(combinations_table)"
   ]
  },
  {
   "cell_type": "code",
   "execution_count": 41,
   "metadata": {
    "tags": []
   },
   "outputs": [
    {
     "name": "stdout",
     "output_type": "stream",
     "text": [
      "\\begin{tabular}{lrrrrrrrrr}\n",
      "\\toprule\n",
      "{} &  Retr. &  TP &   ? &  FP &  TN &  FN &  Prec. &  Rec. &  \\$F\\_1\\$ \\\\\n",
      "\\midrule\n",
      "0 &     80 &  40 &  25 &  15 &  20 &   0 &   0.73 &  1.00 &   0.84 \\\\\n",
      "1 &     45 &  32 &   0 &  13 &  22 &   8 &   0.71 &  0.80 &   0.75 \\\\\n",
      "2 &     28 &  24 &   0 &   4 &  31 &  16 &   0.86 &  0.60 &   0.71 \\\\\n",
      "3 &     25 &  23 &   0 &   2 &  33 &  17 &   0.92 &  0.57 &   0.71 \\\\\n",
      "4 &     10 &  10 &   0 &   0 &  35 &  30 &   1.00 &  0.25 &   0.40 \\\\\n",
      "5 &     10 &  10 &   0 &   0 &  35 &  30 &   1.00 &  0.25 &   0.40 \\\\\n",
      "6 &     10 &  10 &   0 &   0 &  35 &  30 &   1.00 &  0.25 &   0.40 \\\\\n",
      "\\bottomrule\n",
      "\\end{tabular}\n",
      "\n"
     ]
    },
    {
     "name": "stderr",
     "output_type": "stream",
     "text": [
      "/tmp/ipykernel_3057478/1384292062.py:1: FutureWarning: In future versions `DataFrame.to_latex` is expected to utilise the base implementation of `Styler.to_latex` for formatting and rendering. The arguments signature may therefore change. It is recommended instead to use `DataFrame.style.to_latex` which also contains additional functionality.\n",
      "  print(combinations_table.reset_index()[['Retr.', 'TP', '?', 'FP', 'TN', 'FN', 'Prec.', 'Rec.', '$F_1$']].round(2).to_latex())\n"
     ]
    }
   ],
   "source": [
    "print(combinations_table.reset_index()[['Retr.', 'TP', '?', 'FP', 'TN', 'FN', 'Prec.', 'Rec.', '$F_1$']].round(2).to_latex())"
   ]
  },
  {
   "cell_type": "markdown",
   "metadata": {},
   "source": [
    "#### Remaining False Positives"
   ]
  },
  {
   "cell_type": "code",
   "execution_count": 42,
   "metadata": {
    "tags": []
   },
   "outputs": [],
   "source": [
    "ids_false_positives = (\n",
    "    metrics_to_df(metrics_combinations_final[\"Only RCTs\"], drop_columns=[])\n",
    "    .sort_values([\"Recall\", \"Precision\", \"Retrieved\"], ascending=[False, False, True])\n",
    "    .iloc[0][\"Ids_fp\"]\n",
    ")"
   ]
  },
  {
   "cell_type": "code",
   "execution_count": 43,
   "metadata": {
    "tags": []
   },
   "outputs": [],
   "source": [
    "false_positives = df_s_with_ggponc[\n",
    "    df_s_with_ggponc[\"pm_id\"].apply(lambda pm_id: pm_id in ids_false_positives)\n",
    "]"
   ]
  },
  {
   "cell_type": "code",
   "execution_count": 44,
   "metadata": {
    "tags": []
   },
   "outputs": [
    {
     "data": {
      "text/plain": [
       "ex_<50%:proportion of HL not reported                                                         3\n",
       "Children                                                                                      3\n",
       "irrelevant in RCT Suche: sekundäre Analyse eines RCTs, die nicht randomisiert war             2\n",
       "ex_abstract                                                                                   1\n",
       "non-Hodgkin Lymphome                                                                          1\n",
       "irrelevant in RCT Suche: \"healthy controls\", deshalb Fall-Kontroll-Studie                     1\n",
       "Studienprotokoll, nicht relevant                                                              1\n",
       "irrelevant in RCT Suche: sekundäre Analyse eines RCTs (NIVAHL), die nicht randomisiert war    1\n",
       "non-Hodgkin Lymphome                                                                          1\n",
       "für Leitlinie nicht relevant, da cost-effectiveness Analyse                                   1\n",
       "Name: exclusion_reason, dtype: int64"
      ]
     },
     "execution_count": 44,
     "metadata": {},
     "output_type": "execute_result"
    }
   ],
   "source": [
    "import ast\n",
    "\n",
    "false_positives[\"exclusion_reason\"].apply(\n",
    "    lambda r: ast.literal_eval(r) if r.startswith(\"{\") else r\n",
    ").apply(lambda d: d[\"subgroup\"] if isinstance(d, dict) else d).value_counts()"
   ]
  },
  {
   "cell_type": "markdown",
   "metadata": {},
   "source": [
    "## Missing RCTs"
   ]
  },
  {
   "cell_type": "markdown",
   "metadata": {},
   "source": [
    "We should be able to find all included RCTs. If not, we need to find out why we did not retrieve them:"
   ]
  },
  {
   "cell_type": "code",
   "execution_count": 45,
   "metadata": {
    "tags": []
   },
   "outputs": [],
   "source": [
    "from api.utils import query_api_for_concepts, concepts_to_df\n",
    "from api.models import ConceptsQuery\n",
    "\n",
    "missing_rcts_df = concepts_to_df(\n",
    "    query_api_for_concepts(\n",
    "        ConceptsQuery(\n",
    "            source=\"pubmed\",\n",
    "            ids=[\n",
    "                int(pm_id) for pm_id in metrics_w_manual[\"Only RCTs\"][\"All\"][\"ids_fn\"]\n",
    "            ],\n",
    "            kind=\"population\",\n",
    "        )\n",
    "    )\n",
    ")"
   ]
  },
  {
   "cell_type": "markdown",
   "metadata": {},
   "source": [
    "Looks like it is due to vague population concepts:"
   ]
  },
  {
   "cell_type": "code",
   "execution_count": 46,
   "metadata": {
    "tags": []
   },
   "outputs": [
    {
     "data": {
      "text/html": [
       "<div>\n",
       "<style scoped>\n",
       "    .dataframe tbody tr th:only-of-type {\n",
       "        vertical-align: middle;\n",
       "    }\n",
       "\n",
       "    .dataframe tbody tr th {\n",
       "        vertical-align: top;\n",
       "    }\n",
       "\n",
       "    .dataframe thead th {\n",
       "        text-align: right;\n",
       "    }\n",
       "</style>\n",
       "<table border=\"1\" class=\"dataframe\">\n",
       "  <thead>\n",
       "    <tr style=\"text-align: right;\">\n",
       "      <th></th>\n",
       "      <th>UMLS Term</th>\n",
       "    </tr>\n",
       "  </thead>\n",
       "  <tbody>\n",
       "    <tr>\n",
       "      <th>0</th>\n",
       "      <td>None</td>\n",
       "    </tr>\n",
       "  </tbody>\n",
       "</table>\n",
       "</div>"
      ],
      "text/plain": [
       "  UMLS Term\n",
       "0      None"
      ]
     },
     "execution_count": 46,
     "metadata": {},
     "output_type": "execute_result"
    }
   ],
   "source": [
    "from evaluation.metrics import prepare_missing_rcts_concepts_df\n",
    "\n",
    "missing_rcts_concepts_df = prepare_missing_rcts_concepts_df(\n",
    "    missing_rcts_df=missing_rcts_df\n",
    ")\n",
    "missing_rcts_concepts_df"
   ]
  },
  {
   "cell_type": "markdown",
   "metadata": {},
   "source": [
    "## Unscreened High Quality Evidence"
   ]
  },
  {
   "cell_type": "markdown",
   "metadata": {},
   "source": [
    "For this section, we consider all sources. However, we exclude duplicates that are both in Pubmed and in Trialstreamer:"
   ]
  },
  {
   "cell_type": "code",
   "execution_count": 47,
   "metadata": {
    "tags": []
   },
   "outputs": [],
   "source": [
    "df_query.reset_index(drop=True, inplace=True)\n",
    "df_query = df_query[\n",
    "    (\n",
    "        ~df_query.sort_values([\"pm_id\", \"source\"]).duplicated(\n",
    "            subset=\"pm_id\", keep=\"first\"\n",
    "        )\n",
    "    )\n",
    "    | (df_query[\"pm_id\"].isnull())\n",
    "]"
   ]
  },
  {
   "cell_type": "markdown",
   "metadata": {},
   "source": [
    "We then set boolean flags with which we can filter out the already screened evidence:"
   ]
  },
  {
   "cell_type": "code",
   "execution_count": 48,
   "metadata": {
    "tags": []
   },
   "outputs": [],
   "source": [
    "from evaluation.matching import check_for_matches_in_screened\n",
    "\n",
    "df_query = check_for_matches_in_screened(\n",
    "    df_query=df_query, df_screened=df_s_with_ggponc\n",
    ")"
   ]
  },
  {
   "cell_type": "code",
   "execution_count": 49,
   "metadata": {
    "tags": []
   },
   "outputs": [],
   "source": [
    "df_query_unscreened = df_query.query(\"is_screened == False\")"
   ]
  },
  {
   "cell_type": "code",
   "execution_count": 50,
   "metadata": {
    "tags": []
   },
   "outputs": [
    {
     "data": {
      "text/html": [
       "<div>\n",
       "<style scoped>\n",
       "    .dataframe tbody tr th:only-of-type {\n",
       "        vertical-align: middle;\n",
       "    }\n",
       "\n",
       "    .dataframe tbody tr th {\n",
       "        vertical-align: top;\n",
       "    }\n",
       "\n",
       "    .dataframe thead th {\n",
       "        text-align: right;\n",
       "    }\n",
       "</style>\n",
       "<table border=\"1\" class=\"dataframe\">\n",
       "  <thead>\n",
       "    <tr style=\"text-align: right;\">\n",
       "      <th>has_title_match_in_screened</th>\n",
       "      <th>False</th>\n",
       "      <th>All</th>\n",
       "    </tr>\n",
       "    <tr>\n",
       "      <th>source</th>\n",
       "      <th></th>\n",
       "      <th></th>\n",
       "    </tr>\n",
       "  </thead>\n",
       "  <tbody>\n",
       "    <tr>\n",
       "      <th>Civic</th>\n",
       "      <td>1</td>\n",
       "      <td>1</td>\n",
       "    </tr>\n",
       "    <tr>\n",
       "      <th>ClinicalTrials</th>\n",
       "      <td>136</td>\n",
       "      <td>136</td>\n",
       "    </tr>\n",
       "    <tr>\n",
       "      <th>Pubmed</th>\n",
       "      <td>176</td>\n",
       "      <td>176</td>\n",
       "    </tr>\n",
       "    <tr>\n",
       "      <th>All</th>\n",
       "      <td>313</td>\n",
       "      <td>313</td>\n",
       "    </tr>\n",
       "  </tbody>\n",
       "</table>\n",
       "</div>"
      ],
      "text/plain": [
       "has_title_match_in_screened  False  All\n",
       "source                                 \n",
       "Civic                            1    1\n",
       "ClinicalTrials                 136  136\n",
       "Pubmed                         176  176\n",
       "All                            313  313"
      ]
     },
     "execution_count": 50,
     "metadata": {},
     "output_type": "execute_result"
    }
   ],
   "source": [
    "pd.crosstab(\n",
    "    df_query_unscreened[\"source\"],\n",
    "    df_query_unscreened[\"has_title_match_in_screened\"],\n",
    "    margins=True,\n",
    ")"
   ]
  },
  {
   "cell_type": "code",
   "execution_count": 51,
   "metadata": {
    "tags": []
   },
   "outputs": [],
   "source": [
    "FILTER_HQ = (\n",
    "    \"is_in_ggponc == False\"\n",
    "    \"&\"\n",
    "    \"has_title_match_in_screened == False\"    \n",
    "    \"&\"\n",
    "    \"(\"\n",
    "    \"(source == 'ClinicalTrials' & phase_int >= 3 & results_available)\"\n",
    "    \"|\"\n",
    "    \"(source == 'Civic' & evidence_rating >= 4)\"\n",
    "    \"|\"\n",
    "    \"(source == 'Pubmed' & abstract.str.len() > 1 & is_rct_pt == True & phase_int >= 2)\"\n",
    "    \")\"\n",
    ")"
   ]
  },
  {
   "cell_type": "code",
   "execution_count": 52,
   "metadata": {
    "tags": []
   },
   "outputs": [
    {
     "name": "stdout",
     "output_type": "stream",
     "text": [
      "256 2023-01-31 00:00:00 <NA> Tac, Mini-MTX, MMF Versus Tac, MTX for GVHD Prevention\n"
     ]
    }
   ],
   "source": [
    "df_query_unscreened_hq = df_query_unscreened.query(FILTER_HQ)\n",
    "\n",
    "manual_review = df_query_unscreened_hq.sort_values(\n",
    "    [\"source\", \"publication_date\"], ascending=False\n",
    ")\n",
    "for i, r in manual_review.iterrows():\n",
    "    print(i, r.publication_date, r.pm_id, r.title)"
   ]
  },
  {
   "cell_type": "code",
   "execution_count": 53,
   "metadata": {
    "tags": []
   },
   "outputs": [],
   "source": [
    "df_query_unscreened_hq.to_csv(PATH_UNSCREENED_HQ, index=False)"
   ]
  },
  {
   "cell_type": "markdown",
   "metadata": {},
   "source": [
    "### Latex Output"
   ]
  },
  {
   "cell_type": "code",
   "execution_count": 54,
   "metadata": {
    "tags": []
   },
   "outputs": [],
   "source": [
    "from evaluation.metrics import remove_last_cline_from_tex_table"
   ]
  },
  {
   "cell_type": "markdown",
   "metadata": {},
   "source": [
    "#### Missing RCTs"
   ]
  },
  {
   "cell_type": "code",
   "execution_count": 55,
   "metadata": {
    "tags": []
   },
   "outputs": [],
   "source": [
    "if OVERWRITE_LATEX_OUTPUT:\n",
    "    missing_rcts_concepts_df[[\"UMLS Term\"]].style.format(escape=\"latex\").to_latex(\n",
    "        PATH_LATEX_TABLE_OUTPUT / f\"missing_rcts.tex\",\n",
    "        hrules=True,\n",
    "        clines=\"skip-last;data\",\n",
    "    )\n",
    "    remove_last_cline_from_tex_table(PATH_LATEX_TABLE_OUTPUT / f\"missing_rcts.tex\")"
   ]
  },
  {
   "cell_type": "markdown",
   "metadata": {},
   "source": [
    "#### Retrieval Metrics"
   ]
  },
  {
   "cell_type": "code",
   "execution_count": 56,
   "metadata": {
    "tags": []
   },
   "outputs": [],
   "source": [
    "if OVERWRITE_LATEX_OUTPUT:\n",
    "    for subset_screened_desc in metrics_w_manual.keys():\n",
    "        if subset_screened_desc == \"All\":\n",
    "            column_format = \"lS[table-format=1.2]S[table-format=1.2]S[table-format=1.2]S[table-format=2]S[table-format=2]S[table-format=2]S[table-format=3]S[table-format=2]S[table-format=3]\"\n",
    "        else:\n",
    "            column_format = \"lS[table-format=1.2]S[table-format=1.2]S[table-format=1.2]S[table-format=2]S[table-format=2]S[table-format=2]S[table-format=2]S[table-format=2]S[table-format=3]\"\n",
    "        highlight_metrics(\n",
    "            metrics_to_df(\n",
    "                metrics_w_manual[subset_screened_desc],\n",
    "                drop_zero_tp=False,\n",
    "                use_abbreviations=True,\n",
    "            )\n",
    "            .head(len(FILTERS_RETRIEVED))\n",
    "            .drop(columns=[\"Scr.\", \"Rel.\"])\n",
    "        ).applymap_index(lambda v: \"font-weight: bold;\", axis=\"columns\").to_latex(\n",
    "            PATH_LATEX_TABLE_OUTPUT / f\"prec_rec_{subset_screened_desc}.tex\",\n",
    "            hrules=True,\n",
    "            convert_css=True,\n",
    "            siunitx=True,\n",
    "            clines=\"all;data\",\n",
    "            column_format=column_format,\n",
    "        )\n",
    "        remove_last_cline_from_tex_table(\n",
    "            PATH_LATEX_TABLE_OUTPUT / f\"prec_rec_{subset_screened_desc}.tex\"\n",
    "        )"
   ]
  },
  {
   "cell_type": "code",
   "execution_count": 57,
   "metadata": {
    "tags": []
   },
   "outputs": [
    {
     "data": {
      "image/png": "[encoded data removed]",
      "text/plain": [
       "<Figure size 551.181x340.649 with 1 Axes>"
      ]
     },
     "metadata": {},
     "output_type": "display_data"
    },
    {
     "data": {
      "image/png": "[encoded data removed]",
      "text/plain": [
       "<Figure size 551.181x340.649 with 1 Axes>"
      ]
     },
     "metadata": {},
     "output_type": "display_data"
    }
   ],
   "source": [
    "if OVERWRITE_LATEX_OUTPUT:\n",
    "    for subset_screened_desc, subset_retrieved_desc in zip(\n",
    "        [\"All\", \"Only RCTs\"], [\"All\", \"Is RCT\"]\n",
    "    ):\n",
    "        fig, ax = draw_venn_rsi(\n",
    "            title=None,\n",
    "            ids_retrieved=metrics_w_manual[subset_screened_desc][subset_retrieved_desc][\n",
    "                \"ids_retrieved\"\n",
    "            ],\n",
    "            ids_screened=metrics_w_manual[subset_screened_desc][subset_retrieved_desc][\n",
    "                \"ids_screened\"\n",
    "            ],\n",
    "            ids_screened_relevant=metrics_w_manual[subset_screened_desc][\n",
    "                subset_retrieved_desc\n",
    "            ][\"ids_screened_relevant\"],\n",
    "            add_pn_labels=True,\n",
    "            circle_label_size=16,\n",
    "            label_size=14,\n",
    "        )\n",
    "        fig.savefig(\n",
    "            PATH_LATEX_PLOT_OUTPUT\n",
    "            / f\"venn3_screened_found_included_{subset_screened_desc}.pdf\",\n",
    "        )"
   ]
  },
  {
   "cell_type": "markdown",
   "metadata": {},
   "source": [
    "#### Screening Data"
   ]
  },
  {
   "cell_type": "code",
   "execution_count": 58,
   "metadata": {
    "tags": []
   },
   "outputs": [
    {
     "data": {
      "image/png": "[encoded data removed]",
      "text/plain": [
       "<Figure size 551.181x340.649 with 1 Axes>"
      ]
     },
     "metadata": {},
     "output_type": "display_data"
    }
   ],
   "source": [
    "from evaluation.plotting import draw_docs_by_publication_date\n",
    "\n",
    "if OVERWRITE_LATEX_OUTPUT:\n",
    "    draw_docs_by_publication_date(\n",
    "        df_screened=df_s,\n",
    "        col_date=\"publication_date\",\n",
    "        col_relevant=\"is_relevant\",\n",
    "        output_dir=PATH_LATEX_PLOT_OUTPUT,\n",
    "        file_name=f\"screened_by_publication_year.pdf\",\n",
    "    )"
   ]
  },
  {
   "cell_type": "code",
   "execution_count": 59,
   "metadata": {
    "tags": []
   },
   "outputs": [
    {
     "data": {
      "image/png": "[encoded data removed]",
      "text/plain": [
       "<Figure size 551.181x340.649 with 1 Axes>"
      ]
     },
     "metadata": {},
     "output_type": "display_data"
    }
   ],
   "source": [
    "from evaluation.plotting import draw_docs_publication_types\n",
    "\n",
    "if OVERWRITE_LATEX_OUTPUT:\n",
    "    draw_docs_publication_types(\n",
    "        df_screened=df_s,\n",
    "        n_most_common=10,\n",
    "        col_ptypes=\"publication_types\",\n",
    "        col_relevant=\"is_relevant\",\n",
    "        output_dir=PATH_LATEX_PLOT_OUTPUT,\n",
    "        file_name=f\"publication_types_included.pdf\",\n",
    "    )"
   ]
  },
  {
   "cell_type": "markdown",
   "metadata": {},
   "source": [
    "#### Retrieved Data"
   ]
  },
  {
   "cell_type": "code",
   "execution_count": 60,
   "metadata": {},
   "outputs": [
    {
     "data": {
      "image/png": "[encoded data removed]",
      "text/plain": [
       "<Figure size 551.181x340.649 with 1 Axes>"
      ]
     },
     "metadata": {},
     "output_type": "display_data"
    }
   ],
   "source": [
    "from evaluation.plotting import set_size\n",
    "from matplotlib.dates import AutoDateLocator\n",
    "\n",
    "if OVERWRITE_LATEX_OUTPUT:\n",
    "    monthly_retrievals = (\n",
    "        df_query.query(\"source != 'Trialstreamer'\")\n",
    "        .groupby([pd.Grouper(key=\"publication_date_combined\", freq=\"3M\"), \"source\"])\n",
    "        .size()\n",
    "        .unstack()\n",
    "        .rename(index=lambda d: f\"Q{pd.Timestamp(d).quarter} {d.year}\")\n",
    "        .rename_axis(\"Source\", axis=1)\n",
    "    )[[\"Pubmed\", \"ClinicalTrials\", \"Civic\"]]\n",
    "\n",
    "    fig, ax = plt.subplots(figsize=set_size(\"thesis\"), layout=\"constrained\")\n",
    "    monthly_retrievals.plot(\n",
    "        kind=\"bar\",\n",
    "        stacked=True,\n",
    "        ax=ax,\n",
    "        xlabel=\"Month of the Systematic Review Time Frame\",\n",
    "        ylabel=\"Number of Retrieved Publications\",\n",
    "        rot=0,\n",
    "    )\n",
    "    locator = AutoDateLocator()\n",
    "    locator.intervald[\"QUARTER\"] = 1\n",
    "    ax.xaxis.set_major_locator(locator)\n",
    "    fig.savefig(PATH_LATEX_PLOT_OUTPUT / f\"monthly_retrievals_by_source.pdf\")"
   ]
  },
  {
   "cell_type": "code",
   "execution_count": 61,
   "metadata": {},
   "outputs": [],
   "source": [
    "monhtly_retrieved_vs_screened_pm = (\n",
    "    df_query.query(\"source == 'Pubmed' & is_rct_pt == True & is_in_ggponc == False\")\n",
    "    .merge(df_s[[\"pm_id\", \"is_included\"]], on=\"pm_id\", how=\"left\", indicator=True)\n",
    "    .groupby([pd.Grouper(key=\"publication_date_combined\", freq=\"3M\"), \"_merge\"])\n",
    "    .size()\n",
    "    .unstack()[[\"both\", \"left_only\"]]\n",
    "    .rename(\n",
    "        index=lambda d: f\"Q{pd.Timestamp(d).quarter} {d.year}\",\n",
    "        columns={\"left_only\": \"Unscreened\", \"both\": \"Screened\"},\n",
    "    )\n",
    "    .rename_axis(None, axis=1)\n",
    ").astype(int)"
   ]
  },
  {
   "cell_type": "code",
   "execution_count": 62,
   "metadata": {},
   "outputs": [
    {
     "data": {
      "image/png": "[encoded data removed]",
      "text/plain": [
       "<Figure size 551.181x340.649 with 1 Axes>"
      ]
     },
     "metadata": {},
     "output_type": "display_data"
    }
   ],
   "source": [
    "from matplotlib.ticker import MaxNLocator\n",
    "\n",
    "if OVERWRITE_LATEX_OUTPUT:\n",
    "    fig, ax = plt.subplots(figsize=set_size(\"thesis\"), layout=\"constrained\")\n",
    "\n",
    "    monhtly_retrieved_vs_screened_pm = (\n",
    "        df_query.query(\"source == 'Pubmed' & is_rct_pt == True & is_in_ggponc == False\")\n",
    "        .merge(df_s[[\"pm_id\", \"is_included\"]], on=\"pm_id\", how=\"left\", indicator=True)\n",
    "        .groupby([pd.Grouper(key=\"publication_date_combined\", freq=\"3M\"), \"_merge\"])\n",
    "        .size()\n",
    "        .unstack()[[\"both\", \"left_only\"]]\n",
    "        .rename(\n",
    "            index=lambda d: f\"Q{pd.Timestamp(d).quarter} {d.year}\",\n",
    "            columns={\"left_only\": \"Unscreened\", \"both\": \"Screened\"},\n",
    "        )\n",
    "        .rename_axis(None, axis=1)\n",
    "    ).astype(int)\n",
    "\n",
    "    monhtly_retrieved_vs_screened_pm.plot(\n",
    "        kind=\"bar\",\n",
    "        stacked=True,\n",
    "        ylabel=\"Number of RCTs retrieved from Pubmed\",\n",
    "        xlabel=\"Month of the Systematic Review Time Frame\",\n",
    "        ax=ax,\n",
    "        rot=0,\n",
    "    )\n",
    "\n",
    "    locator = AutoDateLocator()\n",
    "    locator.intervald[\"QUARTER\"] = 1\n",
    "    ax.xaxis.set_major_locator(locator)\n",
    "    ax.yaxis.set_major_locator(MaxNLocator(integer=True))\n",
    "\n",
    "    fig.savefig(PATH_LATEX_PLOT_OUTPUT / f\"monthly_retrieved_vs_screened_rcts.pdf\")"
   ]
  },
  {
   "cell_type": "code",
   "execution_count": 63,
   "metadata": {},
   "outputs": [
    {
     "data": {
      "image/png": "[encoded data removed]",
      "text/plain": [
       "<Figure size 551.181x340.649 with 1 Axes>"
      ]
     },
     "metadata": {},
     "output_type": "display_data"
    }
   ],
   "source": [
    "if OVERWRITE_LATEX_OUTPUT:\n",
    "    df_query.loc[df_query.query(FILTER_HQ).index, \"is_hq\"] = True\n",
    "    df_query[\"is_hq\"] = df_query[\"is_hq\"].fillna(False)\n",
    "\n",
    "    fig, ax = plt.subplots(figsize=set_size(\"thesis\"), layout=\"constrained\")\n",
    "    df_query.query(\"source != 'Trialstreamer'\").groupby(\n",
    "        [pd.Grouper(key=\"publication_date_combined\", freq=\"3M\"), \"is_hq\"]\n",
    "    ).size().unstack().rename(\n",
    "        index=lambda d: f\"Q{pd.Timestamp(d).quarter} {d.year}\",\n",
    "        columns={True: \"High\", False: \"Normal\"},\n",
    "    ).rename_axis(\n",
    "        \"Evidence Quality\", axis=1\n",
    "    ).plot(\n",
    "        kind=\"bar\",\n",
    "        stacked=True,\n",
    "        ax=ax,\n",
    "        xlabel=\"Month of the Systematic Review Time Frame\",\n",
    "        ylabel=\"Number of Retrieved Publications\",\n",
    "        rot=0,\n",
    "    )\n",
    "    locator = AutoDateLocator()\n",
    "    locator.intervald[\"QUARTER\"] = 1\n",
    "    ax.xaxis.set_major_locator(locator)"
   ]
  },
  {
   "cell_type": "code",
   "execution_count": 64,
   "metadata": {},
   "outputs": [
    {
     "data": {
      "image/png": "[encoded data removed]",
      "text/plain": [
       "<Figure size 551.181x340.649 with 1 Axes>"
      ]
     },
     "metadata": {},
     "output_type": "display_data"
    }
   ],
   "source": [
    "if OVERWRITE_LATEX_OUTPUT:\n",
    "    df_merged = (\n",
    "        df_query.query(\"source == 'Pubmed' & is_rct_pt == True\")\n",
    "        .dropna(subset=\"pm_id\")\n",
    "        .merge(\n",
    "            df_s.query(\"is_rct_api == True\")[\n",
    "                [\"pm_id\", \"publication_date\", \"is_included\"]\n",
    "            ].dropna(subset=\"pm_id\"),\n",
    "            on=\"pm_id\",\n",
    "            how=\"outer\",\n",
    "            indicator=True,\n",
    "        )\n",
    "    )\n",
    "    df_merged[\"common_publication_date\"] = df_merged[\n",
    "        \"publication_date_combined\"\n",
    "    ].fillna(df_merged[\"publication_date_y\"])\n",
    "\n",
    "    montly_retrieved_vs_screened = (\n",
    "        df_merged.groupby(\n",
    "            [pd.Grouper(key=\"common_publication_date\", freq=\"3M\"), \"_merge\"]\n",
    "        )\n",
    "        .size()\n",
    "        .unstack()\n",
    "        .rename(\n",
    "            index=lambda d: f\"Q{pd.Timestamp(d).quarter} {d.year}\",\n",
    "            columns={\n",
    "                \"left_only\": \"Only Retrieved\",\n",
    "                \"both\": \"Screened and Retrieved\",\n",
    "                \"right_only\": \"Only Screened\",\n",
    "            },\n",
    "        )\n",
    "        .rename_axis(None, axis=1)\n",
    "    )[[\"Only Screened\", \"Screened and Retrieved\", \"Only Retrieved\"]]\n",
    "\n",
    "    fig, ax = plt.subplots(figsize=set_size(\"thesis\"), layout=\"constrained\")\n",
    "    montly_retrieved_vs_screened.plot(\n",
    "        kind=\"bar\",\n",
    "        stacked=True,\n",
    "        ax=ax,\n",
    "        xlabel=\"Year of the Systematic Review Time Frame\",\n",
    "        ylabel=\"Number of RCTs\",\n",
    "        rot=0,\n",
    "    )\n",
    "    locator = AutoDateLocator()\n",
    "    locator.intervald[\"QUARTER\"] = 1\n",
    "    ax.xaxis.set_major_locator(locator)\n",
    "\n",
    "    fig.savefig(PATH_LATEX_PLOT_OUTPUT / f\"yearly_retrieved_vs_screened_rcts.pdf\")"
   ]
  }
 ],
 "metadata": {
  "kernelspec": {
   "display_name": "Python [conda env:nge]",
   "language": "python",
   "name": "conda-env-nge-py"
  },
  "language_info": {
   "codemirror_mode": {
    "name": "ipython",
    "version": 3
   },
   "file_extension": ".py",
   "mimetype": "text/x-python",
   "name": "python",
   "nbconvert_exporter": "python",
   "pygments_lexer": "ipython3",
   "version": "3.10.12"
  }
 },
 "nbformat": 4,
 "nbformat_minor": 4
}
