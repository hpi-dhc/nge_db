{
  "cells": [
    {
      "attachments": {},
      "cell_type": "markdown",
      "metadata": {},
      "source": [
        "# Preparing the Evidence Inference Dataset"
      ]
    },
    {
      "cell_type": "code",
      "execution_count": 1,
      "metadata": {},
      "outputs": [],
      "source": [
        "import pooch\n",
        "import pandas as pd\n",
        "from pathlib import Path\n",
        "from tqdm.auto import tqdm\n",
        "from evaluation.plotting import set_size\n",
        "import matplotlib.pyplot as plt\n",
        "\n",
        "plt.style.use(\"../../thesis.mplstyle\")"
      ]
    },
    {
      "cell_type": "code",
      "execution_count": 2,
      "metadata": {},
      "outputs": [],
      "source": [
        "PATH_LATEX_PLOT_OUTPUT = Path(\"../../thesis/from_python/figures/classification/\")\n",
        "PATH_LATEX_PLOT_OUTPUT.mkdir(exist_ok=True, parents=True)\n",
        "\n",
        "PATH_LATEX_TABLE_OUTPUT = Path(\"../../thesis/from_python/tables/classification/\")\n",
        "PATH_LATEX_TABLE_OUTPUT.mkdir(exist_ok=True, parents=True)"
      ]
    },
    {
      "attachments": {},
      "cell_type": "markdown",
      "metadata": {},
      "source": [
        "### Download dataset"
      ]
    },
    {
      "cell_type": "code",
      "execution_count": 3,
      "metadata": {},
      "outputs": [],
      "source": [
        "ei_dataset_files = pooch.retrieve(\n",
        "    url=\"http://evidence-inference.ebm-nlp.com/v2.0.tar.gz\",\n",
        "    known_hash=\"6abe0d4ec0d331834981c0171c3c79d47515761867f82f1dc6066e43863a1586\",\n",
        "    processor=pooch.Untar(),\n",
        ")"
      ]
    },
    {
      "attachments": {},
      "cell_type": "markdown",
      "metadata": {},
      "source": [
        "### Merging Annotations and Prompts"
      ]
    },
    {
      "cell_type": "code",
      "execution_count": 4,
      "metadata": {},
      "outputs": [
        {
          "data": {
            "text/html": [
              "<div>\n",
              "<style scoped>\n",
              "    .dataframe tbody tr th:only-of-type {\n",
              "        vertical-align: middle;\n",
              "    }\n",
              "\n",
              "    .dataframe tbody tr th {\n",
              "        vertical-align: top;\n",
              "    }\n",
              "\n",
              "    .dataframe thead th {\n",
              "        text-align: right;\n",
              "    }\n",
              "</style>\n",
              "<table border=\"1\" class=\"dataframe\">\n",
              "  <thead>\n",
              "    <tr style=\"text-align: right;\">\n",
              "      <th></th>\n",
              "      <th>PromptID</th>\n",
              "      <th>PMCID</th>\n",
              "      <th>Valid Label</th>\n",
              "      <th>Valid Reasoning</th>\n",
              "      <th>Label</th>\n",
              "      <th>Annotations</th>\n",
              "      <th>Label Code</th>\n",
              "      <th>In Abstract</th>\n",
              "      <th>Evidence Start</th>\n",
              "      <th>Evidence End</th>\n",
              "    </tr>\n",
              "    <tr>\n",
              "      <th>UserID</th>\n",
              "      <th></th>\n",
              "      <th></th>\n",
              "      <th></th>\n",
              "      <th></th>\n",
              "      <th></th>\n",
              "      <th></th>\n",
              "      <th></th>\n",
              "      <th></th>\n",
              "      <th></th>\n",
              "      <th></th>\n",
              "    </tr>\n",
              "  </thead>\n",
              "  <tbody>\n",
              "    <tr>\n",
              "      <th>0</th>\n",
              "      <td>213</td>\n",
              "      <td>2206488</td>\n",
              "      <td>True</td>\n",
              "      <td>True</td>\n",
              "      <td>no significant difference</td>\n",
              "      <td>IL-6r (ng/ml)\\t\\t\\t\\t\\t\\t\\t Group A\\t43.6 (1.7...</td>\n",
              "      <td>0</td>\n",
              "      <td>False</td>\n",
              "      <td>-1</td>\n",
              "      <td>-1</td>\n",
              "    </tr>\n",
              "    <tr>\n",
              "      <th>1</th>\n",
              "      <td>213</td>\n",
              "      <td>2206488</td>\n",
              "      <td>True</td>\n",
              "      <td>True</td>\n",
              "      <td>no significant difference</td>\n",
              "      <td>There was no significant difference in IL 6, I...</td>\n",
              "      <td>0</td>\n",
              "      <td>True</td>\n",
              "      <td>1612</td>\n",
              "      <td>1708</td>\n",
              "    </tr>\n",
              "    <tr>\n",
              "      <th>3</th>\n",
              "      <td>213</td>\n",
              "      <td>2206488</td>\n",
              "      <td>True</td>\n",
              "      <td>True</td>\n",
              "      <td>no significant difference</td>\n",
              "      <td>There was no significant difference in IL 6, I...</td>\n",
              "      <td>0</td>\n",
              "      <td>True</td>\n",
              "      <td>1612</td>\n",
              "      <td>1707</td>\n",
              "    </tr>\n",
              "    <tr>\n",
              "      <th>2</th>\n",
              "      <td>213</td>\n",
              "      <td>2206488</td>\n",
              "      <td>True</td>\n",
              "      <td>True</td>\n",
              "      <td>no significant difference</td>\n",
              "      <td>There was no significant difference in IL 6, I...</td>\n",
              "      <td>0</td>\n",
              "      <td>True</td>\n",
              "      <td>1612</td>\n",
              "      <td>1707</td>\n",
              "    </tr>\n",
              "    <tr>\n",
              "      <th>0</th>\n",
              "      <td>98</td>\n",
              "      <td>2858204</td>\n",
              "      <td>True</td>\n",
              "      <td>True</td>\n",
              "      <td>significantly increased</td>\n",
              "      <td>After two weeks of treatment, the reduction in...</td>\n",
              "      <td>1</td>\n",
              "      <td>True</td>\n",
              "      <td>18239</td>\n",
              "      <td>18338</td>\n",
              "    </tr>\n",
              "  </tbody>\n",
              "</table>\n",
              "</div>"
            ],
            "text/plain": [
              "        PromptID    PMCID  Valid Label  Valid Reasoning  \\\n",
              "UserID                                                    \n",
              "0            213  2206488         True             True   \n",
              "1            213  2206488         True             True   \n",
              "3            213  2206488         True             True   \n",
              "2            213  2206488         True             True   \n",
              "0             98  2858204         True             True   \n",
              "\n",
              "                            Label  \\\n",
              "UserID                              \n",
              "0       no significant difference   \n",
              "1       no significant difference   \n",
              "3       no significant difference   \n",
              "2       no significant difference   \n",
              "0         significantly increased   \n",
              "\n",
              "                                              Annotations  Label Code  \\\n",
              "UserID                                                                  \n",
              "0       IL-6r (ng/ml)\\t\\t\\t\\t\\t\\t\\t Group A\\t43.6 (1.7...           0   \n",
              "1       There was no significant difference in IL 6, I...           0   \n",
              "3       There was no significant difference in IL 6, I...           0   \n",
              "2       There was no significant difference in IL 6, I...           0   \n",
              "0       After two weeks of treatment, the reduction in...           1   \n",
              "\n",
              "        In Abstract  Evidence Start  Evidence End  \n",
              "UserID                                             \n",
              "0             False              -1            -1  \n",
              "1              True            1612          1708  \n",
              "3              True            1612          1707  \n",
              "2              True            1612          1707  \n",
              "0              True           18239         18338  "
            ]
          },
          "execution_count": 4,
          "metadata": {},
          "output_type": "execute_result"
        }
      ],
      "source": [
        "annotations = pd.read_csv(\n",
        "    list(filter(lambda p: \"annotations_merged.csv\" in p, ei_dataset_files))[0],\n",
        "    index_col=0,\n",
        ")\n",
        "annotations.head()"
      ]
    },
    {
      "cell_type": "code",
      "execution_count": 5,
      "metadata": {},
      "outputs": [
        {
          "data": {
            "text/html": [
              "<div>\n",
              "<style scoped>\n",
              "    .dataframe tbody tr th:only-of-type {\n",
              "        vertical-align: middle;\n",
              "    }\n",
              "\n",
              "    .dataframe tbody tr th {\n",
              "        vertical-align: top;\n",
              "    }\n",
              "\n",
              "    .dataframe thead th {\n",
              "        text-align: right;\n",
              "    }\n",
              "</style>\n",
              "<table border=\"1\" class=\"dataframe\">\n",
              "  <thead>\n",
              "    <tr style=\"text-align: right;\">\n",
              "      <th></th>\n",
              "      <th>PromptID</th>\n",
              "      <th>PMCID</th>\n",
              "      <th>Outcome</th>\n",
              "      <th>Intervention</th>\n",
              "      <th>Comparator</th>\n",
              "    </tr>\n",
              "  </thead>\n",
              "  <tbody>\n",
              "    <tr>\n",
              "      <th>0</th>\n",
              "      <td>213</td>\n",
              "      <td>2206488</td>\n",
              "      <td>IL-6r (ng/ml)</td>\n",
              "      <td>dextran-70 infusion was administered at a dose...</td>\n",
              "      <td>identical amounts of gelatin infusion</td>\n",
              "    </tr>\n",
              "    <tr>\n",
              "      <th>1</th>\n",
              "      <td>98</td>\n",
              "      <td>2858204</td>\n",
              "      <td>downsizing of ucler area 2 weeks after treatment</td>\n",
              "      <td>HBOT</td>\n",
              "      <td>placebo</td>\n",
              "    </tr>\n",
              "    <tr>\n",
              "      <th>2</th>\n",
              "      <td>150</td>\n",
              "      <td>2871176</td>\n",
              "      <td>Incidence of minor hypoglycaemia</td>\n",
              "      <td>Liraglutide (1.2 mg) plus glimepiride</td>\n",
              "      <td>Rosiglitazone plus glimepiride</td>\n",
              "    </tr>\n",
              "    <tr>\n",
              "      <th>3</th>\n",
              "      <td>191</td>\n",
              "      <td>2517154</td>\n",
              "      <td>Dysmenorrhea scores</td>\n",
              "      <td>Infliximab</td>\n",
              "      <td>Placebo</td>\n",
              "    </tr>\n",
              "    <tr>\n",
              "      <th>4</th>\n",
              "      <td>113</td>\n",
              "      <td>2871176</td>\n",
              "      <td>Patients reaching HbA1c goals less than 7.0% a...</td>\n",
              "      <td>Liraglutide (1.8 mg) plus glimepiride</td>\n",
              "      <td>Rosiglitazone plus glimepiride</td>\n",
              "    </tr>\n",
              "  </tbody>\n",
              "</table>\n",
              "</div>"
            ],
            "text/plain": [
              "   PromptID    PMCID                                            Outcome  \\\n",
              "0       213  2206488                                      IL-6r (ng/ml)   \n",
              "1        98  2858204   downsizing of ucler area 2 weeks after treatment   \n",
              "2       150  2871176                   Incidence of minor hypoglycaemia   \n",
              "3       191  2517154                                Dysmenorrhea scores   \n",
              "4       113  2871176  Patients reaching HbA1c goals less than 7.0% a...   \n",
              "\n",
              "                                        Intervention  \\\n",
              "0  dextran-70 infusion was administered at a dose...   \n",
              "1                                              HBOT    \n",
              "2              Liraglutide (1.2 mg) plus glimepiride   \n",
              "3                                         Infliximab   \n",
              "4              Liraglutide (1.8 mg) plus glimepiride   \n",
              "\n",
              "                              Comparator  \n",
              "0  identical amounts of gelatin infusion  \n",
              "1                                placebo  \n",
              "2         Rosiglitazone plus glimepiride  \n",
              "3                                Placebo  \n",
              "4         Rosiglitazone plus glimepiride  "
            ]
          },
          "execution_count": 5,
          "metadata": {},
          "output_type": "execute_result"
        }
      ],
      "source": [
        "prompts = pd.read_csv(\n",
        "    list(filter(lambda p: \"prompts_merged.csv\" in p, ei_dataset_files))[0]\n",
        ")\n",
        "prompts.head()"
      ]
    },
    {
      "cell_type": "code",
      "execution_count": 6,
      "metadata": {},
      "outputs": [
        {
          "data": {
            "text/html": [
              "<div>\n",
              "<style scoped>\n",
              "    .dataframe tbody tr th:only-of-type {\n",
              "        vertical-align: middle;\n",
              "    }\n",
              "\n",
              "    .dataframe tbody tr th {\n",
              "        vertical-align: top;\n",
              "    }\n",
              "\n",
              "    .dataframe thead th {\n",
              "        text-align: right;\n",
              "    }\n",
              "</style>\n",
              "<table border=\"1\" class=\"dataframe\">\n",
              "  <thead>\n",
              "    <tr style=\"text-align: right;\">\n",
              "      <th></th>\n",
              "      <th>PromptID</th>\n",
              "      <th>PMCID</th>\n",
              "      <th>Valid Label</th>\n",
              "      <th>Valid Reasoning</th>\n",
              "      <th>Label</th>\n",
              "      <th>Annotations</th>\n",
              "      <th>Label Code</th>\n",
              "      <th>In Abstract</th>\n",
              "      <th>Evidence Start</th>\n",
              "      <th>Evidence End</th>\n",
              "      <th>Outcome</th>\n",
              "      <th>Intervention</th>\n",
              "      <th>Comparator</th>\n",
              "    </tr>\n",
              "  </thead>\n",
              "  <tbody>\n",
              "    <tr>\n",
              "      <th>0</th>\n",
              "      <td>213</td>\n",
              "      <td>2206488</td>\n",
              "      <td>True</td>\n",
              "      <td>True</td>\n",
              "      <td>no significant difference</td>\n",
              "      <td>IL-6r (ng/ml)\\t\\t\\t\\t\\t\\t\\t Group A\\t43.6 (1.7...</td>\n",
              "      <td>0</td>\n",
              "      <td>False</td>\n",
              "      <td>-1</td>\n",
              "      <td>-1</td>\n",
              "      <td>IL-6r (ng/ml)</td>\n",
              "      <td>dextran-70 infusion was administered at a dose...</td>\n",
              "      <td>identical amounts of gelatin infusion</td>\n",
              "    </tr>\n",
              "    <tr>\n",
              "      <th>1</th>\n",
              "      <td>213</td>\n",
              "      <td>2206488</td>\n",
              "      <td>True</td>\n",
              "      <td>True</td>\n",
              "      <td>no significant difference</td>\n",
              "      <td>There was no significant difference in IL 6, I...</td>\n",
              "      <td>0</td>\n",
              "      <td>True</td>\n",
              "      <td>1612</td>\n",
              "      <td>1708</td>\n",
              "      <td>IL-6r (ng/ml)</td>\n",
              "      <td>dextran-70 infusion was administered at a dose...</td>\n",
              "      <td>identical amounts of gelatin infusion</td>\n",
              "    </tr>\n",
              "    <tr>\n",
              "      <th>2</th>\n",
              "      <td>213</td>\n",
              "      <td>2206488</td>\n",
              "      <td>True</td>\n",
              "      <td>True</td>\n",
              "      <td>no significant difference</td>\n",
              "      <td>There was no significant difference in IL 6, I...</td>\n",
              "      <td>0</td>\n",
              "      <td>True</td>\n",
              "      <td>1612</td>\n",
              "      <td>1707</td>\n",
              "      <td>IL-6r (ng/ml)</td>\n",
              "      <td>dextran-70 infusion was administered at a dose...</td>\n",
              "      <td>identical amounts of gelatin infusion</td>\n",
              "    </tr>\n",
              "    <tr>\n",
              "      <th>3</th>\n",
              "      <td>213</td>\n",
              "      <td>2206488</td>\n",
              "      <td>True</td>\n",
              "      <td>True</td>\n",
              "      <td>no significant difference</td>\n",
              "      <td>There was no significant difference in IL 6, I...</td>\n",
              "      <td>0</td>\n",
              "      <td>True</td>\n",
              "      <td>1612</td>\n",
              "      <td>1707</td>\n",
              "      <td>IL-6r (ng/ml)</td>\n",
              "      <td>dextran-70 infusion was administered at a dose...</td>\n",
              "      <td>identical amounts of gelatin infusion</td>\n",
              "    </tr>\n",
              "    <tr>\n",
              "      <th>4</th>\n",
              "      <td>98</td>\n",
              "      <td>2858204</td>\n",
              "      <td>True</td>\n",
              "      <td>True</td>\n",
              "      <td>significantly increased</td>\n",
              "      <td>After two weeks of treatment, the reduction in...</td>\n",
              "      <td>1</td>\n",
              "      <td>True</td>\n",
              "      <td>18239</td>\n",
              "      <td>18338</td>\n",
              "      <td>downsizing of ucler area 2 weeks after treatment</td>\n",
              "      <td>HBOT</td>\n",
              "      <td>placebo</td>\n",
              "    </tr>\n",
              "    <tr>\n",
              "      <th>...</th>\n",
              "      <td>...</td>\n",
              "      <td>...</td>\n",
              "      <td>...</td>\n",
              "      <td>...</td>\n",
              "      <td>...</td>\n",
              "      <td>...</td>\n",
              "      <td>...</td>\n",
              "      <td>...</td>\n",
              "      <td>...</td>\n",
              "      <td>...</td>\n",
              "      <td>...</td>\n",
              "      <td>...</td>\n",
              "      <td>...</td>\n",
              "    </tr>\n",
              "    <tr>\n",
              "      <th>24681</th>\n",
              "      <td>13889</td>\n",
              "      <td>4105274</td>\n",
              "      <td>True</td>\n",
              "      <td>True</td>\n",
              "      <td>no significant difference</td>\n",
              "      <td>the knee flexion range of motion of the patien...</td>\n",
              "      <td>0</td>\n",
              "      <td>False</td>\n",
              "      <td>17445</td>\n",
              "      <td>17744</td>\n",
              "      <td>knee flexion range of motion</td>\n",
              "      <td>With gabapentin</td>\n",
              "      <td>Without gabapentin</td>\n",
              "    </tr>\n",
              "    <tr>\n",
              "      <th>24682</th>\n",
              "      <td>13890</td>\n",
              "      <td>4889182</td>\n",
              "      <td>True</td>\n",
              "      <td>True</td>\n",
              "      <td>no significant difference</td>\n",
              "      <td>Examining 7\u2010day page views (Table&amp;nbsp;3), the...</td>\n",
              "      <td>0</td>\n",
              "      <td>False</td>\n",
              "      <td>14443</td>\n",
              "      <td>14619</td>\n",
              "      <td>number of page views in the social media group</td>\n",
              "      <td>social media exposure</td>\n",
              "      <td>no social media exposure (control)</td>\n",
              "    </tr>\n",
              "    <tr>\n",
              "      <th>24683</th>\n",
              "      <td>13890</td>\n",
              "      <td>4889182</td>\n",
              "      <td>True</td>\n",
              "      <td>True</td>\n",
              "      <td>no significant difference</td>\n",
              "      <td>Examining 7\u2010day page views (Table\u00a03), there wa...</td>\n",
              "      <td>0</td>\n",
              "      <td>False</td>\n",
              "      <td>14443</td>\n",
              "      <td>14619</td>\n",
              "      <td>number of page views in the social media group</td>\n",
              "      <td>social media exposure</td>\n",
              "      <td>no social media exposure (control)</td>\n",
              "    </tr>\n",
              "    <tr>\n",
              "      <th>24684</th>\n",
              "      <td>13891</td>\n",
              "      <td>3398966</td>\n",
              "      <td>True</td>\n",
              "      <td>True</td>\n",
              "      <td>significantly decreased</td>\n",
              "      <td>Overall, 86 (9.9%) intervention participants a...</td>\n",
              "      <td>-1</td>\n",
              "      <td>False</td>\n",
              "      <td>43505</td>\n",
              "      <td>43760</td>\n",
              "      <td>Mortality</td>\n",
              "      <td>the HQP model of community-based nurse care ma...</td>\n",
              "      <td>the usual care afforded to traditional Medicar...</td>\n",
              "    </tr>\n",
              "    <tr>\n",
              "      <th>24685</th>\n",
              "      <td>13891</td>\n",
              "      <td>3398966</td>\n",
              "      <td>True</td>\n",
              "      <td>True</td>\n",
              "      <td>significantly decreased</td>\n",
              "      <td>Overall, 86 (9.9%) intervention participants a...</td>\n",
              "      <td>-1</td>\n",
              "      <td>False</td>\n",
              "      <td>43505</td>\n",
              "      <td>43759</td>\n",
              "      <td>Mortality</td>\n",
              "      <td>the HQP model of community-based nurse care ma...</td>\n",
              "      <td>the usual care afforded to traditional Medicar...</td>\n",
              "    </tr>\n",
              "  </tbody>\n",
              "</table>\n",
              "<p>24686 rows \u00d7 13 columns</p>\n",
              "</div>"
            ],
            "text/plain": [
              "       PromptID    PMCID  Valid Label  Valid Reasoning  \\\n",
              "0           213  2206488         True             True   \n",
              "1           213  2206488         True             True   \n",
              "2           213  2206488         True             True   \n",
              "3           213  2206488         True             True   \n",
              "4            98  2858204         True             True   \n",
              "...         ...      ...          ...              ...   \n",
              "24681     13889  4105274         True             True   \n",
              "24682     13890  4889182         True             True   \n",
              "24683     13890  4889182         True             True   \n",
              "24684     13891  3398966         True             True   \n",
              "24685     13891  3398966         True             True   \n",
              "\n",
              "                           Label  \\\n",
              "0      no significant difference   \n",
              "1      no significant difference   \n",
              "2      no significant difference   \n",
              "3      no significant difference   \n",
              "4        significantly increased   \n",
              "...                          ...   \n",
              "24681  no significant difference   \n",
              "24682  no significant difference   \n",
              "24683  no significant difference   \n",
              "24684    significantly decreased   \n",
              "24685    significantly decreased   \n",
              "\n",
              "                                             Annotations  Label Code  \\\n",
              "0      IL-6r (ng/ml)\\t\\t\\t\\t\\t\\t\\t Group A\\t43.6 (1.7...           0   \n",
              "1      There was no significant difference in IL 6, I...           0   \n",
              "2      There was no significant difference in IL 6, I...           0   \n",
              "3      There was no significant difference in IL 6, I...           0   \n",
              "4      After two weeks of treatment, the reduction in...           1   \n",
              "...                                                  ...         ...   \n",
              "24681  the knee flexion range of motion of the patien...           0   \n",
              "24682  Examining 7\u2010day page views (Table&nbsp;3), the...           0   \n",
              "24683  Examining 7\u2010day page views (Table\u00a03), there wa...           0   \n",
              "24684  Overall, 86 (9.9%) intervention participants a...          -1   \n",
              "24685  Overall, 86 (9.9%) intervention participants a...          -1   \n",
              "\n",
              "       In Abstract  Evidence Start  Evidence End  \\\n",
              "0            False              -1            -1   \n",
              "1             True            1612          1708   \n",
              "2             True            1612          1707   \n",
              "3             True            1612          1707   \n",
              "4             True           18239         18338   \n",
              "...            ...             ...           ...   \n",
              "24681        False           17445         17744   \n",
              "24682        False           14443         14619   \n",
              "24683        False           14443         14619   \n",
              "24684        False           43505         43760   \n",
              "24685        False           43505         43759   \n",
              "\n",
              "                                                Outcome  \\\n",
              "0                                         IL-6r (ng/ml)   \n",
              "1                                         IL-6r (ng/ml)   \n",
              "2                                         IL-6r (ng/ml)   \n",
              "3                                         IL-6r (ng/ml)   \n",
              "4      downsizing of ucler area 2 weeks after treatment   \n",
              "...                                                 ...   \n",
              "24681                      knee flexion range of motion   \n",
              "24682    number of page views in the social media group   \n",
              "24683    number of page views in the social media group   \n",
              "24684                                         Mortality   \n",
              "24685                                         Mortality   \n",
              "\n",
              "                                            Intervention  \\\n",
              "0      dextran-70 infusion was administered at a dose...   \n",
              "1      dextran-70 infusion was administered at a dose...   \n",
              "2      dextran-70 infusion was administered at a dose...   \n",
              "3      dextran-70 infusion was administered at a dose...   \n",
              "4                                                  HBOT    \n",
              "...                                                  ...   \n",
              "24681                                    With gabapentin   \n",
              "24682                              social media exposure   \n",
              "24683                              social media exposure   \n",
              "24684  the HQP model of community-based nurse care ma...   \n",
              "24685  the HQP model of community-based nurse care ma...   \n",
              "\n",
              "                                              Comparator  \n",
              "0                  identical amounts of gelatin infusion  \n",
              "1                  identical amounts of gelatin infusion  \n",
              "2                  identical amounts of gelatin infusion  \n",
              "3                  identical amounts of gelatin infusion  \n",
              "4                                                placebo  \n",
              "...                                                  ...  \n",
              "24681                                 Without gabapentin  \n",
              "24682                 no social media exposure (control)  \n",
              "24683                 no social media exposure (control)  \n",
              "24684  the usual care afforded to traditional Medicar...  \n",
              "24685  the usual care afforded to traditional Medicar...  \n",
              "\n",
              "[24686 rows x 13 columns]"
            ]
          },
          "execution_count": 6,
          "metadata": {},
          "output_type": "execute_result"
        }
      ],
      "source": [
        "df = annotations.merge(\n",
        "    prompts, on=[\"PMCID\", \"PromptID\"]\n",
        ")  # .set_index([\"PMCID\", \"PromptID\"])\n",
        "df"
      ]
    },
    {
      "cell_type": "code",
      "execution_count": 7,
      "metadata": {},
      "outputs": [
        {
          "data": {
            "text/plain": [
              "3346"
            ]
          },
          "execution_count": 7,
          "metadata": {},
          "output_type": "execute_result"
        }
      ],
      "source": [
        "df[\"PMCID\"].nunique()"
      ]
    },
    {
      "cell_type": "code",
      "execution_count": 22,
      "metadata": {},
      "outputs": [
        {
          "data": {
            "image/png": "[encoded data removed]",
            "text/plain": [
              "<Figure size 551.181x170.324 with 2 Axes>"
            ]
          },
          "metadata": {},
          "output_type": "display_data"
        }
      ],
      "source": [
        "fig, axs = plt.subplots(nrows=1, ncols=2, figsize=set_size(\"thesis\", subplots=(1, 2)))\n",
        "\n",
        "df.groupby(\"PMCID\")[\"PromptID\"].nunique().to_frame().boxplot(\n",
        "    ax=axs[0], xlabel=\"Prompts per Document\", ylabel=\"Count\"\n",
        ")\n",
        "axs[0].set_xticks([])\n",
        "axs[0].set_xticklabels([])\n",
        "\n",
        "df.groupby([\"PMCID\", \"PromptID\"]).size().to_frame().boxplot(\n",
        "    ax=axs[1], xlabel=\"Annotations per Prompt\"\n",
        ")\n",
        "axs[1].set_xticks([])\n",
        "axs[1].set_xticklabels([])\n",
        "axs[1].set_ylabel(\"\")\n",
        "\n",
        "fig.tight_layout()\n",
        "fig.savefig(str(PATH_LATEX_PLOT_OUTPUT / \"prompts_per_document.pdf\"))"
      ]
    },
    {
      "cell_type": "code",
      "execution_count": 11,
      "metadata": {},
      "outputs": [
        {
          "data": {
            "text/plain": [
              "count    3346.000000\n",
              "mean        3.770472\n",
              "std         2.464439\n",
              "min         1.000000\n",
              "25%         2.000000\n",
              "50%         4.000000\n",
              "75%         5.000000\n",
              "max        72.000000\n",
              "Name: PromptID, dtype: float64"
            ]
          },
          "execution_count": 11,
          "metadata": {},
          "output_type": "execute_result"
        }
      ],
      "source": [
        "df.groupby(\"PMCID\")[\"PromptID\"].nunique().describe()"
      ]
    },
    {
      "cell_type": "code",
      "execution_count": 13,
      "metadata": {},
      "outputs": [
        {
          "data": {
            "text/plain": [
              "3.8852361028093245"
            ]
          },
          "execution_count": 13,
          "metadata": {},
          "output_type": "execute_result"
        }
      ],
      "source": [
        "df.groupby(\"PMCID\")[\"PromptID\"].nunique().describe().median()"
      ]
    },
    {
      "cell_type": "code",
      "execution_count": 14,
      "metadata": {},
      "outputs": [
        {
          "data": {
            "text/plain": [
              "0    2.0\n",
              "dtype: float64"
            ]
          },
          "execution_count": 14,
          "metadata": {},
          "output_type": "execute_result"
        }
      ],
      "source": [
        "df.groupby([\"PMCID\", \"PromptID\"]).size().to_frame().describe().median()"
      ]
    },
    {
      "attachments": {},
      "cell_type": "markdown",
      "metadata": {},
      "source": [
        "### Pre-defined splits"
      ]
    },
    {
      "cell_type": "code",
      "execution_count": 9,
      "metadata": {},
      "outputs": [],
      "source": [
        "splits_dir = Path(list(filter(lambda p: \"splits/\" in p, ei_dataset_files))[0]).parent\n",
        "\n",
        "splits = {}\n",
        "for name in [\"train\", \"test\", \"validation\"]:\n",
        "    pmcids = [\n",
        "        int(i) for i in (splits_dir / f\"{name}_article_ids.txt\").read_text().split(\"\\n\")\n",
        "    ]\n",
        "    for pmcid in pmcids:\n",
        "        splits[pmcid] = name\n",
        "\n",
        "df[\"Split\"] = df[\"PMCID\"].apply(lambda r: splits[r])"
      ]
    },
    {
      "attachments": {},
      "cell_type": "markdown",
      "metadata": {},
      "source": [
        "### Load texts"
      ]
    },
    {
      "attachments": {},
      "cell_type": "markdown",
      "metadata": {},
      "source": [
        "The abstracts are provided as separate files, we therefore need to parse them:"
      ]
    },
    {
      "cell_type": "code",
      "execution_count": 10,
      "metadata": {},
      "outputs": [],
      "source": [
        "abstracts_dir = Path(\n",
        "    list(filter(lambda p: \"txt_files/\" in p, ei_dataset_files))[0]\n",
        ").parent\n",
        "\n",
        "df[\"Abstract Path\"] = df[\"PMCID\"].apply(lambda r: abstracts_dir / f\"PMC{r}.txt\")"
      ]
    },
    {
      "cell_type": "code",
      "execution_count": 11,
      "metadata": {},
      "outputs": [
        {
          "data": {
            "application/vnd.jupyter.widget-view+json": {
              "model_id": "a3af7b01089444959f534fe296ae7238",
              "version_major": 2,
              "version_minor": 0
            },
            "text/plain": [
              "Parsing abstracts:   0%|          | 0/24686 [00:00<?, ?it/s]"
            ]
          },
          "metadata": {},
          "output_type": "display_data"
        }
      ],
      "source": [
        "tqdm.pandas(desc=\"Parsing abstracts\")\n",
        "df[\"Text\"] = df[\"Abstract Path\"].progress_apply(\n",
        "    lambda p: p.read_text() if p.exists() else pd.NA\n",
        ")\n",
        "df.drop(columns=\"Abstract Path\", inplace=True)"
      ]
    },
    {
      "attachments": {},
      "cell_type": "markdown",
      "metadata": {},
      "source": [
        "### Identify cases where evidence is really in the abstract"
      ]
    },
    {
      "cell_type": "markdown",
      "metadata": {},
      "source": [
        "We identify all cases where the document's text actually contains an ABSTRACT section:"
      ]
    },
    {
      "cell_type": "code",
      "execution_count": 12,
      "metadata": {},
      "outputs": [],
      "source": [
        "df[\"Contains Abstract Section\"] = df[\"Text\"].str.contains(\n",
        "    r\"ABSTRACT\\.\\w+[\\s\\w+]*:[\\s\\S]*?(?=\\n{2,})\", na=False, regex=True\n",
        ")"
      ]
    },
    {
      "cell_type": "code",
      "execution_count": 13,
      "metadata": {},
      "outputs": [],
      "source": [
        "df[\"Text available\"] = df[\"Text\"].replace(\"\", pd.NA).notnull()"
      ]
    },
    {
      "cell_type": "code",
      "execution_count": 14,
      "metadata": {},
      "outputs": [
        {
          "data": {
            "text/html": [
              "<div>\n",
              "<style scoped>\n",
              "    .dataframe tbody tr th:only-of-type {\n",
              "        vertical-align: middle;\n",
              "    }\n",
              "\n",
              "    .dataframe tbody tr th {\n",
              "        vertical-align: top;\n",
              "    }\n",
              "\n",
              "    .dataframe thead th {\n",
              "        text-align: right;\n",
              "    }\n",
              "</style>\n",
              "<table border=\"1\" class=\"dataframe\">\n",
              "  <thead>\n",
              "    <tr style=\"text-align: right;\">\n",
              "      <th>Text available</th>\n",
              "      <th>False</th>\n",
              "      <th>True</th>\n",
              "      <th>All</th>\n",
              "    </tr>\n",
              "    <tr>\n",
              "      <th>Contains Abstract Section</th>\n",
              "      <th></th>\n",
              "      <th></th>\n",
              "      <th></th>\n",
              "    </tr>\n",
              "  </thead>\n",
              "  <tbody>\n",
              "    <tr>\n",
              "      <th>False</th>\n",
              "      <td>29</td>\n",
              "      <td>10542</td>\n",
              "      <td>10571</td>\n",
              "    </tr>\n",
              "    <tr>\n",
              "      <th>True</th>\n",
              "      <td>0</td>\n",
              "      <td>14115</td>\n",
              "      <td>14115</td>\n",
              "    </tr>\n",
              "    <tr>\n",
              "      <th>All</th>\n",
              "      <td>29</td>\n",
              "      <td>24657</td>\n",
              "      <td>24686</td>\n",
              "    </tr>\n",
              "  </tbody>\n",
              "</table>\n",
              "</div>"
            ],
            "text/plain": [
              "Text available             False   True    All\n",
              "Contains Abstract Section                     \n",
              "False                         29  10542  10571\n",
              "True                           0  14115  14115\n",
              "All                           29  24657  24686"
            ]
          },
          "execution_count": 14,
          "metadata": {},
          "output_type": "execute_result"
        }
      ],
      "source": [
        "crosstab = pd.crosstab(\n",
        "    df[\"Contains Abstract Section\"], df[\"Text available\"], margins=True\n",
        ")\n",
        "crosstab.style.to_latex(\n",
        "    PATH_LATEX_TABLE_OUTPUT / \"text_vs_abstract.tex\", hrules=True, siunitx=True\n",
        ")\n",
        "crosstab"
      ]
    },
    {
      "cell_type": "code",
      "execution_count": 15,
      "metadata": {},
      "outputs": [
        {
          "data": {
            "text/html": [
              "<div>\n",
              "<style scoped>\n",
              "    .dataframe tbody tr th:only-of-type {\n",
              "        vertical-align: middle;\n",
              "    }\n",
              "\n",
              "    .dataframe tbody tr th {\n",
              "        vertical-align: top;\n",
              "    }\n",
              "\n",
              "    .dataframe thead th {\n",
              "        text-align: right;\n",
              "    }\n",
              "</style>\n",
              "<table border=\"1\" class=\"dataframe\">\n",
              "  <thead>\n",
              "    <tr style=\"text-align: right;\">\n",
              "      <th>Text available</th>\n",
              "      <th>False</th>\n",
              "      <th>True</th>\n",
              "      <th>All</th>\n",
              "    </tr>\n",
              "    <tr>\n",
              "      <th>Contains Abstract Section</th>\n",
              "      <th></th>\n",
              "      <th></th>\n",
              "      <th></th>\n",
              "    </tr>\n",
              "  </thead>\n",
              "  <tbody>\n",
              "    <tr>\n",
              "      <th>False</th>\n",
              "      <td>1</td>\n",
              "      <td>1627</td>\n",
              "      <td>1628</td>\n",
              "    </tr>\n",
              "    <tr>\n",
              "      <th>True</th>\n",
              "      <td>0</td>\n",
              "      <td>1718</td>\n",
              "      <td>1718</td>\n",
              "    </tr>\n",
              "    <tr>\n",
              "      <th>All</th>\n",
              "      <td>1</td>\n",
              "      <td>3345</td>\n",
              "      <td>3346</td>\n",
              "    </tr>\n",
              "  </tbody>\n",
              "</table>\n",
              "</div>"
            ],
            "text/plain": [
              "Text available             False  True   All\n",
              "Contains Abstract Section                   \n",
              "False                          1  1627  1628\n",
              "True                           0  1718  1718\n",
              "All                            1  3345  3346"
            ]
          },
          "execution_count": 15,
          "metadata": {},
          "output_type": "execute_result"
        }
      ],
      "source": [
        "crosstab_doc = pd.crosstab(\n",
        "    df.drop_duplicates(\"PMCID\")[\"Contains Abstract Section\"],\n",
        "    df.drop_duplicates(\"PMCID\")[\"Text available\"],\n",
        "    margins=True,\n",
        ")\n",
        "crosstab_doc.style.to_latex(\n",
        "    PATH_LATEX_TABLE_OUTPUT / \"text_vs_abstract_docs.tex\", hrules=True, siunitx=True\n",
        ")\n",
        "crosstab_doc"
      ]
    },
    {
      "cell_type": "code",
      "execution_count": 16,
      "metadata": {},
      "outputs": [],
      "source": [
        "df_abs = df.query(\"`Contains Abstract Section`\").copy()"
      ]
    },
    {
      "attachments": {},
      "cell_type": "markdown",
      "metadata": {},
      "source": [
        "#### Identifying the abstracts"
      ]
    },
    {
      "attachments": {},
      "cell_type": "markdown",
      "metadata": {},
      "source": [
        "In some texts, the abstract can be identified by the `ABSTRACT.` prefix among the section titles. In those cases, it is possible to identify the index of the end of the abstract as the position of the last character before the first title that does not contain the prefix. Here is an example:"
      ]
    },
    {
      "cell_type": "code",
      "execution_count": 17,
      "metadata": {},
      "outputs": [],
      "source": [
        "from typing import Pattern\n",
        "import re\n",
        "\n",
        "\n",
        "def get_abstract_paragraph_idxs(full_text: str, pattern: Pattern | None = None):\n",
        "    if pattern is None:\n",
        "        pattern = re.compile(\n",
        "            r\"(ABSTRACT\\.\\w+[\\s\\w+]*:[\\s\\S]*?)(?=\\n{2,})\", re.MULTILINE\n",
        "        )\n",
        "    matches = [(m.start(0), m.end(0)) for m in re.finditer(pattern, full_text)]\n",
        "    return matches\n",
        "\n",
        "\n",
        "def get_abstract_start_end_idxs(full_text: str, pattern: Pattern | None = None):\n",
        "    matches = get_abstract_paragraph_idxs(full_text, pattern)\n",
        "    return matches[0][0], matches[-1][-1]\n",
        "\n",
        "\n",
        "def extract_abstract(full_text: str, pattern: Pattern | None = None):\n",
        "    matches = get_abstract_paragraph_idxs(full_text, pattern)\n",
        "    return full_text[matches[0][0] : matches[-1][-1]]"
      ]
    },
    {
      "cell_type": "code",
      "execution_count": 18,
      "metadata": {},
      "outputs": [],
      "source": [
        "sample = df_abs.sample(1, random_state=42)"
      ]
    },
    {
      "cell_type": "code",
      "execution_count": 19,
      "metadata": {},
      "outputs": [
        {
          "name": "stdout",
          "output_type": "stream",
          "text": [
            "TITLE: Inadvertent Introduction of Tissue Coring Into Joints During Arthrocentesis: An Experimental Study\n",
            "\n",
            "  ABSTRACT.BACKGROUND:\n",
            "The aim of this study was to investigate whether needles introduce skin plugs into joints during arthrocentesis.\n",
            "\n",
            "ABSTRACT.MATERIAL/METHODS:\n",
            "In the first part of this study, the arthrocentesis site was scrubbed with a fluorescein sodium swab, and 90 needles were inserted through the joint tissue and collected for examination under a fluorescence microscope. In the second part of this study, the joints were injected using 720 needles of different gauges. Two different randomly assigned needle insertion techniques were used: needle insertion straight through the joint capsule (subgroup 1) or insertion of the needle into the subcutaneous tissue followed by flushing of the needle with 0.5 mL of 0.9% normal saline prior to advancing the needle through the joint capsule (subgroup 2).\n",
            "\n",
            "ABSTRACT.RESULTS:\n",
            "Of the 90 needle tips examined in the first part of this study, 21 had high-grade fluorescein contamination. In the second part of this study, the incidence of tissue, epidermis, and dermis contamination in subgroup 1 was 57.2%, 43.1%, and 25.0%, respectively. There was no significant difference in the incidence among different gauge needles, except for a difference in epidermis contamination between the 21-gauge and 23-gauge needles. Compared to subgroup 1, subgroup 2 had a significantly lower OR for tissue contamination.\n",
            "\n",
            "ABSTRACT.CONCLUSIONS:\n",
            "It is common to introduce tissue coring with epidermis and dermis into the joint during arthrocentesis, which poses a potential risk for septic arthritis. However, tissue contamination of the joint may be reduced by flushing saline through the needle into the subcutaneous tissues prior to entering the joint capsule.\n",
            "\n",
            "BODY.BACKGROUND:\n",
            "Arthrocentesis is a commonly performed medical procedure that is invaluable for the diagnosis and treatment of joint disease. Unsuccessful arthrocentesis may contribute to diagnostic and treatment delays and potentially exposes the patient to complications from the procedure [1]. Septic arthritis is one of the most serious complications that can result from arthrocentesis. While post-arthrocentesis infection is considered to be rare, it does occur, with reported incidences ranging from 1 in 2700 to 1 in 50 000 [2\u20134]; it is unclear if low-grade joint infection may occur more frequently. Nicholas et al. revealed that there was an increased risk of postoperative total knee arthroplasty (TKA) infection when patients had undergone an ipsilateral knee injection before undergoing primary TKA [5].  Appropriate aseptic technique prior to arthrocentesis is critical to decrease the number of cutaneous microorganisms. However, up to 20% of skin bacteria are in the deeper layers of the skin and the pilo-sebaceous units, and these areas are untouched by antiseptics [6,7]. Additionally, contamination of the surface of the arthrocentesis site can occur immediately after disinfection, or an antiseptic may insufficiently eradicate certain pathogens from the arthrocentesis site [8,9]. Therefore, despite adherence to the most stringent aseptic skin preparation techniques, a core of skin tissue with microbial flora may be introduced into the joint as the needle cuts through the skin and passes through the subcutaneous tissue and joint capsule. This tissue coring could result in an intra-articular infection following the injection or could contaminate aspirated synovial fluid, leading to a false-positive bacterial culture.  There is limited literature regarding arthrocentesis and tissue coring. Thus, we conducted this study using amputation specimens to investigate the incidence, nature, and prevention of tissue coring during arthrocentesis.\n",
            "\n",
            "BODY.MATERIAL AND METHODS:\n",
            "In the present study, all arthrocenteses were performed on 12 above-the-knee-amputation specimens. The specimens were obtained from patients who underwent amputation due to peripheral arterial disease or diabetes-related lower-limb chronic critical ischemia. The specimens were free of any evidence of intra-articular infection. There were no skin lesions on the knee area, such as wound, rashes, or ulcers. The arthrocenteses were performed on fresh specimens, within 30 min of the limb amputation. The knee joint arthrocentesis was performed via either the superolateral or the superomedial approach [10]. The arthrocentesis site was aseptically prepared using the same technique as for a joint aspiration or injection of the knee [11]. The degree of potential tissue contamination of the joints was studied using 2 different techniques: fluorescence and histologic examination.\n",
            "\n",
            "BODY.MATERIAL AND METHODS.STUDY PART 1:\n",
            "The arthrocentesis site was scrubbed with a fluorescein sodium swab. The fluorescein agent (Fluorescite 10%; BioDee BioTech Corporation Ltd., Beijing, China) was diluted in 0.9% normal saline to a concentration of 0.01% (weight/volume) before use. Ninety needles were inserted through the skin and joint capsule after the scrubbing solution had dried. All needle tips were then carefully cut off and collected on clean microscope slides, which were placed away from light and examined by a fluorescence microscope (Vert.A1; Carl Zeiss AG, Oberkochen, Germany) within 1 h. Different slides were used for each needle tip to avoid cross-contamination. The amount of fluorescein on the needle tips was classified into 3 grades: Grade 1, no noticeable fluorescein; Grade 2, fluorescein only on the needle tips; and Grade 3, obvious and large fluorescein of tissue particles in the needle core.\n",
            "\n",
            "BODY.MATERIAL AND METHODS.STUDY PART 2:\n",
            "Arthrocentesis is most commonly performed with 19-gauge, 21-gauge, and 23-gauge open-ended sharp disposable needles [11]. In the present study, 720 hollow needles were used to perform the arthrocenteses. The needles were 38 mm long and 19-gauge, 21-gauge, or 23-gauge in size. Two different needle insertion techniques were used at random: insertion straight (90\u00b0) through the skin and joint capsule with a rapid thrust (subgroup 1), or the flushing of the needle with 0.5 mL of 0.9% normal saline into the subcutaneous tissue prior to advancing the needle through the joint capsule (subgroup 2). Following insertion, all needles (both subgroup 1 and subgroup 2) were removed from the joint and flushed with 2 mL of 0.9% normal saline onto clean glass plates. An equal number of needles was used to perform the arthrocentesis via the superolateral or the superomedial approaches on each specimen. Each needle passed through a separate route. Needles were used only once and then discarded. The skin was prepared only once before the arthrocenteses, and all arthrocenteses were performed within 90 min for each specimen.  Using a surgical microscope (Leica, German) with a 10-power lens, all glass plates were checked by 2 senior pathologists to identify whether tissue coring samples were present. Coring samples identified on the glass plates were fixed in 10% formalin for 3 days. Each sample was then made into a paraffin block. Given the small size of the tissue coring, the collection process was performed on filter paper using a funnel. The sample embedding in paraffin, cutting, and staining with hematoxylin-eosin (H&E) were performed in accordance with conventional pathological techniques. Two senior pathologists independently assessed the sample slides under light microscopy (Olympus Corp, Japan) to identify any kind of skin tissue. The pathologists who performed the histological evaluation were blinded to the study protocol.\n",
            "\n",
            "BODY.MATERIAL AND METHODS.STATISTICAL ANALYSIS:\n",
            "Bivariate associations were assessed using the Pearson \u03c72 test for categorical data. The difference in incidence of tissue coring is presented by odds ratios (ORs) and 95% confidence intervals (95% CI). The reference group was a 19-gauge needle inserted straight (90\u00b0) through joint tissue. An OR>1 suggested an increased incidence of tissue coring whereas OR<1 suggested a reduced incidence. If the CI included 1, it indicated no significant difference in incidence compared with the reference group. Data were analyzed using SPSS software (SPSS for Windows version 21). For all statistical comparisons, P<0.05 was considered significant.\n",
            "\n",
            "BODY.MATERIAL AND METHODS.ETHICS:\n",
            "The Ethics Committee of the hospital approved this study. The procedures involving human participants were performed in accordance with the World Medical Association Declaration of Helsinki. Participating patients provided informed consent regarding data collected from the study and publication of these data.\n",
            "\n",
            "BODY.RESULTS:\n",
            "We reviewed the records of 38 patients who developed septic arthritis after intra-articular injection between October 2013 and May 2017. The criterion standard for diagnosing septic arthritis is a positive bacterial culture from synovial fluid within 3 months of an intra-articular injection. The culture results of our 38 patients are shown in Table 1. Staphylococcus aureus was the primary pathogen (39.47%). Other pathogens included coagulase-negative Staphylococcus, Escherichia coli, Streptococcus, Pseudomonas aeruginosa, and fungus. Staphylococcus aureus is a transient microorganism on the skin, which is not consistently present and is easily transmitted between individuals. While the majority of transient skin organisms are easily removed, some reports have shown that these pathogens are difficult to remove entirely, suggesting that these organisms may be the source of bacteria that can lead to septic arthritis following intra-articular injections [9,12].  In the first part of the study, different amounts of fluorescein were detected on the needle tips (Figure 1). According to the fluorescent classification, 27 tips were Grade 1 (30.0%), 42 tips were Grade 2 (46.7%), and 21 tips were Grade 3 (23.3%).  The incidence of tissue coring and histologic results are shown in Table 2. The incidence of tissue coring in subgroup 1 was 57.2% (206/360), without a significant difference between 19-gauge, 21-gauge, and 23-gauge needles. The subgroup 2 incidence of tissue coring was significantly less than the incidence in subgroup 1 (OR=0.02; 95% confidence interval [CI], 0.01\u20130.04; P<0.001) (Table 3). Additionally, we found visually larger debris caused by the larger needle gauge. Due to the irregular shape and spatial structure, it was difficult to measure the size of the tissue coring.  The epidermis, including the stratum basale, stratum spinosum, stratum granulosum, and stratum corneum, was identified on most blocks in subgroup 1. The dermal superficial papillary layer was also found in subgroup 1 (Figure 2). The incidence of epidermis and dermis contamination was 43.1% (155/360) and 25.0% (90/360), respectively. Compared to 21-guage needles, 23-guage needles had a significantly greater OR for epidermis contamination (OR=1.86; 95% CI, 1.11\u20133.13; P=0.018). No significant differences in ORs were identified between different needle gauges for dermis contamination (P=0.561). No epidermal or dermal structure was found in subgroup 2. The pilo-sebaceous unit was not identified using light microscopy in subgroup 1 or subgroup 2.  We mathematically calculated the theoretical incidence of tissue coring containing hair follicles. The schematic diagram of the calculation method is shown in Figure 3 and described as follows: the average calf region hair follicle density from people of Chinese decent is 26 per cm2. In other words, there is 1 hair follicle per 3.85 mm2 (Square 4). The average diameter of a follicular orifice on the calf region is 0.35 mm. In Figure 3, Circle 1 represents a follicular orifice and AB is the semi-diameter. The inner diameter of a 21-gauge needle is 0.5 mm. Circle 2 represents the cross-section of a 21-gauge needle tip, and BC is its semi-diameter. The center of Circle 3 is depicted as A, and AC (the sum of AB and BC) is the semi-diameter of Circle 3. If the center of Circle 2 is inside Circle 3, the 2 circles will overlap, which indicates the needle cut through the hair follicle. Therefore, the theoretical incidence of tissue coring is the area ratio of Circle 3 to Square 4 (14.7%).\n",
            "\n",
            "BODY.DISCUSSION:\n",
            "Intra-articular injections can be performed to inject a corticosteroid into a joint for the treatment of a non-infectious inflammatory process or for the injection of a viscosupplement [13,14]. While septic arthritis has been reported to occur in less than 1 out of 2700 cases following intra-articular injection, it is unclear if low-grade joint infections occur more frequently [4]. Furthermore, as the number of TKAs performed each year increases, so does the number of patients with periprosthetic joint infections (PJI) [15,16]. Synovial fluid aspiration is one of the most valuable procedures for the diagnosis of PJI. Therefore, we believe the results of this study have clinical significance for both rheumatologists and orthopedic surgeons.  It is essential to aseptically prepare the patient's skin before joint aspiration/injection. The cutaneous flora cannot be eliminated completely, especially bacteria located in the pilo-sebaceous units. The types of cutaneous microbial flora include Staphylococcus aureus, coagulase-negative Staphylococcus, Enterococcus, Escherichia coli, group A Streptococci, and Pseudomonas aeruginosa. If these cutaneous flora multiply, they have been proven to be the cause of harmful infections despite the application of skin antiseptics [9,12,17]. Therefore, tissue coring caused by needles may carry cutaneous bacteria into the joint, which may result in intra-articular infection or a false-positive bacterial culture in joint fluid. There is limited research in the literature on tissue coring following joint injection/aspiration.  As a needle passes through tissue, a piece of the tissue is removed by the needle, resulting in tissue coring. This coring can either be removed from the needle bore by suction, or it can be carried deeper into the tissue by the needle and deposited, which could result in septic or chemical contamination. Tissue coring has been demonstrated using different needle designs in lumber punctures [18\u201320]. Some research suggests that epidermoid tumors may develop due to the deposition of epithelial tissue coring into the subarachnoid space during a lumbar puncture. These studies used cytological methods to identify whether the coring was composed of proliferative potential cells which could produce an epidermal tumor.  In the present study, the average incidence of coring due to arthrocentesis was similar to that reported in other studies on coring and lumber puncture. Tissue contamination of the joint seems be common, while septic arthritis after arthrocentesis is rare. One reason is that that even a small amount of highly virulent bacteria (e.g., Staphylococcus aureus) could result in intra-articular infection. Another reason is that patients with immunocompromise or immunosuppression are more vulnerable to intra-articular infection than patients without.  This is the first study to use a pathological method to analyze the nature of the coring. Both dermis and epidermis structures were identified in the coring tissue in the present study. The typical epidermis contains epithelial cells arranged in 4 layers: the stratum basale, the stratum spinosum, the stratum granulosum, and the stratum corneum. The dermis is the layer of skin between the epidermis and subcutaneous tissues, and it is divided into 2 layers: the superficial papillary layer and the deeper reticular layer. Pilo-sebaceous units, located mainly in the dermis, are an important and complex epidermal appendage of the skin. Bacteria resides in the infundibulum of hair follicles and in the subcutaneous ducts and glands where the bacteria reproduce [21]. In the present study, although there were no hair follicles in the tissue, dermis was identified, which verified the possibility of coring tissue with pilo-sebaceous units.  To avoid tissue coring, 0.5 mL of 0.9% normal saline was injected into the subcutaneous tissue in subgroup 2. There was an obvious difference in the coring rate between the 2 subgroups. Therefore, it could be effective to avoid tissue coring by flushing saline into the subcutaneous tissue before entering the joint cavity with the needle. Furthermore, although the differences in the incidence of tissue coring were not significant among the different needle gauges, we observed larger coring debris when larger-gauge needles were used. Thus, a smaller-gauge needle may result in less tissue coring.  This study has several limitations. The most important limitation was that we failed to identify pilo-sebaceous units in the tissue coring. This may be associated with incomplete coring collection, a small sample size, and structural damage caused by the needle tips. Additionally, although our study could confirm the existence of tissue coring following joint injection/aspiration, no research has proven that this coring carries pathogens. We could culture the tissue coring for bacteria in a further study. One minor limitation of the study was the contamination caused by foreign skin debris. A future study could be performed using laminar airflow, reducing the foreign skin debris contamination.\n",
            "\n",
            "BODY.CONCLUSIONS:\n",
            "Despite the low risk of joint infection following arthrocentesis, the present study has clinical significance. This present study suggests that tissue coring commonly occurs during arthrocentesis, posing a potential risk for the development of septic arthritis. Flushing the arthrocentesis needle into the subcutaneous tissues prior to entering the joint capsule could be a way to reduce joint contamination from tissue coring.\n"
          ]
        }
      ],
      "source": [
        "print(sample[\"Text\"].item())"
      ]
    },
    {
      "cell_type": "code",
      "execution_count": 20,
      "metadata": {},
      "outputs": [
        {
          "name": "stdout",
          "output_type": "stream",
          "text": [
            "ABSTRACT.BACKGROUND:\n",
            "The aim of this study was to investigate whether needles introduce skin plugs into joints during arthrocentesis.\n",
            "\n",
            "ABSTRACT.MATERIAL/METHODS:\n",
            "In the first part of this study, the arthrocentesis site was scrubbed with a fluorescein sodium swab, and 90 needles were inserted through the joint tissue and collected for examination under a fluorescence microscope. In the second part of this study, the joints were injected using 720 needles of different gauges. Two different randomly assigned needle insertion techniques were used: needle insertion straight through the joint capsule (subgroup 1) or insertion of the needle into the subcutaneous tissue followed by flushing of the needle with 0.5 mL of 0.9% normal saline prior to advancing the needle through the joint capsule (subgroup 2).\n",
            "\n",
            "ABSTRACT.RESULTS:\n",
            "Of the 90 needle tips examined in the first part of this study, 21 had high-grade fluorescein contamination. In the second part of this study, the incidence of tissue, epidermis, and dermis contamination in subgroup 1 was 57.2%, 43.1%, and 25.0%, respectively. There was no significant difference in the incidence among different gauge needles, except for a difference in epidermis contamination between the 21-gauge and 23-gauge needles. Compared to subgroup 1, subgroup 2 had a significantly lower OR for tissue contamination.\n",
            "\n",
            "ABSTRACT.CONCLUSIONS:\n",
            "It is common to introduce tissue coring with epidermis and dermis into the joint during arthrocentesis, which poses a potential risk for septic arthritis. However, tissue contamination of the joint may be reduced by flushing saline through the needle into the subcutaneous tissues prior to entering the joint capsule.\n"
          ]
        }
      ],
      "source": [
        "print(extract_abstract(sample[\"Text\"].item()))"
      ]
    },
    {
      "attachments": {},
      "cell_type": "markdown",
      "metadata": {},
      "source": [
        "#### Identifying invalid `In Abstract` labels"
      ]
    },
    {
      "cell_type": "code",
      "execution_count": 21,
      "metadata": {},
      "outputs": [
        {
          "data": {
            "application/vnd.jupyter.widget-view+json": {
              "model_id": "bc7a1b0357974bc6a1f47b83d0b4ff24",
              "version_major": 2,
              "version_minor": 0
            },
            "text/plain": [
              "Finding abstract boundaries:   0%|          | 0/14115 [00:00<?, ?it/s]"
            ]
          },
          "metadata": {},
          "output_type": "display_data"
        }
      ],
      "source": [
        "tqdm.pandas(desc=\"Finding abstract boundaries\")\n",
        "df_abs[\"Abstract Start\"], df_abs[\"Abstract End\"] = zip(\n",
        "    *df_abs[\"Text\"].progress_apply(get_abstract_start_end_idxs)\n",
        ")"
      ]
    },
    {
      "cell_type": "code",
      "execution_count": 22,
      "metadata": {},
      "outputs": [],
      "source": [
        "df_abs[\"Abstract\"] = df_abs.apply(\n",
        "    lambda r: r[\"Text\"][r[\"Abstract Start\"] : r[\"Abstract End\"]], axis=1\n",
        ")"
      ]
    },
    {
      "attachments": {},
      "cell_type": "markdown",
      "metadata": {},
      "source": [
        "We can remove all cases where `Evidence End` is greater than the end of the abstract we identified (`Abstract End`), as these seem to be falsely labelled."
      ]
    },
    {
      "cell_type": "code",
      "execution_count": 23,
      "metadata": {},
      "outputs": [],
      "source": [
        "df_abs[\"In Abstract (identified)\"] = df_abs[\"Evidence End\"] <= df_abs[\"Abstract End\"]\n",
        "df_abs.rename(columns={\"In Abstract\": \"In Abstract (labelled)\"}, inplace=True)"
      ]
    },
    {
      "cell_type": "code",
      "execution_count": 24,
      "metadata": {},
      "outputs": [
        {
          "data": {
            "text/html": [
              "<div>\n",
              "<style scoped>\n",
              "    .dataframe tbody tr th:only-of-type {\n",
              "        vertical-align: middle;\n",
              "    }\n",
              "\n",
              "    .dataframe tbody tr th {\n",
              "        vertical-align: top;\n",
              "    }\n",
              "\n",
              "    .dataframe thead th {\n",
              "        text-align: right;\n",
              "    }\n",
              "</style>\n",
              "<table border=\"1\" class=\"dataframe\">\n",
              "  <thead>\n",
              "    <tr style=\"text-align: right;\">\n",
              "      <th>In Abstract (labelled)</th>\n",
              "      <th>False</th>\n",
              "      <th>True</th>\n",
              "      <th>All</th>\n",
              "    </tr>\n",
              "    <tr>\n",
              "      <th>In Abstract (identified)</th>\n",
              "      <th></th>\n",
              "      <th></th>\n",
              "      <th></th>\n",
              "    </tr>\n",
              "  </thead>\n",
              "  <tbody>\n",
              "    <tr>\n",
              "      <th>False</th>\n",
              "      <td>7316</td>\n",
              "      <td>338</td>\n",
              "      <td>7654</td>\n",
              "    </tr>\n",
              "    <tr>\n",
              "      <th>True</th>\n",
              "      <td>828</td>\n",
              "      <td>5633</td>\n",
              "      <td>6461</td>\n",
              "    </tr>\n",
              "    <tr>\n",
              "      <th>All</th>\n",
              "      <td>8144</td>\n",
              "      <td>5971</td>\n",
              "      <td>14115</td>\n",
              "    </tr>\n",
              "  </tbody>\n",
              "</table>\n",
              "</div>"
            ],
            "text/plain": [
              "In Abstract (labelled)    False  True    All\n",
              "In Abstract (identified)                    \n",
              "False                      7316   338   7654\n",
              "True                        828  5633   6461\n",
              "All                        8144  5971  14115"
            ]
          },
          "execution_count": 24,
          "metadata": {},
          "output_type": "execute_result"
        }
      ],
      "source": [
        "crosstab = pd.crosstab(\n",
        "    df_abs[\"In Abstract (identified)\"], df_abs[\"In Abstract (labelled)\"], margins=True\n",
        ")\n",
        "crosstab.style.to_latex(\n",
        "    PATH_LATEX_TABLE_OUTPUT / \"abstract_labelled_vs_identified.tex\",\n",
        "    hrules=True,\n",
        "    siunitx=True,\n",
        ")\n",
        "crosstab"
      ]
    },
    {
      "attachments": {},
      "cell_type": "markdown",
      "metadata": {},
      "source": [
        "It is probably most safe to go with the cases where the identification agrees with the labelling:"
      ]
    },
    {
      "cell_type": "code",
      "execution_count": 25,
      "metadata": {},
      "outputs": [],
      "source": [
        "df_abs = df_abs.query(\n",
        "    \"`In Abstract (identified)` == True & `In Abstract (labelled)` == True\"\n",
        ")"
      ]
    },
    {
      "attachments": {},
      "cell_type": "markdown",
      "metadata": {},
      "source": [
        "### Label aggregation on the document level"
      ]
    },
    {
      "attachments": {},
      "cell_type": "markdown",
      "metadata": {},
      "source": [
        "Our task is the binary classification of documents into those with any finding of significance, regardless of the direction (increase/decrease) and those without a significant effect. We can therefore aggregate the labels on the document level in the following manner:\n",
        "\n",
        "1. If there are labels from multiple `UserID`s for a particular combination of `PMCID` and `PromptID`, then majority voting is applied to find a common label. In case of a tie, we go with *significantly increased/decreased*.\n",
        "2. If any prompt pertaining to a document is assigned at least `signficantly increased` or `significantly decreased` label, then the document should be labelled with the `effect` (1) label\n",
        "3. Otherwise, the document is labelled with the `no effect` (0) label"
      ]
    },
    {
      "cell_type": "code",
      "execution_count": 26,
      "metadata": {},
      "outputs": [],
      "source": [
        "df_abs.set_index([\"PMCID\", \"PromptID\"], inplace=True)\n",
        "df_abs[[\"Common Label\", \"Common Label Code\"]] = df_abs.groupby([\"PMCID\", \"PromptID\"])[\n",
        "    [\"Label\", \"Label Code\"]\n",
        "].apply(lambda df: df.mode(axis=0).sort_values(\"Label\", ascending=False).iloc[0])\n",
        "df_abs.reset_index(inplace=True)"
      ]
    },
    {
      "attachments": {},
      "cell_type": "markdown",
      "metadata": {},
      "source": [
        "We can now safely drop duplicates on a document level:"
      ]
    },
    {
      "cell_type": "code",
      "execution_count": 28,
      "metadata": {},
      "outputs": [],
      "source": [
        "df_abs_docs = df_abs.drop_duplicates(subset=\"PMCID\").copy()"
      ]
    },
    {
      "cell_type": "code",
      "execution_count": 29,
      "metadata": {},
      "outputs": [
        {
          "data": {
            "text/html": [
              "<div>\n",
              "<style scoped>\n",
              "    .dataframe tbody tr th:only-of-type {\n",
              "        vertical-align: middle;\n",
              "    }\n",
              "\n",
              "    .dataframe tbody tr th {\n",
              "        vertical-align: top;\n",
              "    }\n",
              "\n",
              "    .dataframe thead th {\n",
              "        text-align: right;\n",
              "    }\n",
              "</style>\n",
              "<table border=\"1\" class=\"dataframe\">\n",
              "  <thead>\n",
              "    <tr style=\"text-align: right;\">\n",
              "      <th></th>\n",
              "      <th>PMCID</th>\n",
              "      <th>PromptID</th>\n",
              "      <th>Valid Label</th>\n",
              "      <th>Valid Reasoning</th>\n",
              "      <th>Label</th>\n",
              "      <th>Annotations</th>\n",
              "      <th>Label Code</th>\n",
              "      <th>In Abstract (labelled)</th>\n",
              "      <th>Evidence Start</th>\n",
              "      <th>Evidence End</th>\n",
              "      <th>...</th>\n",
              "      <th>Split</th>\n",
              "      <th>Text</th>\n",
              "      <th>Contains Abstract Section</th>\n",
              "      <th>Text available</th>\n",
              "      <th>Abstract Start</th>\n",
              "      <th>Abstract End</th>\n",
              "      <th>Abstract</th>\n",
              "      <th>In Abstract (identified)</th>\n",
              "      <th>Common Label</th>\n",
              "      <th>Common Label Code</th>\n",
              "    </tr>\n",
              "  </thead>\n",
              "  <tbody>\n",
              "    <tr>\n",
              "      <th>0</th>\n",
              "      <td>2944158</td>\n",
              "      <td>92</td>\n",
              "      <td>True</td>\n",
              "      <td>True</td>\n",
              "      <td>no significant difference</td>\n",
              "      <td>There were no local infections or IVD-related ...</td>\n",
              "      <td>0</td>\n",
              "      <td>True</td>\n",
              "      <td>1549</td>\n",
              "      <td>1634</td>\n",
              "      <td>...</td>\n",
              "      <td>train</td>\n",
              "      <td>TITLE: Routine resite of peripheral intravenou...</td>\n",
              "      <td>True</td>\n",
              "      <td>True</td>\n",
              "      <td>174</td>\n",
              "      <td>2474</td>\n",
              "      <td>ABSTRACT.BACKGROUND:\\nPeripheral intravenous d...</td>\n",
              "      <td>True</td>\n",
              "      <td>no significant difference</td>\n",
              "      <td>0</td>\n",
              "    </tr>\n",
              "    <tr>\n",
              "      <th>1</th>\n",
              "      <td>2871176</td>\n",
              "      <td>125</td>\n",
              "      <td>True</td>\n",
              "      <td>True</td>\n",
              "      <td>significantly decreased</td>\n",
              "      <td>Decreases in postprandial plasma glucose from ...</td>\n",
              "      <td>-1</td>\n",
              "      <td>True</td>\n",
              "      <td>1469</td>\n",
              "      <td>1756</td>\n",
              "      <td>...</td>\n",
              "      <td>train</td>\n",
              "      <td>TITLE: Liraglutide, a once-daily human GLP-1 a...</td>\n",
              "      <td>True</td>\n",
              "      <td>True</td>\n",
              "      <td>250</td>\n",
              "      <td>2253</td>\n",
              "      <td>ABSTRACT.AIM:\\nTo compare the effects of combi...</td>\n",
              "      <td>True</td>\n",
              "      <td>significantly decreased</td>\n",
              "      <td>-1</td>\n",
              "    </tr>\n",
              "    <tr>\n",
              "      <th>5</th>\n",
              "      <td>2708184</td>\n",
              "      <td>156</td>\n",
              "      <td>True</td>\n",
              "      <td>True</td>\n",
              "      <td>no significant difference</td>\n",
              "      <td>No significant differences in primary outcomes...</td>\n",
              "      <td>0</td>\n",
              "      <td>True</td>\n",
              "      <td>1211</td>\n",
              "      <td>1330</td>\n",
              "      <td>...</td>\n",
              "      <td>train</td>\n",
              "      <td>TITLE: Pilot study of Lokomat versus manual-as...</td>\n",
              "      <td>True</td>\n",
              "      <td>True</td>\n",
              "      <td>110</td>\n",
              "      <td>2017</td>\n",
              "      <td>ABSTRACT.BACKGROUND:\\nWhile manually-assisted ...</td>\n",
              "      <td>True</td>\n",
              "      <td>no significant difference</td>\n",
              "      <td>0</td>\n",
              "    </tr>\n",
              "    <tr>\n",
              "      <th>6</th>\n",
              "      <td>2864284</td>\n",
              "      <td>171</td>\n",
              "      <td>True</td>\n",
              "      <td>True</td>\n",
              "      <td>significantly increased</td>\n",
              "      <td>The log-rank test comparing the survival curve...</td>\n",
              "      <td>1</td>\n",
              "      <td>True</td>\n",
              "      <td>1664</td>\n",
              "      <td>1801</td>\n",
              "      <td>...</td>\n",
              "      <td>train</td>\n",
              "      <td>TITLE: Dihydroartemisinin-piperaquine versus c...</td>\n",
              "      <td>True</td>\n",
              "      <td>True</td>\n",
              "      <td>142</td>\n",
              "      <td>2460</td>\n",
              "      <td>ABSTRACT.BACKGROUND:\\nAfghanistan's national g...</td>\n",
              "      <td>True</td>\n",
              "      <td>significantly increased</td>\n",
              "      <td>1</td>\n",
              "    </tr>\n",
              "    <tr>\n",
              "      <th>16</th>\n",
              "      <td>3187863</td>\n",
              "      <td>198</td>\n",
              "      <td>True</td>\n",
              "      <td>True</td>\n",
              "      <td>no significant difference</td>\n",
              "      <td>There were no significant differences in postp...</td>\n",
              "      <td>0</td>\n",
              "      <td>True</td>\n",
              "      <td>1164</td>\n",
              "      <td>1272</td>\n",
              "      <td>...</td>\n",
              "      <td>train</td>\n",
              "      <td>TITLE: Is the operative delivery rate in low-r...</td>\n",
              "      <td>True</td>\n",
              "      <td>True</td>\n",
              "      <td>127</td>\n",
              "      <td>1950</td>\n",
              "      <td>ABSTRACT.OBJECTIVE:\\nTo investigate possible d...</td>\n",
              "      <td>True</td>\n",
              "      <td>no significant difference</td>\n",
              "      <td>0</td>\n",
              "    </tr>\n",
              "    <tr>\n",
              "      <th>...</th>\n",
              "      <td>...</td>\n",
              "      <td>...</td>\n",
              "      <td>...</td>\n",
              "      <td>...</td>\n",
              "      <td>...</td>\n",
              "      <td>...</td>\n",
              "      <td>...</td>\n",
              "      <td>...</td>\n",
              "      <td>...</td>\n",
              "      <td>...</td>\n",
              "      <td>...</td>\n",
              "      <td>...</td>\n",
              "      <td>...</td>\n",
              "      <td>...</td>\n",
              "      <td>...</td>\n",
              "      <td>...</td>\n",
              "      <td>...</td>\n",
              "      <td>...</td>\n",
              "      <td>...</td>\n",
              "      <td>...</td>\n",
              "      <td>...</td>\n",
              "    </tr>\n",
              "    <tr>\n",
              "      <th>5538</th>\n",
              "      <td>3499334</td>\n",
              "      <td>10932</td>\n",
              "      <td>True</td>\n",
              "      <td>True</td>\n",
              "      <td>significantly decreased</td>\n",
              "      <td>The mean scores of the Zarit caregiver burden ...</td>\n",
              "      <td>-1</td>\n",
              "      <td>True</td>\n",
              "      <td>956</td>\n",
              "      <td>1156</td>\n",
              "      <td>...</td>\n",
              "      <td>train</td>\n",
              "      <td>TITLE: The effectiveness of a group psycho-edu...</td>\n",
              "      <td>True</td>\n",
              "      <td>True</td>\n",
              "      <td>127</td>\n",
              "      <td>1530</td>\n",
              "      <td>ABSTRACT.BACKGROUND:\\nBrief family interventio...</td>\n",
              "      <td>True</td>\n",
              "      <td>significantly decreased</td>\n",
              "      <td>-1</td>\n",
              "    </tr>\n",
              "    <tr>\n",
              "      <th>5554</th>\n",
              "      <td>4937273</td>\n",
              "      <td>10971</td>\n",
              "      <td>True</td>\n",
              "      <td>True</td>\n",
              "      <td>significantly increased</td>\n",
              "      <td>Maximal mean LDL\u2010C reductions from day \u22121 base...</td>\n",
              "      <td>1</td>\n",
              "      <td>True</td>\n",
              "      <td>856</td>\n",
              "      <td>1061</td>\n",
              "      <td>...</td>\n",
              "      <td>train</td>\n",
              "      <td>TITLE: Relationship Between Low\u2010Density Lipopr...</td>\n",
              "      <td>True</td>\n",
              "      <td>True</td>\n",
              "      <td>184</td>\n",
              "      <td>2217</td>\n",
              "      <td>ABSTRACT.BACKGROUND:\\nAlirocumab undergoes tar...</td>\n",
              "      <td>True</td>\n",
              "      <td>significantly increased</td>\n",
              "      <td>1</td>\n",
              "    </tr>\n",
              "    <tr>\n",
              "      <th>5625</th>\n",
              "      <td>4202567</td>\n",
              "      <td>11162</td>\n",
              "      <td>True</td>\n",
              "      <td>True</td>\n",
              "      <td>no significant difference</td>\n",
              "      <td>There were also no statistically significant c...</td>\n",
              "      <td>0</td>\n",
              "      <td>True</td>\n",
              "      <td>1238</td>\n",
              "      <td>1333</td>\n",
              "      <td>...</td>\n",
              "      <td>test</td>\n",
              "      <td>TITLE: The Polarity-Dependent Effects of the B...</td>\n",
              "      <td>True</td>\n",
              "      <td>True</td>\n",
              "      <td>94</td>\n",
              "      <td>1861</td>\n",
              "      <td>ABSTRACT.INTRODUCTION:\\nWorking memory plays a...</td>\n",
              "      <td>True</td>\n",
              "      <td>no significant difference</td>\n",
              "      <td>0</td>\n",
              "    </tr>\n",
              "    <tr>\n",
              "      <th>5630</th>\n",
              "      <td>2954378</td>\n",
              "      <td>8164</td>\n",
              "      <td>True</td>\n",
              "      <td>True</td>\n",
              "      <td>significantly increased</td>\n",
              "      <td>he variability of the median day-to-day forced...</td>\n",
              "      <td>1</td>\n",
              "      <td>True</td>\n",
              "      <td>766</td>\n",
              "      <td>1128</td>\n",
              "      <td>...</td>\n",
              "      <td>train</td>\n",
              "      <td>TITLE: Evaluation of a novel method to assess ...</td>\n",
              "      <td>True</td>\n",
              "      <td>True</td>\n",
              "      <td>120</td>\n",
              "      <td>1964</td>\n",
              "      <td>ABSTRACT.BACKGROUND::\\nSome patients with chro...</td>\n",
              "      <td>True</td>\n",
              "      <td>significantly increased</td>\n",
              "      <td>1</td>\n",
              "    </tr>\n",
              "    <tr>\n",
              "      <th>5632</th>\n",
              "      <td>4280732</td>\n",
              "      <td>8771</td>\n",
              "      <td>True</td>\n",
              "      <td>True</td>\n",
              "      <td>significantly increased</td>\n",
              "      <td>Analysis of delivery method showed that in mot...</td>\n",
              "      <td>1</td>\n",
              "      <td>True</td>\n",
              "      <td>1444</td>\n",
              "      <td>1629</td>\n",
              "      <td>...</td>\n",
              "      <td>train</td>\n",
              "      <td>TITLE: Comparison of childbirth training works...</td>\n",
              "      <td>True</td>\n",
              "      <td>True</td>\n",
              "      <td>184</td>\n",
              "      <td>1936</td>\n",
              "      <td>ABSTRACT.BACKGROUND::\\nThe World Health Organi...</td>\n",
              "      <td>True</td>\n",
              "      <td>significantly increased</td>\n",
              "      <td>1</td>\n",
              "    </tr>\n",
              "  </tbody>\n",
              "</table>\n",
              "<p>1351 rows \u00d7 23 columns</p>\n",
              "</div>"
            ],
            "text/plain": [
              "        PMCID  PromptID  Valid Label  Valid Reasoning  \\\n",
              "0     2944158        92         True             True   \n",
              "1     2871176       125         True             True   \n",
              "5     2708184       156         True             True   \n",
              "6     2864284       171         True             True   \n",
              "16    3187863       198         True             True   \n",
              "...       ...       ...          ...              ...   \n",
              "5538  3499334     10932         True             True   \n",
              "5554  4937273     10971         True             True   \n",
              "5625  4202567     11162         True             True   \n",
              "5630  2954378      8164         True             True   \n",
              "5632  4280732      8771         True             True   \n",
              "\n",
              "                          Label  \\\n",
              "0     no significant difference   \n",
              "1       significantly decreased   \n",
              "5     no significant difference   \n",
              "6       significantly increased   \n",
              "16    no significant difference   \n",
              "...                         ...   \n",
              "5538    significantly decreased   \n",
              "5554    significantly increased   \n",
              "5625  no significant difference   \n",
              "5630    significantly increased   \n",
              "5632    significantly increased   \n",
              "\n",
              "                                            Annotations  Label Code  \\\n",
              "0     There were no local infections or IVD-related ...           0   \n",
              "1     Decreases in postprandial plasma glucose from ...          -1   \n",
              "5     No significant differences in primary outcomes...           0   \n",
              "6     The log-rank test comparing the survival curve...           1   \n",
              "16    There were no significant differences in postp...           0   \n",
              "...                                                 ...         ...   \n",
              "5538  The mean scores of the Zarit caregiver burden ...          -1   \n",
              "5554  Maximal mean LDL\u2010C reductions from day \u22121 base...           1   \n",
              "5625  There were also no statistically significant c...           0   \n",
              "5630  he variability of the median day-to-day forced...           1   \n",
              "5632  Analysis of delivery method showed that in mot...           1   \n",
              "\n",
              "      In Abstract (labelled)  Evidence Start  Evidence End  ...  Split  \\\n",
              "0                       True            1549          1634  ...  train   \n",
              "1                       True            1469          1756  ...  train   \n",
              "5                       True            1211          1330  ...  train   \n",
              "6                       True            1664          1801  ...  train   \n",
              "16                      True            1164          1272  ...  train   \n",
              "...                      ...             ...           ...  ...    ...   \n",
              "5538                    True             956          1156  ...  train   \n",
              "5554                    True             856          1061  ...  train   \n",
              "5625                    True            1238          1333  ...   test   \n",
              "5630                    True             766          1128  ...  train   \n",
              "5632                    True            1444          1629  ...  train   \n",
              "\n",
              "                                                   Text  \\\n",
              "0     TITLE: Routine resite of peripheral intravenou...   \n",
              "1     TITLE: Liraglutide, a once-daily human GLP-1 a...   \n",
              "5     TITLE: Pilot study of Lokomat versus manual-as...   \n",
              "6     TITLE: Dihydroartemisinin-piperaquine versus c...   \n",
              "16    TITLE: Is the operative delivery rate in low-r...   \n",
              "...                                                 ...   \n",
              "5538  TITLE: The effectiveness of a group psycho-edu...   \n",
              "5554  TITLE: Relationship Between Low\u2010Density Lipopr...   \n",
              "5625  TITLE: The Polarity-Dependent Effects of the B...   \n",
              "5630  TITLE: Evaluation of a novel method to assess ...   \n",
              "5632  TITLE: Comparison of childbirth training works...   \n",
              "\n",
              "     Contains Abstract Section Text available Abstract Start  Abstract End  \\\n",
              "0                         True           True            174          2474   \n",
              "1                         True           True            250          2253   \n",
              "5                         True           True            110          2017   \n",
              "6                         True           True            142          2460   \n",
              "16                        True           True            127          1950   \n",
              "...                        ...            ...            ...           ...   \n",
              "5538                      True           True            127          1530   \n",
              "5554                      True           True            184          2217   \n",
              "5625                      True           True             94          1861   \n",
              "5630                      True           True            120          1964   \n",
              "5632                      True           True            184          1936   \n",
              "\n",
              "                                               Abstract  \\\n",
              "0     ABSTRACT.BACKGROUND:\\nPeripheral intravenous d...   \n",
              "1     ABSTRACT.AIM:\\nTo compare the effects of combi...   \n",
              "5     ABSTRACT.BACKGROUND:\\nWhile manually-assisted ...   \n",
              "6     ABSTRACT.BACKGROUND:\\nAfghanistan's national g...   \n",
              "16    ABSTRACT.OBJECTIVE:\\nTo investigate possible d...   \n",
              "...                                                 ...   \n",
              "5538  ABSTRACT.BACKGROUND:\\nBrief family interventio...   \n",
              "5554  ABSTRACT.BACKGROUND:\\nAlirocumab undergoes tar...   \n",
              "5625  ABSTRACT.INTRODUCTION:\\nWorking memory plays a...   \n",
              "5630  ABSTRACT.BACKGROUND::\\nSome patients with chro...   \n",
              "5632  ABSTRACT.BACKGROUND::\\nThe World Health Organi...   \n",
              "\n",
              "      In Abstract (identified)               Common Label Common Label Code  \n",
              "0                         True  no significant difference                 0  \n",
              "1                         True    significantly decreased                -1  \n",
              "5                         True  no significant difference                 0  \n",
              "6                         True    significantly increased                 1  \n",
              "16                        True  no significant difference                 0  \n",
              "...                        ...                        ...               ...  \n",
              "5538                      True    significantly decreased                -1  \n",
              "5554                      True    significantly increased                 1  \n",
              "5625                      True  no significant difference                 0  \n",
              "5630                      True    significantly increased                 1  \n",
              "5632                      True    significantly increased                 1  \n",
              "\n",
              "[1351 rows x 23 columns]"
            ]
          },
          "execution_count": 29,
          "metadata": {},
          "output_type": "execute_result"
        }
      ],
      "source": [
        "df_abs_docs"
      ]
    },
    {
      "cell_type": "code",
      "execution_count": 30,
      "metadata": {},
      "outputs": [],
      "source": [
        "df_abs_docs[\"Effect Label Code\"] = df_abs_docs[\"Common Label Code\"].apply(\n",
        "    lambda r: 1 if r != 0 else 0\n",
        ")\n",
        "df_abs_docs[\"Effect Label\"] = df_abs_docs[\"Common Label Code\"].apply(\n",
        "    lambda r: \"significant effect\" if r != 0 else \"no significant effect\"\n",
        ")"
      ]
    },
    {
      "attachments": {},
      "cell_type": "markdown",
      "metadata": {},
      "source": [
        "Most columns can now be dropped from the dataframe as they are no longer meaningful:"
      ]
    },
    {
      "cell_type": "code",
      "execution_count": 31,
      "metadata": {},
      "outputs": [],
      "source": [
        "df_effect = df_abs_docs.drop(\n",
        "    columns=[\n",
        "        \"PromptID\",\n",
        "        \"Valid Label\",\n",
        "        \"Valid Reasoning\",\n",
        "        \"Label\",\n",
        "        \"Annotations\",\n",
        "        \"Label Code\",\n",
        "        \"In Abstract (labelled)\",\n",
        "        \"In Abstract (identified)\",\n",
        "        \"Outcome\",\n",
        "        \"Intervention\",\n",
        "        \"Comparator\",\n",
        "        \"Common Label\",\n",
        "        \"Common Label Code\",\n",
        "    ]\n",
        ")"
      ]
    },
    {
      "attachments": {},
      "cell_type": "markdown",
      "metadata": {},
      "source": [
        "We can now remove the `ABSTRACT.` prefixes from the headings:"
      ]
    },
    {
      "cell_type": "code",
      "execution_count": 32,
      "metadata": {},
      "outputs": [],
      "source": [
        "df_effect[\"Abstract\"] = df_effect[\"Abstract\"].str.replace(\"ABSTRACT.\", \"\", regex=True)"
      ]
    },
    {
      "attachments": {},
      "cell_type": "markdown",
      "metadata": {},
      "source": [
        "We can also rename the `Abstract` column to reflect that it is from the Evidence Inference dataset:"
      ]
    },
    {
      "cell_type": "code",
      "execution_count": 33,
      "metadata": {},
      "outputs": [],
      "source": [
        "df_effect.rename(columns={\"Abstract\": \"Abstract (EI)\"}, inplace=True)"
      ]
    },
    {
      "attachments": {},
      "cell_type": "markdown",
      "metadata": {},
      "source": [
        "### Map PMC IDs to Pubmed IDs"
      ]
    },
    {
      "cell_type": "code",
      "execution_count": 34,
      "metadata": {},
      "outputs": [],
      "source": [
        "mapping_csv = pooch.retrieve(\n",
        "    \"https://ftp.ncbi.nlm.nih.gov/pub/pmc/PMC-ids.csv.gz\", known_hash=None\n",
        ")"
      ]
    },
    {
      "cell_type": "code",
      "execution_count": 35,
      "metadata": {},
      "outputs": [],
      "source": [
        "mapping_df = (\n",
        "    pd.read_csv(mapping_csv, usecols=[\"PMCID\", \"DOI\", \"PMID\"])\n",
        "    .dropna(subset=[\"PMCID\", \"PMID\"])\n",
        "    .set_index(\"PMCID\")\n",
        ")\n",
        "mapping_df[\"PMID\"] = mapping_df[\"PMID\"].astype(\"Int64\")"
      ]
    },
    {
      "cell_type": "code",
      "execution_count": 36,
      "metadata": {},
      "outputs": [],
      "source": [
        "df_effect = (\n",
        "    df_effect.set_index(df_effect[\"PMCID\"].apply(lambda i: f\"PMC{i}\"))\n",
        "    .join(mapping_df, how=\"left\")\n",
        "    .reset_index(drop=True)\n",
        ")"
      ]
    },
    {
      "attachments": {},
      "cell_type": "markdown",
      "metadata": {},
      "source": [
        "### Retrieve abstracts from Trialstreamer"
      ]
    },
    {
      "cell_type": "code",
      "execution_count": 37,
      "metadata": {},
      "outputs": [],
      "source": [
        "from integration.db import get_engine\n",
        "from sqlalchemy.orm import Session"
      ]
    },
    {
      "cell_type": "code",
      "execution_count": 38,
      "metadata": {},
      "outputs": [],
      "source": [
        "engine = get_engine(\"sqlite:///../../db/data.db\")"
      ]
    },
    {
      "cell_type": "code",
      "execution_count": 39,
      "metadata": {},
      "outputs": [],
      "source": [
        "from sqlalchemy import select\n",
        "from integration.orm.trialstreamer import Trial as ts_Trial\n",
        "\n",
        "with Session(engine) as session:\n",
        "    query = select(ts_Trial.pm_id, ts_Trial.abstract).where(\n",
        "        ts_Trial.pm_id.in_(\n",
        "            [int(n) for n in df_effect[\"PMID\"].dropna().astype(int).to_list()]\n",
        "        )\n",
        "    )\n",
        "    retrieved_trials = session.execute(query).all()"
      ]
    },
    {
      "cell_type": "code",
      "execution_count": 40,
      "metadata": {},
      "outputs": [],
      "source": [
        "ts_abstracts_df = pd.DataFrame(retrieved_trials, columns=[\"PMID\", \"Abstract (TS)\"])\n",
        "ts_abstracts_df[\"PMID\"] = ts_abstracts_df[\"PMID\"].astype(\"Int64\")"
      ]
    },
    {
      "cell_type": "code",
      "execution_count": 41,
      "metadata": {},
      "outputs": [],
      "source": [
        "df_effect = df_effect.merge(ts_abstracts_df, on=\"PMID\", how=\"left\").drop_duplicates(\n",
        "    subset=[\"PMCID\", \"PMID\"]\n",
        ")"
      ]
    },
    {
      "attachments": {},
      "cell_type": "markdown",
      "metadata": {},
      "source": [
        "### Cleaning"
      ]
    },
    {
      "cell_type": "code",
      "execution_count": 42,
      "metadata": {},
      "outputs": [],
      "source": [
        "df_effect = df_effect[\n",
        "    [\n",
        "        \"PMID\",\n",
        "        \"PMCID\",\n",
        "        \"DOI\",\n",
        "        \"Split\",\n",
        "        \"Evidence Start\",\n",
        "        \"Evidence End\",\n",
        "        \"Abstract Start\",\n",
        "        \"Abstract End\",\n",
        "        \"Text\",\n",
        "        \"Abstract (EI)\",\n",
        "        \"Abstract (TS)\",\n",
        "        \"Effect Label\",\n",
        "        \"Effect Label Code\",\n",
        "    ]\n",
        "]"
      ]
    },
    {
      "cell_type": "code",
      "execution_count": 43,
      "metadata": {},
      "outputs": [],
      "source": [
        "df_effect.dropna(subset=\"Abstract (TS)\", inplace=True)"
      ]
    },
    {
      "attachments": {},
      "cell_type": "markdown",
      "metadata": {},
      "source": [
        "### Exploration"
      ]
    },
    {
      "cell_type": "code",
      "execution_count": 44,
      "metadata": {},
      "outputs": [
        {
          "data": {
            "text/html": [
              "<div>\n",
              "<style scoped>\n",
              "    .dataframe tbody tr th:only-of-type {\n",
              "        vertical-align: middle;\n",
              "    }\n",
              "\n",
              "    .dataframe tbody tr th {\n",
              "        vertical-align: top;\n",
              "    }\n",
              "\n",
              "    .dataframe thead th {\n",
              "        text-align: right;\n",
              "    }\n",
              "</style>\n",
              "<table border=\"1\" class=\"dataframe\">\n",
              "  <thead>\n",
              "    <tr style=\"text-align: right;\">\n",
              "      <th></th>\n",
              "      <th>PMID</th>\n",
              "      <th>PMCID</th>\n",
              "      <th>DOI</th>\n",
              "      <th>Split</th>\n",
              "      <th>Evidence Start</th>\n",
              "      <th>Evidence End</th>\n",
              "      <th>Abstract Start</th>\n",
              "      <th>Abstract End</th>\n",
              "      <th>Text</th>\n",
              "      <th>Abstract (EI)</th>\n",
              "      <th>Abstract (TS)</th>\n",
              "      <th>Effect Label</th>\n",
              "      <th>Effect Label Code</th>\n",
              "    </tr>\n",
              "  </thead>\n",
              "  <tbody>\n",
              "    <tr>\n",
              "      <th>0</th>\n",
              "      <td>20831782</td>\n",
              "      <td>2944158</td>\n",
              "      <td>10.1186/1741-7015-8-53</td>\n",
              "      <td>train</td>\n",
              "      <td>1549</td>\n",
              "      <td>1634</td>\n",
              "      <td>174</td>\n",
              "      <td>2474</td>\n",
              "      <td>TITLE: Routine resite of peripheral intravenou...</td>\n",
              "      <td>BACKGROUND:\\nPeripheral intravenous device (IV...</td>\n",
              "      <td>BACKGROUND\\n\\n\\nPeripheral intravenous device ...</td>\n",
              "      <td>no significant effect</td>\n",
              "      <td>0</td>\n",
              "    </tr>\n",
              "    <tr>\n",
              "      <th>1</th>\n",
              "      <td>19317822</td>\n",
              "      <td>2871176</td>\n",
              "      <td>10.1111/j.1464-5491.2009.02666.x</td>\n",
              "      <td>train</td>\n",
              "      <td>1469</td>\n",
              "      <td>1756</td>\n",
              "      <td>250</td>\n",
              "      <td>2253</td>\n",
              "      <td>TITLE: Liraglutide, a once-daily human GLP-1 a...</td>\n",
              "      <td>AIM:\\nTo compare the effects of combining lira...</td>\n",
              "      <td>AIM\\n\\n\\nTo compare the effects of combining l...</td>\n",
              "      <td>significant effect</td>\n",
              "      <td>1</td>\n",
              "    </tr>\n",
              "    <tr>\n",
              "      <th>2</th>\n",
              "      <td>19523207</td>\n",
              "      <td>2708184</td>\n",
              "      <td>10.1186/1743-0003-6-18</td>\n",
              "      <td>train</td>\n",
              "      <td>1211</td>\n",
              "      <td>1330</td>\n",
              "      <td>110</td>\n",
              "      <td>2017</td>\n",
              "      <td>TITLE: Pilot study of Lokomat versus manual-as...</td>\n",
              "      <td>BACKGROUND:\\nWhile manually-assisted body-weig...</td>\n",
              "      <td>BACKGROUND\\n\\n\\nWhile manually-assisted body-w...</td>\n",
              "      <td>no significant effect</td>\n",
              "      <td>0</td>\n",
              "    </tr>\n",
              "    <tr>\n",
              "      <th>3</th>\n",
              "      <td>20409302</td>\n",
              "      <td>2864284</td>\n",
              "      <td>10.1186/1475-2875-9-105</td>\n",
              "      <td>train</td>\n",
              "      <td>1664</td>\n",
              "      <td>1801</td>\n",
              "      <td>142</td>\n",
              "      <td>2460</td>\n",
              "      <td>TITLE: Dihydroartemisinin-piperaquine versus c...</td>\n",
              "      <td>BACKGROUND:\\nAfghanistan's national guidelines...</td>\n",
              "      <td>BACKGROUND\\n\\n\\nAfghanistan's national guideli...</td>\n",
              "      <td>significant effect</td>\n",
              "      <td>1</td>\n",
              "    </tr>\n",
              "    <tr>\n",
              "      <th>4</th>\n",
              "      <td>21749629</td>\n",
              "      <td>3187863</td>\n",
              "      <td>10.1111/j.1471-0528.2011.03043.x</td>\n",
              "      <td>train</td>\n",
              "      <td>1164</td>\n",
              "      <td>1272</td>\n",
              "      <td>127</td>\n",
              "      <td>1950</td>\n",
              "      <td>TITLE: Is the operative delivery rate in low-r...</td>\n",
              "      <td>OBJECTIVE:\\nTo investigate possible difference...</td>\n",
              "      <td>OBJECTIVE\\n\\n\\nTo investigate possible differe...</td>\n",
              "      <td>no significant effect</td>\n",
              "      <td>0</td>\n",
              "    </tr>\n",
              "    <tr>\n",
              "      <th>...</th>\n",
              "      <td>...</td>\n",
              "      <td>...</td>\n",
              "      <td>...</td>\n",
              "      <td>...</td>\n",
              "      <td>...</td>\n",
              "      <td>...</td>\n",
              "      <td>...</td>\n",
              "      <td>...</td>\n",
              "      <td>...</td>\n",
              "      <td>...</td>\n",
              "      <td>...</td>\n",
              "      <td>...</td>\n",
              "      <td>...</td>\n",
              "    </tr>\n",
              "    <tr>\n",
              "      <th>1346</th>\n",
              "      <td>22853873</td>\n",
              "      <td>3499334</td>\n",
              "      <td>10.1186/1756-0500-5-399</td>\n",
              "      <td>train</td>\n",
              "      <td>956</td>\n",
              "      <td>1156</td>\n",
              "      <td>127</td>\n",
              "      <td>1530</td>\n",
              "      <td>TITLE: The effectiveness of a group psycho-edu...</td>\n",
              "      <td>BACKGROUND:\\nBrief family intervention may hav...</td>\n",
              "      <td>BACKGROUND\\n\\n\\nBrief family intervention may ...</td>\n",
              "      <td>significant effect</td>\n",
              "      <td>1</td>\n",
              "    </tr>\n",
              "    <tr>\n",
              "      <th>1347</th>\n",
              "      <td>27287699</td>\n",
              "      <td>4937273</td>\n",
              "      <td>10.1161/JAHA.116.003323</td>\n",
              "      <td>train</td>\n",
              "      <td>856</td>\n",
              "      <td>1061</td>\n",
              "      <td>184</td>\n",
              "      <td>2217</td>\n",
              "      <td>TITLE: Relationship Between Low\u2010Density Lipopr...</td>\n",
              "      <td>BACKGROUND:\\nAlirocumab undergoes target\u2010media...</td>\n",
              "      <td>BACKGROUND\\n\\n\\nAlirocumab undergoes target-me...</td>\n",
              "      <td>significant effect</td>\n",
              "      <td>1</td>\n",
              "    </tr>\n",
              "    <tr>\n",
              "      <th>1348</th>\n",
              "      <td>25337351</td>\n",
              "      <td>4202567</td>\n",
              "      <td>NaN</td>\n",
              "      <td>test</td>\n",
              "      <td>1238</td>\n",
              "      <td>1333</td>\n",
              "      <td>94</td>\n",
              "      <td>1861</td>\n",
              "      <td>TITLE: The Polarity-Dependent Effects of the B...</td>\n",
              "      <td>INTRODUCTION:\\nWorking memory plays a critical...</td>\n",
              "      <td>INTRODUCTION\\n\\n\\nWorking memory plays a criti...</td>\n",
              "      <td>no significant effect</td>\n",
              "      <td>0</td>\n",
              "    </tr>\n",
              "    <tr>\n",
              "      <th>1349</th>\n",
              "      <td>20981184</td>\n",
              "      <td>2954378</td>\n",
              "      <td>10.4103/1817-1737.69114</td>\n",
              "      <td>train</td>\n",
              "      <td>766</td>\n",
              "      <td>1128</td>\n",
              "      <td>120</td>\n",
              "      <td>1964</td>\n",
              "      <td>TITLE: Evaluation of a novel method to assess ...</td>\n",
              "      <td>BACKGROUND::\\nSome patients with chronic obstr...</td>\n",
              "      <td>BACKGROUND\\n\\n\\nSome patients with chronic obs...</td>\n",
              "      <td>significant effect</td>\n",
              "      <td>1</td>\n",
              "    </tr>\n",
              "    <tr>\n",
              "      <th>1350</th>\n",
              "      <td>25558265</td>\n",
              "      <td>4280732</td>\n",
              "      <td>NaN</td>\n",
              "      <td>train</td>\n",
              "      <td>1444</td>\n",
              "      <td>1629</td>\n",
              "      <td>184</td>\n",
              "      <td>1936</td>\n",
              "      <td>TITLE: Comparison of childbirth training works...</td>\n",
              "      <td>BACKGROUND::\\nThe World Health Organization an...</td>\n",
              "      <td>BACKGROUND\\n\\n\\nThe World Health Organization ...</td>\n",
              "      <td>significant effect</td>\n",
              "      <td>1</td>\n",
              "    </tr>\n",
              "  </tbody>\n",
              "</table>\n",
              "<p>1269 rows \u00d7 13 columns</p>\n",
              "</div>"
            ],
            "text/plain": [
              "          PMID    PMCID                               DOI  Split  \\\n",
              "0     20831782  2944158            10.1186/1741-7015-8-53  train   \n",
              "1     19317822  2871176  10.1111/j.1464-5491.2009.02666.x  train   \n",
              "2     19523207  2708184            10.1186/1743-0003-6-18  train   \n",
              "3     20409302  2864284           10.1186/1475-2875-9-105  train   \n",
              "4     21749629  3187863  10.1111/j.1471-0528.2011.03043.x  train   \n",
              "...        ...      ...                               ...    ...   \n",
              "1346  22853873  3499334           10.1186/1756-0500-5-399  train   \n",
              "1347  27287699  4937273           10.1161/JAHA.116.003323  train   \n",
              "1348  25337351  4202567                               NaN   test   \n",
              "1349  20981184  2954378           10.4103/1817-1737.69114  train   \n",
              "1350  25558265  4280732                               NaN  train   \n",
              "\n",
              "      Evidence Start  Evidence End  Abstract Start  Abstract End  \\\n",
              "0               1549          1634             174          2474   \n",
              "1               1469          1756             250          2253   \n",
              "2               1211          1330             110          2017   \n",
              "3               1664          1801             142          2460   \n",
              "4               1164          1272             127          1950   \n",
              "...              ...           ...             ...           ...   \n",
              "1346             956          1156             127          1530   \n",
              "1347             856          1061             184          2217   \n",
              "1348            1238          1333              94          1861   \n",
              "1349             766          1128             120          1964   \n",
              "1350            1444          1629             184          1936   \n",
              "\n",
              "                                                   Text  \\\n",
              "0     TITLE: Routine resite of peripheral intravenou...   \n",
              "1     TITLE: Liraglutide, a once-daily human GLP-1 a...   \n",
              "2     TITLE: Pilot study of Lokomat versus manual-as...   \n",
              "3     TITLE: Dihydroartemisinin-piperaquine versus c...   \n",
              "4     TITLE: Is the operative delivery rate in low-r...   \n",
              "...                                                 ...   \n",
              "1346  TITLE: The effectiveness of a group psycho-edu...   \n",
              "1347  TITLE: Relationship Between Low\u2010Density Lipopr...   \n",
              "1348  TITLE: The Polarity-Dependent Effects of the B...   \n",
              "1349  TITLE: Evaluation of a novel method to assess ...   \n",
              "1350  TITLE: Comparison of childbirth training works...   \n",
              "\n",
              "                                          Abstract (EI)  \\\n",
              "0     BACKGROUND:\\nPeripheral intravenous device (IV...   \n",
              "1     AIM:\\nTo compare the effects of combining lira...   \n",
              "2     BACKGROUND:\\nWhile manually-assisted body-weig...   \n",
              "3     BACKGROUND:\\nAfghanistan's national guidelines...   \n",
              "4     OBJECTIVE:\\nTo investigate possible difference...   \n",
              "...                                                 ...   \n",
              "1346  BACKGROUND:\\nBrief family intervention may hav...   \n",
              "1347  BACKGROUND:\\nAlirocumab undergoes target\u2010media...   \n",
              "1348  INTRODUCTION:\\nWorking memory plays a critical...   \n",
              "1349  BACKGROUND::\\nSome patients with chronic obstr...   \n",
              "1350  BACKGROUND::\\nThe World Health Organization an...   \n",
              "\n",
              "                                          Abstract (TS)  \\\n",
              "0     BACKGROUND\\n\\n\\nPeripheral intravenous device ...   \n",
              "1     AIM\\n\\n\\nTo compare the effects of combining l...   \n",
              "2     BACKGROUND\\n\\n\\nWhile manually-assisted body-w...   \n",
              "3     BACKGROUND\\n\\n\\nAfghanistan's national guideli...   \n",
              "4     OBJECTIVE\\n\\n\\nTo investigate possible differe...   \n",
              "...                                                 ...   \n",
              "1346  BACKGROUND\\n\\n\\nBrief family intervention may ...   \n",
              "1347  BACKGROUND\\n\\n\\nAlirocumab undergoes target-me...   \n",
              "1348  INTRODUCTION\\n\\n\\nWorking memory plays a criti...   \n",
              "1349  BACKGROUND\\n\\n\\nSome patients with chronic obs...   \n",
              "1350  BACKGROUND\\n\\n\\nThe World Health Organization ...   \n",
              "\n",
              "               Effect Label  Effect Label Code  \n",
              "0     no significant effect                  0  \n",
              "1        significant effect                  1  \n",
              "2     no significant effect                  0  \n",
              "3        significant effect                  1  \n",
              "4     no significant effect                  0  \n",
              "...                     ...                ...  \n",
              "1346     significant effect                  1  \n",
              "1347     significant effect                  1  \n",
              "1348  no significant effect                  0  \n",
              "1349     significant effect                  1  \n",
              "1350     significant effect                  1  \n",
              "\n",
              "[1269 rows x 13 columns]"
            ]
          },
          "execution_count": 44,
          "metadata": {},
          "output_type": "execute_result"
        }
      ],
      "source": [
        "df_effect"
      ]
    },
    {
      "cell_type": "code",
      "execution_count": 48,
      "metadata": {},
      "outputs": [
        {
          "data": {
            "text/html": [
              "<div>\n",
              "<style scoped>\n",
              "    .dataframe tbody tr th:only-of-type {\n",
              "        vertical-align: middle;\n",
              "    }\n",
              "\n",
              "    .dataframe tbody tr th {\n",
              "        vertical-align: top;\n",
              "    }\n",
              "\n",
              "    .dataframe thead th {\n",
              "        text-align: right;\n",
              "    }\n",
              "</style>\n",
              "<table border=\"1\" class=\"dataframe\">\n",
              "  <thead>\n",
              "    <tr style=\"text-align: right;\">\n",
              "      <th>Split</th>\n",
              "      <th>Train</th>\n",
              "      <th>Validation</th>\n",
              "      <th>Test</th>\n",
              "      <th>All</th>\n",
              "    </tr>\n",
              "    <tr>\n",
              "      <th>Effect Label</th>\n",
              "      <th></th>\n",
              "      <th></th>\n",
              "      <th></th>\n",
              "      <th></th>\n",
              "    </tr>\n",
              "  </thead>\n",
              "  <tbody>\n",
              "    <tr>\n",
              "      <th>no significant effect</th>\n",
              "      <td>384</td>\n",
              "      <td>44</td>\n",
              "      <td>41</td>\n",
              "      <td>469</td>\n",
              "    </tr>\n",
              "    <tr>\n",
              "      <th>significant effect</th>\n",
              "      <td>644</td>\n",
              "      <td>74</td>\n",
              "      <td>82</td>\n",
              "      <td>800</td>\n",
              "    </tr>\n",
              "    <tr>\n",
              "      <th>All</th>\n",
              "      <td>1028</td>\n",
              "      <td>118</td>\n",
              "      <td>123</td>\n",
              "      <td>1269</td>\n",
              "    </tr>\n",
              "  </tbody>\n",
              "</table>\n",
              "</div>"
            ],
            "text/plain": [
              "Split                  Train  Validation  Test   All\n",
              "Effect Label                                        \n",
              "no significant effect    384          44    41   469\n",
              "significant effect       644          74    82   800\n",
              "All                     1028         118   123  1269"
            ]
          },
          "execution_count": 48,
          "metadata": {},
          "output_type": "execute_result"
        }
      ],
      "source": [
        "crosstab = pd.crosstab(df_effect[\"Effect Label\"], df_effect[\"Split\"], margins=True)[\n",
        "    [\"train\", \"validation\", \"test\", \"All\"]\n",
        "].rename(columns=lambda c: c.capitalize())\n",
        "crosstab.style.to_latex(\n",
        "    PATH_LATEX_TABLE_OUTPUT / \"label_distribution.tex\", hrules=True, siunitx=True\n",
        ")\n",
        "crosstab"
      ]
    },
    {
      "cell_type": "code",
      "execution_count": 47,
      "metadata": {},
      "outputs": [
        {
          "data": {
            "image/png": "[encoded data removed]",
            "text/plain": [
              "<Figure size 551.181x340.649 with 1 Axes>"
            ]
          },
          "metadata": {},
          "output_type": "display_data"
        }
      ],
      "source": [
        "fig, ax = plt.subplots(figsize=set_size(\"thesis\"))\n",
        "\n",
        "pd.crosstab(df_effect[\"Effect Label\"], df_effect[\"Split\"])[\n",
        "    [\"train\", \"test\", \"validation\"]\n",
        "].rename(columns=lambda c: c.capitalize()).T.plot(\n",
        "    kind=\"bar\",\n",
        "    rot=0,\n",
        "    stacked=False,\n",
        "    title=\"Distribution of class labels across splits\",\n",
        "    ylabel=\"Number of labelled documents\",\n",
        "    ax=ax,\n",
        ")\n",
        "fig.tight_layout()\n",
        "fig.savefig(str(PATH_LATEX_PLOT_OUTPUT / \"label_distribution.pdf\"))"
      ]
    },
    {
      "attachments": {},
      "cell_type": "markdown",
      "metadata": {},
      "source": [
        "## Prepare Huggingface dataset"
      ]
    },
    {
      "attachments": {},
      "cell_type": "markdown",
      "metadata": {},
      "source": [
        "To ease the model training process, it makes sense to store the data as a Huggingface dataset:"
      ]
    },
    {
      "cell_type": "code",
      "execution_count": 54,
      "metadata": {},
      "outputs": [],
      "source": [
        "from datasets import Dataset, DatasetDict, Features, ClassLabel, Value, DatasetInfo"
      ]
    },
    {
      "cell_type": "code",
      "execution_count": 55,
      "metadata": {},
      "outputs": [],
      "source": [
        "hf_df = df_effect[\n",
        "    [\"PMCID\", \"PMID\", \"Split\", \"Abstract (TS)\", \"Effect Label Code\"]\n",
        "].rename(\n",
        "    columns={\n",
        "        \"PMCID\": \"pmcid\",\n",
        "        \"PMID\": \"pmid\",\n",
        "        \"Abstract (TS)\": \"text\",\n",
        "        \"Effect Label Code\": \"label\",\n",
        "    }\n",
        ")"
      ]
    },
    {
      "cell_type": "code",
      "execution_count": 56,
      "metadata": {},
      "outputs": [],
      "source": [
        "features = Features(\n",
        "    {\n",
        "        \"pmcid\": Value(dtype=\"int32\", id=None),\n",
        "        \"pmid\": Value(dtype=\"int32\", id=None),\n",
        "        \"text\": Value(dtype=\"string\", id=None),\n",
        "        \"label\": ClassLabel(\n",
        "            num_classes=2, names=[\"no significant effect\", \"significant effect\"]\n",
        "        ),\n",
        "    }\n",
        ")"
      ]
    },
    {
      "cell_type": "code",
      "execution_count": 57,
      "metadata": {},
      "outputs": [],
      "source": [
        "info = DatasetInfo(\n",
        "    description=\"This dataset contains document-level effect significance labels aggregated from the [Evidence Inference 2.0 dataset](http://evidence-inference.ebm-nlp.com/).\",\n",
        "    features=features,\n",
        "    version=\"0.0.1\",\n",
        ")"
      ]
    },
    {
      "cell_type": "code",
      "execution_count": 58,
      "metadata": {},
      "outputs": [
        {
          "data": {
            "text/plain": [
              "DatasetDict({\n",
              "    train: Dataset({\n",
              "        features: ['pmcid', 'pmid', 'text', 'label'],\n",
              "        num_rows: 1028\n",
              "    })\n",
              "    validation: Dataset({\n",
              "        features: ['pmcid', 'pmid', 'text', 'label'],\n",
              "        num_rows: 118\n",
              "    })\n",
              "    test: Dataset({\n",
              "        features: ['pmcid', 'pmid', 'text', 'label'],\n",
              "        num_rows: 123\n",
              "    })\n",
              "})"
            ]
          },
          "execution_count": 58,
          "metadata": {},
          "output_type": "execute_result"
        }
      ],
      "source": [
        "ds_splits = {}\n",
        "for split in [\"train\", \"validation\", \"test\"]:\n",
        "    ds_splits[split] = Dataset.from_pandas(\n",
        "        hf_df.query(f\"Split == '{split}'\").drop(columns=\"Split\"),\n",
        "        preserve_index=False,\n",
        "        features=features,\n",
        "        info=info,\n",
        "    )\n",
        "\n",
        "ds = DatasetDict(ds_splits)\n",
        "ds"
      ]
    },
    {
      "cell_type": "code",
      "execution_count": 59,
      "metadata": {},
      "outputs": [
        {
          "name": "stderr",
          "output_type": "stream",
          "text": [
            "Pushing split train to the Hub.\n",
            "Resuming upload of the dataset shards.\n"
          ]
        },
        {
          "data": {
            "application/vnd.jupyter.widget-view+json": {
              "model_id": "171e0c672f1b426988d4a3724aac4073",
              "version_major": 2,
              "version_minor": 0
            },
            "text/plain": [
              "Pushing dataset shards to the dataset hub:   0%|          | 0/1 [00:00<?, ?it/s]"
            ]
          },
          "metadata": {},
          "output_type": "display_data"
        },
        {
          "name": "stderr",
          "output_type": "stream",
          "text": [
            "Pushing split validation to the Hub.\n",
            "Resuming upload of the dataset shards.\n"
          ]
        },
        {
          "data": {
            "application/vnd.jupyter.widget-view+json": {
              "model_id": "8a5c64d8b2ee4babbf2e89833d455bf1",
              "version_major": 2,
              "version_minor": 0
            },
            "text/plain": [
              "Pushing dataset shards to the dataset hub:   0%|          | 0/1 [00:00<?, ?it/s]"
            ]
          },
          "metadata": {},
          "output_type": "display_data"
        },
        {
          "name": "stderr",
          "output_type": "stream",
          "text": [
            "Pushing split test to the Hub.\n",
            "Resuming upload of the dataset shards.\n"
          ]
        },
        {
          "data": {
            "application/vnd.jupyter.widget-view+json": {
              "model_id": "1312690547414b6690cc119125df365b",
              "version_major": 2,
              "version_minor": 0
            },
            "text/plain": [
              "Pushing dataset shards to the dataset hub:   0%|          | 0/1 [00:00<?, ?it/s]"
            ]
          },
          "metadata": {},
          "output_type": "display_data"
        }
      ],
      "source": [
        "ds.push_to_hub(\"paul-ww/ei-abstract-significance\")"
      ]
    },
    {
      "attachments": {},
      "cell_type": "markdown",
      "metadata": {},
      "source": [
        "### Load dataset from the hub"
      ]
    },
    {
      "cell_type": "code",
      "execution_count": 60,
      "metadata": {},
      "outputs": [
        {
          "data": {
            "application/vnd.jupyter.widget-view+json": {
              "model_id": "acf047c714fb434f8534de65c5c28aa1",
              "version_major": 2,
              "version_minor": 0
            },
            "text/plain": [
              "Downloading readme:   0%|          | 0.00/681 [00:00<?, ?B/s]"
            ]
          },
          "metadata": {},
          "output_type": "display_data"
        },
        {
          "name": "stdout",
          "output_type": "stream",
          "text": [
            "Downloading and preparing dataset None/None to /Users/paul/.cache/huggingface/datasets/paul-ww___parquet/paul-ww--ei-abstract-significance-5ce331037880a5bc/0.0.0/14a00e99c0d15a23649d0db8944380ac81082d4b021f398733dd84f3a6c569a7...\n"
          ]
        },
        {
          "data": {
            "application/vnd.jupyter.widget-view+json": {
              "model_id": "d4c11a547d674be7810023bfd13341c2",
              "version_major": 2,
              "version_minor": 0
            },
            "text/plain": [
              "Downloading data files:   0%|          | 0/3 [00:00<?, ?it/s]"
            ]
          },
          "metadata": {},
          "output_type": "display_data"
        },
        {
          "data": {
            "application/vnd.jupyter.widget-view+json": {
              "model_id": "8d7b9f1a2c2e4bd69452df90527c59c7",
              "version_major": 2,
              "version_minor": 0
            },
            "text/plain": [
              "Downloading data:   0%|          | 0.00/1.05M [00:00<?, ?B/s]"
            ]
          },
          "metadata": {},
          "output_type": "display_data"
        },
        {
          "data": {
            "application/vnd.jupyter.widget-view+json": {
              "model_id": "4aae2a5f29f549d383b39e8b060556d7",
              "version_major": 2,
              "version_minor": 0
            },
            "text/plain": [
              "Downloading data:   0%|          | 0.00/137k [00:00<?, ?B/s]"
            ]
          },
          "metadata": {},
          "output_type": "display_data"
        },
        {
          "data": {
            "application/vnd.jupyter.widget-view+json": {
              "model_id": "ee8847b06f3749919356d4f07815a287",
              "version_major": 2,
              "version_minor": 0
            },
            "text/plain": [
              "Downloading data:   0%|          | 0.00/138k [00:00<?, ?B/s]"
            ]
          },
          "metadata": {},
          "output_type": "display_data"
        },
        {
          "data": {
            "application/vnd.jupyter.widget-view+json": {
              "model_id": "bc5493b3d5484f429f4425d62f37f9c9",
              "version_major": 2,
              "version_minor": 0
            },
            "text/plain": [
              "Extracting data files:   0%|          | 0/3 [00:00<?, ?it/s]"
            ]
          },
          "metadata": {},
          "output_type": "display_data"
        },
        {
          "data": {
            "application/vnd.jupyter.widget-view+json": {
              "model_id": "63a5aa450d834b2ab3da9469c3447243",
              "version_major": 2,
              "version_minor": 0
            },
            "text/plain": [
              "Generating train split:   0%|          | 0/1028 [00:00<?, ? examples/s]"
            ]
          },
          "metadata": {},
          "output_type": "display_data"
        },
        {
          "data": {
            "application/vnd.jupyter.widget-view+json": {
              "model_id": "ae90d85248d34124a44b5da85ebb7bef",
              "version_major": 2,
              "version_minor": 0
            },
            "text/plain": [
              "Generating validation split:   0%|          | 0/118 [00:00<?, ? examples/s]"
            ]
          },
          "metadata": {},
          "output_type": "display_data"
        },
        {
          "data": {
            "application/vnd.jupyter.widget-view+json": {
              "model_id": "99fafc8185144523b1572118e3b4ff67",
              "version_major": 2,
              "version_minor": 0
            },
            "text/plain": [
              "Generating test split:   0%|          | 0/123 [00:00<?, ? examples/s]"
            ]
          },
          "metadata": {},
          "output_type": "display_data"
        },
        {
          "name": "stdout",
          "output_type": "stream",
          "text": [
            "Dataset parquet downloaded and prepared to /Users/paul/.cache/huggingface/datasets/paul-ww___parquet/paul-ww--ei-abstract-significance-5ce331037880a5bc/0.0.0/14a00e99c0d15a23649d0db8944380ac81082d4b021f398733dd84f3a6c569a7. Subsequent calls will reuse this data.\n"
          ]
        },
        {
          "data": {
            "application/vnd.jupyter.widget-view+json": {
              "model_id": "ecd1c1db04fd40d4b704422cf8581f0e",
              "version_major": 2,
              "version_minor": 0
            },
            "text/plain": [
              "  0%|          | 0/3 [00:00<?, ?it/s]"
            ]
          },
          "metadata": {},
          "output_type": "display_data"
        }
      ],
      "source": [
        "from datasets import load_dataset\n",
        "\n",
        "ds = load_dataset(\"paul-ww/ei-abstract-significance\")"
      ]
    }
  ],
  "metadata": {
    "kernelspec": {
      "display_name": ".venv",
      "language": "python",
      "name": "python3"
    },
    "language_info": {
      "codemirror_mode": {
        "name": "ipython",
        "version": 3
      },
      "file_extension": ".py",
      "mimetype": "text/x-python",
      "name": "python",
      "nbconvert_exporter": "python",
      "pygments_lexer": "ipython3",
      "version": "3.10.13"
    },
    "orig_nbformat": 4,
    "vscode": {
      "interpreter": {
        "hash": "e007c0a16f466d3691f6680cb2eb8512d306527afe89b130ce46d5b4f8975c54"
      }
    }
  },
  "nbformat": 4,
  "nbformat_minor": 2
}
