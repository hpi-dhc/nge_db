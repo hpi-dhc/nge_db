{
  "cells": [
    {
      "cell_type": "markdown",
      "metadata": {},
      "source": [
        "# Comparison of training results"
      ]
    },
    {
      "cell_type": "code",
      "execution_count": 1,
      "metadata": {},
      "outputs": [],
      "source": [
        "import wandb\n",
        "import pandas as pd\n",
        "from pathlib import Path\n",
        "import json\n",
        "import datasets\n",
        "from sklearn.metrics import ConfusionMatrixDisplay, confusion_matrix\n",
        "from tqdm.auto import tqdm\n",
        "\n",
        "from evaluation.plotting import set_size\n",
        "import matplotlib.pyplot as plt\n",
        "\n",
        "plt.style.use(\"../../thesis.mplstyle\")"
      ]
    },
    {
      "cell_type": "code",
      "execution_count": 2,
      "metadata": {},
      "outputs": [],
      "source": [
        "PATH_LATEX_TABLE_OUTPUT = Path(\n",
        "    \"../../thesis/from_python/tables/classification/training_results/\"\n",
        ")\n",
        "PATH_LATEX_PLOT_OUTPUT = Path(\n",
        "    \"../../thesis/from_python/figures/classification/training_results/\"\n",
        ")\n",
        "\n",
        "PATH_LATEX_TABLE_OUTPUT.mkdir(exist_ok=True, parents=True)\n",
        "PATH_LATEX_PLOT_OUTPUT.mkdir(exist_ok=True, parents=True)"
      ]
    },
    {
      "cell_type": "code",
      "execution_count": 3,
      "metadata": {},
      "outputs": [],
      "source": [
        "ds = datasets.load_dataset(\"paul-ww/ei-abstract-significance\")\n",
        "df_test = ds[\"test\"].to_pandas()"
      ]
    },
    {
      "cell_type": "code",
      "execution_count": 46,
      "metadata": {},
      "outputs": [],
      "source": [
        "df_train = ds[\"train\"].to_pandas()\n",
        "df_val = ds[\"validation\"].to_pandas()\n",
        "df_splits = pd.concat(\n",
        "    [df_train, df_val, df_test], keys=[\"train\", \"val\", \"test\"]\n",
        ").reset_index(names=[\"split\", \"index\"])\n",
        "\n",
        "pd.crosstab(df_splits[\"label\"], df_splits[\"split\"], margins=True).rename_axis(\n",
        "    None, axis=0\n",
        ").rename_axis(None, axis=1).rename(\n",
        "    index={0: r\"\\textit{no significant effect}\", 1: r\"\\textit{significant effect}\"}\n",
        ").rename(\n",
        "    columns={\"test\": \"Test\", \"train\": \"Train\", \"val\": \"Validation\"}\n",
        ")[\n",
        "    [\"Train\", \"Validation\", \"Test\", \"All\"]\n",
        "].style.applymap_index(\n",
        "    lambda v: \"font-weight: bold;\", axis=\"columns\"\n",
        ").to_latex(\n",
        "    PATH_LATEX_TABLE_OUTPUT / \"dataset_splits.tex\",\n",
        "    hrules=True,\n",
        "    siunitx=True,\n",
        "    convert_css=True,\n",
        "    column_format=\"lS[table-format=4.0]S[table-format=3.0]S[table-format=3.0]|S[table-format=4.0]\",\n",
        ")"
      ]
    },
    {
      "cell_type": "code",
      "execution_count": 4,
      "metadata": {},
      "outputs": [
        {
          "name": "stderr",
          "output_type": "stream",
          "text": [
            "Failed to detect the name of this notebook, you can set it manually with the WANDB_NOTEBOOK_NAME environment variable to enable code saving.\n",
            "\u001b[34m\u001b[1mwandb\u001b[0m: Currently logged in as: \u001b[33mpaul_ww\u001b[0m. Use \u001b[1m`wandb login --relogin`\u001b[0m to force relogin\n"
          ]
        }
      ],
      "source": [
        "wandb.login()\n",
        "api = wandb.Api()"
      ]
    },
    {
      "cell_type": "code",
      "execution_count": 6,
      "metadata": {},
      "outputs": [],
      "source": [
        "RUN_GROUPS = {\n",
        "    \"Baseline (Tf-Idf+LR)\": \"baseline\",\n",
        "    \"PubMedBERT\": \"transformer_finetuned\",\n",
        "    \"PubMedBERT-SetFit\": \"transformer_setfit\",\n",
        "    \"Zero-Shot (BART)\": \"transformer_zero_shot\",\n",
        "}"
      ]
    },
    {
      "cell_type": "code",
      "execution_count": 7,
      "metadata": {},
      "outputs": [
        {
          "data": {
            "application/vnd.jupyter.widget-view+json": {
              "model_id": "0c2471ee28cd4ae1aaaa4979e5a43514",
              "version_major": 2,
              "version_minor": 0
            },
            "text/plain": [
              "Saving plots / tables:   0%|          | 0/4 [00:00<?, ?it/s]"
            ]
          },
          "metadata": {},
          "output_type": "display_data"
        },
        {
          "name": "stderr",
          "output_type": "stream",
          "text": [
            "\u001b[34m\u001b[1mwandb\u001b[0m:   1 of 1 files downloaded.  \n",
            "\u001b[34m\u001b[1mwandb\u001b[0m:   1 of 1 files downloaded.  \n",
            "\u001b[34m\u001b[1mwandb\u001b[0m:   1 of 1 files downloaded.  \n",
            "\u001b[34m\u001b[1mwandb\u001b[0m:   1 of 1 files downloaded.  \n"
          ]
        }
      ],
      "source": [
        "summary_metrics = {}\n",
        "proba_predictions = {}\n",
        "\n",
        "for i, (desc, run_group) in enumerate(\n",
        "    tqdm(RUN_GROUPS.items(), desc=\"Saving plots / tables\")\n",
        "):\n",
        "    runs = api.runs(\n",
        "        path=\"paul_ww/significance_classification\",\n",
        "        filters={\"group\": run_group},\n",
        "        order=\"-summary_metrics.test.macro_avg_f1-score\",\n",
        "    )\n",
        "    best_run = runs[0]\n",
        "    run_artifacts = best_run.logged_artifacts()\n",
        "    test_probas = next(filter(lambda a: \"test_probas\" in a.name, run_artifacts))\n",
        "    test_probas.download()\n",
        "    download_path = Path(test_probas.file())\n",
        "    probs = json.loads(download_path.read_text())\n",
        "\n",
        "    df_probs = pd.DataFrame(\n",
        "        columns=[\n",
        "            \"prob_not_significant\",\n",
        "            \"prob_significant\",\n",
        "        ],  # the column descriptions on the artifacts are reversed :-(\n",
        "        data=probs[\"data\"],\n",
        "    )\n",
        "    df_probs[\"y_pred\"] = (\n",
        "        df_probs[\"prob_significant\"] > df_probs[\"prob_not_significant\"]\n",
        "    ).astype(int)\n",
        "    df_summ = pd.DataFrame(best_run.summary_metrics[\"test\"])\n",
        "\n",
        "    summary_metrics[desc] = df_summ\n",
        "    proba_predictions[desc] = df_probs\n",
        "    # df_summ.style.to_latex(\n",
        "    #     PATH_LATEX_TABLE_OUTPUT / f\"summary_{run_group}.tex\", hrules=True, siunitx=True\n",
        "    # )"
      ]
    },
    {
      "cell_type": "code",
      "execution_count": 8,
      "metadata": {},
      "outputs": [
        {
          "data": {
            "text/html": [
              "<div>\n",
              "<style scoped>\n",
              "    .dataframe tbody tr th:only-of-type {\n",
              "        vertical-align: middle;\n",
              "    }\n",
              "\n",
              "    .dataframe tbody tr th {\n",
              "        vertical-align: top;\n",
              "    }\n",
              "\n",
              "    .dataframe thead th {\n",
              "        text-align: right;\n",
              "    }\n",
              "</style>\n",
              "<table border=\"1\" class=\"dataframe\">\n",
              "  <thead>\n",
              "    <tr style=\"text-align: right;\">\n",
              "      <th></th>\n",
              "      <th></th>\n",
              "      <th>significant effect</th>\n",
              "      <th>no significant effect</th>\n",
              "      <th>accuracy</th>\n",
              "      <th>macro avg</th>\n",
              "      <th>weighted avg</th>\n",
              "    </tr>\n",
              "  </thead>\n",
              "  <tbody>\n",
              "    <tr>\n",
              "      <th rowspan=\"4\" valign=\"top\">Baseline (Tf-Idf+LR)</th>\n",
              "      <th>recall</th>\n",
              "      <td>0.878049</td>\n",
              "      <td>0.390244</td>\n",
              "      <td>0.715447</td>\n",
              "      <td>0.634146</td>\n",
              "      <td>0.715447</td>\n",
              "    </tr>\n",
              "    <tr>\n",
              "      <th>support</th>\n",
              "      <td>82.000000</td>\n",
              "      <td>41.000000</td>\n",
              "      <td>0.715447</td>\n",
              "      <td>123.000000</td>\n",
              "      <td>123.000000</td>\n",
              "    </tr>\n",
              "    <tr>\n",
              "      <th>f1-score</th>\n",
              "      <td>0.804469</td>\n",
              "      <td>0.477612</td>\n",
              "      <td>0.715447</td>\n",
              "      <td>0.641041</td>\n",
              "      <td>0.695517</td>\n",
              "    </tr>\n",
              "    <tr>\n",
              "      <th>precision</th>\n",
              "      <td>0.742268</td>\n",
              "      <td>0.615385</td>\n",
              "      <td>0.715447</td>\n",
              "      <td>0.678826</td>\n",
              "      <td>0.699974</td>\n",
              "    </tr>\n",
              "    <tr>\n",
              "      <th rowspan=\"4\" valign=\"top\">PubMedBERT</th>\n",
              "      <th>recall</th>\n",
              "      <td>0.804878</td>\n",
              "      <td>0.756098</td>\n",
              "      <td>0.788618</td>\n",
              "      <td>0.780488</td>\n",
              "      <td>0.788618</td>\n",
              "    </tr>\n",
              "    <tr>\n",
              "      <th>support</th>\n",
              "      <td>82.000000</td>\n",
              "      <td>41.000000</td>\n",
              "      <td>0.788618</td>\n",
              "      <td>123.000000</td>\n",
              "      <td>123.000000</td>\n",
              "    </tr>\n",
              "    <tr>\n",
              "      <th>f1-score</th>\n",
              "      <td>0.835443</td>\n",
              "      <td>0.704545</td>\n",
              "      <td>0.788618</td>\n",
              "      <td>0.769994</td>\n",
              "      <td>0.791811</td>\n",
              "    </tr>\n",
              "    <tr>\n",
              "      <th>precision</th>\n",
              "      <td>0.868421</td>\n",
              "      <td>0.659574</td>\n",
              "      <td>0.788618</td>\n",
              "      <td>0.763998</td>\n",
              "      <td>0.798806</td>\n",
              "    </tr>\n",
              "    <tr>\n",
              "      <th rowspan=\"4\" valign=\"top\">PubMedBERT-SetFit</th>\n",
              "      <th>f1-score</th>\n",
              "      <td>0.683230</td>\n",
              "      <td>0.400000</td>\n",
              "      <td>0.585366</td>\n",
              "      <td>0.541615</td>\n",
              "      <td>0.588820</td>\n",
              "    </tr>\n",
              "    <tr>\n",
              "      <th>precision</th>\n",
              "      <td>0.696203</td>\n",
              "      <td>0.386364</td>\n",
              "      <td>0.585366</td>\n",
              "      <td>0.541283</td>\n",
              "      <td>0.592923</td>\n",
              "    </tr>\n",
              "    <tr>\n",
              "      <th>recall</th>\n",
              "      <td>0.670732</td>\n",
              "      <td>0.414634</td>\n",
              "      <td>0.585366</td>\n",
              "      <td>0.542683</td>\n",
              "      <td>0.585366</td>\n",
              "    </tr>\n",
              "    <tr>\n",
              "      <th>support</th>\n",
              "      <td>82.000000</td>\n",
              "      <td>41.000000</td>\n",
              "      <td>0.585366</td>\n",
              "      <td>123.000000</td>\n",
              "      <td>123.000000</td>\n",
              "    </tr>\n",
              "    <tr>\n",
              "      <th rowspan=\"4\" valign=\"top\">Zero-Shot (BART)</th>\n",
              "      <th>precision</th>\n",
              "      <td>0.757009</td>\n",
              "      <td>0.937500</td>\n",
              "      <td>0.780488</td>\n",
              "      <td>0.847255</td>\n",
              "      <td>0.817173</td>\n",
              "    </tr>\n",
              "    <tr>\n",
              "      <th>recall</th>\n",
              "      <td>0.987805</td>\n",
              "      <td>0.365854</td>\n",
              "      <td>0.780488</td>\n",
              "      <td>0.676829</td>\n",
              "      <td>0.780488</td>\n",
              "    </tr>\n",
              "    <tr>\n",
              "      <th>support</th>\n",
              "      <td>82.000000</td>\n",
              "      <td>41.000000</td>\n",
              "      <td>0.780488</td>\n",
              "      <td>123.000000</td>\n",
              "      <td>123.000000</td>\n",
              "    </tr>\n",
              "    <tr>\n",
              "      <th>f1-score</th>\n",
              "      <td>0.857143</td>\n",
              "      <td>0.526316</td>\n",
              "      <td>0.780488</td>\n",
              "      <td>0.691729</td>\n",
              "      <td>0.746867</td>\n",
              "    </tr>\n",
              "  </tbody>\n",
              "</table>\n",
              "</div>"
            ],
            "text/plain": [
              "                                significant effect  no significant effect  \\\n",
              "Baseline (Tf-Idf+LR) recall               0.878049               0.390244   \n",
              "                     support             82.000000              41.000000   \n",
              "                     f1-score             0.804469               0.477612   \n",
              "                     precision            0.742268               0.615385   \n",
              "PubMedBERT           recall               0.804878               0.756098   \n",
              "                     support             82.000000              41.000000   \n",
              "                     f1-score             0.835443               0.704545   \n",
              "                     precision            0.868421               0.659574   \n",
              "PubMedBERT-SetFit    f1-score             0.683230               0.400000   \n",
              "                     precision            0.696203               0.386364   \n",
              "                     recall               0.670732               0.414634   \n",
              "                     support             82.000000              41.000000   \n",
              "Zero-Shot (BART)     precision            0.757009               0.937500   \n",
              "                     recall               0.987805               0.365854   \n",
              "                     support             82.000000              41.000000   \n",
              "                     f1-score             0.857143               0.526316   \n",
              "\n",
              "                                accuracy   macro avg  weighted avg  \n",
              "Baseline (Tf-Idf+LR) recall     0.715447    0.634146      0.715447  \n",
              "                     support    0.715447  123.000000    123.000000  \n",
              "                     f1-score   0.715447    0.641041      0.695517  \n",
              "                     precision  0.715447    0.678826      0.699974  \n",
              "PubMedBERT           recall     0.788618    0.780488      0.788618  \n",
              "                     support    0.788618  123.000000    123.000000  \n",
              "                     f1-score   0.788618    0.769994      0.791811  \n",
              "                     precision  0.788618    0.763998      0.798806  \n",
              "PubMedBERT-SetFit    f1-score   0.585366    0.541615      0.588820  \n",
              "                     precision  0.585366    0.541283      0.592923  \n",
              "                     recall     0.585366    0.542683      0.585366  \n",
              "                     support    0.585366  123.000000    123.000000  \n",
              "Zero-Shot (BART)     precision  0.780488    0.847255      0.817173  \n",
              "                     recall     0.780488    0.676829      0.780488  \n",
              "                     support    0.780488  123.000000    123.000000  \n",
              "                     f1-score   0.780488    0.691729      0.746867  "
            ]
          },
          "execution_count": 8,
          "metadata": {},
          "output_type": "execute_result"
        }
      ],
      "source": [
        "pd.concat(summary_metrics)"
      ]
    },
    {
      "cell_type": "code",
      "execution_count": 48,
      "metadata": {},
      "outputs": [
        {
          "data": {
            "text/html": [
              "<style type=\"text/css\">\n",
              "#T_e9d94_row1_col1, #T_e9d94_row3_col0, #T_e9d94_row3_col2 {\n",
              "  font-weight: bold;\n",
              "}\n",
              "#T_e9d94_level0_col0, #T_e9d94_level0_col1, #T_e9d94_level0_col2 {\n",
              "  font-weight: bold;\n",
              "}\n",
              "</style>\n",
              "<table id=\"T_e9d94\">\n",
              "  <thead>\n",
              "    <tr>\n",
              "      <th class=\"blank level0\" >&nbsp;</th>\n",
              "      <th id=\"T_e9d94_level0_col0\" class=\"col_heading level0 col0\" >$F_1$</th>\n",
              "      <th id=\"T_e9d94_level0_col1\" class=\"col_heading level0 col1\" >Precision</th>\n",
              "      <th id=\"T_e9d94_level0_col2\" class=\"col_heading level0 col2\" >Recall</th>\n",
              "    </tr>\n",
              "  </thead>\n",
              "  <tbody>\n",
              "    <tr>\n",
              "      <th id=\"T_e9d94_level0_row0\" class=\"row_heading level0 row0\" >Baseline (Tf-Idf+LR)</th>\n",
              "      <td id=\"T_e9d94_row0_col0\" class=\"data row0 col0\" >0.804469</td>\n",
              "      <td id=\"T_e9d94_row0_col1\" class=\"data row0 col1\" >0.742268</td>\n",
              "      <td id=\"T_e9d94_row0_col2\" class=\"data row0 col2\" >0.878049</td>\n",
              "    </tr>\n",
              "    <tr>\n",
              "      <th id=\"T_e9d94_level0_row1\" class=\"row_heading level0 row1\" >PubMedBERT</th>\n",
              "      <td id=\"T_e9d94_row1_col0\" class=\"data row1 col0\" >0.835443</td>\n",
              "      <td id=\"T_e9d94_row1_col1\" class=\"data row1 col1\" >0.868421</td>\n",
              "      <td id=\"T_e9d94_row1_col2\" class=\"data row1 col2\" >0.804878</td>\n",
              "    </tr>\n",
              "    <tr>\n",
              "      <th id=\"T_e9d94_level0_row2\" class=\"row_heading level0 row2\" >PubMedBERT-SetFit</th>\n",
              "      <td id=\"T_e9d94_row2_col0\" class=\"data row2 col0\" >0.683230</td>\n",
              "      <td id=\"T_e9d94_row2_col1\" class=\"data row2 col1\" >0.696203</td>\n",
              "      <td id=\"T_e9d94_row2_col2\" class=\"data row2 col2\" >0.670732</td>\n",
              "    </tr>\n",
              "    <tr>\n",
              "      <th id=\"T_e9d94_level0_row3\" class=\"row_heading level0 row3\" >Zero-Shot (BART)</th>\n",
              "      <td id=\"T_e9d94_row3_col0\" class=\"data row3 col0\" >0.857143</td>\n",
              "      <td id=\"T_e9d94_row3_col1\" class=\"data row3 col1\" >0.757009</td>\n",
              "      <td id=\"T_e9d94_row3_col2\" class=\"data row3 col2\" >0.987805</td>\n",
              "    </tr>\n",
              "  </tbody>\n",
              "</table>\n"
            ],
            "text/plain": [
              "<pandas.io.formats.style.Styler at 0x2a5ec7c10>"
            ]
          },
          "execution_count": 48,
          "metadata": {},
          "output_type": "execute_result"
        }
      ],
      "source": [
        "df_metrics = (\n",
        "    pd.concat(summary_metrics)\n",
        "    .T.stack()\n",
        "    .loc[\"significant effect\"]\n",
        "    .T.rename(columns=lambda x: x.capitalize())\n",
        "    .rename(columns={\"F1-score\": \"$F_1$\"})[[\"$F_1$\", \"Precision\", \"Recall\"]]\n",
        "    .style.highlight_max(axis=0, props=\"font-weight:bold;\")\n",
        ")\n",
        "df_metrics.applymap_index(lambda v: \"font-weight: bold;\", axis=\"columns\").to_latex(\n",
        "    PATH_LATEX_TABLE_OUTPUT / \"metric_comparison.tex\",\n",
        "    siunitx=True,\n",
        "    hrules=True,\n",
        "    convert_css=True,\n",
        "    column_format=\"lS[table-format=1.2]S[table-format=1.2]S[table-format=1.2]\",\n",
        ")\n",
        "df_metrics"
      ]
    },
    {
      "cell_type": "code",
      "execution_count": 17,
      "metadata": {},
      "outputs": [
        {
          "data": {
            "image/png": "[encoded data removed]",
            "text/plain": [
              "<Figure size 551.181x340.649 with 5 Axes>"
            ]
          },
          "metadata": {},
          "output_type": "display_data"
        }
      ],
      "source": [
        "import numpy as np\n",
        "from matplotlib.colors import Normalize\n",
        "from matplotlib import cm\n",
        "\n",
        "fig, axs = plt.subplots(\n",
        "    nrows=2,\n",
        "    ncols=2,\n",
        "    figsize=set_size(\"thesis\", subplots=(2, 2)),\n",
        "    # sharex=True,\n",
        "    # sharey=True,\n",
        "    constrained_layout=True,\n",
        ")\n",
        "axes = list(axs.flat)\n",
        "\n",
        "# Calculate global min and max values across all matrices\n",
        "cm_max = -np.inf\n",
        "cm_min = np.inf\n",
        "\n",
        "for i, desc in enumerate(RUN_GROUPS.keys()):\n",
        "    matrix = confusion_matrix(\n",
        "        y_true=df_test[\"label\"], y_pred=proba_predictions[desc][\"y_pred\"]\n",
        "    )\n",
        "    cm_max = max(cm_max, np.max(matrix))\n",
        "    cm_min = min(cm_min, np.min(matrix))\n",
        "\n",
        "for i, desc in enumerate(RUN_GROUPS.keys()):\n",
        "    matrix = confusion_matrix(\n",
        "        y_true=df_test[\"label\"], y_pred=proba_predictions[desc][\"y_pred\"]\n",
        "    )\n",
        "    disp = ConfusionMatrixDisplay(\n",
        "        matrix,\n",
        "        display_labels=[0, 1],\n",
        "    )\n",
        "    disp.plot(ax=axes[i], xticks_rotation=0, im_kw={\"vmin\": cm_min, \"vmax\": cm_max})\n",
        "    disp.ax_.set_title(desc)\n",
        "    disp.ax_.set_xlabel(\"Predicted Label\")\n",
        "    disp.ax_.set_ylabel(\"True Label\")\n",
        "    # disp.ax_.use_sticky_edges = False\n",
        "    disp.im_.colorbar.remove()\n",
        "\n",
        "norm = Normalize(vmin=cm_min, vmax=cm_max)\n",
        "fig.colorbar(cm.ScalarMappable(norm=norm), ax=axs)\n",
        "# fig.supxlabel(\"Predicted Label\")\n",
        "# fig.supylabel(\"True Label\")\n",
        "fig.savefig(str(PATH_LATEX_PLOT_OUTPUT / f\"confusion_matrices.pdf\"), dpi=300)"
      ]
    },
    {
      "cell_type": "code",
      "execution_count": 11,
      "metadata": {},
      "outputs": [
        {
          "data": {
            "image/png": "[encoded data removed]",
            "text/plain": [
              "<Figure size 551.181x340.649 with 1 Axes>"
            ]
          },
          "metadata": {},
          "output_type": "display_data"
        }
      ],
      "source": [
        "from sklearn.metrics import roc_curve, RocCurveDisplay\n",
        "import matplotlib.pyplot as plt\n",
        "\n",
        "fig, ax = plt.subplots(figsize=set_size(\"thesis\"), constrained_layout=True)\n",
        "\n",
        "for desc, df_proba in proba_predictions.items():\n",
        "    fpr, tpr, _ = roc_curve(\n",
        "        y_true=df_test[\"label\"],\n",
        "        y_score=df_proba[\"prob_significant\"],\n",
        "        pos_label=1,\n",
        "    )\n",
        "    roc_display = RocCurveDisplay(fpr=fpr, tpr=tpr)\n",
        "    roc_display.plot(ax=ax, name=desc)\n",
        "fig.savefig(str(PATH_LATEX_PLOT_OUTPUT / \"roc_curves.pdf\"))"
      ]
    },
    {
      "cell_type": "code",
      "execution_count": 12,
      "metadata": {},
      "outputs": [
        {
          "data": {
            "image/png": "[encoded data removed]",
            "text/plain": [
              "<Figure size 551.181x340.649 with 1 Axes>"
            ]
          },
          "metadata": {},
          "output_type": "display_data"
        }
      ],
      "source": [
        "from sklearn.metrics import precision_recall_curve, PrecisionRecallDisplay\n",
        "\n",
        "fig, ax = plt.subplots(figsize=set_size(\"thesis\"), constrained_layout=True)\n",
        "\n",
        "for desc, df_proba in proba_predictions.items():\n",
        "    precision, recall, _ = precision_recall_curve(\n",
        "        y_true=df_test[\"label\"],\n",
        "        probas_pred=df_proba[\"prob_significant\"],\n",
        "        pos_label=1,\n",
        "    )\n",
        "    pr_display = PrecisionRecallDisplay(precision=precision, recall=recall)\n",
        "    pr_display.plot(ax=ax, name=desc)\n",
        "ax.legend(loc=\"lower right\", bbox_to_anchor=(1.0, 0.0))\n",
        "fig.savefig(str(PATH_LATEX_PLOT_OUTPUT / \"pr_curves.pdf\"))"
      ]
    }
  ],
  "metadata": {
    "kernelspec": {
      "display_name": ".venv",
      "language": "python",
      "name": "python3"
    },
    "language_info": {
      "codemirror_mode": {
        "name": "ipython",
        "version": 3
      },
      "file_extension": ".py",
      "mimetype": "text/x-python",
      "name": "python",
      "nbconvert_exporter": "python",
      "pygments_lexer": "ipython3",
      "version": "3.10.13"
    }
  },
  "nbformat": 4,
  "nbformat_minor": 2
}
