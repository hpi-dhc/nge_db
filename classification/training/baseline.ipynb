{
 "cells": [
  {
   "attachments": {},
   "cell_type": "markdown",
   "metadata": {},
   "source": [
    "# Baseline Classifier"
   ]
  },
  {
   "cell_type": "code",
   "execution_count": 1,
   "metadata": {},
   "outputs": [],
   "source": [
    "import numpy as np\n",
    "\n",
    "np.random.seed(42)"
   ]
  },
  {
   "attachments": {},
   "cell_type": "markdown",
   "metadata": {},
   "source": [
    "### Loading the dataset"
   ]
  },
  {
   "cell_type": "code",
   "execution_count": 2,
   "metadata": {},
   "outputs": [],
   "source": [
    "from datasets import load_dataset"
   ]
  },
  {
   "cell_type": "code",
   "execution_count": 3,
   "metadata": {},
   "outputs": [
    {
     "name": "stderr",
     "output_type": "stream",
     "text": [
      "Found cached dataset parquet (/Users/paul/.cache/huggingface/datasets/paul-ww___parquet/paul-ww--ei-abstract-significance-1c087dddb8b05c98/0.0.0/14a00e99c0d15a23649d0db8944380ac81082d4b021f398733dd84f3a6c569a7)\n"
     ]
    },
    {
     "data": {
      "application/vnd.jupyter.widget-view+json": {
       "model_id": "63900f1c7fc64020870c0b8cfbf99625",
       "version_major": 2,
       "version_minor": 0
      },
      "text/plain": [
       "  0%|          | 0/3 [00:00<?, ?it/s]"
      ]
     },
     "metadata": {},
     "output_type": "display_data"
    }
   ],
   "source": [
    "ds = load_dataset(\"paul-ww/ei-abstract-significance\")"
   ]
  },
  {
   "cell_type": "code",
   "execution_count": 4,
   "metadata": {},
   "outputs": [],
   "source": [
    "class_labels = ds[\"train\"].features[\"label\"]\n",
    "label2id = {name: class_labels.str2int(name) for name in class_labels.names}\n",
    "id2label = {v: k for k, v in label2id.items()}"
   ]
  },
  {
   "attachments": {},
   "cell_type": "markdown",
   "metadata": {},
   "source": [
    "### Tracking using Weights&Biases"
   ]
  },
  {
   "cell_type": "code",
   "execution_count": 5,
   "metadata": {},
   "outputs": [
    {
     "name": "stdout",
     "output_type": "stream",
     "text": [
      "env: WANDB_LOG_MODEL='end'\n",
      "env: WANDB_WATCH='all'\n"
     ]
    }
   ],
   "source": [
    "%env WANDB_LOG_MODEL='end'\n",
    "%env WANDB_WATCH='all'"
   ]
  },
  {
   "cell_type": "code",
   "execution_count": 6,
   "metadata": {},
   "outputs": [
    {
     "name": "stderr",
     "output_type": "stream",
     "text": [
      "Failed to detect the name of this notebook, you can set it manually with the WANDB_NOTEBOOK_NAME environment variable to enable code saving.\n",
      "\u001b[34m\u001b[1mwandb\u001b[0m: Currently logged in as: \u001b[33mpaul_ww\u001b[0m. Use \u001b[1m`wandb login --relogin`\u001b[0m to force relogin\n"
     ]
    },
    {
     "data": {
      "text/html": [
       "Tracking run with wandb version 0.15.4"
      ],
      "text/plain": [
       "<IPython.core.display.HTML object>"
      ]
     },
     "metadata": {},
     "output_type": "display_data"
    },
    {
     "data": {
      "text/html": [
       "Run data is saved locally in <code>/Users/paul/Documents/HPI/nge-browser-data-integration/classification/training/wandb/run-20230621_112410-57b9sxjo</code>"
      ],
      "text/plain": [
       "<IPython.core.display.HTML object>"
      ]
     },
     "metadata": {},
     "output_type": "display_data"
    },
    {
     "data": {
      "text/html": [
       "Syncing run <strong><a href='https://wandb.ai/paul_ww/significance_classification/runs/57b9sxjo' target=\"_blank\">gallant-rain-24</a></strong> to <a href='https://wandb.ai/paul_ww/significance_classification' target=\"_blank\">Weights & Biases</a> (<a href='https://wandb.me/run' target=\"_blank\">docs</a>)<br/>"
      ],
      "text/plain": [
       "<IPython.core.display.HTML object>"
      ]
     },
     "metadata": {},
     "output_type": "display_data"
    },
    {
     "data": {
      "text/html": [
       " View project at <a href='https://wandb.ai/paul_ww/significance_classification' target=\"_blank\">https://wandb.ai/paul_ww/significance_classification</a>"
      ],
      "text/plain": [
       "<IPython.core.display.HTML object>"
      ]
     },
     "metadata": {},
     "output_type": "display_data"
    },
    {
     "data": {
      "text/html": [
       " View run at <a href='https://wandb.ai/paul_ww/significance_classification/runs/57b9sxjo' target=\"_blank\">https://wandb.ai/paul_ww/significance_classification/runs/57b9sxjo</a>"
      ],
      "text/plain": [
       "<IPython.core.display.HTML object>"
      ]
     },
     "metadata": {},
     "output_type": "display_data"
    }
   ],
   "source": [
    "import wandb\n",
    "\n",
    "wandb.login()\n",
    "run = wandb.init(project=\"significance_classification\", group=\"baseline\")"
   ]
  },
  {
   "attachments": {},
   "cell_type": "markdown",
   "metadata": {},
   "source": [
    "### Model Setup"
   ]
  },
  {
   "cell_type": "code",
   "execution_count": 7,
   "metadata": {},
   "outputs": [],
   "source": [
    "from sklearn.feature_extraction.text import TfidfVectorizer\n",
    "from sklearn.linear_model import LogisticRegression\n",
    "from sklearn.pipeline import Pipeline\n",
    "\n",
    "pipe = Pipeline(\n",
    "    [\n",
    "        (\"vec\", TfidfVectorizer()),\n",
    "        (\"clf\", LogisticRegression(max_iter=5000)),\n",
    "    ]\n",
    ")"
   ]
  },
  {
   "cell_type": "code",
   "execution_count": 8,
   "metadata": {},
   "outputs": [],
   "source": [
    "from sklearn.model_selection import GridSearchCV\n",
    "\n",
    "grid = GridSearchCV(\n",
    "    estimator=pipe,\n",
    "    param_grid={\n",
    "        \"vec__min_df\": [1, 3, 5],\n",
    "        \"vec__stop_words\": [\"english\", None],\n",
    "        \"vec__ngram_range\": [(1, 3)],\n",
    "        \"clf__C\": [0.01, 0.1, 1, 10],\n",
    "    },\n",
    "    scoring=\"f1_macro\",\n",
    "    refit=True,\n",
    "    verbose=1,\n",
    ")"
   ]
  },
  {
   "cell_type": "code",
   "execution_count": 9,
   "metadata": {},
   "outputs": [],
   "source": [
    "import pandas as pd\n",
    "\n",
    "df_train = ds[\"train\"].to_pandas()\n",
    "df_train[\"label\"] = df_train[\"label\"].apply(ds[\"train\"].features[\"label\"].int2str)\n",
    "\n",
    "df_test = ds[\"test\"].to_pandas()\n",
    "df_test[\"label\"] = df_test[\"label\"].apply(ds[\"test\"].features[\"label\"].int2str)"
   ]
  },
  {
   "cell_type": "code",
   "execution_count": 10,
   "metadata": {},
   "outputs": [
    {
     "name": "stdout",
     "output_type": "stream",
     "text": [
      "Fitting 5 folds for each of 24 candidates, totalling 120 fits\n"
     ]
    }
   ],
   "source": [
    "import joblib\n",
    "\n",
    "with joblib.parallel_backend(\"threading\", n_jobs=-1):\n",
    "    grid.fit(X=df_train[\"text\"], y=df_train[\"label\"])"
   ]
  },
  {
   "cell_type": "code",
   "execution_count": 11,
   "metadata": {},
   "outputs": [
    {
     "data": {
      "text/html": [
       "<div>\n",
       "<style scoped>\n",
       "    .dataframe tbody tr th:only-of-type {\n",
       "        vertical-align: middle;\n",
       "    }\n",
       "\n",
       "    .dataframe tbody tr th {\n",
       "        vertical-align: top;\n",
       "    }\n",
       "\n",
       "    .dataframe thead th {\n",
       "        text-align: right;\n",
       "    }\n",
       "</style>\n",
       "<table border=\"1\" class=\"dataframe\">\n",
       "  <thead>\n",
       "    <tr style=\"text-align: right;\">\n",
       "      <th></th>\n",
       "      <th>mean_fit_time</th>\n",
       "      <th>std_fit_time</th>\n",
       "      <th>mean_score_time</th>\n",
       "      <th>std_score_time</th>\n",
       "      <th>param_clf__C</th>\n",
       "      <th>param_vec__min_df</th>\n",
       "      <th>param_vec__ngram_range</th>\n",
       "      <th>param_vec__stop_words</th>\n",
       "      <th>params</th>\n",
       "      <th>split0_test_score</th>\n",
       "      <th>split1_test_score</th>\n",
       "      <th>split2_test_score</th>\n",
       "      <th>split3_test_score</th>\n",
       "      <th>split4_test_score</th>\n",
       "      <th>mean_test_score</th>\n",
       "      <th>std_test_score</th>\n",
       "      <th>rank_test_score</th>\n",
       "    </tr>\n",
       "  </thead>\n",
       "  <tbody>\n",
       "    <tr>\n",
       "      <th>23</th>\n",
       "      <td>2.121181</td>\n",
       "      <td>0.563551</td>\n",
       "      <td>0.082739</td>\n",
       "      <td>0.015859</td>\n",
       "      <td>10</td>\n",
       "      <td>5</td>\n",
       "      <td>(1, 3)</td>\n",
       "      <td>None</td>\n",
       "      <td>{'clf__C': 10, 'vec__min_df': 5, 'vec__ngram_r...</td>\n",
       "      <td>0.632143</td>\n",
       "      <td>0.682658</td>\n",
       "      <td>0.623744</td>\n",
       "      <td>0.654688</td>\n",
       "      <td>0.602947</td>\n",
       "      <td>0.639236</td>\n",
       "      <td>0.027318</td>\n",
       "      <td>1</td>\n",
       "    </tr>\n",
       "    <tr>\n",
       "      <th>21</th>\n",
       "      <td>5.082139</td>\n",
       "      <td>0.704263</td>\n",
       "      <td>0.185801</td>\n",
       "      <td>0.066605</td>\n",
       "      <td>10</td>\n",
       "      <td>3</td>\n",
       "      <td>(1, 3)</td>\n",
       "      <td>None</td>\n",
       "      <td>{'clf__C': 10, 'vec__min_df': 3, 'vec__ngram_r...</td>\n",
       "      <td>0.628049</td>\n",
       "      <td>0.672697</td>\n",
       "      <td>0.620026</td>\n",
       "      <td>0.632764</td>\n",
       "      <td>0.614456</td>\n",
       "      <td>0.633598</td>\n",
       "      <td>0.020547</td>\n",
       "      <td>2</td>\n",
       "    </tr>\n",
       "    <tr>\n",
       "      <th>22</th>\n",
       "      <td>3.523663</td>\n",
       "      <td>0.343828</td>\n",
       "      <td>0.104311</td>\n",
       "      <td>0.046033</td>\n",
       "      <td>10</td>\n",
       "      <td>5</td>\n",
       "      <td>(1, 3)</td>\n",
       "      <td>english</td>\n",
       "      <td>{'clf__C': 10, 'vec__min_df': 5, 'vec__ngram_r...</td>\n",
       "      <td>0.613865</td>\n",
       "      <td>0.584179</td>\n",
       "      <td>0.611725</td>\n",
       "      <td>0.607946</td>\n",
       "      <td>0.556912</td>\n",
       "      <td>0.594926</td>\n",
       "      <td>0.021776</td>\n",
       "      <td>3</td>\n",
       "    </tr>\n",
       "    <tr>\n",
       "      <th>20</th>\n",
       "      <td>5.614729</td>\n",
       "      <td>0.702846</td>\n",
       "      <td>0.177253</td>\n",
       "      <td>0.099533</td>\n",
       "      <td>10</td>\n",
       "      <td>3</td>\n",
       "      <td>(1, 3)</td>\n",
       "      <td>english</td>\n",
       "      <td>{'clf__C': 10, 'vec__min_df': 3, 'vec__ngram_r...</td>\n",
       "      <td>0.572941</td>\n",
       "      <td>0.610650</td>\n",
       "      <td>0.584342</td>\n",
       "      <td>0.631295</td>\n",
       "      <td>0.560325</td>\n",
       "      <td>0.591911</td>\n",
       "      <td>0.025757</td>\n",
       "      <td>4</td>\n",
       "    </tr>\n",
       "    <tr>\n",
       "      <th>19</th>\n",
       "      <td>13.393346</td>\n",
       "      <td>1.456073</td>\n",
       "      <td>0.273921</td>\n",
       "      <td>0.109515</td>\n",
       "      <td>10</td>\n",
       "      <td>1</td>\n",
       "      <td>(1, 3)</td>\n",
       "      <td>None</td>\n",
       "      <td>{'clf__C': 10, 'vec__min_df': 1, 'vec__ngram_r...</td>\n",
       "      <td>0.580836</td>\n",
       "      <td>0.540453</td>\n",
       "      <td>0.571559</td>\n",
       "      <td>0.541956</td>\n",
       "      <td>0.545511</td>\n",
       "      <td>0.556063</td>\n",
       "      <td>0.016780</td>\n",
       "      <td>5</td>\n",
       "    </tr>\n",
       "    <tr>\n",
       "      <th>17</th>\n",
       "      <td>6.810039</td>\n",
       "      <td>1.236699</td>\n",
       "      <td>0.426183</td>\n",
       "      <td>0.229583</td>\n",
       "      <td>1</td>\n",
       "      <td>5</td>\n",
       "      <td>(1, 3)</td>\n",
       "      <td>None</td>\n",
       "      <td>{'clf__C': 1, 'vec__min_df': 5, 'vec__ngram_ra...</td>\n",
       "      <td>0.476885</td>\n",
       "      <td>0.520882</td>\n",
       "      <td>0.511866</td>\n",
       "      <td>0.479108</td>\n",
       "      <td>0.473122</td>\n",
       "      <td>0.492372</td>\n",
       "      <td>0.019896</td>\n",
       "      <td>6</td>\n",
       "    </tr>\n",
       "    <tr>\n",
       "      <th>18</th>\n",
       "      <td>15.529131</td>\n",
       "      <td>1.237353</td>\n",
       "      <td>0.335264</td>\n",
       "      <td>0.070735</td>\n",
       "      <td>10</td>\n",
       "      <td>1</td>\n",
       "      <td>(1, 3)</td>\n",
       "      <td>english</td>\n",
       "      <td>{'clf__C': 10, 'vec__min_df': 1, 'vec__ngram_r...</td>\n",
       "      <td>0.472652</td>\n",
       "      <td>0.459765</td>\n",
       "      <td>0.520882</td>\n",
       "      <td>0.513950</td>\n",
       "      <td>0.469546</td>\n",
       "      <td>0.487359</td>\n",
       "      <td>0.025003</td>\n",
       "      <td>7</td>\n",
       "    </tr>\n",
       "    <tr>\n",
       "      <th>15</th>\n",
       "      <td>4.746362</td>\n",
       "      <td>1.028105</td>\n",
       "      <td>0.462631</td>\n",
       "      <td>0.139592</td>\n",
       "      <td>1</td>\n",
       "      <td>3</td>\n",
       "      <td>(1, 3)</td>\n",
       "      <td>None</td>\n",
       "      <td>{'clf__C': 1, 'vec__min_df': 3, 'vec__ngram_ra...</td>\n",
       "      <td>0.465348</td>\n",
       "      <td>0.473790</td>\n",
       "      <td>0.464386</td>\n",
       "      <td>0.463726</td>\n",
       "      <td>0.466463</td>\n",
       "      <td>0.466743</td>\n",
       "      <td>0.003643</td>\n",
       "      <td>8</td>\n",
       "    </tr>\n",
       "    <tr>\n",
       "      <th>16</th>\n",
       "      <td>3.571849</td>\n",
       "      <td>1.255202</td>\n",
       "      <td>0.468867</td>\n",
       "      <td>0.269643</td>\n",
       "      <td>1</td>\n",
       "      <td>5</td>\n",
       "      <td>(1, 3)</td>\n",
       "      <td>english</td>\n",
       "      <td>{'clf__C': 1, 'vec__min_df': 5, 'vec__ngram_ra...</td>\n",
       "      <td>0.442881</td>\n",
       "      <td>0.456271</td>\n",
       "      <td>0.465348</td>\n",
       "      <td>0.470357</td>\n",
       "      <td>0.452866</td>\n",
       "      <td>0.457545</td>\n",
       "      <td>0.009629</td>\n",
       "      <td>9</td>\n",
       "    </tr>\n",
       "    <tr>\n",
       "      <th>14</th>\n",
       "      <td>4.488644</td>\n",
       "      <td>1.100817</td>\n",
       "      <td>0.261957</td>\n",
       "      <td>0.130177</td>\n",
       "      <td>1</td>\n",
       "      <td>3</td>\n",
       "      <td>(1, 3)</td>\n",
       "      <td>english</td>\n",
       "      <td>{'clf__C': 1, 'vec__min_df': 3, 'vec__ngram_ra...</td>\n",
       "      <td>0.444145</td>\n",
       "      <td>0.408377</td>\n",
       "      <td>0.446719</td>\n",
       "      <td>0.428597</td>\n",
       "      <td>0.435976</td>\n",
       "      <td>0.432763</td>\n",
       "      <td>0.013760</td>\n",
       "      <td>10</td>\n",
       "    </tr>\n",
       "  </tbody>\n",
       "</table>\n",
       "</div>"
      ],
      "text/plain": [
       "    mean_fit_time  std_fit_time  mean_score_time  std_score_time param_clf__C  \\\n",
       "23       2.121181      0.563551         0.082739        0.015859           10   \n",
       "21       5.082139      0.704263         0.185801        0.066605           10   \n",
       "22       3.523663      0.343828         0.104311        0.046033           10   \n",
       "20       5.614729      0.702846         0.177253        0.099533           10   \n",
       "19      13.393346      1.456073         0.273921        0.109515           10   \n",
       "17       6.810039      1.236699         0.426183        0.229583            1   \n",
       "18      15.529131      1.237353         0.335264        0.070735           10   \n",
       "15       4.746362      1.028105         0.462631        0.139592            1   \n",
       "16       3.571849      1.255202         0.468867        0.269643            1   \n",
       "14       4.488644      1.100817         0.261957        0.130177            1   \n",
       "\n",
       "   param_vec__min_df param_vec__ngram_range param_vec__stop_words  \\\n",
       "23                 5                 (1, 3)                  None   \n",
       "21                 3                 (1, 3)                  None   \n",
       "22                 5                 (1, 3)               english   \n",
       "20                 3                 (1, 3)               english   \n",
       "19                 1                 (1, 3)                  None   \n",
       "17                 5                 (1, 3)                  None   \n",
       "18                 1                 (1, 3)               english   \n",
       "15                 3                 (1, 3)                  None   \n",
       "16                 5                 (1, 3)               english   \n",
       "14                 3                 (1, 3)               english   \n",
       "\n",
       "                                               params  split0_test_score  \\\n",
       "23  {'clf__C': 10, 'vec__min_df': 5, 'vec__ngram_r...           0.632143   \n",
       "21  {'clf__C': 10, 'vec__min_df': 3, 'vec__ngram_r...           0.628049   \n",
       "22  {'clf__C': 10, 'vec__min_df': 5, 'vec__ngram_r...           0.613865   \n",
       "20  {'clf__C': 10, 'vec__min_df': 3, 'vec__ngram_r...           0.572941   \n",
       "19  {'clf__C': 10, 'vec__min_df': 1, 'vec__ngram_r...           0.580836   \n",
       "17  {'clf__C': 1, 'vec__min_df': 5, 'vec__ngram_ra...           0.476885   \n",
       "18  {'clf__C': 10, 'vec__min_df': 1, 'vec__ngram_r...           0.472652   \n",
       "15  {'clf__C': 1, 'vec__min_df': 3, 'vec__ngram_ra...           0.465348   \n",
       "16  {'clf__C': 1, 'vec__min_df': 5, 'vec__ngram_ra...           0.442881   \n",
       "14  {'clf__C': 1, 'vec__min_df': 3, 'vec__ngram_ra...           0.444145   \n",
       "\n",
       "    split1_test_score  split2_test_score  split3_test_score  \\\n",
       "23           0.682658           0.623744           0.654688   \n",
       "21           0.672697           0.620026           0.632764   \n",
       "22           0.584179           0.611725           0.607946   \n",
       "20           0.610650           0.584342           0.631295   \n",
       "19           0.540453           0.571559           0.541956   \n",
       "17           0.520882           0.511866           0.479108   \n",
       "18           0.459765           0.520882           0.513950   \n",
       "15           0.473790           0.464386           0.463726   \n",
       "16           0.456271           0.465348           0.470357   \n",
       "14           0.408377           0.446719           0.428597   \n",
       "\n",
       "    split4_test_score  mean_test_score  std_test_score  rank_test_score  \n",
       "23           0.602947         0.639236        0.027318                1  \n",
       "21           0.614456         0.633598        0.020547                2  \n",
       "22           0.556912         0.594926        0.021776                3  \n",
       "20           0.560325         0.591911        0.025757                4  \n",
       "19           0.545511         0.556063        0.016780                5  \n",
       "17           0.473122         0.492372        0.019896                6  \n",
       "18           0.469546         0.487359        0.025003                7  \n",
       "15           0.466463         0.466743        0.003643                8  \n",
       "16           0.452866         0.457545        0.009629                9  \n",
       "14           0.435976         0.432763        0.013760               10  "
      ]
     },
     "execution_count": 11,
     "metadata": {},
     "output_type": "execute_result"
    }
   ],
   "source": [
    "cv_results = pd.DataFrame(grid.cv_results_)\n",
    "cv_results.sort_values(\"rank_test_score\", ascending=True).head(10)"
   ]
  },
  {
   "cell_type": "code",
   "execution_count": 12,
   "metadata": {},
   "outputs": [],
   "source": [
    "best_pipe = grid.best_estimator_"
   ]
  },
  {
   "cell_type": "code",
   "execution_count": 13,
   "metadata": {},
   "outputs": [
    {
     "data": {
      "text/plain": [
       "['/Users/paul/Documents/HPI/nge-browser-data-integration/classification/training/wandb/run-20230621_112410-57b9sxjo/files/model_finetuned/baseline.joblib']"
      ]
     },
     "execution_count": 13,
     "metadata": {},
     "output_type": "execute_result"
    }
   ],
   "source": [
    "from pathlib import Path\n",
    "\n",
    "output_path = Path(run.dir) / \"model_finetuned\"\n",
    "output_path.mkdir(parents=True, exist_ok=True)\n",
    "joblib.dump(best_pipe, Path(output_path) / \"baseline.joblib\")"
   ]
  },
  {
   "attachments": {},
   "cell_type": "markdown",
   "metadata": {},
   "source": [
    "#### Evaluation"
   ]
  },
  {
   "cell_type": "code",
   "execution_count": 14,
   "metadata": {},
   "outputs": [],
   "source": [
    "y_pred_proba = best_pipe.predict_proba(df_test[\"text\"])"
   ]
  },
  {
   "cell_type": "code",
   "execution_count": 15,
   "metadata": {},
   "outputs": [],
   "source": [
    "from classification.utils import log_metrics_to_wandb\n",
    "\n",
    "log_metrics_to_wandb(\n",
    "    y_pred_proba=y_pred_proba,\n",
    "    y_true_num=ds[\"test\"][\"label\"],\n",
    "    id2label=id2label,\n",
    "    labels=class_labels.names,\n",
    "    run=run,\n",
    ")"
   ]
  }
 ],
 "metadata": {
  "kernelspec": {
   "display_name": ".venv",
   "language": "python",
   "name": "python3"
  },
  "language_info": {
   "codemirror_mode": {
    "name": "ipython",
    "version": 3
   },
   "file_extension": ".py",
   "mimetype": "text/x-python",
   "name": "python",
   "nbconvert_exporter": "python",
   "pygments_lexer": "ipython3",
   "version": "3.10.12"
  },
  "orig_nbformat": 4
 },
 "nbformat": 4,
 "nbformat_minor": 2
}
