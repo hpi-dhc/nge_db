{
 "cells": [
  {
   "cell_type": "markdown",
   "metadata": {},
   "source": [
    "# Finding Significance Classification"
   ]
  },
  {
   "cell_type": "markdown",
   "metadata": {},
   "source": [
    "## Database Content Preparation"
   ]
  },
  {
   "cell_type": "markdown",
   "metadata": {},
   "source": [
    "In order to classify the contents of the database, I first query for content IDs and abstracts. I store these results in a parquet file, so that I can run the actual inference on the HPI cluster."
   ]
  },
  {
   "cell_type": "code",
   "execution_count": 1,
   "metadata": {
    "tags": []
   },
   "outputs": [],
   "source": [
    "base_path = '../..'"
   ]
  },
  {
   "cell_type": "code",
   "execution_count": 2,
   "metadata": {
    "tags": []
   },
   "outputs": [],
   "source": [
    "import sys\n",
    "sys.path.insert(0, base_path)"
   ]
  },
  {
   "cell_type": "code",
   "execution_count": 3,
   "metadata": {
    "tags": []
   },
   "outputs": [],
   "source": [
    "from pathlib import Path"
   ]
  },
  {
   "cell_type": "code",
   "execution_count": 4,
   "metadata": {
    "tags": []
   },
   "outputs": [],
   "source": [
    "from sqlalchemy import select\n",
    "from integration.orm import aact, civic, pubmed, trialstreamer\n",
    "import pandas as pd"
   ]
  },
  {
   "cell_type": "code",
   "execution_count": 5,
   "metadata": {
    "tags": []
   },
   "outputs": [],
   "source": [
    "import os\n",
    "os.chdir(base_path)"
   ]
  },
  {
   "cell_type": "code",
   "execution_count": 6,
   "metadata": {
    "tags": []
   },
   "outputs": [],
   "source": [
    "PATH_INFERENCE_DATASET = Path(\"output/ids_to_abstracts_for_inference.parquet\")"
   ]
  },
  {
   "cell_type": "code",
   "execution_count": 7,
   "metadata": {
    "tags": []
   },
   "outputs": [],
   "source": [
    "from api.app import app\n",
    "from fastapi.testclient import TestClient\n",
    "import os\n",
    "\n",
    "with TestClient(app) as client:\n",
    "    # Initialize state\n",
    "    pass    \n",
    "\n",
    "session = app.state.session()"
   ]
  },
  {
   "cell_type": "markdown",
   "metadata": {},
   "source": [
    "### Pubmed"
   ]
  },
  {
   "cell_type": "code",
   "execution_count": 8,
   "metadata": {
    "tags": []
   },
   "outputs": [],
   "source": [
    "query = (\n",
    "    select(pubmed.Trial.pm_id, pubmed.Trial.abstract)\n",
    "    .where(pubmed.Trial.abstract.isnot(None))\n",
    "    .where(pubmed.Trial.abstract != \"\")\n",
    ")\n",
    "results = session.execute(query).all()"
   ]
  },
  {
   "cell_type": "code",
   "execution_count": 9,
   "metadata": {
    "tags": []
   },
   "outputs": [
    {
     "data": {
      "text/html": [
       "<div>\n",
       "<style scoped>\n",
       "    .dataframe tbody tr th:only-of-type {\n",
       "        vertical-align: middle;\n",
       "    }\n",
       "\n",
       "    .dataframe tbody tr th {\n",
       "        vertical-align: top;\n",
       "    }\n",
       "\n",
       "    .dataframe thead th {\n",
       "        text-align: right;\n",
       "    }\n",
       "</style>\n",
       "<table border=\"1\" class=\"dataframe\">\n",
       "  <thead>\n",
       "    <tr style=\"text-align: right;\">\n",
       "      <th></th>\n",
       "      <th>pm_id</th>\n",
       "      <th>abstract</th>\n",
       "      <th>source</th>\n",
       "    </tr>\n",
       "  </thead>\n",
       "  <tbody>\n",
       "    <tr>\n",
       "      <th>0</th>\n",
       "      <td>12411355</td>\n",
       "      <td>OBJECTIVE\\n\\n\\nTo measure the effect of giving...</td>\n",
       "      <td>pubmed</td>\n",
       "    </tr>\n",
       "    <tr>\n",
       "      <th>1</th>\n",
       "      <td>12411356</td>\n",
       "      <td>OBJECTIVES\\n\\n\\nTo identify which type of smok...</td>\n",
       "      <td>pubmed</td>\n",
       "    </tr>\n",
       "    <tr>\n",
       "      <th>2</th>\n",
       "      <td>12411354</td>\n",
       "      <td>OBJECTIVE\\n\\n\\nTo compare the effects and side...</td>\n",
       "      <td>pubmed</td>\n",
       "    </tr>\n",
       "    <tr>\n",
       "      <th>3</th>\n",
       "      <td>12411290</td>\n",
       "      <td>Antithymocyte globulin (ATG) has recently been...</td>\n",
       "      <td>pubmed</td>\n",
       "    </tr>\n",
       "    <tr>\n",
       "      <th>4</th>\n",
       "      <td>12411282</td>\n",
       "      <td>Mucociliary clearance is determined by ciliary...</td>\n",
       "      <td>pubmed</td>\n",
       "    </tr>\n",
       "    <tr>\n",
       "      <th>...</th>\n",
       "      <td>...</td>\n",
       "      <td>...</td>\n",
       "      <td>...</td>\n",
       "    </tr>\n",
       "    <tr>\n",
       "      <th>774052</th>\n",
       "      <td>39145668</td>\n",
       "      <td>BACKGROUND AND AIMS\\n\\n\\nSphingosine 1-phospha...</td>\n",
       "      <td>pubmed</td>\n",
       "    </tr>\n",
       "    <tr>\n",
       "      <th>774053</th>\n",
       "      <td>39145606</td>\n",
       "      <td>BACKGROUND AND PURPOSE\\n\\n\\nIt is still debata...</td>\n",
       "      <td>pubmed</td>\n",
       "    </tr>\n",
       "    <tr>\n",
       "      <th>774054</th>\n",
       "      <td>39145520</td>\n",
       "      <td>BACKGROUND\\n\\n\\nIron and folic acid supplement...</td>\n",
       "      <td>pubmed</td>\n",
       "    </tr>\n",
       "    <tr>\n",
       "      <th>774055</th>\n",
       "      <td>39145517</td>\n",
       "      <td>BACKGROUND\\n\\n\\nStroke patients often face dis...</td>\n",
       "      <td>pubmed</td>\n",
       "    </tr>\n",
       "    <tr>\n",
       "      <th>774056</th>\n",
       "      <td>39145401</td>\n",
       "      <td>BACKGROUND\\n\\n\\nSodium-glucose cotransporter 2...</td>\n",
       "      <td>pubmed</td>\n",
       "    </tr>\n",
       "  </tbody>\n",
       "</table>\n",
       "<p>774057 rows × 3 columns</p>\n",
       "</div>"
      ],
      "text/plain": [
       "           pm_id                                           abstract  source\n",
       "0       12411355  OBJECTIVE\\n\\n\\nTo measure the effect of giving...  pubmed\n",
       "1       12411356  OBJECTIVES\\n\\n\\nTo identify which type of smok...  pubmed\n",
       "2       12411354  OBJECTIVE\\n\\n\\nTo compare the effects and side...  pubmed\n",
       "3       12411290  Antithymocyte globulin (ATG) has recently been...  pubmed\n",
       "4       12411282  Mucociliary clearance is determined by ciliary...  pubmed\n",
       "...          ...                                                ...     ...\n",
       "774052  39145668  BACKGROUND AND AIMS\\n\\n\\nSphingosine 1-phospha...  pubmed\n",
       "774053  39145606  BACKGROUND AND PURPOSE\\n\\n\\nIt is still debata...  pubmed\n",
       "774054  39145520  BACKGROUND\\n\\n\\nIron and folic acid supplement...  pubmed\n",
       "774055  39145517  BACKGROUND\\n\\n\\nStroke patients often face dis...  pubmed\n",
       "774056  39145401  BACKGROUND\\n\\n\\nSodium-glucose cotransporter 2...  pubmed\n",
       "\n",
       "[774057 rows x 3 columns]"
      ]
     },
     "execution_count": 9,
     "metadata": {},
     "output_type": "execute_result"
    }
   ],
   "source": [
    "df_pm = pd.DataFrame(results)\n",
    "df_pm[\"source\"] = \"pubmed\"\n",
    "df_pm"
   ]
  },
  {
   "cell_type": "markdown",
   "metadata": {},
   "source": [
    "### Civic"
   ]
  },
  {
   "cell_type": "code",
   "execution_count": 10,
   "metadata": {
    "tags": []
   },
   "outputs": [],
   "source": [
    "query = (\n",
    "    select(civic.Source.pm_id, civic.Source.abstract)\n",
    "    .where(civic.Source.pm_id.isnot(None))\n",
    "    .where(civic.Source.abstract.isnot(None))\n",
    "    .where(civic.Source.abstract != \"\")\n",
    ")\n",
    "results = session.execute(query).all()"
   ]
  },
  {
   "cell_type": "code",
   "execution_count": 11,
   "metadata": {
    "tags": []
   },
   "outputs": [
    {
     "data": {
      "text/html": [
       "<div>\n",
       "<style scoped>\n",
       "    .dataframe tbody tr th:only-of-type {\n",
       "        vertical-align: middle;\n",
       "    }\n",
       "\n",
       "    .dataframe tbody tr th {\n",
       "        vertical-align: top;\n",
       "    }\n",
       "\n",
       "    .dataframe thead th {\n",
       "        text-align: right;\n",
       "    }\n",
       "</style>\n",
       "<table border=\"1\" class=\"dataframe\">\n",
       "  <thead>\n",
       "    <tr style=\"text-align: right;\">\n",
       "      <th></th>\n",
       "      <th>pm_id</th>\n",
       "      <th>abstract</th>\n",
       "      <th>source</th>\n",
       "    </tr>\n",
       "  </thead>\n",
       "  <tbody>\n",
       "    <tr>\n",
       "      <th>0</th>\n",
       "      <td>24569458</td>\n",
       "      <td>Targeted cancer therapies often induce \"outlie...</td>\n",
       "      <td>civic</td>\n",
       "    </tr>\n",
       "    <tr>\n",
       "      <th>1</th>\n",
       "      <td>23111194</td>\n",
       "      <td>Non-small cell lung cancer (NSCLC) occurs most...</td>\n",
       "      <td>civic</td>\n",
       "    </tr>\n",
       "    <tr>\n",
       "      <th>2</th>\n",
       "      <td>19357394</td>\n",
       "      <td>Recently the World Health Organization (WHO), ...</td>\n",
       "      <td>civic</td>\n",
       "    </tr>\n",
       "    <tr>\n",
       "      <th>3</th>\n",
       "      <td>24578576</td>\n",
       "      <td>Fibrolamellar hepatocellular carcinoma (FL-HCC...</td>\n",
       "      <td>civic</td>\n",
       "    </tr>\n",
       "    <tr>\n",
       "      <th>4</th>\n",
       "      <td>24185510</td>\n",
       "      <td>Breast cancer is the most prevalent cancer in ...</td>\n",
       "      <td>civic</td>\n",
       "    </tr>\n",
       "    <tr>\n",
       "      <th>...</th>\n",
       "      <td>...</td>\n",
       "      <td>...</td>\n",
       "      <td>...</td>\n",
       "    </tr>\n",
       "    <tr>\n",
       "      <th>3501</th>\n",
       "      <td>19412164</td>\n",
       "      <td>Diffuse large B-cell lymphoma (DLBCL), the mos...</td>\n",
       "      <td>civic</td>\n",
       "    </tr>\n",
       "    <tr>\n",
       "      <th>3502</th>\n",
       "      <td>28327945</td>\n",
       "      <td>The field of cancer genomics has demonstrated ...</td>\n",
       "      <td>civic</td>\n",
       "    </tr>\n",
       "    <tr>\n",
       "      <th>3503</th>\n",
       "      <td>28833375</td>\n",
       "      <td>Clear cell sarcoma of the kidney (CCSK) is a r...</td>\n",
       "      <td>civic</td>\n",
       "    </tr>\n",
       "    <tr>\n",
       "      <th>3504</th>\n",
       "      <td>31876361</td>\n",
       "      <td>Clear cell sarcoma of the kidney (CCSK) is the...</td>\n",
       "      <td>civic</td>\n",
       "    </tr>\n",
       "    <tr>\n",
       "      <th>3505</th>\n",
       "      <td>28817404</td>\n",
       "      <td>We report 2 primary renal sarcomas demonstrati...</td>\n",
       "      <td>civic</td>\n",
       "    </tr>\n",
       "  </tbody>\n",
       "</table>\n",
       "<p>3506 rows × 3 columns</p>\n",
       "</div>"
      ],
      "text/plain": [
       "         pm_id                                           abstract source\n",
       "0     24569458  Targeted cancer therapies often induce \"outlie...  civic\n",
       "1     23111194  Non-small cell lung cancer (NSCLC) occurs most...  civic\n",
       "2     19357394  Recently the World Health Organization (WHO), ...  civic\n",
       "3     24578576  Fibrolamellar hepatocellular carcinoma (FL-HCC...  civic\n",
       "4     24185510  Breast cancer is the most prevalent cancer in ...  civic\n",
       "...        ...                                                ...    ...\n",
       "3501  19412164  Diffuse large B-cell lymphoma (DLBCL), the mos...  civic\n",
       "3502  28327945  The field of cancer genomics has demonstrated ...  civic\n",
       "3503  28833375  Clear cell sarcoma of the kidney (CCSK) is a r...  civic\n",
       "3504  31876361  Clear cell sarcoma of the kidney (CCSK) is the...  civic\n",
       "3505  28817404  We report 2 primary renal sarcomas demonstrati...  civic\n",
       "\n",
       "[3506 rows x 3 columns]"
      ]
     },
     "execution_count": 11,
     "metadata": {},
     "output_type": "execute_result"
    }
   ],
   "source": [
    "df_cv = pd.DataFrame(results)\n",
    "df_cv[\"source\"] = \"civic\"\n",
    "df_cv"
   ]
  },
  {
   "cell_type": "markdown",
   "metadata": {},
   "source": [
    "### Clinicaltrials"
   ]
  },
  {
   "cell_type": "markdown",
   "metadata": {},
   "source": [
    "For Clinicaltrials, we rely on the results data if it is available. Refer to the `classify_clinicaltrials` notebook for more information."
   ]
  },
  {
   "cell_type": "markdown",
   "metadata": {},
   "source": [
    "### Combining and saving the results"
   ]
  },
  {
   "cell_type": "code",
   "execution_count": 12,
   "metadata": {
    "tags": []
   },
   "outputs": [
    {
     "data": {
      "text/html": [
       "<div>\n",
       "<style scoped>\n",
       "    .dataframe tbody tr th:only-of-type {\n",
       "        vertical-align: middle;\n",
       "    }\n",
       "\n",
       "    .dataframe tbody tr th {\n",
       "        vertical-align: top;\n",
       "    }\n",
       "\n",
       "    .dataframe thead th {\n",
       "        text-align: right;\n",
       "    }\n",
       "</style>\n",
       "<table border=\"1\" class=\"dataframe\">\n",
       "  <thead>\n",
       "    <tr style=\"text-align: right;\">\n",
       "      <th></th>\n",
       "      <th>pm_id</th>\n",
       "      <th>abstract</th>\n",
       "    </tr>\n",
       "  </thead>\n",
       "  <tbody>\n",
       "    <tr>\n",
       "      <th>0</th>\n",
       "      <td>12411355</td>\n",
       "      <td>OBJECTIVE\\n\\n\\nTo measure the effect of giving...</td>\n",
       "    </tr>\n",
       "    <tr>\n",
       "      <th>1</th>\n",
       "      <td>20386478</td>\n",
       "      <td>The goal of this research project was to inves...</td>\n",
       "    </tr>\n",
       "    <tr>\n",
       "      <th>2</th>\n",
       "      <td>20386477</td>\n",
       "      <td>The objectives of the present investigation we...</td>\n",
       "    </tr>\n",
       "    <tr>\n",
       "      <th>3</th>\n",
       "      <td>20386476</td>\n",
       "      <td>The present study investigated the influence o...</td>\n",
       "    </tr>\n",
       "    <tr>\n",
       "      <th>4</th>\n",
       "      <td>20386475</td>\n",
       "      <td>The purpose of the present study was to examin...</td>\n",
       "    </tr>\n",
       "    <tr>\n",
       "      <th>...</th>\n",
       "      <td>...</td>\n",
       "      <td>...</td>\n",
       "    </tr>\n",
       "    <tr>\n",
       "      <th>776980</th>\n",
       "      <td>21594665</td>\n",
       "      <td>Trastuzumab (T) is effective in metastatic bre...</td>\n",
       "    </tr>\n",
       "    <tr>\n",
       "      <th>776981</th>\n",
       "      <td>19513541</td>\n",
       "      <td>PI-103, the first synthetic multitargeted comp...</td>\n",
       "    </tr>\n",
       "    <tr>\n",
       "      <th>776982</th>\n",
       "      <td>23094721</td>\n",
       "      <td>Regular use of aspirin after a diagnosis of co...</td>\n",
       "    </tr>\n",
       "    <tr>\n",
       "      <th>776983</th>\n",
       "      <td>18772396</td>\n",
       "      <td>Glioblastoma multiforme (GBM) is the most comm...</td>\n",
       "    </tr>\n",
       "    <tr>\n",
       "      <th>776984</th>\n",
       "      <td>28817404</td>\n",
       "      <td>We report 2 primary renal sarcomas demonstrati...</td>\n",
       "    </tr>\n",
       "  </tbody>\n",
       "</table>\n",
       "<p>776985 rows × 2 columns</p>\n",
       "</div>"
      ],
      "text/plain": [
       "           pm_id                                           abstract\n",
       "0       12411355  OBJECTIVE\\n\\n\\nTo measure the effect of giving...\n",
       "1       20386478  The goal of this research project was to inves...\n",
       "2       20386477  The objectives of the present investigation we...\n",
       "3       20386476  The present study investigated the influence o...\n",
       "4       20386475  The purpose of the present study was to examin...\n",
       "...          ...                                                ...\n",
       "776980  21594665  Trastuzumab (T) is effective in metastatic bre...\n",
       "776981  19513541  PI-103, the first synthetic multitargeted comp...\n",
       "776982  23094721  Regular use of aspirin after a diagnosis of co...\n",
       "776983  18772396  Glioblastoma multiforme (GBM) is the most comm...\n",
       "776984  28817404  We report 2 primary renal sarcomas demonstrati...\n",
       "\n",
       "[776985 rows x 2 columns]"
      ]
     },
     "execution_count": 12,
     "metadata": {},
     "output_type": "execute_result"
    }
   ],
   "source": [
    "df_combined = pd.concat(\n",
    "    [\n",
    "        df_pm,\n",
    "        df_cv,\n",
    "    ]\n",
    ")\n",
    "df_combined[\"source\"] = pd.Categorical(\n",
    "    values=df_combined[\"source\"],\n",
    "    categories=[\"pubmed\", \"civic\"],\n",
    "    ordered=True,\n",
    ")\n",
    "df_combined = (\n",
    "    df_combined.sort_values(\"source\")\n",
    "    .drop_duplicates(subset=[\"pm_id\"], keep=\"first\")\n",
    "    .reset_index(drop=True)\n",
    "    .drop(columns=\"source\")\n",
    ")\n",
    "df_combined"
   ]
  },
  {
   "cell_type": "code",
   "execution_count": 13,
   "metadata": {
    "tags": []
   },
   "outputs": [],
   "source": [
    "df_combined.to_parquet(PATH_INFERENCE_DATASET, compression=\"gzip\")"
   ]
  },
  {
   "cell_type": "code",
   "execution_count": null,
   "metadata": {},
   "outputs": [],
   "source": []
  }
 ],
 "metadata": {
  "kernelspec": {
   "display_name": "Python [conda env:nge]",
   "language": "python",
   "name": "conda-env-nge-py"
  },
  "language_info": {
   "codemirror_mode": {
    "name": "ipython",
    "version": 3
   },
   "file_extension": ".py",
   "mimetype": "text/x-python",
   "name": "python",
   "nbconvert_exporter": "python",
   "pygments_lexer": "ipython3",
   "version": "3.10.12"
  }
 },
 "nbformat": 4,
 "nbformat_minor": 4
}
