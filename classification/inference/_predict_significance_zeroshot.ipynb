{
 "cells": [
  {
   "cell_type": "markdown",
   "metadata": {},
   "source": [
    "# Finding Significance Classification"
   ]
  },
  {
   "cell_type": "markdown",
   "metadata": {},
   "source": [
    "## Inference using the selected model"
   ]
  },
  {
   "cell_type": "markdown",
   "metadata": {},
   "source": [
    "In order to predict the significance of a trial's findings, we have evaluated a few models. We settled on the BART zero-shot model to provide these predictions. As the database is rather large, we perform this classification step on the cluster."
   ]
  },
  {
   "cell_type": "code",
   "execution_count": null,
   "metadata": {},
   "outputs": [],
   "source": [
    "! nvidia-smi"
   ]
  },
  {
   "cell_type": "code",
   "execution_count": null,
   "metadata": {},
   "outputs": [],
   "source": [
    "from pathlib import Path"
   ]
  },
  {
   "cell_type": "code",
   "execution_count": null,
   "metadata": {},
   "outputs": [],
   "source": [
    "PATH_INFERENCE_DATASET = Path(\"ids_to_abstracts_for_inference.parquet\")\n",
    "PATH_INFERENCE_RESULTS_CACHE = Path(\"prediction_results.jsonl\")\n",
    "PATH_INFERENCE_RESULTS = Path(\"ids_to_significance_predictions_zeroshot.parquet\")\n",
    "MODEL = \"facebook/bart-large-mnli\"\n",
    "CANDIDATE_LABELS = [\"significant effect\", \"no significant effect\"]\n",
    "DEVICE = \"cuda:3\"\n",
    "BATCH_SIZE = 8"
   ]
  },
  {
   "cell_type": "markdown",
   "metadata": {},
   "source": [
    "### Load the data"
   ]
  },
  {
   "cell_type": "code",
   "execution_count": 8,
   "metadata": {},
   "outputs": [],
   "source": [
    "import pandas as pd"
   ]
  },
  {
   "cell_type": "code",
   "execution_count": null,
   "metadata": {},
   "outputs": [],
   "source": [
    "df_combined = pd.read_parquet(PATH_INFERENCE_DATASET)"
   ]
  },
  {
   "cell_type": "code",
   "execution_count": null,
   "metadata": {},
   "outputs": [],
   "source": [
    "df_combined"
   ]
  },
  {
   "cell_type": "markdown",
   "metadata": {},
   "source": [
    "### Model Setup"
   ]
  },
  {
   "cell_type": "code",
   "execution_count": 7,
   "metadata": {},
   "outputs": [],
   "source": [
    "from transformers import AutoTokenizer\n",
    "\n",
    "TOKENIZER = AutoTokenizer.from_pretrained(\n",
    "    MODEL, truncation=\"only_first\", truncation_side=\"left\", model_max_length=1024\n",
    ")"
   ]
  },
  {
   "cell_type": "code",
   "execution_count": null,
   "metadata": {},
   "outputs": [],
   "source": [
    "from transformers import pipeline\n",
    "import torch\n",
    "\n",
    "pipe_zs = pipeline(\n",
    "    \"zero-shot-classification\",\n",
    "    model=MODEL,\n",
    "    tokenizer=TOKENIZER,\n",
    "    candidate_labels=CANDIDATE_LABELS,\n",
    "    device=DEVICE,\n",
    "    torch_dtype=torch.bfloat16,\n",
    "    use_flash_attention_2=True,\n",
    ")"
   ]
  },
  {
   "cell_type": "code",
   "execution_count": null,
   "metadata": {},
   "outputs": [],
   "source": [
    "import jsonlines\n",
    "from transformers.pipelines import Pipeline\n",
    "from tqdm import tqdm\n",
    "from transformers.pipelines.pt_utils import KeyDataset\n",
    "from datasets import Dataset\n",
    "\n",
    "\n",
    "def predict_significance_labels(\n",
    "    ds: Dataset,\n",
    "    id_col: str,\n",
    "    feature_col: str,\n",
    "    pipe: Pipeline,\n",
    "    device: str,\n",
    "    batch_size: int,\n",
    "    output_file: str,\n",
    "    output_batch_size: int,\n",
    ") -> None:\n",
    "    output_file = Path(output_file)\n",
    "    if output_file.exists():\n",
    "        with jsonlines.open(output_file) as reader:\n",
    "            processed_ids = [item.get(id_col) for item in reader]\n",
    "\n",
    "    else:\n",
    "        processed_ids = []\n",
    "\n",
    "    filtered_ds = ds.filter(lambda row: row[id_col] not in processed_ids)\n",
    "\n",
    "    batch = []\n",
    "    for doc_id, pred in tqdm(\n",
    "        zip(\n",
    "            filtered_ds[id_col],\n",
    "            pipe(\n",
    "                KeyDataset(filtered_ds, feature_col),\n",
    "                batch_size=batch_size,\n",
    "                device=device,\n",
    "                return_all_scores=True,\n",
    "            ),\n",
    "        ),\n",
    "        desc=\"Running inference\",\n",
    "        total=len(filtered_ds),\n",
    "    ):\n",
    "        batch.append(\n",
    "            {id_col: doc_id, \"labels\": pred[\"labels\"], \"scores\": pred[\"scores\"]}\n",
    "        )\n",
    "        processed_ids.append(doc_id)\n",
    "\n",
    "        if len(batch) == output_batch_size:\n",
    "            with jsonlines.open(output_file, mode=\"a\") as writer:\n",
    "                writer.write_all(batch)\n",
    "            batch = []\n",
    "\n",
    "    with jsonlines.open(output_file, mode=\"a\") as writer:\n",
    "        writer.write_all(batch)"
   ]
  },
  {
   "cell_type": "markdown",
   "metadata": {},
   "source": [
    "### Inference"
   ]
  },
  {
   "cell_type": "code",
   "execution_count": null,
   "metadata": {},
   "outputs": [],
   "source": [
    "ds = Dataset.from_pandas(df_combined)"
   ]
  },
  {
   "cell_type": "code",
   "execution_count": null,
   "metadata": {},
   "outputs": [],
   "source": [
    "predict_significance_labels(\n",
    "    ds=ds,\n",
    "    id_col=\"pm_id\",\n",
    "    feature_col=\"abstract\",\n",
    "    pipe=pipe_zs,\n",
    "    device=DEVICE,\n",
    "    batch_size=BATCH_SIZE,\n",
    "    output_file=PATH_INFERENCE_RESULTS_CACHE,\n",
    "    output_batch_size=10000,\n",
    ")"
   ]
  },
  {
   "cell_type": "code",
   "execution_count": null,
   "metadata": {},
   "outputs": [],
   "source": [
    "df_results = pd.read_json(PATH_INFERENCE_RESULTS_CACHE, lines=True)\n",
    "df_results[\"predicted_label\"] = df_results[\"labels\"].str[0]\n",
    "df_results[f\"prob_{CANDIDATE_LABELS[0]}\"] = df_results.apply(\n",
    "    lambda row: row[\"scores\"][row[\"labels\"].index(CANDIDATE_LABELS[0])], axis=1\n",
    ").astype(float)\n",
    "df_results[f\"prob_{CANDIDATE_LABELS[1]}\"] = df_results.apply(\n",
    "    lambda row: row[\"scores\"][row[\"labels\"].index(CANDIDATE_LABELS[1])], axis=1\n",
    ").astype(float)\n",
    "df_results[\"has_significant_effect\"] = (\n",
    "    df_results[\"predicted_label\"] == CANDIDATE_LABELS[0]\n",
    ")\n",
    "df_results.drop(columns=[\"labels\", \"scores\"], inplace=True)\n",
    "df_results.to_parquet(PATH_INFERENCE_RESULTS, compression=\"gzip\")"
   ]
  }
 ],
 "metadata": {
  "kernelspec": {
   "display_name": "Python 3 (ipykernel)",
   "language": "python",
   "name": "python3"
  },
  "language_info": {
   "codemirror_mode": {
    "name": "ipython",
    "version": 3
   },
   "file_extension": ".py",
   "mimetype": "text/x-python",
   "name": "python",
   "nbconvert_exporter": "python",
   "pygments_lexer": "ipython3",
   "version": "3.8.18"
  }
 },
 "nbformat": 4,
 "nbformat_minor": 4
}
