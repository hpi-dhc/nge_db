{
 "cells": [
  {
   "cell_type": "code",
   "execution_count": 1,
   "id": "b325373c-0284-4a57-81ee-4a05d9cef560",
   "metadata": {
    "tags": []
   },
   "outputs": [],
   "source": [
    "from civicpy import civic"
   ]
  },
  {
   "cell_type": "code",
   "execution_count": 59,
   "id": "88346ed3-b938-4daa-a2b7-a70ee520e318",
   "metadata": {
    "tags": []
   },
   "outputs": [
    {
     "name": "stderr",
     "output_type": "stream",
     "text": [
      "WARNING:root:Getting all evidence_items. This may take a couple of minutes...\n"
     ]
    }
   ],
   "source": [
    "evidence = civic.get_all_evidence(include_status=['submitted', 'accepted'], allow_cached=False)"
   ]
  },
  {
   "cell_type": "code",
   "execution_count": 74,
   "id": "fe3ff4a7-6f26-4dec-9931-ca9ad5191273",
   "metadata": {
    "tags": []
   },
   "outputs": [
    {
     "data": {
      "text/plain": [
       "[<CIViC assertion 50>,\n",
       " <CIViC assertion 81>,\n",
       " <CIViC assertion 82>,\n",
       " <CIViC assertion 83>,\n",
       " <CIViC assertion 84>,\n",
       " <CIViC assertion 104>]"
      ]
     },
     "execution_count": 74,
     "metadata": {},
     "output_type": "execute_result"
    }
   ],
   "source": [
    "e.assertions"
   ]
  },
  {
   "cell_type": "code",
   "execution_count": 86,
   "id": "404dd05c-c599-47c6-bda5-ef4c6e51ede6",
   "metadata": {
    "tags": []
   },
   "outputs": [],
   "source": [
    "NUM_RETRIES = 10\n",
    "def get_assertions(e):\n",
    "    for i in range(0, NUM_RETRIES):\n",
    "        try:\n",
    "            return e.assertions\n",
    "        except AttributeError as ex:\n",
    "            pass\n",
    "    return []"
   ]
  },
  {
   "cell_type": "code",
   "execution_count": 85,
   "id": "95998443-5416-42d1-9f33-55c9729c0e97",
   "metadata": {
    "tags": []
   },
   "outputs": [
    {
     "data": {
      "application/vnd.jupyter.widget-view+json": {
       "model_id": "bb510867199c402d8cfb5469400e67b2",
       "version_major": 2,
       "version_minor": 0
      },
      "text/plain": [
       "  0%|          | 0/10603 [00:00<?, ?it/s]"
      ]
     },
     "metadata": {},
     "output_type": "display_data"
    },
    {
     "name": "stdout",
     "output_type": "stream",
     "text": [
      "EID3758 Expected evidence_items attribute for assertion, none found. 0\n",
      "EID6940 Expected evidence_items attribute for assertion, none found. 0\n",
      "EID7283 Expected evidence_items attribute for assertion, none found. 0\n",
      "EID7319 Expected evidence_items attribute for assertion, none found. 0\n",
      "EID8510 Expected evidence_items attribute for assertion, none found. 0\n",
      "EID10800 Expected evidence_items attribute for assertion, none found. 0\n",
      "EID10804 Expected evidence_items attribute for assertion, none found. 0\n",
      "EID11109 Expected evidence_items attribute for assertion, none found. 0\n",
      "EID11109 Expected evidence_items attribute for assertion, none found. 1\n"
     ]
    },
    {
     "ename": "KeyboardInterrupt",
     "evalue": "",
     "output_type": "error",
     "traceback": [
      "\u001b[0;31m---------------------------------------------------------------------------\u001b[0m",
      "\u001b[0;31mKeyboardInterrupt\u001b[0m                         Traceback (most recent call last)",
      "Cell \u001b[0;32mIn[85], line 6\u001b[0m\n\u001b[1;32m      3\u001b[0m \u001b[38;5;28;01mfor\u001b[39;00m e \u001b[38;5;129;01min\u001b[39;00m tqdm(evidence):\n\u001b[1;32m      4\u001b[0m     \u001b[38;5;28;01mtry\u001b[39;00m:\n\u001b[1;32m      5\u001b[0m         \u001b[38;5;66;03m#pass\u001b[39;00m\n\u001b[0;32m----> 6\u001b[0m         all_assertions\u001b[38;5;241m.\u001b[39mextend(\u001b[43mget_assertions\u001b[49m\u001b[43m(\u001b[49m\u001b[43me\u001b[49m\u001b[43m)\u001b[49m)\n\u001b[1;32m      7\u001b[0m     \u001b[38;5;28;01mexcept\u001b[39;00m \u001b[38;5;167;01mAttributeError\u001b[39;00m \u001b[38;5;28;01mas\u001b[39;00m ex:\n\u001b[1;32m      8\u001b[0m         \u001b[38;5;28mprint\u001b[39m(e\u001b[38;5;241m.\u001b[39mname, ex)\n",
      "Cell \u001b[0;32mIn[83], line 5\u001b[0m, in \u001b[0;36mget_assertions\u001b[0;34m(e)\u001b[0m\n\u001b[1;32m      3\u001b[0m \u001b[38;5;28;01mfor\u001b[39;00m i \u001b[38;5;129;01min\u001b[39;00m \u001b[38;5;28mrange\u001b[39m(\u001b[38;5;241m0\u001b[39m, NUM_RETRIES):\n\u001b[1;32m      4\u001b[0m     \u001b[38;5;28;01mtry\u001b[39;00m:\n\u001b[0;32m----> 5\u001b[0m         \u001b[38;5;28;01mreturn\u001b[39;00m \u001b[43me\u001b[49m\u001b[38;5;241;43m.\u001b[39;49m\u001b[43massertions\u001b[49m\n\u001b[1;32m      6\u001b[0m     \u001b[38;5;28;01mexcept\u001b[39;00m \u001b[38;5;167;01mAttributeError\u001b[39;00m \u001b[38;5;28;01mas\u001b[39;00m ex:\n\u001b[1;32m      7\u001b[0m         \u001b[38;5;28mprint\u001b[39m(e\u001b[38;5;241m.\u001b[39mname, ex, i)\n",
      "File \u001b[0;32m~/miniconda3/envs/nge/lib/python3.10/site-packages/civicpy/civic.py:904\u001b[0m, in \u001b[0;36mEvidence.assertions\u001b[0;34m(self)\u001b[0m\n\u001b[1;32m    902\u001b[0m \u001b[38;5;129m@property\u001b[39m\n\u001b[1;32m    903\u001b[0m \u001b[38;5;28;01mdef\u001b[39;00m \u001b[38;5;21massertions\u001b[39m(\u001b[38;5;28mself\u001b[39m):\n\u001b[0;32m--> 904\u001b[0m     \u001b[38;5;28;01mreturn\u001b[39;00m [a \u001b[38;5;28;01mfor\u001b[39;00m a \u001b[38;5;129;01min\u001b[39;00m \u001b[38;5;28mself\u001b[39m\u001b[38;5;241m.\u001b[39m_assertions \u001b[38;5;28;01mif\u001b[39;00m a\u001b[38;5;241m.\u001b[39mstatus \u001b[38;5;129;01min\u001b[39;00m \u001b[38;5;28mself\u001b[39m\u001b[38;5;241m.\u001b[39m_include_status]\n",
      "File \u001b[0;32m~/miniconda3/envs/nge/lib/python3.10/site-packages/civicpy/civic.py:904\u001b[0m, in \u001b[0;36m<listcomp>\u001b[0;34m(.0)\u001b[0m\n\u001b[1;32m    902\u001b[0m \u001b[38;5;129m@property\u001b[39m\n\u001b[1;32m    903\u001b[0m \u001b[38;5;28;01mdef\u001b[39;00m \u001b[38;5;21massertions\u001b[39m(\u001b[38;5;28mself\u001b[39m):\n\u001b[0;32m--> 904\u001b[0m     \u001b[38;5;28;01mreturn\u001b[39;00m [a \u001b[38;5;28;01mfor\u001b[39;00m a \u001b[38;5;129;01min\u001b[39;00m \u001b[38;5;28mself\u001b[39m\u001b[38;5;241m.\u001b[39m_assertions \u001b[38;5;28;01mif\u001b[39;00m \u001b[43ma\u001b[49m\u001b[38;5;241;43m.\u001b[39;49m\u001b[43mstatus\u001b[49m \u001b[38;5;129;01min\u001b[39;00m \u001b[38;5;28mself\u001b[39m\u001b[38;5;241m.\u001b[39m_include_status]\n",
      "File \u001b[0;32m~/miniconda3/envs/nge/lib/python3.10/site-packages/civicpy/civic.py:393\u001b[0m, in \u001b[0;36mCivicRecord.__getattr__\u001b[0;34m(self, item)\u001b[0m\n\u001b[1;32m    391\u001b[0m \u001b[38;5;28;01mdef\u001b[39;00m \u001b[38;5;21m__getattr__\u001b[39m(\u001b[38;5;28mself\u001b[39m, item):\n\u001b[1;32m    392\u001b[0m     \u001b[38;5;28;01mif\u001b[39;00m \u001b[38;5;28mself\u001b[39m\u001b[38;5;241m.\u001b[39m_partial \u001b[38;5;129;01mand\u001b[39;00m item \u001b[38;5;129;01min\u001b[39;00m \u001b[38;5;28mself\u001b[39m\u001b[38;5;241m.\u001b[39m_incomplete:\n\u001b[0;32m--> 393\u001b[0m         \u001b[38;5;28;43mself\u001b[39;49m\u001b[38;5;241;43m.\u001b[39;49m\u001b[43mupdate\u001b[49m\u001b[43m(\u001b[49m\u001b[43m)\u001b[49m\n\u001b[1;32m    394\u001b[0m     \u001b[38;5;28;01mreturn\u001b[39;00m \u001b[38;5;28mobject\u001b[39m\u001b[38;5;241m.\u001b[39m\u001b[38;5;21m__getattribute__\u001b[39m(\u001b[38;5;28mself\u001b[39m, item)\n",
      "File \u001b[0;32m~/miniconda3/envs/nge/lib/python3.10/site-packages/civicpy/civic.py:427\u001b[0m, in \u001b[0;36mCivicRecord.update\u001b[0;34m(self, allow_partial, force, **kwargs)\u001b[0m\n\u001b[1;32m    425\u001b[0m     logging\u001b[38;5;241m.\u001b[39minfo(\u001b[38;5;124m'\u001b[39m\u001b[38;5;124mLoading \u001b[39m\u001b[38;5;132;01m{}\u001b[39;00m\u001b[38;5;124m from cache\u001b[39m\u001b[38;5;124m'\u001b[39m\u001b[38;5;241m.\u001b[39mformat(\u001b[38;5;28mstr\u001b[39m(\u001b[38;5;28mself\u001b[39m)))\n\u001b[1;32m    426\u001b[0m     \u001b[38;5;28;01mreturn\u001b[39;00m \u001b[38;5;28;01mTrue\u001b[39;00m\n\u001b[0;32m--> 427\u001b[0m resp_dict \u001b[38;5;241m=\u001b[39m \u001b[43melement_lookup_by_id\u001b[49m\u001b[43m(\u001b[49m\u001b[38;5;28;43mself\u001b[39;49m\u001b[38;5;241;43m.\u001b[39;49m\u001b[43mtype\u001b[49m\u001b[43m,\u001b[49m\u001b[43m \u001b[49m\u001b[38;5;28;43mself\u001b[39;49m\u001b[38;5;241;43m.\u001b[39;49m\u001b[43mid\u001b[49m\u001b[43m)\u001b[49m\n\u001b[1;32m    428\u001b[0m \u001b[38;5;28mself\u001b[39m\u001b[38;5;241m.\u001b[39m\u001b[38;5;21m__init__\u001b[39m(partial\u001b[38;5;241m=\u001b[39m\u001b[38;5;28;01mFalse\u001b[39;00m, \u001b[38;5;241m*\u001b[39m\u001b[38;5;241m*\u001b[39mresp_dict)\n\u001b[1;32m    429\u001b[0m \u001b[38;5;28;01mreturn\u001b[39;00m \u001b[38;5;28;01mTrue\u001b[39;00m\n",
      "File \u001b[0;32m~/miniconda3/envs/nge/lib/python3.10/site-packages/civicpy/civic.py:95\u001b[0m, in \u001b[0;36melement_lookup_by_id\u001b[0;34m(element_type, element_id)\u001b[0m\n\u001b[1;32m     94\u001b[0m \u001b[38;5;28;01mdef\u001b[39;00m \u001b[38;5;21melement_lookup_by_id\u001b[39m(element_type, element_id):\n\u001b[0;32m---> 95\u001b[0m     e \u001b[38;5;241m=\u001b[39m \u001b[43m_request_by_ids\u001b[49m\u001b[43m(\u001b[49m\u001b[43melement_type\u001b[49m\u001b[43m,\u001b[49m\u001b[43m \u001b[49m\u001b[43m[\u001b[49m\u001b[38;5;28;43mint\u001b[39;49m\u001b[43m(\u001b[49m\u001b[43melement_id\u001b[49m\u001b[43m)\u001b[49m\u001b[43m]\u001b[49m\u001b[43m)\u001b[49m[\u001b[38;5;241m0\u001b[39m]\n\u001b[1;32m     96\u001b[0m     e \u001b[38;5;241m=\u001b[39m _postprocess_response_element(e, element_type)\n\u001b[1;32m     97\u001b[0m     \u001b[38;5;28;01mreturn\u001b[39;00m e\n",
      "File \u001b[0;32m~/miniconda3/envs/nge/lib/python3.10/site-packages/civicpy/civic.py:1284\u001b[0m, in \u001b[0;36m_request_by_ids\u001b[0;34m(element, ids)\u001b[0m\n\u001b[1;32m   1282\u001b[0m response_elements \u001b[38;5;241m=\u001b[39m []\n\u001b[1;32m   1283\u001b[0m \u001b[38;5;28;01mfor\u001b[39;00m i \u001b[38;5;129;01min\u001b[39;00m ids:\n\u001b[0;32m-> 1284\u001b[0m     resp \u001b[38;5;241m=\u001b[39m \u001b[43mrequests\u001b[49m\u001b[38;5;241;43m.\u001b[39;49m\u001b[43mpost\u001b[49m\u001b[43m(\u001b[49m\u001b[43mAPI_URL\u001b[49m\u001b[43m,\u001b[49m\u001b[43m \u001b[49m\u001b[43mjson\u001b[49m\u001b[38;5;241;43m=\u001b[39;49m\u001b[43m{\u001b[49m\u001b[38;5;124;43m'\u001b[39;49m\u001b[38;5;124;43mquery\u001b[39;49m\u001b[38;5;124;43m'\u001b[39;49m\u001b[43m:\u001b[49m\u001b[43m \u001b[49m\u001b[43mpayload\u001b[49m\u001b[43m,\u001b[49m\u001b[43m \u001b[49m\u001b[38;5;124;43m'\u001b[39;49m\u001b[38;5;124;43mvariables\u001b[39;49m\u001b[38;5;124;43m'\u001b[39;49m\u001b[43m:\u001b[49m\u001b[43m \u001b[49m\u001b[43m{\u001b[49m\u001b[38;5;124;43m'\u001b[39;49m\u001b[38;5;124;43mid\u001b[39;49m\u001b[38;5;124;43m'\u001b[39;49m\u001b[43m:\u001b[49m\u001b[43m \u001b[49m\u001b[43mi\u001b[49m\u001b[43m}\u001b[49m\u001b[43m}\u001b[49m\u001b[43m,\u001b[49m\u001b[43m \u001b[49m\u001b[43mtimeout\u001b[49m\u001b[38;5;241;43m=\u001b[39;49m\u001b[43m(\u001b[49m\u001b[38;5;241;43m10\u001b[39;49m\u001b[43m,\u001b[49m\u001b[38;5;241;43m200\u001b[39;49m\u001b[43m)\u001b[49m\u001b[43m)\u001b[49m\n\u001b[1;32m   1285\u001b[0m     resp\u001b[38;5;241m.\u001b[39mraise_for_status()\n\u001b[1;32m   1286\u001b[0m     response \u001b[38;5;241m=\u001b[39m resp\u001b[38;5;241m.\u001b[39mjson()[\u001b[38;5;124m'\u001b[39m\u001b[38;5;124mdata\u001b[39m\u001b[38;5;124m'\u001b[39m][element]\n",
      "File \u001b[0;32m~/miniconda3/envs/nge/lib/python3.10/site-packages/requests/api.py:115\u001b[0m, in \u001b[0;36mpost\u001b[0;34m(url, data, json, **kwargs)\u001b[0m\n\u001b[1;32m    103\u001b[0m \u001b[38;5;28;01mdef\u001b[39;00m \u001b[38;5;21mpost\u001b[39m(url, data\u001b[38;5;241m=\u001b[39m\u001b[38;5;28;01mNone\u001b[39;00m, json\u001b[38;5;241m=\u001b[39m\u001b[38;5;28;01mNone\u001b[39;00m, \u001b[38;5;241m*\u001b[39m\u001b[38;5;241m*\u001b[39mkwargs):\n\u001b[1;32m    104\u001b[0m \u001b[38;5;250m    \u001b[39m\u001b[38;5;124mr\u001b[39m\u001b[38;5;124;03m\"\"\"Sends a POST request.\u001b[39;00m\n\u001b[1;32m    105\u001b[0m \n\u001b[1;32m    106\u001b[0m \u001b[38;5;124;03m    :param url: URL for the new :class:`Request` object.\u001b[39;00m\n\u001b[0;32m   (...)\u001b[0m\n\u001b[1;32m    112\u001b[0m \u001b[38;5;124;03m    :rtype: requests.Response\u001b[39;00m\n\u001b[1;32m    113\u001b[0m \u001b[38;5;124;03m    \"\"\"\u001b[39;00m\n\u001b[0;32m--> 115\u001b[0m     \u001b[38;5;28;01mreturn\u001b[39;00m \u001b[43mrequest\u001b[49m\u001b[43m(\u001b[49m\u001b[38;5;124;43m\"\u001b[39;49m\u001b[38;5;124;43mpost\u001b[39;49m\u001b[38;5;124;43m\"\u001b[39;49m\u001b[43m,\u001b[49m\u001b[43m \u001b[49m\u001b[43murl\u001b[49m\u001b[43m,\u001b[49m\u001b[43m \u001b[49m\u001b[43mdata\u001b[49m\u001b[38;5;241;43m=\u001b[39;49m\u001b[43mdata\u001b[49m\u001b[43m,\u001b[49m\u001b[43m \u001b[49m\u001b[43mjson\u001b[49m\u001b[38;5;241;43m=\u001b[39;49m\u001b[43mjson\u001b[49m\u001b[43m,\u001b[49m\u001b[43m \u001b[49m\u001b[38;5;241;43m*\u001b[39;49m\u001b[38;5;241;43m*\u001b[39;49m\u001b[43mkwargs\u001b[49m\u001b[43m)\u001b[49m\n",
      "File \u001b[0;32m~/miniconda3/envs/nge/lib/python3.10/site-packages/requests/api.py:59\u001b[0m, in \u001b[0;36mrequest\u001b[0;34m(method, url, **kwargs)\u001b[0m\n\u001b[1;32m     55\u001b[0m \u001b[38;5;66;03m# By using the 'with' statement we are sure the session is closed, thus we\u001b[39;00m\n\u001b[1;32m     56\u001b[0m \u001b[38;5;66;03m# avoid leaving sockets open which can trigger a ResourceWarning in some\u001b[39;00m\n\u001b[1;32m     57\u001b[0m \u001b[38;5;66;03m# cases, and look like a memory leak in others.\u001b[39;00m\n\u001b[1;32m     58\u001b[0m \u001b[38;5;28;01mwith\u001b[39;00m sessions\u001b[38;5;241m.\u001b[39mSession() \u001b[38;5;28;01mas\u001b[39;00m session:\n\u001b[0;32m---> 59\u001b[0m     \u001b[38;5;28;01mreturn\u001b[39;00m \u001b[43msession\u001b[49m\u001b[38;5;241;43m.\u001b[39;49m\u001b[43mrequest\u001b[49m\u001b[43m(\u001b[49m\u001b[43mmethod\u001b[49m\u001b[38;5;241;43m=\u001b[39;49m\u001b[43mmethod\u001b[49m\u001b[43m,\u001b[49m\u001b[43m \u001b[49m\u001b[43murl\u001b[49m\u001b[38;5;241;43m=\u001b[39;49m\u001b[43murl\u001b[49m\u001b[43m,\u001b[49m\u001b[43m \u001b[49m\u001b[38;5;241;43m*\u001b[39;49m\u001b[38;5;241;43m*\u001b[39;49m\u001b[43mkwargs\u001b[49m\u001b[43m)\u001b[49m\n",
      "File \u001b[0;32m~/miniconda3/envs/nge/lib/python3.10/site-packages/requests/sessions.py:589\u001b[0m, in \u001b[0;36mSession.request\u001b[0;34m(self, method, url, params, data, headers, cookies, files, auth, timeout, allow_redirects, proxies, hooks, stream, verify, cert, json)\u001b[0m\n\u001b[1;32m    584\u001b[0m send_kwargs \u001b[38;5;241m=\u001b[39m {\n\u001b[1;32m    585\u001b[0m     \u001b[38;5;124m\"\u001b[39m\u001b[38;5;124mtimeout\u001b[39m\u001b[38;5;124m\"\u001b[39m: timeout,\n\u001b[1;32m    586\u001b[0m     \u001b[38;5;124m\"\u001b[39m\u001b[38;5;124mallow_redirects\u001b[39m\u001b[38;5;124m\"\u001b[39m: allow_redirects,\n\u001b[1;32m    587\u001b[0m }\n\u001b[1;32m    588\u001b[0m send_kwargs\u001b[38;5;241m.\u001b[39mupdate(settings)\n\u001b[0;32m--> 589\u001b[0m resp \u001b[38;5;241m=\u001b[39m \u001b[38;5;28;43mself\u001b[39;49m\u001b[38;5;241;43m.\u001b[39;49m\u001b[43msend\u001b[49m\u001b[43m(\u001b[49m\u001b[43mprep\u001b[49m\u001b[43m,\u001b[49m\u001b[43m \u001b[49m\u001b[38;5;241;43m*\u001b[39;49m\u001b[38;5;241;43m*\u001b[39;49m\u001b[43msend_kwargs\u001b[49m\u001b[43m)\u001b[49m\n\u001b[1;32m    591\u001b[0m \u001b[38;5;28;01mreturn\u001b[39;00m resp\n",
      "File \u001b[0;32m~/miniconda3/envs/nge/lib/python3.10/site-packages/requests/sessions.py:703\u001b[0m, in \u001b[0;36mSession.send\u001b[0;34m(self, request, **kwargs)\u001b[0m\n\u001b[1;32m    700\u001b[0m start \u001b[38;5;241m=\u001b[39m preferred_clock()\n\u001b[1;32m    702\u001b[0m \u001b[38;5;66;03m# Send the request\u001b[39;00m\n\u001b[0;32m--> 703\u001b[0m r \u001b[38;5;241m=\u001b[39m \u001b[43madapter\u001b[49m\u001b[38;5;241;43m.\u001b[39;49m\u001b[43msend\u001b[49m\u001b[43m(\u001b[49m\u001b[43mrequest\u001b[49m\u001b[43m,\u001b[49m\u001b[43m \u001b[49m\u001b[38;5;241;43m*\u001b[39;49m\u001b[38;5;241;43m*\u001b[39;49m\u001b[43mkwargs\u001b[49m\u001b[43m)\u001b[49m\n\u001b[1;32m    705\u001b[0m \u001b[38;5;66;03m# Total elapsed time of the request (approximately)\u001b[39;00m\n\u001b[1;32m    706\u001b[0m elapsed \u001b[38;5;241m=\u001b[39m preferred_clock() \u001b[38;5;241m-\u001b[39m start\n",
      "File \u001b[0;32m~/miniconda3/envs/nge/lib/python3.10/site-packages/requests/adapters.py:486\u001b[0m, in \u001b[0;36mHTTPAdapter.send\u001b[0;34m(self, request, stream, timeout, verify, cert, proxies)\u001b[0m\n\u001b[1;32m    483\u001b[0m     timeout \u001b[38;5;241m=\u001b[39m TimeoutSauce(connect\u001b[38;5;241m=\u001b[39mtimeout, read\u001b[38;5;241m=\u001b[39mtimeout)\n\u001b[1;32m    485\u001b[0m \u001b[38;5;28;01mtry\u001b[39;00m:\n\u001b[0;32m--> 486\u001b[0m     resp \u001b[38;5;241m=\u001b[39m \u001b[43mconn\u001b[49m\u001b[38;5;241;43m.\u001b[39;49m\u001b[43murlopen\u001b[49m\u001b[43m(\u001b[49m\n\u001b[1;32m    487\u001b[0m \u001b[43m        \u001b[49m\u001b[43mmethod\u001b[49m\u001b[38;5;241;43m=\u001b[39;49m\u001b[43mrequest\u001b[49m\u001b[38;5;241;43m.\u001b[39;49m\u001b[43mmethod\u001b[49m\u001b[43m,\u001b[49m\n\u001b[1;32m    488\u001b[0m \u001b[43m        \u001b[49m\u001b[43murl\u001b[49m\u001b[38;5;241;43m=\u001b[39;49m\u001b[43murl\u001b[49m\u001b[43m,\u001b[49m\n\u001b[1;32m    489\u001b[0m \u001b[43m        \u001b[49m\u001b[43mbody\u001b[49m\u001b[38;5;241;43m=\u001b[39;49m\u001b[43mrequest\u001b[49m\u001b[38;5;241;43m.\u001b[39;49m\u001b[43mbody\u001b[49m\u001b[43m,\u001b[49m\n\u001b[1;32m    490\u001b[0m \u001b[43m        \u001b[49m\u001b[43mheaders\u001b[49m\u001b[38;5;241;43m=\u001b[39;49m\u001b[43mrequest\u001b[49m\u001b[38;5;241;43m.\u001b[39;49m\u001b[43mheaders\u001b[49m\u001b[43m,\u001b[49m\n\u001b[1;32m    491\u001b[0m \u001b[43m        \u001b[49m\u001b[43mredirect\u001b[49m\u001b[38;5;241;43m=\u001b[39;49m\u001b[38;5;28;43;01mFalse\u001b[39;49;00m\u001b[43m,\u001b[49m\n\u001b[1;32m    492\u001b[0m \u001b[43m        \u001b[49m\u001b[43massert_same_host\u001b[49m\u001b[38;5;241;43m=\u001b[39;49m\u001b[38;5;28;43;01mFalse\u001b[39;49;00m\u001b[43m,\u001b[49m\n\u001b[1;32m    493\u001b[0m \u001b[43m        \u001b[49m\u001b[43mpreload_content\u001b[49m\u001b[38;5;241;43m=\u001b[39;49m\u001b[38;5;28;43;01mFalse\u001b[39;49;00m\u001b[43m,\u001b[49m\n\u001b[1;32m    494\u001b[0m \u001b[43m        \u001b[49m\u001b[43mdecode_content\u001b[49m\u001b[38;5;241;43m=\u001b[39;49m\u001b[38;5;28;43;01mFalse\u001b[39;49;00m\u001b[43m,\u001b[49m\n\u001b[1;32m    495\u001b[0m \u001b[43m        \u001b[49m\u001b[43mretries\u001b[49m\u001b[38;5;241;43m=\u001b[39;49m\u001b[38;5;28;43mself\u001b[39;49m\u001b[38;5;241;43m.\u001b[39;49m\u001b[43mmax_retries\u001b[49m\u001b[43m,\u001b[49m\n\u001b[1;32m    496\u001b[0m \u001b[43m        \u001b[49m\u001b[43mtimeout\u001b[49m\u001b[38;5;241;43m=\u001b[39;49m\u001b[43mtimeout\u001b[49m\u001b[43m,\u001b[49m\n\u001b[1;32m    497\u001b[0m \u001b[43m        \u001b[49m\u001b[43mchunked\u001b[49m\u001b[38;5;241;43m=\u001b[39;49m\u001b[43mchunked\u001b[49m\u001b[43m,\u001b[49m\n\u001b[1;32m    498\u001b[0m \u001b[43m    \u001b[49m\u001b[43m)\u001b[49m\n\u001b[1;32m    500\u001b[0m \u001b[38;5;28;01mexcept\u001b[39;00m (ProtocolError, \u001b[38;5;167;01mOSError\u001b[39;00m) \u001b[38;5;28;01mas\u001b[39;00m err:\n\u001b[1;32m    501\u001b[0m     \u001b[38;5;28;01mraise\u001b[39;00m \u001b[38;5;167;01mConnectionError\u001b[39;00m(err, request\u001b[38;5;241m=\u001b[39mrequest)\n",
      "File \u001b[0;32m~/miniconda3/envs/nge/lib/python3.10/site-packages/urllib3/connectionpool.py:790\u001b[0m, in \u001b[0;36mHTTPConnectionPool.urlopen\u001b[0;34m(self, method, url, body, headers, retries, redirect, assert_same_host, timeout, pool_timeout, release_conn, chunked, body_pos, preload_content, decode_content, **response_kw)\u001b[0m\n\u001b[1;32m    787\u001b[0m response_conn \u001b[38;5;241m=\u001b[39m conn \u001b[38;5;28;01mif\u001b[39;00m \u001b[38;5;129;01mnot\u001b[39;00m release_conn \u001b[38;5;28;01melse\u001b[39;00m \u001b[38;5;28;01mNone\u001b[39;00m\n\u001b[1;32m    789\u001b[0m \u001b[38;5;66;03m# Make the request on the HTTPConnection object\u001b[39;00m\n\u001b[0;32m--> 790\u001b[0m response \u001b[38;5;241m=\u001b[39m \u001b[38;5;28;43mself\u001b[39;49m\u001b[38;5;241;43m.\u001b[39;49m\u001b[43m_make_request\u001b[49m\u001b[43m(\u001b[49m\n\u001b[1;32m    791\u001b[0m \u001b[43m    \u001b[49m\u001b[43mconn\u001b[49m\u001b[43m,\u001b[49m\n\u001b[1;32m    792\u001b[0m \u001b[43m    \u001b[49m\u001b[43mmethod\u001b[49m\u001b[43m,\u001b[49m\n\u001b[1;32m    793\u001b[0m \u001b[43m    \u001b[49m\u001b[43murl\u001b[49m\u001b[43m,\u001b[49m\n\u001b[1;32m    794\u001b[0m \u001b[43m    \u001b[49m\u001b[43mtimeout\u001b[49m\u001b[38;5;241;43m=\u001b[39;49m\u001b[43mtimeout_obj\u001b[49m\u001b[43m,\u001b[49m\n\u001b[1;32m    795\u001b[0m \u001b[43m    \u001b[49m\u001b[43mbody\u001b[49m\u001b[38;5;241;43m=\u001b[39;49m\u001b[43mbody\u001b[49m\u001b[43m,\u001b[49m\n\u001b[1;32m    796\u001b[0m \u001b[43m    \u001b[49m\u001b[43mheaders\u001b[49m\u001b[38;5;241;43m=\u001b[39;49m\u001b[43mheaders\u001b[49m\u001b[43m,\u001b[49m\n\u001b[1;32m    797\u001b[0m \u001b[43m    \u001b[49m\u001b[43mchunked\u001b[49m\u001b[38;5;241;43m=\u001b[39;49m\u001b[43mchunked\u001b[49m\u001b[43m,\u001b[49m\n\u001b[1;32m    798\u001b[0m \u001b[43m    \u001b[49m\u001b[43mretries\u001b[49m\u001b[38;5;241;43m=\u001b[39;49m\u001b[43mretries\u001b[49m\u001b[43m,\u001b[49m\n\u001b[1;32m    799\u001b[0m \u001b[43m    \u001b[49m\u001b[43mresponse_conn\u001b[49m\u001b[38;5;241;43m=\u001b[39;49m\u001b[43mresponse_conn\u001b[49m\u001b[43m,\u001b[49m\n\u001b[1;32m    800\u001b[0m \u001b[43m    \u001b[49m\u001b[43mpreload_content\u001b[49m\u001b[38;5;241;43m=\u001b[39;49m\u001b[43mpreload_content\u001b[49m\u001b[43m,\u001b[49m\n\u001b[1;32m    801\u001b[0m \u001b[43m    \u001b[49m\u001b[43mdecode_content\u001b[49m\u001b[38;5;241;43m=\u001b[39;49m\u001b[43mdecode_content\u001b[49m\u001b[43m,\u001b[49m\n\u001b[1;32m    802\u001b[0m \u001b[43m    \u001b[49m\u001b[38;5;241;43m*\u001b[39;49m\u001b[38;5;241;43m*\u001b[39;49m\u001b[43mresponse_kw\u001b[49m\u001b[43m,\u001b[49m\n\u001b[1;32m    803\u001b[0m \u001b[43m\u001b[49m\u001b[43m)\u001b[49m\n\u001b[1;32m    805\u001b[0m \u001b[38;5;66;03m# Everything went great!\u001b[39;00m\n\u001b[1;32m    806\u001b[0m clean_exit \u001b[38;5;241m=\u001b[39m \u001b[38;5;28;01mTrue\u001b[39;00m\n",
      "File \u001b[0;32m~/miniconda3/envs/nge/lib/python3.10/site-packages/urllib3/connectionpool.py:467\u001b[0m, in \u001b[0;36mHTTPConnectionPool._make_request\u001b[0;34m(self, conn, method, url, body, headers, retries, timeout, chunked, response_conn, preload_content, decode_content, enforce_content_length)\u001b[0m\n\u001b[1;32m    464\u001b[0m \u001b[38;5;28;01mtry\u001b[39;00m:\n\u001b[1;32m    465\u001b[0m     \u001b[38;5;66;03m# Trigger any extra validation we need to do.\u001b[39;00m\n\u001b[1;32m    466\u001b[0m     \u001b[38;5;28;01mtry\u001b[39;00m:\n\u001b[0;32m--> 467\u001b[0m         \u001b[38;5;28;43mself\u001b[39;49m\u001b[38;5;241;43m.\u001b[39;49m\u001b[43m_validate_conn\u001b[49m\u001b[43m(\u001b[49m\u001b[43mconn\u001b[49m\u001b[43m)\u001b[49m\n\u001b[1;32m    468\u001b[0m     \u001b[38;5;28;01mexcept\u001b[39;00m (SocketTimeout, BaseSSLError) \u001b[38;5;28;01mas\u001b[39;00m e:\n\u001b[1;32m    469\u001b[0m         \u001b[38;5;28mself\u001b[39m\u001b[38;5;241m.\u001b[39m_raise_timeout(err\u001b[38;5;241m=\u001b[39me, url\u001b[38;5;241m=\u001b[39murl, timeout_value\u001b[38;5;241m=\u001b[39mconn\u001b[38;5;241m.\u001b[39mtimeout)\n",
      "File \u001b[0;32m~/miniconda3/envs/nge/lib/python3.10/site-packages/urllib3/connectionpool.py:1096\u001b[0m, in \u001b[0;36mHTTPSConnectionPool._validate_conn\u001b[0;34m(self, conn)\u001b[0m\n\u001b[1;32m   1094\u001b[0m \u001b[38;5;66;03m# Force connect early to allow us to validate the connection.\u001b[39;00m\n\u001b[1;32m   1095\u001b[0m \u001b[38;5;28;01mif\u001b[39;00m conn\u001b[38;5;241m.\u001b[39mis_closed:\n\u001b[0;32m-> 1096\u001b[0m     \u001b[43mconn\u001b[49m\u001b[38;5;241;43m.\u001b[39;49m\u001b[43mconnect\u001b[49m\u001b[43m(\u001b[49m\u001b[43m)\u001b[49m\n\u001b[1;32m   1098\u001b[0m \u001b[38;5;28;01mif\u001b[39;00m \u001b[38;5;129;01mnot\u001b[39;00m conn\u001b[38;5;241m.\u001b[39mis_verified:\n\u001b[1;32m   1099\u001b[0m     warnings\u001b[38;5;241m.\u001b[39mwarn(\n\u001b[1;32m   1100\u001b[0m         (\n\u001b[1;32m   1101\u001b[0m             \u001b[38;5;124mf\u001b[39m\u001b[38;5;124m\"\u001b[39m\u001b[38;5;124mUnverified HTTPS request is being made to host \u001b[39m\u001b[38;5;124m'\u001b[39m\u001b[38;5;132;01m{\u001b[39;00mconn\u001b[38;5;241m.\u001b[39mhost\u001b[38;5;132;01m}\u001b[39;00m\u001b[38;5;124m'\u001b[39m\u001b[38;5;124m. \u001b[39m\u001b[38;5;124m\"\u001b[39m\n\u001b[0;32m   (...)\u001b[0m\n\u001b[1;32m   1106\u001b[0m         InsecureRequestWarning,\n\u001b[1;32m   1107\u001b[0m     )\n",
      "File \u001b[0;32m~/miniconda3/envs/nge/lib/python3.10/site-packages/urllib3/connection.py:642\u001b[0m, in \u001b[0;36mHTTPSConnection.connect\u001b[0;34m(self)\u001b[0m\n\u001b[1;32m    633\u001b[0m \u001b[38;5;28;01mif\u001b[39;00m is_time_off:\n\u001b[1;32m    634\u001b[0m     warnings\u001b[38;5;241m.\u001b[39mwarn(\n\u001b[1;32m    635\u001b[0m         (\n\u001b[1;32m    636\u001b[0m             \u001b[38;5;124mf\u001b[39m\u001b[38;5;124m\"\u001b[39m\u001b[38;5;124mSystem time is way off (before \u001b[39m\u001b[38;5;132;01m{\u001b[39;00mRECENT_DATE\u001b[38;5;132;01m}\u001b[39;00m\u001b[38;5;124m). This will probably \u001b[39m\u001b[38;5;124m\"\u001b[39m\n\u001b[0;32m   (...)\u001b[0m\n\u001b[1;32m    639\u001b[0m         SystemTimeWarning,\n\u001b[1;32m    640\u001b[0m     )\n\u001b[0;32m--> 642\u001b[0m sock_and_verified \u001b[38;5;241m=\u001b[39m \u001b[43m_ssl_wrap_socket_and_match_hostname\u001b[49m\u001b[43m(\u001b[49m\n\u001b[1;32m    643\u001b[0m \u001b[43m    \u001b[49m\u001b[43msock\u001b[49m\u001b[38;5;241;43m=\u001b[39;49m\u001b[43msock\u001b[49m\u001b[43m,\u001b[49m\n\u001b[1;32m    644\u001b[0m \u001b[43m    \u001b[49m\u001b[43mcert_reqs\u001b[49m\u001b[38;5;241;43m=\u001b[39;49m\u001b[38;5;28;43mself\u001b[39;49m\u001b[38;5;241;43m.\u001b[39;49m\u001b[43mcert_reqs\u001b[49m\u001b[43m,\u001b[49m\n\u001b[1;32m    645\u001b[0m \u001b[43m    \u001b[49m\u001b[43mssl_version\u001b[49m\u001b[38;5;241;43m=\u001b[39;49m\u001b[38;5;28;43mself\u001b[39;49m\u001b[38;5;241;43m.\u001b[39;49m\u001b[43mssl_version\u001b[49m\u001b[43m,\u001b[49m\n\u001b[1;32m    646\u001b[0m \u001b[43m    \u001b[49m\u001b[43mssl_minimum_version\u001b[49m\u001b[38;5;241;43m=\u001b[39;49m\u001b[38;5;28;43mself\u001b[39;49m\u001b[38;5;241;43m.\u001b[39;49m\u001b[43mssl_minimum_version\u001b[49m\u001b[43m,\u001b[49m\n\u001b[1;32m    647\u001b[0m \u001b[43m    \u001b[49m\u001b[43mssl_maximum_version\u001b[49m\u001b[38;5;241;43m=\u001b[39;49m\u001b[38;5;28;43mself\u001b[39;49m\u001b[38;5;241;43m.\u001b[39;49m\u001b[43mssl_maximum_version\u001b[49m\u001b[43m,\u001b[49m\n\u001b[1;32m    648\u001b[0m \u001b[43m    \u001b[49m\u001b[43mca_certs\u001b[49m\u001b[38;5;241;43m=\u001b[39;49m\u001b[38;5;28;43mself\u001b[39;49m\u001b[38;5;241;43m.\u001b[39;49m\u001b[43mca_certs\u001b[49m\u001b[43m,\u001b[49m\n\u001b[1;32m    649\u001b[0m \u001b[43m    \u001b[49m\u001b[43mca_cert_dir\u001b[49m\u001b[38;5;241;43m=\u001b[39;49m\u001b[38;5;28;43mself\u001b[39;49m\u001b[38;5;241;43m.\u001b[39;49m\u001b[43mca_cert_dir\u001b[49m\u001b[43m,\u001b[49m\n\u001b[1;32m    650\u001b[0m \u001b[43m    \u001b[49m\u001b[43mca_cert_data\u001b[49m\u001b[38;5;241;43m=\u001b[39;49m\u001b[38;5;28;43mself\u001b[39;49m\u001b[38;5;241;43m.\u001b[39;49m\u001b[43mca_cert_data\u001b[49m\u001b[43m,\u001b[49m\n\u001b[1;32m    651\u001b[0m \u001b[43m    \u001b[49m\u001b[43mcert_file\u001b[49m\u001b[38;5;241;43m=\u001b[39;49m\u001b[38;5;28;43mself\u001b[39;49m\u001b[38;5;241;43m.\u001b[39;49m\u001b[43mcert_file\u001b[49m\u001b[43m,\u001b[49m\n\u001b[1;32m    652\u001b[0m \u001b[43m    \u001b[49m\u001b[43mkey_file\u001b[49m\u001b[38;5;241;43m=\u001b[39;49m\u001b[38;5;28;43mself\u001b[39;49m\u001b[38;5;241;43m.\u001b[39;49m\u001b[43mkey_file\u001b[49m\u001b[43m,\u001b[49m\n\u001b[1;32m    653\u001b[0m \u001b[43m    \u001b[49m\u001b[43mkey_password\u001b[49m\u001b[38;5;241;43m=\u001b[39;49m\u001b[38;5;28;43mself\u001b[39;49m\u001b[38;5;241;43m.\u001b[39;49m\u001b[43mkey_password\u001b[49m\u001b[43m,\u001b[49m\n\u001b[1;32m    654\u001b[0m \u001b[43m    \u001b[49m\u001b[43mserver_hostname\u001b[49m\u001b[38;5;241;43m=\u001b[39;49m\u001b[43mserver_hostname\u001b[49m\u001b[43m,\u001b[49m\n\u001b[1;32m    655\u001b[0m \u001b[43m    \u001b[49m\u001b[43mssl_context\u001b[49m\u001b[38;5;241;43m=\u001b[39;49m\u001b[38;5;28;43mself\u001b[39;49m\u001b[38;5;241;43m.\u001b[39;49m\u001b[43mssl_context\u001b[49m\u001b[43m,\u001b[49m\n\u001b[1;32m    656\u001b[0m \u001b[43m    \u001b[49m\u001b[43mtls_in_tls\u001b[49m\u001b[38;5;241;43m=\u001b[39;49m\u001b[43mtls_in_tls\u001b[49m\u001b[43m,\u001b[49m\n\u001b[1;32m    657\u001b[0m \u001b[43m    \u001b[49m\u001b[43massert_hostname\u001b[49m\u001b[38;5;241;43m=\u001b[39;49m\u001b[38;5;28;43mself\u001b[39;49m\u001b[38;5;241;43m.\u001b[39;49m\u001b[43massert_hostname\u001b[49m\u001b[43m,\u001b[49m\n\u001b[1;32m    658\u001b[0m \u001b[43m    \u001b[49m\u001b[43massert_fingerprint\u001b[49m\u001b[38;5;241;43m=\u001b[39;49m\u001b[38;5;28;43mself\u001b[39;49m\u001b[38;5;241;43m.\u001b[39;49m\u001b[43massert_fingerprint\u001b[49m\u001b[43m,\u001b[49m\n\u001b[1;32m    659\u001b[0m \u001b[43m\u001b[49m\u001b[43m)\u001b[49m\n\u001b[1;32m    660\u001b[0m \u001b[38;5;28mself\u001b[39m\u001b[38;5;241m.\u001b[39msock \u001b[38;5;241m=\u001b[39m sock_and_verified\u001b[38;5;241m.\u001b[39msocket\n\u001b[1;32m    661\u001b[0m \u001b[38;5;28mself\u001b[39m\u001b[38;5;241m.\u001b[39mis_verified \u001b[38;5;241m=\u001b[39m sock_and_verified\u001b[38;5;241m.\u001b[39mis_verified\n",
      "File \u001b[0;32m~/miniconda3/envs/nge/lib/python3.10/site-packages/urllib3/connection.py:782\u001b[0m, in \u001b[0;36m_ssl_wrap_socket_and_match_hostname\u001b[0;34m(sock, cert_reqs, ssl_version, ssl_minimum_version, ssl_maximum_version, cert_file, key_file, key_password, ca_certs, ca_cert_dir, ca_cert_data, assert_hostname, assert_fingerprint, server_hostname, ssl_context, tls_in_tls)\u001b[0m\n\u001b[1;32m    779\u001b[0m     \u001b[38;5;28;01mif\u001b[39;00m is_ipaddress(normalized):\n\u001b[1;32m    780\u001b[0m         server_hostname \u001b[38;5;241m=\u001b[39m normalized\n\u001b[0;32m--> 782\u001b[0m ssl_sock \u001b[38;5;241m=\u001b[39m \u001b[43mssl_wrap_socket\u001b[49m\u001b[43m(\u001b[49m\n\u001b[1;32m    783\u001b[0m \u001b[43m    \u001b[49m\u001b[43msock\u001b[49m\u001b[38;5;241;43m=\u001b[39;49m\u001b[43msock\u001b[49m\u001b[43m,\u001b[49m\n\u001b[1;32m    784\u001b[0m \u001b[43m    \u001b[49m\u001b[43mkeyfile\u001b[49m\u001b[38;5;241;43m=\u001b[39;49m\u001b[43mkey_file\u001b[49m\u001b[43m,\u001b[49m\n\u001b[1;32m    785\u001b[0m \u001b[43m    \u001b[49m\u001b[43mcertfile\u001b[49m\u001b[38;5;241;43m=\u001b[39;49m\u001b[43mcert_file\u001b[49m\u001b[43m,\u001b[49m\n\u001b[1;32m    786\u001b[0m \u001b[43m    \u001b[49m\u001b[43mkey_password\u001b[49m\u001b[38;5;241;43m=\u001b[39;49m\u001b[43mkey_password\u001b[49m\u001b[43m,\u001b[49m\n\u001b[1;32m    787\u001b[0m \u001b[43m    \u001b[49m\u001b[43mca_certs\u001b[49m\u001b[38;5;241;43m=\u001b[39;49m\u001b[43mca_certs\u001b[49m\u001b[43m,\u001b[49m\n\u001b[1;32m    788\u001b[0m \u001b[43m    \u001b[49m\u001b[43mca_cert_dir\u001b[49m\u001b[38;5;241;43m=\u001b[39;49m\u001b[43mca_cert_dir\u001b[49m\u001b[43m,\u001b[49m\n\u001b[1;32m    789\u001b[0m \u001b[43m    \u001b[49m\u001b[43mca_cert_data\u001b[49m\u001b[38;5;241;43m=\u001b[39;49m\u001b[43mca_cert_data\u001b[49m\u001b[43m,\u001b[49m\n\u001b[1;32m    790\u001b[0m \u001b[43m    \u001b[49m\u001b[43mserver_hostname\u001b[49m\u001b[38;5;241;43m=\u001b[39;49m\u001b[43mserver_hostname\u001b[49m\u001b[43m,\u001b[49m\n\u001b[1;32m    791\u001b[0m \u001b[43m    \u001b[49m\u001b[43mssl_context\u001b[49m\u001b[38;5;241;43m=\u001b[39;49m\u001b[43mcontext\u001b[49m\u001b[43m,\u001b[49m\n\u001b[1;32m    792\u001b[0m \u001b[43m    \u001b[49m\u001b[43mtls_in_tls\u001b[49m\u001b[38;5;241;43m=\u001b[39;49m\u001b[43mtls_in_tls\u001b[49m\u001b[43m,\u001b[49m\n\u001b[1;32m    793\u001b[0m \u001b[43m\u001b[49m\u001b[43m)\u001b[49m\n\u001b[1;32m    795\u001b[0m \u001b[38;5;28;01mtry\u001b[39;00m:\n\u001b[1;32m    796\u001b[0m     \u001b[38;5;28;01mif\u001b[39;00m assert_fingerprint:\n",
      "File \u001b[0;32m~/miniconda3/envs/nge/lib/python3.10/site-packages/urllib3/util/ssl_.py:445\u001b[0m, in \u001b[0;36mssl_wrap_socket\u001b[0;34m(sock, keyfile, certfile, cert_reqs, ca_certs, server_hostname, ssl_version, ciphers, ssl_context, ca_cert_dir, key_password, ca_cert_data, tls_in_tls)\u001b[0m\n\u001b[1;32m    443\u001b[0m \u001b[38;5;28;01mif\u001b[39;00m ca_certs \u001b[38;5;129;01mor\u001b[39;00m ca_cert_dir \u001b[38;5;129;01mor\u001b[39;00m ca_cert_data:\n\u001b[1;32m    444\u001b[0m     \u001b[38;5;28;01mtry\u001b[39;00m:\n\u001b[0;32m--> 445\u001b[0m         \u001b[43mcontext\u001b[49m\u001b[38;5;241;43m.\u001b[39;49m\u001b[43mload_verify_locations\u001b[49m\u001b[43m(\u001b[49m\u001b[43mca_certs\u001b[49m\u001b[43m,\u001b[49m\u001b[43m \u001b[49m\u001b[43mca_cert_dir\u001b[49m\u001b[43m,\u001b[49m\u001b[43m \u001b[49m\u001b[43mca_cert_data\u001b[49m\u001b[43m)\u001b[49m\n\u001b[1;32m    446\u001b[0m     \u001b[38;5;28;01mexcept\u001b[39;00m \u001b[38;5;167;01mOSError\u001b[39;00m \u001b[38;5;28;01mas\u001b[39;00m e:\n\u001b[1;32m    447\u001b[0m         \u001b[38;5;28;01mraise\u001b[39;00m SSLError(e) \u001b[38;5;28;01mfrom\u001b[39;00m \u001b[38;5;21;01me\u001b[39;00m\n",
      "\u001b[0;31mKeyboardInterrupt\u001b[0m: "
     ]
    }
   ],
   "source": [
    "all_assertions = []\n",
    "i = 0\n",
    "for e in tqdm(evidence):\n",
    "    try:\n",
    "        #pass\n",
    "        all_assertions.extend(get_assertions(e))\n",
    "    except AttributeError as ex:\n",
    "        print(e.name, ex)\n",
    "        break\n",
    "        i+=1\n",
    "print(i / len(evidence))"
   ]
  },
  {
   "cell_type": "code",
   "execution_count": 50,
   "id": "715c3cd5-ceb4-40bc-87a0-47d22d1696b4",
   "metadata": {
    "tags": []
   },
   "outputs": [],
   "source": [
    "import integration.orm.civic as orm\n",
    "#from integration.parsers import Parser"
   ]
  },
  {
   "cell_type": "code",
   "execution_count": 51,
   "id": "4b95cec7-f0f2-4480-804d-0126132722be",
   "metadata": {
    "tags": []
   },
   "outputs": [],
   "source": [
    "def parse_evidence(\n",
    "    evidence: civic.Evidence,\n",
    "    parsed_sources,\n",
    ") -> orm.Evidence:\n",
    "    \"\"\"Parse a civic Evidence object to its ORM representation.\"\"\"\n",
    "    #has_attached_disease = isinstance(evidence.disease, civic.Disease)\n",
    "    #if evidence.source.id in parsed_sources.keys():\n",
    "    #    source = parsed_sources[evidence.source.id]\n",
    "    #else:\n",
    "    #    source = parse_source(evidence.source)\n",
    "    #   parsed_sources[evidence.source.id] = source\n",
    "    return orm.Evidence(\n",
    "        #description=evidence.description,\n",
    "        #name=evidence.name,\n",
    "        #direction=evidence.evidence_direction,\n",
    "        assertions=[parse_assertion(a) for a in evidence.assertions],\n",
    "        #level=evidence.evidence_level,\n",
    "        #type_=evidence.evidence_type,\n",
    "        #rating=evidence.rating,\n",
    "        #significance=evidence.significance,\n",
    "        #status=evidence.status,\n",
    "        #disease_name=evidence.disease.name if has_attached_disease else None,\n",
    "        #disease_display_name=evidence.disease.display_name\n",
    "        #if has_attached_disease\n",
    "        #else None,\n",
    "        #disease_do_id=int(evidence.disease.doid)\n",
    "        #if has_attached_disease and evidence.disease.doid\n",
    "        #else None,\n",
    "        #disease_do_id_url=evidence.disease.disease_url\n",
    "        #if has_attached_disease\n",
    "        #else None,\n",
    "        #disease_cui=normalizer.do_id_to_cui(evidence.disease.doid)\n",
    "        #if has_attached_disease\n",
    "        #else None,\n",
    "        #source=source,\n",
    "        #molecular_profile_id=int(evidence.molecular_profile_id),\n",
    "        #phenotypes=[parse_phenotype(p, normalizer) for p in evidence.phenotypes],\n",
    "        #therapies=[parse_therapy(t, normalizer) for t in evidence.therapies],\n",
    "    )"
   ]
  },
  {
   "cell_type": "code",
   "execution_count": 52,
   "id": "14ed89eb-2a12-4562-a289-f9d54aa4a649",
   "metadata": {
    "tags": []
   },
   "outputs": [],
   "source": [
    "def parse_assertion(assertion: civic.Assertion) -> orm.Assertion:\n",
    "    return None\n",
    "    \"\"\"Parse a civic Assertion object to its ORM representation.\"\"\"\n",
    "    return orm.Assertion(\n",
    "        name=assertion.name,\n",
    "        assertion_type=assertion.assertion_type,\n",
    "        assertion_direction=assertion.assertion_direction,\n",
    "        molecular_profile_id=int(assertion.molecular_profile_id),\n",
    "        description=assertion.description,\n",
    "        summary=assertion.summary,\n",
    "        status=assertion.status,\n",
    "        variant_origin=assertion.variant_origin,\n",
    "        significance=assertion.significance,\n",
    "        nccn_guideline_version=assertion.nccn_guideline_version,\n",
    "        nccn_guideline_name=assertion.nccn_guideline.get(\"name\")\n",
    "        if isinstance(assertion.nccn_guideline, dict)\n",
    "        else None,\n",
    "        fda_regulatory_approval=assertion.fda_regulatory_approval,\n",
    "        fda_companion_test=assertion.fda_companion_test,\n",
    "        amp_level=assertion.amp_level,\n",
    "    )\n"
   ]
  },
  {
   "cell_type": "code",
   "execution_count": 53,
   "id": "16a51c40-fe10-4d7b-8f12-49c99e5c1fb6",
   "metadata": {
    "tags": []
   },
   "outputs": [],
   "source": [
    "def parse_source(source: civic.Source) -> orm.Source:\n",
    "    \"\"\"Parse a civic Source object to its ORM representation.\"\"\"\n",
    "    return orm.Source(\n",
    "        id=source.id,\n",
    "        name=source.name,\n",
    "        title=source.title,\n",
    "        abstract=source.abstract,\n",
    "        citation=source.citation,\n",
    "        citation_id=source.citation_id,\n",
    "        source_type=source.source_type,\n",
    "        asco_abstract_id=source.asco_abstract_id,\n",
    "        author_string=source.author_string,\n",
    "        journal=source.full_journal_title,\n",
    "        #date_publication=parse_publication_date(source.publication_date),\n",
    "        pmc_id=source.pmc_id,\n",
    "        #pm_id=get_pm_id_from_source_url(source.source_url),\n",
    "        source_url=source.source_url,\n",
    "        #clinical_trials=[parse_clinical_trial(t) for t in source.clinical_trials],\n",
    "        #flags=orm.Flags(),\n",
    "    )"
   ]
  },
  {
   "cell_type": "code",
   "execution_count": 54,
   "id": "18e5d2e0-631f-4d2a-9f23-0f966f324fcc",
   "metadata": {
    "tags": []
   },
   "outputs": [
    {
     "data": {
      "application/vnd.jupyter.widget-view+json": {
       "model_id": "eb8eb1cc11fc4c70a95fc3fc62836fe8",
       "version_major": 2,
       "version_minor": 0
      },
      "text/plain": [
       "  0%|          | 0/10939 [00:00<?, ?it/s]"
      ]
     },
     "metadata": {},
     "output_type": "display_data"
    },
    {
     "ename": "AttributeError",
     "evalue": "Expected evidence_items attribute for assertion, none found.",
     "output_type": "error",
     "traceback": [
      "\u001b[0;31m---------------------------------------------------------------------------\u001b[0m",
      "\u001b[0;31mKeyError\u001b[0m                                  Traceback (most recent call last)",
      "File \u001b[0;32m~/miniconda3/envs/nge/lib/python3.10/site-packages/civicpy/civic.py:351\u001b[0m, in \u001b[0;36mCivicRecord.__init__\u001b[0;34m(self, partial, **kwargs)\u001b[0m\n\u001b[1;32m    350\u001b[0m \u001b[38;5;28;01mtry\u001b[39;00m:\n\u001b[0;32m--> 351\u001b[0m     v \u001b[38;5;241m=\u001b[39m \u001b[43mkwargs\u001b[49m\u001b[43m[\u001b[49m\u001b[43mfield\u001b[49m\u001b[43m]\u001b[49m\n\u001b[1;32m    352\u001b[0m     \u001b[38;5;28;01mif\u001b[39;00m v \u001b[38;5;129;01mis\u001b[39;00m \u001b[38;5;28;01mNone\u001b[39;00m:\n",
      "\u001b[0;31mKeyError\u001b[0m: 'evidence_items'",
      "\nDuring handling of the above exception, another exception occurred:\n",
      "\u001b[0;31mAttributeError\u001b[0m                            Traceback (most recent call last)",
      "Cell \u001b[0;32mIn[54], line 3\u001b[0m\n\u001b[1;32m      1\u001b[0m \u001b[38;5;28;01mfrom\u001b[39;00m \u001b[38;5;21;01mtqdm\u001b[39;00m\u001b[38;5;21;01m.\u001b[39;00m\u001b[38;5;21;01mauto\u001b[39;00m \u001b[38;5;28;01mimport\u001b[39;00m tqdm\n\u001b[1;32m      2\u001b[0m \u001b[38;5;28;01mfor\u001b[39;00m e \u001b[38;5;129;01min\u001b[39;00m tqdm(evidence):\n\u001b[0;32m----> 3\u001b[0m     \u001b[43mparse_evidence\u001b[49m\u001b[43m(\u001b[49m\u001b[43me\u001b[49m\u001b[43m,\u001b[49m\u001b[43m \u001b[49m\u001b[43m{\u001b[49m\u001b[43m}\u001b[49m\u001b[43m)\u001b[49m\n",
      "Cell \u001b[0;32mIn[51], line 16\u001b[0m, in \u001b[0;36mparse_evidence\u001b[0;34m(evidence, parsed_sources)\u001b[0m\n\u001b[1;32m      5\u001b[0m \u001b[38;5;250m\u001b[39m\u001b[38;5;124;03m\"\"\"Parse a civic Evidence object to its ORM representation.\"\"\"\u001b[39;00m\n\u001b[1;32m      6\u001b[0m \u001b[38;5;66;03m#has_attached_disease = isinstance(evidence.disease, civic.Disease)\u001b[39;00m\n\u001b[1;32m      7\u001b[0m \u001b[38;5;66;03m#if evidence.source.id in parsed_sources.keys():\u001b[39;00m\n\u001b[1;32m      8\u001b[0m \u001b[38;5;66;03m#    source = parsed_sources[evidence.source.id]\u001b[39;00m\n\u001b[1;32m      9\u001b[0m \u001b[38;5;66;03m#else:\u001b[39;00m\n\u001b[1;32m     10\u001b[0m \u001b[38;5;66;03m#    source = parse_source(evidence.source)\u001b[39;00m\n\u001b[1;32m     11\u001b[0m \u001b[38;5;66;03m#   parsed_sources[evidence.source.id] = source\u001b[39;00m\n\u001b[1;32m     12\u001b[0m \u001b[38;5;28;01mreturn\u001b[39;00m orm\u001b[38;5;241m.\u001b[39mEvidence(\n\u001b[1;32m     13\u001b[0m     \u001b[38;5;66;03m#description=evidence.description,\u001b[39;00m\n\u001b[1;32m     14\u001b[0m     \u001b[38;5;66;03m#name=evidence.name,\u001b[39;00m\n\u001b[1;32m     15\u001b[0m     \u001b[38;5;66;03m#direction=evidence.evidence_direction,\u001b[39;00m\n\u001b[0;32m---> 16\u001b[0m     assertions\u001b[38;5;241m=\u001b[39m[parse_assertion(a) \u001b[38;5;28;01mfor\u001b[39;00m a \u001b[38;5;129;01min\u001b[39;00m \u001b[43mevidence\u001b[49m\u001b[38;5;241;43m.\u001b[39;49m\u001b[43massertions\u001b[49m],\n\u001b[1;32m     17\u001b[0m     \u001b[38;5;66;03m#level=evidence.evidence_level,\u001b[39;00m\n\u001b[1;32m     18\u001b[0m     \u001b[38;5;66;03m#type_=evidence.evidence_type,\u001b[39;00m\n\u001b[1;32m     19\u001b[0m     \u001b[38;5;66;03m#rating=evidence.rating,\u001b[39;00m\n\u001b[1;32m     20\u001b[0m     \u001b[38;5;66;03m#significance=evidence.significance,\u001b[39;00m\n\u001b[1;32m     21\u001b[0m     \u001b[38;5;66;03m#status=evidence.status,\u001b[39;00m\n\u001b[1;32m     22\u001b[0m     \u001b[38;5;66;03m#disease_name=evidence.disease.name if has_attached_disease else None,\u001b[39;00m\n\u001b[1;32m     23\u001b[0m     \u001b[38;5;66;03m#disease_display_name=evidence.disease.display_name\u001b[39;00m\n\u001b[1;32m     24\u001b[0m     \u001b[38;5;66;03m#if has_attached_disease\u001b[39;00m\n\u001b[1;32m     25\u001b[0m     \u001b[38;5;66;03m#else None,\u001b[39;00m\n\u001b[1;32m     26\u001b[0m     \u001b[38;5;66;03m#disease_do_id=int(evidence.disease.doid)\u001b[39;00m\n\u001b[1;32m     27\u001b[0m     \u001b[38;5;66;03m#if has_attached_disease and evidence.disease.doid\u001b[39;00m\n\u001b[1;32m     28\u001b[0m     \u001b[38;5;66;03m#else None,\u001b[39;00m\n\u001b[1;32m     29\u001b[0m     \u001b[38;5;66;03m#disease_do_id_url=evidence.disease.disease_url\u001b[39;00m\n\u001b[1;32m     30\u001b[0m     \u001b[38;5;66;03m#if has_attached_disease\u001b[39;00m\n\u001b[1;32m     31\u001b[0m     \u001b[38;5;66;03m#else None,\u001b[39;00m\n\u001b[1;32m     32\u001b[0m     \u001b[38;5;66;03m#disease_cui=normalizer.do_id_to_cui(evidence.disease.doid)\u001b[39;00m\n\u001b[1;32m     33\u001b[0m     \u001b[38;5;66;03m#if has_attached_disease\u001b[39;00m\n\u001b[1;32m     34\u001b[0m     \u001b[38;5;66;03m#else None,\u001b[39;00m\n\u001b[1;32m     35\u001b[0m     \u001b[38;5;66;03m#source=source,\u001b[39;00m\n\u001b[1;32m     36\u001b[0m     \u001b[38;5;66;03m#molecular_profile_id=int(evidence.molecular_profile_id),\u001b[39;00m\n\u001b[1;32m     37\u001b[0m     \u001b[38;5;66;03m#phenotypes=[parse_phenotype(p, normalizer) for p in evidence.phenotypes],\u001b[39;00m\n\u001b[1;32m     38\u001b[0m     \u001b[38;5;66;03m#therapies=[parse_therapy(t, normalizer) for t in evidence.therapies],\u001b[39;00m\n\u001b[1;32m     39\u001b[0m )\n",
      "File \u001b[0;32m~/miniconda3/envs/nge/lib/python3.10/site-packages/civicpy/civic.py:394\u001b[0m, in \u001b[0;36mCivicRecord.__getattr__\u001b[0;34m(self, item)\u001b[0m\n\u001b[1;32m    392\u001b[0m \u001b[38;5;28;01mif\u001b[39;00m \u001b[38;5;28mself\u001b[39m\u001b[38;5;241m.\u001b[39m_partial \u001b[38;5;129;01mand\u001b[39;00m item \u001b[38;5;129;01min\u001b[39;00m \u001b[38;5;28mself\u001b[39m\u001b[38;5;241m.\u001b[39m_incomplete:\n\u001b[1;32m    393\u001b[0m     \u001b[38;5;28mself\u001b[39m\u001b[38;5;241m.\u001b[39mupdate()\n\u001b[0;32m--> 394\u001b[0m \u001b[38;5;28;01mreturn\u001b[39;00m \u001b[38;5;28;43mobject\u001b[39;49m\u001b[38;5;241;43m.\u001b[39;49m\u001b[38;5;21;43m__getattribute__\u001b[39;49m\u001b[43m(\u001b[49m\u001b[38;5;28;43mself\u001b[39;49m\u001b[43m,\u001b[49m\u001b[43m \u001b[49m\u001b[43mitem\u001b[49m\u001b[43m)\u001b[49m\n",
      "File \u001b[0;32m~/miniconda3/envs/nge/lib/python3.10/site-packages/civicpy/civic.py:904\u001b[0m, in \u001b[0;36mEvidence.assertions\u001b[0;34m(self)\u001b[0m\n\u001b[1;32m    902\u001b[0m \u001b[38;5;129m@property\u001b[39m\n\u001b[1;32m    903\u001b[0m \u001b[38;5;28;01mdef\u001b[39;00m \u001b[38;5;21massertions\u001b[39m(\u001b[38;5;28mself\u001b[39m):\n\u001b[0;32m--> 904\u001b[0m     \u001b[38;5;28;01mreturn\u001b[39;00m [a \u001b[38;5;28;01mfor\u001b[39;00m a \u001b[38;5;129;01min\u001b[39;00m \u001b[38;5;28mself\u001b[39m\u001b[38;5;241m.\u001b[39m_assertions \u001b[38;5;28;01mif\u001b[39;00m a\u001b[38;5;241m.\u001b[39mstatus \u001b[38;5;129;01min\u001b[39;00m \u001b[38;5;28mself\u001b[39m\u001b[38;5;241m.\u001b[39m_include_status]\n",
      "File \u001b[0;32m~/miniconda3/envs/nge/lib/python3.10/site-packages/civicpy/civic.py:904\u001b[0m, in \u001b[0;36m<listcomp>\u001b[0;34m(.0)\u001b[0m\n\u001b[1;32m    902\u001b[0m \u001b[38;5;129m@property\u001b[39m\n\u001b[1;32m    903\u001b[0m \u001b[38;5;28;01mdef\u001b[39;00m \u001b[38;5;21massertions\u001b[39m(\u001b[38;5;28mself\u001b[39m):\n\u001b[0;32m--> 904\u001b[0m     \u001b[38;5;28;01mreturn\u001b[39;00m [a \u001b[38;5;28;01mfor\u001b[39;00m a \u001b[38;5;129;01min\u001b[39;00m \u001b[38;5;28mself\u001b[39m\u001b[38;5;241m.\u001b[39m_assertions \u001b[38;5;28;01mif\u001b[39;00m \u001b[43ma\u001b[49m\u001b[38;5;241;43m.\u001b[39;49m\u001b[43mstatus\u001b[49m \u001b[38;5;129;01min\u001b[39;00m \u001b[38;5;28mself\u001b[39m\u001b[38;5;241m.\u001b[39m_include_status]\n",
      "File \u001b[0;32m~/miniconda3/envs/nge/lib/python3.10/site-packages/civicpy/civic.py:393\u001b[0m, in \u001b[0;36mCivicRecord.__getattr__\u001b[0;34m(self, item)\u001b[0m\n\u001b[1;32m    391\u001b[0m \u001b[38;5;28;01mdef\u001b[39;00m \u001b[38;5;21m__getattr__\u001b[39m(\u001b[38;5;28mself\u001b[39m, item):\n\u001b[1;32m    392\u001b[0m     \u001b[38;5;28;01mif\u001b[39;00m \u001b[38;5;28mself\u001b[39m\u001b[38;5;241m.\u001b[39m_partial \u001b[38;5;129;01mand\u001b[39;00m item \u001b[38;5;129;01min\u001b[39;00m \u001b[38;5;28mself\u001b[39m\u001b[38;5;241m.\u001b[39m_incomplete:\n\u001b[0;32m--> 393\u001b[0m         \u001b[38;5;28;43mself\u001b[39;49m\u001b[38;5;241;43m.\u001b[39;49m\u001b[43mupdate\u001b[49m\u001b[43m(\u001b[49m\u001b[43m)\u001b[49m\n\u001b[1;32m    394\u001b[0m     \u001b[38;5;28;01mreturn\u001b[39;00m \u001b[38;5;28mobject\u001b[39m\u001b[38;5;241m.\u001b[39m\u001b[38;5;21m__getattribute__\u001b[39m(\u001b[38;5;28mself\u001b[39m, item)\n",
      "File \u001b[0;32m~/miniconda3/envs/nge/lib/python3.10/site-packages/civicpy/civic.py:428\u001b[0m, in \u001b[0;36mCivicRecord.update\u001b[0;34m(self, allow_partial, force, **kwargs)\u001b[0m\n\u001b[1;32m    426\u001b[0m     \u001b[38;5;28;01mreturn\u001b[39;00m \u001b[38;5;28;01mTrue\u001b[39;00m\n\u001b[1;32m    427\u001b[0m resp_dict \u001b[38;5;241m=\u001b[39m element_lookup_by_id(\u001b[38;5;28mself\u001b[39m\u001b[38;5;241m.\u001b[39mtype, \u001b[38;5;28mself\u001b[39m\u001b[38;5;241m.\u001b[39mid)\n\u001b[0;32m--> 428\u001b[0m \u001b[38;5;28;43mself\u001b[39;49m\u001b[38;5;241;43m.\u001b[39;49m\u001b[38;5;21;43m__init__\u001b[39;49m\u001b[43m(\u001b[49m\u001b[43mpartial\u001b[49m\u001b[38;5;241;43m=\u001b[39;49m\u001b[38;5;28;43;01mFalse\u001b[39;49;00m\u001b[43m,\u001b[49m\u001b[43m \u001b[49m\u001b[38;5;241;43m*\u001b[39;49m\u001b[38;5;241;43m*\u001b[39;49m\u001b[43mresp_dict\u001b[49m\u001b[43m)\u001b[49m\n\u001b[1;32m    429\u001b[0m \u001b[38;5;28;01mreturn\u001b[39;00m \u001b[38;5;28;01mTrue\u001b[39;00m\n",
      "File \u001b[0;32m~/miniconda3/envs/nge/lib/python3.10/site-packages/civicpy/civic.py:954\u001b[0m, in \u001b[0;36mAssertion.__init__\u001b[0;34m(self, **kwargs)\u001b[0m\n\u001b[1;32m    952\u001b[0m \u001b[38;5;28;01mdef\u001b[39;00m \u001b[38;5;21m__init__\u001b[39m(\u001b[38;5;28mself\u001b[39m, \u001b[38;5;241m*\u001b[39m\u001b[38;5;241m*\u001b[39mkwargs):\n\u001b[1;32m    953\u001b[0m     \u001b[38;5;28mself\u001b[39m\u001b[38;5;241m.\u001b[39m_evidence_items \u001b[38;5;241m=\u001b[39m []\n\u001b[0;32m--> 954\u001b[0m     \u001b[38;5;28;43msuper\u001b[39;49m\u001b[43m(\u001b[49m\u001b[43m)\u001b[49m\u001b[38;5;241;43m.\u001b[39;49m\u001b[38;5;21;43m__init__\u001b[39;49m\u001b[43m(\u001b[49m\u001b[38;5;241;43m*\u001b[39;49m\u001b[38;5;241;43m*\u001b[39;49m\u001b[43mkwargs\u001b[49m\u001b[43m)\u001b[49m\n",
      "File \u001b[0;32m~/miniconda3/envs/nge/lib/python3.10/site-packages/civicpy/civic.py:359\u001b[0m, in \u001b[0;36mCivicRecord.__init__\u001b[0;34m(self, partial, **kwargs)\u001b[0m\n\u001b[1;32m    357\u001b[0m         \u001b[38;5;28;01mcontinue\u001b[39;00m\n\u001b[1;32m    358\u001b[0m     \u001b[38;5;28;01melse\u001b[39;00m:\n\u001b[0;32m--> 359\u001b[0m         \u001b[38;5;28;01mraise\u001b[39;00m \u001b[38;5;167;01mAttributeError\u001b[39;00m(\u001b[38;5;124m'\u001b[39m\u001b[38;5;124mExpected \u001b[39m\u001b[38;5;132;01m{}\u001b[39;00m\u001b[38;5;124m attribute for \u001b[39m\u001b[38;5;132;01m{}\u001b[39;00m\u001b[38;5;124m, none found.\u001b[39m\u001b[38;5;124m'\u001b[39m\u001b[38;5;241m.\u001b[39mformat(field, \u001b[38;5;28mself\u001b[39m\u001b[38;5;241m.\u001b[39mtype))\n\u001b[1;32m    360\u001b[0m is_compound \u001b[38;5;241m=\u001b[39m \u001b[38;5;28misinstance\u001b[39m(v, \u001b[38;5;28mlist\u001b[39m)\n\u001b[1;32m    361\u001b[0m \u001b[38;5;28mcls\u001b[39m \u001b[38;5;241m=\u001b[39m get_class(field)\n",
      "\u001b[0;31mAttributeError\u001b[0m: Expected evidence_items attribute for assertion, none found."
     ]
    }
   ],
   "source": [
    "from tqdm.auto import tqdm\n",
    "for e in tqdm(evidence):\n",
    "    parse_evidence(e, {})"
   ]
  },
  {
   "cell_type": "code",
   "execution_count": 14,
   "id": "cc0dd29e-e905-4f96-86b7-cc73a3bfdfbe",
   "metadata": {
    "tags": []
   },
   "outputs": [],
   "source": [
    "from sqlalchemy import select"
   ]
  },
  {
   "cell_type": "code",
   "execution_count": 15,
   "id": "00158a64-fb09-4185-b937-25121e21dbb1",
   "metadata": {
    "tags": []
   },
   "outputs": [],
   "source": [
    "from api.app import app\n",
    "from fastapi.testclient import TestClient\n",
    "import os\n",
    "\n",
    "with TestClient(app) as client:\n",
    "    # Initialize state\n",
    "    pass    \n",
    "\n",
    "session = app.state.session()"
   ]
  },
  {
   "cell_type": "markdown",
   "id": "309fb070-90f4-44fb-81bb-7f626d5c5483",
   "metadata": {},
   "source": [
    "# GGPONC"
   ]
  },
  {
   "cell_type": "code",
   "execution_count": 16,
   "id": "0ea8da8d-8425-4bfb-99c1-dff6e5f478b6",
   "metadata": {
    "tags": []
   },
   "outputs": [],
   "source": [
    "from integration.orm import ggponc"
   ]
  },
  {
   "cell_type": "code",
   "execution_count": 17,
   "id": "d30139b8-ef1c-4815-ab55-e90462c7ab82",
   "metadata": {
    "tags": []
   },
   "outputs": [
    {
     "data": {
      "text/plain": [
       "34"
      ]
     },
     "execution_count": 17,
     "metadata": {},
     "output_type": "execute_result"
    }
   ],
   "source": [
    "len(session.scalars(select(ggponc.Guideline)).fetchall())"
   ]
  },
  {
   "cell_type": "code",
   "execution_count": 18,
   "id": "27729c99-c10b-4c22-b44d-59f16bca62b9",
   "metadata": {
    "tags": []
   },
   "outputs": [],
   "source": [
    "import pandas as pd\n",
    "\n",
    "def top_10(cuis):\n",
    "    s = pd.Series(cuis).value_counts()[0:10]\n",
    "    df = pd.DataFrame(s)\n",
    "    df['name'] = df.index.map(app.state.concept_parser.umls_parser.get_umls_text)\n",
    "    return df\n",
    "\n",
    "def assert_not_null(cuis):\n",
    "    assert all([c != None for c in cuis])"
   ]
  },
  {
   "cell_type": "code",
   "execution_count": 19,
   "id": "f3ebe028-dfbf-4919-b207-a0818c8a1d15",
   "metadata": {
    "tags": []
   },
   "outputs": [
    {
     "data": {
      "text/plain": [
       "(17530, 39, 17491)"
      ]
     },
     "execution_count": 19,
     "metadata": {},
     "output_type": "execute_result"
    }
   ],
   "source": [
    "top_pop = session.scalars(select(ggponc.Population.cui)).fetchall()\n",
    "all_pops = session.scalars(select(ggponc.SubPopulation.cui)).fetchall()\n",
    "ggponc_pops = top_pop + all_pops\n",
    "assert_not_null(ggponc_pops)\n",
    "len(ggponc_pops), len(top_pop), len(all_pops)"
   ]
  },
  {
   "cell_type": "code",
   "execution_count": 20,
   "id": "e4cae481-2f21-4a6b-a2e8-55a15676afd5",
   "metadata": {
    "tags": []
   },
   "outputs": [
    {
     "data": {
      "text/plain": [
       "(17530, 12005)"
      ]
     },
     "execution_count": 20,
     "metadata": {},
     "output_type": "execute_result"
    }
   ],
   "source": [
    "len(ggponc_pops), len(set(ggponc_pops))"
   ]
  },
  {
   "cell_type": "code",
   "execution_count": 21,
   "id": "a1c37f0c-7aef-4eb7-9f64-f61c8836db2f",
   "metadata": {
    "tags": []
   },
   "outputs": [],
   "source": [
    "ggponc_intv = session.scalars(select(ggponc.Entity.cui).where(ggponc.Entity.type_.in_(['Clinical_Drug', 'Therapeutic', 'Diagnostic']))).fetchall()\n",
    "assert_not_null(ggponc_intv)"
   ]
  },
  {
   "cell_type": "code",
   "execution_count": 22,
   "id": "49eecf6d-da5e-4bfd-bc49-3d778ed86578",
   "metadata": {
    "tags": []
   },
   "outputs": [
    {
     "data": {
      "text/plain": [
       "(129119, 15852)"
      ]
     },
     "execution_count": 22,
     "metadata": {},
     "output_type": "execute_result"
    }
   ],
   "source": [
    "len(ggponc_intv), len(set(ggponc_intv))"
   ]
  },
  {
   "cell_type": "code",
   "execution_count": 23,
   "id": "67db00b3-1f29-4e32-bb5f-7d1fb7fb3b11",
   "metadata": {
    "tags": []
   },
   "outputs": [
    {
     "data": {
      "text/html": [
       "<div>\n",
       "<style scoped>\n",
       "    .dataframe tbody tr th:only-of-type {\n",
       "        vertical-align: middle;\n",
       "    }\n",
       "\n",
       "    .dataframe tbody tr th {\n",
       "        vertical-align: top;\n",
       "    }\n",
       "\n",
       "    .dataframe thead th {\n",
       "        text-align: right;\n",
       "    }\n",
       "</style>\n",
       "<table border=\"1\" class=\"dataframe\">\n",
       "  <thead>\n",
       "    <tr style=\"text-align: right;\">\n",
       "      <th></th>\n",
       "      <th>0</th>\n",
       "      <th>name</th>\n",
       "    </tr>\n",
       "  </thead>\n",
       "  <tbody>\n",
       "    <tr>\n",
       "      <th>C0087111</th>\n",
       "      <td>4329</td>\n",
       "      <td>Therapeutic Procedure</td>\n",
       "    </tr>\n",
       "    <tr>\n",
       "      <th>C1522449</th>\n",
       "      <td>2618</td>\n",
       "      <td>Radiation Therapy</td>\n",
       "    </tr>\n",
       "    <tr>\n",
       "      <th>C3665472</th>\n",
       "      <td>2329</td>\n",
       "      <td>Chemotherapy</td>\n",
       "    </tr>\n",
       "    <tr>\n",
       "      <th>C0184661</th>\n",
       "      <td>1427</td>\n",
       "      <td>Intervention or Procedure</td>\n",
       "    </tr>\n",
       "    <tr>\n",
       "      <th>C0543467</th>\n",
       "      <td>1374</td>\n",
       "      <td>Surgical Procedure</td>\n",
       "    </tr>\n",
       "    <tr>\n",
       "      <th>C0011900</th>\n",
       "      <td>1192</td>\n",
       "      <td>Diagnosis</td>\n",
       "    </tr>\n",
       "    <tr>\n",
       "      <th>C0436307</th>\n",
       "      <td>1014</td>\n",
       "      <td>Chemoradiotherapy</td>\n",
       "    </tr>\n",
       "    <tr>\n",
       "      <th>C0030231</th>\n",
       "      <td>938</td>\n",
       "      <td>Palliative Therapy</td>\n",
       "    </tr>\n",
       "    <tr>\n",
       "      <th>C0008838</th>\n",
       "      <td>719</td>\n",
       "      <td>Cisplatin</td>\n",
       "    </tr>\n",
       "    <tr>\n",
       "      <th>C1699633</th>\n",
       "      <td>691</td>\n",
       "      <td>Positron Emission Tomography and Computed Tomo...</td>\n",
       "    </tr>\n",
       "  </tbody>\n",
       "</table>\n",
       "</div>"
      ],
      "text/plain": [
       "             0                                               name\n",
       "C0087111  4329                              Therapeutic Procedure\n",
       "C1522449  2618                                  Radiation Therapy\n",
       "C3665472  2329                                       Chemotherapy\n",
       "C0184661  1427                          Intervention or Procedure\n",
       "C0543467  1374                                 Surgical Procedure\n",
       "C0011900  1192                                          Diagnosis\n",
       "C0436307  1014                                  Chemoradiotherapy\n",
       "C0030231   938                                 Palliative Therapy\n",
       "C0008838   719                                          Cisplatin\n",
       "C1699633   691  Positron Emission Tomography and Computed Tomo..."
      ]
     },
     "execution_count": 23,
     "metadata": {},
     "output_type": "execute_result"
    }
   ],
   "source": [
    "top_10(ggponc_intv)"
   ]
  },
  {
   "cell_type": "code",
   "execution_count": 24,
   "id": "9d773883-37f6-48e3-8154-249fb0b6032e",
   "metadata": {
    "tags": []
   },
   "outputs": [],
   "source": [
    "cuis_l1 = app.state.relationship_mapper.get_related_concepts('C0033578', direction='broad2narrow', max_depth=1)"
   ]
  },
  {
   "cell_type": "code",
   "execution_count": 25,
   "id": "fa0b7b2d-3a0d-40c3-8929-a1cf30e831db",
   "metadata": {
    "tags": []
   },
   "outputs": [
    {
     "name": "stdout",
     "output_type": "stream",
     "text": [
      "C1335409 Prostate Phyllodes Tumor\n",
      "C2678479 Prostate Cancer, Hereditary, 12\n",
      "C0154088 Carcinoma in situ of prostate\n",
      "C1970192 Prostate Cancer, Hereditary, 10\n",
      "C3658267 Prostatic Neoplasms, Castration-Resistant\n",
      "C1335515 Prostate Neuroendocrine Neoplasm\n",
      "C1864472 PROSTATE CANCER, HEREDITARY, 8\n",
      "C1837595 PROSTATE CANCER, HEREDITARY, 3\n",
      "C1836436 Prostate Cancer, Hereditary, 5\n",
      "C0282612 Prostatic Intraepithelial Neoplasia\n",
      "C1836005 Prostate Cancer, Hereditary, 6\n",
      "C5206985 Prostate Soft Tissue Neoplasm\n",
      "C1837593 Prostate Cancer, Hereditary, 4\n",
      "C1332353 Atypical Small Acinar Proliferation of the Prostate Gland\n",
      "C0496923 Neoplasm of uncertain behavior of prostate\n",
      "C0376358 Prostate cancer\n",
      "C2677771 Prostate Cancer, Hereditary, 15\n",
      "C1334615 Malignant Prostate Phyllodes Tumor\n",
      "C0154009 Benign Prostate Neoplasm\n",
      "C1853195 Prostate Cancer, Hereditary, 7\n",
      "C2677773 Prostate Cancer, Hereditary, 11\n",
      "C4759295 Non-metastatic prostate cancer\n",
      "C2678047 Prostate Cancer, Hereditary, X-Linked 2\n",
      "C2677772 Prostate Cancer, Hereditary, 14\n",
      "C1970250 Prostate Cancer, Hereditary, 9\n",
      "C2931456 Familial prostate cancer\n",
      "C2677821 Prostate Cancer, Hereditary, 13\n"
     ]
    }
   ],
   "source": [
    "for c in cuis_l1:\n",
    "    print(c, app.state.concept_parser.umls_parser.get_umls_text(c))"
   ]
  },
  {
   "cell_type": "code",
   "execution_count": 26,
   "id": "43752efa-79bd-4ef8-a009-adea2db5403f",
   "metadata": {
    "tags": []
   },
   "outputs": [
    {
     "name": "stdout",
     "output_type": "stream",
     "text": [
      "C1335514 Prostate Myeloid Sarcoma\n",
      "C5205938 Prostate Melanoma\n",
      "C0280280 None\n",
      "C4721208 Metastatic castration-resistant prostate cancer\n",
      "C5205936 Extrarenal Rhabdoid Tumor of the Prostate\n",
      "C4303101 Recurrent malignant neoplasm of prostate\n",
      "C5231122 Infiltrating duct carcinoma of prostate\n",
      "C1297952 Malignant tumor involving prostate by direct extension from bladder\n",
      "C1330959 Primary malignant neoplasm of prostate\n",
      "C0347001 Metastatic Malignant Neoplasm in the Prostate Gland\n",
      "C0349672 Prostate Ductal Adenocarcinoma\n",
      "C1300585 Small cell carcinoma of prostate\n",
      "C0007112 Prostate Adenocarcinoma\n",
      "C0279882 None\n",
      "C1302530 Prostate Squamous Cell Carcinoma\n",
      "C1334615 Malignant Prostate Phyllodes Tumor\n",
      "C5205910 Prostate Malignant Solitary Fibrous Tumor\n",
      "C0238393 Prostate Sarcoma\n",
      "C1335516 Prostate Non-Hodgkin Lymphoma\n",
      "C0600139 CARCINOMA OF PROSTATE\n",
      "C3898877 Hormone-Resistant Prostate Carcinoma\n",
      "C4302896 Hormone sensitive prostate cancer\n",
      "C1335512 Prostate Lymphoma\n",
      "C1328504 Castration-Resistant Prostate Carcinoma\n",
      "C5205935 Prostate Wilms Tumor\n",
      "C2931456 Familial prostate cancer\n",
      "C5231082 Acinar cell cystadenocarcinoma of prostate\n"
     ]
    }
   ],
   "source": [
    "cuis_l2 = app.state.relationship_mapper.get_related_concepts('C0376358', direction='broad2narrow', max_depth=1)\n",
    "for c in cuis_l2:\n",
    "    print(c, app.state.concept_parser.umls_parser.get_umls_text(c))"
   ]
  },
  {
   "cell_type": "markdown",
   "id": "4974c070-ae98-4934-a75e-00f0eed028f4",
   "metadata": {},
   "source": [
    "# PubMed"
   ]
  },
  {
   "cell_type": "code",
   "execution_count": 27,
   "id": "2fec27bb-c062-466d-8104-063d01f7ec1f",
   "metadata": {
    "tags": []
   },
   "outputs": [],
   "source": [
    "from integration.orm import pubmed"
   ]
  },
  {
   "cell_type": "code",
   "execution_count": 28,
   "id": "cc26c4a8-0889-4a0c-b2ac-6b5ec055d871",
   "metadata": {
    "tags": []
   },
   "outputs": [
    {
     "data": {
      "text/plain": [
       "828356"
      ]
     },
     "execution_count": 28,
     "metadata": {},
     "output_type": "execute_result"
    }
   ],
   "source": [
    "len(session.scalars(select(pubmed.Trial)).fetchall())"
   ]
  },
  {
   "cell_type": "code",
   "execution_count": 29,
   "id": "dd5f6412-56be-4085-83b4-470ef4255c56",
   "metadata": {
    "tags": []
   },
   "outputs": [],
   "source": [
    "res = (session.scalars(select(pubmed.Trial).where(pubmed.Trial.pm_id == 38828946)).fetchall())"
   ]
  },
  {
   "cell_type": "code",
   "execution_count": 30,
   "id": "6393d1ce-5a27-4d6d-a192-408760830213",
   "metadata": {
    "tags": []
   },
   "outputs": [
    {
     "data": {
      "text/plain": [
       "[]"
      ]
     },
     "execution_count": 30,
     "metadata": {},
     "output_type": "execute_result"
    }
   ],
   "source": [
    "res"
   ]
  },
  {
   "cell_type": "code",
   "execution_count": 31,
   "id": "f5ae661c-3b5b-440c-8bf4-77179028b80c",
   "metadata": {
    "tags": []
   },
   "outputs": [],
   "source": [
    "pubmed_pops = session.scalars(select(pubmed.UmlsPopulation.cui)).fetchall()"
   ]
  },
  {
   "cell_type": "code",
   "execution_count": 32,
   "id": "cfa4558a-7d81-410f-9a3c-1e02287dbb42",
   "metadata": {
    "tags": []
   },
   "outputs": [
    {
     "data": {
      "text/plain": [
       "(7326622, 52568)"
      ]
     },
     "execution_count": 32,
     "metadata": {},
     "output_type": "execute_result"
    }
   ],
   "source": [
    "assert_not_null(pubmed_pops)\n",
    "len(pubmed_pops), len(set(pubmed_pops))"
   ]
  },
  {
   "cell_type": "code",
   "execution_count": 33,
   "id": "474aea51-ff90-4d39-ab10-e5f0ebd84d1e",
   "metadata": {
    "tags": []
   },
   "outputs": [
    {
     "data": {
      "text/html": [
       "<div>\n",
       "<style scoped>\n",
       "    .dataframe tbody tr th:only-of-type {\n",
       "        vertical-align: middle;\n",
       "    }\n",
       "\n",
       "    .dataframe tbody tr th {\n",
       "        vertical-align: top;\n",
       "    }\n",
       "\n",
       "    .dataframe thead th {\n",
       "        text-align: right;\n",
       "    }\n",
       "</style>\n",
       "<table border=\"1\" class=\"dataframe\">\n",
       "  <thead>\n",
       "    <tr style=\"text-align: right;\">\n",
       "      <th></th>\n",
       "      <th>0</th>\n",
       "      <th>name</th>\n",
       "    </tr>\n",
       "  </thead>\n",
       "  <tbody>\n",
       "    <tr>\n",
       "      <th>C0030705</th>\n",
       "      <td>508305</td>\n",
       "      <td>Patient</td>\n",
       "    </tr>\n",
       "    <tr>\n",
       "      <th>C0439234</th>\n",
       "      <td>128012</td>\n",
       "      <td>Year</td>\n",
       "    </tr>\n",
       "    <tr>\n",
       "      <th>C0001779</th>\n",
       "      <td>123231</td>\n",
       "      <td>Age</td>\n",
       "    </tr>\n",
       "    <tr>\n",
       "      <th>C0043210</th>\n",
       "      <td>84758</td>\n",
       "      <td>Woman</td>\n",
       "    </tr>\n",
       "    <tr>\n",
       "      <th>C0001675</th>\n",
       "      <td>81191</td>\n",
       "      <td>Adult</td>\n",
       "    </tr>\n",
       "    <tr>\n",
       "      <th>C0162574</th>\n",
       "      <td>81072</td>\n",
       "      <td>Advanced Glycation End Product</td>\n",
       "    </tr>\n",
       "    <tr>\n",
       "      <th>C0679646</th>\n",
       "      <td>80689</td>\n",
       "      <td>Participant</td>\n",
       "    </tr>\n",
       "    <tr>\n",
       "      <th>C0001792</th>\n",
       "      <td>67315</td>\n",
       "      <td>Elderly</td>\n",
       "    </tr>\n",
       "    <tr>\n",
       "      <th>C0027361</th>\n",
       "      <td>64430</td>\n",
       "      <td>People</td>\n",
       "    </tr>\n",
       "    <tr>\n",
       "      <th>C0008972</th>\n",
       "      <td>61191</td>\n",
       "      <td>Clinical Study</td>\n",
       "    </tr>\n",
       "  </tbody>\n",
       "</table>\n",
       "</div>"
      ],
      "text/plain": [
       "               0                            name\n",
       "C0030705  508305                         Patient\n",
       "C0439234  128012                            Year\n",
       "C0001779  123231                             Age\n",
       "C0043210   84758                           Woman\n",
       "C0001675   81191                           Adult\n",
       "C0162574   81072  Advanced Glycation End Product\n",
       "C0679646   80689                     Participant\n",
       "C0001792   67315                         Elderly\n",
       "C0027361   64430                          People\n",
       "C0008972   61191                  Clinical Study"
      ]
     },
     "execution_count": 33,
     "metadata": {},
     "output_type": "execute_result"
    }
   ],
   "source": [
    "top_10(pubmed_pops)"
   ]
  },
  {
   "cell_type": "code",
   "execution_count": 34,
   "id": "da0e99f9-f2f0-4368-a72a-01fb8f5422df",
   "metadata": {
    "tags": []
   },
   "outputs": [],
   "source": [
    "pubmed_intv = session.scalars(select(pubmed.UmlsIntervention.cui)).fetchall()"
   ]
  },
  {
   "cell_type": "code",
   "execution_count": 35,
   "id": "44c32b80-cf05-46c9-9ba7-aff182694cd0",
   "metadata": {
    "tags": []
   },
   "outputs": [
    {
     "data": {
      "text/plain": [
       "(5631219, 68738)"
      ]
     },
     "execution_count": 35,
     "metadata": {},
     "output_type": "execute_result"
    }
   ],
   "source": [
    "assert_not_null(pubmed_intv)\n",
    "len(pubmed_intv), len(set(pubmed_intv))"
   ]
  },
  {
   "cell_type": "code",
   "execution_count": 36,
   "id": "3ec82b39-33a8-4e49-adcc-0e77ae2d6382",
   "metadata": {
    "tags": []
   },
   "outputs": [
    {
     "data": {
      "text/html": [
       "<div>\n",
       "<style scoped>\n",
       "    .dataframe tbody tr th:only-of-type {\n",
       "        vertical-align: middle;\n",
       "    }\n",
       "\n",
       "    .dataframe tbody tr th {\n",
       "        vertical-align: top;\n",
       "    }\n",
       "\n",
       "    .dataframe thead th {\n",
       "        text-align: right;\n",
       "    }\n",
       "</style>\n",
       "<table border=\"1\" class=\"dataframe\">\n",
       "  <thead>\n",
       "    <tr style=\"text-align: right;\">\n",
       "      <th></th>\n",
       "      <th>0</th>\n",
       "      <th>name</th>\n",
       "    </tr>\n",
       "  </thead>\n",
       "  <tbody>\n",
       "    <tr>\n",
       "      <th>C0032042</th>\n",
       "      <td>143367</td>\n",
       "      <td>Placebo</td>\n",
       "    </tr>\n",
       "    <tr>\n",
       "      <th>C0184661</th>\n",
       "      <td>59166</td>\n",
       "      <td>Intervention or Procedure</td>\n",
       "    </tr>\n",
       "    <tr>\n",
       "      <th>C0009932</th>\n",
       "      <td>55369</td>\n",
       "      <td>Control Group</td>\n",
       "    </tr>\n",
       "    <tr>\n",
       "      <th>C0039798</th>\n",
       "      <td>45632</td>\n",
       "      <td>therapeutic aspects</td>\n",
       "    </tr>\n",
       "    <tr>\n",
       "      <th>C0087111</th>\n",
       "      <td>43158</td>\n",
       "      <td>Therapeutic Procedure</td>\n",
       "    </tr>\n",
       "    <tr>\n",
       "      <th>C1533734</th>\n",
       "      <td>32074</td>\n",
       "      <td>Administration</td>\n",
       "    </tr>\n",
       "    <tr>\n",
       "      <th>C0441833</th>\n",
       "      <td>29741</td>\n",
       "      <td>Group</td>\n",
       "    </tr>\n",
       "    <tr>\n",
       "      <th>C1522704</th>\n",
       "      <td>29058</td>\n",
       "      <td>Exercise Pain Management</td>\n",
       "    </tr>\n",
       "    <tr>\n",
       "      <th>C1522326</th>\n",
       "      <td>28724</td>\n",
       "      <td>Treat</td>\n",
       "    </tr>\n",
       "    <tr>\n",
       "      <th>C1705169</th>\n",
       "      <td>27585</td>\n",
       "      <td>Biomaterial Treatment</td>\n",
       "    </tr>\n",
       "  </tbody>\n",
       "</table>\n",
       "</div>"
      ],
      "text/plain": [
       "               0                       name\n",
       "C0032042  143367                    Placebo\n",
       "C0184661   59166  Intervention or Procedure\n",
       "C0009932   55369              Control Group\n",
       "C0039798   45632        therapeutic aspects\n",
       "C0087111   43158      Therapeutic Procedure\n",
       "C1533734   32074             Administration\n",
       "C0441833   29741                      Group\n",
       "C1522704   29058   Exercise Pain Management\n",
       "C1522326   28724                      Treat\n",
       "C1705169   27585      Biomaterial Treatment"
      ]
     },
     "execution_count": 36,
     "metadata": {},
     "output_type": "execute_result"
    }
   ],
   "source": [
    "top_10(pubmed_intv)"
   ]
  },
  {
   "cell_type": "markdown",
   "id": "412a32d6-32f8-436f-838f-5d13f41e1432",
   "metadata": {},
   "source": [
    "# ClinicalTrials.gov"
   ]
  },
  {
   "cell_type": "code",
   "execution_count": 37,
   "id": "f013f583-2b8a-460b-8869-758ded9c8335",
   "metadata": {
    "tags": []
   },
   "outputs": [],
   "source": [
    "from integration.orm import aact"
   ]
  },
  {
   "cell_type": "code",
   "execution_count": 38,
   "id": "a65d5222-7249-4ac8-b674-5bb467f085c8",
   "metadata": {
    "tags": []
   },
   "outputs": [
    {
     "data": {
      "text/plain": [
       "499882"
      ]
     },
     "execution_count": 38,
     "metadata": {},
     "output_type": "execute_result"
    }
   ],
   "source": [
    "len(session.scalars(select(aact.Trial)).fetchall())"
   ]
  },
  {
   "cell_type": "code",
   "execution_count": 39,
   "id": "e8d1ec04-36e3-4e3a-b0f7-9b558048e5a6",
   "metadata": {
    "tags": []
   },
   "outputs": [],
   "source": [
    "aact_pops = session.scalars(select(aact.MeshCondition.cui)).fetchall()"
   ]
  },
  {
   "cell_type": "code",
   "execution_count": 40,
   "id": "9eee484c-00fb-4b43-9929-d7674b1ef01f",
   "metadata": {
    "tags": []
   },
   "outputs": [
    {
     "data": {
      "text/plain": [
       "(3404118, 4466)"
      ]
     },
     "execution_count": 40,
     "metadata": {},
     "output_type": "execute_result"
    }
   ],
   "source": [
    "assert_not_null(aact_pops)\n",
    "len(aact_pops), len(set(aact_pops))"
   ]
  },
  {
   "cell_type": "code",
   "execution_count": 41,
   "id": "984b270e-8470-4d63-a076-6374046a2eef",
   "metadata": {
    "tags": []
   },
   "outputs": [
    {
     "data": {
      "text/html": [
       "<div>\n",
       "<style scoped>\n",
       "    .dataframe tbody tr th:only-of-type {\n",
       "        vertical-align: middle;\n",
       "    }\n",
       "\n",
       "    .dataframe tbody tr th {\n",
       "        vertical-align: top;\n",
       "    }\n",
       "\n",
       "    .dataframe thead th {\n",
       "        text-align: right;\n",
       "    }\n",
       "</style>\n",
       "<table border=\"1\" class=\"dataframe\">\n",
       "  <thead>\n",
       "    <tr style=\"text-align: right;\">\n",
       "      <th></th>\n",
       "      <th>0</th>\n",
       "      <th>name</th>\n",
       "    </tr>\n",
       "  </thead>\n",
       "  <tbody>\n",
       "    <tr>\n",
       "      <th>C0027651</th>\n",
       "      <td>93585</td>\n",
       "      <td>NEOPLASM</td>\n",
       "    </tr>\n",
       "    <tr>\n",
       "      <th>C0030660</th>\n",
       "      <td>86115</td>\n",
       "      <td>Pathologic Process</td>\n",
       "    </tr>\n",
       "    <tr>\n",
       "      <th>C0027653</th>\n",
       "      <td>61792</td>\n",
       "      <td>Neoplasm by Site</td>\n",
       "    </tr>\n",
       "    <tr>\n",
       "      <th>C0027765</th>\n",
       "      <td>60721</td>\n",
       "      <td>Nervous System Disorder</td>\n",
       "    </tr>\n",
       "    <tr>\n",
       "      <th>C0007222</th>\n",
       "      <td>58069</td>\n",
       "      <td>Cardiovascular Disorder</td>\n",
       "    </tr>\n",
       "    <tr>\n",
       "      <th>C0080276</th>\n",
       "      <td>45711</td>\n",
       "      <td>Genitourinary System Disorder</td>\n",
       "    </tr>\n",
       "    <tr>\n",
       "      <th>C0035242</th>\n",
       "      <td>45286</td>\n",
       "      <td>Respiratory Tract Diseases</td>\n",
       "    </tr>\n",
       "    <tr>\n",
       "      <th>C3714514</th>\n",
       "      <td>44115</td>\n",
       "      <td>Infection</td>\n",
       "    </tr>\n",
       "    <tr>\n",
       "      <th>C0027652</th>\n",
       "      <td>42533</td>\n",
       "      <td>Neoplasms by Histologic Type</td>\n",
       "    </tr>\n",
       "    <tr>\n",
       "      <th>C0012242</th>\n",
       "      <td>41117</td>\n",
       "      <td>Disorder of digestive system</td>\n",
       "    </tr>\n",
       "  </tbody>\n",
       "</table>\n",
       "</div>"
      ],
      "text/plain": [
       "              0                           name\n",
       "C0027651  93585                       NEOPLASM\n",
       "C0030660  86115             Pathologic Process\n",
       "C0027653  61792               Neoplasm by Site\n",
       "C0027765  60721        Nervous System Disorder\n",
       "C0007222  58069        Cardiovascular Disorder\n",
       "C0080276  45711  Genitourinary System Disorder\n",
       "C0035242  45286     Respiratory Tract Diseases\n",
       "C3714514  44115                      Infection\n",
       "C0027652  42533   Neoplasms by Histologic Type\n",
       "C0012242  41117   Disorder of digestive system"
      ]
     },
     "execution_count": 41,
     "metadata": {},
     "output_type": "execute_result"
    }
   ],
   "source": [
    "top_10(aact_pops)"
   ]
  },
  {
   "cell_type": "code",
   "execution_count": 42,
   "id": "63f1e5a3-8118-45f0-86aa-2ef757d02694",
   "metadata": {
    "tags": []
   },
   "outputs": [],
   "source": [
    "aact_intv = session.scalars(select(aact.MeshIntervention.cui).where(aact.MeshIntervention.cui != None)).fetchall()"
   ]
  },
  {
   "cell_type": "code",
   "execution_count": 43,
   "id": "5b644e09-f7c5-41cc-8960-a8ffad796597",
   "metadata": {
    "tags": []
   },
   "outputs": [
    {
     "data": {
      "text/plain": [
       "(1543754, 3994)"
      ]
     },
     "execution_count": 43,
     "metadata": {},
     "output_type": "execute_result"
    }
   ],
   "source": [
    "assert_not_null(aact_intv)\n",
    "len(aact_intv), len(set(aact_intv))"
   ]
  },
  {
   "cell_type": "code",
   "execution_count": 44,
   "id": "988d9b6b-ebd7-4d4b-afd8-85c7160b0a3f",
   "metadata": {
    "tags": []
   },
   "outputs": [
    {
     "data": {
      "text/html": [
       "<div>\n",
       "<style scoped>\n",
       "    .dataframe tbody tr th:only-of-type {\n",
       "        vertical-align: middle;\n",
       "    }\n",
       "\n",
       "    .dataframe tbody tr th {\n",
       "        vertical-align: top;\n",
       "    }\n",
       "\n",
       "    .dataframe thead th {\n",
       "        text-align: right;\n",
       "    }\n",
       "</style>\n",
       "<table border=\"1\" class=\"dataframe\">\n",
       "  <thead>\n",
       "    <tr style=\"text-align: right;\">\n",
       "      <th></th>\n",
       "      <th>0</th>\n",
       "      <th>name</th>\n",
       "    </tr>\n",
       "  </thead>\n",
       "  <tbody>\n",
       "    <tr>\n",
       "      <th>C1258063</th>\n",
       "      <td>101662</td>\n",
       "      <td>Physiological Effects of Drugs</td>\n",
       "    </tr>\n",
       "    <tr>\n",
       "      <th>C1258062</th>\n",
       "      <td>97111</td>\n",
       "      <td>Molecular Mechanisms of Pharmacological Action</td>\n",
       "    </tr>\n",
       "    <tr>\n",
       "      <th>C0003392</th>\n",
       "      <td>51606</td>\n",
       "      <td>Antineoplastic Agent</td>\n",
       "    </tr>\n",
       "    <tr>\n",
       "      <th>C0014432</th>\n",
       "      <td>47365</td>\n",
       "      <td>Enzyme inhibitor</td>\n",
       "    </tr>\n",
       "    <tr>\n",
       "      <th>C0243049</th>\n",
       "      <td>32439</td>\n",
       "      <td>Peripheral Nervous System Agents</td>\n",
       "    </tr>\n",
       "    <tr>\n",
       "      <th>C0021054</th>\n",
       "      <td>24959</td>\n",
       "      <td>Immunologic substance</td>\n",
       "    </tr>\n",
       "    <tr>\n",
       "      <th>C0243051</th>\n",
       "      <td>24556</td>\n",
       "      <td>Neurotransmitter Agents</td>\n",
       "    </tr>\n",
       "    <tr>\n",
       "      <th>C0003204</th>\n",
       "      <td>24457</td>\n",
       "      <td>Anti-Infective Agent</td>\n",
       "    </tr>\n",
       "    <tr>\n",
       "      <th>C0243058</th>\n",
       "      <td>20585</td>\n",
       "      <td>Sensory System Agents</td>\n",
       "    </tr>\n",
       "    <tr>\n",
       "      <th>C0007681</th>\n",
       "      <td>18818</td>\n",
       "      <td>Central Nervous System Depressants</td>\n",
       "    </tr>\n",
       "  </tbody>\n",
       "</table>\n",
       "</div>"
      ],
      "text/plain": [
       "               0                                            name\n",
       "C1258063  101662                  Physiological Effects of Drugs\n",
       "C1258062   97111  Molecular Mechanisms of Pharmacological Action\n",
       "C0003392   51606                            Antineoplastic Agent\n",
       "C0014432   47365                                Enzyme inhibitor\n",
       "C0243049   32439                Peripheral Nervous System Agents\n",
       "C0021054   24959                           Immunologic substance\n",
       "C0243051   24556                         Neurotransmitter Agents\n",
       "C0003204   24457                            Anti-Infective Agent\n",
       "C0243058   20585                           Sensory System Agents\n",
       "C0007681   18818              Central Nervous System Depressants"
      ]
     },
     "execution_count": 44,
     "metadata": {},
     "output_type": "execute_result"
    }
   ],
   "source": [
    "top_10(aact_intv)"
   ]
  },
  {
   "cell_type": "markdown",
   "id": "99ef0be5-7404-4b43-87a3-55e5cf129457",
   "metadata": {},
   "source": [
    "# CIViC"
   ]
  },
  {
   "cell_type": "code",
   "execution_count": null,
   "id": "a84c762b-16de-440d-b9c8-87fbd10147d8",
   "metadata": {
    "tags": []
   },
   "outputs": [],
   "source": [
    "from integration.orm import civic"
   ]
  },
  {
   "cell_type": "code",
   "execution_count": null,
   "id": "02756a4d-36e9-4f9f-b1cc-4b0017a15cb9",
   "metadata": {
    "tags": []
   },
   "outputs": [],
   "source": [
    "len(session.scalars(select(civic.Evidence)).fetchall())"
   ]
  },
  {
   "cell_type": "code",
   "execution_count": null,
   "id": "b3515bef-cb2a-4bdc-84ca-5f1cf65c670b",
   "metadata": {
    "tags": []
   },
   "outputs": [],
   "source": [
    "civic_diseases = session.scalars(select(civic.Evidence.disease_cui).where(civic.Evidence.disease_cui != None)).fetchall()\n",
    "civic_phenotypes = session.scalars(select(civic.Phenotype.cui).where(civic.Phenotype.cui != None)).fetchall()\n",
    "civic_pops = civic_diseases + civic_phenotypes"
   ]
  },
  {
   "cell_type": "code",
   "execution_count": null,
   "id": "09f3d027-d6a8-4e6a-91c8-809f6c61eb65",
   "metadata": {
    "tags": []
   },
   "outputs": [],
   "source": [
    "assert_not_null(civic_pops)\n",
    "len(civic_pops), len(set(civic_pops))"
   ]
  },
  {
   "cell_type": "code",
   "execution_count": null,
   "id": "8d3f6a7b-e9f7-422b-a4e0-1771fa823837",
   "metadata": {
    "tags": []
   },
   "outputs": [],
   "source": [
    "top_10(civic_pops)"
   ]
  },
  {
   "cell_type": "code",
   "execution_count": null,
   "id": "65e4ccf5-6c30-4cea-941e-2a38b98283b4",
   "metadata": {
    "tags": []
   },
   "outputs": [],
   "source": [
    "civic_intv = session.scalars(select(civic.Therapy.cui).where(civic.Therapy.cui != None)).fetchall()"
   ]
  },
  {
   "cell_type": "code",
   "execution_count": null,
   "id": "48797fa5-5d85-4892-9758-38d8cbc7609f",
   "metadata": {
    "tags": []
   },
   "outputs": [],
   "source": [
    "assert_not_null(civic_intv)\n",
    "len(civic_intv), len(set(civic_intv))"
   ]
  },
  {
   "cell_type": "code",
   "execution_count": null,
   "id": "8075c73e-db27-461d-a845-52941442d60e",
   "metadata": {
    "tags": []
   },
   "outputs": [],
   "source": [
    "top_10(civic_intv)"
   ]
  },
  {
   "cell_type": "code",
   "execution_count": null,
   "id": "b490cc5b-049f-46ee-8554-367d1d5067a4",
   "metadata": {},
   "outputs": [],
   "source": []
  }
 ],
 "metadata": {
  "kernelspec": {
   "display_name": "Python [conda env:nge]",
   "language": "python",
   "name": "conda-env-nge-py"
  },
  "language_info": {
   "codemirror_mode": {
    "name": "ipython",
    "version": 3
   },
   "file_extension": ".py",
   "mimetype": "text/x-python",
   "name": "python",
   "nbconvert_exporter": "python",
   "pygments_lexer": "ipython3",
   "version": "3.10.12"
  }
 },
 "nbformat": 4,
 "nbformat_minor": 5
}
