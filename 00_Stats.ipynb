{
 "cells": [
  {
   "cell_type": "markdown",
   "id": "d8e1189e-cb88-4ff2-bb5f-6ba44f3aa8a4",
   "metadata": {},
   "source": [
    "# Statistics of Database Content\n"
   ]
  },
  {
   "cell_type": "code",
   "execution_count": 1,
   "id": "72dafeda-d1c2-4bb2-8f2a-41e2db760258",
   "metadata": {
    "tags": []
   },
   "outputs": [],
   "source": [
    "from sqlalchemy import select"
   ]
  },
  {
   "cell_type": "code",
   "execution_count": 2,
   "id": "00158a64-fb09-4185-b937-25121e21dbb1",
   "metadata": {
    "tags": []
   },
   "outputs": [],
   "source": [
    "from api.app import app\n",
    "from fastapi.testclient import TestClient\n",
    "import os\n",
    "\n",
    "with TestClient(app) as client:\n",
    "    # Initialize state\n",
    "    pass    \n",
    "\n",
    "session = app.state.session()"
   ]
  },
  {
   "cell_type": "markdown",
   "id": "309fb070-90f4-44fb-81bb-7f626d5c5483",
   "metadata": {},
   "source": [
    "# GGPONC"
   ]
  },
  {
   "cell_type": "code",
   "execution_count": 3,
   "id": "0ea8da8d-8425-4bfb-99c1-dff6e5f478b6",
   "metadata": {
    "tags": []
   },
   "outputs": [],
   "source": [
    "from integration.orm import ggponc"
   ]
  },
  {
   "cell_type": "code",
   "execution_count": 4,
   "id": "d30139b8-ef1c-4815-ab55-e90462c7ab82",
   "metadata": {
    "tags": []
   },
   "outputs": [
    {
     "data": {
      "text/plain": [
       "34"
      ]
     },
     "execution_count": 4,
     "metadata": {},
     "output_type": "execute_result"
    }
   ],
   "source": [
    "len(session.scalars(select(ggponc.Guideline)).fetchall())"
   ]
  },
  {
   "cell_type": "code",
   "execution_count": 5,
   "id": "27729c99-c10b-4c22-b44d-59f16bca62b9",
   "metadata": {
    "tags": []
   },
   "outputs": [],
   "source": [
    "import pandas as pd\n",
    "\n",
    "def top_10(cuis):\n",
    "    s = pd.Series(cuis).value_counts()[0:10]\n",
    "    df = pd.DataFrame(s)\n",
    "    df['name'] = df.index.map(app.state.concept_parser.umls_parser.get_umls_text)\n",
    "    return df\n",
    "\n",
    "def assert_not_null(cuis):\n",
    "    assert all([c != None for c in cuis])"
   ]
  },
  {
   "cell_type": "code",
   "execution_count": 6,
   "id": "f3ebe028-dfbf-4919-b207-a0818c8a1d15",
   "metadata": {
    "tags": []
   },
   "outputs": [
    {
     "data": {
      "text/plain": [
       "(17530, 39, 17491)"
      ]
     },
     "execution_count": 6,
     "metadata": {},
     "output_type": "execute_result"
    }
   ],
   "source": [
    "top_pop = session.scalars(select(ggponc.Population.cui)).fetchall()\n",
    "all_pops = session.scalars(select(ggponc.SubPopulation.cui)).fetchall()\n",
    "ggponc_pops = top_pop + all_pops\n",
    "assert_not_null(ggponc_pops)\n",
    "len(ggponc_pops), len(top_pop), len(all_pops)"
   ]
  },
  {
   "cell_type": "code",
   "execution_count": 7,
   "id": "e4cae481-2f21-4a6b-a2e8-55a15676afd5",
   "metadata": {
    "tags": []
   },
   "outputs": [
    {
     "data": {
      "text/plain": [
       "(17530, 12005)"
      ]
     },
     "execution_count": 7,
     "metadata": {},
     "output_type": "execute_result"
    }
   ],
   "source": [
    "len(ggponc_pops), len(set(ggponc_pops))"
   ]
  },
  {
   "cell_type": "code",
   "execution_count": 8,
   "id": "a1c37f0c-7aef-4eb7-9f64-f61c8836db2f",
   "metadata": {
    "tags": []
   },
   "outputs": [],
   "source": [
    "ggponc_intv = session.scalars(select(ggponc.Entity.cui).where(ggponc.Entity.type_.in_(['Clinical_Drug', 'Therapeutic', 'Diagnostic']))).fetchall()\n",
    "assert_not_null(ggponc_intv)"
   ]
  },
  {
   "cell_type": "code",
   "execution_count": 9,
   "id": "49eecf6d-da5e-4bfd-bc49-3d778ed86578",
   "metadata": {
    "tags": []
   },
   "outputs": [
    {
     "data": {
      "text/plain": [
       "(129119, 15852)"
      ]
     },
     "execution_count": 9,
     "metadata": {},
     "output_type": "execute_result"
    }
   ],
   "source": [
    "len(ggponc_intv), len(set(ggponc_intv))"
   ]
  },
  {
   "cell_type": "code",
   "execution_count": 10,
   "id": "67db00b3-1f29-4e32-bb5f-7d1fb7fb3b11",
   "metadata": {
    "tags": []
   },
   "outputs": [
    {
     "data": {
      "text/html": [
       "<div>\n",
       "<style scoped>\n",
       "    .dataframe tbody tr th:only-of-type {\n",
       "        vertical-align: middle;\n",
       "    }\n",
       "\n",
       "    .dataframe tbody tr th {\n",
       "        vertical-align: top;\n",
       "    }\n",
       "\n",
       "    .dataframe thead th {\n",
       "        text-align: right;\n",
       "    }\n",
       "</style>\n",
       "<table border=\"1\" class=\"dataframe\">\n",
       "  <thead>\n",
       "    <tr style=\"text-align: right;\">\n",
       "      <th></th>\n",
       "      <th>0</th>\n",
       "      <th>name</th>\n",
       "    </tr>\n",
       "  </thead>\n",
       "  <tbody>\n",
       "    <tr>\n",
       "      <th>C0087111</th>\n",
       "      <td>4329</td>\n",
       "      <td>Therapeutic Procedure</td>\n",
       "    </tr>\n",
       "    <tr>\n",
       "      <th>C1522449</th>\n",
       "      <td>2618</td>\n",
       "      <td>Radiation Therapy</td>\n",
       "    </tr>\n",
       "    <tr>\n",
       "      <th>C3665472</th>\n",
       "      <td>2329</td>\n",
       "      <td>Chemotherapy</td>\n",
       "    </tr>\n",
       "    <tr>\n",
       "      <th>C0184661</th>\n",
       "      <td>1427</td>\n",
       "      <td>Intervention or Procedure</td>\n",
       "    </tr>\n",
       "    <tr>\n",
       "      <th>C0543467</th>\n",
       "      <td>1374</td>\n",
       "      <td>Surgical Procedure</td>\n",
       "    </tr>\n",
       "    <tr>\n",
       "      <th>C0011900</th>\n",
       "      <td>1192</td>\n",
       "      <td>Diagnosis</td>\n",
       "    </tr>\n",
       "    <tr>\n",
       "      <th>C0436307</th>\n",
       "      <td>1014</td>\n",
       "      <td>Chemoradiotherapy</td>\n",
       "    </tr>\n",
       "    <tr>\n",
       "      <th>C0030231</th>\n",
       "      <td>938</td>\n",
       "      <td>Palliative Therapy</td>\n",
       "    </tr>\n",
       "    <tr>\n",
       "      <th>C0008838</th>\n",
       "      <td>719</td>\n",
       "      <td>Cisplatin</td>\n",
       "    </tr>\n",
       "    <tr>\n",
       "      <th>C1699633</th>\n",
       "      <td>691</td>\n",
       "      <td>Positron Emission Tomography and Computed Tomo...</td>\n",
       "    </tr>\n",
       "  </tbody>\n",
       "</table>\n",
       "</div>"
      ],
      "text/plain": [
       "             0                                               name\n",
       "C0087111  4329                              Therapeutic Procedure\n",
       "C1522449  2618                                  Radiation Therapy\n",
       "C3665472  2329                                       Chemotherapy\n",
       "C0184661  1427                          Intervention or Procedure\n",
       "C0543467  1374                                 Surgical Procedure\n",
       "C0011900  1192                                          Diagnosis\n",
       "C0436307  1014                                  Chemoradiotherapy\n",
       "C0030231   938                                 Palliative Therapy\n",
       "C0008838   719                                          Cisplatin\n",
       "C1699633   691  Positron Emission Tomography and Computed Tomo..."
      ]
     },
     "execution_count": 10,
     "metadata": {},
     "output_type": "execute_result"
    }
   ],
   "source": [
    "top_10(ggponc_intv)"
   ]
  },
  {
   "cell_type": "code",
   "execution_count": 11,
   "id": "9d773883-37f6-48e3-8154-249fb0b6032e",
   "metadata": {
    "tags": []
   },
   "outputs": [],
   "source": [
    "cuis_l1 = app.state.relationship_mapper.get_related_concepts('C0033578', direction='broad2narrow', max_depth=1)"
   ]
  },
  {
   "cell_type": "code",
   "execution_count": 12,
   "id": "fa0b7b2d-3a0d-40c3-8929-a1cf30e831db",
   "metadata": {
    "tags": []
   },
   "outputs": [
    {
     "name": "stdout",
     "output_type": "stream",
     "text": [
      "C2931456 Familial prostate cancer\n",
      "C0376358 Prostate cancer\n",
      "C0282612 Prostatic Intraepithelial Neoplasia\n",
      "C2677772 Prostate Cancer, Hereditary, 14\n",
      "C1335409 Prostate Phyllodes Tumor\n",
      "C2678047 Prostate Cancer, Hereditary, X-Linked 2\n",
      "C2678479 Prostate Cancer, Hereditary, 12\n",
      "C1837595 PROSTATE CANCER, HEREDITARY, 3\n",
      "C1837593 Prostate Cancer, Hereditary, 4\n",
      "C1836005 Prostate Cancer, Hereditary, 6\n",
      "C1970192 Prostate Cancer, Hereditary, 10\n",
      "C1864472 PROSTATE CANCER, HEREDITARY, 8\n",
      "C1335515 Prostate Neuroendocrine Neoplasm\n",
      "C2677821 Prostate Cancer, Hereditary, 13\n",
      "C1970250 Prostate Cancer, Hereditary, 9\n",
      "C1836436 Prostate Cancer, Hereditary, 5\n",
      "C4759295 Non-metastatic prostate cancer\n",
      "C0496923 Neoplasm of uncertain behavior of prostate\n",
      "C1334615 Malignant Prostate Phyllodes Tumor\n",
      "C2677771 Prostate Cancer, Hereditary, 15\n",
      "C2677773 Prostate Cancer, Hereditary, 11\n",
      "C1332353 Atypical Small Acinar Proliferation of the Prostate Gland\n",
      "C1853195 Prostate Cancer, Hereditary, 7\n",
      "C0154088 Carcinoma in situ of prostate\n",
      "C0154009 Benign Prostate Neoplasm\n",
      "C5206985 Prostate Soft Tissue Neoplasm\n",
      "C3658267 Prostatic Neoplasms, Castration-Resistant\n"
     ]
    }
   ],
   "source": [
    "for c in cuis_l1:\n",
    "    print(c, app.state.concept_parser.umls_parser.get_umls_text(c))"
   ]
  },
  {
   "cell_type": "code",
   "execution_count": 13,
   "id": "43752efa-79bd-4ef8-a009-adea2db5403f",
   "metadata": {
    "tags": []
   },
   "outputs": [
    {
     "name": "stdout",
     "output_type": "stream",
     "text": [
      "C1297952 Malignant tumor involving prostate by direct extension from bladder\n",
      "C5205935 Prostate Wilms Tumor\n",
      "C2931456 Familial prostate cancer\n",
      "C0349672 Prostate Ductal Adenocarcinoma\n",
      "C5205936 Extrarenal Rhabdoid Tumor of the Prostate\n",
      "C0347001 Metastatic Malignant Neoplasm in the Prostate Gland\n",
      "C1302530 Prostate Squamous Cell Carcinoma\n",
      "C0238393 Prostate Sarcoma\n",
      "C1328504 Castration-Resistant Prostate Carcinoma\n",
      "C3898877 Hormone-Resistant Prostate Carcinoma\n",
      "C0279882 None\n",
      "C4721208 Metastatic castration-resistant prostate cancer\n",
      "C5231122 Infiltrating duct carcinoma of prostate\n",
      "C1335516 Prostate Non-Hodgkin Lymphoma\n",
      "C0280280 None\n",
      "C1335514 Prostate Myeloid Sarcoma\n",
      "C1300585 Small cell carcinoma of prostate\n",
      "C1330959 Primary malignant neoplasm of prostate\n",
      "C1334615 Malignant Prostate Phyllodes Tumor\n",
      "C1335512 Prostate Lymphoma\n",
      "C0007112 Prostate Adenocarcinoma\n",
      "C5205910 Prostate Malignant Solitary Fibrous Tumor\n",
      "C4303101 Recurrent malignant neoplasm of prostate\n",
      "C5231082 Acinar cell cystadenocarcinoma of prostate\n",
      "C5205938 Prostate Melanoma\n",
      "C0600139 CARCINOMA OF PROSTATE\n",
      "C4302896 Hormone sensitive prostate cancer\n"
     ]
    }
   ],
   "source": [
    "cuis_l2 = app.state.relationship_mapper.get_related_concepts('C0376358', direction='broad2narrow', max_depth=1)\n",
    "for c in cuis_l2:\n",
    "    print(c, app.state.concept_parser.umls_parser.get_umls_text(c))"
   ]
  },
  {
   "cell_type": "markdown",
   "id": "4974c070-ae98-4934-a75e-00f0eed028f4",
   "metadata": {},
   "source": [
    "# PubMed"
   ]
  },
  {
   "cell_type": "code",
   "execution_count": 14,
   "id": "2fec27bb-c062-466d-8104-063d01f7ec1f",
   "metadata": {
    "tags": []
   },
   "outputs": [],
   "source": [
    "from integration.orm import pubmed"
   ]
  },
  {
   "cell_type": "code",
   "execution_count": 15,
   "id": "cc26c4a8-0889-4a0c-b2ac-6b5ec055d871",
   "metadata": {
    "tags": []
   },
   "outputs": [
    {
     "data": {
      "text/plain": [
       "840116"
      ]
     },
     "execution_count": 15,
     "metadata": {},
     "output_type": "execute_result"
    }
   ],
   "source": [
    "len(session.scalars(select(pubmed.Trial)).fetchall())"
   ]
  },
  {
   "cell_type": "code",
   "execution_count": 18,
   "id": "f5ae661c-3b5b-440c-8bf4-77179028b80c",
   "metadata": {
    "tags": []
   },
   "outputs": [],
   "source": [
    "pubmed_pops = session.scalars(select(pubmed.UmlsPopulation.cui)).fetchall()"
   ]
  },
  {
   "cell_type": "code",
   "execution_count": 19,
   "id": "cfa4558a-7d81-410f-9a3c-1e02287dbb42",
   "metadata": {
    "tags": []
   },
   "outputs": [
    {
     "data": {
      "text/plain": [
       "(7457589, 52866)"
      ]
     },
     "execution_count": 19,
     "metadata": {},
     "output_type": "execute_result"
    }
   ],
   "source": [
    "assert_not_null(pubmed_pops)\n",
    "len(pubmed_pops), len(set(pubmed_pops))"
   ]
  },
  {
   "cell_type": "code",
   "execution_count": 20,
   "id": "474aea51-ff90-4d39-ab10-e5f0ebd84d1e",
   "metadata": {
    "tags": []
   },
   "outputs": [
    {
     "data": {
      "text/html": [
       "<div>\n",
       "<style scoped>\n",
       "    .dataframe tbody tr th:only-of-type {\n",
       "        vertical-align: middle;\n",
       "    }\n",
       "\n",
       "    .dataframe tbody tr th {\n",
       "        vertical-align: top;\n",
       "    }\n",
       "\n",
       "    .dataframe thead th {\n",
       "        text-align: right;\n",
       "    }\n",
       "</style>\n",
       "<table border=\"1\" class=\"dataframe\">\n",
       "  <thead>\n",
       "    <tr style=\"text-align: right;\">\n",
       "      <th></th>\n",
       "      <th>0</th>\n",
       "      <th>name</th>\n",
       "    </tr>\n",
       "  </thead>\n",
       "  <tbody>\n",
       "    <tr>\n",
       "      <th>C0030705</th>\n",
       "      <td>515952</td>\n",
       "      <td>Patient</td>\n",
       "    </tr>\n",
       "    <tr>\n",
       "      <th>C0439234</th>\n",
       "      <td>130447</td>\n",
       "      <td>Year</td>\n",
       "    </tr>\n",
       "    <tr>\n",
       "      <th>C0001779</th>\n",
       "      <td>125652</td>\n",
       "      <td>Age</td>\n",
       "    </tr>\n",
       "    <tr>\n",
       "      <th>C0043210</th>\n",
       "      <td>85865</td>\n",
       "      <td>Woman</td>\n",
       "    </tr>\n",
       "    <tr>\n",
       "      <th>C0679646</th>\n",
       "      <td>83530</td>\n",
       "      <td>Participant</td>\n",
       "    </tr>\n",
       "    <tr>\n",
       "      <th>C0001675</th>\n",
       "      <td>83247</td>\n",
       "      <td>Adult</td>\n",
       "    </tr>\n",
       "    <tr>\n",
       "      <th>C0162574</th>\n",
       "      <td>82525</td>\n",
       "      <td>Advanced Glycation End Product</td>\n",
       "    </tr>\n",
       "    <tr>\n",
       "      <th>C0001792</th>\n",
       "      <td>68599</td>\n",
       "      <td>Elderly</td>\n",
       "    </tr>\n",
       "    <tr>\n",
       "      <th>C0027361</th>\n",
       "      <td>66310</td>\n",
       "      <td>People</td>\n",
       "    </tr>\n",
       "    <tr>\n",
       "      <th>C0008972</th>\n",
       "      <td>62115</td>\n",
       "      <td>Clinical Study</td>\n",
       "    </tr>\n",
       "  </tbody>\n",
       "</table>\n",
       "</div>"
      ],
      "text/plain": [
       "               0                            name\n",
       "C0030705  515952                         Patient\n",
       "C0439234  130447                            Year\n",
       "C0001779  125652                             Age\n",
       "C0043210   85865                           Woman\n",
       "C0679646   83530                     Participant\n",
       "C0001675   83247                           Adult\n",
       "C0162574   82525  Advanced Glycation End Product\n",
       "C0001792   68599                         Elderly\n",
       "C0027361   66310                          People\n",
       "C0008972   62115                  Clinical Study"
      ]
     },
     "execution_count": 20,
     "metadata": {},
     "output_type": "execute_result"
    }
   ],
   "source": [
    "top_10(pubmed_pops)"
   ]
  },
  {
   "cell_type": "code",
   "execution_count": 21,
   "id": "da0e99f9-f2f0-4368-a72a-01fb8f5422df",
   "metadata": {
    "tags": []
   },
   "outputs": [],
   "source": [
    "pubmed_intv = session.scalars(select(pubmed.UmlsIntervention.cui)).fetchall()"
   ]
  },
  {
   "cell_type": "code",
   "execution_count": 22,
   "id": "44c32b80-cf05-46c9-9ba7-aff182694cd0",
   "metadata": {
    "tags": []
   },
   "outputs": [
    {
     "data": {
      "text/plain": [
       "(5719729, 69108)"
      ]
     },
     "execution_count": 22,
     "metadata": {},
     "output_type": "execute_result"
    }
   ],
   "source": [
    "assert_not_null(pubmed_intv)\n",
    "len(pubmed_intv), len(set(pubmed_intv))"
   ]
  },
  {
   "cell_type": "code",
   "execution_count": 23,
   "id": "3ec82b39-33a8-4e49-adcc-0e77ae2d6382",
   "metadata": {
    "tags": []
   },
   "outputs": [
    {
     "data": {
      "text/html": [
       "<div>\n",
       "<style scoped>\n",
       "    .dataframe tbody tr th:only-of-type {\n",
       "        vertical-align: middle;\n",
       "    }\n",
       "\n",
       "    .dataframe tbody tr th {\n",
       "        vertical-align: top;\n",
       "    }\n",
       "\n",
       "    .dataframe thead th {\n",
       "        text-align: right;\n",
       "    }\n",
       "</style>\n",
       "<table border=\"1\" class=\"dataframe\">\n",
       "  <thead>\n",
       "    <tr style=\"text-align: right;\">\n",
       "      <th></th>\n",
       "      <th>0</th>\n",
       "      <th>name</th>\n",
       "    </tr>\n",
       "  </thead>\n",
       "  <tbody>\n",
       "    <tr>\n",
       "      <th>C0032042</th>\n",
       "      <td>145160</td>\n",
       "      <td>Placebo</td>\n",
       "    </tr>\n",
       "    <tr>\n",
       "      <th>C0184661</th>\n",
       "      <td>60850</td>\n",
       "      <td>Intervention or Procedure</td>\n",
       "    </tr>\n",
       "    <tr>\n",
       "      <th>C0009932</th>\n",
       "      <td>56675</td>\n",
       "      <td>Control Group</td>\n",
       "    </tr>\n",
       "    <tr>\n",
       "      <th>C0039798</th>\n",
       "      <td>46308</td>\n",
       "      <td>therapeutic aspects</td>\n",
       "    </tr>\n",
       "    <tr>\n",
       "      <th>C0087111</th>\n",
       "      <td>43896</td>\n",
       "      <td>Therapeutic Procedure</td>\n",
       "    </tr>\n",
       "    <tr>\n",
       "      <th>C1533734</th>\n",
       "      <td>32564</td>\n",
       "      <td>Administration</td>\n",
       "    </tr>\n",
       "    <tr>\n",
       "      <th>C0441833</th>\n",
       "      <td>30356</td>\n",
       "      <td>Group</td>\n",
       "    </tr>\n",
       "    <tr>\n",
       "      <th>C1522704</th>\n",
       "      <td>29750</td>\n",
       "      <td>Exercise Pain Management</td>\n",
       "    </tr>\n",
       "    <tr>\n",
       "      <th>C1522326</th>\n",
       "      <td>29154</td>\n",
       "      <td>Treat</td>\n",
       "    </tr>\n",
       "    <tr>\n",
       "      <th>C1705169</th>\n",
       "      <td>28003</td>\n",
       "      <td>Biomaterial Treatment</td>\n",
       "    </tr>\n",
       "  </tbody>\n",
       "</table>\n",
       "</div>"
      ],
      "text/plain": [
       "               0                       name\n",
       "C0032042  145160                    Placebo\n",
       "C0184661   60850  Intervention or Procedure\n",
       "C0009932   56675              Control Group\n",
       "C0039798   46308        therapeutic aspects\n",
       "C0087111   43896      Therapeutic Procedure\n",
       "C1533734   32564             Administration\n",
       "C0441833   30356                      Group\n",
       "C1522704   29750   Exercise Pain Management\n",
       "C1522326   29154                      Treat\n",
       "C1705169   28003      Biomaterial Treatment"
      ]
     },
     "execution_count": 23,
     "metadata": {},
     "output_type": "execute_result"
    }
   ],
   "source": [
    "top_10(pubmed_intv)"
   ]
  },
  {
   "cell_type": "markdown",
   "id": "412a32d6-32f8-436f-838f-5d13f41e1432",
   "metadata": {},
   "source": [
    "# ClinicalTrials.gov"
   ]
  },
  {
   "cell_type": "code",
   "execution_count": 24,
   "id": "f013f583-2b8a-460b-8869-758ded9c8335",
   "metadata": {
    "tags": []
   },
   "outputs": [],
   "source": [
    "from integration.orm import aact"
   ]
  },
  {
   "cell_type": "code",
   "execution_count": 25,
   "id": "a65d5222-7249-4ac8-b674-5bb467f085c8",
   "metadata": {
    "tags": []
   },
   "outputs": [
    {
     "data": {
      "text/plain": [
       "514167"
      ]
     },
     "execution_count": 25,
     "metadata": {},
     "output_type": "execute_result"
    }
   ],
   "source": [
    "len(session.scalars(select(aact.Trial)).fetchall())"
   ]
  },
  {
   "cell_type": "code",
   "execution_count": 26,
   "id": "e8d1ec04-36e3-4e3a-b0f7-9b558048e5a6",
   "metadata": {
    "tags": []
   },
   "outputs": [],
   "source": [
    "aact_pops = session.scalars(select(aact.MeshCondition.cui)).fetchall()"
   ]
  },
  {
   "cell_type": "code",
   "execution_count": 27,
   "id": "9eee484c-00fb-4b43-9929-d7674b1ef01f",
   "metadata": {
    "tags": []
   },
   "outputs": [
    {
     "data": {
      "text/plain": [
       "(3491957, 4475)"
      ]
     },
     "execution_count": 27,
     "metadata": {},
     "output_type": "execute_result"
    }
   ],
   "source": [
    "assert_not_null(aact_pops)\n",
    "len(aact_pops), len(set(aact_pops))"
   ]
  },
  {
   "cell_type": "code",
   "execution_count": 28,
   "id": "984b270e-8470-4d63-a076-6374046a2eef",
   "metadata": {
    "tags": []
   },
   "outputs": [
    {
     "data": {
      "text/html": [
       "<div>\n",
       "<style scoped>\n",
       "    .dataframe tbody tr th:only-of-type {\n",
       "        vertical-align: middle;\n",
       "    }\n",
       "\n",
       "    .dataframe tbody tr th {\n",
       "        vertical-align: top;\n",
       "    }\n",
       "\n",
       "    .dataframe thead th {\n",
       "        text-align: right;\n",
       "    }\n",
       "</style>\n",
       "<table border=\"1\" class=\"dataframe\">\n",
       "  <thead>\n",
       "    <tr style=\"text-align: right;\">\n",
       "      <th></th>\n",
       "      <th>0</th>\n",
       "      <th>name</th>\n",
       "    </tr>\n",
       "  </thead>\n",
       "  <tbody>\n",
       "    <tr>\n",
       "      <th>C0027651</th>\n",
       "      <td>96131</td>\n",
       "      <td>NEOPLASM</td>\n",
       "    </tr>\n",
       "    <tr>\n",
       "      <th>C0030660</th>\n",
       "      <td>88020</td>\n",
       "      <td>Pathologic Process</td>\n",
       "    </tr>\n",
       "    <tr>\n",
       "      <th>C0027653</th>\n",
       "      <td>63528</td>\n",
       "      <td>Neoplasm by Site</td>\n",
       "    </tr>\n",
       "    <tr>\n",
       "      <th>C0027765</th>\n",
       "      <td>62545</td>\n",
       "      <td>Nervous System Disorder</td>\n",
       "    </tr>\n",
       "    <tr>\n",
       "      <th>C0007222</th>\n",
       "      <td>59516</td>\n",
       "      <td>Cardiovascular Disorder</td>\n",
       "    </tr>\n",
       "    <tr>\n",
       "      <th>C0080276</th>\n",
       "      <td>46908</td>\n",
       "      <td>Genitourinary System Disorder</td>\n",
       "    </tr>\n",
       "    <tr>\n",
       "      <th>C0035242</th>\n",
       "      <td>46272</td>\n",
       "      <td>Respiratory Tract Diseases</td>\n",
       "    </tr>\n",
       "    <tr>\n",
       "      <th>C3714514</th>\n",
       "      <td>44888</td>\n",
       "      <td>Infection</td>\n",
       "    </tr>\n",
       "    <tr>\n",
       "      <th>C0027652</th>\n",
       "      <td>43604</td>\n",
       "      <td>Neoplasms by Histologic Type</td>\n",
       "    </tr>\n",
       "    <tr>\n",
       "      <th>C0012242</th>\n",
       "      <td>42218</td>\n",
       "      <td>Disorder of digestive system</td>\n",
       "    </tr>\n",
       "  </tbody>\n",
       "</table>\n",
       "</div>"
      ],
      "text/plain": [
       "              0                           name\n",
       "C0027651  96131                       NEOPLASM\n",
       "C0030660  88020             Pathologic Process\n",
       "C0027653  63528               Neoplasm by Site\n",
       "C0027765  62545        Nervous System Disorder\n",
       "C0007222  59516        Cardiovascular Disorder\n",
       "C0080276  46908  Genitourinary System Disorder\n",
       "C0035242  46272     Respiratory Tract Diseases\n",
       "C3714514  44888                      Infection\n",
       "C0027652  43604   Neoplasms by Histologic Type\n",
       "C0012242  42218   Disorder of digestive system"
      ]
     },
     "execution_count": 28,
     "metadata": {},
     "output_type": "execute_result"
    }
   ],
   "source": [
    "top_10(aact_pops)"
   ]
  },
  {
   "cell_type": "code",
   "execution_count": 29,
   "id": "63f1e5a3-8118-45f0-86aa-2ef757d02694",
   "metadata": {
    "tags": []
   },
   "outputs": [],
   "source": [
    "aact_intv = session.scalars(select(aact.MeshIntervention.cui).where(aact.MeshIntervention.cui != None)).fetchall()"
   ]
  },
  {
   "cell_type": "code",
   "execution_count": 30,
   "id": "5b644e09-f7c5-41cc-8960-a8ffad796597",
   "metadata": {
    "tags": []
   },
   "outputs": [
    {
     "data": {
      "text/plain": [
       "(1570195, 4000)"
      ]
     },
     "execution_count": 30,
     "metadata": {},
     "output_type": "execute_result"
    }
   ],
   "source": [
    "assert_not_null(aact_intv)\n",
    "len(aact_intv), len(set(aact_intv))"
   ]
  },
  {
   "cell_type": "code",
   "execution_count": 31,
   "id": "988d9b6b-ebd7-4d4b-afd8-85c7160b0a3f",
   "metadata": {
    "tags": []
   },
   "outputs": [
    {
     "data": {
      "text/html": [
       "<div>\n",
       "<style scoped>\n",
       "    .dataframe tbody tr th:only-of-type {\n",
       "        vertical-align: middle;\n",
       "    }\n",
       "\n",
       "    .dataframe tbody tr th {\n",
       "        vertical-align: top;\n",
       "    }\n",
       "\n",
       "    .dataframe thead th {\n",
       "        text-align: right;\n",
       "    }\n",
       "</style>\n",
       "<table border=\"1\" class=\"dataframe\">\n",
       "  <thead>\n",
       "    <tr style=\"text-align: right;\">\n",
       "      <th></th>\n",
       "      <th>0</th>\n",
       "      <th>name</th>\n",
       "    </tr>\n",
       "  </thead>\n",
       "  <tbody>\n",
       "    <tr>\n",
       "      <th>C1258063</th>\n",
       "      <td>103526</td>\n",
       "      <td>Physiological Effects of Drugs</td>\n",
       "    </tr>\n",
       "    <tr>\n",
       "      <th>C1258062</th>\n",
       "      <td>98733</td>\n",
       "      <td>Molecular Mechanisms of Pharmacological Action</td>\n",
       "    </tr>\n",
       "    <tr>\n",
       "      <th>C0003392</th>\n",
       "      <td>52591</td>\n",
       "      <td>Antineoplastic Agent</td>\n",
       "    </tr>\n",
       "    <tr>\n",
       "      <th>C0014432</th>\n",
       "      <td>48122</td>\n",
       "      <td>Enzyme inhibitor</td>\n",
       "    </tr>\n",
       "    <tr>\n",
       "      <th>C0243049</th>\n",
       "      <td>33059</td>\n",
       "      <td>Peripheral Nervous System Agents</td>\n",
       "    </tr>\n",
       "    <tr>\n",
       "      <th>C0021054</th>\n",
       "      <td>25448</td>\n",
       "      <td>Immunologic substance</td>\n",
       "    </tr>\n",
       "    <tr>\n",
       "      <th>C0243051</th>\n",
       "      <td>24928</td>\n",
       "      <td>Neurotransmitter Agents</td>\n",
       "    </tr>\n",
       "    <tr>\n",
       "      <th>C0003204</th>\n",
       "      <td>24797</td>\n",
       "      <td>Anti-Infective Agent</td>\n",
       "    </tr>\n",
       "    <tr>\n",
       "      <th>C0243058</th>\n",
       "      <td>21018</td>\n",
       "      <td>Sensory System Agents</td>\n",
       "    </tr>\n",
       "    <tr>\n",
       "      <th>C0007681</th>\n",
       "      <td>19233</td>\n",
       "      <td>Central Nervous System Depressants</td>\n",
       "    </tr>\n",
       "  </tbody>\n",
       "</table>\n",
       "</div>"
      ],
      "text/plain": [
       "               0                                            name\n",
       "C1258063  103526                  Physiological Effects of Drugs\n",
       "C1258062   98733  Molecular Mechanisms of Pharmacological Action\n",
       "C0003392   52591                            Antineoplastic Agent\n",
       "C0014432   48122                                Enzyme inhibitor\n",
       "C0243049   33059                Peripheral Nervous System Agents\n",
       "C0021054   25448                           Immunologic substance\n",
       "C0243051   24928                         Neurotransmitter Agents\n",
       "C0003204   24797                            Anti-Infective Agent\n",
       "C0243058   21018                           Sensory System Agents\n",
       "C0007681   19233              Central Nervous System Depressants"
      ]
     },
     "execution_count": 31,
     "metadata": {},
     "output_type": "execute_result"
    }
   ],
   "source": [
    "top_10(aact_intv)"
   ]
  },
  {
   "cell_type": "markdown",
   "id": "99ef0be5-7404-4b43-87a3-55e5cf129457",
   "metadata": {},
   "source": [
    "# CIViC"
   ]
  },
  {
   "cell_type": "code",
   "execution_count": 32,
   "id": "a84c762b-16de-440d-b9c8-87fbd10147d8",
   "metadata": {
    "tags": []
   },
   "outputs": [],
   "source": [
    "from integration.orm import civic"
   ]
  },
  {
   "cell_type": "code",
   "execution_count": 33,
   "id": "02756a4d-36e9-4f9f-b1cc-4b0017a15cb9",
   "metadata": {
    "tags": []
   },
   "outputs": [
    {
     "data": {
      "text/plain": [
       "10939"
      ]
     },
     "execution_count": 33,
     "metadata": {},
     "output_type": "execute_result"
    }
   ],
   "source": [
    "len(session.scalars(select(civic.Evidence)).fetchall())"
   ]
  },
  {
   "cell_type": "code",
   "execution_count": 34,
   "id": "b3515bef-cb2a-4bdc-84ca-5f1cf65c670b",
   "metadata": {
    "tags": []
   },
   "outputs": [],
   "source": [
    "civic_diseases = session.scalars(select(civic.Evidence.disease_cui).where(civic.Evidence.disease_cui != None)).fetchall()\n",
    "civic_phenotypes = session.scalars(select(civic.Phenotype.cui).where(civic.Phenotype.cui != None)).fetchall()\n",
    "civic_pops = civic_diseases + civic_phenotypes"
   ]
  },
  {
   "cell_type": "code",
   "execution_count": 35,
   "id": "09f3d027-d6a8-4e6a-91c8-809f6c61eb65",
   "metadata": {
    "tags": []
   },
   "outputs": [
    {
     "data": {
      "text/plain": [
       "(16180, 548)"
      ]
     },
     "execution_count": 35,
     "metadata": {},
     "output_type": "execute_result"
    }
   ],
   "source": [
    "assert_not_null(civic_pops)\n",
    "len(civic_pops), len(set(civic_pops))"
   ]
  },
  {
   "cell_type": "code",
   "execution_count": 36,
   "id": "8d3f6a7b-e9f7-422b-a4e0-1771fa823837",
   "metadata": {
    "tags": []
   },
   "outputs": [
    {
     "data": {
      "text/html": [
       "<div>\n",
       "<style scoped>\n",
       "    .dataframe tbody tr th:only-of-type {\n",
       "        vertical-align: middle;\n",
       "    }\n",
       "\n",
       "    .dataframe tbody tr th {\n",
       "        vertical-align: top;\n",
       "    }\n",
       "\n",
       "    .dataframe thead th {\n",
       "        text-align: right;\n",
       "    }\n",
       "</style>\n",
       "<table border=\"1\" class=\"dataframe\">\n",
       "  <thead>\n",
       "    <tr style=\"text-align: right;\">\n",
       "      <th></th>\n",
       "      <th>0</th>\n",
       "      <th>name</th>\n",
       "    </tr>\n",
       "  </thead>\n",
       "  <tbody>\n",
       "    <tr>\n",
       "      <th>C0019562</th>\n",
       "      <td>2822</td>\n",
       "      <td>Von Hippel Lindau Syndrome</td>\n",
       "    </tr>\n",
       "    <tr>\n",
       "      <th>C0007134</th>\n",
       "      <td>885</td>\n",
       "      <td>Renal cell carcinoma</td>\n",
       "    </tr>\n",
       "    <tr>\n",
       "      <th>C0206734</th>\n",
       "      <td>828</td>\n",
       "      <td>Hemangioblastoma</td>\n",
       "    </tr>\n",
       "    <tr>\n",
       "      <th>C0007131</th>\n",
       "      <td>808</td>\n",
       "      <td>Non-small cell lung carcinoma</td>\n",
       "    </tr>\n",
       "    <tr>\n",
       "      <th>C0730303</th>\n",
       "      <td>793</td>\n",
       "      <td>Retinal capillary hemangioma</td>\n",
       "    </tr>\n",
       "    <tr>\n",
       "      <th>C0009404</th>\n",
       "      <td>708</td>\n",
       "      <td>Neoplasm of the large intestine</td>\n",
       "    </tr>\n",
       "    <tr>\n",
       "      <th>C0031511</th>\n",
       "      <td>686</td>\n",
       "      <td>Pheochromocytoma</td>\n",
       "    </tr>\n",
       "    <tr>\n",
       "      <th>C0023473</th>\n",
       "      <td>504</td>\n",
       "      <td>None</td>\n",
       "    </tr>\n",
       "    <tr>\n",
       "      <th>C0023467</th>\n",
       "      <td>401</td>\n",
       "      <td>Acute myeloid leukemia</td>\n",
       "    </tr>\n",
       "    <tr>\n",
       "      <th>C0030283</th>\n",
       "      <td>398</td>\n",
       "      <td>Pancreatic cysts</td>\n",
       "    </tr>\n",
       "  </tbody>\n",
       "</table>\n",
       "</div>"
      ],
      "text/plain": [
       "             0                             name\n",
       "C0019562  2822       Von Hippel Lindau Syndrome\n",
       "C0007134   885             Renal cell carcinoma\n",
       "C0206734   828                 Hemangioblastoma\n",
       "C0007131   808    Non-small cell lung carcinoma\n",
       "C0730303   793     Retinal capillary hemangioma\n",
       "C0009404   708  Neoplasm of the large intestine\n",
       "C0031511   686                 Pheochromocytoma\n",
       "C0023473   504                             None\n",
       "C0023467   401           Acute myeloid leukemia\n",
       "C0030283   398                 Pancreatic cysts"
      ]
     },
     "execution_count": 36,
     "metadata": {},
     "output_type": "execute_result"
    }
   ],
   "source": [
    "top_10(civic_pops)"
   ]
  },
  {
   "cell_type": "code",
   "execution_count": 37,
   "id": "65e4ccf5-6c30-4cea-941e-2a38b98283b4",
   "metadata": {
    "tags": []
   },
   "outputs": [],
   "source": [
    "civic_intv = session.scalars(select(civic.Therapy.cui).where(civic.Therapy.cui != None)).fetchall()"
   ]
  },
  {
   "cell_type": "code",
   "execution_count": 38,
   "id": "48797fa5-5d85-4892-9758-38d8cbc7609f",
   "metadata": {
    "tags": []
   },
   "outputs": [
    {
     "data": {
      "text/plain": [
       "(6442, 433)"
      ]
     },
     "execution_count": 38,
     "metadata": {},
     "output_type": "execute_result"
    }
   ],
   "source": [
    "assert_not_null(civic_intv)\n",
    "len(civic_intv), len(set(civic_intv))"
   ]
  },
  {
   "cell_type": "code",
   "execution_count": 39,
   "id": "8075c73e-db27-461d-a845-52941442d60e",
   "metadata": {
    "tags": []
   },
   "outputs": [
    {
     "data": {
      "text/html": [
       "<div>\n",
       "<style scoped>\n",
       "    .dataframe tbody tr th:only-of-type {\n",
       "        vertical-align: middle;\n",
       "    }\n",
       "\n",
       "    .dataframe tbody tr th {\n",
       "        vertical-align: top;\n",
       "    }\n",
       "\n",
       "    .dataframe thead th {\n",
       "        text-align: right;\n",
       "    }\n",
       "</style>\n",
       "<table border=\"1\" class=\"dataframe\">\n",
       "  <thead>\n",
       "    <tr style=\"text-align: right;\">\n",
       "      <th></th>\n",
       "      <th>0</th>\n",
       "      <th>name</th>\n",
       "    </tr>\n",
       "  </thead>\n",
       "  <tbody>\n",
       "    <tr>\n",
       "      <th>C0995188</th>\n",
       "      <td>387</td>\n",
       "      <td>Cetuximab</td>\n",
       "    </tr>\n",
       "    <tr>\n",
       "      <th>C1455147</th>\n",
       "      <td>302</td>\n",
       "      <td>Dasatinib</td>\n",
       "    </tr>\n",
       "    <tr>\n",
       "      <th>C0935989</th>\n",
       "      <td>262</td>\n",
       "      <td>Imatinib</td>\n",
       "    </tr>\n",
       "    <tr>\n",
       "      <th>C1135135</th>\n",
       "      <td>260</td>\n",
       "      <td>Erlotinib</td>\n",
       "    </tr>\n",
       "    <tr>\n",
       "      <th>C2974289</th>\n",
       "      <td>260</td>\n",
       "      <td>Crizotinib</td>\n",
       "    </tr>\n",
       "    <tr>\n",
       "      <th>C3192263</th>\n",
       "      <td>254</td>\n",
       "      <td>Vemurafenib</td>\n",
       "    </tr>\n",
       "    <tr>\n",
       "      <th>C1122962</th>\n",
       "      <td>180</td>\n",
       "      <td>Gefitinib</td>\n",
       "    </tr>\n",
       "    <tr>\n",
       "      <th>C1176020</th>\n",
       "      <td>159</td>\n",
       "      <td>Sunitinib</td>\n",
       "    </tr>\n",
       "    <tr>\n",
       "      <th>C2697961</th>\n",
       "      <td>138</td>\n",
       "      <td>Trametinib</td>\n",
       "    </tr>\n",
       "    <tr>\n",
       "      <th>C0728747</th>\n",
       "      <td>126</td>\n",
       "      <td>Trastuzumab</td>\n",
       "    </tr>\n",
       "  </tbody>\n",
       "</table>\n",
       "</div>"
      ],
      "text/plain": [
       "            0         name\n",
       "C0995188  387    Cetuximab\n",
       "C1455147  302    Dasatinib\n",
       "C0935989  262     Imatinib\n",
       "C1135135  260    Erlotinib\n",
       "C2974289  260   Crizotinib\n",
       "C3192263  254  Vemurafenib\n",
       "C1122962  180    Gefitinib\n",
       "C1176020  159    Sunitinib\n",
       "C2697961  138   Trametinib\n",
       "C0728747  126  Trastuzumab"
      ]
     },
     "execution_count": 39,
     "metadata": {},
     "output_type": "execute_result"
    }
   ],
   "source": [
    "top_10(civic_intv)"
   ]
  },
  {
   "cell_type": "code",
   "execution_count": null,
   "id": "b490cc5b-049f-46ee-8554-367d1d5067a4",
   "metadata": {},
   "outputs": [],
   "source": []
  }
 ],
 "metadata": {
  "kernelspec": {
   "display_name": "Python [conda env:nge]",
   "language": "python",
   "name": "conda-env-nge-py"
  },
  "language_info": {
   "codemirror_mode": {
    "name": "ipython",
    "version": 3
   },
   "file_extension": ".py",
   "mimetype": "text/x-python",
   "name": "python",
   "nbconvert_exporter": "python",
   "pygments_lexer": "ipython3",
   "version": "3.10.12"
  }
 },
 "nbformat": 4,
 "nbformat_minor": 5
}
