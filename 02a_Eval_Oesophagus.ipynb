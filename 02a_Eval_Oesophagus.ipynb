{
 "cells": [
  {
   "cell_type": "markdown",
   "metadata": {},
   "source": [
    "# Evaluation of evidence retrieval: Esophageal Carcinoma"
   ]
  },
  {
   "cell_type": "code",
   "execution_count": 93,
   "metadata": {
    "tags": []
   },
   "outputs": [
    {
     "data": {
      "text/plain": [
       "True"
      ]
     },
     "execution_count": 93,
     "metadata": {},
     "output_type": "execute_result"
    }
   ],
   "source": [
    "from dotenv import load_dotenv\n",
    "load_dotenv()"
   ]
  },
  {
   "cell_type": "code",
   "execution_count": 94,
   "metadata": {
    "tags": []
   },
   "outputs": [],
   "source": [
    "from pathlib import Path\n",
    "import matplotlib.pyplot as plt\n",
    "\n",
    "#plt.style.use(\"../thesis.mplstyle\")"
   ]
  },
  {
   "cell_type": "code",
   "execution_count": 95,
   "metadata": {
    "tags": []
   },
   "outputs": [],
   "source": [
    "OVERWRITE_LATEX_OUTPUT = True"
   ]
  },
  {
   "cell_type": "code",
   "execution_count": 96,
   "metadata": {
    "tags": []
   },
   "outputs": [],
   "source": [
    "GUIDELINE_ID = \"oesophaguskarzinom\"\n",
    "SCREENING_TF_MIN = \"09/01/2019\" # 09/01/2019 stated in report, but some PMIDs are included anyway\n",
    "SCREENING_TF_MAX = \"03/04/2022\""
   ]
  },
  {
   "cell_type": "code",
   "execution_count": 97,
   "metadata": {
    "tags": []
   },
   "outputs": [],
   "source": [
    "PATH_PREFIX = \"esophagus\"\n",
    "PATH_GGPONC_LITERATURE = Path(\"data/screening/ggponc_v2.1_2023_03_30_literature.csv\")\n",
    "PATH_RIS_CONTENT = Path(f\"data/screening/{PATH_PREFIX}/ris_with_matched_ids.csv\")\n",
    "PATH_MANUAL_REVIEW = Path(f\"data/screening/{PATH_PREFIX}/manual_review.csv\")\n",
    "PATH_QUERY_RESULT = Path(f\"data/screening/{PATH_PREFIX}/retrieved_evidence.parquet\")\n",
    "PATH_UNSCREENED_HQ = Path(f\"data/screening/{PATH_PREFIX}/unscreened_hq.csv\")\n",
    "\n",
    "PATH_LATEX_TABLE_OUTPUT = Path(\n",
    "    f\"output/latex/from_python/tables/evaluation/{PATH_PREFIX}/\"\n",
    ")\n",
    "PATH_LATEX_PLOT_OUTPUT = Path(\n",
    "    f\"output/latex/from_python/figures/evaluation/{PATH_PREFIX}/\"\n",
    ")\n",
    "PATH_LATEX_TABLE_OUTPUT.mkdir(exist_ok=True, parents=True)\n",
    "PATH_LATEX_PLOT_OUTPUT.mkdir(exist_ok=True, parents=True)"
   ]
  },
  {
   "cell_type": "code",
   "execution_count": 98,
   "metadata": {
    "tags": []
   },
   "outputs": [],
   "source": [
    "from api.app import app\n",
    "from fastapi.testclient import TestClient\n",
    "import os\n",
    "\n",
    "with TestClient(app) as client:\n",
    "    # Initialize state\n",
    "    pass    \n",
    "\n",
    "session = app.state.session()"
   ]
  },
  {
   "cell_type": "markdown",
   "metadata": {},
   "source": [
    "## Screened evidence"
   ]
  },
  {
   "cell_type": "code",
   "execution_count": 99,
   "metadata": {
    "tags": []
   },
   "outputs": [],
   "source": [
    "import pandas as pd"
   ]
  },
  {
   "cell_type": "code",
   "execution_count": 100,
   "metadata": {
    "tags": []
   },
   "outputs": [],
   "source": [
    "df_s = pd.read_csv(\n",
    "    PATH_RIS_CONTENT,\n",
    "    parse_dates=[\"publication_date\", \"article_date_api\"],\n",
    ").astype({\"pm_id\": \"Int64\"})"
   ]
  },
  {
   "cell_type": "code",
   "execution_count": 101,
   "metadata": {
    "tags": []
   },
   "outputs": [],
   "source": [
    "import ast\n",
    "\n",
    "df_s[\"publication_types\"] = df_s[\"publication_types\"].apply(ast.literal_eval)"
   ]
  },
  {
   "cell_type": "code",
   "execution_count": 102,
   "metadata": {
    "tags": []
   },
   "outputs": [
    {
     "data": {
      "text/html": [
       "<div>\n",
       "<style scoped>\n",
       "    .dataframe tbody tr th:only-of-type {\n",
       "        vertical-align: middle;\n",
       "    }\n",
       "\n",
       "    .dataframe tbody tr th {\n",
       "        vertical-align: top;\n",
       "    }\n",
       "\n",
       "    .dataframe thead th {\n",
       "        text-align: right;\n",
       "    }\n",
       "</style>\n",
       "<table border=\"1\" class=\"dataframe\">\n",
       "  <thead>\n",
       "    <tr style=\"text-align: right;\">\n",
       "      <th>is_rct_api</th>\n",
       "      <th>False</th>\n",
       "      <th>True</th>\n",
       "      <th>All</th>\n",
       "    </tr>\n",
       "    <tr>\n",
       "      <th>is_included</th>\n",
       "      <th></th>\n",
       "      <th></th>\n",
       "      <th></th>\n",
       "    </tr>\n",
       "  </thead>\n",
       "  <tbody>\n",
       "    <tr>\n",
       "      <th>False</th>\n",
       "      <td>2643</td>\n",
       "      <td>302</td>\n",
       "      <td>2945</td>\n",
       "    </tr>\n",
       "    <tr>\n",
       "      <th>True</th>\n",
       "      <td>52</td>\n",
       "      <td>29</td>\n",
       "      <td>81</td>\n",
       "    </tr>\n",
       "    <tr>\n",
       "      <th>All</th>\n",
       "      <td>2695</td>\n",
       "      <td>331</td>\n",
       "      <td>3026</td>\n",
       "    </tr>\n",
       "  </tbody>\n",
       "</table>\n",
       "</div>"
      ],
      "text/plain": [
       "is_rct_api   False  True   All\n",
       "is_included                   \n",
       "False         2643   302  2945\n",
       "True            52    29    81\n",
       "All           2695   331  3026"
      ]
     },
     "execution_count": 102,
     "metadata": {},
     "output_type": "execute_result"
    }
   ],
   "source": [
    "pd.crosstab(df_s[\"is_included\"], df_s[\"is_rct_api\"], margins=True)"
   ]
  },
  {
   "cell_type": "code",
   "execution_count": 103,
   "metadata": {
    "tags": []
   },
   "outputs": [
    {
     "data": {
      "text/html": [
       "<div>\n",
       "<style scoped>\n",
       "    .dataframe tbody tr th:only-of-type {\n",
       "        vertical-align: middle;\n",
       "    }\n",
       "\n",
       "    .dataframe tbody tr th {\n",
       "        vertical-align: top;\n",
       "    }\n",
       "\n",
       "    .dataframe thead th {\n",
       "        text-align: right;\n",
       "    }\n",
       "</style>\n",
       "<table border=\"1\" class=\"dataframe\">\n",
       "  <thead>\n",
       "    <tr style=\"text-align: right;\">\n",
       "      <th>is_rct_api</th>\n",
       "      <th>False</th>\n",
       "      <th>True</th>\n",
       "      <th>All</th>\n",
       "    </tr>\n",
       "    <tr>\n",
       "      <th>is_relevant</th>\n",
       "      <th></th>\n",
       "      <th></th>\n",
       "      <th></th>\n",
       "    </tr>\n",
       "  </thead>\n",
       "  <tbody>\n",
       "    <tr>\n",
       "      <th>False</th>\n",
       "      <td>2640</td>\n",
       "      <td>296</td>\n",
       "      <td>2936</td>\n",
       "    </tr>\n",
       "    <tr>\n",
       "      <th>True</th>\n",
       "      <td>55</td>\n",
       "      <td>35</td>\n",
       "      <td>90</td>\n",
       "    </tr>\n",
       "    <tr>\n",
       "      <th>All</th>\n",
       "      <td>2695</td>\n",
       "      <td>331</td>\n",
       "      <td>3026</td>\n",
       "    </tr>\n",
       "  </tbody>\n",
       "</table>\n",
       "</div>"
      ],
      "text/plain": [
       "is_rct_api   False  True   All\n",
       "is_relevant                   \n",
       "False         2640   296  2936\n",
       "True            55    35    90\n",
       "All           2695   331  3026"
      ]
     },
     "execution_count": 103,
     "metadata": {},
     "output_type": "execute_result"
    }
   ],
   "source": [
    "pd.crosstab(df_s[\"is_relevant\"], df_s[\"is_rct_api\"], margins=True)"
   ]
  },
  {
   "cell_type": "code",
   "execution_count": 104,
   "metadata": {
    "tags": []
   },
   "outputs": [
    {
     "data": {
      "text/plain": [
       "screening_origin  is_relevant  is_rct_api\n",
       "manual            False        False            3\n",
       "                               True             6\n",
       "                  True         True             9\n",
       "original          False        False         2637\n",
       "                               True           290\n",
       "                  True         False           55\n",
       "                               True            26\n",
       "dtype: int64"
      ]
     },
     "execution_count": 104,
     "metadata": {},
     "output_type": "execute_result"
    }
   ],
   "source": [
    "df_s.groupby(['screening_origin', 'is_relevant', 'is_rct_api']).size()"
   ]
  },
  {
   "cell_type": "markdown",
   "metadata": {},
   "source": [
    "## Retrieved Evidence"
   ]
  },
  {
   "cell_type": "code",
   "execution_count": 105,
   "metadata": {
    "scrolled": true,
    "tags": []
   },
   "outputs": [],
   "source": [
    "from integration.citation_utils import pm_id_to_publication_date\n",
    "from evaluation.matching import is_in_ggponc\n",
    "from tqdm.auto import tqdm\n",
    "import os\n",
    "from requests.exceptions import ConnectionError\n",
    "\n",
    "if PATH_QUERY_RESULT.exists():\n",
    "    df_query = pd.read_parquet(PATH_QUERY_RESULT).astype({\"pm_id\": \"Int64\"})\n",
    "else:\n",
    "    query = EvidenceQuery(guideline_id=GUIDELINE_ID)\n",
    "    try:\n",
    "        # fetch evidence from API\n",
    "        print(\"Fetching evidence from API\")\n",
    "        evidence = query_api_for_evidence(query=query)\n",
    "        df_query = evidence_to_df(evidence)\n",
    "        df_query[\"guideline_id\"] = GUIDELINE_ID\n",
    "        print(\"Done.\")\n",
    "\n",
    "        # retrieve exact article dates from Pubmed API\n",
    "        tqdm.pandas(desc=\"Fetching article dates\")\n",
    "        df_query[\"article_date_api\"] = pd.to_datetime(\n",
    "            df_query[\"pm_id\"].progress_apply(\n",
    "                lambda pm_id: pm_id_to_publication_date(\n",
    "                    pm_id=pm_id,\n",
    "                    email=os.environ.get(\"PUBMED_USER\"),\n",
    "                    api_key=os.environ.get(\"PUBMED_API_KEY\"),\n",
    "                    cache_path=\"data/literature/pm_id_to_entrez_xml.json\",\n",
    "                )\n",
    "            )\n",
    "        )\n",
    "\n",
    "        # exclude articles outside of screening timeframe\n",
    "        df_query[\"publication_date_combined\"] = df_query[\"article_date_api\"].fillna(\n",
    "            df_query[\"publication_date\"]\n",
    "        )\n",
    "        df_query = df_query.query(\n",
    "            \"(publication_date_combined >= @SCREENING_TF_MIN & publication_date_combined <= @SCREENING_TF_MAX)\"\n",
    "        )\n",
    "\n",
    "        # check presence in GGPONC\n",
    "        df_ggponc = (\n",
    "            pd.read_csv(PATH_GGPONC_LITERATURE)\n",
    "            .astype({\"pm_id\": \"Int64\"})\n",
    "            .query(\"guideline_id == @GUIDELINE_ID\")\n",
    "        )\n",
    "        ggponc_pm_ids = set(df_ggponc[\"pm_id\"].dropna())\n",
    "        ggponc_titles = set(df_ggponc[\"title\"])\n",
    "\n",
    "        tqdm.pandas(desc=\"Checking for presence in GGPONC\")\n",
    "        df_query = df_query.progress_apply(  # type: ignore\n",
    "            lambda row: is_in_ggponc(\n",
    "                row=row, ggponc_pm_ids=ggponc_pm_ids, ggponc_titles=ggponc_titles\n",
    "            ),\n",
    "            axis=1,\n",
    "        )\n",
    "\n",
    "        df_query.to_parquet(PATH_QUERY_RESULT)\n",
    "    except ConnectionError:\n",
    "        print(\"Can't connect to the API, is it running?\")"
   ]
  },
  {
   "cell_type": "code",
   "execution_count": 106,
   "metadata": {
    "tags": []
   },
   "outputs": [
    {
     "data": {
      "text/html": [
       "<div>\n",
       "<style scoped>\n",
       "    .dataframe tbody tr th:only-of-type {\n",
       "        vertical-align: middle;\n",
       "    }\n",
       "\n",
       "    .dataframe tbody tr th {\n",
       "        vertical-align: top;\n",
       "    }\n",
       "\n",
       "    .dataframe thead th {\n",
       "        text-align: right;\n",
       "    }\n",
       "</style>\n",
       "<table border=\"1\" class=\"dataframe\">\n",
       "  <thead>\n",
       "    <tr style=\"text-align: right;\">\n",
       "      <th>is_in_ggponc</th>\n",
       "      <th>False</th>\n",
       "      <th>True</th>\n",
       "      <th>All</th>\n",
       "    </tr>\n",
       "    <tr>\n",
       "      <th>source</th>\n",
       "      <th></th>\n",
       "      <th></th>\n",
       "      <th></th>\n",
       "    </tr>\n",
       "  </thead>\n",
       "  <tbody>\n",
       "    <tr>\n",
       "      <th>Civic</th>\n",
       "      <td>4</td>\n",
       "      <td>0</td>\n",
       "      <td>4</td>\n",
       "    </tr>\n",
       "    <tr>\n",
       "      <th>ClinicalTrials</th>\n",
       "      <td>40</td>\n",
       "      <td>0</td>\n",
       "      <td>40</td>\n",
       "    </tr>\n",
       "    <tr>\n",
       "      <th>Pubmed</th>\n",
       "      <td>316</td>\n",
       "      <td>10</td>\n",
       "      <td>326</td>\n",
       "    </tr>\n",
       "    <tr>\n",
       "      <th>All</th>\n",
       "      <td>360</td>\n",
       "      <td>10</td>\n",
       "      <td>370</td>\n",
       "    </tr>\n",
       "  </tbody>\n",
       "</table>\n",
       "</div>"
      ],
      "text/plain": [
       "is_in_ggponc    False  True  All\n",
       "source                          \n",
       "Civic               4     0    4\n",
       "ClinicalTrials     40     0   40\n",
       "Pubmed            316    10  326\n",
       "All               360    10  370"
      ]
     },
     "execution_count": 106,
     "metadata": {},
     "output_type": "execute_result"
    }
   ],
   "source": [
    "pd.crosstab(df_query[\"source\"], df_query[\"is_in_ggponc\"], margins=True)"
   ]
  },
  {
   "cell_type": "code",
   "execution_count": 107,
   "metadata": {
    "tags": []
   },
   "outputs": [
    {
     "data": {
      "text/html": [
       "<div>\n",
       "<style scoped>\n",
       "    .dataframe tbody tr th:only-of-type {\n",
       "        vertical-align: middle;\n",
       "    }\n",
       "\n",
       "    .dataframe tbody tr th {\n",
       "        vertical-align: top;\n",
       "    }\n",
       "\n",
       "    .dataframe thead th {\n",
       "        text-align: right;\n",
       "    }\n",
       "</style>\n",
       "<table border=\"1\" class=\"dataframe\">\n",
       "  <thead>\n",
       "    <tr style=\"text-align: right;\">\n",
       "      <th>is_in_ggponc</th>\n",
       "      <th>False</th>\n",
       "      <th>True</th>\n",
       "      <th>All</th>\n",
       "    </tr>\n",
       "    <tr>\n",
       "      <th>is_included</th>\n",
       "      <th></th>\n",
       "      <th></th>\n",
       "      <th></th>\n",
       "    </tr>\n",
       "  </thead>\n",
       "  <tbody>\n",
       "    <tr>\n",
       "      <th>False</th>\n",
       "      <td>2934</td>\n",
       "      <td>11</td>\n",
       "      <td>2945</td>\n",
       "    </tr>\n",
       "    <tr>\n",
       "      <th>True</th>\n",
       "      <td>76</td>\n",
       "      <td>5</td>\n",
       "      <td>81</td>\n",
       "    </tr>\n",
       "    <tr>\n",
       "      <th>All</th>\n",
       "      <td>3010</td>\n",
       "      <td>16</td>\n",
       "      <td>3026</td>\n",
       "    </tr>\n",
       "  </tbody>\n",
       "</table>\n",
       "</div>"
      ],
      "text/plain": [
       "is_in_ggponc  False  True   All\n",
       "is_included                    \n",
       "False          2934    11  2945\n",
       "True             76     5    81\n",
       "All            3010    16  3026"
      ]
     },
     "execution_count": 107,
     "metadata": {},
     "output_type": "execute_result"
    }
   ],
   "source": [
    "pd.crosstab(df_s[\"is_included\"], df_s[\"is_in_ggponc\"], margins=True)"
   ]
  },
  {
   "cell_type": "code",
   "execution_count": 108,
   "metadata": {
    "tags": []
   },
   "outputs": [
    {
     "data": {
      "text/html": [
       "<div>\n",
       "<style scoped>\n",
       "    .dataframe tbody tr th:only-of-type {\n",
       "        vertical-align: middle;\n",
       "    }\n",
       "\n",
       "    .dataframe tbody tr th {\n",
       "        vertical-align: top;\n",
       "    }\n",
       "\n",
       "    .dataframe thead th {\n",
       "        text-align: right;\n",
       "    }\n",
       "</style>\n",
       "<table border=\"1\" class=\"dataframe\">\n",
       "  <thead>\n",
       "    <tr style=\"text-align: right;\">\n",
       "      <th>is_in_ggponc</th>\n",
       "      <th>False</th>\n",
       "      <th>True</th>\n",
       "      <th>All</th>\n",
       "    </tr>\n",
       "    <tr>\n",
       "      <th>is_relevant</th>\n",
       "      <th></th>\n",
       "      <th></th>\n",
       "      <th></th>\n",
       "    </tr>\n",
       "  </thead>\n",
       "  <tbody>\n",
       "    <tr>\n",
       "      <th>False</th>\n",
       "      <td>2934</td>\n",
       "      <td>2</td>\n",
       "      <td>2936</td>\n",
       "    </tr>\n",
       "    <tr>\n",
       "      <th>True</th>\n",
       "      <td>76</td>\n",
       "      <td>14</td>\n",
       "      <td>90</td>\n",
       "    </tr>\n",
       "    <tr>\n",
       "      <th>All</th>\n",
       "      <td>3010</td>\n",
       "      <td>16</td>\n",
       "      <td>3026</td>\n",
       "    </tr>\n",
       "  </tbody>\n",
       "</table>\n",
       "</div>"
      ],
      "text/plain": [
       "is_in_ggponc  False  True   All\n",
       "is_relevant                    \n",
       "False          2934     2  2936\n",
       "True             76    14    90\n",
       "All            3010    16  3026"
      ]
     },
     "execution_count": 108,
     "metadata": {},
     "output_type": "execute_result"
    }
   ],
   "source": [
    "pd.crosstab(df_s[\"is_relevant\"], df_s[\"is_in_ggponc\"], margins=True)"
   ]
  },
  {
   "cell_type": "code",
   "execution_count": 109,
   "metadata": {
    "tags": []
   },
   "outputs": [
    {
     "data": {
      "text/plain": [
       "screening_origin  is_relevant  is_rct_api\n",
       "manual            False        False            3\n",
       "                               True             6\n",
       "                  True         True             9\n",
       "original          False        False         2637\n",
       "                               True           290\n",
       "                  True         False           55\n",
       "                               True            26\n",
       "dtype: int64"
      ]
     },
     "execution_count": 109,
     "metadata": {},
     "output_type": "execute_result"
    }
   ],
   "source": [
    "df_s.groupby(['screening_origin', 'is_relevant', 'is_rct_api']).size()"
   ]
  },
  {
   "cell_type": "markdown",
   "metadata": {},
   "source": [
    "## Retrieval Evaluation using the Pubmed data"
   ]
  },
  {
   "cell_type": "markdown",
   "metadata": {},
   "source": [
    "For the evaluation, we only look at results retrieved from Pubmed:"
   ]
  },
  {
   "cell_type": "code",
   "execution_count": 110,
   "metadata": {
    "tags": []
   },
   "outputs": [],
   "source": [
    "df_r = df_query.query(\"source == 'Pubmed'\").copy()"
   ]
  },
  {
   "cell_type": "markdown",
   "metadata": {},
   "source": [
    "Check if CIViC results are already in PubMed result"
   ]
  },
  {
   "cell_type": "code",
   "execution_count": 111,
   "metadata": {
    "tags": []
   },
   "outputs": [
    {
     "name": "stdout",
     "output_type": "stream",
     "text": [
      "34912120 True\n",
      "32469182 True\n",
      "32308431 False\n",
      "31908417 False\n"
     ]
    }
   ],
   "source": [
    "df_civic = df_query.query(\"source == 'Civic'\")\n",
    "for pm_id in df_civic.pm_id:\n",
    "    print(pm_id, pm_id in df_r.pm_id.values)"
   ]
  },
  {
   "cell_type": "markdown",
   "metadata": {},
   "source": [
    "Furthermore, we consider all results that we can retrieve from GGPONC as having been screened and included, thus making them relevant. We therefor add these records to the dataframe containing the screened records:"
   ]
  },
  {
   "cell_type": "code",
   "execution_count": 112,
   "metadata": {
    "tags": []
   },
   "outputs": [],
   "source": [
    "from evaluation.matching import add_unscreened_ggponc_citations"
   ]
  },
  {
   "cell_type": "code",
   "execution_count": 113,
   "metadata": {
    "tags": []
   },
   "outputs": [],
   "source": [
    "df_s_with_ggponc = add_unscreened_ggponc_citations(df_s, df_r)"
   ]
  },
  {
   "cell_type": "code",
   "execution_count": 114,
   "metadata": {
    "tags": []
   },
   "outputs": [],
   "source": [
    "from evaluation.metrics import FILTERS_SCREENED, FILTERS_RETRIEVED"
   ]
  },
  {
   "cell_type": "code",
   "execution_count": 115,
   "metadata": {
    "tags": []
   },
   "outputs": [
    {
     "name": "stdout",
     "output_type": "stream",
     "text": [
      "Evaluating screened document subset 'All'\n"
     ]
    },
    {
     "data": {
      "application/vnd.jupyter.widget-view+json": {
       "model_id": "c7007839ec0446d6b510ae1afa7b7929",
       "version_major": 2,
       "version_minor": 0
      },
      "text/plain": [
       "Evaluating filter combinations:   0%|          | 0/14 [00:00<?, ?it/s]"
      ]
     },
     "metadata": {},
     "output_type": "display_data"
    },
    {
     "name": "stdout",
     "output_type": "stream",
     "text": [
      "Evaluating screened document subset 'Only RCTs'\n"
     ]
    },
    {
     "data": {
      "application/vnd.jupyter.widget-view+json": {
       "model_id": "df59721fd4f343f39e9002d7e439028a",
       "version_major": 2,
       "version_minor": 0
      },
      "text/plain": [
       "Evaluating filter combinations:   0%|          | 0/14 [00:00<?, ?it/s]"
      ]
     },
     "metadata": {},
     "output_type": "display_data"
    }
   ],
   "source": [
    "from evaluation.metrics import run_evaluation\n",
    "\n",
    "metrics = run_evaluation(\n",
    "    df_s_with_ggponc.query(\"screening_origin == 'original'\"),\n",
    "    df_r,\n",
    "    filters_screened=FILTERS_SCREENED,\n",
    "    filters_retrieved=FILTERS_RETRIEVED,\n",
    "    col_id=\"pm_id\",\n",
    "    col_relevant=\"is_relevant\",\n",
    "    compute_combinations=False,\n",
    ")"
   ]
  },
  {
   "cell_type": "code",
   "execution_count": 116,
   "metadata": {
    "tags": []
   },
   "outputs": [],
   "source": [
    "from evaluation.plotting import draw_venn_rsi"
   ]
  },
  {
   "cell_type": "markdown",
   "metadata": {},
   "source": [
    "### All evidence with a Pubmed ID"
   ]
  },
  {
   "cell_type": "code",
   "execution_count": 117,
   "metadata": {
    "tags": []
   },
   "outputs": [
    {
     "data": {
      "image/png": "[encoded data removed]",
      "text/plain": [
       "<Figure size 551.181x340.649 with 1 Axes>"
      ]
     },
     "metadata": {},
     "output_type": "display_data"
    }
   ],
   "source": [
    "draw_venn_rsi(\n",
    "    title=\"All\",\n",
    "    ids_retrieved=metrics[\"All\"][\"All\"][\"ids_retrieved\"],\n",
    "    ids_screened=metrics[\"All\"][\"All\"][\"ids_screened\"],\n",
    "    ids_screened_relevant=metrics[\"All\"][\"All\"][\"ids_screened_relevant\"],\n",
    "    add_pn_labels=True,\n",
    ");"
   ]
  },
  {
   "cell_type": "code",
   "execution_count": 118,
   "metadata": {
    "tags": []
   },
   "outputs": [],
   "source": [
    "from evaluation.metrics import metrics_to_df, highlight_metrics"
   ]
  },
  {
   "cell_type": "code",
   "execution_count": 119,
   "metadata": {
    "tags": []
   },
   "outputs": [
    {
     "data": {
      "text/html": [
       "<style type=\"text/css\">\n",
       "#T_e0765_row0_col1, #T_e0765_row0_col3, #T_e0765_row0_col5, #T_e0765_row2_col1, #T_e0765_row2_col3, #T_e0765_row2_col5, #T_e0765_row3_col1, #T_e0765_row3_col3, #T_e0765_row3_col5, #T_e0765_row5_col0, #T_e0765_row5_col2, #T_e0765_row5_col4, #T_e0765_row9_col1, #T_e0765_row9_col3, #T_e0765_row9_col5 {\n",
       "  font-weight: bold;\n",
       "}\n",
       "</style>\n",
       "<table id=\"T_e0765\">\n",
       "  <thead>\n",
       "    <tr>\n",
       "      <th class=\"blank level0\" >&nbsp;</th>\n",
       "      <th id=\"T_e0765_level0_col0\" class=\"col_heading level0 col0\" >Precision</th>\n",
       "      <th id=\"T_e0765_level0_col1\" class=\"col_heading level0 col1\" >Recall</th>\n",
       "      <th id=\"T_e0765_level0_col2\" class=\"col_heading level0 col2\" >$F_1$</th>\n",
       "      <th id=\"T_e0765_level0_col3\" class=\"col_heading level0 col3\" >TP</th>\n",
       "      <th id=\"T_e0765_level0_col4\" class=\"col_heading level0 col4\" >FP</th>\n",
       "      <th id=\"T_e0765_level0_col5\" class=\"col_heading level0 col5\" >FN</th>\n",
       "      <th id=\"T_e0765_level0_col6\" class=\"col_heading level0 col6\" >TN</th>\n",
       "      <th id=\"T_e0765_level0_col7\" class=\"col_heading level0 col7\" >?</th>\n",
       "      <th id=\"T_e0765_level0_col8\" class=\"col_heading level0 col8\" >Retrieved</th>\n",
       "      <th id=\"T_e0765_level0_col9\" class=\"col_heading level0 col9\" >Screened</th>\n",
       "      <th id=\"T_e0765_level0_col10\" class=\"col_heading level0 col10\" >Relevant</th>\n",
       "    </tr>\n",
       "  </thead>\n",
       "  <tbody>\n",
       "    <tr>\n",
       "      <th id=\"T_e0765_level0_row0\" class=\"row_heading level0 row0\" >All</th>\n",
       "      <td id=\"T_e0765_row0_col0\" class=\"data row0 col0\" >0.1030</td>\n",
       "      <td id=\"T_e0765_row0_col1\" class=\"data row0 col1\" >0.2963</td>\n",
       "      <td id=\"T_e0765_row0_col2\" class=\"data row0 col2\" >0.152900</td>\n",
       "      <td id=\"T_e0765_row0_col3\" class=\"data row0 col3\" >24</td>\n",
       "      <td id=\"T_e0765_row0_col4\" class=\"data row0 col4\" >209</td>\n",
       "      <td id=\"T_e0765_row0_col5\" class=\"data row0 col5\" >57</td>\n",
       "      <td id=\"T_e0765_row0_col6\" class=\"data row0 col6\" >1873</td>\n",
       "      <td id=\"T_e0765_row0_col7\" class=\"data row0 col7\" >93</td>\n",
       "      <td id=\"T_e0765_row0_col8\" class=\"data row0 col8\" >326</td>\n",
       "      <td id=\"T_e0765_row0_col9\" class=\"data row0 col9\" >2163</td>\n",
       "      <td id=\"T_e0765_row0_col10\" class=\"data row0 col10\" >81</td>\n",
       "    </tr>\n",
       "    <tr>\n",
       "      <th id=\"T_e0765_level0_row1\" class=\"row_heading level0 row1\" >Is RCT</th>\n",
       "      <td id=\"T_e0765_row1_col0\" class=\"data row1 col0\" >0.1358</td>\n",
       "      <td id=\"T_e0765_row1_col1\" class=\"data row1 col1\" >0.2716</td>\n",
       "      <td id=\"T_e0765_row1_col2\" class=\"data row1 col2\" >0.181100</td>\n",
       "      <td id=\"T_e0765_row1_col3\" class=\"data row1 col3\" >22</td>\n",
       "      <td id=\"T_e0765_row1_col4\" class=\"data row1 col4\" >140</td>\n",
       "      <td id=\"T_e0765_row1_col5\" class=\"data row1 col5\" >59</td>\n",
       "      <td id=\"T_e0765_row1_col6\" class=\"data row1 col6\" >1942</td>\n",
       "      <td id=\"T_e0765_row1_col7\" class=\"data row1 col7\" >48</td>\n",
       "      <td id=\"T_e0765_row1_col8\" class=\"data row1 col8\" >210</td>\n",
       "      <td id=\"T_e0765_row1_col9\" class=\"data row1 col9\" >2163</td>\n",
       "      <td id=\"T_e0765_row1_col10\" class=\"data row1 col10\" >81</td>\n",
       "    </tr>\n",
       "    <tr>\n",
       "      <th id=\"T_e0765_level0_row2\" class=\"row_heading level0 row2\" >Non-empty Abstract</th>\n",
       "      <td id=\"T_e0765_row2_col0\" class=\"data row2 col0\" >0.1030</td>\n",
       "      <td id=\"T_e0765_row2_col1\" class=\"data row2 col1\" >0.2963</td>\n",
       "      <td id=\"T_e0765_row2_col2\" class=\"data row2 col2\" >0.152900</td>\n",
       "      <td id=\"T_e0765_row2_col3\" class=\"data row2 col3\" >24</td>\n",
       "      <td id=\"T_e0765_row2_col4\" class=\"data row2 col4\" >209</td>\n",
       "      <td id=\"T_e0765_row2_col5\" class=\"data row2 col5\" >57</td>\n",
       "      <td id=\"T_e0765_row2_col6\" class=\"data row2 col6\" >1873</td>\n",
       "      <td id=\"T_e0765_row2_col7\" class=\"data row2 col7\" >89</td>\n",
       "      <td id=\"T_e0765_row2_col8\" class=\"data row2 col8\" >322</td>\n",
       "      <td id=\"T_e0765_row2_col9\" class=\"data row2 col9\" >2163</td>\n",
       "      <td id=\"T_e0765_row2_col10\" class=\"data row2 col10\" >81</td>\n",
       "    </tr>\n",
       "    <tr>\n",
       "      <th id=\"T_e0765_level0_row3\" class=\"row_heading level0 row3\" >Non-pediatric population</th>\n",
       "      <td id=\"T_e0765_row3_col0\" class=\"data row3 col0\" >0.1034</td>\n",
       "      <td id=\"T_e0765_row3_col1\" class=\"data row3 col1\" >0.2963</td>\n",
       "      <td id=\"T_e0765_row3_col2\" class=\"data row3 col2\" >0.153400</td>\n",
       "      <td id=\"T_e0765_row3_col3\" class=\"data row3 col3\" >24</td>\n",
       "      <td id=\"T_e0765_row3_col4\" class=\"data row3 col4\" >208</td>\n",
       "      <td id=\"T_e0765_row3_col5\" class=\"data row3 col5\" >57</td>\n",
       "      <td id=\"T_e0765_row3_col6\" class=\"data row3 col6\" >1874</td>\n",
       "      <td id=\"T_e0765_row3_col7\" class=\"data row3 col7\" >93</td>\n",
       "      <td id=\"T_e0765_row3_col8\" class=\"data row3 col8\" >325</td>\n",
       "      <td id=\"T_e0765_row3_col9\" class=\"data row3 col9\" >2163</td>\n",
       "      <td id=\"T_e0765_row3_col10\" class=\"data row3 col10\" >81</td>\n",
       "    </tr>\n",
       "    <tr>\n",
       "      <th id=\"T_e0765_level0_row4\" class=\"row_heading level0 row4\" >Phase >= 2</th>\n",
       "      <td id=\"T_e0765_row4_col0\" class=\"data row4 col0\" >0.1587</td>\n",
       "      <td id=\"T_e0765_row4_col1\" class=\"data row4 col1\" >0.2469</td>\n",
       "      <td id=\"T_e0765_row4_col2\" class=\"data row4 col2\" >0.193200</td>\n",
       "      <td id=\"T_e0765_row4_col3\" class=\"data row4 col3\" >20</td>\n",
       "      <td id=\"T_e0765_row4_col4\" class=\"data row4 col4\" >106</td>\n",
       "      <td id=\"T_e0765_row4_col5\" class=\"data row4 col5\" >61</td>\n",
       "      <td id=\"T_e0765_row4_col6\" class=\"data row4 col6\" >1976</td>\n",
       "      <td id=\"T_e0765_row4_col7\" class=\"data row4 col7\" >36</td>\n",
       "      <td id=\"T_e0765_row4_col8\" class=\"data row4 col8\" >162</td>\n",
       "      <td id=\"T_e0765_row4_col9\" class=\"data row4 col9\" >2163</td>\n",
       "      <td id=\"T_e0765_row4_col10\" class=\"data row4 col10\" >81</td>\n",
       "    </tr>\n",
       "    <tr>\n",
       "      <th id=\"T_e0765_level0_row5\" class=\"row_heading level0 row5\" >Phase >= 3</th>\n",
       "      <td id=\"T_e0765_row5_col0\" class=\"data row5 col0\" >0.3091</td>\n",
       "      <td id=\"T_e0765_row5_col1\" class=\"data row5 col1\" >0.2099</td>\n",
       "      <td id=\"T_e0765_row5_col2\" class=\"data row5 col2\" >0.250000</td>\n",
       "      <td id=\"T_e0765_row5_col3\" class=\"data row5 col3\" >17</td>\n",
       "      <td id=\"T_e0765_row5_col4\" class=\"data row5 col4\" >38</td>\n",
       "      <td id=\"T_e0765_row5_col5\" class=\"data row5 col5\" >64</td>\n",
       "      <td id=\"T_e0765_row5_col6\" class=\"data row5 col6\" >2044</td>\n",
       "      <td id=\"T_e0765_row5_col7\" class=\"data row5 col7\" >8</td>\n",
       "      <td id=\"T_e0765_row5_col8\" class=\"data row5 col8\" >63</td>\n",
       "      <td id=\"T_e0765_row5_col9\" class=\"data row5 col9\" >2163</td>\n",
       "      <td id=\"T_e0765_row5_col10\" class=\"data row5 col10\" >81</td>\n",
       "    </tr>\n",
       "    <tr>\n",
       "      <th id=\"T_e0765_level0_row6\" class=\"row_heading level0 row6\" >Sample Size >= 5</th>\n",
       "      <td id=\"T_e0765_row6_col0\" class=\"data row6 col0\" >0.1031</td>\n",
       "      <td id=\"T_e0765_row6_col1\" class=\"data row6 col1\" >0.2840</td>\n",
       "      <td id=\"T_e0765_row6_col2\" class=\"data row6 col2\" >0.151300</td>\n",
       "      <td id=\"T_e0765_row6_col3\" class=\"data row6 col3\" >23</td>\n",
       "      <td id=\"T_e0765_row6_col4\" class=\"data row6 col4\" >200</td>\n",
       "      <td id=\"T_e0765_row6_col5\" class=\"data row6 col5\" >58</td>\n",
       "      <td id=\"T_e0765_row6_col6\" class=\"data row6 col6\" >1882</td>\n",
       "      <td id=\"T_e0765_row6_col7\" class=\"data row6 col7\" >87</td>\n",
       "      <td id=\"T_e0765_row6_col8\" class=\"data row6 col8\" >310</td>\n",
       "      <td id=\"T_e0765_row6_col9\" class=\"data row6 col9\" >2163</td>\n",
       "      <td id=\"T_e0765_row6_col10\" class=\"data row6 col10\" >81</td>\n",
       "    </tr>\n",
       "    <tr>\n",
       "      <th id=\"T_e0765_level0_row7\" class=\"row_heading level0 row7\" >Sample Size >= 10</th>\n",
       "      <td id=\"T_e0765_row7_col0\" class=\"data row7 col0\" >0.1045</td>\n",
       "      <td id=\"T_e0765_row7_col1\" class=\"data row7 col1\" >0.2840</td>\n",
       "      <td id=\"T_e0765_row7_col2\" class=\"data row7 col2\" >0.152800</td>\n",
       "      <td id=\"T_e0765_row7_col3\" class=\"data row7 col3\" >23</td>\n",
       "      <td id=\"T_e0765_row7_col4\" class=\"data row7 col4\" >197</td>\n",
       "      <td id=\"T_e0765_row7_col5\" class=\"data row7 col5\" >58</td>\n",
       "      <td id=\"T_e0765_row7_col6\" class=\"data row7 col6\" >1885</td>\n",
       "      <td id=\"T_e0765_row7_col7\" class=\"data row7 col7\" >86</td>\n",
       "      <td id=\"T_e0765_row7_col8\" class=\"data row7 col8\" >306</td>\n",
       "      <td id=\"T_e0765_row7_col9\" class=\"data row7 col9\" >2163</td>\n",
       "      <td id=\"T_e0765_row7_col10\" class=\"data row7 col10\" >81</td>\n",
       "    </tr>\n",
       "    <tr>\n",
       "      <th id=\"T_e0765_level0_row8\" class=\"row_heading level0 row8\" >Sample Size >= 15</th>\n",
       "      <td id=\"T_e0765_row8_col0\" class=\"data row8 col0\" >0.1065</td>\n",
       "      <td id=\"T_e0765_row8_col1\" class=\"data row8 col1\" >0.2840</td>\n",
       "      <td id=\"T_e0765_row8_col2\" class=\"data row8 col2\" >0.154900</td>\n",
       "      <td id=\"T_e0765_row8_col3\" class=\"data row8 col3\" >23</td>\n",
       "      <td id=\"T_e0765_row8_col4\" class=\"data row8 col4\" >193</td>\n",
       "      <td id=\"T_e0765_row8_col5\" class=\"data row8 col5\" >58</td>\n",
       "      <td id=\"T_e0765_row8_col6\" class=\"data row8 col6\" >1889</td>\n",
       "      <td id=\"T_e0765_row8_col7\" class=\"data row8 col7\" >80</td>\n",
       "      <td id=\"T_e0765_row8_col8\" class=\"data row8 col8\" >296</td>\n",
       "      <td id=\"T_e0765_row8_col9\" class=\"data row8 col9\" >2163</td>\n",
       "      <td id=\"T_e0765_row8_col10\" class=\"data row8 col10\" >81</td>\n",
       "    </tr>\n",
       "    <tr>\n",
       "      <th id=\"T_e0765_level0_row9\" class=\"row_heading level0 row9\" >Known Intervention</th>\n",
       "      <td id=\"T_e0765_row9_col0\" class=\"data row9 col0\" >0.1212</td>\n",
       "      <td id=\"T_e0765_row9_col1\" class=\"data row9 col1\" >0.2963</td>\n",
       "      <td id=\"T_e0765_row9_col2\" class=\"data row9 col2\" >0.172000</td>\n",
       "      <td id=\"T_e0765_row9_col3\" class=\"data row9 col3\" >24</td>\n",
       "      <td id=\"T_e0765_row9_col4\" class=\"data row9 col4\" >174</td>\n",
       "      <td id=\"T_e0765_row9_col5\" class=\"data row9 col5\" >57</td>\n",
       "      <td id=\"T_e0765_row9_col6\" class=\"data row9 col6\" >1908</td>\n",
       "      <td id=\"T_e0765_row9_col7\" class=\"data row9 col7\" >65</td>\n",
       "      <td id=\"T_e0765_row9_col8\" class=\"data row9 col8\" >263</td>\n",
       "      <td id=\"T_e0765_row9_col9\" class=\"data row9 col9\" >2163</td>\n",
       "      <td id=\"T_e0765_row9_col10\" class=\"data row9 col10\" >81</td>\n",
       "    </tr>\n",
       "    <tr>\n",
       "      <th id=\"T_e0765_level0_row10\" class=\"row_heading level0 row10\" >Unknown Intervention</th>\n",
       "      <td id=\"T_e0765_row10_col0\" class=\"data row10 col0\" >0.0752</td>\n",
       "      <td id=\"T_e0765_row10_col1\" class=\"data row10 col1\" >0.1235</td>\n",
       "      <td id=\"T_e0765_row10_col2\" class=\"data row10 col2\" >0.093500</td>\n",
       "      <td id=\"T_e0765_row10_col3\" class=\"data row10 col3\" >10</td>\n",
       "      <td id=\"T_e0765_row10_col4\" class=\"data row10 col4\" >123</td>\n",
       "      <td id=\"T_e0765_row10_col5\" class=\"data row10 col5\" >71</td>\n",
       "      <td id=\"T_e0765_row10_col6\" class=\"data row10 col6\" >1959</td>\n",
       "      <td id=\"T_e0765_row10_col7\" class=\"data row10 col7\" >56</td>\n",
       "      <td id=\"T_e0765_row10_col8\" class=\"data row10 col8\" >189</td>\n",
       "      <td id=\"T_e0765_row10_col9\" class=\"data row10 col9\" >2163</td>\n",
       "      <td id=\"T_e0765_row10_col10\" class=\"data row10 col10\" >81</td>\n",
       "    </tr>\n",
       "    <tr>\n",
       "      <th id=\"T_e0765_level0_row11\" class=\"row_heading level0 row11\" >K+U Intervention</th>\n",
       "      <td id=\"T_e0765_row11_col0\" class=\"data row11 col0\" >0.0885</td>\n",
       "      <td id=\"T_e0765_row11_col1\" class=\"data row11 col1\" >0.1235</td>\n",
       "      <td id=\"T_e0765_row11_col2\" class=\"data row11 col2\" >0.103100</td>\n",
       "      <td id=\"T_e0765_row11_col3\" class=\"data row11 col3\" >10</td>\n",
       "      <td id=\"T_e0765_row11_col4\" class=\"data row11 col4\" >103</td>\n",
       "      <td id=\"T_e0765_row11_col5\" class=\"data row11 col5\" >71</td>\n",
       "      <td id=\"T_e0765_row11_col6\" class=\"data row11 col6\" >1979</td>\n",
       "      <td id=\"T_e0765_row11_col7\" class=\"data row11 col7\" >42</td>\n",
       "      <td id=\"T_e0765_row11_col8\" class=\"data row11 col8\" >155</td>\n",
       "      <td id=\"T_e0765_row11_col9\" class=\"data row11 col9\" >2163</td>\n",
       "      <td id=\"T_e0765_row11_col10\" class=\"data row11 col10\" >81</td>\n",
       "    </tr>\n",
       "    <tr>\n",
       "      <th id=\"T_e0765_level0_row12\" class=\"row_heading level0 row12\" >Significant Finding</th>\n",
       "      <td id=\"T_e0765_row12_col0\" class=\"data row12 col0\" >0.1013</td>\n",
       "      <td id=\"T_e0765_row12_col1\" class=\"data row12 col1\" >0.1975</td>\n",
       "      <td id=\"T_e0765_row12_col2\" class=\"data row12 col2\" >0.133900</td>\n",
       "      <td id=\"T_e0765_row12_col3\" class=\"data row12 col3\" >16</td>\n",
       "      <td id=\"T_e0765_row12_col4\" class=\"data row12 col4\" >142</td>\n",
       "      <td id=\"T_e0765_row12_col5\" class=\"data row12 col5\" >65</td>\n",
       "      <td id=\"T_e0765_row12_col6\" class=\"data row12 col6\" >1940</td>\n",
       "      <td id=\"T_e0765_row12_col7\" class=\"data row12 col7\" >65</td>\n",
       "      <td id=\"T_e0765_row12_col8\" class=\"data row12 col8\" >223</td>\n",
       "      <td id=\"T_e0765_row12_col9\" class=\"data row12 col9\" >2163</td>\n",
       "      <td id=\"T_e0765_row12_col10\" class=\"data row12 col10\" >81</td>\n",
       "    </tr>\n",
       "    <tr>\n",
       "      <th id=\"T_e0765_level0_row13\" class=\"row_heading level0 row13\" >No Significant Finding</th>\n",
       "      <td id=\"T_e0765_row13_col0\" class=\"data row13 col0\" >0.1067</td>\n",
       "      <td id=\"T_e0765_row13_col1\" class=\"data row13 col1\" >0.0988</td>\n",
       "      <td id=\"T_e0765_row13_col2\" class=\"data row13 col2\" >0.102600</td>\n",
       "      <td id=\"T_e0765_row13_col3\" class=\"data row13 col3\" >8</td>\n",
       "      <td id=\"T_e0765_row13_col4\" class=\"data row13 col4\" >67</td>\n",
       "      <td id=\"T_e0765_row13_col5\" class=\"data row13 col5\" >73</td>\n",
       "      <td id=\"T_e0765_row13_col6\" class=\"data row13 col6\" >2015</td>\n",
       "      <td id=\"T_e0765_row13_col7\" class=\"data row13 col7\" >24</td>\n",
       "      <td id=\"T_e0765_row13_col8\" class=\"data row13 col8\" >99</td>\n",
       "      <td id=\"T_e0765_row13_col9\" class=\"data row13 col9\" >2163</td>\n",
       "      <td id=\"T_e0765_row13_col10\" class=\"data row13 col10\" >81</td>\n",
       "    </tr>\n",
       "  </tbody>\n",
       "</table>\n"
      ],
      "text/plain": [
       "<pandas.io.formats.style.Styler at 0x7f026853acb0>"
      ]
     },
     "execution_count": 119,
     "metadata": {},
     "output_type": "execute_result"
    }
   ],
   "source": [
    "highlight_metrics(\n",
    "    metrics_to_df(metrics[\"All\"], drop_zero_tp=False).head(len(FILTERS_RETRIEVED))\n",
    ")"
   ]
  },
  {
   "cell_type": "markdown",
   "metadata": {},
   "source": [
    "### RCTs only"
   ]
  },
  {
   "cell_type": "code",
   "execution_count": 120,
   "metadata": {
    "tags": []
   },
   "outputs": [
    {
     "data": {
      "image/png": "[encoded data removed]",
      "text/plain": [
       "<Figure size 551.181x340.649 with 1 Axes>"
      ]
     },
     "metadata": {},
     "output_type": "display_data"
    }
   ],
   "source": [
    "draw_venn_rsi(\n",
    "    title=\"RCTs only\",\n",
    "    ids_retrieved=metrics[\"Only RCTs\"][\"Is RCT\"][\"ids_retrieved\"],\n",
    "    ids_screened=metrics[\"Only RCTs\"][\"Is RCT\"][\"ids_screened\"],\n",
    "    ids_screened_relevant=metrics[\"Only RCTs\"][\"Is RCT\"][\"ids_screened_relevant\"],\n",
    "    add_pn_labels=True,\n",
    ");"
   ]
  },
  {
   "cell_type": "code",
   "execution_count": 121,
   "metadata": {
    "tags": []
   },
   "outputs": [
    {
     "data": {
      "text/html": [
       "<style type=\"text/css\">\n",
       "#T_21166_row0_col1, #T_21166_row0_col3, #T_21166_row0_col5, #T_21166_row1_col1, #T_21166_row1_col3, #T_21166_row1_col5, #T_21166_row2_col1, #T_21166_row2_col3, #T_21166_row2_col5, #T_21166_row3_col1, #T_21166_row3_col3, #T_21166_row3_col5, #T_21166_row5_col0, #T_21166_row5_col2, #T_21166_row5_col4, #T_21166_row9_col1, #T_21166_row9_col3, #T_21166_row9_col5 {\n",
       "  font-weight: bold;\n",
       "}\n",
       "</style>\n",
       "<table id=\"T_21166\">\n",
       "  <thead>\n",
       "    <tr>\n",
       "      <th class=\"blank level0\" >&nbsp;</th>\n",
       "      <th id=\"T_21166_level0_col0\" class=\"col_heading level0 col0\" >Precision</th>\n",
       "      <th id=\"T_21166_level0_col1\" class=\"col_heading level0 col1\" >Recall</th>\n",
       "      <th id=\"T_21166_level0_col2\" class=\"col_heading level0 col2\" >$F_1$</th>\n",
       "      <th id=\"T_21166_level0_col3\" class=\"col_heading level0 col3\" >TP</th>\n",
       "      <th id=\"T_21166_level0_col4\" class=\"col_heading level0 col4\" >FP</th>\n",
       "      <th id=\"T_21166_level0_col5\" class=\"col_heading level0 col5\" >FN</th>\n",
       "      <th id=\"T_21166_level0_col6\" class=\"col_heading level0 col6\" >TN</th>\n",
       "      <th id=\"T_21166_level0_col7\" class=\"col_heading level0 col7\" >?</th>\n",
       "      <th id=\"T_21166_level0_col8\" class=\"col_heading level0 col8\" >Retrieved</th>\n",
       "      <th id=\"T_21166_level0_col9\" class=\"col_heading level0 col9\" >Screened</th>\n",
       "      <th id=\"T_21166_level0_col10\" class=\"col_heading level0 col10\" >Relevant</th>\n",
       "    </tr>\n",
       "  </thead>\n",
       "  <tbody>\n",
       "    <tr>\n",
       "      <th id=\"T_21166_level0_row0\" class=\"row_heading level0 row0\" >All</th>\n",
       "      <td id=\"T_21166_row0_col0\" class=\"data row0 col0\" >0.1358</td>\n",
       "      <td id=\"T_21166_row0_col1\" class=\"data row0 col1\" >0.8462</td>\n",
       "      <td id=\"T_21166_row0_col2\" class=\"data row0 col2\" >0.234000</td>\n",
       "      <td id=\"T_21166_row0_col3\" class=\"data row0 col3\" >22</td>\n",
       "      <td id=\"T_21166_row0_col4\" class=\"data row0 col4\" >140</td>\n",
       "      <td id=\"T_21166_row0_col5\" class=\"data row0 col5\" >4</td>\n",
       "      <td id=\"T_21166_row0_col6\" class=\"data row0 col6\" >150</td>\n",
       "      <td id=\"T_21166_row0_col7\" class=\"data row0 col7\" >164</td>\n",
       "      <td id=\"T_21166_row0_col8\" class=\"data row0 col8\" >326</td>\n",
       "      <td id=\"T_21166_row0_col9\" class=\"data row0 col9\" >316</td>\n",
       "      <td id=\"T_21166_row0_col10\" class=\"data row0 col10\" >26</td>\n",
       "    </tr>\n",
       "    <tr>\n",
       "      <th id=\"T_21166_level0_row1\" class=\"row_heading level0 row1\" >Is RCT</th>\n",
       "      <td id=\"T_21166_row1_col0\" class=\"data row1 col0\" >0.1358</td>\n",
       "      <td id=\"T_21166_row1_col1\" class=\"data row1 col1\" >0.8462</td>\n",
       "      <td id=\"T_21166_row1_col2\" class=\"data row1 col2\" >0.234000</td>\n",
       "      <td id=\"T_21166_row1_col3\" class=\"data row1 col3\" >22</td>\n",
       "      <td id=\"T_21166_row1_col4\" class=\"data row1 col4\" >140</td>\n",
       "      <td id=\"T_21166_row1_col5\" class=\"data row1 col5\" >4</td>\n",
       "      <td id=\"T_21166_row1_col6\" class=\"data row1 col6\" >150</td>\n",
       "      <td id=\"T_21166_row1_col7\" class=\"data row1 col7\" >48</td>\n",
       "      <td id=\"T_21166_row1_col8\" class=\"data row1 col8\" >210</td>\n",
       "      <td id=\"T_21166_row1_col9\" class=\"data row1 col9\" >316</td>\n",
       "      <td id=\"T_21166_row1_col10\" class=\"data row1 col10\" >26</td>\n",
       "    </tr>\n",
       "    <tr>\n",
       "      <th id=\"T_21166_level0_row2\" class=\"row_heading level0 row2\" >Non-empty Abstract</th>\n",
       "      <td id=\"T_21166_row2_col0\" class=\"data row2 col0\" >0.1358</td>\n",
       "      <td id=\"T_21166_row2_col1\" class=\"data row2 col1\" >0.8462</td>\n",
       "      <td id=\"T_21166_row2_col2\" class=\"data row2 col2\" >0.234000</td>\n",
       "      <td id=\"T_21166_row2_col3\" class=\"data row2 col3\" >22</td>\n",
       "      <td id=\"T_21166_row2_col4\" class=\"data row2 col4\" >140</td>\n",
       "      <td id=\"T_21166_row2_col5\" class=\"data row2 col5\" >4</td>\n",
       "      <td id=\"T_21166_row2_col6\" class=\"data row2 col6\" >150</td>\n",
       "      <td id=\"T_21166_row2_col7\" class=\"data row2 col7\" >160</td>\n",
       "      <td id=\"T_21166_row2_col8\" class=\"data row2 col8\" >322</td>\n",
       "      <td id=\"T_21166_row2_col9\" class=\"data row2 col9\" >316</td>\n",
       "      <td id=\"T_21166_row2_col10\" class=\"data row2 col10\" >26</td>\n",
       "    </tr>\n",
       "    <tr>\n",
       "      <th id=\"T_21166_level0_row3\" class=\"row_heading level0 row3\" >Non-pediatric population</th>\n",
       "      <td id=\"T_21166_row3_col0\" class=\"data row3 col0\" >0.1366</td>\n",
       "      <td id=\"T_21166_row3_col1\" class=\"data row3 col1\" >0.8462</td>\n",
       "      <td id=\"T_21166_row3_col2\" class=\"data row3 col2\" >0.235300</td>\n",
       "      <td id=\"T_21166_row3_col3\" class=\"data row3 col3\" >22</td>\n",
       "      <td id=\"T_21166_row3_col4\" class=\"data row3 col4\" >139</td>\n",
       "      <td id=\"T_21166_row3_col5\" class=\"data row3 col5\" >4</td>\n",
       "      <td id=\"T_21166_row3_col6\" class=\"data row3 col6\" >151</td>\n",
       "      <td id=\"T_21166_row3_col7\" class=\"data row3 col7\" >164</td>\n",
       "      <td id=\"T_21166_row3_col8\" class=\"data row3 col8\" >325</td>\n",
       "      <td id=\"T_21166_row3_col9\" class=\"data row3 col9\" >316</td>\n",
       "      <td id=\"T_21166_row3_col10\" class=\"data row3 col10\" >26</td>\n",
       "    </tr>\n",
       "    <tr>\n",
       "      <th id=\"T_21166_level0_row4\" class=\"row_heading level0 row4\" >Phase >= 2</th>\n",
       "      <td id=\"T_21166_row4_col0\" class=\"data row4 col0\" >0.2278</td>\n",
       "      <td id=\"T_21166_row4_col1\" class=\"data row4 col1\" >0.6923</td>\n",
       "      <td id=\"T_21166_row4_col2\" class=\"data row4 col2\" >0.342900</td>\n",
       "      <td id=\"T_21166_row4_col3\" class=\"data row4 col3\" >18</td>\n",
       "      <td id=\"T_21166_row4_col4\" class=\"data row4 col4\" >61</td>\n",
       "      <td id=\"T_21166_row4_col5\" class=\"data row4 col5\" >8</td>\n",
       "      <td id=\"T_21166_row4_col6\" class=\"data row4 col6\" >229</td>\n",
       "      <td id=\"T_21166_row4_col7\" class=\"data row4 col7\" >83</td>\n",
       "      <td id=\"T_21166_row4_col8\" class=\"data row4 col8\" >162</td>\n",
       "      <td id=\"T_21166_row4_col9\" class=\"data row4 col9\" >316</td>\n",
       "      <td id=\"T_21166_row4_col10\" class=\"data row4 col10\" >26</td>\n",
       "    </tr>\n",
       "    <tr>\n",
       "      <th id=\"T_21166_level0_row5\" class=\"row_heading level0 row5\" >Phase >= 3</th>\n",
       "      <td id=\"T_21166_row5_col0\" class=\"data row5 col0\" >0.3333</td>\n",
       "      <td id=\"T_21166_row5_col1\" class=\"data row5 col1\" >0.6154</td>\n",
       "      <td id=\"T_21166_row5_col2\" class=\"data row5 col2\" >0.432400</td>\n",
       "      <td id=\"T_21166_row5_col3\" class=\"data row5 col3\" >16</td>\n",
       "      <td id=\"T_21166_row5_col4\" class=\"data row5 col4\" >32</td>\n",
       "      <td id=\"T_21166_row5_col5\" class=\"data row5 col5\" >10</td>\n",
       "      <td id=\"T_21166_row5_col6\" class=\"data row5 col6\" >258</td>\n",
       "      <td id=\"T_21166_row5_col7\" class=\"data row5 col7\" >15</td>\n",
       "      <td id=\"T_21166_row5_col8\" class=\"data row5 col8\" >63</td>\n",
       "      <td id=\"T_21166_row5_col9\" class=\"data row5 col9\" >316</td>\n",
       "      <td id=\"T_21166_row5_col10\" class=\"data row5 col10\" >26</td>\n",
       "    </tr>\n",
       "    <tr>\n",
       "      <th id=\"T_21166_level0_row6\" class=\"row_heading level0 row6\" >Sample Size >= 5</th>\n",
       "      <td id=\"T_21166_row6_col0\" class=\"data row6 col0\" >0.1338</td>\n",
       "      <td id=\"T_21166_row6_col1\" class=\"data row6 col1\" >0.8077</td>\n",
       "      <td id=\"T_21166_row6_col2\" class=\"data row6 col2\" >0.229500</td>\n",
       "      <td id=\"T_21166_row6_col3\" class=\"data row6 col3\" >21</td>\n",
       "      <td id=\"T_21166_row6_col4\" class=\"data row6 col4\" >136</td>\n",
       "      <td id=\"T_21166_row6_col5\" class=\"data row6 col5\" >5</td>\n",
       "      <td id=\"T_21166_row6_col6\" class=\"data row6 col6\" >154</td>\n",
       "      <td id=\"T_21166_row6_col7\" class=\"data row6 col7\" >153</td>\n",
       "      <td id=\"T_21166_row6_col8\" class=\"data row6 col8\" >310</td>\n",
       "      <td id=\"T_21166_row6_col9\" class=\"data row6 col9\" >316</td>\n",
       "      <td id=\"T_21166_row6_col10\" class=\"data row6 col10\" >26</td>\n",
       "    </tr>\n",
       "    <tr>\n",
       "      <th id=\"T_21166_level0_row7\" class=\"row_heading level0 row7\" >Sample Size >= 10</th>\n",
       "      <td id=\"T_21166_row7_col0\" class=\"data row7 col0\" >0.1346</td>\n",
       "      <td id=\"T_21166_row7_col1\" class=\"data row7 col1\" >0.8077</td>\n",
       "      <td id=\"T_21166_row7_col2\" class=\"data row7 col2\" >0.230800</td>\n",
       "      <td id=\"T_21166_row7_col3\" class=\"data row7 col3\" >21</td>\n",
       "      <td id=\"T_21166_row7_col4\" class=\"data row7 col4\" >135</td>\n",
       "      <td id=\"T_21166_row7_col5\" class=\"data row7 col5\" >5</td>\n",
       "      <td id=\"T_21166_row7_col6\" class=\"data row7 col6\" >155</td>\n",
       "      <td id=\"T_21166_row7_col7\" class=\"data row7 col7\" >150</td>\n",
       "      <td id=\"T_21166_row7_col8\" class=\"data row7 col8\" >306</td>\n",
       "      <td id=\"T_21166_row7_col9\" class=\"data row7 col9\" >316</td>\n",
       "      <td id=\"T_21166_row7_col10\" class=\"data row7 col10\" >26</td>\n",
       "    </tr>\n",
       "    <tr>\n",
       "      <th id=\"T_21166_level0_row8\" class=\"row_heading level0 row8\" >Sample Size >= 15</th>\n",
       "      <td id=\"T_21166_row8_col0\" class=\"data row8 col0\" >0.1364</td>\n",
       "      <td id=\"T_21166_row8_col1\" class=\"data row8 col1\" >0.8077</td>\n",
       "      <td id=\"T_21166_row8_col2\" class=\"data row8 col2\" >0.233300</td>\n",
       "      <td id=\"T_21166_row8_col3\" class=\"data row8 col3\" >21</td>\n",
       "      <td id=\"T_21166_row8_col4\" class=\"data row8 col4\" >133</td>\n",
       "      <td id=\"T_21166_row8_col5\" class=\"data row8 col5\" >5</td>\n",
       "      <td id=\"T_21166_row8_col6\" class=\"data row8 col6\" >157</td>\n",
       "      <td id=\"T_21166_row8_col7\" class=\"data row8 col7\" >142</td>\n",
       "      <td id=\"T_21166_row8_col8\" class=\"data row8 col8\" >296</td>\n",
       "      <td id=\"T_21166_row8_col9\" class=\"data row8 col9\" >316</td>\n",
       "      <td id=\"T_21166_row8_col10\" class=\"data row8 col10\" >26</td>\n",
       "    </tr>\n",
       "    <tr>\n",
       "      <th id=\"T_21166_level0_row9\" class=\"row_heading level0 row9\" >Known Intervention</th>\n",
       "      <td id=\"T_21166_row9_col0\" class=\"data row9 col0\" >0.1606</td>\n",
       "      <td id=\"T_21166_row9_col1\" class=\"data row9 col1\" >0.8462</td>\n",
       "      <td id=\"T_21166_row9_col2\" class=\"data row9 col2\" >0.269900</td>\n",
       "      <td id=\"T_21166_row9_col3\" class=\"data row9 col3\" >22</td>\n",
       "      <td id=\"T_21166_row9_col4\" class=\"data row9 col4\" >115</td>\n",
       "      <td id=\"T_21166_row9_col5\" class=\"data row9 col5\" >4</td>\n",
       "      <td id=\"T_21166_row9_col6\" class=\"data row9 col6\" >175</td>\n",
       "      <td id=\"T_21166_row9_col7\" class=\"data row9 col7\" >126</td>\n",
       "      <td id=\"T_21166_row9_col8\" class=\"data row9 col8\" >263</td>\n",
       "      <td id=\"T_21166_row9_col9\" class=\"data row9 col9\" >316</td>\n",
       "      <td id=\"T_21166_row9_col10\" class=\"data row9 col10\" >26</td>\n",
       "    </tr>\n",
       "    <tr>\n",
       "      <th id=\"T_21166_level0_row10\" class=\"row_heading level0 row10\" >Unknown Intervention</th>\n",
       "      <td id=\"T_21166_row10_col0\" class=\"data row10 col0\" >0.1059</td>\n",
       "      <td id=\"T_21166_row10_col1\" class=\"data row10 col1\" >0.3462</td>\n",
       "      <td id=\"T_21166_row10_col2\" class=\"data row10 col2\" >0.162200</td>\n",
       "      <td id=\"T_21166_row10_col3\" class=\"data row10 col3\" >9</td>\n",
       "      <td id=\"T_21166_row10_col4\" class=\"data row10 col4\" >76</td>\n",
       "      <td id=\"T_21166_row10_col5\" class=\"data row10 col5\" >17</td>\n",
       "      <td id=\"T_21166_row10_col6\" class=\"data row10 col6\" >214</td>\n",
       "      <td id=\"T_21166_row10_col7\" class=\"data row10 col7\" >104</td>\n",
       "      <td id=\"T_21166_row10_col8\" class=\"data row10 col8\" >189</td>\n",
       "      <td id=\"T_21166_row10_col9\" class=\"data row10 col9\" >316</td>\n",
       "      <td id=\"T_21166_row10_col10\" class=\"data row10 col10\" >26</td>\n",
       "    </tr>\n",
       "    <tr>\n",
       "      <th id=\"T_21166_level0_row11\" class=\"row_heading level0 row11\" >K+U Intervention</th>\n",
       "      <td id=\"T_21166_row11_col0\" class=\"data row11 col0\" >0.1233</td>\n",
       "      <td id=\"T_21166_row11_col1\" class=\"data row11 col1\" >0.3462</td>\n",
       "      <td id=\"T_21166_row11_col2\" class=\"data row11 col2\" >0.181800</td>\n",
       "      <td id=\"T_21166_row11_col3\" class=\"data row11 col3\" >9</td>\n",
       "      <td id=\"T_21166_row11_col4\" class=\"data row11 col4\" >64</td>\n",
       "      <td id=\"T_21166_row11_col5\" class=\"data row11 col5\" >17</td>\n",
       "      <td id=\"T_21166_row11_col6\" class=\"data row11 col6\" >226</td>\n",
       "      <td id=\"T_21166_row11_col7\" class=\"data row11 col7\" >82</td>\n",
       "      <td id=\"T_21166_row11_col8\" class=\"data row11 col8\" >155</td>\n",
       "      <td id=\"T_21166_row11_col9\" class=\"data row11 col9\" >316</td>\n",
       "      <td id=\"T_21166_row11_col10\" class=\"data row11 col10\" >26</td>\n",
       "    </tr>\n",
       "    <tr>\n",
       "      <th id=\"T_21166_level0_row12\" class=\"row_heading level0 row12\" >Significant Finding</th>\n",
       "      <td id=\"T_21166_row12_col0\" class=\"data row12 col0\" >0.1596</td>\n",
       "      <td id=\"T_21166_row12_col1\" class=\"data row12 col1\" >0.5769</td>\n",
       "      <td id=\"T_21166_row12_col2\" class=\"data row12 col2\" >0.250000</td>\n",
       "      <td id=\"T_21166_row12_col3\" class=\"data row12 col3\" >15</td>\n",
       "      <td id=\"T_21166_row12_col4\" class=\"data row12 col4\" >79</td>\n",
       "      <td id=\"T_21166_row12_col5\" class=\"data row12 col5\" >11</td>\n",
       "      <td id=\"T_21166_row12_col6\" class=\"data row12 col6\" >211</td>\n",
       "      <td id=\"T_21166_row12_col7\" class=\"data row12 col7\" >129</td>\n",
       "      <td id=\"T_21166_row12_col8\" class=\"data row12 col8\" >223</td>\n",
       "      <td id=\"T_21166_row12_col9\" class=\"data row12 col9\" >316</td>\n",
       "      <td id=\"T_21166_row12_col10\" class=\"data row12 col10\" >26</td>\n",
       "    </tr>\n",
       "    <tr>\n",
       "      <th id=\"T_21166_level0_row13\" class=\"row_heading level0 row13\" >No Significant Finding</th>\n",
       "      <td id=\"T_21166_row13_col0\" class=\"data row13 col0\" >0.1029</td>\n",
       "      <td id=\"T_21166_row13_col1\" class=\"data row13 col1\" >0.2692</td>\n",
       "      <td id=\"T_21166_row13_col2\" class=\"data row13 col2\" >0.148900</td>\n",
       "      <td id=\"T_21166_row13_col3\" class=\"data row13 col3\" >7</td>\n",
       "      <td id=\"T_21166_row13_col4\" class=\"data row13 col4\" >61</td>\n",
       "      <td id=\"T_21166_row13_col5\" class=\"data row13 col5\" >19</td>\n",
       "      <td id=\"T_21166_row13_col6\" class=\"data row13 col6\" >229</td>\n",
       "      <td id=\"T_21166_row13_col7\" class=\"data row13 col7\" >31</td>\n",
       "      <td id=\"T_21166_row13_col8\" class=\"data row13 col8\" >99</td>\n",
       "      <td id=\"T_21166_row13_col9\" class=\"data row13 col9\" >316</td>\n",
       "      <td id=\"T_21166_row13_col10\" class=\"data row13 col10\" >26</td>\n",
       "    </tr>\n",
       "  </tbody>\n",
       "</table>\n"
      ],
      "text/plain": [
       "<pandas.io.formats.style.Styler at 0x7f02684f7ac0>"
      ]
     },
     "execution_count": 121,
     "metadata": {},
     "output_type": "execute_result"
    }
   ],
   "source": [
    "highlight_metrics(\n",
    "    metrics_to_df(metrics[\"Only RCTs\"], drop_zero_tp=False).head(len(FILTERS_RETRIEVED))\n",
    ")"
   ]
  },
  {
   "cell_type": "code",
   "execution_count": 122,
   "metadata": {
    "tags": []
   },
   "outputs": [],
   "source": [
    "from evaluation.metrics import build_filter_combinations_table "
   ]
  },
  {
   "cell_type": "code",
   "execution_count": 123,
   "metadata": {
    "tags": []
   },
   "outputs": [
    {
     "name": "stdout",
     "output_type": "stream",
     "text": [
      "Evaluating screened document subset 'All'\n"
     ]
    },
    {
     "data": {
      "application/vnd.jupyter.widget-view+json": {
       "model_id": "06041383174e45ac9a5b00ab51b7d0f3",
       "version_major": 2,
       "version_minor": 0
      },
      "text/plain": [
       "Evaluating filter combinations:   0%|          | 0/12 [00:00<?, ?it/s]"
      ]
     },
     "metadata": {},
     "output_type": "display_data"
    },
    {
     "name": "stdout",
     "output_type": "stream",
     "text": [
      "Evaluating screened document subset 'Only RCTs'\n"
     ]
    },
    {
     "data": {
      "application/vnd.jupyter.widget-view+json": {
       "model_id": "b25b83d2ccdc417abcfaf79a76911120",
       "version_major": 2,
       "version_minor": 0
      },
      "text/plain": [
       "Evaluating filter combinations:   0%|          | 0/12 [00:00<?, ?it/s]"
      ]
     },
     "metadata": {},
     "output_type": "display_data"
    },
    {
     "data": {
      "text/html": [
       "<style type=\"text/css\">\n",
       "#T_9a41c_row0_col1, #T_9a41c_row0_col3, #T_9a41c_row0_col5, #T_9a41c_row1_col1, #T_9a41c_row1_col3, #T_9a41c_row1_col5, #T_9a41c_row2_col0, #T_9a41c_row2_col2, #T_9a41c_row2_col4 {\n",
       "  font-weight: bold;\n",
       "}\n",
       "</style>\n",
       "<table id=\"T_9a41c\">\n",
       "  <thead>\n",
       "    <tr>\n",
       "      <th class=\"blank\" >&nbsp;</th>\n",
       "      <th class=\"blank\" >&nbsp;</th>\n",
       "      <th class=\"blank\" >&nbsp;</th>\n",
       "      <th class=\"blank\" >&nbsp;</th>\n",
       "      <th class=\"blank\" >&nbsp;</th>\n",
       "      <th class=\"blank level0\" >&nbsp;</th>\n",
       "      <th id=\"T_9a41c_level0_col0\" class=\"col_heading level0 col0\" >Prec.</th>\n",
       "      <th id=\"T_9a41c_level0_col1\" class=\"col_heading level0 col1\" >Rec.</th>\n",
       "      <th id=\"T_9a41c_level0_col2\" class=\"col_heading level0 col2\" >$F_1$</th>\n",
       "      <th id=\"T_9a41c_level0_col3\" class=\"col_heading level0 col3\" >TP</th>\n",
       "      <th id=\"T_9a41c_level0_col4\" class=\"col_heading level0 col4\" >FP</th>\n",
       "      <th id=\"T_9a41c_level0_col5\" class=\"col_heading level0 col5\" >FN</th>\n",
       "      <th id=\"T_9a41c_level0_col6\" class=\"col_heading level0 col6\" >TN</th>\n",
       "      <th id=\"T_9a41c_level0_col7\" class=\"col_heading level0 col7\" >?</th>\n",
       "      <th id=\"T_9a41c_level0_col8\" class=\"col_heading level0 col8\" >Retr.</th>\n",
       "      <th id=\"T_9a41c_level0_col9\" class=\"col_heading level0 col9\" >Scr.</th>\n",
       "      <th id=\"T_9a41c_level0_col10\" class=\"col_heading level0 col10\" >Rel.</th>\n",
       "    </tr>\n",
       "  </thead>\n",
       "  <tbody>\n",
       "    <tr>\n",
       "      <th id=\"T_9a41c_level0_row0\" class=\"row_heading level0 row0\" rowspan=\"3\">RCTs</th>\n",
       "      <th id=\"T_9a41c_level1_row0\" class=\"row_heading level1 row0\" ></th>\n",
       "      <th id=\"T_9a41c_level2_row0\" class=\"row_heading level2 row0\" ></th>\n",
       "      <th id=\"T_9a41c_level3_row0\" class=\"row_heading level3 row0\" ></th>\n",
       "      <th id=\"T_9a41c_level4_row0\" class=\"row_heading level4 row0\" ></th>\n",
       "      <th id=\"T_9a41c_level5_row0\" class=\"row_heading level5 row0\" ></th>\n",
       "      <td id=\"T_9a41c_row0_col0\" class=\"data row0 col0\" >0.135800</td>\n",
       "      <td id=\"T_9a41c_row0_col1\" class=\"data row0 col1\" >0.846200</td>\n",
       "      <td id=\"T_9a41c_row0_col2\" class=\"data row0 col2\" >0.234000</td>\n",
       "      <td id=\"T_9a41c_row0_col3\" class=\"data row0 col3\" >22</td>\n",
       "      <td id=\"T_9a41c_row0_col4\" class=\"data row0 col4\" >140</td>\n",
       "      <td id=\"T_9a41c_row0_col5\" class=\"data row0 col5\" >4</td>\n",
       "      <td id=\"T_9a41c_row0_col6\" class=\"data row0 col6\" >150</td>\n",
       "      <td id=\"T_9a41c_row0_col7\" class=\"data row0 col7\" >48</td>\n",
       "      <td id=\"T_9a41c_row0_col8\" class=\"data row0 col8\" >210</td>\n",
       "      <td id=\"T_9a41c_row0_col9\" class=\"data row0 col9\" >316</td>\n",
       "      <td id=\"T_9a41c_row0_col10\" class=\"data row0 col10\" >26</td>\n",
       "    </tr>\n",
       "    <tr>\n",
       "      <th id=\"T_9a41c_level1_row1\" class=\"row_heading level1 row1\" rowspan=\"2\">Abstr., NC</th>\n",
       "      <th id=\"T_9a41c_level2_row1\" class=\"row_heading level2 row1\" ></th>\n",
       "      <th id=\"T_9a41c_level3_row1\" class=\"row_heading level3 row1\" ></th>\n",
       "      <th id=\"T_9a41c_level4_row1\" class=\"row_heading level4 row1\" ></th>\n",
       "      <th id=\"T_9a41c_level5_row1\" class=\"row_heading level5 row1\" ></th>\n",
       "      <td id=\"T_9a41c_row1_col0\" class=\"data row1 col0\" >0.136600</td>\n",
       "      <td id=\"T_9a41c_row1_col1\" class=\"data row1 col1\" >0.846200</td>\n",
       "      <td id=\"T_9a41c_row1_col2\" class=\"data row1 col2\" >0.235300</td>\n",
       "      <td id=\"T_9a41c_row1_col3\" class=\"data row1 col3\" >22</td>\n",
       "      <td id=\"T_9a41c_row1_col4\" class=\"data row1 col4\" >139</td>\n",
       "      <td id=\"T_9a41c_row1_col5\" class=\"data row1 col5\" >4</td>\n",
       "      <td id=\"T_9a41c_row1_col6\" class=\"data row1 col6\" >151</td>\n",
       "      <td id=\"T_9a41c_row1_col7\" class=\"data row1 col7\" >47</td>\n",
       "      <td id=\"T_9a41c_row1_col8\" class=\"data row1 col8\" >208</td>\n",
       "      <td id=\"T_9a41c_row1_col9\" class=\"data row1 col9\" >316</td>\n",
       "      <td id=\"T_9a41c_row1_col10\" class=\"data row1 col10\" >26</td>\n",
       "    </tr>\n",
       "    <tr>\n",
       "      <th id=\"T_9a41c_level2_row2\" class=\"row_heading level2 row2\" >Phase >= 2</th>\n",
       "      <th id=\"T_9a41c_level3_row2\" class=\"row_heading level3 row2\" ></th>\n",
       "      <th id=\"T_9a41c_level4_row2\" class=\"row_heading level4 row2\" ></th>\n",
       "      <th id=\"T_9a41c_level5_row2\" class=\"row_heading level5 row2\" ></th>\n",
       "      <td id=\"T_9a41c_row2_col0\" class=\"data row2 col0\" >0.227800</td>\n",
       "      <td id=\"T_9a41c_row2_col1\" class=\"data row2 col1\" >0.692300</td>\n",
       "      <td id=\"T_9a41c_row2_col2\" class=\"data row2 col2\" >0.342900</td>\n",
       "      <td id=\"T_9a41c_row2_col3\" class=\"data row2 col3\" >18</td>\n",
       "      <td id=\"T_9a41c_row2_col4\" class=\"data row2 col4\" >61</td>\n",
       "      <td id=\"T_9a41c_row2_col5\" class=\"data row2 col5\" >8</td>\n",
       "      <td id=\"T_9a41c_row2_col6\" class=\"data row2 col6\" >229</td>\n",
       "      <td id=\"T_9a41c_row2_col7\" class=\"data row2 col7\" >15</td>\n",
       "      <td id=\"T_9a41c_row2_col8\" class=\"data row2 col8\" >94</td>\n",
       "      <td id=\"T_9a41c_row2_col9\" class=\"data row2 col9\" >316</td>\n",
       "      <td id=\"T_9a41c_row2_col10\" class=\"data row2 col10\" >26</td>\n",
       "    </tr>\n",
       "  </tbody>\n",
       "</table>\n"
      ],
      "text/plain": [
       "<pandas.io.formats.style.Styler at 0x7f026853ad70>"
      ]
     },
     "execution_count": 123,
     "metadata": {},
     "output_type": "execute_result"
    }
   ],
   "source": [
    "combinations_table, metrics_combinations = build_filter_combinations_table(\n",
    "    df_retrieved=df_r,\n",
    "    df_screened=df_s_with_ggponc.query(\"screening_origin == 'original'\"),\n",
    "    latex_output_path=PATH_LATEX_TABLE_OUTPUT / \"final_metrics_original_only.tex\",\n",
    "    stop_at_line=3,\n",
    "    overwrite_latex_output=OVERWRITE_LATEX_OUTPUT,\n",
    "    use_abbreviations=True,\n",
    "    column_format=\"llllllS[table-format=1.2]S[table-format=1.2]S[table-format=1.2]S[table-format=2]S[table-format=3]S[table-format=1]S[table-format=3]S[table-format=2]S[table-format=3]\",\n",
    ")\n",
    "\n",
    "highlight_metrics(combinations_table)"
   ]
  },
  {
   "cell_type": "markdown",
   "metadata": {},
   "source": [
    "### Including Results of Manual Review"
   ]
  },
  {
   "cell_type": "code",
   "execution_count": 251,
   "metadata": {
    "tags": []
   },
   "outputs": [
    {
     "name": "stdout",
     "output_type": "stream",
     "text": [
      "Evaluating screened document subset 'All'\n"
     ]
    },
    {
     "data": {
      "application/vnd.jupyter.widget-view+json": {
       "model_id": "825b2d961f404d29961ccfec0d20d8b9",
       "version_major": 2,
       "version_minor": 0
      },
      "text/plain": [
       "Evaluating filter combinations:   0%|          | 0/14 [00:00<?, ?it/s]"
      ]
     },
     "metadata": {},
     "output_type": "display_data"
    },
    {
     "name": "stdout",
     "output_type": "stream",
     "text": [
      "Evaluating screened document subset 'Only RCTs'\n"
     ]
    },
    {
     "data": {
      "application/vnd.jupyter.widget-view+json": {
       "model_id": "b47f645f3f6a4244a97ceb305fba0c44",
       "version_major": 2,
       "version_minor": 0
      },
      "text/plain": [
       "Evaluating filter combinations:   0%|          | 0/14 [00:00<?, ?it/s]"
      ]
     },
     "metadata": {},
     "output_type": "display_data"
    }
   ],
   "source": [
    "metrics_w_manual = run_evaluation(\n",
    "    df_s_with_ggponc,\n",
    "    df_r,\n",
    "    filters_screened=FILTERS_SCREENED,\n",
    "    filters_retrieved=FILTERS_RETRIEVED,\n",
    "    col_id=\"pm_id\",\n",
    "    col_relevant=\"is_relevant\",\n",
    "    compute_combinations=False,\n",
    ")"
   ]
  },
  {
   "cell_type": "markdown",
   "metadata": {},
   "source": [
    "#### All"
   ]
  },
  {
   "cell_type": "code",
   "execution_count": 252,
   "metadata": {
    "tags": []
   },
   "outputs": [
    {
     "data": {
      "image/png": "[encoded data removed]",
      "text/plain": [
       "<Figure size 551.181x340.649 with 1 Axes>"
      ]
     },
     "metadata": {},
     "output_type": "display_data"
    }
   ],
   "source": [
    "draw_venn_rsi(\n",
    "    title=\"All\",\n",
    "    ids_retrieved=metrics_w_manual[\"All\"][\"All\"][\"ids_retrieved\"],\n",
    "    ids_screened=metrics_w_manual[\"All\"][\"All\"][\"ids_screened\"],\n",
    "    ids_screened_relevant=metrics_w_manual[\"All\"][\"All\"][\"ids_screened_relevant\"],\n",
    "    add_pn_labels=True,\n",
    ");"
   ]
  },
  {
   "cell_type": "code",
   "execution_count": 253,
   "metadata": {
    "tags": []
   },
   "outputs": [
    {
     "data": {
      "text/html": [
       "<style type=\"text/css\">\n",
       "#T_14d93_row0_col1, #T_14d93_row0_col3, #T_14d93_row0_col5, #T_14d93_row2_col1, #T_14d93_row2_col3, #T_14d93_row2_col5, #T_14d93_row3_col1, #T_14d93_row3_col3, #T_14d93_row3_col5, #T_14d93_row5_col0, #T_14d93_row5_col2, #T_14d93_row5_col4 {\n",
       "  font-weight: bold;\n",
       "}\n",
       "</style>\n",
       "<table id=\"T_14d93\">\n",
       "  <thead>\n",
       "    <tr>\n",
       "      <th class=\"blank level0\" >&nbsp;</th>\n",
       "      <th id=\"T_14d93_level0_col0\" class=\"col_heading level0 col0\" >Precision</th>\n",
       "      <th id=\"T_14d93_level0_col1\" class=\"col_heading level0 col1\" >Recall</th>\n",
       "      <th id=\"T_14d93_level0_col2\" class=\"col_heading level0 col2\" >$F_1$</th>\n",
       "      <th id=\"T_14d93_level0_col3\" class=\"col_heading level0 col3\" >TP</th>\n",
       "      <th id=\"T_14d93_level0_col4\" class=\"col_heading level0 col4\" >FP</th>\n",
       "      <th id=\"T_14d93_level0_col5\" class=\"col_heading level0 col5\" >FN</th>\n",
       "      <th id=\"T_14d93_level0_col6\" class=\"col_heading level0 col6\" >TN</th>\n",
       "      <th id=\"T_14d93_level0_col7\" class=\"col_heading level0 col7\" >?</th>\n",
       "      <th id=\"T_14d93_level0_col8\" class=\"col_heading level0 col8\" >Retrieved</th>\n",
       "      <th id=\"T_14d93_level0_col9\" class=\"col_heading level0 col9\" >Screened</th>\n",
       "      <th id=\"T_14d93_level0_col10\" class=\"col_heading level0 col10\" >Relevant</th>\n",
       "    </tr>\n",
       "  </thead>\n",
       "  <tbody>\n",
       "    <tr>\n",
       "      <th id=\"T_14d93_level0_row0\" class=\"row_heading level0 row0\" >All</th>\n",
       "      <td id=\"T_14d93_row0_col0\" class=\"data row0 col0\" >0.1331</td>\n",
       "      <td id=\"T_14d93_row0_col1\" class=\"data row0 col1\" >0.3667</td>\n",
       "      <td id=\"T_14d93_row0_col2\" class=\"data row0 col2\" >0.195300</td>\n",
       "      <td id=\"T_14d93_row0_col3\" class=\"data row0 col3\" >33</td>\n",
       "      <td id=\"T_14d93_row0_col4\" class=\"data row0 col4\" >215</td>\n",
       "      <td id=\"T_14d93_row0_col5\" class=\"data row0 col5\" >57</td>\n",
       "      <td id=\"T_14d93_row0_col6\" class=\"data row0 col6\" >1876</td>\n",
       "      <td id=\"T_14d93_row0_col7\" class=\"data row0 col7\" >78</td>\n",
       "      <td id=\"T_14d93_row0_col8\" class=\"data row0 col8\" >326</td>\n",
       "      <td id=\"T_14d93_row0_col9\" class=\"data row0 col9\" >2181</td>\n",
       "      <td id=\"T_14d93_row0_col10\" class=\"data row0 col10\" >90</td>\n",
       "    </tr>\n",
       "    <tr>\n",
       "      <th id=\"T_14d93_level0_row1\" class=\"row_heading level0 row1\" >Is RCT</th>\n",
       "      <td id=\"T_14d93_row1_col0\" class=\"data row1 col0\" >0.1751</td>\n",
       "      <td id=\"T_14d93_row1_col1\" class=\"data row1 col1\" >0.3444</td>\n",
       "      <td id=\"T_14d93_row1_col2\" class=\"data row1 col2\" >0.232200</td>\n",
       "      <td id=\"T_14d93_row1_col3\" class=\"data row1 col3\" >31</td>\n",
       "      <td id=\"T_14d93_row1_col4\" class=\"data row1 col4\" >146</td>\n",
       "      <td id=\"T_14d93_row1_col5\" class=\"data row1 col5\" >59</td>\n",
       "      <td id=\"T_14d93_row1_col6\" class=\"data row1 col6\" >1945</td>\n",
       "      <td id=\"T_14d93_row1_col7\" class=\"data row1 col7\" >33</td>\n",
       "      <td id=\"T_14d93_row1_col8\" class=\"data row1 col8\" >210</td>\n",
       "      <td id=\"T_14d93_row1_col9\" class=\"data row1 col9\" >2181</td>\n",
       "      <td id=\"T_14d93_row1_col10\" class=\"data row1 col10\" >90</td>\n",
       "    </tr>\n",
       "    <tr>\n",
       "      <th id=\"T_14d93_level0_row2\" class=\"row_heading level0 row2\" >Non-empty Abstract</th>\n",
       "      <td id=\"T_14d93_row2_col0\" class=\"data row2 col0\" >0.1331</td>\n",
       "      <td id=\"T_14d93_row2_col1\" class=\"data row2 col1\" >0.3667</td>\n",
       "      <td id=\"T_14d93_row2_col2\" class=\"data row2 col2\" >0.195300</td>\n",
       "      <td id=\"T_14d93_row2_col3\" class=\"data row2 col3\" >33</td>\n",
       "      <td id=\"T_14d93_row2_col4\" class=\"data row2 col4\" >215</td>\n",
       "      <td id=\"T_14d93_row2_col5\" class=\"data row2 col5\" >57</td>\n",
       "      <td id=\"T_14d93_row2_col6\" class=\"data row2 col6\" >1876</td>\n",
       "      <td id=\"T_14d93_row2_col7\" class=\"data row2 col7\" >74</td>\n",
       "      <td id=\"T_14d93_row2_col8\" class=\"data row2 col8\" >322</td>\n",
       "      <td id=\"T_14d93_row2_col9\" class=\"data row2 col9\" >2181</td>\n",
       "      <td id=\"T_14d93_row2_col10\" class=\"data row2 col10\" >90</td>\n",
       "    </tr>\n",
       "    <tr>\n",
       "      <th id=\"T_14d93_level0_row3\" class=\"row_heading level0 row3\" >Non-pediatric population</th>\n",
       "      <td id=\"T_14d93_row3_col0\" class=\"data row3 col0\" >0.1336</td>\n",
       "      <td id=\"T_14d93_row3_col1\" class=\"data row3 col1\" >0.3667</td>\n",
       "      <td id=\"T_14d93_row3_col2\" class=\"data row3 col2\" >0.195800</td>\n",
       "      <td id=\"T_14d93_row3_col3\" class=\"data row3 col3\" >33</td>\n",
       "      <td id=\"T_14d93_row3_col4\" class=\"data row3 col4\" >214</td>\n",
       "      <td id=\"T_14d93_row3_col5\" class=\"data row3 col5\" >57</td>\n",
       "      <td id=\"T_14d93_row3_col6\" class=\"data row3 col6\" >1877</td>\n",
       "      <td id=\"T_14d93_row3_col7\" class=\"data row3 col7\" >78</td>\n",
       "      <td id=\"T_14d93_row3_col8\" class=\"data row3 col8\" >325</td>\n",
       "      <td id=\"T_14d93_row3_col9\" class=\"data row3 col9\" >2181</td>\n",
       "      <td id=\"T_14d93_row3_col10\" class=\"data row3 col10\" >90</td>\n",
       "    </tr>\n",
       "    <tr>\n",
       "      <th id=\"T_14d93_level0_row4\" class=\"row_heading level0 row4\" >Phase >= 2</th>\n",
       "      <td id=\"T_14d93_row4_col0\" class=\"data row4 col0\" >0.2057</td>\n",
       "      <td id=\"T_14d93_row4_col1\" class=\"data row4 col1\" >0.3222</td>\n",
       "      <td id=\"T_14d93_row4_col2\" class=\"data row4 col2\" >0.251100</td>\n",
       "      <td id=\"T_14d93_row4_col3\" class=\"data row4 col3\" >29</td>\n",
       "      <td id=\"T_14d93_row4_col4\" class=\"data row4 col4\" >112</td>\n",
       "      <td id=\"T_14d93_row4_col5\" class=\"data row4 col5\" >61</td>\n",
       "      <td id=\"T_14d93_row4_col6\" class=\"data row4 col6\" >1979</td>\n",
       "      <td id=\"T_14d93_row4_col7\" class=\"data row4 col7\" >21</td>\n",
       "      <td id=\"T_14d93_row4_col8\" class=\"data row4 col8\" >162</td>\n",
       "      <td id=\"T_14d93_row4_col9\" class=\"data row4 col9\" >2181</td>\n",
       "      <td id=\"T_14d93_row4_col10\" class=\"data row4 col10\" >90</td>\n",
       "    </tr>\n",
       "    <tr>\n",
       "      <th id=\"T_14d93_level0_row5\" class=\"row_heading level0 row5\" >Phase >= 3</th>\n",
       "      <td id=\"T_14d93_row5_col0\" class=\"data row5 col0\" >0.3387</td>\n",
       "      <td id=\"T_14d93_row5_col1\" class=\"data row5 col1\" >0.2333</td>\n",
       "      <td id=\"T_14d93_row5_col2\" class=\"data row5 col2\" >0.276300</td>\n",
       "      <td id=\"T_14d93_row5_col3\" class=\"data row5 col3\" >21</td>\n",
       "      <td id=\"T_14d93_row5_col4\" class=\"data row5 col4\" >41</td>\n",
       "      <td id=\"T_14d93_row5_col5\" class=\"data row5 col5\" >69</td>\n",
       "      <td id=\"T_14d93_row5_col6\" class=\"data row5 col6\" >2050</td>\n",
       "      <td id=\"T_14d93_row5_col7\" class=\"data row5 col7\" >1</td>\n",
       "      <td id=\"T_14d93_row5_col8\" class=\"data row5 col8\" >63</td>\n",
       "      <td id=\"T_14d93_row5_col9\" class=\"data row5 col9\" >2181</td>\n",
       "      <td id=\"T_14d93_row5_col10\" class=\"data row5 col10\" >90</td>\n",
       "    </tr>\n",
       "    <tr>\n",
       "      <th id=\"T_14d93_level0_row6\" class=\"row_heading level0 row6\" >Sample Size >= 5</th>\n",
       "      <td id=\"T_14d93_row6_col0\" class=\"data row6 col0\" >0.1308</td>\n",
       "      <td id=\"T_14d93_row6_col1\" class=\"data row6 col1\" >0.3444</td>\n",
       "      <td id=\"T_14d93_row6_col2\" class=\"data row6 col2\" >0.189600</td>\n",
       "      <td id=\"T_14d93_row6_col3\" class=\"data row6 col3\" >31</td>\n",
       "      <td id=\"T_14d93_row6_col4\" class=\"data row6 col4\" >206</td>\n",
       "      <td id=\"T_14d93_row6_col5\" class=\"data row6 col5\" >59</td>\n",
       "      <td id=\"T_14d93_row6_col6\" class=\"data row6 col6\" >1885</td>\n",
       "      <td id=\"T_14d93_row6_col7\" class=\"data row6 col7\" >73</td>\n",
       "      <td id=\"T_14d93_row6_col8\" class=\"data row6 col8\" >310</td>\n",
       "      <td id=\"T_14d93_row6_col9\" class=\"data row6 col9\" >2181</td>\n",
       "      <td id=\"T_14d93_row6_col10\" class=\"data row6 col10\" >90</td>\n",
       "    </tr>\n",
       "    <tr>\n",
       "      <th id=\"T_14d93_level0_row7\" class=\"row_heading level0 row7\" >Sample Size >= 10</th>\n",
       "      <td id=\"T_14d93_row7_col0\" class=\"data row7 col0\" >0.1325</td>\n",
       "      <td id=\"T_14d93_row7_col1\" class=\"data row7 col1\" >0.3444</td>\n",
       "      <td id=\"T_14d93_row7_col2\" class=\"data row7 col2\" >0.191400</td>\n",
       "      <td id=\"T_14d93_row7_col3\" class=\"data row7 col3\" >31</td>\n",
       "      <td id=\"T_14d93_row7_col4\" class=\"data row7 col4\" >203</td>\n",
       "      <td id=\"T_14d93_row7_col5\" class=\"data row7 col5\" >59</td>\n",
       "      <td id=\"T_14d93_row7_col6\" class=\"data row7 col6\" >1888</td>\n",
       "      <td id=\"T_14d93_row7_col7\" class=\"data row7 col7\" >72</td>\n",
       "      <td id=\"T_14d93_row7_col8\" class=\"data row7 col8\" >306</td>\n",
       "      <td id=\"T_14d93_row7_col9\" class=\"data row7 col9\" >2181</td>\n",
       "      <td id=\"T_14d93_row7_col10\" class=\"data row7 col10\" >90</td>\n",
       "    </tr>\n",
       "    <tr>\n",
       "      <th id=\"T_14d93_level0_row8\" class=\"row_heading level0 row8\" >Sample Size >= 15</th>\n",
       "      <td id=\"T_14d93_row8_col0\" class=\"data row8 col0\" >0.1354</td>\n",
       "      <td id=\"T_14d93_row8_col1\" class=\"data row8 col1\" >0.3444</td>\n",
       "      <td id=\"T_14d93_row8_col2\" class=\"data row8 col2\" >0.194400</td>\n",
       "      <td id=\"T_14d93_row8_col3\" class=\"data row8 col3\" >31</td>\n",
       "      <td id=\"T_14d93_row8_col4\" class=\"data row8 col4\" >198</td>\n",
       "      <td id=\"T_14d93_row8_col5\" class=\"data row8 col5\" >59</td>\n",
       "      <td id=\"T_14d93_row8_col6\" class=\"data row8 col6\" >1893</td>\n",
       "      <td id=\"T_14d93_row8_col7\" class=\"data row8 col7\" >67</td>\n",
       "      <td id=\"T_14d93_row8_col8\" class=\"data row8 col8\" >296</td>\n",
       "      <td id=\"T_14d93_row8_col9\" class=\"data row8 col9\" >2181</td>\n",
       "      <td id=\"T_14d93_row8_col10\" class=\"data row8 col10\" >90</td>\n",
       "    </tr>\n",
       "    <tr>\n",
       "      <th id=\"T_14d93_level0_row9\" class=\"row_heading level0 row9\" >Known Intervention</th>\n",
       "      <td id=\"T_14d93_row9_col0\" class=\"data row9 col0\" >0.1509</td>\n",
       "      <td id=\"T_14d93_row9_col1\" class=\"data row9 col1\" >0.3556</td>\n",
       "      <td id=\"T_14d93_row9_col2\" class=\"data row9 col2\" >0.211900</td>\n",
       "      <td id=\"T_14d93_row9_col3\" class=\"data row9 col3\" >32</td>\n",
       "      <td id=\"T_14d93_row9_col4\" class=\"data row9 col4\" >180</td>\n",
       "      <td id=\"T_14d93_row9_col5\" class=\"data row9 col5\" >58</td>\n",
       "      <td id=\"T_14d93_row9_col6\" class=\"data row9 col6\" >1911</td>\n",
       "      <td id=\"T_14d93_row9_col7\" class=\"data row9 col7\" >51</td>\n",
       "      <td id=\"T_14d93_row9_col8\" class=\"data row9 col8\" >263</td>\n",
       "      <td id=\"T_14d93_row9_col9\" class=\"data row9 col9\" >2181</td>\n",
       "      <td id=\"T_14d93_row9_col10\" class=\"data row9 col10\" >90</td>\n",
       "    </tr>\n",
       "    <tr>\n",
       "      <th id=\"T_14d93_level0_row10\" class=\"row_heading level0 row10\" >Unknown Intervention</th>\n",
       "      <td id=\"T_14d93_row10_col0\" class=\"data row10 col0\" >0.1103</td>\n",
       "      <td id=\"T_14d93_row10_col1\" class=\"data row10 col1\" >0.1778</td>\n",
       "      <td id=\"T_14d93_row10_col2\" class=\"data row10 col2\" >0.136200</td>\n",
       "      <td id=\"T_14d93_row10_col3\" class=\"data row10 col3\" >16</td>\n",
       "      <td id=\"T_14d93_row10_col4\" class=\"data row10 col4\" >129</td>\n",
       "      <td id=\"T_14d93_row10_col5\" class=\"data row10 col5\" >74</td>\n",
       "      <td id=\"T_14d93_row10_col6\" class=\"data row10 col6\" >1962</td>\n",
       "      <td id=\"T_14d93_row10_col7\" class=\"data row10 col7\" >44</td>\n",
       "      <td id=\"T_14d93_row10_col8\" class=\"data row10 col8\" >189</td>\n",
       "      <td id=\"T_14d93_row10_col9\" class=\"data row10 col9\" >2181</td>\n",
       "      <td id=\"T_14d93_row10_col10\" class=\"data row10 col10\" >90</td>\n",
       "    </tr>\n",
       "    <tr>\n",
       "      <th id=\"T_14d93_level0_row11\" class=\"row_heading level0 row11\" >K+U Intervention</th>\n",
       "      <td id=\"T_14d93_row11_col0\" class=\"data row11 col0\" >0.1210</td>\n",
       "      <td id=\"T_14d93_row11_col1\" class=\"data row11 col1\" >0.1667</td>\n",
       "      <td id=\"T_14d93_row11_col2\" class=\"data row11 col2\" >0.140200</td>\n",
       "      <td id=\"T_14d93_row11_col3\" class=\"data row11 col3\" >15</td>\n",
       "      <td id=\"T_14d93_row11_col4\" class=\"data row11 col4\" >109</td>\n",
       "      <td id=\"T_14d93_row11_col5\" class=\"data row11 col5\" >75</td>\n",
       "      <td id=\"T_14d93_row11_col6\" class=\"data row11 col6\" >1982</td>\n",
       "      <td id=\"T_14d93_row11_col7\" class=\"data row11 col7\" >31</td>\n",
       "      <td id=\"T_14d93_row11_col8\" class=\"data row11 col8\" >155</td>\n",
       "      <td id=\"T_14d93_row11_col9\" class=\"data row11 col9\" >2181</td>\n",
       "      <td id=\"T_14d93_row11_col10\" class=\"data row11 col10\" >90</td>\n",
       "    </tr>\n",
       "    <tr>\n",
       "      <th id=\"T_14d93_level0_row12\" class=\"row_heading level0 row12\" >Significant Finding</th>\n",
       "      <td id=\"T_14d93_row12_col0\" class=\"data row12 col0\" >0.1198</td>\n",
       "      <td id=\"T_14d93_row12_col1\" class=\"data row12 col1\" >0.2222</td>\n",
       "      <td id=\"T_14d93_row12_col2\" class=\"data row12 col2\" >0.155600</td>\n",
       "      <td id=\"T_14d93_row12_col3\" class=\"data row12 col3\" >20</td>\n",
       "      <td id=\"T_14d93_row12_col4\" class=\"data row12 col4\" >147</td>\n",
       "      <td id=\"T_14d93_row12_col5\" class=\"data row12 col5\" >70</td>\n",
       "      <td id=\"T_14d93_row12_col6\" class=\"data row12 col6\" >1944</td>\n",
       "      <td id=\"T_14d93_row12_col7\" class=\"data row12 col7\" >56</td>\n",
       "      <td id=\"T_14d93_row12_col8\" class=\"data row12 col8\" >223</td>\n",
       "      <td id=\"T_14d93_row12_col9\" class=\"data row12 col9\" >2181</td>\n",
       "      <td id=\"T_14d93_row12_col10\" class=\"data row12 col10\" >90</td>\n",
       "    </tr>\n",
       "    <tr>\n",
       "      <th id=\"T_14d93_level0_row13\" class=\"row_heading level0 row13\" >No Significant Finding</th>\n",
       "      <td id=\"T_14d93_row13_col0\" class=\"data row13 col0\" >0.1605</td>\n",
       "      <td id=\"T_14d93_row13_col1\" class=\"data row13 col1\" >0.1444</td>\n",
       "      <td id=\"T_14d93_row13_col2\" class=\"data row13 col2\" >0.152000</td>\n",
       "      <td id=\"T_14d93_row13_col3\" class=\"data row13 col3\" >13</td>\n",
       "      <td id=\"T_14d93_row13_col4\" class=\"data row13 col4\" >68</td>\n",
       "      <td id=\"T_14d93_row13_col5\" class=\"data row13 col5\" >77</td>\n",
       "      <td id=\"T_14d93_row13_col6\" class=\"data row13 col6\" >2023</td>\n",
       "      <td id=\"T_14d93_row13_col7\" class=\"data row13 col7\" >18</td>\n",
       "      <td id=\"T_14d93_row13_col8\" class=\"data row13 col8\" >99</td>\n",
       "      <td id=\"T_14d93_row13_col9\" class=\"data row13 col9\" >2181</td>\n",
       "      <td id=\"T_14d93_row13_col10\" class=\"data row13 col10\" >90</td>\n",
       "    </tr>\n",
       "  </tbody>\n",
       "</table>\n"
      ],
      "text/plain": [
       "<pandas.io.formats.style.Styler at 0x7eff45e82920>"
      ]
     },
     "execution_count": 253,
     "metadata": {},
     "output_type": "execute_result"
    }
   ],
   "source": [
    "highlight_metrics(\n",
    "    metrics_to_df(metrics_w_manual[\"All\"], drop_zero_tp=False).head(\n",
    "        len(FILTERS_RETRIEVED)\n",
    "    )\n",
    ")"
   ]
  },
  {
   "cell_type": "markdown",
   "metadata": {},
   "source": [
    "#### RCTs only"
   ]
  },
  {
   "cell_type": "code",
   "execution_count": 254,
   "metadata": {
    "tags": []
   },
   "outputs": [
    {
     "data": {
      "image/png": "[encoded data removed]",
      "text/plain": [
       "<Figure size 551.181x340.649 with 1 Axes>"
      ]
     },
     "metadata": {},
     "output_type": "display_data"
    }
   ],
   "source": [
    "draw_venn_rsi(\n",
    "    title=\"RCTs only\",\n",
    "    ids_retrieved=metrics_w_manual[\"Only RCTs\"][\"Is RCT\"][\"ids_retrieved\"],\n",
    "    ids_screened=metrics_w_manual[\"Only RCTs\"][\"Is RCT\"][\"ids_screened\"],\n",
    "    ids_screened_relevant=metrics_w_manual[\"Only RCTs\"][\"Is RCT\"][\n",
    "        \"ids_screened_relevant\"\n",
    "    ],\n",
    "    add_pn_labels=True,\n",
    ");"
   ]
  },
  {
   "cell_type": "code",
   "execution_count": 255,
   "metadata": {
    "tags": []
   },
   "outputs": [
    {
     "data": {
      "text/html": [
       "<style type=\"text/css\">\n",
       "#T_46a3f_row0_col1, #T_46a3f_row0_col3, #T_46a3f_row0_col5, #T_46a3f_row1_col1, #T_46a3f_row1_col3, #T_46a3f_row1_col5, #T_46a3f_row2_col1, #T_46a3f_row2_col3, #T_46a3f_row2_col5, #T_46a3f_row3_col1, #T_46a3f_row3_col3, #T_46a3f_row3_col5, #T_46a3f_row5_col0, #T_46a3f_row5_col2, #T_46a3f_row5_col4 {\n",
       "  font-weight: bold;\n",
       "}\n",
       "</style>\n",
       "<table id=\"T_46a3f\">\n",
       "  <thead>\n",
       "    <tr>\n",
       "      <th class=\"blank level0\" >&nbsp;</th>\n",
       "      <th id=\"T_46a3f_level0_col0\" class=\"col_heading level0 col0\" >Precision</th>\n",
       "      <th id=\"T_46a3f_level0_col1\" class=\"col_heading level0 col1\" >Recall</th>\n",
       "      <th id=\"T_46a3f_level0_col2\" class=\"col_heading level0 col2\" >$F_1$</th>\n",
       "      <th id=\"T_46a3f_level0_col3\" class=\"col_heading level0 col3\" >TP</th>\n",
       "      <th id=\"T_46a3f_level0_col4\" class=\"col_heading level0 col4\" >FP</th>\n",
       "      <th id=\"T_46a3f_level0_col5\" class=\"col_heading level0 col5\" >FN</th>\n",
       "      <th id=\"T_46a3f_level0_col6\" class=\"col_heading level0 col6\" >TN</th>\n",
       "      <th id=\"T_46a3f_level0_col7\" class=\"col_heading level0 col7\" >?</th>\n",
       "      <th id=\"T_46a3f_level0_col8\" class=\"col_heading level0 col8\" >Retrieved</th>\n",
       "      <th id=\"T_46a3f_level0_col9\" class=\"col_heading level0 col9\" >Screened</th>\n",
       "      <th id=\"T_46a3f_level0_col10\" class=\"col_heading level0 col10\" >Relevant</th>\n",
       "    </tr>\n",
       "  </thead>\n",
       "  <tbody>\n",
       "    <tr>\n",
       "      <th id=\"T_46a3f_level0_row0\" class=\"row_heading level0 row0\" >All</th>\n",
       "      <td id=\"T_46a3f_row0_col0\" class=\"data row0 col0\" >0.1751</td>\n",
       "      <td id=\"T_46a3f_row0_col1\" class=\"data row0 col1\" >0.8857</td>\n",
       "      <td id=\"T_46a3f_row0_col2\" class=\"data row0 col2\" >0.292500</td>\n",
       "      <td id=\"T_46a3f_row0_col3\" class=\"data row0 col3\" >31</td>\n",
       "      <td id=\"T_46a3f_row0_col4\" class=\"data row0 col4\" >146</td>\n",
       "      <td id=\"T_46a3f_row0_col5\" class=\"data row0 col5\" >4</td>\n",
       "      <td id=\"T_46a3f_row0_col6\" class=\"data row0 col6\" >150</td>\n",
       "      <td id=\"T_46a3f_row0_col7\" class=\"data row0 col7\" >149</td>\n",
       "      <td id=\"T_46a3f_row0_col8\" class=\"data row0 col8\" >326</td>\n",
       "      <td id=\"T_46a3f_row0_col9\" class=\"data row0 col9\" >331</td>\n",
       "      <td id=\"T_46a3f_row0_col10\" class=\"data row0 col10\" >35</td>\n",
       "    </tr>\n",
       "    <tr>\n",
       "      <th id=\"T_46a3f_level0_row1\" class=\"row_heading level0 row1\" >Is RCT</th>\n",
       "      <td id=\"T_46a3f_row1_col0\" class=\"data row1 col0\" >0.1751</td>\n",
       "      <td id=\"T_46a3f_row1_col1\" class=\"data row1 col1\" >0.8857</td>\n",
       "      <td id=\"T_46a3f_row1_col2\" class=\"data row1 col2\" >0.292500</td>\n",
       "      <td id=\"T_46a3f_row1_col3\" class=\"data row1 col3\" >31</td>\n",
       "      <td id=\"T_46a3f_row1_col4\" class=\"data row1 col4\" >146</td>\n",
       "      <td id=\"T_46a3f_row1_col5\" class=\"data row1 col5\" >4</td>\n",
       "      <td id=\"T_46a3f_row1_col6\" class=\"data row1 col6\" >150</td>\n",
       "      <td id=\"T_46a3f_row1_col7\" class=\"data row1 col7\" >33</td>\n",
       "      <td id=\"T_46a3f_row1_col8\" class=\"data row1 col8\" >210</td>\n",
       "      <td id=\"T_46a3f_row1_col9\" class=\"data row1 col9\" >331</td>\n",
       "      <td id=\"T_46a3f_row1_col10\" class=\"data row1 col10\" >35</td>\n",
       "    </tr>\n",
       "    <tr>\n",
       "      <th id=\"T_46a3f_level0_row2\" class=\"row_heading level0 row2\" >Non-empty Abstract</th>\n",
       "      <td id=\"T_46a3f_row2_col0\" class=\"data row2 col0\" >0.1751</td>\n",
       "      <td id=\"T_46a3f_row2_col1\" class=\"data row2 col1\" >0.8857</td>\n",
       "      <td id=\"T_46a3f_row2_col2\" class=\"data row2 col2\" >0.292500</td>\n",
       "      <td id=\"T_46a3f_row2_col3\" class=\"data row2 col3\" >31</td>\n",
       "      <td id=\"T_46a3f_row2_col4\" class=\"data row2 col4\" >146</td>\n",
       "      <td id=\"T_46a3f_row2_col5\" class=\"data row2 col5\" >4</td>\n",
       "      <td id=\"T_46a3f_row2_col6\" class=\"data row2 col6\" >150</td>\n",
       "      <td id=\"T_46a3f_row2_col7\" class=\"data row2 col7\" >145</td>\n",
       "      <td id=\"T_46a3f_row2_col8\" class=\"data row2 col8\" >322</td>\n",
       "      <td id=\"T_46a3f_row2_col9\" class=\"data row2 col9\" >331</td>\n",
       "      <td id=\"T_46a3f_row2_col10\" class=\"data row2 col10\" >35</td>\n",
       "    </tr>\n",
       "    <tr>\n",
       "      <th id=\"T_46a3f_level0_row3\" class=\"row_heading level0 row3\" >Non-pediatric population</th>\n",
       "      <td id=\"T_46a3f_row3_col0\" class=\"data row3 col0\" >0.1761</td>\n",
       "      <td id=\"T_46a3f_row3_col1\" class=\"data row3 col1\" >0.8857</td>\n",
       "      <td id=\"T_46a3f_row3_col2\" class=\"data row3 col2\" >0.293800</td>\n",
       "      <td id=\"T_46a3f_row3_col3\" class=\"data row3 col3\" >31</td>\n",
       "      <td id=\"T_46a3f_row3_col4\" class=\"data row3 col4\" >145</td>\n",
       "      <td id=\"T_46a3f_row3_col5\" class=\"data row3 col5\" >4</td>\n",
       "      <td id=\"T_46a3f_row3_col6\" class=\"data row3 col6\" >151</td>\n",
       "      <td id=\"T_46a3f_row3_col7\" class=\"data row3 col7\" >149</td>\n",
       "      <td id=\"T_46a3f_row3_col8\" class=\"data row3 col8\" >325</td>\n",
       "      <td id=\"T_46a3f_row3_col9\" class=\"data row3 col9\" >331</td>\n",
       "      <td id=\"T_46a3f_row3_col10\" class=\"data row3 col10\" >35</td>\n",
       "    </tr>\n",
       "    <tr>\n",
       "      <th id=\"T_46a3f_level0_row4\" class=\"row_heading level0 row4\" >Phase >= 2</th>\n",
       "      <td id=\"T_46a3f_row4_col0\" class=\"data row4 col0\" >0.2872</td>\n",
       "      <td id=\"T_46a3f_row4_col1\" class=\"data row4 col1\" >0.7714</td>\n",
       "      <td id=\"T_46a3f_row4_col2\" class=\"data row4 col2\" >0.418600</td>\n",
       "      <td id=\"T_46a3f_row4_col3\" class=\"data row4 col3\" >27</td>\n",
       "      <td id=\"T_46a3f_row4_col4\" class=\"data row4 col4\" >67</td>\n",
       "      <td id=\"T_46a3f_row4_col5\" class=\"data row4 col5\" >8</td>\n",
       "      <td id=\"T_46a3f_row4_col6\" class=\"data row4 col6\" >229</td>\n",
       "      <td id=\"T_46a3f_row4_col7\" class=\"data row4 col7\" >68</td>\n",
       "      <td id=\"T_46a3f_row4_col8\" class=\"data row4 col8\" >162</td>\n",
       "      <td id=\"T_46a3f_row4_col9\" class=\"data row4 col9\" >331</td>\n",
       "      <td id=\"T_46a3f_row4_col10\" class=\"data row4 col10\" >35</td>\n",
       "    </tr>\n",
       "    <tr>\n",
       "      <th id=\"T_46a3f_level0_row5\" class=\"row_heading level0 row5\" >Phase >= 3</th>\n",
       "      <td id=\"T_46a3f_row5_col0\" class=\"data row5 col0\" >0.3636</td>\n",
       "      <td id=\"T_46a3f_row5_col1\" class=\"data row5 col1\" >0.5714</td>\n",
       "      <td id=\"T_46a3f_row5_col2\" class=\"data row5 col2\" >0.444400</td>\n",
       "      <td id=\"T_46a3f_row5_col3\" class=\"data row5 col3\" >20</td>\n",
       "      <td id=\"T_46a3f_row5_col4\" class=\"data row5 col4\" >35</td>\n",
       "      <td id=\"T_46a3f_row5_col5\" class=\"data row5 col5\" >15</td>\n",
       "      <td id=\"T_46a3f_row5_col6\" class=\"data row5 col6\" >261</td>\n",
       "      <td id=\"T_46a3f_row5_col7\" class=\"data row5 col7\" >8</td>\n",
       "      <td id=\"T_46a3f_row5_col8\" class=\"data row5 col8\" >63</td>\n",
       "      <td id=\"T_46a3f_row5_col9\" class=\"data row5 col9\" >331</td>\n",
       "      <td id=\"T_46a3f_row5_col10\" class=\"data row5 col10\" >35</td>\n",
       "    </tr>\n",
       "    <tr>\n",
       "      <th id=\"T_46a3f_level0_row6\" class=\"row_heading level0 row6\" >Sample Size >= 5</th>\n",
       "      <td id=\"T_46a3f_row6_col0\" class=\"data row6 col0\" >0.1696</td>\n",
       "      <td id=\"T_46a3f_row6_col1\" class=\"data row6 col1\" >0.8286</td>\n",
       "      <td id=\"T_46a3f_row6_col2\" class=\"data row6 col2\" >0.281600</td>\n",
       "      <td id=\"T_46a3f_row6_col3\" class=\"data row6 col3\" >29</td>\n",
       "      <td id=\"T_46a3f_row6_col4\" class=\"data row6 col4\" >142</td>\n",
       "      <td id=\"T_46a3f_row6_col5\" class=\"data row6 col5\" >6</td>\n",
       "      <td id=\"T_46a3f_row6_col6\" class=\"data row6 col6\" >154</td>\n",
       "      <td id=\"T_46a3f_row6_col7\" class=\"data row6 col7\" >139</td>\n",
       "      <td id=\"T_46a3f_row6_col8\" class=\"data row6 col8\" >310</td>\n",
       "      <td id=\"T_46a3f_row6_col9\" class=\"data row6 col9\" >331</td>\n",
       "      <td id=\"T_46a3f_row6_col10\" class=\"data row6 col10\" >35</td>\n",
       "    </tr>\n",
       "    <tr>\n",
       "      <th id=\"T_46a3f_level0_row7\" class=\"row_heading level0 row7\" >Sample Size >= 10</th>\n",
       "      <td id=\"T_46a3f_row7_col0\" class=\"data row7 col0\" >0.1706</td>\n",
       "      <td id=\"T_46a3f_row7_col1\" class=\"data row7 col1\" >0.8286</td>\n",
       "      <td id=\"T_46a3f_row7_col2\" class=\"data row7 col2\" >0.282900</td>\n",
       "      <td id=\"T_46a3f_row7_col3\" class=\"data row7 col3\" >29</td>\n",
       "      <td id=\"T_46a3f_row7_col4\" class=\"data row7 col4\" >141</td>\n",
       "      <td id=\"T_46a3f_row7_col5\" class=\"data row7 col5\" >6</td>\n",
       "      <td id=\"T_46a3f_row7_col6\" class=\"data row7 col6\" >155</td>\n",
       "      <td id=\"T_46a3f_row7_col7\" class=\"data row7 col7\" >136</td>\n",
       "      <td id=\"T_46a3f_row7_col8\" class=\"data row7 col8\" >306</td>\n",
       "      <td id=\"T_46a3f_row7_col9\" class=\"data row7 col9\" >331</td>\n",
       "      <td id=\"T_46a3f_row7_col10\" class=\"data row7 col10\" >35</td>\n",
       "    </tr>\n",
       "    <tr>\n",
       "      <th id=\"T_46a3f_level0_row8\" class=\"row_heading level0 row8\" >Sample Size >= 15</th>\n",
       "      <td id=\"T_46a3f_row8_col0\" class=\"data row8 col0\" >0.1737</td>\n",
       "      <td id=\"T_46a3f_row8_col1\" class=\"data row8 col1\" >0.8286</td>\n",
       "      <td id=\"T_46a3f_row8_col2\" class=\"data row8 col2\" >0.287100</td>\n",
       "      <td id=\"T_46a3f_row8_col3\" class=\"data row8 col3\" >29</td>\n",
       "      <td id=\"T_46a3f_row8_col4\" class=\"data row8 col4\" >138</td>\n",
       "      <td id=\"T_46a3f_row8_col5\" class=\"data row8 col5\" >6</td>\n",
       "      <td id=\"T_46a3f_row8_col6\" class=\"data row8 col6\" >158</td>\n",
       "      <td id=\"T_46a3f_row8_col7\" class=\"data row8 col7\" >129</td>\n",
       "      <td id=\"T_46a3f_row8_col8\" class=\"data row8 col8\" >296</td>\n",
       "      <td id=\"T_46a3f_row8_col9\" class=\"data row8 col9\" >331</td>\n",
       "      <td id=\"T_46a3f_row8_col10\" class=\"data row8 col10\" >35</td>\n",
       "    </tr>\n",
       "    <tr>\n",
       "      <th id=\"T_46a3f_level0_row9\" class=\"row_heading level0 row9\" >Known Intervention</th>\n",
       "      <td id=\"T_46a3f_row9_col0\" class=\"data row9 col0\" >0.1987</td>\n",
       "      <td id=\"T_46a3f_row9_col1\" class=\"data row9 col1\" >0.8571</td>\n",
       "      <td id=\"T_46a3f_row9_col2\" class=\"data row9 col2\" >0.322600</td>\n",
       "      <td id=\"T_46a3f_row9_col3\" class=\"data row9 col3\" >30</td>\n",
       "      <td id=\"T_46a3f_row9_col4\" class=\"data row9 col4\" >121</td>\n",
       "      <td id=\"T_46a3f_row9_col5\" class=\"data row9 col5\" >5</td>\n",
       "      <td id=\"T_46a3f_row9_col6\" class=\"data row9 col6\" >175</td>\n",
       "      <td id=\"T_46a3f_row9_col7\" class=\"data row9 col7\" >112</td>\n",
       "      <td id=\"T_46a3f_row9_col8\" class=\"data row9 col8\" >263</td>\n",
       "      <td id=\"T_46a3f_row9_col9\" class=\"data row9 col9\" >331</td>\n",
       "      <td id=\"T_46a3f_row9_col10\" class=\"data row9 col10\" >35</td>\n",
       "    </tr>\n",
       "    <tr>\n",
       "      <th id=\"T_46a3f_level0_row10\" class=\"row_heading level0 row10\" >Unknown Intervention</th>\n",
       "      <td id=\"T_46a3f_row10_col0\" class=\"data row10 col0\" >0.1546</td>\n",
       "      <td id=\"T_46a3f_row10_col1\" class=\"data row10 col1\" >0.4286</td>\n",
       "      <td id=\"T_46a3f_row10_col2\" class=\"data row10 col2\" >0.227300</td>\n",
       "      <td id=\"T_46a3f_row10_col3\" class=\"data row10 col3\" >15</td>\n",
       "      <td id=\"T_46a3f_row10_col4\" class=\"data row10 col4\" >82</td>\n",
       "      <td id=\"T_46a3f_row10_col5\" class=\"data row10 col5\" >20</td>\n",
       "      <td id=\"T_46a3f_row10_col6\" class=\"data row10 col6\" >214</td>\n",
       "      <td id=\"T_46a3f_row10_col7\" class=\"data row10 col7\" >92</td>\n",
       "      <td id=\"T_46a3f_row10_col8\" class=\"data row10 col8\" >189</td>\n",
       "      <td id=\"T_46a3f_row10_col9\" class=\"data row10 col9\" >331</td>\n",
       "      <td id=\"T_46a3f_row10_col10\" class=\"data row10 col10\" >35</td>\n",
       "    </tr>\n",
       "    <tr>\n",
       "      <th id=\"T_46a3f_level0_row11\" class=\"row_heading level0 row11\" >K+U Intervention</th>\n",
       "      <td id=\"T_46a3f_row11_col0\" class=\"data row11 col0\" >0.1667</td>\n",
       "      <td id=\"T_46a3f_row11_col1\" class=\"data row11 col1\" >0.4000</td>\n",
       "      <td id=\"T_46a3f_row11_col2\" class=\"data row11 col2\" >0.235300</td>\n",
       "      <td id=\"T_46a3f_row11_col3\" class=\"data row11 col3\" >14</td>\n",
       "      <td id=\"T_46a3f_row11_col4\" class=\"data row11 col4\" >70</td>\n",
       "      <td id=\"T_46a3f_row11_col5\" class=\"data row11 col5\" >21</td>\n",
       "      <td id=\"T_46a3f_row11_col6\" class=\"data row11 col6\" >226</td>\n",
       "      <td id=\"T_46a3f_row11_col7\" class=\"data row11 col7\" >71</td>\n",
       "      <td id=\"T_46a3f_row11_col8\" class=\"data row11 col8\" >155</td>\n",
       "      <td id=\"T_46a3f_row11_col9\" class=\"data row11 col9\" >331</td>\n",
       "      <td id=\"T_46a3f_row11_col10\" class=\"data row11 col10\" >35</td>\n",
       "    </tr>\n",
       "    <tr>\n",
       "      <th id=\"T_46a3f_level0_row12\" class=\"row_heading level0 row12\" >Significant Finding</th>\n",
       "      <td id=\"T_46a3f_row12_col0\" class=\"data row12 col0\" >0.1845</td>\n",
       "      <td id=\"T_46a3f_row12_col1\" class=\"data row12 col1\" >0.5429</td>\n",
       "      <td id=\"T_46a3f_row12_col2\" class=\"data row12 col2\" >0.275400</td>\n",
       "      <td id=\"T_46a3f_row12_col3\" class=\"data row12 col3\" >19</td>\n",
       "      <td id=\"T_46a3f_row12_col4\" class=\"data row12 col4\" >84</td>\n",
       "      <td id=\"T_46a3f_row12_col5\" class=\"data row12 col5\" >16</td>\n",
       "      <td id=\"T_46a3f_row12_col6\" class=\"data row12 col6\" >212</td>\n",
       "      <td id=\"T_46a3f_row12_col7\" class=\"data row12 col7\" >120</td>\n",
       "      <td id=\"T_46a3f_row12_col8\" class=\"data row12 col8\" >223</td>\n",
       "      <td id=\"T_46a3f_row12_col9\" class=\"data row12 col9\" >331</td>\n",
       "      <td id=\"T_46a3f_row12_col10\" class=\"data row12 col10\" >35</td>\n",
       "    </tr>\n",
       "    <tr>\n",
       "      <th id=\"T_46a3f_level0_row13\" class=\"row_heading level0 row13\" >No Significant Finding</th>\n",
       "      <td id=\"T_46a3f_row13_col0\" class=\"data row13 col0\" >0.1622</td>\n",
       "      <td id=\"T_46a3f_row13_col1\" class=\"data row13 col1\" >0.3429</td>\n",
       "      <td id=\"T_46a3f_row13_col2\" class=\"data row13 col2\" >0.220200</td>\n",
       "      <td id=\"T_46a3f_row13_col3\" class=\"data row13 col3\" >12</td>\n",
       "      <td id=\"T_46a3f_row13_col4\" class=\"data row13 col4\" >62</td>\n",
       "      <td id=\"T_46a3f_row13_col5\" class=\"data row13 col5\" >23</td>\n",
       "      <td id=\"T_46a3f_row13_col6\" class=\"data row13 col6\" >234</td>\n",
       "      <td id=\"T_46a3f_row13_col7\" class=\"data row13 col7\" >25</td>\n",
       "      <td id=\"T_46a3f_row13_col8\" class=\"data row13 col8\" >99</td>\n",
       "      <td id=\"T_46a3f_row13_col9\" class=\"data row13 col9\" >331</td>\n",
       "      <td id=\"T_46a3f_row13_col10\" class=\"data row13 col10\" >35</td>\n",
       "    </tr>\n",
       "  </tbody>\n",
       "</table>\n"
      ],
      "text/plain": [
       "<pandas.io.formats.style.Styler at 0x7eff452f1e40>"
      ]
     },
     "execution_count": 255,
     "metadata": {},
     "output_type": "execute_result"
    }
   ],
   "source": [
    "highlight_metrics(\n",
    "    metrics_to_df(metrics_w_manual[\"Only RCTs\"], drop_zero_tp=False).head(\n",
    "        len(FILTERS_RETRIEVED)\n",
    "    )\n",
    ")"
   ]
  },
  {
   "cell_type": "markdown",
   "metadata": {},
   "source": [
    "# Final Results (for RCTs)"
   ]
  },
  {
   "cell_type": "code",
   "execution_count": 282,
   "metadata": {
    "tags": []
   },
   "outputs": [],
   "source": [
    "from evaluation.metrics import build_filter_combinations_table"
   ]
  },
  {
   "cell_type": "code",
   "execution_count": 315,
   "metadata": {
    "tags": []
   },
   "outputs": [],
   "source": [
    "# Queries for combinations table\n",
    "Q_RCTS = \"is_rct_pt == True & abstract.str.len() > 1\"\n",
    "Q_RCTS_P2 = Q_RCTS + \" & phase_int >= 2\"\n",
    "Q_RCTS_P3 = Q_RCTS + \" & phase_int >= 3\"\n",
    "Q_RCTS_P3_NC = Q_RCTS_P3 + \" & has_pediatric_population == False\"\n",
    "Q_SIG = \"(has_significant_finding == True)\"\n",
    "Q_INSIQ = \"(has_significant_finding == False)\"\n",
    "Q_KNOWN = \"(has_known_intervention == True)\"\n",
    "Q_UNKNOWN = \"(has_unknown_intervention == True)\"\n",
    "Q_REC = \"(has_recommended_intervention == True)\"\n",
    "Q_UNREC = \"(has_not_recommended_intervention == True)\"\n",
    "\n",
    "# Filters for combinations table\n",
    "FILTERS_COMBINATIONS = {\n",
    "    \"RCTs\": Q_RCTS,\n",
    "    \"Phase >= 2\": Q_RCTS_P2,\n",
    "    \"Phase >= 3\": Q_RCTS_P3,\n",
    "    \"Exclude Children\": Q_RCTS_P3_NC,\n",
    "    \n",
    "    \"Significant\" : Q_RCTS_P3_NC + \"&\" + Q_SIG,\n",
    "    \n",
    "    \"R\" :  Q_RCTS_P3_NC + \"&\" + Q_REC + \"&\" + Q_SIG,\n",
    "    \"NR\" :  Q_RCTS_P3_NC + \"&\" + Q_UNREC + \"&\" + Q_SIG,\n",
    "}\n",
    "\n",
    "# Hierarchy for combinations table\n",
    "FILTERS_HIERARCHY = {\n",
    "    \"RCTs\": {\n",
    "        \"Phase >= 2\": {\n",
    "            \"Phase >= 3\": {\n",
    "                \"Exclude Children\": \n",
    "                    {\n",
    "                        \"Significant\" : [\"R\", \"NR\" ],\n",
    "                    }\n",
    "                }\n",
    "            }\n",
    "        }\n",
    "}"
   ]
  },
  {
   "cell_type": "markdown",
   "metadata": {},
   "source": [
    "## Without manual review"
   ]
  },
  {
   "cell_type": "code",
   "execution_count": 316,
   "metadata": {
    "tags": []
   },
   "outputs": [
    {
     "name": "stdout",
     "output_type": "stream",
     "text": [
      "Evaluating screened document subset 'All'\n"
     ]
    },
    {
     "data": {
      "application/vnd.jupyter.widget-view+json": {
       "model_id": "f3c70ec968394a7baf3fd5be0ac130df",
       "version_major": 2,
       "version_minor": 0
      },
      "text/plain": [
       "Evaluating filter combinations:   0%|          | 0/7 [00:00<?, ?it/s]"
      ]
     },
     "metadata": {},
     "output_type": "display_data"
    },
    {
     "name": "stdout",
     "output_type": "stream",
     "text": [
      "Evaluating screened document subset 'Only RCTs'\n"
     ]
    },
    {
     "data": {
      "application/vnd.jupyter.widget-view+json": {
       "model_id": "24b1c29359a84d1d9042f9ae24bf30df",
       "version_major": 2,
       "version_minor": 0
      },
      "text/plain": [
       "Evaluating filter combinations:   0%|          | 0/7 [00:00<?, ?it/s]"
      ]
     },
     "metadata": {},
     "output_type": "display_data"
    },
    {
     "data": {
      "text/html": [
       "<style type=\"text/css\">\n",
       "#T_914cc_row0_col1, #T_914cc_row0_col3, #T_914cc_row0_col5, #T_914cc_row5_col0, #T_914cc_row5_col2, #T_914cc_row6_col4 {\n",
       "  font-weight: bold;\n",
       "}\n",
       "</style>\n",
       "<table id=\"T_914cc\">\n",
       "  <thead>\n",
       "    <tr>\n",
       "      <th class=\"blank\" >&nbsp;</th>\n",
       "      <th class=\"blank\" >&nbsp;</th>\n",
       "      <th class=\"blank\" >&nbsp;</th>\n",
       "      <th class=\"blank\" >&nbsp;</th>\n",
       "      <th class=\"blank\" >&nbsp;</th>\n",
       "      <th class=\"blank level0\" >&nbsp;</th>\n",
       "      <th id=\"T_914cc_level0_col0\" class=\"col_heading level0 col0\" >Prec.</th>\n",
       "      <th id=\"T_914cc_level0_col1\" class=\"col_heading level0 col1\" >Rec.</th>\n",
       "      <th id=\"T_914cc_level0_col2\" class=\"col_heading level0 col2\" >$F_1$</th>\n",
       "      <th id=\"T_914cc_level0_col3\" class=\"col_heading level0 col3\" >TP</th>\n",
       "      <th id=\"T_914cc_level0_col4\" class=\"col_heading level0 col4\" >FP</th>\n",
       "      <th id=\"T_914cc_level0_col5\" class=\"col_heading level0 col5\" >FN</th>\n",
       "      <th id=\"T_914cc_level0_col6\" class=\"col_heading level0 col6\" >TN</th>\n",
       "      <th id=\"T_914cc_level0_col7\" class=\"col_heading level0 col7\" >?</th>\n",
       "      <th id=\"T_914cc_level0_col8\" class=\"col_heading level0 col8\" >Retr.</th>\n",
       "      <th id=\"T_914cc_level0_col9\" class=\"col_heading level0 col9\" >Scr.</th>\n",
       "      <th id=\"T_914cc_level0_col10\" class=\"col_heading level0 col10\" >Rel.</th>\n",
       "    </tr>\n",
       "  </thead>\n",
       "  <tbody>\n",
       "    <tr>\n",
       "      <th id=\"T_914cc_level0_row0\" class=\"row_heading level0 row0\" rowspan=\"7\">RCTs</th>\n",
       "      <th id=\"T_914cc_level1_row0\" class=\"row_heading level1 row0\" ></th>\n",
       "      <th id=\"T_914cc_level2_row0\" class=\"row_heading level2 row0\" ></th>\n",
       "      <th id=\"T_914cc_level3_row0\" class=\"row_heading level3 row0\" ></th>\n",
       "      <th id=\"T_914cc_level4_row0\" class=\"row_heading level4 row0\" ></th>\n",
       "      <th id=\"T_914cc_level5_row0\" class=\"row_heading level5 row0\" ></th>\n",
       "      <td id=\"T_914cc_row0_col0\" class=\"data row0 col0\" >0.135800</td>\n",
       "      <td id=\"T_914cc_row0_col1\" class=\"data row0 col1\" >0.846200</td>\n",
       "      <td id=\"T_914cc_row0_col2\" class=\"data row0 col2\" >0.234000</td>\n",
       "      <td id=\"T_914cc_row0_col3\" class=\"data row0 col3\" >22</td>\n",
       "      <td id=\"T_914cc_row0_col4\" class=\"data row0 col4\" >140</td>\n",
       "      <td id=\"T_914cc_row0_col5\" class=\"data row0 col5\" >4</td>\n",
       "      <td id=\"T_914cc_row0_col6\" class=\"data row0 col6\" >150</td>\n",
       "      <td id=\"T_914cc_row0_col7\" class=\"data row0 col7\" >47</td>\n",
       "      <td id=\"T_914cc_row0_col8\" class=\"data row0 col8\" >209</td>\n",
       "      <td id=\"T_914cc_row0_col9\" class=\"data row0 col9\" >316</td>\n",
       "      <td id=\"T_914cc_row0_col10\" class=\"data row0 col10\" >26</td>\n",
       "    </tr>\n",
       "    <tr>\n",
       "      <th id=\"T_914cc_level1_row1\" class=\"row_heading level1 row1\" rowspan=\"6\">Phase >= 2</th>\n",
       "      <th id=\"T_914cc_level2_row1\" class=\"row_heading level2 row1\" ></th>\n",
       "      <th id=\"T_914cc_level3_row1\" class=\"row_heading level3 row1\" ></th>\n",
       "      <th id=\"T_914cc_level4_row1\" class=\"row_heading level4 row1\" ></th>\n",
       "      <th id=\"T_914cc_level5_row1\" class=\"row_heading level5 row1\" ></th>\n",
       "      <td id=\"T_914cc_row1_col0\" class=\"data row1 col0\" >0.227800</td>\n",
       "      <td id=\"T_914cc_row1_col1\" class=\"data row1 col1\" >0.692300</td>\n",
       "      <td id=\"T_914cc_row1_col2\" class=\"data row1 col2\" >0.342900</td>\n",
       "      <td id=\"T_914cc_row1_col3\" class=\"data row1 col3\" >18</td>\n",
       "      <td id=\"T_914cc_row1_col4\" class=\"data row1 col4\" >61</td>\n",
       "      <td id=\"T_914cc_row1_col5\" class=\"data row1 col5\" >8</td>\n",
       "      <td id=\"T_914cc_row1_col6\" class=\"data row1 col6\" >229</td>\n",
       "      <td id=\"T_914cc_row1_col7\" class=\"data row1 col7\" >15</td>\n",
       "      <td id=\"T_914cc_row1_col8\" class=\"data row1 col8\" >94</td>\n",
       "      <td id=\"T_914cc_row1_col9\" class=\"data row1 col9\" >316</td>\n",
       "      <td id=\"T_914cc_row1_col10\" class=\"data row1 col10\" >26</td>\n",
       "    </tr>\n",
       "    <tr>\n",
       "      <th id=\"T_914cc_level2_row2\" class=\"row_heading level2 row2\" rowspan=\"5\">Phase >= 3</th>\n",
       "      <th id=\"T_914cc_level3_row2\" class=\"row_heading level3 row2\" ></th>\n",
       "      <th id=\"T_914cc_level4_row2\" class=\"row_heading level4 row2\" ></th>\n",
       "      <th id=\"T_914cc_level5_row2\" class=\"row_heading level5 row2\" ></th>\n",
       "      <td id=\"T_914cc_row2_col0\" class=\"data row2 col0\" >0.333300</td>\n",
       "      <td id=\"T_914cc_row2_col1\" class=\"data row2 col1\" >0.615400</td>\n",
       "      <td id=\"T_914cc_row2_col2\" class=\"data row2 col2\" >0.432400</td>\n",
       "      <td id=\"T_914cc_row2_col3\" class=\"data row2 col3\" >16</td>\n",
       "      <td id=\"T_914cc_row2_col4\" class=\"data row2 col4\" >32</td>\n",
       "      <td id=\"T_914cc_row2_col5\" class=\"data row2 col5\" >10</td>\n",
       "      <td id=\"T_914cc_row2_col6\" class=\"data row2 col6\" >258</td>\n",
       "      <td id=\"T_914cc_row2_col7\" class=\"data row2 col7\" >7</td>\n",
       "      <td id=\"T_914cc_row2_col8\" class=\"data row2 col8\" >55</td>\n",
       "      <td id=\"T_914cc_row2_col9\" class=\"data row2 col9\" >316</td>\n",
       "      <td id=\"T_914cc_row2_col10\" class=\"data row2 col10\" >26</td>\n",
       "    </tr>\n",
       "    <tr>\n",
       "      <th id=\"T_914cc_level3_row3\" class=\"row_heading level3 row3\" rowspan=\"4\">Exclude Children</th>\n",
       "      <th id=\"T_914cc_level4_row3\" class=\"row_heading level4 row3\" ></th>\n",
       "      <th id=\"T_914cc_level5_row3\" class=\"row_heading level5 row3\" ></th>\n",
       "      <td id=\"T_914cc_row3_col0\" class=\"data row3 col0\" >0.333300</td>\n",
       "      <td id=\"T_914cc_row3_col1\" class=\"data row3 col1\" >0.615400</td>\n",
       "      <td id=\"T_914cc_row3_col2\" class=\"data row3 col2\" >0.432400</td>\n",
       "      <td id=\"T_914cc_row3_col3\" class=\"data row3 col3\" >16</td>\n",
       "      <td id=\"T_914cc_row3_col4\" class=\"data row3 col4\" >32</td>\n",
       "      <td id=\"T_914cc_row3_col5\" class=\"data row3 col5\" >10</td>\n",
       "      <td id=\"T_914cc_row3_col6\" class=\"data row3 col6\" >258</td>\n",
       "      <td id=\"T_914cc_row3_col7\" class=\"data row3 col7\" >7</td>\n",
       "      <td id=\"T_914cc_row3_col8\" class=\"data row3 col8\" >55</td>\n",
       "      <td id=\"T_914cc_row3_col9\" class=\"data row3 col9\" >316</td>\n",
       "      <td id=\"T_914cc_row3_col10\" class=\"data row3 col10\" >26</td>\n",
       "    </tr>\n",
       "    <tr>\n",
       "      <th id=\"T_914cc_level4_row4\" class=\"row_heading level4 row4\" rowspan=\"3\">Significant</th>\n",
       "      <th id=\"T_914cc_level5_row4\" class=\"row_heading level5 row4\" ></th>\n",
       "      <td id=\"T_914cc_row4_col0\" class=\"data row4 col0\" >0.406200</td>\n",
       "      <td id=\"T_914cc_row4_col1\" class=\"data row4 col1\" >0.500000</td>\n",
       "      <td id=\"T_914cc_row4_col2\" class=\"data row4 col2\" >0.448300</td>\n",
       "      <td id=\"T_914cc_row4_col3\" class=\"data row4 col3\" >13</td>\n",
       "      <td id=\"T_914cc_row4_col4\" class=\"data row4 col4\" >19</td>\n",
       "      <td id=\"T_914cc_row4_col5\" class=\"data row4 col5\" >13</td>\n",
       "      <td id=\"T_914cc_row4_col6\" class=\"data row4 col6\" >271</td>\n",
       "      <td id=\"T_914cc_row4_col7\" class=\"data row4 col7\" >5</td>\n",
       "      <td id=\"T_914cc_row4_col8\" class=\"data row4 col8\" >37</td>\n",
       "      <td id=\"T_914cc_row4_col9\" class=\"data row4 col9\" >316</td>\n",
       "      <td id=\"T_914cc_row4_col10\" class=\"data row4 col10\" >26</td>\n",
       "    </tr>\n",
       "    <tr>\n",
       "      <th id=\"T_914cc_level5_row5\" class=\"row_heading level5 row5\" >R</th>\n",
       "      <td id=\"T_914cc_row5_col0\" class=\"data row5 col0\" >0.464300</td>\n",
       "      <td id=\"T_914cc_row5_col1\" class=\"data row5 col1\" >0.500000</td>\n",
       "      <td id=\"T_914cc_row5_col2\" class=\"data row5 col2\" >0.481500</td>\n",
       "      <td id=\"T_914cc_row5_col3\" class=\"data row5 col3\" >13</td>\n",
       "      <td id=\"T_914cc_row5_col4\" class=\"data row5 col4\" >15</td>\n",
       "      <td id=\"T_914cc_row5_col5\" class=\"data row5 col5\" >13</td>\n",
       "      <td id=\"T_914cc_row5_col6\" class=\"data row5 col6\" >275</td>\n",
       "      <td id=\"T_914cc_row5_col7\" class=\"data row5 col7\" >3</td>\n",
       "      <td id=\"T_914cc_row5_col8\" class=\"data row5 col8\" >31</td>\n",
       "      <td id=\"T_914cc_row5_col9\" class=\"data row5 col9\" >316</td>\n",
       "      <td id=\"T_914cc_row5_col10\" class=\"data row5 col10\" >26</td>\n",
       "    </tr>\n",
       "    <tr>\n",
       "      <th id=\"T_914cc_level5_row6\" class=\"row_heading level5 row6\" >NR</th>\n",
       "      <td id=\"T_914cc_row6_col0\" class=\"data row6 col0\" >0.434800</td>\n",
       "      <td id=\"T_914cc_row6_col1\" class=\"data row6 col1\" >0.384600</td>\n",
       "      <td id=\"T_914cc_row6_col2\" class=\"data row6 col2\" >0.408200</td>\n",
       "      <td id=\"T_914cc_row6_col3\" class=\"data row6 col3\" >10</td>\n",
       "      <td id=\"T_914cc_row6_col4\" class=\"data row6 col4\" >13</td>\n",
       "      <td id=\"T_914cc_row6_col5\" class=\"data row6 col5\" >16</td>\n",
       "      <td id=\"T_914cc_row6_col6\" class=\"data row6 col6\" >277</td>\n",
       "      <td id=\"T_914cc_row6_col7\" class=\"data row6 col7\" >5</td>\n",
       "      <td id=\"T_914cc_row6_col8\" class=\"data row6 col8\" >28</td>\n",
       "      <td id=\"T_914cc_row6_col9\" class=\"data row6 col9\" >316</td>\n",
       "      <td id=\"T_914cc_row6_col10\" class=\"data row6 col10\" >26</td>\n",
       "    </tr>\n",
       "  </tbody>\n",
       "</table>\n"
      ],
      "text/plain": [
       "<pandas.io.formats.style.Styler at 0x7eff3e2cb820>"
      ]
     },
     "execution_count": 316,
     "metadata": {},
     "output_type": "execute_result"
    }
   ],
   "source": [
    "combinations_table, metrics_combinations_final = build_filter_combinations_table(\n",
    "    df_retrieved=df_r,\n",
    "    df_screened=df_s_with_ggponc.query(\"screening_origin != 'manual' and screening_origin != 'ggponc'\"),\n",
    "    latex_output_path=PATH_LATEX_TABLE_OUTPUT / \"final_metrics.tex\",\n",
    "    overwrite_latex_output=False,\n",
    "    use_abbreviations=True,\n",
    "    column_format=\"llllllS[table-format=1.2]S[table-format=1.2]S[table-format=1.2]S[table-format=2]S[table-format=2]S[table-format=2]S[table-format=2]S[table-format=2]S[table-format=2]\",\n",
    "    filters_retrieved = FILTERS_COMBINATIONS,\n",
    "    filters_retrieved_hierarchy = FILTERS_HIERARCHY,\n",
    ")\n",
    "highlight_metrics(combinations_table)"
   ]
  },
  {
   "cell_type": "code",
   "execution_count": 317,
   "metadata": {
    "tags": []
   },
   "outputs": [
    {
     "name": "stdout",
     "output_type": "stream",
     "text": [
      "\\begin{tabular}{lrrrrrrr}\n",
      "\\toprule\n",
      "{} &  Retr. &  TP &   ? &   FP &   TN &  FN &  Rec. \\\\\n",
      "\\midrule\n",
      "0 &    209 &  22 &  47 &  140 &  150 &   4 &  0.85 \\\\\n",
      "1 &     94 &  18 &  15 &   61 &  229 &   8 &  0.69 \\\\\n",
      "2 &     55 &  16 &   7 &   32 &  258 &  10 &  0.62 \\\\\n",
      "3 &     55 &  16 &   7 &   32 &  258 &  10 &  0.62 \\\\\n",
      "4 &     37 &  13 &   5 &   19 &  271 &  13 &  0.50 \\\\\n",
      "5 &     31 &  13 &   3 &   15 &  275 &  13 &  0.50 \\\\\n",
      "6 &     28 &  10 &   5 &   13 &  277 &  16 &  0.38 \\\\\n",
      "\\bottomrule\n",
      "\\end{tabular}\n",
      "\n"
     ]
    },
    {
     "name": "stderr",
     "output_type": "stream",
     "text": [
      "/tmp/ipykernel_1434316/569929526.py:1: FutureWarning: In future versions `DataFrame.to_latex` is expected to utilise the base implementation of `Styler.to_latex` for formatting and rendering. The arguments signature may therefore change. It is recommended instead to use `DataFrame.style.to_latex` which also contains additional functionality.\n",
      "  print(combinations_table.reset_index()[['Retr.', 'TP', '?', 'FP', 'TN', 'FN', 'Rec.']].round(2).to_latex())\n"
     ]
    }
   ],
   "source": [
    "print(combinations_table.reset_index()[['Retr.', 'TP', '?', 'FP', 'TN', 'FN', 'Rec.']].round(2).to_latex())"
   ]
  },
  {
   "cell_type": "markdown",
   "metadata": {},
   "source": [
    "## After manual review"
   ]
  },
  {
   "cell_type": "code",
   "execution_count": 318,
   "metadata": {
    "tags": []
   },
   "outputs": [],
   "source": [
    "df_manual = pd.read_csv(PATH_MANUAL_REVIEW)"
   ]
  },
  {
   "cell_type": "code",
   "execution_count": 319,
   "metadata": {
    "tags": []
   },
   "outputs": [
    {
     "name": "stdout",
     "output_type": "stream",
     "text": [
      "False Nicht Teil der PICO Fragen - Immuntherapie + Chemo, Toripalimab nicht explizit gesucht \n",
      "False Nicht Teil der PICO Fragen -  Ernährung als Intervention\n",
      "False Nicht Teil der PICO Fragen - keine Dosisvergleiche gesucht\n",
      "False Nicht Teil der PICO Fragen - keine Genexpressionsstudien gesucht\n",
      "False narrativer Review, ausgeschlossen\n",
      "False Gastric Cancer als Population nicht passend\n",
      "True Durvalumab nicht explizit gesucht weil nicht im PICO Schema, grundsätzlich relevant\n",
      "True Unklar ob mit oder ohne OP. Pembrolizumab nicht explizit gesucht weil nicht im PICO Schema, grundsätzlich relevant\n",
      "True Sintilimab nicht explizit gesucht weil nicht im PICO Schema, grundsätzlich relevant\n",
      "True Trifluridine nicht explizit gesucht weil nicht im PICO Schema, grundsätzlich relevant\n",
      "True Anlotinib nicht explizit gesucht weil nicht im PICO Schema, grundsätzlich relevant\n",
      "True Erlotinib nicht explizit gesucht weil nicht im PICO Schema, grundsätzlich relevant\n",
      "True Grundsätzlich relevant\n",
      "True Grundsätzlich relevant\n",
      "True Grundsätzlich relevant\n"
     ]
    }
   ],
   "source": [
    "for _, p in df_manual[df_manual.pm_id.isin(df_r.pm_id)].sort_values('is_included').iterrows():\n",
    "    print(p.is_included, p['Ein- / Ausschlussgrund'])"
   ]
  },
  {
   "cell_type": "code",
   "execution_count": 320,
   "metadata": {
    "tags": []
   },
   "outputs": [
    {
     "name": "stdout",
     "output_type": "stream",
     "text": [
      "Evaluating screened document subset 'All'\n"
     ]
    },
    {
     "data": {
      "application/vnd.jupyter.widget-view+json": {
       "model_id": "5288a04519724fbdb484cb90e5b878b1",
       "version_major": 2,
       "version_minor": 0
      },
      "text/plain": [
       "Evaluating filter combinations:   0%|          | 0/7 [00:00<?, ?it/s]"
      ]
     },
     "metadata": {},
     "output_type": "display_data"
    },
    {
     "name": "stdout",
     "output_type": "stream",
     "text": [
      "Evaluating screened document subset 'Only RCTs'\n"
     ]
    },
    {
     "data": {
      "application/vnd.jupyter.widget-view+json": {
       "model_id": "ca9ab702bfc641f2940915c4fd9d368e",
       "version_major": 2,
       "version_minor": 0
      },
      "text/plain": [
       "Evaluating filter combinations:   0%|          | 0/7 [00:00<?, ?it/s]"
      ]
     },
     "metadata": {},
     "output_type": "display_data"
    },
    {
     "data": {
      "text/html": [
       "<style type=\"text/css\">\n",
       "#T_f4c35_row0_col1, #T_f4c35_row0_col3, #T_f4c35_row0_col5, #T_f4c35_row2_col2, #T_f4c35_row3_col2, #T_f4c35_row5_col0, #T_f4c35_row6_col4 {\n",
       "  font-weight: bold;\n",
       "}\n",
       "</style>\n",
       "<table id=\"T_f4c35\">\n",
       "  <thead>\n",
       "    <tr>\n",
       "      <th class=\"blank\" >&nbsp;</th>\n",
       "      <th class=\"blank\" >&nbsp;</th>\n",
       "      <th class=\"blank\" >&nbsp;</th>\n",
       "      <th class=\"blank\" >&nbsp;</th>\n",
       "      <th class=\"blank\" >&nbsp;</th>\n",
       "      <th class=\"blank level0\" >&nbsp;</th>\n",
       "      <th id=\"T_f4c35_level0_col0\" class=\"col_heading level0 col0\" >Prec.</th>\n",
       "      <th id=\"T_f4c35_level0_col1\" class=\"col_heading level0 col1\" >Rec.</th>\n",
       "      <th id=\"T_f4c35_level0_col2\" class=\"col_heading level0 col2\" >$F_1$</th>\n",
       "      <th id=\"T_f4c35_level0_col3\" class=\"col_heading level0 col3\" >TP</th>\n",
       "      <th id=\"T_f4c35_level0_col4\" class=\"col_heading level0 col4\" >FP</th>\n",
       "      <th id=\"T_f4c35_level0_col5\" class=\"col_heading level0 col5\" >FN</th>\n",
       "      <th id=\"T_f4c35_level0_col6\" class=\"col_heading level0 col6\" >TN</th>\n",
       "      <th id=\"T_f4c35_level0_col7\" class=\"col_heading level0 col7\" >?</th>\n",
       "      <th id=\"T_f4c35_level0_col8\" class=\"col_heading level0 col8\" >Retr.</th>\n",
       "      <th id=\"T_f4c35_level0_col9\" class=\"col_heading level0 col9\" >Scr.</th>\n",
       "      <th id=\"T_f4c35_level0_col10\" class=\"col_heading level0 col10\" >Rel.</th>\n",
       "    </tr>\n",
       "  </thead>\n",
       "  <tbody>\n",
       "    <tr>\n",
       "      <th id=\"T_f4c35_level0_row0\" class=\"row_heading level0 row0\" rowspan=\"7\">RCTs</th>\n",
       "      <th id=\"T_f4c35_level1_row0\" class=\"row_heading level1 row0\" ></th>\n",
       "      <th id=\"T_f4c35_level2_row0\" class=\"row_heading level2 row0\" ></th>\n",
       "      <th id=\"T_f4c35_level3_row0\" class=\"row_heading level3 row0\" ></th>\n",
       "      <th id=\"T_f4c35_level4_row0\" class=\"row_heading level4 row0\" ></th>\n",
       "      <th id=\"T_f4c35_level5_row0\" class=\"row_heading level5 row0\" ></th>\n",
       "      <td id=\"T_f4c35_row0_col0\" class=\"data row0 col0\" >0.175100</td>\n",
       "      <td id=\"T_f4c35_row0_col1\" class=\"data row0 col1\" >0.885700</td>\n",
       "      <td id=\"T_f4c35_row0_col2\" class=\"data row0 col2\" >0.292500</td>\n",
       "      <td id=\"T_f4c35_row0_col3\" class=\"data row0 col3\" >31</td>\n",
       "      <td id=\"T_f4c35_row0_col4\" class=\"data row0 col4\" >146</td>\n",
       "      <td id=\"T_f4c35_row0_col5\" class=\"data row0 col5\" >4</td>\n",
       "      <td id=\"T_f4c35_row0_col6\" class=\"data row0 col6\" >150</td>\n",
       "      <td id=\"T_f4c35_row0_col7\" class=\"data row0 col7\" >32</td>\n",
       "      <td id=\"T_f4c35_row0_col8\" class=\"data row0 col8\" >209</td>\n",
       "      <td id=\"T_f4c35_row0_col9\" class=\"data row0 col9\" >331</td>\n",
       "      <td id=\"T_f4c35_row0_col10\" class=\"data row0 col10\" >35</td>\n",
       "    </tr>\n",
       "    <tr>\n",
       "      <th id=\"T_f4c35_level1_row1\" class=\"row_heading level1 row1\" rowspan=\"6\">Phase >= 2</th>\n",
       "      <th id=\"T_f4c35_level2_row1\" class=\"row_heading level2 row1\" ></th>\n",
       "      <th id=\"T_f4c35_level3_row1\" class=\"row_heading level3 row1\" ></th>\n",
       "      <th id=\"T_f4c35_level4_row1\" class=\"row_heading level4 row1\" ></th>\n",
       "      <th id=\"T_f4c35_level5_row1\" class=\"row_heading level5 row1\" ></th>\n",
       "      <td id=\"T_f4c35_row1_col0\" class=\"data row1 col0\" >0.287200</td>\n",
       "      <td id=\"T_f4c35_row1_col1\" class=\"data row1 col1\" >0.771400</td>\n",
       "      <td id=\"T_f4c35_row1_col2\" class=\"data row1 col2\" >0.418600</td>\n",
       "      <td id=\"T_f4c35_row1_col3\" class=\"data row1 col3\" >27</td>\n",
       "      <td id=\"T_f4c35_row1_col4\" class=\"data row1 col4\" >67</td>\n",
       "      <td id=\"T_f4c35_row1_col5\" class=\"data row1 col5\" >8</td>\n",
       "      <td id=\"T_f4c35_row1_col6\" class=\"data row1 col6\" >229</td>\n",
       "      <td id=\"T_f4c35_row1_col7\" class=\"data row1 col7\" >0</td>\n",
       "      <td id=\"T_f4c35_row1_col8\" class=\"data row1 col8\" >94</td>\n",
       "      <td id=\"T_f4c35_row1_col9\" class=\"data row1 col9\" >331</td>\n",
       "      <td id=\"T_f4c35_row1_col10\" class=\"data row1 col10\" >35</td>\n",
       "    </tr>\n",
       "    <tr>\n",
       "      <th id=\"T_f4c35_level2_row2\" class=\"row_heading level2 row2\" rowspan=\"5\">Phase >= 3</th>\n",
       "      <th id=\"T_f4c35_level3_row2\" class=\"row_heading level3 row2\" ></th>\n",
       "      <th id=\"T_f4c35_level4_row2\" class=\"row_heading level4 row2\" ></th>\n",
       "      <th id=\"T_f4c35_level5_row2\" class=\"row_heading level5 row2\" ></th>\n",
       "      <td id=\"T_f4c35_row2_col0\" class=\"data row2 col0\" >0.363600</td>\n",
       "      <td id=\"T_f4c35_row2_col1\" class=\"data row2 col1\" >0.571400</td>\n",
       "      <td id=\"T_f4c35_row2_col2\" class=\"data row2 col2\" >0.444400</td>\n",
       "      <td id=\"T_f4c35_row2_col3\" class=\"data row2 col3\" >20</td>\n",
       "      <td id=\"T_f4c35_row2_col4\" class=\"data row2 col4\" >35</td>\n",
       "      <td id=\"T_f4c35_row2_col5\" class=\"data row2 col5\" >15</td>\n",
       "      <td id=\"T_f4c35_row2_col6\" class=\"data row2 col6\" >261</td>\n",
       "      <td id=\"T_f4c35_row2_col7\" class=\"data row2 col7\" >0</td>\n",
       "      <td id=\"T_f4c35_row2_col8\" class=\"data row2 col8\" >55</td>\n",
       "      <td id=\"T_f4c35_row2_col9\" class=\"data row2 col9\" >331</td>\n",
       "      <td id=\"T_f4c35_row2_col10\" class=\"data row2 col10\" >35</td>\n",
       "    </tr>\n",
       "    <tr>\n",
       "      <th id=\"T_f4c35_level3_row3\" class=\"row_heading level3 row3\" rowspan=\"4\">Exclude Children</th>\n",
       "      <th id=\"T_f4c35_level4_row3\" class=\"row_heading level4 row3\" ></th>\n",
       "      <th id=\"T_f4c35_level5_row3\" class=\"row_heading level5 row3\" ></th>\n",
       "      <td id=\"T_f4c35_row3_col0\" class=\"data row3 col0\" >0.363600</td>\n",
       "      <td id=\"T_f4c35_row3_col1\" class=\"data row3 col1\" >0.571400</td>\n",
       "      <td id=\"T_f4c35_row3_col2\" class=\"data row3 col2\" >0.444400</td>\n",
       "      <td id=\"T_f4c35_row3_col3\" class=\"data row3 col3\" >20</td>\n",
       "      <td id=\"T_f4c35_row3_col4\" class=\"data row3 col4\" >35</td>\n",
       "      <td id=\"T_f4c35_row3_col5\" class=\"data row3 col5\" >15</td>\n",
       "      <td id=\"T_f4c35_row3_col6\" class=\"data row3 col6\" >261</td>\n",
       "      <td id=\"T_f4c35_row3_col7\" class=\"data row3 col7\" >0</td>\n",
       "      <td id=\"T_f4c35_row3_col8\" class=\"data row3 col8\" >55</td>\n",
       "      <td id=\"T_f4c35_row3_col9\" class=\"data row3 col9\" >331</td>\n",
       "      <td id=\"T_f4c35_row3_col10\" class=\"data row3 col10\" >35</td>\n",
       "    </tr>\n",
       "    <tr>\n",
       "      <th id=\"T_f4c35_level4_row4\" class=\"row_heading level4 row4\" rowspan=\"3\">Significant</th>\n",
       "      <th id=\"T_f4c35_level5_row4\" class=\"row_heading level5 row4\" ></th>\n",
       "      <td id=\"T_f4c35_row4_col0\" class=\"data row4 col0\" >0.405400</td>\n",
       "      <td id=\"T_f4c35_row4_col1\" class=\"data row4 col1\" >0.428600</td>\n",
       "      <td id=\"T_f4c35_row4_col2\" class=\"data row4 col2\" >0.416700</td>\n",
       "      <td id=\"T_f4c35_row4_col3\" class=\"data row4 col3\" >15</td>\n",
       "      <td id=\"T_f4c35_row4_col4\" class=\"data row4 col4\" >22</td>\n",
       "      <td id=\"T_f4c35_row4_col5\" class=\"data row4 col5\" >20</td>\n",
       "      <td id=\"T_f4c35_row4_col6\" class=\"data row4 col6\" >274</td>\n",
       "      <td id=\"T_f4c35_row4_col7\" class=\"data row4 col7\" >0</td>\n",
       "      <td id=\"T_f4c35_row4_col8\" class=\"data row4 col8\" >37</td>\n",
       "      <td id=\"T_f4c35_row4_col9\" class=\"data row4 col9\" >331</td>\n",
       "      <td id=\"T_f4c35_row4_col10\" class=\"data row4 col10\" >35</td>\n",
       "    </tr>\n",
       "    <tr>\n",
       "      <th id=\"T_f4c35_level5_row5\" class=\"row_heading level5 row5\" >R</th>\n",
       "      <td id=\"T_f4c35_row5_col0\" class=\"data row5 col0\" >0.451600</td>\n",
       "      <td id=\"T_f4c35_row5_col1\" class=\"data row5 col1\" >0.400000</td>\n",
       "      <td id=\"T_f4c35_row5_col2\" class=\"data row5 col2\" >0.424200</td>\n",
       "      <td id=\"T_f4c35_row5_col3\" class=\"data row5 col3\" >14</td>\n",
       "      <td id=\"T_f4c35_row5_col4\" class=\"data row5 col4\" >17</td>\n",
       "      <td id=\"T_f4c35_row5_col5\" class=\"data row5 col5\" >21</td>\n",
       "      <td id=\"T_f4c35_row5_col6\" class=\"data row5 col6\" >279</td>\n",
       "      <td id=\"T_f4c35_row5_col7\" class=\"data row5 col7\" >0</td>\n",
       "      <td id=\"T_f4c35_row5_col8\" class=\"data row5 col8\" >31</td>\n",
       "      <td id=\"T_f4c35_row5_col9\" class=\"data row5 col9\" >331</td>\n",
       "      <td id=\"T_f4c35_row5_col10\" class=\"data row5 col10\" >35</td>\n",
       "    </tr>\n",
       "    <tr>\n",
       "      <th id=\"T_f4c35_level5_row6\" class=\"row_heading level5 row6\" >NR</th>\n",
       "      <td id=\"T_f4c35_row6_col0\" class=\"data row6 col0\" >0.428600</td>\n",
       "      <td id=\"T_f4c35_row6_col1\" class=\"data row6 col1\" >0.342900</td>\n",
       "      <td id=\"T_f4c35_row6_col2\" class=\"data row6 col2\" >0.381000</td>\n",
       "      <td id=\"T_f4c35_row6_col3\" class=\"data row6 col3\" >12</td>\n",
       "      <td id=\"T_f4c35_row6_col4\" class=\"data row6 col4\" >16</td>\n",
       "      <td id=\"T_f4c35_row6_col5\" class=\"data row6 col5\" >23</td>\n",
       "      <td id=\"T_f4c35_row6_col6\" class=\"data row6 col6\" >280</td>\n",
       "      <td id=\"T_f4c35_row6_col7\" class=\"data row6 col7\" >0</td>\n",
       "      <td id=\"T_f4c35_row6_col8\" class=\"data row6 col8\" >28</td>\n",
       "      <td id=\"T_f4c35_row6_col9\" class=\"data row6 col9\" >331</td>\n",
       "      <td id=\"T_f4c35_row6_col10\" class=\"data row6 col10\" >35</td>\n",
       "    </tr>\n",
       "  </tbody>\n",
       "</table>\n"
      ],
      "text/plain": [
       "<pandas.io.formats.style.Styler at 0x7eff3e2cacb0>"
      ]
     },
     "execution_count": 320,
     "metadata": {},
     "output_type": "execute_result"
    }
   ],
   "source": [
    "combinations_table, metrics_combinations_final = build_filter_combinations_table(\n",
    "    df_retrieved=df_r,\n",
    "    df_screened=df_s_with_ggponc,\n",
    "    latex_output_path=None,#PATH_LATEX_TABLE_OUTPUT / \"final_metrics.tex\",\n",
    "    overwrite_latex_output=False,\n",
    "    use_abbreviations=True,\n",
    "    column_format=\"llllllS[table-format=1.2]S[table-format=1.2]S[table-format=1.2]S[table-format=2]S[table-format=3]S[table-format=2]S[table-format=3]S[table-format=3]S[table-format=3]\",\n",
    "    filters_retrieved = FILTERS_COMBINATIONS,\n",
    "    filters_retrieved_hierarchy = FILTERS_HIERARCHY,\n",
    ")\n",
    "\n",
    "highlight_metrics(combinations_table)"
   ]
  },
  {
   "cell_type": "code",
   "execution_count": 321,
   "metadata": {
    "tags": []
   },
   "outputs": [
    {
     "name": "stdout",
     "output_type": "stream",
     "text": [
      "\\begin{tabular}{lrrrrrrrrr}\n",
      "\\toprule\n",
      "{} &  Retr. &  TP &   ? &   FP &   TN &  FN &  Prec. &  Rec. &  \\$F\\_1\\$ \\\\\n",
      "\\midrule\n",
      "0 &    209 &  31 &  32 &  146 &  150 &   4 &   0.18 &  0.89 &   0.29 \\\\\n",
      "1 &     94 &  27 &   0 &   67 &  229 &   8 &   0.29 &  0.77 &   0.42 \\\\\n",
      "2 &     55 &  20 &   0 &   35 &  261 &  15 &   0.36 &  0.57 &   0.44 \\\\\n",
      "3 &     55 &  20 &   0 &   35 &  261 &  15 &   0.36 &  0.57 &   0.44 \\\\\n",
      "4 &     37 &  15 &   0 &   22 &  274 &  20 &   0.41 &  0.43 &   0.42 \\\\\n",
      "5 &     31 &  14 &   0 &   17 &  279 &  21 &   0.45 &  0.40 &   0.42 \\\\\n",
      "6 &     28 &  12 &   0 &   16 &  280 &  23 &   0.43 &  0.34 &   0.38 \\\\\n",
      "\\bottomrule\n",
      "\\end{tabular}\n",
      "\n"
     ]
    },
    {
     "name": "stderr",
     "output_type": "stream",
     "text": [
      "/tmp/ipykernel_1434316/1384292062.py:1: FutureWarning: In future versions `DataFrame.to_latex` is expected to utilise the base implementation of `Styler.to_latex` for formatting and rendering. The arguments signature may therefore change. It is recommended instead to use `DataFrame.style.to_latex` which also contains additional functionality.\n",
      "  print(combinations_table.reset_index()[['Retr.', 'TP', '?', 'FP', 'TN', 'FN', 'Prec.', 'Rec.', '$F_1$']].round(2).to_latex())\n"
     ]
    }
   ],
   "source": [
    "print(combinations_table.reset_index()[['Retr.', 'TP', '?', 'FP', 'TN', 'FN', 'Prec.', 'Rec.', '$F_1$']].round(2).to_latex())"
   ]
  },
  {
   "cell_type": "markdown",
   "metadata": {},
   "source": [
    "#### Remaining False Positives"
   ]
  },
  {
   "cell_type": "code",
   "execution_count": 314,
   "metadata": {
    "tags": []
   },
   "outputs": [
    {
     "data": {
      "text/plain": [
       "dict_keys(['RCTs', 'Phase >= 2', 'Phase >= 3', 'Exclude Children', 'Significant', 'R', 'NR'])"
      ]
     },
     "execution_count": 314,
     "metadata": {},
     "output_type": "execute_result"
    }
   ],
   "source": [
    "metrics_combinations_final['Only RCTs'].keys()"
   ]
  },
  {
   "cell_type": "code",
   "execution_count": 214,
   "metadata": {
    "tags": []
   },
   "outputs": [
    {
     "data": {
      "text/plain": [
       "{31863227,\n",
       " 32011825,\n",
       " 32111181,\n",
       " 32877795,\n",
       " 32933498,\n",
       " 33026938,\n",
       " 33170461,\n",
       " 33983395,\n",
       " 34133211,\n",
       " 34252374,\n",
       " 34269067,\n",
       " 34351356,\n",
       " 34480657,\n",
       " 34591237,\n",
       " 34626550,\n",
       " 34912120,\n",
       " 35245446}"
      ]
     },
     "execution_count": 214,
     "metadata": {},
     "output_type": "execute_result"
    }
   ],
   "source": [
    "ids_false_positives = (\n",
    "    metrics_to_df(metrics_combinations_final[\"Only RCTs\"], drop_columns=[])\n",
    "    .sort_values([\"Recall\", \"Precision\", \"Retrieved\"], ascending=[False, False, True])\n",
    " .loc[\"K+Significant\"][\"Ids_fp\"]\n",
    ")\n",
    "ids_false_positives"
   ]
  },
  {
   "cell_type": "code",
   "execution_count": 215,
   "metadata": {
    "tags": []
   },
   "outputs": [],
   "source": [
    "false_positives = df_s_with_ggponc[\n",
    "    df_s_with_ggponc[\"pm_id\"].apply(lambda pm_id: pm_id in ids_false_positives)\n",
    "]"
   ]
  },
  {
   "cell_type": "code",
   "execution_count": 216,
   "metadata": {
    "tags": []
   },
   "outputs": [
    {
     "data": {
      "text/html": [
       "<div>\n",
       "<style scoped>\n",
       "    .dataframe tbody tr th:only-of-type {\n",
       "        vertical-align: middle;\n",
       "    }\n",
       "\n",
       "    .dataframe tbody tr th {\n",
       "        vertical-align: top;\n",
       "    }\n",
       "\n",
       "    .dataframe thead th {\n",
       "        text-align: right;\n",
       "    }\n",
       "</style>\n",
       "<table border=\"1\" class=\"dataframe\">\n",
       "  <thead>\n",
       "    <tr style=\"text-align: right;\">\n",
       "      <th></th>\n",
       "      <th>Count</th>\n",
       "    </tr>\n",
       "    <tr>\n",
       "      <th>exclusion_reason</th>\n",
       "      <th></th>\n",
       "    </tr>\n",
       "  </thead>\n",
       "  <tbody>\n",
       "    <tr>\n",
       "      <th>TIAB2_exclude</th>\n",
       "      <td>10</td>\n",
       "    </tr>\n",
       "    <tr>\n",
       "      <th>TIAB1_exclude</th>\n",
       "      <td>3</td>\n",
       "    </tr>\n",
       "    <tr>\n",
       "      <th>FULLTEXT_exclude_Abstract oder Protokoll</th>\n",
       "      <td>1</td>\n",
       "    </tr>\n",
       "    <tr>\n",
       "      <th>FULLTEXT_exclude_Falsche Intervention_Comparison</th>\n",
       "      <td>1</td>\n",
       "    </tr>\n",
       "    <tr>\n",
       "      <th>Nicht Teil der PICO Fragen - Immuntherapie + Chemo, Toripalimab nicht explizit gesucht</th>\n",
       "      <td>1</td>\n",
       "    </tr>\n",
       "    <tr>\n",
       "      <th>Nicht Teil der PICO Fragen - keine Dosisvergleiche gesucht</th>\n",
       "      <td>1</td>\n",
       "    </tr>\n",
       "  </tbody>\n",
       "</table>\n",
       "</div>"
      ],
      "text/plain": [
       "                                                    Count\n",
       "exclusion_reason                                         \n",
       "TIAB2_exclude                                          10\n",
       "TIAB1_exclude                                           3\n",
       "FULLTEXT_exclude_Abstract oder Protokoll                1\n",
       "FULLTEXT_exclude_Falsche Intervention_Comparison        1\n",
       "Nicht Teil der PICO Fragen - Immuntherapie + Ch...      1\n",
       "Nicht Teil der PICO Fragen - keine Dosisverglei...      1"
      ]
     },
     "execution_count": 216,
     "metadata": {},
     "output_type": "execute_result"
    }
   ],
   "source": [
    "false_positives.value_counts(\"exclusion_reason\").to_frame(name=\"Count\")"
   ]
  },
  {
   "cell_type": "code",
   "execution_count": 217,
   "metadata": {
    "tags": []
   },
   "outputs": [
    {
     "data": {
      "text/html": [
       "<div>\n",
       "<style scoped>\n",
       "    .dataframe tbody tr th:only-of-type {\n",
       "        vertical-align: middle;\n",
       "    }\n",
       "\n",
       "    .dataframe tbody tr th {\n",
       "        vertical-align: top;\n",
       "    }\n",
       "\n",
       "    .dataframe thead th {\n",
       "        text-align: right;\n",
       "    }\n",
       "</style>\n",
       "<table border=\"1\" class=\"dataframe\">\n",
       "  <thead>\n",
       "    <tr style=\"text-align: right;\">\n",
       "      <th></th>\n",
       "      <th>title</th>\n",
       "      <th>abstract</th>\n",
       "      <th>pm_id</th>\n",
       "      <th>nct_id</th>\n",
       "      <th>cn_id</th>\n",
       "      <th>doi</th>\n",
       "      <th>ris_id</th>\n",
       "      <th>publication_date</th>\n",
       "      <th>article_date_api</th>\n",
       "      <th>guideline_id</th>\n",
       "      <th>...</th>\n",
       "      <th>is_relevant</th>\n",
       "      <th>is_not_relevant</th>\n",
       "      <th>is_in_db</th>\n",
       "      <th>is_in_ggponc</th>\n",
       "      <th>screening_origin</th>\n",
       "      <th>rq</th>\n",
       "      <th>rqs_and_reasons</th>\n",
       "      <th>source</th>\n",
       "      <th>publication_date_combined</th>\n",
       "      <th>is_screened</th>\n",
       "    </tr>\n",
       "  </thead>\n",
       "  <tbody>\n",
       "    <tr>\n",
       "      <th>502</th>\n",
       "      <td>High thromboembolic event rate in patients wit...</td>\n",
       "      <td>BACKGROUND: High rates of venous thromboemboli...</td>\n",
       "      <td>32111181</td>\n",
       "      <td>NaN</td>\n",
       "      <td>NaN</td>\n",
       "      <td>NaN</td>\n",
       "      <td>32111181</td>\n",
       "      <td>2020-02-28</td>\n",
       "      <td>2020-02-28</td>\n",
       "      <td>oesophaguskarzinom</td>\n",
       "      <td>...</td>\n",
       "      <td>False</td>\n",
       "      <td>True</td>\n",
       "      <td>True</td>\n",
       "      <td>False</td>\n",
       "      <td>original</td>\n",
       "      <td>AG9 Multimodale Therapie - Stellenwert der Ope...</td>\n",
       "      <td>[{'rq': 'AG10 Multimodale Therapie - Stellenwe...</td>\n",
       "      <td>NaN</td>\n",
       "      <td>NaT</td>\n",
       "      <td>True</td>\n",
       "    </tr>\n",
       "    <tr>\n",
       "      <th>868</th>\n",
       "      <td>Recurrence patterns after neoadjuvant chemorad...</td>\n",
       "      <td>BACKGROUND: The aim of this study was to compa...</td>\n",
       "      <td>32877795</td>\n",
       "      <td>NaN</td>\n",
       "      <td>NaN</td>\n",
       "      <td>NaN</td>\n",
       "      <td>32877795</td>\n",
       "      <td>2020-10-01</td>\n",
       "      <td>2020-08-30</td>\n",
       "      <td>oesophaguskarzinom</td>\n",
       "      <td>...</td>\n",
       "      <td>False</td>\n",
       "      <td>True</td>\n",
       "      <td>True</td>\n",
       "      <td>False</td>\n",
       "      <td>original</td>\n",
       "      <td>AG10 Multimodale Therapie - Stellenwert der Ko...</td>\n",
       "      <td>[{'rq': 'AG2 Endoskopische Therapie - Vorgehen...</td>\n",
       "      <td>NaN</td>\n",
       "      <td>NaT</td>\n",
       "      <td>True</td>\n",
       "    </tr>\n",
       "    <tr>\n",
       "      <th>898</th>\n",
       "      <td>RACE-trial: neoadjuvant radiochemotherapy vers...</td>\n",
       "      <td>BACKGROUND: Despite obvious advances over the ...</td>\n",
       "      <td>32933498</td>\n",
       "      <td>NaN</td>\n",
       "      <td>NaN</td>\n",
       "      <td>NaN</td>\n",
       "      <td>32933498</td>\n",
       "      <td>2020-09-15</td>\n",
       "      <td>2020-09-15</td>\n",
       "      <td>oesophaguskarzinom</td>\n",
       "      <td>...</td>\n",
       "      <td>False</td>\n",
       "      <td>True</td>\n",
       "      <td>True</td>\n",
       "      <td>False</td>\n",
       "      <td>original</td>\n",
       "      <td>AG9 Multimodale Therapie - Stellenwert der Ope...</td>\n",
       "      <td>[{'rq': 'AG10 Multimodale Therapie - Stellenwe...</td>\n",
       "      <td>NaN</td>\n",
       "      <td>NaT</td>\n",
       "      <td>True</td>\n",
       "    </tr>\n",
       "    <tr>\n",
       "      <th>1537</th>\n",
       "      <td>Perioperative or postoperative adjuvant oxalip...</td>\n",
       "      <td>BACKGROUND: The optimal perioperative chemothe...</td>\n",
       "      <td>34252374</td>\n",
       "      <td>NaN</td>\n",
       "      <td>NaN</td>\n",
       "      <td>NaN</td>\n",
       "      <td>34252374</td>\n",
       "      <td>2021-08-01</td>\n",
       "      <td>2021-07-09</td>\n",
       "      <td>oesophaguskarzinom</td>\n",
       "      <td>...</td>\n",
       "      <td>False</td>\n",
       "      <td>True</td>\n",
       "      <td>True</td>\n",
       "      <td>False</td>\n",
       "      <td>original</td>\n",
       "      <td>AG11 Palliative Therapie - Stellenwert der pal...</td>\n",
       "      <td>[{'rq': 'AG6 Multimodale Therapie - Verbessert...</td>\n",
       "      <td>NaN</td>\n",
       "      <td>NaT</td>\n",
       "      <td>True</td>\n",
       "    </tr>\n",
       "    <tr>\n",
       "      <th>1540</th>\n",
       "      <td>RATIONALE 311: tislelizumab plus concurrent ch...</td>\n",
       "      <td>Definitive chemoradiotherapy is the standard o...</td>\n",
       "      <td>34269067</td>\n",
       "      <td>NaN</td>\n",
       "      <td>NaN</td>\n",
       "      <td>NaN</td>\n",
       "      <td>34269067</td>\n",
       "      <td>2021-11-01</td>\n",
       "      <td>2021-07-16</td>\n",
       "      <td>oesophaguskarzinom</td>\n",
       "      <td>...</td>\n",
       "      <td>False</td>\n",
       "      <td>True</td>\n",
       "      <td>True</td>\n",
       "      <td>False</td>\n",
       "      <td>original</td>\n",
       "      <td>AG7 Multimodale Therapie - Stellenwert und Ind...</td>\n",
       "      <td>[{'rq': 'AG5 Chirurgische Therapie - Stellenwe...</td>\n",
       "      <td>NaN</td>\n",
       "      <td>NaT</td>\n",
       "      <td>True</td>\n",
       "    </tr>\n",
       "    <tr>\n",
       "      <th>1641</th>\n",
       "      <td>Exploration of predictors of benefit from nivo...</td>\n",
       "      <td>BACKGROUND: The phase 3 ATTRACTION-2 study dem...</td>\n",
       "      <td>34480657</td>\n",
       "      <td>NaN</td>\n",
       "      <td>NaN</td>\n",
       "      <td>NaN</td>\n",
       "      <td>34480657</td>\n",
       "      <td>2022-01-01</td>\n",
       "      <td>2021-09-04</td>\n",
       "      <td>oesophaguskarzinom</td>\n",
       "      <td>...</td>\n",
       "      <td>False</td>\n",
       "      <td>True</td>\n",
       "      <td>True</td>\n",
       "      <td>False</td>\n",
       "      <td>original</td>\n",
       "      <td>AG9 Multimodale Therapie - Stellenwert der Ope...</td>\n",
       "      <td>[{'rq': 'AG9 Multimodale Therapie - Stellenwer...</td>\n",
       "      <td>NaN</td>\n",
       "      <td>NaT</td>\n",
       "      <td>True</td>\n",
       "    </tr>\n",
       "    <tr>\n",
       "      <th>2635</th>\n",
       "      <td>Nivolumab versus chemotherapy in Japanese pati...</td>\n",
       "      <td>Background: The efficacy and safety of nivolum...</td>\n",
       "      <td>33170461</td>\n",
       "      <td>NaN</td>\n",
       "      <td>CN-02204806</td>\n",
       "      <td>NaN</td>\n",
       "      <td>CN-02204806</td>\n",
       "      <td>2020-01-01</td>\n",
       "      <td>2020-11-10</td>\n",
       "      <td>oesophaguskarzinom</td>\n",
       "      <td>...</td>\n",
       "      <td>False</td>\n",
       "      <td>True</td>\n",
       "      <td>True</td>\n",
       "      <td>False</td>\n",
       "      <td>original</td>\n",
       "      <td>AG12 Palliative Therapie - Stellenwert der Zwe...</td>\n",
       "      <td>[{'rq': 'AG12 Palliative Therapie - Stellenwer...</td>\n",
       "      <td>NaN</td>\n",
       "      <td>NaT</td>\n",
       "      <td>True</td>\n",
       "    </tr>\n",
       "    <tr>\n",
       "      <th>2663</th>\n",
       "      <td>Adjuvant statin therapy for oesophageal adenoc...</td>\n",
       "      <td>BACKGROUND: Statins inhibit proliferative sign...</td>\n",
       "      <td>32011825</td>\n",
       "      <td>NaN</td>\n",
       "      <td>CN-02233339</td>\n",
       "      <td>NaN</td>\n",
       "      <td>CN-02233339</td>\n",
       "      <td>2020-01-01</td>\n",
       "      <td>2019-12-14</td>\n",
       "      <td>oesophaguskarzinom</td>\n",
       "      <td>...</td>\n",
       "      <td>False</td>\n",
       "      <td>True</td>\n",
       "      <td>True</td>\n",
       "      <td>False</td>\n",
       "      <td>original</td>\n",
       "      <td>AG6 Multimodale Therapie - Verbessert eine adj...</td>\n",
       "      <td>[{'rq': 'AG6 Multimodale Therapie - Verbessert...</td>\n",
       "      <td>NaN</td>\n",
       "      <td>NaT</td>\n",
       "      <td>True</td>\n",
       "    </tr>\n",
       "    <tr>\n",
       "      <th>2941</th>\n",
       "      <td>Second-line pembrolizumab versus chemotherapy ...</td>\n",
       "      <td>Background: Safe and effective treatments for ...</td>\n",
       "      <td>34591237</td>\n",
       "      <td>NaN</td>\n",
       "      <td>CN-02338198</td>\n",
       "      <td>NaN</td>\n",
       "      <td>CN-02338198</td>\n",
       "      <td>2021-01-01</td>\n",
       "      <td>2021-09-30</td>\n",
       "      <td>oesophaguskarzinom</td>\n",
       "      <td>...</td>\n",
       "      <td>False</td>\n",
       "      <td>True</td>\n",
       "      <td>True</td>\n",
       "      <td>False</td>\n",
       "      <td>original</td>\n",
       "      <td>AG12 Palliative Therapie - Stellenwert der Zwe...</td>\n",
       "      <td>[{'rq': 'AG11 Palliative Therapie - Stellenwer...</td>\n",
       "      <td>NaN</td>\n",
       "      <td>NaT</td>\n",
       "      <td>True</td>\n",
       "    </tr>\n",
       "    <tr>\n",
       "      <th>2949</th>\n",
       "      <td>Efficacy and safety of weekly paclitaxel with ...</td>\n",
       "      <td>Background: In the global phase 3 RAINBOW stud...</td>\n",
       "      <td>34626550</td>\n",
       "      <td>NCT02898077</td>\n",
       "      <td>CN-02342195</td>\n",
       "      <td>NaN</td>\n",
       "      <td>CN-02342195</td>\n",
       "      <td>2021-01-01</td>\n",
       "      <td>2021-10-07</td>\n",
       "      <td>oesophaguskarzinom</td>\n",
       "      <td>...</td>\n",
       "      <td>False</td>\n",
       "      <td>True</td>\n",
       "      <td>True</td>\n",
       "      <td>False</td>\n",
       "      <td>original</td>\n",
       "      <td>AG12 Palliative Therapie - Stellenwert der Zwe...</td>\n",
       "      <td>[{'rq': 'AG12 Palliative Therapie - Stellenwer...</td>\n",
       "      <td>NaN</td>\n",
       "      <td>NaT</td>\n",
       "      <td>True</td>\n",
       "    </tr>\n",
       "  </tbody>\n",
       "</table>\n",
       "<p>10 rows × 26 columns</p>\n",
       "</div>"
      ],
      "text/plain": [
       "                                                  title  \\\n",
       "502   High thromboembolic event rate in patients wit...   \n",
       "868   Recurrence patterns after neoadjuvant chemorad...   \n",
       "898   RACE-trial: neoadjuvant radiochemotherapy vers...   \n",
       "1537  Perioperative or postoperative adjuvant oxalip...   \n",
       "1540  RATIONALE 311: tislelizumab plus concurrent ch...   \n",
       "1641  Exploration of predictors of benefit from nivo...   \n",
       "2635  Nivolumab versus chemotherapy in Japanese pati...   \n",
       "2663  Adjuvant statin therapy for oesophageal adenoc...   \n",
       "2941  Second-line pembrolizumab versus chemotherapy ...   \n",
       "2949  Efficacy and safety of weekly paclitaxel with ...   \n",
       "\n",
       "                                               abstract     pm_id  \\\n",
       "502   BACKGROUND: High rates of venous thromboemboli...  32111181   \n",
       "868   BACKGROUND: The aim of this study was to compa...  32877795   \n",
       "898   BACKGROUND: Despite obvious advances over the ...  32933498   \n",
       "1537  BACKGROUND: The optimal perioperative chemothe...  34252374   \n",
       "1540  Definitive chemoradiotherapy is the standard o...  34269067   \n",
       "1641  BACKGROUND: The phase 3 ATTRACTION-2 study dem...  34480657   \n",
       "2635  Background: The efficacy and safety of nivolum...  33170461   \n",
       "2663  BACKGROUND: Statins inhibit proliferative sign...  32011825   \n",
       "2941  Background: Safe and effective treatments for ...  34591237   \n",
       "2949  Background: In the global phase 3 RAINBOW stud...  34626550   \n",
       "\n",
       "           nct_id        cn_id  doi       ris_id publication_date  \\\n",
       "502           NaN          NaN  NaN     32111181       2020-02-28   \n",
       "868           NaN          NaN  NaN     32877795       2020-10-01   \n",
       "898           NaN          NaN  NaN     32933498       2020-09-15   \n",
       "1537          NaN          NaN  NaN     34252374       2021-08-01   \n",
       "1540          NaN          NaN  NaN     34269067       2021-11-01   \n",
       "1641          NaN          NaN  NaN     34480657       2022-01-01   \n",
       "2635          NaN  CN-02204806  NaN  CN-02204806       2020-01-01   \n",
       "2663          NaN  CN-02233339  NaN  CN-02233339       2020-01-01   \n",
       "2941          NaN  CN-02338198  NaN  CN-02338198       2021-01-01   \n",
       "2949  NCT02898077  CN-02342195  NaN  CN-02342195       2021-01-01   \n",
       "\n",
       "     article_date_api        guideline_id  ... is_relevant is_not_relevant  \\\n",
       "502        2020-02-28  oesophaguskarzinom  ...       False            True   \n",
       "868        2020-08-30  oesophaguskarzinom  ...       False            True   \n",
       "898        2020-09-15  oesophaguskarzinom  ...       False            True   \n",
       "1537       2021-07-09  oesophaguskarzinom  ...       False            True   \n",
       "1540       2021-07-16  oesophaguskarzinom  ...       False            True   \n",
       "1641       2021-09-04  oesophaguskarzinom  ...       False            True   \n",
       "2635       2020-11-10  oesophaguskarzinom  ...       False            True   \n",
       "2663       2019-12-14  oesophaguskarzinom  ...       False            True   \n",
       "2941       2021-09-30  oesophaguskarzinom  ...       False            True   \n",
       "2949       2021-10-07  oesophaguskarzinom  ...       False            True   \n",
       "\n",
       "     is_in_db  is_in_ggponc screening_origin  \\\n",
       "502      True         False         original   \n",
       "868      True         False         original   \n",
       "898      True         False         original   \n",
       "1537     True         False         original   \n",
       "1540     True         False         original   \n",
       "1641     True         False         original   \n",
       "2635     True         False         original   \n",
       "2663     True         False         original   \n",
       "2941     True         False         original   \n",
       "2949     True         False         original   \n",
       "\n",
       "                                                     rq  \\\n",
       "502   AG9 Multimodale Therapie - Stellenwert der Ope...   \n",
       "868   AG10 Multimodale Therapie - Stellenwert der Ko...   \n",
       "898   AG9 Multimodale Therapie - Stellenwert der Ope...   \n",
       "1537  AG11 Palliative Therapie - Stellenwert der pal...   \n",
       "1540  AG7 Multimodale Therapie - Stellenwert und Ind...   \n",
       "1641  AG9 Multimodale Therapie - Stellenwert der Ope...   \n",
       "2635  AG12 Palliative Therapie - Stellenwert der Zwe...   \n",
       "2663  AG6 Multimodale Therapie - Verbessert eine adj...   \n",
       "2941  AG12 Palliative Therapie - Stellenwert der Zwe...   \n",
       "2949  AG12 Palliative Therapie - Stellenwert der Zwe...   \n",
       "\n",
       "                                        rqs_and_reasons  source  \\\n",
       "502   [{'rq': 'AG10 Multimodale Therapie - Stellenwe...     NaN   \n",
       "868   [{'rq': 'AG2 Endoskopische Therapie - Vorgehen...     NaN   \n",
       "898   [{'rq': 'AG10 Multimodale Therapie - Stellenwe...     NaN   \n",
       "1537  [{'rq': 'AG6 Multimodale Therapie - Verbessert...     NaN   \n",
       "1540  [{'rq': 'AG5 Chirurgische Therapie - Stellenwe...     NaN   \n",
       "1641  [{'rq': 'AG9 Multimodale Therapie - Stellenwer...     NaN   \n",
       "2635  [{'rq': 'AG12 Palliative Therapie - Stellenwer...     NaN   \n",
       "2663  [{'rq': 'AG6 Multimodale Therapie - Verbessert...     NaN   \n",
       "2941  [{'rq': 'AG11 Palliative Therapie - Stellenwer...     NaN   \n",
       "2949  [{'rq': 'AG12 Palliative Therapie - Stellenwer...     NaN   \n",
       "\n",
       "      publication_date_combined  is_screened  \n",
       "502                         NaT         True  \n",
       "868                         NaT         True  \n",
       "898                         NaT         True  \n",
       "1537                        NaT         True  \n",
       "1540                        NaT         True  \n",
       "1641                        NaT         True  \n",
       "2635                        NaT         True  \n",
       "2663                        NaT         True  \n",
       "2941                        NaT         True  \n",
       "2949                        NaT         True  \n",
       "\n",
       "[10 rows x 26 columns]"
      ]
     },
     "execution_count": 217,
     "metadata": {},
     "output_type": "execute_result"
    }
   ],
   "source": [
    "false_positives[false_positives.exclusion_reason == 'TIAB2_exclude']"
   ]
  },
  {
   "cell_type": "markdown",
   "metadata": {},
   "source": [
    "## Missing RCTs"
   ]
  },
  {
   "cell_type": "markdown",
   "metadata": {},
   "source": [
    "We should be able to find all included RCTs. If not, we need to find out why we did not retrieve them:"
   ]
  },
  {
   "cell_type": "code",
   "execution_count": 218,
   "metadata": {
    "tags": []
   },
   "outputs": [
    {
     "data": {
      "text/plain": [
       "{30982686, 31595970, 32421440, 32880601}"
      ]
     },
     "execution_count": 218,
     "metadata": {},
     "output_type": "execute_result"
    }
   ],
   "source": [
    "metrics_w_manual[\"Only RCTs\"][\"All\"][\"ids_fn\"]"
   ]
  },
  {
   "cell_type": "code",
   "execution_count": 220,
   "metadata": {
    "tags": []
   },
   "outputs": [],
   "source": [
    "from api.utils import query_api_for_concepts, concepts_to_df\n",
    "from api.models import ConceptsQuery\n",
    "\n",
    "missing_rcts_df = concepts_to_df(\n",
    "    query_api_for_concepts(\n",
    "        ConceptsQuery(\n",
    "            source=\"pubmed\",\n",
    "            ids=[\n",
    "                int(pm_id) for pm_id in metrics_w_manual[\"Only RCTs\"][\"All\"][\"ids_fn\"]\n",
    "            ],\n",
    "            kind=\"population\",\n",
    "        )\n",
    "    )\n",
    ")"
   ]
  },
  {
   "cell_type": "markdown",
   "metadata": {},
   "source": [
    "Looks like it is due to vague population concepts:"
   ]
  },
  {
   "cell_type": "code",
   "execution_count": 221,
   "metadata": {
    "tags": []
   },
   "outputs": [
    {
     "data": {
      "text/html": [
       "<div>\n",
       "<style scoped>\n",
       "    .dataframe tbody tr th:only-of-type {\n",
       "        vertical-align: middle;\n",
       "    }\n",
       "\n",
       "    .dataframe tbody tr th {\n",
       "        vertical-align: top;\n",
       "    }\n",
       "\n",
       "    .dataframe thead th {\n",
       "        text-align: right;\n",
       "    }\n",
       "</style>\n",
       "<table border=\"1\" class=\"dataframe\">\n",
       "  <thead>\n",
       "    <tr style=\"text-align: right;\">\n",
       "      <th></th>\n",
       "      <th>cui</th>\n",
       "      <th>term</th>\n",
       "      <th>text_umls</th>\n",
       "      <th>semantic_types</th>\n",
       "    </tr>\n",
       "    <tr>\n",
       "      <th>id</th>\n",
       "      <th></th>\n",
       "      <th></th>\n",
       "      <th></th>\n",
       "      <th></th>\n",
       "    </tr>\n",
       "  </thead>\n",
       "  <tbody>\n",
       "    <tr>\n",
       "      <th>30982686</th>\n",
       "      <td>C0001418</td>\n",
       "      <td>Adenocarcinoma</td>\n",
       "      <td>Adenocarcinoma</td>\n",
       "      <td>[{'tui': 'T191', 'tree_number': 'B2.2.1.2.1.2'...</td>\n",
       "    </tr>\n",
       "    <tr>\n",
       "      <th>30982686</th>\n",
       "      <td>C0001563</td>\n",
       "      <td>Administration, Oral</td>\n",
       "      <td>Administration of drug or medicament via oral ...</td>\n",
       "      <td>[{'tui': 'T061', 'tree_number': 'B1.3.1.3', 'n...</td>\n",
       "    </tr>\n",
       "    <tr>\n",
       "      <th>30982686</th>\n",
       "      <td>C0001675</td>\n",
       "      <td>Adult</td>\n",
       "      <td>Adult</td>\n",
       "      <td>[{'tui': 'T100', 'tree_number': 'A2.9.4', 'nam...</td>\n",
       "    </tr>\n",
       "    <tr>\n",
       "      <th>30982686</th>\n",
       "      <td>C0001792</td>\n",
       "      <td>Aged</td>\n",
       "      <td>Elderly</td>\n",
       "      <td>[{'tui': 'T098', 'tree_number': 'A2.9.2', 'nam...</td>\n",
       "    </tr>\n",
       "    <tr>\n",
       "      <th>30982686</th>\n",
       "      <td>C0001795</td>\n",
       "      <td>Aged, 80 and over</td>\n",
       "      <td>Aged, 80 and over</td>\n",
       "      <td>[{'tui': 'T100', 'tree_number': 'A2.9.4', 'nam...</td>\n",
       "    </tr>\n",
       "    <tr>\n",
       "      <th>...</th>\n",
       "      <td>...</td>\n",
       "      <td>...</td>\n",
       "      <td>...</td>\n",
       "      <td>...</td>\n",
       "    </tr>\n",
       "    <tr>\n",
       "      <th>32880601</th>\n",
       "      <td>C2603343</td>\n",
       "      <td>Study</td>\n",
       "      <td>Study</td>\n",
       "      <td>[{'tui': 'T062', 'tree_number': 'B1.3.2', 'nam...</td>\n",
       "    </tr>\n",
       "    <tr>\n",
       "      <th>32880601</th>\n",
       "      <td>C0599755</td>\n",
       "      <td>Cohort</td>\n",
       "      <td>Cohort</td>\n",
       "      <td>[{'tui': 'T098', 'tree_number': 'A2.9.2', 'nam...</td>\n",
       "    </tr>\n",
       "    <tr>\n",
       "      <th>32880601</th>\n",
       "      <td>C0439234</td>\n",
       "      <td>year (qualifier value)</td>\n",
       "      <td>Year</td>\n",
       "      <td>[{'tui': 'T079', 'tree_number': 'A2.1.1', 'nam...</td>\n",
       "    </tr>\n",
       "    <tr>\n",
       "      <th>32880601</th>\n",
       "      <td>C0025266</td>\n",
       "      <td>Man</td>\n",
       "      <td>Man</td>\n",
       "      <td>[{'tui': 'T098', 'tree_number': 'A2.9.2', 'nam...</td>\n",
       "    </tr>\n",
       "    <tr>\n",
       "      <th>32880601</th>\n",
       "      <td>C0574516</td>\n",
       "      <td>Mende</td>\n",
       "      <td>Mende Language</td>\n",
       "      <td>[{'tui': 'T171', 'tree_number': 'A2.5', 'name'...</td>\n",
       "    </tr>\n",
       "  </tbody>\n",
       "</table>\n",
       "<p>127 rows × 4 columns</p>\n",
       "</div>"
      ],
      "text/plain": [
       "               cui                    term  \\\n",
       "id                                           \n",
       "30982686  C0001418          Adenocarcinoma   \n",
       "30982686  C0001563    Administration, Oral   \n",
       "30982686  C0001675                   Adult   \n",
       "30982686  C0001792                    Aged   \n",
       "30982686  C0001795       Aged, 80 and over   \n",
       "...            ...                     ...   \n",
       "32880601  C2603343                   Study   \n",
       "32880601  C0599755                  Cohort   \n",
       "32880601  C0439234  year (qualifier value)   \n",
       "32880601  C0025266                     Man   \n",
       "32880601  C0574516                   Mende   \n",
       "\n",
       "                                                  text_umls  \\\n",
       "id                                                            \n",
       "30982686                                     Adenocarcinoma   \n",
       "30982686  Administration of drug or medicament via oral ...   \n",
       "30982686                                              Adult   \n",
       "30982686                                            Elderly   \n",
       "30982686                                  Aged, 80 and over   \n",
       "...                                                     ...   \n",
       "32880601                                              Study   \n",
       "32880601                                             Cohort   \n",
       "32880601                                               Year   \n",
       "32880601                                                Man   \n",
       "32880601                                     Mende Language   \n",
       "\n",
       "                                             semantic_types  \n",
       "id                                                           \n",
       "30982686  [{'tui': 'T191', 'tree_number': 'B2.2.1.2.1.2'...  \n",
       "30982686  [{'tui': 'T061', 'tree_number': 'B1.3.1.3', 'n...  \n",
       "30982686  [{'tui': 'T100', 'tree_number': 'A2.9.4', 'nam...  \n",
       "30982686  [{'tui': 'T098', 'tree_number': 'A2.9.2', 'nam...  \n",
       "30982686  [{'tui': 'T100', 'tree_number': 'A2.9.4', 'nam...  \n",
       "...                                                     ...  \n",
       "32880601  [{'tui': 'T062', 'tree_number': 'B1.3.2', 'nam...  \n",
       "32880601  [{'tui': 'T098', 'tree_number': 'A2.9.2', 'nam...  \n",
       "32880601  [{'tui': 'T079', 'tree_number': 'A2.1.1', 'nam...  \n",
       "32880601  [{'tui': 'T098', 'tree_number': 'A2.9.2', 'nam...  \n",
       "32880601  [{'tui': 'T171', 'tree_number': 'A2.5', 'name'...  \n",
       "\n",
       "[127 rows x 4 columns]"
      ]
     },
     "execution_count": 221,
     "metadata": {},
     "output_type": "execute_result"
    }
   ],
   "source": [
    "missing_rcts_df"
   ]
  },
  {
   "cell_type": "code",
   "execution_count": 222,
   "metadata": {
    "tags": []
   },
   "outputs": [
    {
     "data": {
      "text/html": [
       "<div>\n",
       "<style scoped>\n",
       "    .dataframe tbody tr th:only-of-type {\n",
       "        vertical-align: middle;\n",
       "    }\n",
       "\n",
       "    .dataframe tbody tr th {\n",
       "        vertical-align: top;\n",
       "    }\n",
       "\n",
       "    .dataframe thead th {\n",
       "        text-align: right;\n",
       "    }\n",
       "</style>\n",
       "<table border=\"1\" class=\"dataframe\">\n",
       "  <thead>\n",
       "    <tr style=\"text-align: right;\">\n",
       "      <th></th>\n",
       "      <th></th>\n",
       "      <th>UMLS Term</th>\n",
       "    </tr>\n",
       "    <tr>\n",
       "      <th>Pubmed ID</th>\n",
       "      <th>CUI</th>\n",
       "      <th></th>\n",
       "    </tr>\n",
       "  </thead>\n",
       "  <tbody>\n",
       "    <tr>\n",
       "      <th rowspan=\"11\" valign=\"top\">30982686</th>\n",
       "      <th>C0001418</th>\n",
       "      <td>Adenocarcinoma</td>\n",
       "    </tr>\n",
       "    <tr>\n",
       "      <th>C1533734</th>\n",
       "      <td>Administration</td>\n",
       "    </tr>\n",
       "    <tr>\n",
       "      <th>C0001563</th>\n",
       "      <td>Administration of drug or medicament via oral ...</td>\n",
       "    </tr>\n",
       "    <tr>\n",
       "      <th>C0003393</th>\n",
       "      <td>Antineoplastic Combined Chemotherapy Protocols</td>\n",
       "    </tr>\n",
       "    <tr>\n",
       "      <th>C0038898</th>\n",
       "      <td>Digestive System Surgery</td>\n",
       "    </tr>\n",
       "    <tr>\n",
       "      <th>C1332166</th>\n",
       "      <td>Gastroesophageal Junction Adenocarcinoma</td>\n",
       "    </tr>\n",
       "    <tr>\n",
       "      <th>C0677984</th>\n",
       "      <td>Locally Advanced Malignant Neoplasm</td>\n",
       "    </tr>\n",
       "    <tr>\n",
       "      <th>C0027627</th>\n",
       "      <td>Metastasis</td>\n",
       "    </tr>\n",
       "    <tr>\n",
       "      <th>C0038356</th>\n",
       "      <td>Neoplasm of the stomach</td>\n",
       "    </tr>\n",
       "    <tr>\n",
       "      <th>C0278498</th>\n",
       "      <td>Stage IV Gastric Cancer AJCC v7</td>\n",
       "    </tr>\n",
       "    <tr>\n",
       "      <th>C0087111</th>\n",
       "      <td>Therapeutic Procedure</td>\n",
       "    </tr>\n",
       "    <tr>\n",
       "      <th rowspan=\"5\" valign=\"top\">31595970</th>\n",
       "      <th>C0001418</th>\n",
       "      <td>Adenocarcinoma</td>\n",
       "    </tr>\n",
       "    <tr>\n",
       "      <th>C0038898</th>\n",
       "      <td>Digestive System Surgery</td>\n",
       "    </tr>\n",
       "    <tr>\n",
       "      <th>C0685938</th>\n",
       "      <td>Malignant gastrointestinal tract tumors</td>\n",
       "    </tr>\n",
       "    <tr>\n",
       "      <th>C0017185</th>\n",
       "      <td>Neoplasm of the gastrointestinal tract</td>\n",
       "    </tr>\n",
       "    <tr>\n",
       "      <th>C0543467</th>\n",
       "      <td>Surgical Procedure</td>\n",
       "    </tr>\n",
       "    <tr>\n",
       "      <th rowspan=\"2\" valign=\"top\">32421440</th>\n",
       "      <th>C0085198</th>\n",
       "      <td>Esophagectomy</td>\n",
       "    </tr>\n",
       "    <tr>\n",
       "      <th>C0282624</th>\n",
       "      <td>Minimally Invasive Surgery</td>\n",
       "    </tr>\n",
       "    <tr>\n",
       "      <th rowspan=\"5\" valign=\"top\">32880601</th>\n",
       "      <th>C0877373</th>\n",
       "      <td>Advanced Malignant Neoplasm</td>\n",
       "    </tr>\n",
       "    <tr>\n",
       "      <th>C0003393</th>\n",
       "      <td>Antineoplastic Combined Chemotherapy Protocols</td>\n",
       "    </tr>\n",
       "    <tr>\n",
       "      <th>C1708063</th>\n",
       "      <td>First-Line Therapy</td>\n",
       "    </tr>\n",
       "    <tr>\n",
       "      <th>C4744333</th>\n",
       "      <td>Locally Advanced Unresectable Carcinoma</td>\n",
       "    </tr>\n",
       "    <tr>\n",
       "      <th>C0038356</th>\n",
       "      <td>Neoplasm of the stomach</td>\n",
       "    </tr>\n",
       "  </tbody>\n",
       "</table>\n",
       "</div>"
      ],
      "text/plain": [
       "                                                            UMLS Term\n",
       "Pubmed ID CUI                                                        \n",
       "30982686  C0001418                                     Adenocarcinoma\n",
       "          C1533734                                     Administration\n",
       "          C0001563  Administration of drug or medicament via oral ...\n",
       "          C0003393     Antineoplastic Combined Chemotherapy Protocols\n",
       "          C0038898                           Digestive System Surgery\n",
       "          C1332166           Gastroesophageal Junction Adenocarcinoma\n",
       "          C0677984                Locally Advanced Malignant Neoplasm\n",
       "          C0027627                                         Metastasis\n",
       "          C0038356                            Neoplasm of the stomach\n",
       "          C0278498                    Stage IV Gastric Cancer AJCC v7\n",
       "          C0087111                              Therapeutic Procedure\n",
       "31595970  C0001418                                     Adenocarcinoma\n",
       "          C0038898                           Digestive System Surgery\n",
       "          C0685938            Malignant gastrointestinal tract tumors\n",
       "          C0017185             Neoplasm of the gastrointestinal tract\n",
       "          C0543467                                 Surgical Procedure\n",
       "32421440  C0085198                                      Esophagectomy\n",
       "          C0282624                         Minimally Invasive Surgery\n",
       "32880601  C0877373                        Advanced Malignant Neoplasm\n",
       "          C0003393     Antineoplastic Combined Chemotherapy Protocols\n",
       "          C1708063                                 First-Line Therapy\n",
       "          C4744333            Locally Advanced Unresectable Carcinoma\n",
       "          C0038356                            Neoplasm of the stomach"
      ]
     },
     "execution_count": 222,
     "metadata": {},
     "output_type": "execute_result"
    }
   ],
   "source": [
    "from evaluation.metrics import prepare_missing_rcts_concepts_df\n",
    "\n",
    "missing_rcts_concepts_df = prepare_missing_rcts_concepts_df(\n",
    "    missing_rcts_df=missing_rcts_df\n",
    ")\n",
    "missing_rcts_concepts_df"
   ]
  },
  {
   "cell_type": "markdown",
   "metadata": {},
   "source": [
    "## Unscreened High Quality Evidence"
   ]
  },
  {
   "cell_type": "markdown",
   "metadata": {},
   "source": [
    "For this section, we consider all sources. However, we exclude duplicates that are both in Pubmed and in Trialstreamer:"
   ]
  },
  {
   "cell_type": "code",
   "execution_count": null,
   "metadata": {
    "tags": []
   },
   "outputs": [],
   "source": [
    "df_query.reset_index(drop=True, inplace=True)\n",
    "df_query = df_query[\n",
    "    (\n",
    "        ~df_query.sort_values([\"pm_id\", \"source\"]).duplicated(\n",
    "            subset=\"pm_id\", keep=\"first\"\n",
    "        )\n",
    "    )\n",
    "    | (df_query[\"pm_id\"].isnull())\n",
    "]"
   ]
  },
  {
   "cell_type": "markdown",
   "metadata": {},
   "source": [
    "We then set boolean flags with which we can filter out the already screened evidence:"
   ]
  },
  {
   "cell_type": "code",
   "execution_count": null,
   "metadata": {
    "tags": []
   },
   "outputs": [],
   "source": [
    "from evaluation.matching import check_for_matches_in_screened\n",
    "\n",
    "df_query = check_for_matches_in_screened(\n",
    "    df_query=df_query, df_screened=df_s_with_ggponc\n",
    ")"
   ]
  },
  {
   "cell_type": "code",
   "execution_count": null,
   "metadata": {
    "tags": []
   },
   "outputs": [],
   "source": [
    "df_query_unscreened = df_query.query(\"is_screened == False\")"
   ]
  },
  {
   "cell_type": "code",
   "execution_count": null,
   "metadata": {
    "tags": []
   },
   "outputs": [],
   "source": [
    "pd.crosstab(\n",
    "    df_query_unscreened[\"source\"],\n",
    "    df_query_unscreened[\"has_title_match_in_screened\"],\n",
    "    margins=True,\n",
    ")"
   ]
  },
  {
   "cell_type": "code",
   "execution_count": null,
   "metadata": {
    "tags": []
   },
   "outputs": [],
   "source": [
    "FILTER_HQ = (\n",
    "    \"is_in_ggponc == False\"\n",
    "    \"&\"\n",
    "    \"has_title_match_in_screened == False\"\n",
    "    \"&\"\n",
    "    \"has_pediatric_population == False\"\n",
    "    \"&\"\n",
    "    \"(\"\n",
    "    \"(source == 'ClinicalTrials' & phase_int >= 3 & results_available)\"\n",
    "    \"|\"\n",
    "    \"(source == 'Civic' & evidence_rating >= 4)\"\n",
    "    \"|\"\n",
    "    \"(source == 'Pubmed' & abstract.str.len() > 1 & is_rct == True & phase_int >= 2)\"\n",
    "    \")\"\n",
    ")"
   ]
  },
  {
   "cell_type": "code",
   "execution_count": null,
   "metadata": {
    "tags": []
   },
   "outputs": [],
   "source": [
    "df_query_unscreened_hq = df_query_unscreened.query(FILTER_HQ)\n",
    "\n",
    "manual_review = df_query_unscreened_hq.sort_values(\n",
    "    [\"source\", \"publication_date\"], ascending=False\n",
    ")\n",
    "manual_review"
   ]
  },
  {
   "cell_type": "code",
   "execution_count": null,
   "metadata": {
    "tags": []
   },
   "outputs": [],
   "source": [
    "df_query_unscreened_hq.to_csv(PATH_UNSCREENED_HQ, index=False)"
   ]
  },
  {
   "cell_type": "markdown",
   "metadata": {},
   "source": [
    "### Latex Output"
   ]
  },
  {
   "cell_type": "code",
   "execution_count": null,
   "metadata": {},
   "outputs": [],
   "source": [
    "from evaluation.metrics import remove_last_cline_from_tex_table"
   ]
  },
  {
   "cell_type": "markdown",
   "metadata": {},
   "source": [
    "#### Missing RCTs"
   ]
  },
  {
   "cell_type": "code",
   "execution_count": null,
   "metadata": {},
   "outputs": [],
   "source": [
    "if OVERWRITE_LATEX_OUTPUT:\n",
    "    missing_rcts_concepts_df[[\"UMLS Term\"]].style.format(escape=\"latex\").to_latex(\n",
    "        PATH_LATEX_TABLE_OUTPUT / f\"missing_rcts.tex\",\n",
    "        hrules=True,\n",
    "        clines=\"skip-last;data\",\n",
    "    )\n",
    "    remove_last_cline_from_tex_table(PATH_LATEX_TABLE_OUTPUT / f\"missing_rcts.tex\")"
   ]
  },
  {
   "cell_type": "markdown",
   "metadata": {},
   "source": [
    "#### Retrieval Metrics"
   ]
  },
  {
   "cell_type": "code",
   "execution_count": null,
   "metadata": {},
   "outputs": [],
   "source": [
    "if OVERWRITE_LATEX_OUTPUT:\n",
    "    for subset_screened_desc in metrics_w_manual.keys():\n",
    "        if subset_screened_desc == \"All\":\n",
    "            column_format = \"lS[table-format=1.2]S[table-format=1.2]S[table-format=1.2]S[table-format=2]S[table-format=3]S[table-format=2]S[table-format=4]S[table-format=2]S[table-format=3]\"\n",
    "        else:\n",
    "            column_format = \"lS[table-format=1.2]S[table-format=1.2]S[table-format=1.2]S[table-format=2]S[table-format=3]S[table-format=2]S[table-format=3]S[table-format=3]S[table-format=3]\"\n",
    "        highlight_metrics(\n",
    "            metrics_to_df(\n",
    "                metrics_w_manual[subset_screened_desc],\n",
    "                drop_zero_tp=False,\n",
    "                use_abbreviations=True,\n",
    "            )\n",
    "            .head(len(FILTERS_RETRIEVED))\n",
    "            .drop(columns=[\"Scr.\", \"Rel.\"])\n",
    "        ).applymap_index(lambda v: \"font-weight: bold;\", axis=\"columns\").to_latex(\n",
    "            PATH_LATEX_TABLE_OUTPUT / f\"prec_rec_{subset_screened_desc}.tex\",\n",
    "            hrules=True,\n",
    "            convert_css=True,\n",
    "            siunitx=True,\n",
    "            clines=\"all;data\",\n",
    "            column_format=column_format,\n",
    "        )\n",
    "        remove_last_cline_from_tex_table(\n",
    "            PATH_LATEX_TABLE_OUTPUT / f\"prec_rec_{subset_screened_desc}.tex\"\n",
    "        )"
   ]
  },
  {
   "cell_type": "code",
   "execution_count": null,
   "metadata": {},
   "outputs": [],
   "source": [
    "if OVERWRITE_LATEX_OUTPUT:\n",
    "    for subset_screened_desc, subset_retrieved_desc in zip(\n",
    "        [\"All\", \"Only RCTs\"], [\"All\", \"Is RCT\"]\n",
    "    ):\n",
    "        fig, ax = draw_venn_rsi(\n",
    "            title=None,\n",
    "            ids_retrieved=metrics_w_manual[subset_screened_desc][subset_retrieved_desc][\n",
    "                \"ids_retrieved\"\n",
    "            ],\n",
    "            ids_screened=metrics_w_manual[subset_screened_desc][subset_retrieved_desc][\n",
    "                \"ids_screened\"\n",
    "            ],\n",
    "            ids_screened_relevant=metrics_w_manual[subset_screened_desc][\n",
    "                subset_retrieved_desc\n",
    "            ][\"ids_screened_relevant\"],\n",
    "            add_pn_labels=True,\n",
    "            circle_label_size=16,\n",
    "            label_size=14,\n",
    "            label_offsets={\"?\": (-0.05, 0.05)},\n",
    "        )\n",
    "        fig.savefig(\n",
    "            PATH_LATEX_PLOT_OUTPUT\n",
    "            / f\"venn3_screened_found_included_{subset_screened_desc}.pdf\",\n",
    "        )"
   ]
  },
  {
   "cell_type": "markdown",
   "metadata": {},
   "source": [
    "#### Screening Data"
   ]
  },
  {
   "cell_type": "code",
   "execution_count": null,
   "metadata": {},
   "outputs": [],
   "source": [
    "from evaluation.plotting import draw_docs_by_publication_date\n",
    "\n",
    "if OVERWRITE_LATEX_OUTPUT:\n",
    "    draw_docs_by_publication_date(\n",
    "        df_screened=df_s,\n",
    "        col_date=\"publication_date\",\n",
    "        col_relevant=\"is_relevant\",\n",
    "        output_dir=PATH_LATEX_PLOT_OUTPUT,\n",
    "        file_name=f\"screened_by_publication_year.pdf\",\n",
    "    )"
   ]
  },
  {
   "cell_type": "code",
   "execution_count": null,
   "metadata": {},
   "outputs": [],
   "source": [
    "from evaluation.plotting import draw_docs_publication_types\n",
    "\n",
    "if OVERWRITE_LATEX_OUTPUT:\n",
    "    draw_docs_publication_types(\n",
    "        df_screened=df_s,\n",
    "        n_most_common=10,\n",
    "        col_ptypes=\"publication_types\",\n",
    "        col_relevant=\"is_relevant\",\n",
    "        output_dir=PATH_LATEX_PLOT_OUTPUT,\n",
    "        file_name=f\"publication_types_included.pdf\",\n",
    "    )"
   ]
  },
  {
   "cell_type": "markdown",
   "metadata": {},
   "source": [
    "#### Retrieved Data"
   ]
  },
  {
   "cell_type": "code",
   "execution_count": null,
   "metadata": {},
   "outputs": [],
   "source": [
    "from evaluation.plotting import set_size\n",
    "from matplotlib.dates import AutoDateLocator\n",
    "\n",
    "if OVERWRITE_LATEX_OUTPUT:\n",
    "    monthly_retrievals = (\n",
    "        df_query.query(\"source != 'Trialstreamer'\")\n",
    "        .groupby([pd.Grouper(key=\"publication_date_combined\", freq=\"3M\"), \"source\"])\n",
    "        .size()\n",
    "        .unstack()\n",
    "        .rename(index=lambda d: f\"Q{pd.Timestamp(d).quarter} {d.year}\")\n",
    "        .rename_axis(\"Source\", axis=1)\n",
    "    )[[\"Pubmed\", \"ClinicalTrials\", \"Civic\"]]\n",
    "\n",
    "    fig, ax = plt.subplots(figsize=set_size(\"thesis\"), layout=\"constrained\")\n",
    "    monthly_retrievals.plot(\n",
    "        kind=\"bar\",\n",
    "        stacked=True,\n",
    "        ax=ax,\n",
    "        xlabel=\"Quarter of the Systematic Review Time Frame\",\n",
    "        ylabel=\"Number of Retrieved Publications\",\n",
    "        rot=0,\n",
    "    )\n",
    "    locator = AutoDateLocator()\n",
    "    locator.intervald[\"QUARTER\"] = 1\n",
    "    ax.xaxis.set_major_locator(locator)\n",
    "    fig.savefig(PATH_LATEX_PLOT_OUTPUT / f\"monthly_retrievals_by_source.pdf\")"
   ]
  },
  {
   "cell_type": "code",
   "execution_count": null,
   "metadata": {},
   "outputs": [],
   "source": [
    "if OVERWRITE_LATEX_OUTPUT:\n",
    "    fig, ax = plt.subplots(figsize=set_size(\"thesis\"), layout=\"constrained\")\n",
    "\n",
    "    monhtly_retrieved_vs_screened_pm = (\n",
    "        df_query.query(\"source == 'Pubmed' & is_rct_pt == True & is_in_ggponc == False\")\n",
    "        .merge(df_s[[\"pm_id\", \"is_included\"]], on=\"pm_id\", how=\"left\", indicator=True)\n",
    "        .groupby([pd.Grouper(key=\"publication_date_combined\", freq=\"3M\"), \"_merge\"])\n",
    "        .size()\n",
    "        .unstack()[[\"both\", \"left_only\"]]\n",
    "        .rename(\n",
    "            index=lambda d: f\"Q{pd.Timestamp(d).quarter} {d.year}\",\n",
    "            columns={\"left_only\": \"Unscreened\", \"both\": \"Screened\"},\n",
    "        )\n",
    "        .rename_axis(None, axis=1)\n",
    "    )\n",
    "\n",
    "    monhtly_retrieved_vs_screened_pm.plot(\n",
    "        kind=\"bar\",\n",
    "        stacked=True,\n",
    "        ylabel=\"Number of RCTs retrieved from Pubmed\",\n",
    "        xlabel=\"Quarter of the Systematic Review Time Frame\",\n",
    "        ax=ax,\n",
    "        rot=0,\n",
    "    )\n",
    "\n",
    "    locator = AutoDateLocator()\n",
    "    locator.intervald[\"QUARTER\"] = 1\n",
    "    ax.xaxis.set_major_locator(locator)\n",
    "\n",
    "    fig.savefig(PATH_LATEX_PLOT_OUTPUT / f\"monthly_retrieved_vs_screened_rcts.pdf\")"
   ]
  },
  {
   "cell_type": "code",
   "execution_count": null,
   "metadata": {},
   "outputs": [],
   "source": [
    "if OVERWRITE_LATEX_OUTPUT:\n",
    "    df_query.loc[df_query.query(FILTER_HQ).index, \"is_hq\"] = True\n",
    "    df_query[\"is_hq\"] = df_query[\"is_hq\"].fillna(False)\n",
    "\n",
    "    fig, ax = plt.subplots(figsize=set_size(\"thesis\"), layout=\"constrained\")\n",
    "    df_query.query(\"source != 'Trialstreamer'\").groupby(\n",
    "        [pd.Grouper(key=\"publication_date_combined\", freq=\"3M\"), \"is_hq\"]\n",
    "    ).size().unstack().rename(\n",
    "        index=lambda d: f\"Q{pd.Timestamp(d).quarter} {d.year}\",\n",
    "        columns={True: \"High\", False: \"Normal\"},\n",
    "    ).rename_axis(\n",
    "        \"Evidence Quality\", axis=1\n",
    "    ).plot(\n",
    "        kind=\"bar\",\n",
    "        stacked=True,\n",
    "        ax=ax,\n",
    "        xlabel=\"Month of the Systematic Review Time Frame\",\n",
    "        ylabel=\"Number of Retrieved Publications\",\n",
    "        rot=0,\n",
    "    )\n",
    "    locator = AutoDateLocator()\n",
    "    locator.intervald[\"QUARTER\"] = 1\n",
    "    ax.xaxis.set_major_locator(locator)"
   ]
  },
  {
   "cell_type": "code",
   "execution_count": null,
   "metadata": {},
   "outputs": [],
   "source": [
    "if OVERWRITE_LATEX_OUTPUT:\n",
    "    df_merged = (\n",
    "        df_query.query(\"source == 'Pubmed' & is_rct_pt == True\")\n",
    "        .dropna(subset=\"pm_id\")\n",
    "        .merge(\n",
    "            df_s.query(\"is_rct_api == True\")[\n",
    "                [\"pm_id\", \"publication_date\", \"is_included\"]\n",
    "            ].dropna(subset=\"pm_id\"),\n",
    "            on=\"pm_id\",\n",
    "            how=\"outer\",\n",
    "            indicator=True,\n",
    "        )\n",
    "    )\n",
    "    df_merged[\"common_publication_date\"] = df_merged[\n",
    "        \"publication_date_combined\"\n",
    "    ].fillna(df_merged[\"publication_date_y\"])\n",
    "\n",
    "    montly_retrieved_vs_screened = (\n",
    "        df_merged.groupby(\n",
    "            [pd.Grouper(key=\"common_publication_date\", freq=\"3M\"), \"_merge\"]\n",
    "        )\n",
    "        .size()\n",
    "        .unstack()\n",
    "        .rename(\n",
    "            index=lambda d: f\"Q{pd.Timestamp(d).quarter} {d.year}\",\n",
    "            columns={\n",
    "                \"left_only\": \"Only Retrieved\",\n",
    "                \"both\": \"Screened and Retrieved\",\n",
    "                \"right_only\": \"Only Screened\",\n",
    "            },\n",
    "        )\n",
    "        .rename_axis(None, axis=1)\n",
    "    )[[\"Only Screened\", \"Screened and Retrieved\", \"Only Retrieved\"]]\n",
    "\n",
    "    fig, ax = plt.subplots(figsize=set_size(\"thesis\"), layout=\"constrained\")\n",
    "    montly_retrieved_vs_screened.plot(\n",
    "        kind=\"bar\",\n",
    "        stacked=True,\n",
    "        ax=ax,\n",
    "        xlabel=\"Year of the Systematic Review Time Frame\",\n",
    "        ylabel=\"Number of RCTs\",\n",
    "        rot=0,\n",
    "    )\n",
    "    locator = AutoDateLocator()\n",
    "    locator.intervald[\"QUARTER\"] = 1\n",
    "    ax.xaxis.set_major_locator(locator)\n",
    "\n",
    "    fig.savefig(PATH_LATEX_PLOT_OUTPUT / f\"yearly_retrieved_vs_screened_rcts.pdf\")"
   ]
  }
 ],
 "metadata": {
  "kernelspec": {
   "display_name": "Python [conda env:nge]",
   "language": "python",
   "name": "conda-env-nge-py"
  },
  "language_info": {
   "codemirror_mode": {
    "name": "ipython",
    "version": 3
   },
   "file_extension": ".py",
   "mimetype": "text/x-python",
   "name": "python",
   "nbconvert_exporter": "python",
   "pygments_lexer": "ipython3",
   "version": "3.10.12"
  }
 },
 "nbformat": 4,
 "nbformat_minor": 4
}
