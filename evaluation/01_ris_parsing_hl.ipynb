{
 "cells": [
  {
   "cell_type": "markdown",
   "metadata": {},
   "source": [
    "# Parsing the Hodgkin-Lymphoma screening data"
   ]
  },
  {
   "cell_type": "code",
   "execution_count": 1,
   "metadata": {
    "tags": []
   },
   "outputs": [],
   "source": [
    "import sys\n",
    "sys.path.insert(0, '..')"
   ]
  },
  {
   "cell_type": "markdown",
   "metadata": {},
   "source": [
    "### Parsing the RIS files"
   ]
  },
  {
   "cell_type": "code",
   "execution_count": 2,
   "metadata": {
    "tags": []
   },
   "outputs": [],
   "source": [
    "from pathlib import Path\n",
    "\n",
    "PATH_PREFIX = \"hodgkin_lymphoma\"\n",
    "GUIDELINE_ID = \"hodgkin-lymphom\"\n",
    "\n",
    "PATH_GGPONC_LITERATURE = Path(\"../data/screening/ggponc_v2.1_2023_03_30_literature.csv\")\n",
    "PATH_RIS = Path(f\"../data/screening/{PATH_PREFIX}/\")\n",
    "PATH_MANUAL_REVIEW = Path(f\"../data/screening/{PATH_PREFIX}/manual_review.csv\")\n",
    "PATH_OUTPUT = Path(f\"../data/screening/{PATH_PREFIX}/ris_with_matched_ids.csv\")\n",
    "\n",
    "PATH_LATEX_PLOT_OUTPUT = Path(\n",
    "    f\"../thesis/from_python/figures/experiments/{PATH_PREFIX}/\"\n",
    ")\n",
    "PATH_LATEX_PLOT_OUTPUT.mkdir(parents=True, exist_ok=True)"
   ]
  },
  {
   "cell_type": "code",
   "execution_count": 3,
   "metadata": {
    "tags": []
   },
   "outputs": [],
   "source": [
    "import pandas as pd\n",
    "import rispy\n",
    "from evaluation.parsing import parse_kg_ris_file"
   ]
  },
  {
   "cell_type": "code",
   "execution_count": 4,
   "metadata": {
    "tags": []
   },
   "outputs": [],
   "source": [
    "df_ris = pd.concat(\n",
    "    [parse_kg_ris_file(f, rispy.RisParser()) for f in PATH_RIS.rglob(\"*.txt\")]\n",
    ")"
   ]
  },
  {
   "cell_type": "markdown",
   "metadata": {},
   "source": [
    "### Additional documents that were added at a later point"
   ]
  },
  {
   "cell_type": "markdown",
   "metadata": {},
   "source": [
    "Some documents were placed behind paywalls and were only added to the search results at a later time. These include the following:"
   ]
  },
  {
   "cell_type": "code",
   "execution_count": 5,
   "metadata": {
    "tags": []
   },
   "outputs": [],
   "source": [
    "df_screened_later = pd.read_csv(\n",
    "    PATH_RIS / \"screened_later.csv\",\n",
    "    sep=\";\",\n",
    "    dtype={\"pm_id\": \"Int64\"},\n",
    "    usecols=[\"title\", \"doi\", \"pm_id\"],\n",
    ")\n",
    "df_screened_later[\"path\"] = PATH_RIS / \"Included RCTs_HL only/rcts_added_later.txt\"\n",
    "df_screened_later[\"url\"] = \"\""
   ]
  },
  {
   "cell_type": "code",
   "execution_count": 6,
   "metadata": {
    "tags": []
   },
   "outputs": [
    {
     "data": {
      "text/html": [
       "<div>\n",
       "<style scoped>\n",
       "    .dataframe tbody tr th:only-of-type {\n",
       "        vertical-align: middle;\n",
       "    }\n",
       "\n",
       "    .dataframe tbody tr th {\n",
       "        vertical-align: top;\n",
       "    }\n",
       "\n",
       "    .dataframe thead th {\n",
       "        text-align: right;\n",
       "    }\n",
       "</style>\n",
       "<table border=\"1\" class=\"dataframe\">\n",
       "  <thead>\n",
       "    <tr style=\"text-align: right;\">\n",
       "      <th></th>\n",
       "      <th>title</th>\n",
       "      <th>doi</th>\n",
       "      <th>pm_id</th>\n",
       "      <th>path</th>\n",
       "      <th>url</th>\n",
       "    </tr>\n",
       "  </thead>\n",
       "  <tbody>\n",
       "    <tr>\n",
       "      <th>0</th>\n",
       "      <td>Phase 2 Clinical Trial of Separation Surgery F...</td>\n",
       "      <td>10.1016/j.ijrobp.2021.07.1697</td>\n",
       "      <td>34715257</td>\n",
       "      <td>../data/screening/hodgkin_lymphoma/Included RC...</td>\n",
       "      <td></td>\n",
       "    </tr>\n",
       "    <tr>\n",
       "      <th>1</th>\n",
       "      <td>Intensified treatment of patients with early s...</td>\n",
       "      <td>10.1016/S2352-3026(21)00029-6</td>\n",
       "      <td>33770483</td>\n",
       "      <td>../data/screening/hodgkin_lymphoma/Included RC...</td>\n",
       "      <td></td>\n",
       "    </tr>\n",
       "    <tr>\n",
       "      <th>2</th>\n",
       "      <td>HL-507 First-Line Brentuximab Vedotin Plus Che...</td>\n",
       "      <td>10.1016/S2152-2650(22)01483-5</td>\n",
       "      <td>36164033</td>\n",
       "      <td>../data/screening/hodgkin_lymphoma/Included RC...</td>\n",
       "      <td></td>\n",
       "    </tr>\n",
       "    <tr>\n",
       "      <th>3</th>\n",
       "      <td>Role of eHealth application Oncokompas in supp...</td>\n",
       "      <td>10.1016/S1470-2045(19)30675-8</td>\n",
       "      <td>31838009</td>\n",
       "      <td>../data/screening/hodgkin_lymphoma/Included RC...</td>\n",
       "      <td></td>\n",
       "    </tr>\n",
       "    <tr>\n",
       "      <th>4</th>\n",
       "      <td>PET-guided omission of radiotherapy in early-s...</td>\n",
       "      <td>10.1016/S1470-2045(20)30601-X</td>\n",
       "      <td>33539742</td>\n",
       "      <td>../data/screening/hodgkin_lymphoma/Included RC...</td>\n",
       "      <td></td>\n",
       "    </tr>\n",
       "    <tr>\n",
       "      <th>5</th>\n",
       "      <td>PET-guided eBEACOPP treatment of advanced-stag...</td>\n",
       "      <td>10.1016/S2352-3026(21)00101-0</td>\n",
       "      <td>34048679</td>\n",
       "      <td>../data/screening/hodgkin_lymphoma/Included RC...</td>\n",
       "      <td></td>\n",
       "    </tr>\n",
       "    <tr>\n",
       "      <th>6</th>\n",
       "      <td>Brentuximab vedotin with chemotherapy for stag...</td>\n",
       "      <td>10.1016/S2352-3026(21)00102-2</td>\n",
       "      <td>34048680</td>\n",
       "      <td>../data/screening/hodgkin_lymphoma/Included RC...</td>\n",
       "      <td></td>\n",
       "    </tr>\n",
       "  </tbody>\n",
       "</table>\n",
       "</div>"
      ],
      "text/plain": [
       "                                               title  \\\n",
       "0  Phase 2 Clinical Trial of Separation Surgery F...   \n",
       "1  Intensified treatment of patients with early s...   \n",
       "2  HL-507 First-Line Brentuximab Vedotin Plus Che...   \n",
       "3  Role of eHealth application Oncokompas in supp...   \n",
       "4  PET-guided omission of radiotherapy in early-s...   \n",
       "5  PET-guided eBEACOPP treatment of advanced-stag...   \n",
       "6  Brentuximab vedotin with chemotherapy for stag...   \n",
       "\n",
       "                               doi     pm_id  \\\n",
       "0    10.1016/j.ijrobp.2021.07.1697  34715257   \n",
       "1    10.1016/S2352-3026(21)00029-6  33770483   \n",
       "2   10.1016/S2152-2650(22)01483-5   36164033   \n",
       "3    10.1016/S1470-2045(19)30675-8  31838009   \n",
       "4   10.1016/S1470-2045(20)30601-X   33539742   \n",
       "5   10.1016/S2352-3026(21)00101-0   34048679   \n",
       "6   10.1016/S2352-3026(21)00102-2   34048680   \n",
       "\n",
       "                                                path url  \n",
       "0  ../data/screening/hodgkin_lymphoma/Included RC...      \n",
       "1  ../data/screening/hodgkin_lymphoma/Included RC...      \n",
       "2  ../data/screening/hodgkin_lymphoma/Included RC...      \n",
       "3  ../data/screening/hodgkin_lymphoma/Included RC...      \n",
       "4  ../data/screening/hodgkin_lymphoma/Included RC...      \n",
       "5  ../data/screening/hodgkin_lymphoma/Included RC...      \n",
       "6  ../data/screening/hodgkin_lymphoma/Included RC...      "
      ]
     },
     "execution_count": 6,
     "metadata": {},
     "output_type": "execute_result"
    }
   ],
   "source": [
    "df_screened_later"
   ]
  },
  {
   "cell_type": "code",
   "execution_count": 7,
   "metadata": {
    "tags": []
   },
   "outputs": [],
   "source": [
    "df_ris = pd.concat([df_ris, df_screened_later])"
   ]
  },
  {
   "cell_type": "markdown",
   "metadata": {},
   "source": [
    "### Metadata Cleaning"
   ]
  },
  {
   "cell_type": "code",
   "execution_count": 8,
   "metadata": {
    "tags": []
   },
   "outputs": [],
   "source": [
    "df_ris[\"group\"] = df_ris[\"path\"].apply(lambda p: p.parent.stem)"
   ]
  },
  {
   "cell_type": "code",
   "execution_count": 9,
   "metadata": {
    "tags": []
   },
   "outputs": [],
   "source": [
    "df_ris[\"subgroup\"] = df_ris[\"path\"].apply(lambda p: p.stem)"
   ]
  },
  {
   "cell_type": "code",
   "execution_count": 10,
   "metadata": {
    "tags": []
   },
   "outputs": [],
   "source": [
    "df_ris[\"is_included\"] = df_ris[\"group\"].apply(\n",
    "    lambda g: g.strip()\n",
    "    in [\"Included RCTs_HL only\", \"included SRs_HL only\", \"included SRs_mixed entities\"]\n",
    ")"
   ]
  },
  {
   "cell_type": "code",
   "execution_count": 11,
   "metadata": {
    "tags": []
   },
   "outputs": [],
   "source": [
    "df_ris[\"is_excluded\"] = df_ris[\"is_included\"] != True"
   ]
  },
  {
   "cell_type": "code",
   "execution_count": 12,
   "metadata": {
    "tags": []
   },
   "outputs": [],
   "source": [
    "import json\n",
    "\n",
    "df_ris[\"exclusion_reason\"] = df_ris.apply(\n",
    "    lambda row: json.dumps({\"group\": row[\"group\"], \"subgroup\": row[\"subgroup\"]})\n",
    "    if not row[\"is_included\"]\n",
    "    else \"\",\n",
    "    axis=1,\n",
    ")"
   ]
  },
  {
   "cell_type": "code",
   "execution_count": 13,
   "metadata": {
    "tags": []
   },
   "outputs": [],
   "source": [
    "df_ris[\"is_rct_ris\"] = df_ris[\"group\"].str.strip() == \"Included RCTs_HL only\""
   ]
  },
  {
   "cell_type": "code",
   "execution_count": 14,
   "metadata": {
    "tags": []
   },
   "outputs": [],
   "source": [
    "from evaluation.parsing import parse_ris_date_to_datetime\n",
    "\n",
    "df_ris[\"publication_date\"] = parse_ris_date_to_datetime(\n",
    "    df_ris, col_year=\"year\", col_date=\"date\"\n",
    ")"
   ]
  },
  {
   "cell_type": "code",
   "execution_count": 15,
   "metadata": {
    "tags": []
   },
   "outputs": [],
   "source": [
    "import urllib\n",
    "\n",
    "df_ris[\"url\"] = df_ris[\"url\"].apply(\n",
    "    lambda s: urllib.parse.unquote(s, encoding=\"utf-8\", errors=\"replace\")\n",
    ")"
   ]
  },
  {
   "cell_type": "markdown",
   "metadata": {},
   "source": [
    "### Extracting Identifiers"
   ]
  },
  {
   "cell_type": "code",
   "execution_count": 16,
   "metadata": {
    "tags": []
   },
   "outputs": [],
   "source": [
    "from evaluation.parsing import REGEX"
   ]
  },
  {
   "cell_type": "code",
   "execution_count": 17,
   "metadata": {
    "tags": []
   },
   "outputs": [],
   "source": [
    "df_ris[\"nct_id\"] = pd.NA\n",
    "df_ris[\"cn_id\"] = pd.NA\n",
    "df_ris[\"doi_original\"] = df_ris[\"doi\"]\n",
    "df_ris[\"doi\"] = pd.NA"
   ]
  },
  {
   "cell_type": "markdown",
   "metadata": {},
   "source": [
    "Some can be extracted from the `accession_number` column:"
   ]
  },
  {
   "cell_type": "code",
   "execution_count": 18,
   "metadata": {
    "tags": []
   },
   "outputs": [],
   "source": [
    "df_ris[\"pm_id\"] = (\n",
    "    df_ris[\"accession_number\"].str.extract(REGEX[\"pm_id_start_end\"]).astype(\"Int64\")\n",
    ")"
   ]
  },
  {
   "cell_type": "markdown",
   "metadata": {},
   "source": [
    "Some additional Pubmed IDs are also found in the URL field:"
   ]
  },
  {
   "cell_type": "code",
   "execution_count": 19,
   "metadata": {
    "tags": []
   },
   "outputs": [],
   "source": [
    "df_ris[\"pm_id\"] = df_ris[\"pm_id\"].fillna(\n",
    "    df_ris[\"url\"].str.extract(REGEX[\"pm_id_from_query\"])[0]\n",
    ")"
   ]
  },
  {
   "cell_type": "code",
   "execution_count": 20,
   "metadata": {
    "tags": []
   },
   "outputs": [],
   "source": [
    "df_ris[\"cn_id\"] = df_ris[\"url\"].str.extract(REGEX[\"cn_id\"])[0]"
   ]
  },
  {
   "cell_type": "code",
   "execution_count": 21,
   "metadata": {
    "tags": []
   },
   "outputs": [],
   "source": [
    "df_ris[\"doi\"] = df_ris[\"doi_original\"].str.extract(REGEX[\"doi\"])"
   ]
  },
  {
   "cell_type": "markdown",
   "metadata": {},
   "source": [
    "Some DOIs are hidden in the URL fields:"
   ]
  },
  {
   "cell_type": "code",
   "execution_count": 22,
   "metadata": {
    "tags": []
   },
   "outputs": [],
   "source": [
    "df_ris[\"doi\"] = df_ris[\"doi\"].fillna(\n",
    "    df_ris[\"url\"].str.extract(REGEX[\"doi_from_query\"])[0]\n",
    ")"
   ]
  },
  {
   "cell_type": "markdown",
   "metadata": {},
   "source": [
    "We should also rename the ID column to reflect that it comes from the RIS files:"
   ]
  },
  {
   "cell_type": "code",
   "execution_count": 23,
   "metadata": {
    "tags": []
   },
   "outputs": [],
   "source": [
    "df_ris.rename(columns={\"id\": \"ris_id\"}, inplace=True)"
   ]
  },
  {
   "cell_type": "markdown",
   "metadata": {},
   "source": [
    "### Identifier lookups"
   ]
  },
  {
   "cell_type": "code",
   "execution_count": 24,
   "metadata": {
    "tags": []
   },
   "outputs": [],
   "source": [
    "from integration.config import load_config\n",
    "from integration.db import get_engine\n",
    "from sqlalchemy.orm import sessionmaker\n",
    "\n",
    "cfg = load_config(\"../config_v2.1_2023_03_30.ini\")\n",
    "engine = get_engine(cfg['DB']['url'])\n",
    "session = sessionmaker(bind=engine)()"
   ]
  },
  {
   "cell_type": "code",
   "execution_count": 25,
   "metadata": {
    "tags": []
   },
   "outputs": [],
   "source": [
    "from integration.citation_utils import (\n",
    "    get_title_to_id_mapping_pubmed,\n",
    "    get_title_to_id_mapping_clinicaltrials,\n",
    ")\n",
    "\n",
    "df_pm = get_title_to_id_mapping_pubmed(session)\n",
    "df_ct = get_title_to_id_mapping_clinicaltrials(session)"
   ]
  },
  {
   "cell_type": "code",
   "execution_count": 26,
   "metadata": {
    "tags": []
   },
   "outputs": [
    {
     "data": {
      "application/vnd.jupyter.widget-view+json": {
       "model_id": "4cb4a27eb7384de0bce74c7b2145927b",
       "version_major": 2,
       "version_minor": 0
      },
      "text/plain": [
       "Retrieving available identifiers:   0%|          | 0/170 [00:00<?, ?it/s]"
      ]
     },
     "metadata": {},
     "output_type": "display_data"
    }
   ],
   "source": [
    "from tqdm.auto import tqdm\n",
    "from integration.citation_utils import retrieve_all_identifiers\n",
    "import os\n",
    "\n",
    "tqdm.pandas(desc=\"Retrieving available identifiers\")\n",
    "\n",
    "df_ris = df_ris.progress_apply(  # type: ignore\n",
    "    lambda row: retrieve_all_identifiers(\n",
    "        row=row,\n",
    "        entrez_email=os.environ.get(\"PUBMED_USER\"),\n",
    "        entrez_api_key=os.environ.get(\"PUBMED_API_KEY\"),\n",
    "        doi_pm_id_cache=\"../data/literature/doi_to_pm_id.json\",\n",
    "        cn_pm_id_cache=\"../data/literature/cn_id_to_pm_id.json\",\n",
    "        title_nct_id_cache=\"../data/literature/fuzzy_title_to_nct_id.json\",\n",
    "        title_pm_id_cache=\"../data/literature/fuzzy_title_to_pm_id.json\",\n",
    "        df_pm=df_pm,\n",
    "        df_ct=df_ct,\n",
    "    ),\n",
    "    axis=1,\n",
    ")\n",
    "df_ris = df_ris.astype(\n",
    "    {col: \"Int64\" for col in df_ris.columns if \"pm_id\" in col.lower()}\n",
    ")"
   ]
  },
  {
   "cell_type": "markdown",
   "metadata": {},
   "source": [
    "Potential mislabellings:"
   ]
  },
  {
   "cell_type": "code",
   "execution_count": 27,
   "metadata": {
    "tags": []
   },
   "outputs": [
    {
     "data": {
      "text/html": [
       "<div>\n",
       "<style scoped>\n",
       "    .dataframe tbody tr th:only-of-type {\n",
       "        vertical-align: middle;\n",
       "    }\n",
       "\n",
       "    .dataframe tbody tr th {\n",
       "        vertical-align: top;\n",
       "    }\n",
       "\n",
       "    .dataframe thead th {\n",
       "        text-align: right;\n",
       "    }\n",
       "</style>\n",
       "<table border=\"1\" class=\"dataframe\">\n",
       "  <thead>\n",
       "    <tr style=\"text-align: right;\">\n",
       "      <th></th>\n",
       "      <th>title</th>\n",
       "      <th>ris_id</th>\n",
       "      <th>pm_id</th>\n",
       "      <th>nct_id</th>\n",
       "      <th>doi</th>\n",
       "      <th>cn_id</th>\n",
       "      <th>pm_id_doi</th>\n",
       "      <th>pm_id_cn</th>\n",
       "      <th>nct_id_cn</th>\n",
       "      <th>pmc_id_cn</th>\n",
       "      <th>nct_id_db</th>\n",
       "      <th>pm_id_db</th>\n",
       "    </tr>\n",
       "  </thead>\n",
       "  <tbody>\n",
       "  </tbody>\n",
       "</table>\n",
       "</div>"
      ],
      "text/plain": [
       "Empty DataFrame\n",
       "Columns: [title, ris_id, pm_id, nct_id, doi, cn_id, pm_id_doi, pm_id_cn, nct_id_cn, pmc_id_cn, nct_id_db, pm_id_db]\n",
       "Index: []"
      ]
     },
     "execution_count": 27,
     "metadata": {},
     "output_type": "execute_result"
    }
   ],
   "source": [
    "df_ris[\n",
    "    [\n",
    "        \"title\",\n",
    "        \"ris_id\",\n",
    "        \"pm_id\",\n",
    "        \"nct_id\",\n",
    "        \"doi\",\n",
    "        \"cn_id\",\n",
    "        \"pm_id_doi\",\n",
    "        \"pm_id_cn\",\n",
    "        \"nct_id_cn\",\n",
    "        \"pmc_id_cn\",\n",
    "        \"nct_id_db\",\n",
    "        \"pm_id_db\",\n",
    "    ]\n",
    "].query(\n",
    "    \"pm_id_db.notnull() & pm_id.notnull() & pm_id != pm_id_db\"\n",
    ")  # .merge(df_pm, left_on=\"pm_id\", right_on=\"pm_id\", suffixes=(\"_ris\", \"_db\"))  # to get correct title"
   ]
  },
  {
   "cell_type": "markdown",
   "metadata": {},
   "source": [
    "### Check if evidence is in the database"
   ]
  },
  {
   "cell_type": "code",
   "execution_count": 28,
   "metadata": {
    "tags": []
   },
   "outputs": [
    {
     "data": {
      "application/vnd.jupyter.widget-view+json": {
       "model_id": "46e6e23920de45d1acf12704e5e059e0",
       "version_major": 2,
       "version_minor": 0
      },
      "text/plain": [
       "Checking of evidence is in database:   0%|          | 0/170 [00:00<?, ?it/s]"
      ]
     },
     "metadata": {},
     "output_type": "display_data"
    }
   ],
   "source": [
    "from evaluation.matching import is_in_db\n",
    "from tqdm.auto import tqdm\n",
    "\n",
    "tqdm.pandas(desc=\"Checking of evidence is in database\")\n",
    "\n",
    "db_pm_ids = set(df_pm[\"pm_id\"])\n",
    "db_nct_ids = set(df_ct[\"nct_id\"])\n",
    "\n",
    "df_ris = df_ris.progress_apply(\n",
    "    lambda row: is_in_db(row=row, db_pm_ids=db_pm_ids, db_nct_ids=db_nct_ids), axis=1\n",
    ")"
   ]
  },
  {
   "cell_type": "markdown",
   "metadata": {},
   "source": [
    "### Retrieving Publication Types & Date"
   ]
  },
  {
   "cell_type": "code",
   "execution_count": 29,
   "metadata": {
    "tags": []
   },
   "outputs": [
    {
     "data": {
      "application/vnd.jupyter.widget-view+json": {
       "model_id": "1022b64221cb42cd966e70575301cd65",
       "version_major": 2,
       "version_minor": 0
      },
      "text/plain": [
       "Fetching article types:   0%|          | 0/170 [00:00<?, ?it/s]"
      ]
     },
     "metadata": {},
     "output_type": "display_data"
    }
   ],
   "source": [
    "from tqdm.auto import tqdm\n",
    "import os\n",
    "from integration.citation_utils import pm_id_to_publication_types\n",
    "\n",
    "tqdm.pandas(desc=\"Fetching article types\")\n",
    "\n",
    "df_ris[\"publication_types\"] = df_ris[\"pm_id\"].progress_apply(\n",
    "    lambda pm_id: pm_id_to_publication_types(\n",
    "        pm_id=pm_id,\n",
    "        email=os.environ.get(\"PUBMED_USER\"),\n",
    "        api_key=os.environ.get(\"PUBMED_API_KEY\"),\n",
    "        cache_path=\"../data/literature/pm_id_to_entrez_xml.json\",\n",
    "    )\n",
    ")"
   ]
  },
  {
   "cell_type": "code",
   "execution_count": 30,
   "metadata": {
    "tags": []
   },
   "outputs": [],
   "source": [
    "from integration.citation_utils import set_rct_flag\n",
    "\n",
    "df_ris = df_ris.apply(set_rct_flag, axis=1)"
   ]
  },
  {
   "cell_type": "code",
   "execution_count": 31,
   "metadata": {
    "tags": []
   },
   "outputs": [
    {
     "data": {
      "application/vnd.jupyter.widget-view+json": {
       "model_id": "6c55984f7693448a998e4f06688c9043",
       "version_major": 2,
       "version_minor": 0
      },
      "text/plain": [
       "Fetching article dates:   0%|          | 0/170 [00:00<?, ?it/s]"
      ]
     },
     "metadata": {},
     "output_type": "display_data"
    },
    {
     "name": "stdout",
     "output_type": "stream",
     "text": [
      "Couldn't find article date for 32853585\n",
      "Couldn't find article date for 30290903\n",
      "Couldn't find article date for 32352505\n",
      "Couldn't find article date for 34597375\n",
      "Couldn't find article date for 31945149\n",
      "Couldn't find article date for 33820822\n",
      "Couldn't find article date for 35537731\n",
      "Couldn't find article date for 31107282\n",
      "Couldn't find article date for 31570470\n",
      "Couldn't find article date for 35045567\n",
      "Couldn't find article date for 31291126\n",
      "Couldn't find article date for 30880807\n",
      "Couldn't find article date for 36779325\n",
      "Couldn't find article date for 33252698\n",
      "Couldn't find article date for 31169526\n",
      "Couldn't find article date for 34891715\n",
      "Couldn't find article date for 33877657\n",
      "Couldn't find article date for 30753270\n",
      "Couldn't find article date for 32257153\n",
      "Couldn't find article date for 35612839\n",
      "Couldn't find article date for 31671178\n",
      "Couldn't find article date for 33770483\n",
      "Couldn't find article date for 33539742\n",
      "Couldn't find article date for 34048679\n",
      "Couldn't find article date for 34048680\n"
     ]
    }
   ],
   "source": [
    "from integration.citation_utils import pm_id_to_publication_date\n",
    "\n",
    "tqdm.pandas(desc=\"Fetching article dates\")\n",
    "\n",
    "df_ris[\"article_date_api\"] = pd.to_datetime(\n",
    "    df_ris[\"pm_id\"].progress_apply(\n",
    "        lambda pm_id: pm_id_to_publication_date(\n",
    "            pm_id=pm_id,\n",
    "            email=os.environ.get(\"PUBMED_USER\"),\n",
    "            api_key=os.environ.get(\"PUBMED_API_KEY\"),\n",
    "            cache_path=\"../data/literature/pm_id_to_entrez_xml.json\",\n",
    "        )\n",
    "    )\n",
    ")"
   ]
  },
  {
   "cell_type": "markdown",
   "metadata": {},
   "source": [
    "### Presence in GGPONC"
   ]
  },
  {
   "cell_type": "code",
   "execution_count": 32,
   "metadata": {
    "tags": []
   },
   "outputs": [
    {
     "data": {
      "application/vnd.jupyter.widget-view+json": {
       "model_id": "ea773578f59146f791908c5759b3f992",
       "version_major": 2,
       "version_minor": 0
      },
      "text/plain": [
       "Checking for presence in GGPONC:   0%|          | 0/170 [00:00<?, ?it/s]"
      ]
     },
     "metadata": {},
     "output_type": "display_data"
    }
   ],
   "source": [
    "from evaluation.matching import is_in_ggponc\n",
    "from tqdm.auto import tqdm\n",
    "\n",
    "df_ggponc = (\n",
    "    pd.read_csv(PATH_GGPONC_LITERATURE)\n",
    "    .astype({\"pm_id\": \"Int64\"})\n",
    "    .query(\"guideline_id == @GUIDELINE_ID\")\n",
    ")\n",
    "ggponc_pm_ids = set(df_ggponc[\"pm_id\"].dropna())\n",
    "ggponc_titles = set(df_ggponc[\"title\"])\n",
    "\n",
    "tqdm.pandas(desc=\"Checking for presence in GGPONC\")\n",
    "df_ris = df_ris.progress_apply(\n",
    "    lambda row: is_in_ggponc(\n",
    "        row=row, ggponc_pm_ids=ggponc_pm_ids, ggponc_titles=ggponc_titles\n",
    "    ),\n",
    "    axis=1,\n",
    ")"
   ]
  },
  {
   "cell_type": "markdown",
   "metadata": {},
   "source": [
    "### Preparing final dataframe"
   ]
  },
  {
   "cell_type": "markdown",
   "metadata": {},
   "source": [
    "For the final analyses, we need to deduplicate the data:"
   ]
  },
  {
   "cell_type": "code",
   "execution_count": 33,
   "metadata": {
    "tags": []
   },
   "outputs": [],
   "source": [
    "df_ris.sort_values(\n",
    "    [\"title\", \"pm_id\", \"nct_id\", \"cn_id\", \"doi\", \"is_included\"], inplace=True\n",
    ")"
   ]
  },
  {
   "cell_type": "code",
   "execution_count": 34,
   "metadata": {
    "tags": []
   },
   "outputs": [],
   "source": [
    "df_ris.drop_duplicates(\n",
    "    [\"title\", \"pm_id\", \"nct_id\", \"cn_id\", \"doi\"], keep=\"last\", inplace=True\n",
    ")"
   ]
  },
  {
   "cell_type": "code",
   "execution_count": 35,
   "metadata": {
    "tags": []
   },
   "outputs": [
    {
     "name": "stdout",
     "output_type": "stream",
     "text": [
      "There are 0 non-null PM ID duplicates in the dataset!\n"
     ]
    }
   ],
   "source": [
    "n_non_null_pm_id_duplicates = len(\n",
    "    df_ris[\n",
    "        df_ris[\"pm_id\"].duplicated(keep=False) & df_ris[\"pm_id\"].notnull()\n",
    "    ].sort_values([\"pm_id\", \"is_included\"], ascending=False)\n",
    ")\n",
    "\n",
    "print(\n",
    "    f\"There are {n_non_null_pm_id_duplicates} non-null PM ID duplicates in the dataset!\"\n",
    ")"
   ]
  },
  {
   "cell_type": "code",
   "execution_count": 36,
   "metadata": {
    "tags": []
   },
   "outputs": [
    {
     "data": {
      "text/html": [
       "<div>\n",
       "<style scoped>\n",
       "    .dataframe tbody tr th:only-of-type {\n",
       "        vertical-align: middle;\n",
       "    }\n",
       "\n",
       "    .dataframe tbody tr th {\n",
       "        vertical-align: top;\n",
       "    }\n",
       "\n",
       "    .dataframe thead th {\n",
       "        text-align: right;\n",
       "    }\n",
       "</style>\n",
       "<table border=\"1\" class=\"dataframe\">\n",
       "  <thead>\n",
       "    <tr style=\"text-align: right;\">\n",
       "      <th>is_rct_api</th>\n",
       "      <th>False</th>\n",
       "      <th>True</th>\n",
       "      <th>All</th>\n",
       "    </tr>\n",
       "    <tr>\n",
       "      <th>is_included</th>\n",
       "      <th></th>\n",
       "      <th></th>\n",
       "      <th></th>\n",
       "    </tr>\n",
       "  </thead>\n",
       "  <tbody>\n",
       "    <tr>\n",
       "      <th>False</th>\n",
       "      <td>80</td>\n",
       "      <td>25</td>\n",
       "      <td>105</td>\n",
       "    </tr>\n",
       "    <tr>\n",
       "      <th>True</th>\n",
       "      <td>39</td>\n",
       "      <td>24</td>\n",
       "      <td>63</td>\n",
       "    </tr>\n",
       "    <tr>\n",
       "      <th>All</th>\n",
       "      <td>119</td>\n",
       "      <td>49</td>\n",
       "      <td>168</td>\n",
       "    </tr>\n",
       "  </tbody>\n",
       "</table>\n",
       "</div>"
      ],
      "text/plain": [
       "is_rct_api   False  True  All\n",
       "is_included                  \n",
       "False           80    25  105\n",
       "True            39    24   63\n",
       "All            119    49  168"
      ]
     },
     "execution_count": 36,
     "metadata": {},
     "output_type": "execute_result"
    }
   ],
   "source": [
    "pd.crosstab(df_ris[\"is_included\"], df_ris[\"is_rct_api\"], margins=True)"
   ]
  },
  {
   "cell_type": "code",
   "execution_count": 37,
   "metadata": {
    "tags": []
   },
   "outputs": [
    {
     "data": {
      "text/html": [
       "<div>\n",
       "<style scoped>\n",
       "    .dataframe tbody tr th:only-of-type {\n",
       "        vertical-align: middle;\n",
       "    }\n",
       "\n",
       "    .dataframe tbody tr th {\n",
       "        vertical-align: top;\n",
       "    }\n",
       "\n",
       "    .dataframe thead th {\n",
       "        text-align: right;\n",
       "    }\n",
       "</style>\n",
       "<table border=\"1\" class=\"dataframe\">\n",
       "  <thead>\n",
       "    <tr style=\"text-align: right;\">\n",
       "      <th></th>\n",
       "      <th>type_of_reference</th>\n",
       "      <th>abstract</th>\n",
       "      <th>accession_number</th>\n",
       "      <th>authors</th>\n",
       "      <th>number</th>\n",
       "      <th>keywords</th>\n",
       "      <th>file_attachments1</th>\n",
       "      <th>language</th>\n",
       "      <th>notes</th>\n",
       "      <th>year</th>\n",
       "      <th>...</th>\n",
       "      <th>nct_id_db</th>\n",
       "      <th>pm_id_db</th>\n",
       "      <th>is_in_db_pm</th>\n",
       "      <th>is_in_db_ct</th>\n",
       "      <th>is_in_db_title</th>\n",
       "      <th>is_in_db</th>\n",
       "      <th>publication_types</th>\n",
       "      <th>is_rct_api</th>\n",
       "      <th>article_date_api</th>\n",
       "      <th>is_in_ggponc</th>\n",
       "    </tr>\n",
       "  </thead>\n",
       "  <tbody>\n",
       "  </tbody>\n",
       "</table>\n",
       "<p>0 rows × 53 columns</p>\n",
       "</div>"
      ],
      "text/plain": [
       "Empty DataFrame\n",
       "Columns: [type_of_reference, abstract, accession_number, authors, number, keywords, file_attachments1, language, notes, year, issn, start_page, short_title, secondary_title, title, url, volume, access_date, ris_id, path, author_address, date, name_of_database, doi, database_provider, alternate_title1, type_of_work, research_notes, pm_id, group, subgroup, is_included, is_excluded, exclusion_reason, is_rct_ris, publication_date, nct_id, cn_id, doi_original, pm_id_doi, pm_id_cn, nct_id_cn, pmc_id_cn, nct_id_db, pm_id_db, is_in_db_pm, is_in_db_ct, is_in_db_title, is_in_db, publication_types, is_rct_api, article_date_api, is_in_ggponc]\n",
       "Index: []\n",
       "\n",
       "[0 rows x 53 columns]"
      ]
     },
     "execution_count": 37,
     "metadata": {},
     "output_type": "execute_result"
    }
   ],
   "source": [
    "df_ris.query(\"is_included & is_rct_api & pm_id.isnull()\")"
   ]
  },
  {
   "cell_type": "markdown",
   "metadata": {},
   "source": [
    "### Marking evidence as relevant"
   ]
  },
  {
   "cell_type": "markdown",
   "metadata": {},
   "source": [
    "We consider everything that has been included OR that is in GGPONC as relevant:"
   ]
  },
  {
   "cell_type": "code",
   "execution_count": 38,
   "metadata": {
    "tags": []
   },
   "outputs": [
    {
     "data": {
      "text/html": [
       "<div>\n",
       "<style scoped>\n",
       "    .dataframe tbody tr th:only-of-type {\n",
       "        vertical-align: middle;\n",
       "    }\n",
       "\n",
       "    .dataframe tbody tr th {\n",
       "        vertical-align: top;\n",
       "    }\n",
       "\n",
       "    .dataframe thead th {\n",
       "        text-align: right;\n",
       "    }\n",
       "</style>\n",
       "<table border=\"1\" class=\"dataframe\">\n",
       "  <thead>\n",
       "    <tr style=\"text-align: right;\">\n",
       "      <th></th>\n",
       "      <th>pm_id</th>\n",
       "      <th>publication_date</th>\n",
       "      <th>is_included</th>\n",
       "      <th>is_rct_api</th>\n",
       "      <th>group</th>\n",
       "      <th>subgroup</th>\n",
       "    </tr>\n",
       "  </thead>\n",
       "  <tbody>\n",
       "    <tr>\n",
       "      <th>7</th>\n",
       "      <td>30827035</td>\n",
       "      <td>2019-03-01</td>\n",
       "      <td>False</td>\n",
       "      <td>False</td>\n",
       "      <td>excluded</td>\n",
       "      <td>ex_&lt;50%:proportion of HL not reported</td>\n",
       "    </tr>\n",
       "    <tr>\n",
       "      <th>1</th>\n",
       "      <td>29224502</td>\n",
       "      <td>2017-01-01</td>\n",
       "      <td>True</td>\n",
       "      <td>True</td>\n",
       "      <td>Included RCTs_HL only</td>\n",
       "      <td>first line, advanced (ECHELON-1)</td>\n",
       "    </tr>\n",
       "    <tr>\n",
       "      <th>0</th>\n",
       "      <td>29229324</td>\n",
       "      <td>2018-01-01</td>\n",
       "      <td>True</td>\n",
       "      <td>True</td>\n",
       "      <td>Included RCTs_HL only</td>\n",
       "      <td>first line_early stage, consolidation radiatio...</td>\n",
       "    </tr>\n",
       "    <tr>\n",
       "      <th>0</th>\n",
       "      <td>30220622</td>\n",
       "      <td>2018-01-01</td>\n",
       "      <td>False</td>\n",
       "      <td>True</td>\n",
       "      <td>excluded</td>\n",
       "      <td>ex_non randomised</td>\n",
       "    </tr>\n",
       "    <tr>\n",
       "      <th>1</th>\n",
       "      <td>30290903</td>\n",
       "      <td>2018-01-01</td>\n",
       "      <td>True</td>\n",
       "      <td>True</td>\n",
       "      <td>Included RCTs_HL only</td>\n",
       "      <td>first line, advanced</td>\n",
       "    </tr>\n",
       "    <tr>\n",
       "      <th>0</th>\n",
       "      <td>31525824</td>\n",
       "      <td>2020-01-01</td>\n",
       "      <td>True</td>\n",
       "      <td>False</td>\n",
       "      <td>included SRs_HL only</td>\n",
       "      <td>first line, all stages; Interim PET:prognosis</td>\n",
       "    </tr>\n",
       "    <tr>\n",
       "      <th>3</th>\n",
       "      <td>30166329</td>\n",
       "      <td>2018-01-01</td>\n",
       "      <td>True</td>\n",
       "      <td>False</td>\n",
       "      <td>Included RCTs_HL only</td>\n",
       "      <td>first line, advanced stage, PET</td>\n",
       "    </tr>\n",
       "    <tr>\n",
       "      <th>0</th>\n",
       "      <td>31112475</td>\n",
       "      <td>2019-01-01</td>\n",
       "      <td>True</td>\n",
       "      <td>False</td>\n",
       "      <td>Included RCTs_HL only</td>\n",
       "      <td>first line, early stage, PET</td>\n",
       "    </tr>\n",
       "    <tr>\n",
       "      <th>1</th>\n",
       "      <td>31498753</td>\n",
       "      <td>2019-01-01</td>\n",
       "      <td>True</td>\n",
       "      <td>True</td>\n",
       "      <td>Included RCTs_HL only</td>\n",
       "      <td>first line, early stage, PET</td>\n",
       "    </tr>\n",
       "  </tbody>\n",
       "</table>\n",
       "</div>"
      ],
      "text/plain": [
       "      pm_id publication_date  is_included  is_rct_api                  group  \\\n",
       "7  30827035       2019-03-01        False       False               excluded   \n",
       "1  29224502       2017-01-01         True        True  Included RCTs_HL only   \n",
       "0  29229324       2018-01-01         True        True  Included RCTs_HL only   \n",
       "0  30220622       2018-01-01        False        True               excluded   \n",
       "1  30290903       2018-01-01         True        True  Included RCTs_HL only   \n",
       "0  31525824       2020-01-01         True       False   included SRs_HL only   \n",
       "3  30166329       2018-01-01         True       False  Included RCTs_HL only   \n",
       "0  31112475       2019-01-01         True       False  Included RCTs_HL only   \n",
       "1  31498753       2019-01-01         True        True  Included RCTs_HL only   \n",
       "\n",
       "                                            subgroup  \n",
       "7              ex_<50%:proportion of HL not reported  \n",
       "1                   first line, advanced (ECHELON-1)  \n",
       "0  first line_early stage, consolidation radiatio...  \n",
       "0                                  ex_non randomised  \n",
       "1                               first line, advanced  \n",
       "0      first line, all stages; Interim PET:prognosis  \n",
       "3                    first line, advanced stage, PET  \n",
       "0                       first line, early stage, PET  \n",
       "1                       first line, early stage, PET  "
      ]
     },
     "execution_count": 38,
     "metadata": {},
     "output_type": "execute_result"
    }
   ],
   "source": [
    "df_ris.query(\"is_in_ggponc\")[\n",
    "    [\"pm_id\", \"publication_date\", \"is_included\", \"is_rct_api\", \"group\", \"subgroup\"]\n",
    "]"
   ]
  },
  {
   "cell_type": "code",
   "execution_count": 39,
   "metadata": {
    "tags": []
   },
   "outputs": [],
   "source": [
    "df_ris[\"is_relevant\"] = df_ris[\"is_included\"] | df_ris[\"is_in_ggponc\"]\n",
    "df_ris[\"is_not_relevant\"] = ~df_ris[\"is_relevant\"]"
   ]
  },
  {
   "cell_type": "code",
   "execution_count": 40,
   "metadata": {
    "tags": []
   },
   "outputs": [
    {
     "data": {
      "text/html": [
       "<div>\n",
       "<style scoped>\n",
       "    .dataframe tbody tr th:only-of-type {\n",
       "        vertical-align: middle;\n",
       "    }\n",
       "\n",
       "    .dataframe tbody tr th {\n",
       "        vertical-align: top;\n",
       "    }\n",
       "\n",
       "    .dataframe thead th {\n",
       "        text-align: right;\n",
       "    }\n",
       "</style>\n",
       "<table border=\"1\" class=\"dataframe\">\n",
       "  <thead>\n",
       "    <tr style=\"text-align: right;\">\n",
       "      <th>is_rct_api</th>\n",
       "      <th>False</th>\n",
       "      <th>True</th>\n",
       "      <th>All</th>\n",
       "    </tr>\n",
       "    <tr>\n",
       "      <th>is_relevant</th>\n",
       "      <th></th>\n",
       "      <th></th>\n",
       "      <th></th>\n",
       "    </tr>\n",
       "  </thead>\n",
       "  <tbody>\n",
       "    <tr>\n",
       "      <th>False</th>\n",
       "      <td>79</td>\n",
       "      <td>24</td>\n",
       "      <td>103</td>\n",
       "    </tr>\n",
       "    <tr>\n",
       "      <th>True</th>\n",
       "      <td>40</td>\n",
       "      <td>25</td>\n",
       "      <td>65</td>\n",
       "    </tr>\n",
       "    <tr>\n",
       "      <th>All</th>\n",
       "      <td>119</td>\n",
       "      <td>49</td>\n",
       "      <td>168</td>\n",
       "    </tr>\n",
       "  </tbody>\n",
       "</table>\n",
       "</div>"
      ],
      "text/plain": [
       "is_rct_api   False  True  All\n",
       "is_relevant                  \n",
       "False           79    24  103\n",
       "True            40    25   65\n",
       "All            119    49  168"
      ]
     },
     "execution_count": 40,
     "metadata": {},
     "output_type": "execute_result"
    }
   ],
   "source": [
    "pd.crosstab(df_ris[\"is_relevant\"], df_ris[\"is_rct_api\"], margins=True)"
   ]
  },
  {
   "cell_type": "markdown",
   "metadata": {},
   "source": [
    "### Manual Screening Results"
   ]
  },
  {
   "cell_type": "markdown",
   "metadata": {},
   "source": [
    "We also have the results of the manual screening available. Although these were added after the original screening, we parse them at this point to reduce code duplication:"
   ]
  },
  {
   "cell_type": "code",
   "execution_count": 41,
   "metadata": {
    "tags": []
   },
   "outputs": [],
   "source": [
    "df_manual = pd.read_csv(PATH_MANUAL_REVIEW)\n",
    "df_manual = (\n",
    "    df_manual.query(\"source in ['Pubmed', 'Civic']\")\n",
    "    .astype({\"pm_id\": \"Int64\"})\n",
    "    .rename(columns={\"Ein- / Ausschlussgrund\": \"reason\"})[\n",
    "        [\"pm_id\", \"publication_date\", \"reason\", \"is_included\"]\n",
    "    ]\n",
    ")\n",
    "df_manual[\"publication_date\"] = pd.to_datetime(df_manual[\"publication_date\"])\n",
    "df_manual[\"is_excluded\"] = ~df_manual[\"is_included\"]\n",
    "df_manual[\"is_relevant\"] = df_manual[\"is_included\"]\n",
    "df_manual[\"is_not_relevant\"] = df_manual[\"is_excluded\"]\n",
    "df_manual[\"exclusion_reason\"] = df_manual.apply(lambda row: row[\"reason\"] if row[\"is_excluded\"] else pd.NA, axis=1)  # type: ignore\n",
    "df_manual.drop(columns=[\"reason\"], inplace=True)\n",
    "\n",
    "# Since these records have been retrieved from the system before, we know that they are in the DB and that they are RCTs:\n",
    "df_manual[\"publication_types\"] = [[] for _ in range(len(df_manual))]\n",
    "df_manual[\"is_in_db\"] = True\n",
    "df_manual[\"is_rct_api\"] = True\n",
    "df_manual[\"is_in_ggponc\"] = False\n",
    "df_manual[\"screening_origin\"] = \"manual\""
   ]
  },
  {
   "cell_type": "code",
   "execution_count": 42,
   "metadata": {
    "tags": []
   },
   "outputs": [],
   "source": [
    "df_ris[\"screening_origin\"] = \"original\""
   ]
  },
  {
   "cell_type": "code",
   "execution_count": 43,
   "metadata": {
    "tags": []
   },
   "outputs": [],
   "source": [
    "df_ris = pd.concat([df_ris, df_manual])"
   ]
  },
  {
   "cell_type": "markdown",
   "metadata": {},
   "source": [
    "### Saving the output"
   ]
  },
  {
   "cell_type": "code",
   "execution_count": 44,
   "metadata": {
    "tags": []
   },
   "outputs": [
    {
     "data": {
      "text/plain": [
       "screening_origin  is_relevant  is_rct_api\n",
       "manual            False        True          11\n",
       "                  True         True           6\n",
       "original          False        False         79\n",
       "                               True          24\n",
       "                  True         False         40\n",
       "                               True          25\n",
       "dtype: int64"
      ]
     },
     "execution_count": 44,
     "metadata": {},
     "output_type": "execute_result"
    }
   ],
   "source": [
    "df_ris.groupby(['screening_origin', 'is_relevant', 'is_rct_api']).size()"
   ]
  },
  {
   "cell_type": "code",
   "execution_count": 45,
   "metadata": {
    "tags": []
   },
   "outputs": [],
   "source": [
    "from evaluation.parsing import save_parsed_ris_content"
   ]
  },
  {
   "cell_type": "code",
   "execution_count": 46,
   "metadata": {
    "tags": []
   },
   "outputs": [],
   "source": [
    "save_parsed_ris_content(\n",
    "    df=df_ris,\n",
    "    guideline_id=\"hodgkin-lymphom\",\n",
    "    guideline_name=\"Hodgkin's Lymphoma\",\n",
    "    csv_path=PATH_OUTPUT,\n",
    "    cols_additional=[\"is_rct_ris\"],\n",
    ")"
   ]
  },
  {
   "cell_type": "markdown",
   "metadata": {},
   "source": [
    "#### Sankey Diagram for thesis"
   ]
  },
  {
   "cell_type": "code",
   "execution_count": 47,
   "metadata": {
    "tags": []
   },
   "outputs": [],
   "source": [
    "df_ris_with_manual = df_ris"
   ]
  },
  {
   "cell_type": "code",
   "execution_count": 48,
   "metadata": {
    "tags": []
   },
   "outputs": [],
   "source": [
    "df_ris = df_ris.query(\"screening_origin == 'original'\")"
   ]
  },
  {
   "cell_type": "code",
   "execution_count": 49,
   "metadata": {
    "tags": []
   },
   "outputs": [
    {
     "data": {
      "text/plain": [
       "False    105\n",
       "True      63\n",
       "Name: is_included, dtype: int64"
      ]
     },
     "execution_count": 49,
     "metadata": {},
     "output_type": "execute_result"
    }
   ],
   "source": [
    "df_ris.is_included.value_counts()"
   ]
  },
  {
   "cell_type": "code",
   "execution_count": 50,
   "metadata": {
    "tags": []
   },
   "outputs": [
    {
     "data": {
      "text/plain": [
       "screening_origin  is_relevant  is_rct_api\n",
       "manual            False        True          11\n",
       "                  True         True           6\n",
       "original          False        False         71\n",
       "                               True          24\n",
       "                  True         False         38\n",
       "                               True          25\n",
       "Name: pm_id, dtype: int64"
      ]
     },
     "execution_count": 50,
     "metadata": {},
     "output_type": "execute_result"
    }
   ],
   "source": [
    "df_ris_with_manual.groupby(['screening_origin', 'is_relevant', 'is_rct_api'])['pm_id'].count()"
   ]
  },
  {
   "cell_type": "code",
   "execution_count": 51,
   "metadata": {
    "tags": []
   },
   "outputs": [],
   "source": [
    "relevant = df_ris.query(\"is_relevant\")\n",
    "relevant_rcts_api = relevant.query(\"is_rct_api\")\n",
    "relevant_other_api = relevant.query(\"~is_rct_api\")\n",
    "\n",
    "in_ggponc = df_ris.query(\"is_in_ggponc\")\n",
    "in_ggponc_rcts_api = in_ggponc.query(\"is_rct_api\")\n",
    "in_ggponc_other_api = in_ggponc.query(\"~is_rct_api\")\n",
    "\n",
    "inc = df_ris.query(\"is_included\")\n",
    "inc_ggponc = inc.query(\"is_in_ggponc\")\n",
    "inc_not_in_ggponc = df_ris.query(\"is_included & ~is_in_ggponc\")\n",
    "inc_not_in_ggponc_rcts_api = inc_not_in_ggponc.query(\"is_rct_api\")\n",
    "inc_not_in_ggponc_other_api = inc_not_in_ggponc.query(\"~is_rct_api\")\n",
    "\n",
    "unclear = df_ris.query(\"group == 'evtl included, nicht in Schlüsselfragen'\")\n",
    "unclear_ggponc = unclear.query(\"is_in_ggponc\")\n",
    "unclear_not_in_ggponc = unclear.query(\"~is_in_ggponc\")\n",
    "\n",
    "exc = df_ris.query(\"group == 'excluded'\")\n",
    "exc_ggponc = exc.query(\"is_in_ggponc\")\n",
    "exc_not_in_ggponc = exc.query(\"~is_in_ggponc\")"
   ]
  },
  {
   "cell_type": "code",
   "execution_count": 52,
   "metadata": {
    "tags": []
   },
   "outputs": [],
   "source": [
    "nodes = [\n",
    "    [(\"Full Text\\nScreened\", len(df_ris))],\n",
    "    [\n",
    "        (\"Excluded\", len(exc), {\"label_pos\": \"top\"}),\n",
    "        (\"Possibly\\nIncluded\\n(Not in RQ)\", len(unclear), {\"label_pos\": \"right\"}),\n",
    "        (\"Included\", len(inc), {\"label_pos\": \"bottom\"}),\n",
    "    ],\n",
    "    [\n",
    "        (\"Already\\ncited in CPG\", len(in_ggponc), {\"label_pos\": \"bottom\"}),\n",
    "        (\"Not\\nin CPG\", len(inc_not_in_ggponc), {\"label_pos\": \"bottom\"}),\n",
    "    ],\n",
    "    [\n",
    "        (\"RCTs\", len(relevant_rcts_api), {\"label_pos\": \"right\"}),\n",
    "        (\"Other\", len(relevant_other_api), {\"label_pos\": \"right\"}),\n",
    "    ],\n",
    "]"
   ]
  },
  {
   "cell_type": "code",
   "execution_count": 53,
   "metadata": {
    "tags": []
   },
   "outputs": [],
   "source": [
    "flows = [\n",
    "    (\"Full Text\\nScreened\", \"Excluded\", len(exc)),\n",
    "    (\"Full Text\\nScreened\", \"Possibly\\nIncluded\\n(Not in RQ)\", len(unclear)),\n",
    "    (\"Full Text\\nScreened\", \"Included\", len(inc)),\n",
    "    (\"Excluded\", \"Already\\ncited in CPG\", len(exc_ggponc)),\n",
    "    (\"Included\", \"Already\\ncited in CPG\", len(inc_ggponc)),\n",
    "    (\"Included\", \"Not\\nin CPG\", len(inc_not_in_ggponc)),\n",
    "    (\"Possibly\\nIncluded\\n(Not in RQ)\", \"Already\\ncited in CPG\", len(unclear_ggponc)),\n",
    "    (\"Already\\ncited in CPG\", \"RCTs\", len(in_ggponc_rcts_api)),\n",
    "    (\"Already\\ncited in CPG\", \"Other\", len(in_ggponc_other_api)),\n",
    "    (\"Not\\nin CPG\", \"RCTs\", len(inc_not_in_ggponc_rcts_api)),\n",
    "    (\"Not\\nin CPG\", \"Other\", len(inc_not_in_ggponc_other_api)),\n",
    "]"
   ]
  },
  {
   "cell_type": "code",
   "execution_count": 54,
   "metadata": {
    "tags": []
   },
   "outputs": [
    {
     "name": "stderr",
     "output_type": "stream",
     "text": [
      "/home/Florian.Borchert/miniconda3/envs/nge/lib/python3.10/site-packages/sankeyflow/sankeyflow.py:71: RuntimeWarning: invalid value encountered in scalar divide\n",
      "  value_scale = self.value / (self.height - self.flow_pad * (len(flows) - 1))\n",
      "posx and posy should be finite values\n",
      "posx and posy should be finite values\n",
      "posx and posy should be finite values\n",
      "posx and posy should be finite values\n",
      "posx and posy should be finite values\n",
      "posx and posy should be finite values\n",
      "posx and posy should be finite values\n",
      "posx and posy should be finite values\n",
      "posx and posy should be finite values\n",
      "posx and posy should be finite values\n",
      "posx and posy should be finite values\n",
      "posx and posy should be finite values\n",
      "posx and posy should be finite values\n",
      "posx and posy should be finite values\n",
      "posx and posy should be finite values\n",
      "posx and posy should be finite values\n",
      "posx and posy should be finite values\n",
      "posx and posy should be finite values\n",
      "posx and posy should be finite values\n",
      "posx and posy should be finite values\n",
      "posx and posy should be finite values\n",
      "posx and posy should be finite values\n",
      "posx and posy should be finite values\n",
      "posx and posy should be finite values\n",
      "posx and posy should be finite values\n"
     ]
    },
    {
     "data": {
      "image/png": "[encoded data removed]",
      "text/plain": [
       "<Figure size 551.181x340.649 with 1 Axes>"
      ]
     },
     "metadata": {},
     "output_type": "display_data"
    }
   ],
   "source": [
    "from sankeyflow import Sankey\n",
    "from evaluation.plotting import set_size\n",
    "import matplotlib.pyplot as plt\n",
    "\n",
    "#plt.style.use(\"../thesis.mplstyle\")\n",
    "\n",
    "fig, ax = plt.subplots(figsize=set_size(\"thesis\"), layout=\"constrained\")\n",
    "\n",
    "s = Sankey(\n",
    "    flow_color_mode=\"source\",\n",
    "    nodes=nodes,\n",
    "    flows=flows,\n",
    "    node_pad_y_min=0.3,\n",
    "    align_y=\"tree\",\n",
    "    flow_color_mode_alpha=0.8,\n",
    ")\n",
    "s.draw(ax=ax)\n",
    "\n",
    "fig.savefig(PATH_LATEX_PLOT_OUTPUT / \"sankey_unique_per_step_reconstructed.pdf\")"
   ]
  },
  {
   "cell_type": "code",
   "execution_count": null,
   "metadata": {},
   "outputs": [],
   "source": []
  }
 ],
 "metadata": {
  "kernelspec": {
   "display_name": "Python [conda env:nge]",
   "language": "python",
   "name": "conda-env-nge-py"
  },
  "language_info": {
   "codemirror_mode": {
    "name": "ipython",
    "version": 3
   },
   "file_extension": ".py",
   "mimetype": "text/x-python",
   "name": "python",
   "nbconvert_exporter": "python",
   "pygments_lexer": "ipython3",
   "version": "3.10.12"
  }
 },
 "nbformat": 4,
 "nbformat_minor": 4
}
