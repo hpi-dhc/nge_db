{
 "cells": [
  {
   "cell_type": "markdown",
   "metadata": {},
   "source": [
    "# Extracting evidence that is already cited in GGPONC"
   ]
  },
  {
   "cell_type": "code",
   "execution_count": 1,
   "metadata": {
    "tags": []
   },
   "outputs": [],
   "source": [
    "import sys\n",
    "sys.path.insert(0, '..')"
   ]
  },
  {
   "cell_type": "code",
   "execution_count": 2,
   "metadata": {
    "tags": []
   },
   "outputs": [],
   "source": [
    "import pandas as pd"
   ]
  },
  {
   "cell_type": "code",
   "execution_count": 3,
   "metadata": {
    "tags": []
   },
   "outputs": [],
   "source": [
    "ggponc_release_eval = 'v2.1_2023_03_30'"
   ]
  },
  {
   "cell_type": "code",
   "execution_count": 4,
   "metadata": {
    "tags": []
   },
   "outputs": [],
   "source": [
    "df_ggponc_translations = pd.read_csv(\n",
    "    f\"../data/ggponc/{ggponc_release_eval}/guideline_translations.csv\"\n",
    ").rename(columns={\"id\": \"guideline_id\"})"
   ]
  },
  {
   "cell_type": "code",
   "execution_count": 5,
   "metadata": {
    "tags": []
   },
   "outputs": [],
   "source": [
    "df_ggponc_literature = pd.read_csv(\n",
    "    f\"../data/ggponc/{ggponc_release_eval}/xml/literature_index.tsv\", sep=\"\\t\"\n",
    ").rename(columns={\"title\": \"german_name\"})"
   ]
  },
  {
   "cell_type": "code",
   "execution_count": 6,
   "metadata": {
    "tags": []
   },
   "outputs": [],
   "source": [
    "df_ggponc = df_ggponc_literature.merge(df_ggponc_translations, on=\"german_name\")"
   ]
  },
  {
   "cell_type": "code",
   "execution_count": 7,
   "metadata": {
    "tags": []
   },
   "outputs": [],
   "source": [
    "df_ggponc[\"title\"] = df_ggponc[\"id\"].str.extract(\"<i>(.+)<\\/i>\")"
   ]
  },
  {
   "cell_type": "code",
   "execution_count": 8,
   "metadata": {
    "tags": []
   },
   "outputs": [],
   "source": [
    "df_ggponc[\"pm_id\"] = (\n",
    "    df_ggponc[\"id\"]\n",
    "    .str.extract(r\"https://pubmed.ncbi.nlm.nih.gov/(\\d{8})\")\n",
    "    .astype(\"Int64\")\n",
    ")"
   ]
  },
  {
   "cell_type": "markdown",
   "metadata": {},
   "source": [
    "### Retrieving IDs"
   ]
  },
  {
   "cell_type": "code",
   "execution_count": 9,
   "metadata": {
    "tags": []
   },
   "outputs": [],
   "source": [
    "df_ggponc[\"nct_id\"] = pd.NA\n",
    "df_ggponc[\"doi\"] = pd.NA\n",
    "df_ggponc[\"cn_id\"] = pd.NA"
   ]
  },
  {
   "cell_type": "code",
   "execution_count": 10,
   "metadata": {
    "tags": []
   },
   "outputs": [],
   "source": [
    "from integration.config import load_config\n",
    "from integration.db import get_engine\n",
    "from sqlalchemy.orm import sessionmaker\n",
    "\n",
    "cfg = load_config(\"../config_v2.1_2023_03_30.ini\")\n",
    "engine = get_engine(cfg['DB']['url'])\n",
    "session = sessionmaker(bind=engine)()"
   ]
  },
  {
   "cell_type": "code",
   "execution_count": 11,
   "metadata": {
    "tags": []
   },
   "outputs": [],
   "source": [
    "from integration.citation_utils import (\n",
    "    get_title_to_id_mapping_pubmed,\n",
    "    get_title_to_id_mapping_clinicaltrials,\n",
    ")\n",
    "\n",
    "df_pm = get_title_to_id_mapping_pubmed(session)\n",
    "df_ct = get_title_to_id_mapping_clinicaltrials(session)"
   ]
  },
  {
   "cell_type": "code",
   "execution_count": 12,
   "metadata": {
    "tags": []
   },
   "outputs": [
    {
     "data": {
      "application/vnd.jupyter.widget-view+json": {
       "model_id": "1d0515fb365644d1b6ab79beb6ed6586",
       "version_major": 2,
       "version_minor": 0
      },
      "text/plain": [
       "Retrieving available identifiers:   0%|          | 0/26149 [00:00<?, ?it/s]"
      ]
     },
     "metadata": {},
     "output_type": "display_data"
    }
   ],
   "source": [
    "from tqdm.auto import tqdm\n",
    "from integration.citation_utils import retrieve_all_identifiers\n",
    "import os\n",
    "\n",
    "tqdm.pandas(desc=\"Retrieving available identifiers\")\n",
    "\n",
    "df_ggponc = df_ggponc.progress_apply(  # type: ignore\n",
    "    lambda row: retrieve_all_identifiers(\n",
    "        row=row,\n",
    "        entrez_email=os.environ.get(\"PUBMED_USER\"),\n",
    "        entrez_api_key=os.environ.get(\"PUBMED_API_KEY\"),\n",
    "        doi_pm_id_cache=\"../data/literature/doi_to_pm_id.json\",\n",
    "        cn_pm_id_cache=\"../data/literature/cn_id_to_pm_id.json\",\n",
    "        title_nct_id_cache=\"../data/literature/fuzzy_title_to_nct_id.json\",\n",
    "        title_pm_id_cache=\"../data/literature/fuzzy_title_to_pm_id.json\",\n",
    "        df_pm=df_pm,\n",
    "        df_ct=df_ct,\n",
    "    ),\n",
    "    axis=1,\n",
    ")\n",
    "df_ggponc = df_ggponc.astype(\n",
    "    {col: \"Int64\" for col in df_ggponc.columns if \"pm_id\" in col.lower()}\n",
    ")"
   ]
  },
  {
   "cell_type": "code",
   "execution_count": 13,
   "metadata": {
    "tags": []
   },
   "outputs": [
    {
     "data": {
      "text/html": [
       "<div>\n",
       "<style scoped>\n",
       "    .dataframe tbody tr th:only-of-type {\n",
       "        vertical-align: middle;\n",
       "    }\n",
       "\n",
       "    .dataframe tbody tr th {\n",
       "        vertical-align: top;\n",
       "    }\n",
       "\n",
       "    .dataframe thead th {\n",
       "        text-align: right;\n",
       "    }\n",
       "</style>\n",
       "<table border=\"1\" class=\"dataframe\">\n",
       "  <thead>\n",
       "    <tr style=\"text-align: right;\">\n",
       "      <th></th>\n",
       "      <th>id</th>\n",
       "      <th>german_name</th>\n",
       "      <th>num</th>\n",
       "      <th>ref_id</th>\n",
       "      <th>ref</th>\n",
       "      <th>guideline_id</th>\n",
       "      <th>english_name</th>\n",
       "      <th>title</th>\n",
       "      <th>pm_id</th>\n",
       "      <th>nct_id</th>\n",
       "      <th>doi</th>\n",
       "      <th>cn_id</th>\n",
       "      <th>pm_id_doi</th>\n",
       "      <th>pm_id_cn</th>\n",
       "      <th>nct_id_cn</th>\n",
       "      <th>pmc_id_cn</th>\n",
       "      <th>nct_id_db</th>\n",
       "      <th>pm_id_db</th>\n",
       "    </tr>\n",
       "  </thead>\n",
       "  <tbody>\n",
       "    <tr>\n",
       "      <th>22</th>\n",
       "      <td>Perea-Milla Lopez, E., Minarro-Del Moral, R. M...</td>\n",
       "      <td>Mundhöhlenkarzinom</td>\n",
       "      <td>23</td>\n",
       "      <td>117432</td>\n",
       "      <td>22</td>\n",
       "      <td>mundhoehlenkarzinom</td>\n",
       "      <td>Oral cavity cancer</td>\n",
       "      <td>Lifestyles, environmental and phenotypic facto...</td>\n",
       "      <td>12771984</td>\n",
       "      <td>None</td>\n",
       "      <td>&lt;NA&gt;</td>\n",
       "      <td>&lt;NA&gt;</td>\n",
       "      <td>&lt;NA&gt;</td>\n",
       "      <td>&lt;NA&gt;</td>\n",
       "      <td>None</td>\n",
       "      <td>None</td>\n",
       "      <td>None</td>\n",
       "      <td>12771984</td>\n",
       "    </tr>\n",
       "    <tr>\n",
       "      <th>26</th>\n",
       "      <td>Perea-Milla Lopez, E., Minarro-Del Moral, R. M...</td>\n",
       "      <td>Mundhöhlenkarzinom</td>\n",
       "      <td>27</td>\n",
       "      <td>153991</td>\n",
       "      <td>22</td>\n",
       "      <td>mundhoehlenkarzinom</td>\n",
       "      <td>Oral cavity cancer</td>\n",
       "      <td>Lifestyles, environmental and phenotypic facto...</td>\n",
       "      <td>12771984</td>\n",
       "      <td>None</td>\n",
       "      <td>&lt;NA&gt;</td>\n",
       "      <td>&lt;NA&gt;</td>\n",
       "      <td>&lt;NA&gt;</td>\n",
       "      <td>&lt;NA&gt;</td>\n",
       "      <td>None</td>\n",
       "      <td>None</td>\n",
       "      <td>None</td>\n",
       "      <td>12771984</td>\n",
       "    </tr>\n",
       "    <tr>\n",
       "      <th>44</th>\n",
       "      <td>Chung, C. H., Zhang, Q., Kong, C. S., Harris, ...</td>\n",
       "      <td>Mundhöhlenkarzinom</td>\n",
       "      <td>45</td>\n",
       "      <td>117795</td>\n",
       "      <td>13</td>\n",
       "      <td>mundhoehlenkarzinom</td>\n",
       "      <td>Oral cavity cancer</td>\n",
       "      <td>p16 protein expression and human papillomaviru...</td>\n",
       "      <td>25267748</td>\n",
       "      <td>None</td>\n",
       "      <td>&lt;NA&gt;</td>\n",
       "      <td>&lt;NA&gt;</td>\n",
       "      <td>&lt;NA&gt;</td>\n",
       "      <td>&lt;NA&gt;</td>\n",
       "      <td>None</td>\n",
       "      <td>None</td>\n",
       "      <td>None</td>\n",
       "      <td>25267748</td>\n",
       "    </tr>\n",
       "    <tr>\n",
       "      <th>76</th>\n",
       "      <td>Syrjanen, S., Lodi, G., von Bultzingslowen, I....</td>\n",
       "      <td>Mundhöhlenkarzinom</td>\n",
       "      <td>77</td>\n",
       "      <td>117849</td>\n",
       "      <td>67</td>\n",
       "      <td>mundhoehlenkarzinom</td>\n",
       "      <td>Oral cavity cancer</td>\n",
       "      <td>Human papillomaviruses in oral carcinoma and o...</td>\n",
       "      <td>21382139</td>\n",
       "      <td>None</td>\n",
       "      <td>&lt;NA&gt;</td>\n",
       "      <td>&lt;NA&gt;</td>\n",
       "      <td>&lt;NA&gt;</td>\n",
       "      <td>&lt;NA&gt;</td>\n",
       "      <td>None</td>\n",
       "      <td>None</td>\n",
       "      <td>None</td>\n",
       "      <td>21382139</td>\n",
       "    </tr>\n",
       "    <tr>\n",
       "      <th>86</th>\n",
       "      <td>Humphris, G. M., Freeman, R., Clarke, H. M., &lt;...</td>\n",
       "      <td>Mundhöhlenkarzinom</td>\n",
       "      <td>87</td>\n",
       "      <td>154027</td>\n",
       "      <td>53</td>\n",
       "      <td>mundhoehlenkarzinom</td>\n",
       "      <td>Oral cavity cancer</td>\n",
       "      <td>Risk perception of oral cancer in smokers atte...</td>\n",
       "      <td>15380170</td>\n",
       "      <td>None</td>\n",
       "      <td>&lt;NA&gt;</td>\n",
       "      <td>&lt;NA&gt;</td>\n",
       "      <td>&lt;NA&gt;</td>\n",
       "      <td>&lt;NA&gt;</td>\n",
       "      <td>None</td>\n",
       "      <td>None</td>\n",
       "      <td>None</td>\n",
       "      <td>15380170</td>\n",
       "    </tr>\n",
       "    <tr>\n",
       "      <th>...</th>\n",
       "      <td>...</td>\n",
       "      <td>...</td>\n",
       "      <td>...</td>\n",
       "      <td>...</td>\n",
       "      <td>...</td>\n",
       "      <td>...</td>\n",
       "      <td>...</td>\n",
       "      <td>...</td>\n",
       "      <td>...</td>\n",
       "      <td>...</td>\n",
       "      <td>...</td>\n",
       "      <td>...</td>\n",
       "      <td>...</td>\n",
       "      <td>...</td>\n",
       "      <td>...</td>\n",
       "      <td>...</td>\n",
       "      <td>...</td>\n",
       "      <td>...</td>\n",
       "    </tr>\n",
       "    <tr>\n",
       "      <th>26098</th>\n",
       "      <td>Judson, I., Morden, J. P., Kilburn, L., Leahy,...</td>\n",
       "      <td>Adulte Weichgewebesarkome</td>\n",
       "      <td>742</td>\n",
       "      <td>304426</td>\n",
       "      <td>742</td>\n",
       "      <td>adulte-weichgewebesarkome</td>\n",
       "      <td>Adult soft tissue sarcomas</td>\n",
       "      <td>Cediranib in patients with alveolar soft-part ...</td>\n",
       "      <td>31160249</td>\n",
       "      <td>None</td>\n",
       "      <td>&lt;NA&gt;</td>\n",
       "      <td>&lt;NA&gt;</td>\n",
       "      <td>&lt;NA&gt;</td>\n",
       "      <td>&lt;NA&gt;</td>\n",
       "      <td>None</td>\n",
       "      <td>None</td>\n",
       "      <td>None</td>\n",
       "      <td>31160249</td>\n",
       "    </tr>\n",
       "    <tr>\n",
       "      <th>26100</th>\n",
       "      <td>Wilky, B. A., Trucco, M. M., Subhawong, T. K.,...</td>\n",
       "      <td>Adulte Weichgewebesarkome</td>\n",
       "      <td>744</td>\n",
       "      <td>304428</td>\n",
       "      <td>744</td>\n",
       "      <td>adulte-weichgewebesarkome</td>\n",
       "      <td>Adult soft tissue sarcomas</td>\n",
       "      <td>Axitinib plus pembrolizumab in patients with a...</td>\n",
       "      <td>31078463</td>\n",
       "      <td>None</td>\n",
       "      <td>&lt;NA&gt;</td>\n",
       "      <td>&lt;NA&gt;</td>\n",
       "      <td>&lt;NA&gt;</td>\n",
       "      <td>&lt;NA&gt;</td>\n",
       "      <td>None</td>\n",
       "      <td>None</td>\n",
       "      <td>None</td>\n",
       "      <td>31078463</td>\n",
       "    </tr>\n",
       "    <tr>\n",
       "      <th>26103</th>\n",
       "      <td>Schoffski, P., Sufliarsky, J., Gelderblom, H.,...</td>\n",
       "      <td>Adulte Weichgewebesarkome</td>\n",
       "      <td>747</td>\n",
       "      <td>304431</td>\n",
       "      <td>747</td>\n",
       "      <td>adulte-weichgewebesarkome</td>\n",
       "      <td>Adult soft tissue sarcomas</td>\n",
       "      <td>Crizotinib in patients with advanced, inoperab...</td>\n",
       "      <td>29669701</td>\n",
       "      <td>None</td>\n",
       "      <td>&lt;NA&gt;</td>\n",
       "      <td>&lt;NA&gt;</td>\n",
       "      <td>&lt;NA&gt;</td>\n",
       "      <td>&lt;NA&gt;</td>\n",
       "      <td>None</td>\n",
       "      <td>None</td>\n",
       "      <td>None</td>\n",
       "      <td>29669701</td>\n",
       "    </tr>\n",
       "    <tr>\n",
       "      <th>26106</th>\n",
       "      <td>Bissler, J. J., Kingswood, J. C., Radzikowska,...</td>\n",
       "      <td>Adulte Weichgewebesarkome</td>\n",
       "      <td>750</td>\n",
       "      <td>304435</td>\n",
       "      <td>750</td>\n",
       "      <td>adulte-weichgewebesarkome</td>\n",
       "      <td>Adult soft tissue sarcomas</td>\n",
       "      <td>Everolimus for angiomyolipoma associated with ...</td>\n",
       "      <td>23312829</td>\n",
       "      <td>None</td>\n",
       "      <td>&lt;NA&gt;</td>\n",
       "      <td>&lt;NA&gt;</td>\n",
       "      <td>&lt;NA&gt;</td>\n",
       "      <td>&lt;NA&gt;</td>\n",
       "      <td>None</td>\n",
       "      <td>None</td>\n",
       "      <td>None</td>\n",
       "      <td>23312829</td>\n",
       "    </tr>\n",
       "    <tr>\n",
       "      <th>26120</th>\n",
       "      <td>Chevreau, C., Le Cesne, A., Ray-Coquard, I., I...</td>\n",
       "      <td>Adulte Weichgewebesarkome</td>\n",
       "      <td>764</td>\n",
       "      <td>304451</td>\n",
       "      <td>765</td>\n",
       "      <td>adulte-weichgewebesarkome</td>\n",
       "      <td>Adult soft tissue sarcomas</td>\n",
       "      <td>Sorafenib in patients with progressive epithel...</td>\n",
       "      <td>23589078</td>\n",
       "      <td>None</td>\n",
       "      <td>&lt;NA&gt;</td>\n",
       "      <td>&lt;NA&gt;</td>\n",
       "      <td>&lt;NA&gt;</td>\n",
       "      <td>&lt;NA&gt;</td>\n",
       "      <td>None</td>\n",
       "      <td>None</td>\n",
       "      <td>None</td>\n",
       "      <td>23589078</td>\n",
       "    </tr>\n",
       "  </tbody>\n",
       "</table>\n",
       "<p>8610 rows × 18 columns</p>\n",
       "</div>"
      ],
      "text/plain": [
       "                                                      id  \\\n",
       "22     Perea-Milla Lopez, E., Minarro-Del Moral, R. M...   \n",
       "26     Perea-Milla Lopez, E., Minarro-Del Moral, R. M...   \n",
       "44     Chung, C. H., Zhang, Q., Kong, C. S., Harris, ...   \n",
       "76     Syrjanen, S., Lodi, G., von Bultzingslowen, I....   \n",
       "86     Humphris, G. M., Freeman, R., Clarke, H. M., <...   \n",
       "...                                                  ...   \n",
       "26098  Judson, I., Morden, J. P., Kilburn, L., Leahy,...   \n",
       "26100  Wilky, B. A., Trucco, M. M., Subhawong, T. K.,...   \n",
       "26103  Schoffski, P., Sufliarsky, J., Gelderblom, H.,...   \n",
       "26106  Bissler, J. J., Kingswood, J. C., Radzikowska,...   \n",
       "26120  Chevreau, C., Le Cesne, A., Ray-Coquard, I., I...   \n",
       "\n",
       "                     german_name  num  ref_id  ref               guideline_id  \\\n",
       "22            Mundhöhlenkarzinom   23  117432   22        mundhoehlenkarzinom   \n",
       "26            Mundhöhlenkarzinom   27  153991   22        mundhoehlenkarzinom   \n",
       "44            Mundhöhlenkarzinom   45  117795   13        mundhoehlenkarzinom   \n",
       "76            Mundhöhlenkarzinom   77  117849   67        mundhoehlenkarzinom   \n",
       "86            Mundhöhlenkarzinom   87  154027   53        mundhoehlenkarzinom   \n",
       "...                          ...  ...     ...  ...                        ...   \n",
       "26098  Adulte Weichgewebesarkome  742  304426  742  adulte-weichgewebesarkome   \n",
       "26100  Adulte Weichgewebesarkome  744  304428  744  adulte-weichgewebesarkome   \n",
       "26103  Adulte Weichgewebesarkome  747  304431  747  adulte-weichgewebesarkome   \n",
       "26106  Adulte Weichgewebesarkome  750  304435  750  adulte-weichgewebesarkome   \n",
       "26120  Adulte Weichgewebesarkome  764  304451  765  adulte-weichgewebesarkome   \n",
       "\n",
       "                     english_name  \\\n",
       "22             Oral cavity cancer   \n",
       "26             Oral cavity cancer   \n",
       "44             Oral cavity cancer   \n",
       "76             Oral cavity cancer   \n",
       "86             Oral cavity cancer   \n",
       "...                           ...   \n",
       "26098  Adult soft tissue sarcomas   \n",
       "26100  Adult soft tissue sarcomas   \n",
       "26103  Adult soft tissue sarcomas   \n",
       "26106  Adult soft tissue sarcomas   \n",
       "26120  Adult soft tissue sarcomas   \n",
       "\n",
       "                                                   title     pm_id nct_id  \\\n",
       "22     Lifestyles, environmental and phenotypic facto...  12771984   None   \n",
       "26     Lifestyles, environmental and phenotypic facto...  12771984   None   \n",
       "44     p16 protein expression and human papillomaviru...  25267748   None   \n",
       "76     Human papillomaviruses in oral carcinoma and o...  21382139   None   \n",
       "86     Risk perception of oral cancer in smokers atte...  15380170   None   \n",
       "...                                                  ...       ...    ...   \n",
       "26098  Cediranib in patients with alveolar soft-part ...  31160249   None   \n",
       "26100  Axitinib plus pembrolizumab in patients with a...  31078463   None   \n",
       "26103  Crizotinib in patients with advanced, inoperab...  29669701   None   \n",
       "26106  Everolimus for angiomyolipoma associated with ...  23312829   None   \n",
       "26120  Sorafenib in patients with progressive epithel...  23589078   None   \n",
       "\n",
       "        doi cn_id  pm_id_doi  pm_id_cn nct_id_cn pmc_id_cn nct_id_db  pm_id_db  \n",
       "22     <NA>  <NA>       <NA>      <NA>      None      None      None  12771984  \n",
       "26     <NA>  <NA>       <NA>      <NA>      None      None      None  12771984  \n",
       "44     <NA>  <NA>       <NA>      <NA>      None      None      None  25267748  \n",
       "76     <NA>  <NA>       <NA>      <NA>      None      None      None  21382139  \n",
       "86     <NA>  <NA>       <NA>      <NA>      None      None      None  15380170  \n",
       "...     ...   ...        ...       ...       ...       ...       ...       ...  \n",
       "26098  <NA>  <NA>       <NA>      <NA>      None      None      None  31160249  \n",
       "26100  <NA>  <NA>       <NA>      <NA>      None      None      None  31078463  \n",
       "26103  <NA>  <NA>       <NA>      <NA>      None      None      None  29669701  \n",
       "26106  <NA>  <NA>       <NA>      <NA>      None      None      None  23312829  \n",
       "26120  <NA>  <NA>       <NA>      <NA>      None      None      None  23589078  \n",
       "\n",
       "[8610 rows x 18 columns]"
      ]
     },
     "execution_count": 13,
     "metadata": {},
     "output_type": "execute_result"
    }
   ],
   "source": [
    "df_ggponc.dropna(subset=\"pm_id\")"
   ]
  },
  {
   "cell_type": "code",
   "execution_count": 14,
   "metadata": {
    "tags": []
   },
   "outputs": [
    {
     "data": {
      "text/plain": [
       "'../data/screening/ggponc_v2.1_2023_03_30_literature.csv'"
      ]
     },
     "execution_count": 14,
     "metadata": {},
     "output_type": "execute_result"
    }
   ],
   "source": [
    "out_file = f\"../data/screening/ggponc_{ggponc_release_eval}_literature.csv\"\n",
    "df_ggponc[[\"guideline_id\", \"title\", \"pm_id\"]].to_csv(\n",
    "    out_file, index=False\n",
    ")\n",
    "out_file"
   ]
  },
  {
   "cell_type": "code",
   "execution_count": null,
   "metadata": {},
   "outputs": [],
   "source": []
  }
 ],
 "metadata": {
  "kernelspec": {
   "display_name": "Python [conda env:nge]",
   "language": "python",
   "name": "conda-env-nge-py"
  },
  "language_info": {
   "codemirror_mode": {
    "name": "ipython",
    "version": 3
   },
   "file_extension": ".py",
   "mimetype": "text/x-python",
   "name": "python",
   "nbconvert_exporter": "python",
   "pygments_lexer": "ipython3",
   "version": "3.10.12"
  }
 },
 "nbformat": 4,
 "nbformat_minor": 4
}
