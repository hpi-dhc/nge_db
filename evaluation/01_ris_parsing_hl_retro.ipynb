{
 "cells": [
  {
   "cell_type": "markdown",
   "metadata": {},
   "source": [
    "# Parsing the retrospective Hodgkin-Lymphoma screening data"
   ]
  },
  {
   "cell_type": "code",
   "execution_count": null,
   "metadata": {},
   "outputs": [],
   "source": [
    "import sys\n",
    "sys.path.insert(0, '..')"
   ]
  },
  {
   "cell_type": "markdown",
   "metadata": {},
   "source": [
    "### RIS file parsing"
   ]
  },
  {
   "cell_type": "code",
   "execution_count": 1,
   "metadata": {},
   "outputs": [],
   "source": [
    "from pathlib import Path\n",
    "\n",
    "PATH_PREFIX = \"hodgkin_lymphoma_retro\"\n",
    "GUIDELINE_ID = \"hodgkin-lymphom\"\n",
    "\n",
    "PATH_GGPONC_LITERATURE = Path(\"../data/screening/ggponc_v2.1_2023_03_30_literature.csv\")\n",
    "PATH_RIS = Path(f\"../data/screening/{PATH_PREFIX}/\")\n",
    "PATH_OUTPUT = Path(f\"../data/screening/{PATH_PREFIX}/ris_with_matched_ids.csv\")\n",
    "\n",
    "PATH_LATEX_PLOT_OUTPUT = Path(\n",
    "    f\"../thesis/from_python/figures/experiments/{PATH_PREFIX}/\"\n",
    ")\n",
    "PATH_LATEX_PLOT_OUTPUT.mkdir(parents=True, exist_ok=True)"
   ]
  },
  {
   "cell_type": "code",
   "execution_count": 2,
   "metadata": {},
   "outputs": [],
   "source": [
    "import pandas as pd\n",
    "from evaluation.parsing import parse_kg_ris_file\n",
    "import rispy"
   ]
  },
  {
   "cell_type": "code",
   "execution_count": 3,
   "metadata": {},
   "outputs": [],
   "source": [
    "df_ris = (\n",
    "    pd.concat(\n",
    "        [parse_kg_ris_file(f, rispy.RisParser()) for f in PATH_RIS.rglob(\"*.txt\")]\n",
    "    )\n",
    "    .rename(columns={\"custom7\": \"pm_id\", \"custom2\": \"pmc_id\"})\n",
    "    .reset_index(drop=True)\n",
    ")"
   ]
  },
  {
   "cell_type": "code",
   "execution_count": 4,
   "metadata": {},
   "outputs": [],
   "source": [
    "from evaluation.parsing import parse_ris_date_to_datetime\n",
    "\n",
    "df_ris[\"publication_date\"] = parse_ris_date_to_datetime(\n",
    "    df_ris, col_year=\"year\", col_date=\"date\"\n",
    ")"
   ]
  },
  {
   "cell_type": "code",
   "execution_count": 5,
   "metadata": {},
   "outputs": [],
   "source": [
    "df_ris[\"subgroup\"] = df_ris[\"path\"].apply(lambda p: p.stem)"
   ]
  },
  {
   "cell_type": "code",
   "execution_count": 6,
   "metadata": {},
   "outputs": [],
   "source": [
    "df_ris[\"is_rct_ris\"] = df_ris[\"subgroup\"].str.strip() == \"included_rcts\""
   ]
  },
  {
   "cell_type": "code",
   "execution_count": 7,
   "metadata": {},
   "outputs": [],
   "source": [
    "df_ris[\"is_included\"] = df_ris[\"subgroup\"].apply(\n",
    "    lambda g: g.strip() in [\"included_rcts\", \"included_srs\"]\n",
    ")"
   ]
  },
  {
   "cell_type": "code",
   "execution_count": 8,
   "metadata": {},
   "outputs": [],
   "source": [
    "df_ris[\"exclusion_reason\"] = df_ris.apply(\n",
    "    lambda row: str(row[\"subgroup\"]) if not row[\"is_included\"] else None, axis=1\n",
    ")"
   ]
  },
  {
   "cell_type": "code",
   "execution_count": 9,
   "metadata": {},
   "outputs": [],
   "source": [
    "import urllib\n",
    "\n",
    "df_ris[\"url\"] = df_ris[\"url\"].apply(\n",
    "    lambda s: urllib.parse.unquote(s, encoding=\"utf-8\", errors=\"replace\")\n",
    "    if pd.notnull(s)\n",
    "    else \"\"\n",
    ")"
   ]
  },
  {
   "cell_type": "markdown",
   "metadata": {},
   "source": [
    "### Extracting identifiers"
   ]
  },
  {
   "cell_type": "code",
   "execution_count": 10,
   "metadata": {},
   "outputs": [],
   "source": [
    "from evaluation.parsing import REGEX"
   ]
  },
  {
   "cell_type": "code",
   "execution_count": 11,
   "metadata": {},
   "outputs": [],
   "source": [
    "df_ris[\"nct_id\"] = pd.NA\n",
    "df_ris[\"cn_id\"] = pd.NA\n",
    "df_ris[\"doi_original\"] = df_ris[\"doi\"]\n",
    "df_ris[\"doi\"] = pd.NA"
   ]
  },
  {
   "cell_type": "code",
   "execution_count": 12,
   "metadata": {},
   "outputs": [],
   "source": [
    "df_ris[\"pm_id\"] = (\n",
    "    df_ris[\"pm_id\"]\n",
    "    .fillna(df_ris[\"accession_number\"].str.extract(REGEX[\"pm_id_start_end\"])[0])\n",
    "    .astype(\"Int64\")\n",
    ")"
   ]
  },
  {
   "cell_type": "code",
   "execution_count": 13,
   "metadata": {},
   "outputs": [],
   "source": [
    "df_ris[\"pm_id\"] = df_ris[\"pm_id\"].fillna(\n",
    "    df_ris[\"url\"].str.extract(REGEX[\"pm_id_from_query\"])[0]\n",
    ")"
   ]
  },
  {
   "cell_type": "code",
   "execution_count": 14,
   "metadata": {},
   "outputs": [],
   "source": [
    "df_ris[\"doi\"] = df_ris[\"doi_original\"].str.extract(REGEX[\"doi\"])"
   ]
  },
  {
   "cell_type": "code",
   "execution_count": 15,
   "metadata": {},
   "outputs": [],
   "source": [
    "df_ris[\"doi\"] = df_ris[\"doi\"].fillna(\n",
    "    df_ris[\"url\"].str.extract(REGEX[\"doi_from_query\"])[0]\n",
    ")"
   ]
  },
  {
   "cell_type": "code",
   "execution_count": 16,
   "metadata": {},
   "outputs": [],
   "source": [
    "df_ris[\"cn_id\"] = df_ris[\"url\"].str.extract(REGEX[\"cn_id\"])[0]"
   ]
  },
  {
   "cell_type": "markdown",
   "metadata": {},
   "source": [
    "We should also rename the ID column to reflect that it comes from the RIS files:"
   ]
  },
  {
   "cell_type": "code",
   "execution_count": 17,
   "metadata": {},
   "outputs": [],
   "source": [
    "df_ris.rename(columns={\"id\": \"ris_id\"}, inplace=True)"
   ]
  },
  {
   "cell_type": "markdown",
   "metadata": {},
   "source": [
    "### Identifier lookups"
   ]
  },
  {
   "cell_type": "code",
   "execution_count": 18,
   "metadata": {},
   "outputs": [],
   "source": [
    "from integration.config import load_config\n",
    "from integration.db import get_engine\n",
    "from sqlalchemy.orm import sessionmaker\n",
    "\n",
    "cfg = load_config(\"../config_v2.1_2023_03_30.ini\")\n",
    "engine = get_engine(cfg['DB']['url'])\n",
    "session = sessionmaker(bind=engine)()"
   ]
  },
  {
   "cell_type": "code",
   "execution_count": 19,
   "metadata": {},
   "outputs": [],
   "source": [
    "from integration.citation_utils import (\n",
    "    get_title_to_id_mapping_pubmed,\n",
    "    get_title_to_id_mapping_clinicaltrials,\n",
    ")\n",
    "\n",
    "df_pm = get_title_to_id_mapping_pubmed(session)\n",
    "df_ct = get_title_to_id_mapping_clinicaltrials(session)"
   ]
  },
  {
   "cell_type": "code",
   "execution_count": 20,
   "metadata": {},
   "outputs": [
    {
     "data": {
      "application/vnd.jupyter.widget-view+json": {
       "model_id": "44831d5c0303449388725bc87f494976",
       "version_major": 2,
       "version_minor": 0
      },
      "text/plain": [
       "Retrieving available identifiers:   0%|          | 0/47 [00:00<?, ?it/s]"
      ]
     },
     "metadata": {},
     "output_type": "display_data"
    }
   ],
   "source": [
    "from tqdm.auto import tqdm\n",
    "from integration.citation_utils import retrieve_all_identifiers\n",
    "import os\n",
    "\n",
    "tqdm.pandas(desc=\"Retrieving available identifiers\")\n",
    "\n",
    "df_ris = df_ris.progress_apply(  # type: ignore\n",
    "    lambda row: retrieve_all_identifiers(\n",
    "        row=row,\n",
    "        entrez_email=os.environ.get(\"PUBMED_USER\"),\n",
    "        entrez_api_key=os.environ.get(\"PUBMED_API_KEY\"),\n",
    "        doi_pm_id_cache=\"../data/literature/doi_to_pm_id.json\",\n",
    "        cn_pm_id_cache=\"../data/literature/cn_id_to_pm_id.json\",\n",
    "        title_nct_id_cache=\"../data/literature/fuzzy_title_to_nct_id.json\",\n",
    "        title_pm_id_cache=\"../data/literature/fuzzy_title_to_pm_id.json\",\n",
    "        df_pm=df_pm,\n",
    "        df_ct=df_ct,\n",
    "    ),\n",
    "    axis=1,\n",
    ")\n",
    "df_ris = df_ris.astype(\n",
    "    {col: \"Int64\" for col in df_ris.columns if \"pm_id\" in col.lower()}\n",
    ")"
   ]
  },
  {
   "cell_type": "markdown",
   "metadata": {},
   "source": [
    "Potential mislabellings:"
   ]
  },
  {
   "cell_type": "code",
   "execution_count": 21,
   "metadata": {},
   "outputs": [
    {
     "data": {
      "text/html": [
       "<div>\n",
       "<style scoped>\n",
       "    .dataframe tbody tr th:only-of-type {\n",
       "        vertical-align: middle;\n",
       "    }\n",
       "\n",
       "    .dataframe tbody tr th {\n",
       "        vertical-align: top;\n",
       "    }\n",
       "\n",
       "    .dataframe thead th {\n",
       "        text-align: right;\n",
       "    }\n",
       "</style>\n",
       "<table border=\"1\" class=\"dataframe\">\n",
       "  <thead>\n",
       "    <tr style=\"text-align: right;\">\n",
       "      <th></th>\n",
       "      <th>title</th>\n",
       "      <th>ris_id</th>\n",
       "      <th>pm_id</th>\n",
       "      <th>nct_id</th>\n",
       "      <th>doi</th>\n",
       "      <th>cn_id</th>\n",
       "      <th>pm_id_doi</th>\n",
       "      <th>pm_id_cn</th>\n",
       "      <th>nct_id_cn</th>\n",
       "      <th>pmc_id_cn</th>\n",
       "      <th>nct_id_db</th>\n",
       "      <th>pm_id_db</th>\n",
       "    </tr>\n",
       "  </thead>\n",
       "  <tbody>\n",
       "  </tbody>\n",
       "</table>\n",
       "</div>"
      ],
      "text/plain": [
       "Empty DataFrame\n",
       "Columns: [title, ris_id, pm_id, nct_id, doi, cn_id, pm_id_doi, pm_id_cn, nct_id_cn, pmc_id_cn, nct_id_db, pm_id_db]\n",
       "Index: []"
      ]
     },
     "execution_count": 21,
     "metadata": {},
     "output_type": "execute_result"
    }
   ],
   "source": [
    "df_ris[\n",
    "    [\n",
    "        \"title\",\n",
    "        \"ris_id\",\n",
    "        \"pm_id\",\n",
    "        \"nct_id\",\n",
    "        \"doi\",\n",
    "        \"cn_id\",\n",
    "        \"pm_id_doi\",\n",
    "        \"pm_id_cn\",\n",
    "        \"nct_id_cn\",\n",
    "        \"pmc_id_cn\",\n",
    "        \"nct_id_db\",\n",
    "        \"pm_id_db\",\n",
    "    ]\n",
    "].query(\n",
    "    \"pm_id_db.notnull() & pm_id.notnull() & pm_id != pm_id_db\"\n",
    ")  # .merge(df_pm, left_on=\"pm_id\", right_on=\"pm_id\", suffixes=(\"_ris\", \"_db\"))  # to get correct title"
   ]
  },
  {
   "cell_type": "markdown",
   "metadata": {},
   "source": [
    "### Check if evidence is in the database"
   ]
  },
  {
   "cell_type": "code",
   "execution_count": 22,
   "metadata": {},
   "outputs": [
    {
     "data": {
      "application/vnd.jupyter.widget-view+json": {
       "model_id": "fddf3cacec5c49c8b418954b8c75b9bb",
       "version_major": 2,
       "version_minor": 0
      },
      "text/plain": [
       "Checking of evidence is in database:   0%|          | 0/47 [00:00<?, ?it/s]"
      ]
     },
     "metadata": {},
     "output_type": "display_data"
    }
   ],
   "source": [
    "from evaluation.matching import is_in_db\n",
    "from tqdm.auto import tqdm\n",
    "\n",
    "tqdm.pandas(desc=\"Checking of evidence is in database\")\n",
    "\n",
    "db_pm_ids = set(df_pm[\"pm_id\"])\n",
    "db_nct_ids = set(df_ct[\"nct_id\"])\n",
    "\n",
    "df_ris = df_ris.progress_apply(\n",
    "    lambda row: is_in_db(row=row, db_pm_ids=db_pm_ids, db_nct_ids=db_nct_ids), axis=1\n",
    ")"
   ]
  },
  {
   "cell_type": "markdown",
   "metadata": {},
   "source": [
    "### Retrieving Publication Types & Date"
   ]
  },
  {
   "cell_type": "code",
   "execution_count": 23,
   "metadata": {},
   "outputs": [
    {
     "data": {
      "application/vnd.jupyter.widget-view+json": {
       "model_id": "a1d0ab3a55644e1d9affdd7e3c1b15da",
       "version_major": 2,
       "version_minor": 0
      },
      "text/plain": [
       "Fetching article types:   0%|          | 0/47 [00:00<?, ?it/s]"
      ]
     },
     "metadata": {},
     "output_type": "display_data"
    }
   ],
   "source": [
    "from tqdm.auto import tqdm\n",
    "import os\n",
    "from integration.citation_utils import pm_id_to_publication_types\n",
    "\n",
    "tqdm.pandas(desc=\"Fetching article types\")\n",
    "\n",
    "df_ris[\"publication_types\"] = df_ris[\"pm_id\"].progress_apply(\n",
    "    lambda pm_id: pm_id_to_publication_types(\n",
    "        pm_id=pm_id,\n",
    "        email=os.environ.get(\"PUBMED_USER\"),\n",
    "        api_key=os.environ.get(\"PUBMED_API_KEY\"),\n",
    "        cache_path=\"../data/literature/pm_id_to_entrez_xml.json\",\n",
    "    )\n",
    ")"
   ]
  },
  {
   "cell_type": "code",
   "execution_count": 24,
   "metadata": {},
   "outputs": [],
   "source": [
    "from integration.citation_utils import set_rct_flag\n",
    "\n",
    "df_ris = df_ris.apply(set_rct_flag, axis=1)"
   ]
  },
  {
   "cell_type": "code",
   "execution_count": 25,
   "metadata": {},
   "outputs": [
    {
     "data": {
      "application/vnd.jupyter.widget-view+json": {
       "model_id": "7dcfddfb43dc4ccbb7a747c5e5f00357",
       "version_major": 2,
       "version_minor": 0
      },
      "text/plain": [
       "Fetching article dates:   0%|          | 0/47 [00:00<?, ?it/s]"
      ]
     },
     "metadata": {},
     "output_type": "display_data"
    },
    {
     "name": "stdout",
     "output_type": "stream",
     "text": [
      "Couldn't find article date for 27007004\n",
      "Couldn't find article date for 27332902\n",
      "Couldn't find article date for 27650181\n",
      "Couldn't find article date for 27316375\n",
      "Couldn't find article date for 26482577\n"
     ]
    }
   ],
   "source": [
    "from integration.citation_utils import pm_id_to_publication_date\n",
    "\n",
    "tqdm.pandas(desc=\"Fetching article dates\")\n",
    "\n",
    "df_ris[\"article_date_api\"] = pd.to_datetime(\n",
    "    df_ris[\"pm_id\"].progress_apply(\n",
    "        lambda pm_id: pm_id_to_publication_date(\n",
    "            pm_id=pm_id,\n",
    "            email=os.environ.get(\"PUBMED_USER\"),\n",
    "            api_key=os.environ.get(\"PUBMED_API_KEY\"),\n",
    "            cache_path=\"../data/literature/pm_id_to_entrez_xml.json\",\n",
    "        )\n",
    "    )\n",
    ")"
   ]
  },
  {
   "cell_type": "markdown",
   "metadata": {},
   "source": [
    "### Presence in GGPONC"
   ]
  },
  {
   "cell_type": "code",
   "execution_count": 26,
   "metadata": {},
   "outputs": [
    {
     "data": {
      "application/vnd.jupyter.widget-view+json": {
       "model_id": "f579699de4cc4af38b04ab4727de297a",
       "version_major": 2,
       "version_minor": 0
      },
      "text/plain": [
       "Checking for presence in GGPONC:   0%|          | 0/47 [00:00<?, ?it/s]"
      ]
     },
     "metadata": {},
     "output_type": "display_data"
    }
   ],
   "source": [
    "from evaluation.matching import is_in_ggponc\n",
    "from tqdm.auto import tqdm\n",
    "\n",
    "df_ggponc = (\n",
    "    pd.read_csv(PATH_GGPONC_LITERATURE)\n",
    "    .astype({\"pm_id\": \"Int64\"})\n",
    "    .query(\"guideline_id == @GUIDELINE_ID\")\n",
    ")\n",
    "ggponc_pm_ids = set(df_ggponc[\"pm_id\"].dropna())\n",
    "ggponc_titles = set(df_ggponc[\"title\"])\n",
    "\n",
    "tqdm.pandas(desc=\"Checking for presence in GGPONC\")\n",
    "df_ris = df_ris.progress_apply(\n",
    "    lambda row: is_in_ggponc(\n",
    "        row=row, ggponc_pm_ids=ggponc_pm_ids, ggponc_titles=ggponc_titles\n",
    "    ),\n",
    "    axis=1,\n",
    ")"
   ]
  },
  {
   "cell_type": "markdown",
   "metadata": {},
   "source": [
    "### Preparing final dataframe"
   ]
  },
  {
   "cell_type": "markdown",
   "metadata": {},
   "source": [
    "For the final analyses, we need to deduplicate the data:"
   ]
  },
  {
   "cell_type": "code",
   "execution_count": 27,
   "metadata": {},
   "outputs": [],
   "source": [
    "df_ris.sort_values(\n",
    "    [\"title\", \"pm_id\", \"nct_id\", \"cn_id\", \"doi\", \"is_included\"], inplace=True\n",
    ")"
   ]
  },
  {
   "cell_type": "code",
   "execution_count": 28,
   "metadata": {},
   "outputs": [],
   "source": [
    "df_ris.drop_duplicates(\n",
    "    [\"title\", \"pm_id\", \"nct_id\", \"cn_id\", \"doi\"], keep=\"last\", inplace=True\n",
    ")"
   ]
  },
  {
   "cell_type": "code",
   "execution_count": 29,
   "metadata": {},
   "outputs": [
    {
     "name": "stdout",
     "output_type": "stream",
     "text": [
      "There are 0 non-null PM ID duplicates in the dataset!\n"
     ]
    }
   ],
   "source": [
    "n_non_null_pm_id_duplicates = len(\n",
    "    df_ris[\n",
    "        df_ris[\"pm_id\"].duplicated(keep=False) & df_ris[\"pm_id\"].notnull()\n",
    "    ].sort_values([\"pm_id\", \"is_included\"], ascending=False)\n",
    ")\n",
    "\n",
    "print(\n",
    "    f\"There are {n_non_null_pm_id_duplicates} non-null PM ID duplicates in the dataset!\"\n",
    ")"
   ]
  },
  {
   "cell_type": "code",
   "execution_count": 30,
   "metadata": {},
   "outputs": [
    {
     "data": {
      "text/html": [
       "<div>\n",
       "<style scoped>\n",
       "    .dataframe tbody tr th:only-of-type {\n",
       "        vertical-align: middle;\n",
       "    }\n",
       "\n",
       "    .dataframe tbody tr th {\n",
       "        vertical-align: top;\n",
       "    }\n",
       "\n",
       "    .dataframe thead th {\n",
       "        text-align: right;\n",
       "    }\n",
       "</style>\n",
       "<table border=\"1\" class=\"dataframe\">\n",
       "  <thead>\n",
       "    <tr style=\"text-align: right;\">\n",
       "      <th>is_rct_api</th>\n",
       "      <th>False</th>\n",
       "      <th>True</th>\n",
       "      <th>All</th>\n",
       "    </tr>\n",
       "    <tr>\n",
       "      <th>is_included</th>\n",
       "      <th></th>\n",
       "      <th></th>\n",
       "      <th></th>\n",
       "    </tr>\n",
       "  </thead>\n",
       "  <tbody>\n",
       "    <tr>\n",
       "      <th>False</th>\n",
       "      <td>26</td>\n",
       "      <td>3</td>\n",
       "      <td>29</td>\n",
       "    </tr>\n",
       "    <tr>\n",
       "      <th>True</th>\n",
       "      <td>9</td>\n",
       "      <td>8</td>\n",
       "      <td>17</td>\n",
       "    </tr>\n",
       "    <tr>\n",
       "      <th>All</th>\n",
       "      <td>35</td>\n",
       "      <td>11</td>\n",
       "      <td>46</td>\n",
       "    </tr>\n",
       "  </tbody>\n",
       "</table>\n",
       "</div>"
      ],
      "text/plain": [
       "is_rct_api   False  True  All\n",
       "is_included                  \n",
       "False           26     3   29\n",
       "True             9     8   17\n",
       "All             35    11   46"
      ]
     },
     "execution_count": 30,
     "metadata": {},
     "output_type": "execute_result"
    }
   ],
   "source": [
    "pd.crosstab(df_ris[\"is_included\"], df_ris[\"is_rct_api\"], margins=True)"
   ]
  },
  {
   "cell_type": "code",
   "execution_count": 31,
   "metadata": {},
   "outputs": [
    {
     "data": {
      "text/html": [
       "<div>\n",
       "<style scoped>\n",
       "    .dataframe tbody tr th:only-of-type {\n",
       "        vertical-align: middle;\n",
       "    }\n",
       "\n",
       "    .dataframe tbody tr th {\n",
       "        vertical-align: top;\n",
       "    }\n",
       "\n",
       "    .dataframe thead th {\n",
       "        text-align: right;\n",
       "    }\n",
       "</style>\n",
       "<table border=\"1\" class=\"dataframe\">\n",
       "  <thead>\n",
       "    <tr style=\"text-align: right;\">\n",
       "      <th></th>\n",
       "      <th>type_of_reference</th>\n",
       "      <th>authors</th>\n",
       "      <th>pm_id</th>\n",
       "      <th>name_of_database</th>\n",
       "      <th>database_provider</th>\n",
       "      <th>number</th>\n",
       "      <th>alternate_title1</th>\n",
       "      <th>keywords</th>\n",
       "      <th>language</th>\n",
       "      <th>type_of_work</th>\n",
       "      <th>...</th>\n",
       "      <th>nct_id_db</th>\n",
       "      <th>pm_id_db</th>\n",
       "      <th>is_in_db_pm</th>\n",
       "      <th>is_in_db_ct</th>\n",
       "      <th>is_in_db_title</th>\n",
       "      <th>is_in_db</th>\n",
       "      <th>publication_types</th>\n",
       "      <th>is_rct_api</th>\n",
       "      <th>article_date_api</th>\n",
       "      <th>is_in_ggponc</th>\n",
       "    </tr>\n",
       "  </thead>\n",
       "  <tbody>\n",
       "  </tbody>\n",
       "</table>\n",
       "<p>0 rows × 52 columns</p>\n",
       "</div>"
      ],
      "text/plain": [
       "Empty DataFrame\n",
       "Columns: [type_of_reference, authors, pm_id, name_of_database, database_provider, number, alternate_title1, keywords, language, type_of_work, year, issn, start_page, short_title, secondary_title, title, url, volume, ris_id, abstract, accession_number, file_attachments1, author_address, doi, notes, path, pmc_id, date, edition, original_publication, publication_date, subgroup, is_rct_ris, is_included, exclusion_reason, nct_id, cn_id, doi_original, pm_id_doi, pm_id_cn, nct_id_cn, pmc_id_cn, nct_id_db, pm_id_db, is_in_db_pm, is_in_db_ct, is_in_db_title, is_in_db, publication_types, is_rct_api, article_date_api, is_in_ggponc]\n",
       "Index: []\n",
       "\n",
       "[0 rows x 52 columns]"
      ]
     },
     "execution_count": 31,
     "metadata": {},
     "output_type": "execute_result"
    }
   ],
   "source": [
    "df_ris.query(\"is_included & is_rct_api & pm_id.isnull()\")"
   ]
  },
  {
   "cell_type": "markdown",
   "metadata": {},
   "source": [
    "We mark every record that has been identified as being in or relevant to a previous version of the CPG as being in GGPONC:"
   ]
  },
  {
   "cell_type": "code",
   "execution_count": 32,
   "metadata": {},
   "outputs": [],
   "source": [
    "df_ris[\"is_in_ggponc\"] = df_ris[\"is_in_ggponc\"] | (\n",
    "    df_ris[\"subgroup\"] == \"previous_version_of_ll\"\n",
    ")"
   ]
  },
  {
   "cell_type": "markdown",
   "metadata": {},
   "source": [
    "We then consider every included record or every one that has been marked as being in GGPONC as relevant:"
   ]
  },
  {
   "cell_type": "code",
   "execution_count": 33,
   "metadata": {},
   "outputs": [],
   "source": [
    "df_ris[\"is_relevant\"] = df_ris[\"is_included\"] | df_ris[\"is_in_ggponc\"]\n",
    "df_ris[\"is_not_relevant\"] = ~df_ris[\"is_relevant\"]"
   ]
  },
  {
   "cell_type": "markdown",
   "metadata": {},
   "source": [
    "Finally, for compatibility with the other data sets, we set the screening origin to 'original':"
   ]
  },
  {
   "cell_type": "code",
   "execution_count": 34,
   "metadata": {},
   "outputs": [],
   "source": [
    "df_ris[\"screening_origin\"] = \"original\""
   ]
  },
  {
   "cell_type": "markdown",
   "metadata": {},
   "source": [
    "### Saving the output"
   ]
  },
  {
   "cell_type": "code",
   "execution_count": 35,
   "metadata": {},
   "outputs": [],
   "source": [
    "from evaluation.parsing import save_parsed_ris_content"
   ]
  },
  {
   "cell_type": "code",
   "execution_count": 36,
   "metadata": {},
   "outputs": [],
   "source": [
    "save_parsed_ris_content(\n",
    "    df=df_ris,\n",
    "    guideline_id=\"hodgkin-lymphom\",\n",
    "    guideline_name=\"Hodgkin's Lymphoma\",\n",
    "    csv_path=PATH_OUTPUT,\n",
    "    cols_additional=[\"is_rct_ris\"],\n",
    ")"
   ]
  },
  {
   "cell_type": "markdown",
   "metadata": {},
   "source": [
    "#### Sankey Diagram for thesis"
   ]
  },
  {
   "cell_type": "code",
   "execution_count": 37,
   "metadata": {},
   "outputs": [],
   "source": [
    "relevant = df_ris.query(\"is_relevant\")\n",
    "relevant_in_ggponc = relevant.query(\"is_in_ggponc\")\n",
    "relevant_in_ggponc_rcts_api = relevant_in_ggponc.query(\"is_rct_api\")\n",
    "relevant_in_ggponc_other_api = relevant_in_ggponc.query(\"~is_rct_api\")\n",
    "relevant_not_in_ggponc = relevant.query(\"~is_in_ggponc\")\n",
    "relevant_not_in_ggponc_rcts_api = relevant_not_in_ggponc.query(\"is_rct_api\")\n",
    "relevant_not_in_ggponc_other_api = relevant_not_in_ggponc.query(\"~is_rct_api\")\n",
    "\n",
    "relevant_rcts = relevant.query(\"is_rct_api\")\n",
    "relevant_other = relevant.query(\"~is_rct_api\")\n",
    "\n",
    "inc = df_ris.query(\"is_included\")\n",
    "inc_ggponc = inc.query(\"is_in_ggponc\")\n",
    "inc_not_in_ggponc = inc.query(\"~is_in_ggponc\")\n",
    "inc_not_in_ggponc_rcts_api = inc_not_in_ggponc.query(\"is_rct_api\")\n",
    "inc_not_in_ggponc_other_api = inc_not_in_ggponc.query(\"~is_rct_api\")\n",
    "\n",
    "exc_abstract = df_ris.query(\"subgroup == 'excluded_abstract'\")\n",
    "exc_abstract_in_ggponc = exc_abstract.query(\"is_in_ggponc\")\n",
    "exc_abstract_not_in_ggponc = exc_abstract.query(\"~is_in_ggponc\")\n",
    "\n",
    "exc_trial_registries = df_ris.query(\"subgroup == 'excluded_trial_registries'\")\n",
    "exc_trial_registries_in_ggponc = exc_trial_registries.query(\"is_in_ggponc\")\n",
    "exc_trial_registries_not_in_ggponc = exc_trial_registries.query(\"~is_in_ggponc\")\n",
    "\n",
    "prev = df_ris.query(\"subgroup == 'previous_version_of_ll'\")\n",
    "prev_in_ggponc = prev.query(\"is_in_ggponc\")\n",
    "prev_not_in_ggponc = prev.query(\"~is_in_ggponc\")\n",
    "prev_not_in_ggponc_rcts_api = prev_not_in_ggponc.query(\"is_rct_api\")\n",
    "prev_not_in_ggponc_other_api = prev_not_in_ggponc.query(\"~is_rct_api\")\n",
    "\n",
    "in_ggponc = df_ris.query(\"is_in_ggponc\")\n",
    "in_ggponc_rcts_api = in_ggponc.query(\"is_rct_api\")\n",
    "in_ggponc_other_api = in_ggponc.query(\"~is_rct_api\")"
   ]
  },
  {
   "cell_type": "code",
   "execution_count": 38,
   "metadata": {},
   "outputs": [],
   "source": [
    "nodes = [\n",
    "    [(\"Screened\", len(df_ris))],\n",
    "    [\n",
    "        (\"Excluded (Abstract)\", len(exc_abstract), {\"label_pos\": \"right\"}),\n",
    "        (\n",
    "            \"Excluded (Trial Registries)\",\n",
    "            len(exc_trial_registries),\n",
    "            {\"label_pos\": \"right\"},\n",
    "        ),\n",
    "        (\"Previous\\nCPG Version\", len(prev), {\"label_pos\": \"bottom\"}),\n",
    "        (\"Included\", len(inc), {\"label_pos\": \"bottom\"}),\n",
    "    ],\n",
    "    [\n",
    "        (\"Already cited\\nin CPG\", len(relevant_in_ggponc), {\"label_pos\": \"top\"}),\n",
    "        (\"Not\\nin CPG\", len(relevant_not_in_ggponc), {\"label_pos\": \"bottom\"}),\n",
    "    ],\n",
    "    [\n",
    "        (\"RCTs\", len(relevant_rcts), {\"label_pos\": \"right\"}),\n",
    "        (\"Other\", len(relevant_other), {\"label_pos\": \"right\"}),\n",
    "    ],\n",
    "]"
   ]
  },
  {
   "cell_type": "code",
   "execution_count": 39,
   "metadata": {},
   "outputs": [],
   "source": [
    "flows = [\n",
    "    (\"Screened\", \"Excluded (Abstract)\", len(exc_abstract)),\n",
    "    (\"Screened\", \"Excluded (Trial Registries)\", len(exc_trial_registries)),\n",
    "    (\"Screened\", \"Previous\\nCPG Version\", len(prev)),\n",
    "    (\"Screened\", \"Included\", len(inc)),\n",
    "    (\"Excluded (Abstract)\", \"Already cited\\nin CPG\", len(exc_abstract_in_ggponc)),\n",
    "    (\n",
    "        \"Excluded (Trial Registries)\",\n",
    "        \"Already cited\\nin CPG\",\n",
    "        len(exc_trial_registries_in_ggponc),\n",
    "    ),\n",
    "    (\"Previous\\nCPG Version\", \"Already cited\\nin CPG\", len(prev_in_ggponc)),\n",
    "    (\"Previous\\nCPG Version\", \"Not\\nin CPG\", len(prev_not_in_ggponc)),\n",
    "    (\"Included\", \"Already cited\\nin CPG\", len(inc_ggponc)),\n",
    "    (\"Included\", \"Not\\nin CPG\", len(inc_not_in_ggponc)),\n",
    "    (\"Already cited\\nin CPG\", \"RCTs\", len(relevant_in_ggponc_rcts_api)),\n",
    "    (\"Already cited\\nin CPG\", \"Other\", len(relevant_in_ggponc_other_api)),\n",
    "    (\n",
    "        \"Not\\nin CPG\",\n",
    "        \"RCTs\",\n",
    "        len(inc_not_in_ggponc_rcts_api) + len(prev_not_in_ggponc_rcts_api),\n",
    "    ),\n",
    "    (\n",
    "        \"Not\\nin CPG\",\n",
    "        \"Other\",\n",
    "        len(inc_not_in_ggponc_other_api) + len(prev_not_in_ggponc_other_api),\n",
    "    ),\n",
    "]"
   ]
  },
  {
   "cell_type": "code",
   "execution_count": 40,
   "metadata": {},
   "outputs": [
    {
     "data": {
      "image/png": "[encoded data removed]",
      "text/plain": [
       "<Figure size 551.181x340.649 with 1 Axes>"
      ]
     },
     "metadata": {},
     "output_type": "display_data"
    }
   ],
   "source": [
    "from sankeyflow import Sankey\n",
    "from evaluation.plotting import set_size\n",
    "import matplotlib.pyplot as plt\n",
    "\n",
    "plt.style.use(\"../thesis.mplstyle\")\n",
    "\n",
    "fig, ax = plt.subplots(figsize=set_size(\"thesis\"), layout=\"constrained\")\n",
    "\n",
    "s = Sankey(\n",
    "    flow_color_mode=\"source\",\n",
    "    nodes=nodes,\n",
    "    flows=flows,\n",
    "    node_pad_y_min=0.3,\n",
    "    align_y=\"tree\",\n",
    "    flow_color_mode_alpha=0.8,\n",
    ")\n",
    "s.draw(ax=ax)\n",
    "\n",
    "fig.savefig(PATH_LATEX_PLOT_OUTPUT / \"sankey_unique_per_step_reconstructed.pdf\")"
   ]
  }
 ],
 "metadata": {
  "kernelspec": {
   "display_name": "Python 3 (ipykernel)",
   "language": "python",
   "name": "python3"
  },
  "language_info": {
   "codemirror_mode": {
    "name": "ipython",
    "version": 3
   },
   "file_extension": ".py",
   "mimetype": "text/x-python",
   "name": "python",
   "nbconvert_exporter": "python",
   "pygments_lexer": "ipython3",
   "version": "3.8.18"
  }
 },
 "nbformat": 4,
 "nbformat_minor": 4
}
