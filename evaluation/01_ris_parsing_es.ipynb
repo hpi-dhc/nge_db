{
 "cells": [
  {
   "cell_type": "markdown",
   "metadata": {},
   "source": [
    "# Parsing the Esophageal Carcinoma screening data"
   ]
  },
  {
   "cell_type": "code",
   "execution_count": 1,
   "metadata": {
    "tags": []
   },
   "outputs": [],
   "source": [
    "import sys\n",
    "sys.path.insert(0, '..')"
   ]
  },
  {
   "cell_type": "markdown",
   "metadata": {},
   "source": [
    "### RIS file parsing"
   ]
  },
  {
   "cell_type": "code",
   "execution_count": 2,
   "metadata": {
    "tags": []
   },
   "outputs": [],
   "source": [
    "from pathlib import Path\n",
    "\n",
    "PATH_PREFIX = \"esophagus\"\n",
    "GUIDELINE_ID = \"oesophaguskarzinom\"\n",
    "\n",
    "PATH_GGPONC_LITERATURE = Path(\"../data/screening/ggponc_v2.1_2023_03_30_literature.csv\")\n",
    "PATH_RIS = Path(f\"../data/screening/{PATH_PREFIX}/\")\n",
    "PATH_MANUAL_REVIEW = Path(f\"../data/screening/{PATH_PREFIX}/manual_review.csv\")\n",
    "PATH_OUTPUT = Path(f\"../data/screening/{PATH_PREFIX}/ris_with_matched_ids.csv\")\n",
    "\n",
    "PATH_LATEX_PLOT_OUTPUT = Path(\n",
    "    f\"../thesis/from_python/figures/experiments/{PATH_PREFIX}/\"\n",
    ")\n",
    "PATH_LATEX_PLOT_OUTPUT.mkdir(parents=True, exist_ok=True)"
   ]
  },
  {
   "cell_type": "code",
   "execution_count": 3,
   "metadata": {
    "tags": []
   },
   "outputs": [],
   "source": [
    "from copy import deepcopy\n",
    "import pandas as pd\n",
    "import rispy\n",
    "from evaluation.parsing import parse_kg_ris_file\n",
    "\n",
    "mapping = deepcopy(rispy.TAG_KEY_MAPPING)\n",
    "mapping[\"IP\"] = \"ip\"\n",
    "mapping[\"DP\"] = \"date_published\"\n",
    "\n",
    "kg_ris_parser = rispy.RisParser(mapping=mapping)\n",
    "kg_ris_parser.START_TAG = \"ID\""
   ]
  },
  {
   "cell_type": "code",
   "execution_count": 4,
   "metadata": {
    "tags": []
   },
   "outputs": [],
   "source": [
    "df_ris = pd.concat(\n",
    "    [parse_kg_ris_file(f, kg_ris_parser) for f in PATH_RIS.rglob(\"*.txt\")]\n",
    ")"
   ]
  },
  {
   "cell_type": "markdown",
   "metadata": {},
   "source": [
    "### Metadata Cleaning"
   ]
  },
  {
   "cell_type": "code",
   "execution_count": 5,
   "metadata": {
    "tags": []
   },
   "outputs": [],
   "source": [
    "df_ris[\"exclusion_reason\"] = (\n",
    "    df_ris[\"path\"]\n",
    "    .apply(lambda p: p.stem)\n",
    "    .str.replace(r\"(ÖsoCa_AG\\d{1,2}_)\", \"\", regex=True)\n",
    "    .str.replace(r\"(_\\d{1,4}_RIS)\", \"\", regex=True)\n",
    "    .str.replace(\".txt\", \"\", regex=False)\n",
    ")"
   ]
  },
  {
   "cell_type": "code",
   "execution_count": 6,
   "metadata": {
    "tags": []
   },
   "outputs": [],
   "source": [
    "df_ris[\"rq\"] = df_ris[\"path\"].apply(lambda p: p.parent.name)"
   ]
  },
  {
   "cell_type": "code",
   "execution_count": 7,
   "metadata": {
    "tags": []
   },
   "outputs": [],
   "source": [
    "df_ris[\"exclusion_reason\"] = (\n",
    "    df_ris[\"exclusion_reason\"]\n",
    "    .str.replace(\"TIAB1_include_gesamtOhneDuplikate\", \"TIAB1_include\")\n",
    "    .str.replace(\"FULLTEXT_exclude_kein Volltext\", \"FULLTEXT_exclude_Kein Volltext\")\n",
    "    .str.replace(\"searchResult_Nachtrag Slavage 61_RIS\", \"searchResult\")\n",
    "    .str.replace(\"TIAB1_Nachtrag Slavage exclude\", \"TIAB1_exclude\")\n",
    "    .str.replace(\"TIAB1_Nachtrag Salvage_include\", \"TIAB1_include\")\n",
    "    .str.replace(\"TIAB2_exclude_unclear\", \"TIAB2_exclude\")\n",
    ")"
   ]
  },
  {
   "cell_type": "code",
   "execution_count": 8,
   "metadata": {
    "tags": []
   },
   "outputs": [],
   "source": [
    "df_ris[\"publication_date\"] = pd.to_datetime(df_ris[\"date_published\"], errors=\"coerce\")"
   ]
  },
  {
   "cell_type": "markdown",
   "metadata": {},
   "source": [
    "### Extracting Identifiers"
   ]
  },
  {
   "cell_type": "code",
   "execution_count": 9,
   "metadata": {
    "tags": []
   },
   "outputs": [],
   "source": [
    "from evaluation.parsing import REGEX"
   ]
  },
  {
   "cell_type": "code",
   "execution_count": 10,
   "metadata": {
    "tags": []
   },
   "outputs": [],
   "source": [
    "df_ris[\"nct_id\"] = pd.NA\n",
    "df_ris[\"doi\"] = pd.NA"
   ]
  },
  {
   "cell_type": "code",
   "execution_count": 11,
   "metadata": {
    "tags": []
   },
   "outputs": [],
   "source": [
    "df_ris[\"pm_id\"] = df_ris[\"id\"].str.extract(REGEX[\"pm_id_start_end\"]).astype(\"Int64\")"
   ]
  },
  {
   "cell_type": "code",
   "execution_count": 12,
   "metadata": {
    "tags": []
   },
   "outputs": [],
   "source": [
    "df_ris[\"cn_id\"] = df_ris[\"id\"].str.extract(REGEX[\"cn_id\"])"
   ]
  },
  {
   "cell_type": "markdown",
   "metadata": {},
   "source": [
    "### Deduplication"
   ]
  },
  {
   "cell_type": "markdown",
   "metadata": {},
   "source": [
    "For the final dataframe, we only need unique documents. For each document, we want to keep only the version with the very last screening step. For this, we need to set a hierarchy of exclusion steps:"
   ]
  },
  {
   "cell_type": "code",
   "execution_count": 13,
   "metadata": {
    "tags": []
   },
   "outputs": [],
   "source": [
    "exclusion_reason_order = [\n",
    "    \"searchResult\",\n",
    "    \"TIAB1_exclude\",\n",
    "    \"TIAB1_include\",\n",
    "    \"TIAB2_exclude\",\n",
    "    \"TIAB2_include\",\n",
    "    \"FULLTEXT_exclude_all\",\n",
    "    \"FULLTEXT_exclude_Abstract oder Protokoll\",\n",
    "    \"FULLTEXT_exclude_Nicht die gesuchte Fragestellung\",\n",
    "    \"FULLTEXT_exclude_Falsche Intervention_Comparison\",\n",
    "    \"FULLTEXT_exclude_Falscher Literaturtyp\",\n",
    "    \"FULLTEXT_exclude_Falscher Publikationszeitraum\",\n",
    "    \"FULLTEXT_exclude_Zu kleine Studienpopulation\",\n",
    "    \"FULLTEXT_exclude_Kein Volltext\",\n",
    "    \"FULLTEXT_exclude_Falsche Outcomes\",\n",
    "    \"FULLTEXT_exclude_Falsche Population\",\n",
    "    \"FULLTEXT_include\",\n",
    "]\n",
    "\n",
    "df_ris[\"exclusion_reason\"] = pd.Categorical(\n",
    "    df_ris[\"exclusion_reason\"], categories=exclusion_reason_order\n",
    ")"
   ]
  },
  {
   "cell_type": "markdown",
   "metadata": {},
   "source": [
    "We can now de-duplicate the records by only keeping the reference which made it to the deepest screening step per research question:"
   ]
  },
  {
   "cell_type": "code",
   "execution_count": 14,
   "metadata": {
    "tags": []
   },
   "outputs": [],
   "source": [
    "df_ris = df_ris.sort_values([\"id\", \"exclusion_reason\", \"rq\"]).drop_duplicates(\n",
    "    subset=[\"id\", \"rq\"], keep=\"last\"\n",
    ")"
   ]
  },
  {
   "cell_type": "code",
   "execution_count": 15,
   "metadata": {
    "tags": []
   },
   "outputs": [
    {
     "data": {
      "text/plain": [
       "7054"
      ]
     },
     "execution_count": 15,
     "metadata": {},
     "output_type": "execute_result"
    }
   ],
   "source": [
    "len(df_ris)"
   ]
  },
  {
   "cell_type": "markdown",
   "metadata": {},
   "source": [
    "For the analysis, we do not need the duplicates. I therefore fold the RQ / exclusion reason information into a JSON cell:"
   ]
  },
  {
   "cell_type": "code",
   "execution_count": 16,
   "metadata": {
    "tags": []
   },
   "outputs": [],
   "source": [
    "df_ris[\"rqs_and_reasons\"] = df_ris[\"id\"].map(\n",
    "    df_ris.groupby(\"id\")[[\"rq\", \"exclusion_reason\"]].apply(\n",
    "        lambda group: group.dropna().to_dict(\"records\")\n",
    "    )\n",
    ")"
   ]
  },
  {
   "cell_type": "code",
   "execution_count": 17,
   "metadata": {
    "tags": []
   },
   "outputs": [
    {
     "data": {
      "text/html": [
       "<div>\n",
       "<style scoped>\n",
       "    .dataframe tbody tr th:only-of-type {\n",
       "        vertical-align: middle;\n",
       "    }\n",
       "\n",
       "    .dataframe tbody tr th {\n",
       "        vertical-align: top;\n",
       "    }\n",
       "\n",
       "    .dataframe thead th {\n",
       "        text-align: right;\n",
       "    }\n",
       "</style>\n",
       "<table border=\"1\" class=\"dataframe\">\n",
       "  <thead>\n",
       "    <tr style=\"text-align: right;\">\n",
       "      <th></th>\n",
       "      <th>Count</th>\n",
       "    </tr>\n",
       "    <tr>\n",
       "      <th>rq</th>\n",
       "      <th></th>\n",
       "    </tr>\n",
       "  </thead>\n",
       "  <tbody>\n",
       "    <tr>\n",
       "      <th>AG1</th>\n",
       "      <td>3</td>\n",
       "    </tr>\n",
       "    <tr>\n",
       "      <th>AG11</th>\n",
       "      <td>7</td>\n",
       "    </tr>\n",
       "    <tr>\n",
       "      <th>AG12</th>\n",
       "      <td>5</td>\n",
       "    </tr>\n",
       "    <tr>\n",
       "      <th>AG3</th>\n",
       "      <td>20</td>\n",
       "    </tr>\n",
       "    <tr>\n",
       "      <th>AG4</th>\n",
       "      <td>3</td>\n",
       "    </tr>\n",
       "    <tr>\n",
       "      <th>AG5</th>\n",
       "      <td>2</td>\n",
       "    </tr>\n",
       "    <tr>\n",
       "      <th>AG6</th>\n",
       "      <td>10</td>\n",
       "    </tr>\n",
       "    <tr>\n",
       "      <th>AG7</th>\n",
       "      <td>12</td>\n",
       "    </tr>\n",
       "    <tr>\n",
       "      <th>AG8</th>\n",
       "      <td>10</td>\n",
       "    </tr>\n",
       "    <tr>\n",
       "      <th>AG9</th>\n",
       "      <td>3</td>\n",
       "    </tr>\n",
       "  </tbody>\n",
       "</table>\n",
       "</div>"
      ],
      "text/plain": [
       "      Count\n",
       "rq         \n",
       "AG1       3\n",
       "AG11      7\n",
       "AG12      5\n",
       "AG3      20\n",
       "AG4       3\n",
       "AG5       2\n",
       "AG6      10\n",
       "AG7      12\n",
       "AG8      10\n",
       "AG9       3"
      ]
     },
     "execution_count": 17,
     "metadata": {},
     "output_type": "execute_result"
    }
   ],
   "source": [
    "df_ris.value_counts([\"exclusion_reason\", \"rq\"]).sort_index().rename(\n",
    "    index=lambda x: x[:4], level=1\n",
    ").to_frame(name=\"Count\").loc[\"FULLTEXT_include\"]"
   ]
  },
  {
   "cell_type": "markdown",
   "metadata": {},
   "source": [
    "We can further reduce the data by eliminating duplicates across research questions:"
   ]
  },
  {
   "cell_type": "code",
   "execution_count": 18,
   "metadata": {
    "tags": []
   },
   "outputs": [],
   "source": [
    "df_ris = df_ris.sort_values([\"id\", \"exclusion_reason\", \"rq\"]).drop_duplicates(\n",
    "    subset=[\"id\"], keep=\"last\"\n",
    ")"
   ]
  },
  {
   "cell_type": "code",
   "execution_count": 19,
   "metadata": {
    "tags": []
   },
   "outputs": [
    {
     "data": {
      "text/plain": [
       "3147"
      ]
     },
     "execution_count": 19,
     "metadata": {},
     "output_type": "execute_result"
    }
   ],
   "source": [
    "len(df_ris)"
   ]
  },
  {
   "cell_type": "code",
   "execution_count": 20,
   "metadata": {
    "tags": []
   },
   "outputs": [
    {
     "data": {
      "text/html": [
       "<div>\n",
       "<style scoped>\n",
       "    .dataframe tbody tr th:only-of-type {\n",
       "        vertical-align: middle;\n",
       "    }\n",
       "\n",
       "    .dataframe tbody tr th {\n",
       "        vertical-align: top;\n",
       "    }\n",
       "\n",
       "    .dataframe thead th {\n",
       "        text-align: right;\n",
       "    }\n",
       "</style>\n",
       "<table border=\"1\" class=\"dataframe\">\n",
       "  <thead>\n",
       "    <tr style=\"text-align: right;\">\n",
       "      <th></th>\n",
       "      <th>Count</th>\n",
       "    </tr>\n",
       "    <tr>\n",
       "      <th>rq</th>\n",
       "      <th></th>\n",
       "    </tr>\n",
       "  </thead>\n",
       "  <tbody>\n",
       "    <tr>\n",
       "      <th>AG1</th>\n",
       "      <td>3</td>\n",
       "    </tr>\n",
       "    <tr>\n",
       "      <th>AG11</th>\n",
       "      <td>6</td>\n",
       "    </tr>\n",
       "    <tr>\n",
       "      <th>AG12</th>\n",
       "      <td>5</td>\n",
       "    </tr>\n",
       "    <tr>\n",
       "      <th>AG3</th>\n",
       "      <td>20</td>\n",
       "    </tr>\n",
       "    <tr>\n",
       "      <th>AG4</th>\n",
       "      <td>3</td>\n",
       "    </tr>\n",
       "    <tr>\n",
       "      <th>AG5</th>\n",
       "      <td>2</td>\n",
       "    </tr>\n",
       "    <tr>\n",
       "      <th>AG6</th>\n",
       "      <td>9</td>\n",
       "    </tr>\n",
       "    <tr>\n",
       "      <th>AG7</th>\n",
       "      <td>11</td>\n",
       "    </tr>\n",
       "    <tr>\n",
       "      <th>AG8</th>\n",
       "      <td>10</td>\n",
       "    </tr>\n",
       "    <tr>\n",
       "      <th>AG9</th>\n",
       "      <td>3</td>\n",
       "    </tr>\n",
       "  </tbody>\n",
       "</table>\n",
       "</div>"
      ],
      "text/plain": [
       "      Count\n",
       "rq         \n",
       "AG1       3\n",
       "AG11      6\n",
       "AG12      5\n",
       "AG3      20\n",
       "AG4       3\n",
       "AG5       2\n",
       "AG6       9\n",
       "AG7      11\n",
       "AG8      10\n",
       "AG9       3"
      ]
     },
     "execution_count": 20,
     "metadata": {},
     "output_type": "execute_result"
    }
   ],
   "source": [
    "df_ris.value_counts([\"exclusion_reason\", \"rq\"]).sort_index().rename(\n",
    "    index=lambda x: x[:4], level=1\n",
    ").to_frame(name=\"Count\").loc[\"FULLTEXT_include\"]"
   ]
  },
  {
   "cell_type": "markdown",
   "metadata": {},
   "source": [
    "As soon as a document is included after full text screening for any RQ, we consider it included:"
   ]
  },
  {
   "cell_type": "code",
   "execution_count": 21,
   "metadata": {
    "tags": []
   },
   "outputs": [],
   "source": [
    "df_ris[\"is_included\"] = df_ris[\"exclusion_reason\"] == \"FULLTEXT_include\""
   ]
  },
  {
   "cell_type": "markdown",
   "metadata": {},
   "source": [
    "We should also rename the ID column to reflect that it comes from the RIS files:"
   ]
  },
  {
   "cell_type": "code",
   "execution_count": 22,
   "metadata": {
    "tags": []
   },
   "outputs": [],
   "source": [
    "df_ris.rename(columns={\"id\": \"ris_id\"}, inplace=True)"
   ]
  },
  {
   "cell_type": "markdown",
   "metadata": {},
   "source": [
    "### Identifier lookups"
   ]
  },
  {
   "cell_type": "code",
   "execution_count": 23,
   "metadata": {
    "tags": []
   },
   "outputs": [],
   "source": [
    "from integration.config import load_config\n",
    "from integration.db import get_engine\n",
    "from sqlalchemy.orm import sessionmaker\n",
    "\n",
    "cfg = load_config(\"../config_v2.1_2023_03_30.ini\")\n",
    "engine = get_engine(cfg['DB']['url'])\n",
    "session = sessionmaker(bind=engine)()"
   ]
  },
  {
   "cell_type": "code",
   "execution_count": 24,
   "metadata": {
    "tags": []
   },
   "outputs": [],
   "source": [
    "from integration.citation_utils import (\n",
    "    get_title_to_id_mapping_pubmed,\n",
    "    get_title_to_id_mapping_clinicaltrials,\n",
    ")\n",
    "\n",
    "df_pm = get_title_to_id_mapping_pubmed(session)\n",
    "df_ct = get_title_to_id_mapping_clinicaltrials(session)"
   ]
  },
  {
   "cell_type": "code",
   "execution_count": 25,
   "metadata": {
    "tags": []
   },
   "outputs": [
    {
     "data": {
      "application/vnd.jupyter.widget-view+json": {
       "model_id": "36b90949138b412f849aa415b7b2c4c4",
       "version_major": 2,
       "version_minor": 0
      },
      "text/plain": [
       "Retrieving available identifiers:   0%|          | 0/3147 [00:00<?, ?it/s]"
      ]
     },
     "metadata": {},
     "output_type": "display_data"
    }
   ],
   "source": [
    "from tqdm.auto import tqdm\n",
    "from integration.citation_utils import retrieve_all_identifiers\n",
    "import os\n",
    "\n",
    "tqdm.pandas(desc=\"Retrieving available identifiers\")\n",
    "\n",
    "df_ris = df_ris.progress_apply(  # type: ignore\n",
    "    lambda row: retrieve_all_identifiers(\n",
    "        row=row,\n",
    "        entrez_email=os.environ.get(\"PUBMED_USER\"),\n",
    "        entrez_api_key=os.environ.get(\"PUBMED_API_KEY\"),\n",
    "        doi_pm_id_cache=\"../data/literature/doi_to_pm_id.json\",\n",
    "        cn_pm_id_cache=\"../data/literature/cn_id_to_pm_id.json\",\n",
    "        title_nct_id_cache=\"../data/literature/fuzzy_title_to_nct_id.json\",\n",
    "        title_pm_id_cache=\"../data/literature/fuzzy_title_to_pm_id.json\",\n",
    "        df_pm=df_pm,\n",
    "        df_ct=df_ct,\n",
    "    ),\n",
    "    axis=1,\n",
    ")\n",
    "df_ris = df_ris.astype(\n",
    "    {col: \"Int64\" for col in df_ris.columns if \"pm_id\" in col.lower()}\n",
    ")"
   ]
  },
  {
   "cell_type": "markdown",
   "metadata": {},
   "source": [
    "Potential mislabellings:"
   ]
  },
  {
   "cell_type": "code",
   "execution_count": 26,
   "metadata": {
    "tags": []
   },
   "outputs": [
    {
     "data": {
      "text/html": [
       "<div>\n",
       "<style scoped>\n",
       "    .dataframe tbody tr th:only-of-type {\n",
       "        vertical-align: middle;\n",
       "    }\n",
       "\n",
       "    .dataframe tbody tr th {\n",
       "        vertical-align: top;\n",
       "    }\n",
       "\n",
       "    .dataframe thead th {\n",
       "        text-align: right;\n",
       "    }\n",
       "</style>\n",
       "<table border=\"1\" class=\"dataframe\">\n",
       "  <thead>\n",
       "    <tr style=\"text-align: right;\">\n",
       "      <th></th>\n",
       "      <th>title</th>\n",
       "      <th>ris_id</th>\n",
       "      <th>pm_id</th>\n",
       "      <th>nct_id</th>\n",
       "      <th>doi</th>\n",
       "      <th>cn_id</th>\n",
       "      <th>pm_id_doi</th>\n",
       "      <th>pm_id_cn</th>\n",
       "      <th>nct_id_cn</th>\n",
       "      <th>pmc_id_cn</th>\n",
       "      <th>nct_id_db</th>\n",
       "      <th>pm_id_db</th>\n",
       "    </tr>\n",
       "  </thead>\n",
       "  <tbody>\n",
       "    <tr>\n",
       "      <th>23</th>\n",
       "      <td>Postoperative Chemotherapy for Thoracic Pathol...</td>\n",
       "      <td>31974708</td>\n",
       "      <td>31974708</td>\n",
       "      <td>None</td>\n",
       "      <td>&lt;NA&gt;</td>\n",
       "      <td>NaN</td>\n",
       "      <td>&lt;NA&gt;</td>\n",
       "      <td>&lt;NA&gt;</td>\n",
       "      <td>None</td>\n",
       "      <td>None</td>\n",
       "      <td>None</td>\n",
       "      <td>31848823</td>\n",
       "    </tr>\n",
       "  </tbody>\n",
       "</table>\n",
       "</div>"
      ],
      "text/plain": [
       "                                                title    ris_id     pm_id  \\\n",
       "23  Postoperative Chemotherapy for Thoracic Pathol...  31974708  31974708   \n",
       "\n",
       "   nct_id   doi cn_id  pm_id_doi  pm_id_cn nct_id_cn pmc_id_cn nct_id_db  \\\n",
       "23   None  <NA>   NaN       <NA>      <NA>      None      None      None   \n",
       "\n",
       "    pm_id_db  \n",
       "23  31848823  "
      ]
     },
     "execution_count": 26,
     "metadata": {},
     "output_type": "execute_result"
    }
   ],
   "source": [
    "df_ris[\n",
    "    [\n",
    "        \"title\",\n",
    "        \"ris_id\",\n",
    "        \"pm_id\",\n",
    "        \"nct_id\",\n",
    "        \"doi\",\n",
    "        \"cn_id\",\n",
    "        \"pm_id_doi\",\n",
    "        \"pm_id_cn\",\n",
    "        \"nct_id_cn\",\n",
    "        \"pmc_id_cn\",\n",
    "        \"nct_id_db\",\n",
    "        \"pm_id_db\",\n",
    "    ]\n",
    "].query(\n",
    "    \"pm_id_db.notnull() & pm_id.notnull() & pm_id != pm_id_db\"\n",
    ")  # .merge(df_pm, left_on=\"pm_id\", right_on=\"pm_id\", suffixes=(\"_ris\", \"_db\"))  # to get correct title"
   ]
  },
  {
   "cell_type": "markdown",
   "metadata": {},
   "source": [
    "### Check if evidence is in the database"
   ]
  },
  {
   "cell_type": "code",
   "execution_count": 27,
   "metadata": {
    "tags": []
   },
   "outputs": [
    {
     "data": {
      "application/vnd.jupyter.widget-view+json": {
       "model_id": "68ad7885800644df8d0b0bb0db16ede9",
       "version_major": 2,
       "version_minor": 0
      },
      "text/plain": [
       "Checking of evidence is in database:   0%|          | 0/3147 [00:00<?, ?it/s]"
      ]
     },
     "metadata": {},
     "output_type": "display_data"
    }
   ],
   "source": [
    "from evaluation.matching import is_in_db\n",
    "\n",
    "tqdm.pandas(desc=\"Checking of evidence is in database\")\n",
    "\n",
    "db_pm_ids = set(df_pm[\"pm_id\"])\n",
    "db_nct_ids = set(df_ct[\"nct_id\"])\n",
    "\n",
    "df_ris = df_ris.progress_apply(\n",
    "    lambda row: is_in_db(row=row, db_pm_ids=db_pm_ids, db_nct_ids=db_nct_ids), axis=1\n",
    ")"
   ]
  },
  {
   "cell_type": "markdown",
   "metadata": {},
   "source": [
    "### Retrieving Publication Types & Date"
   ]
  },
  {
   "cell_type": "code",
   "execution_count": 28,
   "metadata": {
    "tags": []
   },
   "outputs": [
    {
     "data": {
      "application/vnd.jupyter.widget-view+json": {
       "model_id": "3cf88cca63dc4782a691a6ce9fde5e5f",
       "version_major": 2,
       "version_minor": 0
      },
      "text/plain": [
       "Fetching article types:   0%|          | 0/3147 [00:00<?, ?it/s]"
      ]
     },
     "metadata": {},
     "output_type": "display_data"
    },
    {
     "name": "stdout",
     "output_type": "stream",
     "text": [
      "Couldn't find document types for 34021328\n",
      "Couldn't find document types for 34756850\n",
      "Couldn't find document types for 34797478\n",
      "Couldn't find document types for 32701242\n"
     ]
    }
   ],
   "source": [
    "from tqdm.auto import tqdm\n",
    "import os\n",
    "from integration.citation_utils import pm_id_to_publication_types\n",
    "\n",
    "tqdm.pandas(desc=\"Fetching article types\")\n",
    "\n",
    "df_ris[\"publication_types\"] = df_ris[\"pm_id\"].progress_apply(\n",
    "    lambda pm_id: pm_id_to_publication_types(\n",
    "        pm_id=pm_id,\n",
    "        email=os.environ.get(\"PUBMED_USER\"),\n",
    "        api_key=os.environ.get(\"PUBMED_API_KEY\"),\n",
    "        cache_path=\"../data/literature/pm_id_to_entrez_xml.json\",\n",
    "    )\n",
    ")"
   ]
  },
  {
   "cell_type": "code",
   "execution_count": 40,
   "metadata": {
    "tags": []
   },
   "outputs": [],
   "source": [
    "from integration.citation_utils import set_rct_flag\n",
    "\n",
    "df_ris = df_ris.apply(set_rct_flag, axis=1)"
   ]
  },
  {
   "cell_type": "code",
   "execution_count": 30,
   "metadata": {
    "tags": []
   },
   "outputs": [
    {
     "data": {
      "application/vnd.jupyter.widget-view+json": {
       "model_id": "2236e925ff2d4e96b279a575fc7918cb",
       "version_major": 2,
       "version_minor": 0
      },
      "text/plain": [
       "Fetching article dates:   0%|          | 0/3147 [00:00<?, ?it/s]"
      ]
     },
     "metadata": {},
     "output_type": "display_data"
    },
    {
     "name": "stdout",
     "output_type": "stream",
     "text": [
      "Couldn't find article date for 29497928\n",
      "Couldn't find article date for 29995688\n",
      "Couldn't find article date for 30102633\n",
      "Couldn't find article date for 30339626\n",
      "Couldn't find article date for 30402826\n",
      "Couldn't find article date for 30596899\n",
      "Couldn't find article date for 30596900\n",
      "Couldn't find article date for 30601260\n",
      "Couldn't find article date for 30614938\n",
      "Couldn't find article date for 30676381\n",
      "Couldn't find article date for 30715226\n",
      "Couldn't find article date for 30820525\n",
      "Couldn't find article date for 30855081\n",
      "Couldn't find article date for 30855089\n",
      "Couldn't find article date for 30888418\n",
      "Couldn't find article date for 30888419\n",
      "Couldn't find article date for 30980079\n",
      "Couldn't find article date for 31069391\n",
      "Couldn't find article date for 31076753\n",
      "Couldn't find article date for 31090563\n",
      "Couldn't find article date for 31135037\n",
      "Couldn't find article date for 31169876\n",
      "Couldn't find article date for 31175353\n",
      "Couldn't find article date for 31179509\n",
      "Couldn't find article date for 31188215\n",
      "Couldn't find article date for 31206577\n",
      "Couldn't find article date for 31206582\n",
      "Couldn't find article date for 31220859\n",
      "Couldn't find article date for 31222637\n",
      "Couldn't find article date for 31236579\n",
      "Couldn't find article date for 31251346\n",
      "Couldn't find article date for 31274147\n",
      "Couldn't find article date for 31313820\n",
      "Couldn't find article date for 31329828\n",
      "Couldn't find article date for 31368327\n",
      "Couldn't find article date for 31404005\n",
      "Couldn't find article date for 31404008\n",
      "Couldn't find article date for 31407092\n",
      "Couldn't find article date for 31411663\n",
      "Couldn't find article date for 31411696\n",
      "Couldn't find article date for 31415003\n",
      "Couldn't find article date for 31425286\n",
      "Couldn't find article date for 31436649\n",
      "Couldn't find article date for 31436809\n",
      "Couldn't find article date for 31464787\n",
      "Couldn't find article date for 31471660\n",
      "Couldn't find article date for 31498184\n",
      "Couldn't find article date for 31504139\n",
      "Couldn't find article date for 31504359\n",
      "Couldn't find article date for 31513027\n",
      "Couldn't find article date for 31519604\n",
      "Couldn't find article date for 31519624\n",
      "Couldn't find article date for 31529018\n",
      "Couldn't find article date for 31536635\n",
      "Couldn't find article date for 31564686\n",
      "Couldn't find article date for 31567494\n",
      "Couldn't find article date for 31583514\n",
      "Couldn't find article date for 31587099\n",
      "Couldn't find article date for 31592898\n",
      "Couldn't find article date for 31593121\n",
      "Couldn't find article date for 31593134\n",
      "Couldn't find article date for 31608939\n",
      "Couldn't find article date for 31612917\n",
      "Couldn't find article date for 31617891\n",
      "Couldn't find article date for 31617892\n",
      "Couldn't find article date for 31617893\n",
      "Couldn't find article date for 31618397\n",
      "Couldn't find article date for 31626150\n",
      "Couldn't find article date for 31634182\n",
      "Couldn't find article date for 31644788\n",
      "Couldn't find article date for 31646714\n",
      "Couldn't find article date for 31650165\n",
      "Couldn't find article date for 31651453\n",
      "Couldn't find article date for 31656672\n",
      "Couldn't find article date for 31660035\n",
      "Couldn't find article date for 31665358\n",
      "Couldn't find article date for 31676895\n",
      "Couldn't find article date for 31676907\n",
      "Couldn't find article date for 31701400\n",
      "Couldn't find article date for 31704819\n",
      "Couldn't find article date for 31713148\n",
      "Couldn't find article date for 31714278\n",
      "Couldn't find article date for 31738406\n",
      "Couldn't find article date for 31758468\n",
      "Couldn't find article date for 31758470\n",
      "Couldn't find article date for 31764833\n",
      "Couldn't find article date for 31770192\n",
      "Couldn't find article date for 31800492\n",
      "Couldn't find article date for 31802410\n",
      "Couldn't find article date for 31802836\n",
      "Couldn't find article date for 31808119\n",
      "Couldn't find article date for 31811331\n",
      "Couldn't find article date for 31816673\n",
      "Couldn't find article date for 31833863\n",
      "Couldn't find article date for 31834047\n",
      "Couldn't find article date for 31839083\n",
      "Couldn't find article date for 31851106\n",
      "Couldn't find article date for 31852158\n",
      "Couldn't find article date for 31853591\n",
      "Couldn't find article date for 31855875\n",
      "Couldn't find article date for 31860606\n",
      "Couldn't find article date for 31865730\n",
      "Couldn't find article date for 31868819\n",
      "Couldn't find article date for 31876838\n",
      "Couldn't find article date for 31887810\n",
      "Couldn't find article date for 31903241\n",
      "Couldn't find article date for 31908722\n",
      "Couldn't find article date for 31909783\n",
      "Couldn't find article date for 31917701\n",
      "Couldn't find article date for 31923160\n",
      "Couldn't find article date for 31929228\n",
      "Couldn't find article date for 31929233\n",
      "Couldn't find article date for 31933515\n",
      "Couldn't find article date for 31949393\n",
      "Couldn't find article date for 31950146\n",
      "Couldn't find article date for 31950180\n",
      "Couldn't find article date for 31950184\n",
      "Couldn't find article date for 31956613\n",
      "Couldn't find article date for 31957801\n",
      "Couldn't find article date for 31966919\n",
      "Couldn't find article date for 31972647\n",
      "Couldn't find article date for 31972650\n",
      "Couldn't find article date for 31977864\n",
      "Couldn't find article date for 31990329\n",
      "Couldn't find article date for 32009613\n",
      "Couldn't find article date for 32052025\n",
      "Couldn't find article date for 32065226\n",
      "Couldn't find article date for 32068555\n",
      "Couldn't find article date for 32074788\n",
      "Couldn't find article date for 32074796\n",
      "Couldn't find article date for 32077427\n",
      "Couldn't find article date for 32079863\n",
      "Couldn't find article date for 32115648\n",
      "Couldn't find article date for 32118743\n",
      "Couldn't find article date for 32123980\n",
      "Couldn't find article date for 32132740\n",
      "Couldn't find article date for 32141493\n",
      "Couldn't find article date for 32157279\n",
      "Couldn't find article date for 32175107\n",
      "Couldn't find article date for 32175118\n",
      "Couldn't find article date for 32179952\n",
      "Couldn't find article date for 32185376\n",
      "Couldn't find article date for 32187159\n",
      "Couldn't find article date for 32188713\n",
      "Couldn't find article date for 32190354\n",
      "Couldn't find article date for 32193532\n",
      "Couldn't find article date for 32206808\n",
      "Couldn't find article date for 32224728\n",
      "Couldn't find article date for 32234926\n",
      "Couldn't find article date for 32234942\n",
      "Couldn't find article date for 32252202\n",
      "Couldn't find article date for 32273288\n",
      "Couldn't find article date for 32274092\n",
      "Couldn't find article date for 32285107\n",
      "Couldn't find article date for 32296589\n",
      "Couldn't find article date for 32296872\n",
      "Couldn't find article date for 32302087\n",
      "Couldn't find article date for 32306608\n",
      "Couldn't find article date for 32311983\n",
      "Couldn't find article date for 32317292\n",
      "Couldn't find article date for 32343308\n",
      "Couldn't find article date for 32350519\n",
      "Couldn't find article date for 32350716\n",
      "Couldn't find article date for 32353313\n",
      "Couldn't find article date for 32362620\n",
      "Couldn't find article date for 32366430\n",
      "Couldn't find article date for 32372088\n",
      "Couldn't find article date for 32374631\n",
      "Couldn't find article date for 32380466\n",
      "Couldn't find article date for 32395268\n",
      "Couldn't find article date for 32395485\n",
      "Couldn't find article date for 32395546\n",
      "Couldn't find article date for 32399569\n",
      "Couldn't find article date for 32437494\n",
      "Couldn't find article date for 32461787\n",
      "Couldn't find article date for 32467417\n",
      "Couldn't find article date for 32469386\n",
      "Couldn't find article date for 32481349\n",
      "Couldn't find article date for 32481404\n",
      "Couldn't find article date for 32482981\n",
      "Couldn't find article date for 32498536\n",
      "Couldn't find article date for 32506229\n",
      "Couldn't find article date for 32524305\n",
      "Couldn't find article date for 32533160\n",
      "Couldn't find article date for 32541217\n",
      "Couldn't find article date for 32541329\n",
      "Couldn't find article date for 32548695\n",
      "Couldn't find article date for 32556151\n",
      "Couldn't find article date for 32566939\n",
      "Couldn't find article date for 32576584\n",
      "Couldn't find article date for 32578508\n",
      "Couldn't find article date for 32591791\n",
      "Couldn't find article date for 32607539\n",
      "Couldn't find article date for 32607960\n",
      "Couldn't find article date for 32611556\n",
      "Couldn't find article date for 32618654\n",
      "Couldn't find article date for 32642133\n",
      "Couldn't find article date for 32655268\n",
      "Couldn't find article date for 32657922\n",
      "Couldn't find article date for 32675512\n",
      "Couldn't find article date for 32675544\n",
      "Couldn't find article date for 32675704\n",
      "Couldn't find article date for 32696953\n",
      "Couldn't find article date for 32699580\n",
      "Couldn't find article date for 32701818\n",
      "Couldn't find article date for 32720121\n",
      "Couldn't find article date for 32731286\n",
      "Couldn't find article date for 32738955\n",
      "Couldn't find article date for 32740521\n",
      "Couldn't find article date for 32740523\n",
      "Couldn't find article date for 32793446\n",
      "Couldn't find article date for 32833766\n",
      "Couldn't find article date for 32833767\n",
      "Couldn't find article date for 32865948\n",
      "Couldn't find article date for 32880601\n",
      "Couldn't find article date for 32883714\n",
      "Couldn't find article date for 32884225\n",
      "Couldn't find article date for 32895163\n",
      "Couldn't find article date for 32898328\n",
      "Couldn't find article date for 32903918\n",
      "Couldn't find article date for 32927514\n",
      "Couldn't find article date for 32930131\n",
      "Couldn't find article date for 32930730\n",
      "Couldn't find article date for 32940666\n",
      "Couldn't find article date for 32944737\n",
      "Couldn't find article date for 32944749\n",
      "Couldn't find article date for 32951452\n",
      "Couldn't find article date for 32953150\n",
      "Couldn't find article date for 32954465\n",
      "Couldn't find article date for 32964884\n",
      "Couldn't find article date for 32994686\n",
      "Couldn't find article date for 32996568\n",
      "Couldn't find article date for 32997132\n",
      "Couldn't find article date for 33000149\n",
      "Couldn't find article date for 33016305\n",
      "Couldn't find article date for 33027072\n",
      "Couldn't find article date for 33027480\n",
      "Couldn't find article date for 33031267\n",
      "Couldn't find article date for 33044232\n",
      "Couldn't find article date for 33047615\n",
      "Couldn't find article date for 33053992\n",
      "Couldn't find article date for 33055588\n",
      "Couldn't find article date for 33060149\n",
      "Couldn't find article date for 33065643\n",
      "Couldn't find article date for 33094582\n",
      "Couldn't find article date for 33094962\n",
      "Couldn't find article date for 33100338\n",
      "Couldn't find article date for 33132647\n",
      "Couldn't find article date for 33150401\n",
      "Couldn't find article date for 33156012\n",
      "Couldn't find article date for 33156107\n",
      "Couldn't find article date for 33160505\n",
      "Couldn't find article date for 33179519\n",
      "Couldn't find article date for 33201129\n",
      "Couldn't find article date for 33208682\n",
      "Couldn't find article date for 33209378\n",
      "Couldn't find article date for 33213793\n",
      "Couldn't find article date for 33225344\n",
      "Couldn't find article date for 33240993\n",
      "Couldn't find article date for 33241001\n",
      "Couldn't find article date for 33241005\n",
      "Couldn't find article date for 33241009\n",
      "Couldn't find article date for 33241300\n",
      "Couldn't find article date for 33241302\n",
      "Couldn't find article date for 33249483\n",
      "Couldn't find article date for 33274674\n",
      "Couldn't find article date for 33277844\n",
      "Couldn't find article date for 33282395\n",
      "Couldn't find article date for 33282405\n",
      "Couldn't find article date for 33295746\n",
      "Couldn't find article date for 33297725\n",
      "Couldn't find article date for 33306638\n",
      "Couldn't find article date for 33306781\n",
      "Couldn't find article date for 33327342\n",
      "Couldn't find article date for 33341903\n",
      "Couldn't find article date for 33371077\n",
      "Couldn't find article date for 33380680\n",
      "Couldn't find article date for 33437787\n",
      "Couldn't find article date for 33441512\n",
      "Couldn't find article date for 33442741\n",
      "Couldn't find article date for 33484129\n",
      "Couldn't find article date for 33490196\n",
      "Couldn't find article date for 33507236\n",
      "Couldn't find article date for 33508918\n",
      "Couldn't find article date for 33511169\n",
      "Couldn't find article date for 33512805\n",
      "Couldn't find article date for 33545764\n",
      "Couldn't find article date for 33553366\n",
      "Couldn't find article date for 33569194\n",
      "Couldn't find article date for 33569215\n",
      "Couldn't find article date for 33569301\n",
      "Couldn't find article date for 33575809\n",
      "Couldn't find article date for 33590037\n",
      "Couldn't find article date for 33595631\n",
      "Couldn't find article date for 33598683\n",
      "Couldn't find article date for 33607840\n",
      "Couldn't find article date for 33609371\n",
      "Couldn't find article date for 33609378\n",
      "Couldn't find article date for 33609389\n",
      "Couldn't find article date for 33622888\n",
      "Couldn't find article date for 33628601\n",
      "Couldn't find article date for 33630459\n",
      "Couldn't find article date for 33640940\n",
      "Couldn't find article date for 33662285\n",
      "Couldn't find article date for 33662286\n",
      "Couldn't find article date for 33678638\n",
      "Couldn't find article date for 33688946\n",
      "Couldn't find article date for 33707927\n",
      "Couldn't find article date for 33708420\n",
      "Couldn't find article date for 33708432\n",
      "Couldn't find article date for 33708860\n",
      "Couldn't find article date for 33708926\n",
      "Couldn't find article date for 33708948\n",
      "Couldn't find article date for 33720069\n",
      "Couldn't find article date for 33721453\n",
      "Couldn't find article date for 33723611\n",
      "Couldn't find article date for 33724340\n",
      "Couldn't find article date for 33725995\n",
      "Couldn't find article date for 33729435\n",
      "Couldn't find article date for 33729467\n",
      "Couldn't find article date for 33731587\n",
      "Couldn't find article date for 33738500\n",
      "Couldn't find article date for 33744955\n",
      "Couldn't find article date for 33755097\n",
      "Couldn't find article date for 33776371\n",
      "Couldn't find article date for 33782335\n",
      "Couldn't find article date for 33786604\n",
      "Couldn't find article date for 33789008\n",
      "Couldn't find article date for 33795613\n",
      "Couldn't find article date for 33822653\n",
      "Couldn't find article date for 33824250\n",
      "Couldn't find article date for 33830800\n",
      "Couldn't find article date for 33837053\n",
      "Couldn't find article date for 33837380\n",
      "Couldn't find article date for 33841925\n",
      "Couldn't find article date for 33842641\n",
      "Couldn't find article date for 33852454\n",
      "Couldn't find article date for 33861543\n",
      "Couldn't find article date for 33876211\n",
      "Couldn't find article date for 33884417\n",
      "Couldn't find article date for 33893765\n",
      "Couldn't find article date for 33902211\n",
      "Couldn't find article date for 33910873\n",
      "Couldn't find article date for 33912933\n",
      "Couldn't find article date for 33959478\n",
      "Couldn't find article date for 33966001\n",
      "Couldn't find article date for 33969399\n",
      "Couldn't find article date for 33972990\n",
      "Couldn't find article date for 33975337\n",
      "Couldn't find article date for 33978698\n",
      "Couldn't find article date for 33979100\n",
      "Couldn't find article date for 33982936\n",
      "Couldn't find article date for 33982937\n",
      "Couldn't find article date for 34000771\n",
      "Couldn't find article date for 34009322\n",
      "Couldn't find article date for 34012585\n",
      "Couldn't find article date for 34021328\n",
      "Couldn't find article date for 34042566\n",
      "Couldn't find article date for 34045293\n",
      "Couldn't find article date for 34074826\n",
      "Couldn't find article date for 34074827\n",
      "Couldn't find article date for 34075402\n",
      "Couldn't find article date for 34087912\n",
      "Couldn't find article date for 34128879\n",
      "Couldn't find article date for 34130813\n",
      "Couldn't find article date for 34149004\n",
      "Couldn't find article date for 34155501\n",
      "Couldn't find article date for 34160431\n",
      "Couldn't find article date for 34160464\n",
      "Couldn't find article date for 34160577\n",
      "Couldn't find article date for 34160587\n",
      "Couldn't find article date for 34162562\n",
      "Couldn't find article date for 34164532\n",
      "Couldn't find article date for 34164541\n",
      "Couldn't find article date for 34171870\n",
      "Couldn't find article date for 34227434\n",
      "Couldn't find article date for 34230145\n",
      "Couldn't find article date for 34232198\n",
      "Couldn't find article date for 34237976\n",
      "Couldn't find article date for 34250542\n",
      "Couldn't find article date for 34260693\n",
      "Couldn't find article date for 34277790\n",
      "Couldn't find article date for 34277798\n",
      "Couldn't find article date for 34286828\n",
      "Couldn't find article date for 34293086\n",
      "Couldn't find article date for 34310349\n",
      "Couldn't find article date for 34310355\n",
      "Couldn't find article date for 34318324\n",
      "Couldn't find article date for 34320651\n",
      "Couldn't find article date for 34320702\n",
      "Couldn't find article date for 34334633\n",
      "Couldn't find article date for 34334639\n",
      "Couldn't find article date for 34334646\n",
      "Couldn't find article date for 34341256\n",
      "Couldn't find article date for 34342334\n",
      "Couldn't find article date for 34347657\n",
      "Couldn't find article date for 34351356\n",
      "Couldn't find article date for 34352861\n",
      "Couldn't find article date for 34370830\n",
      "Couldn't find article date for 34392342\n",
      "Couldn't find article date for 34397452\n",
      "Couldn't find article date for 34397790\n",
      "Couldn't find article date for 34409990\n",
      "Couldn't find article date for 34412186\n",
      "Couldn't find article date for 34426840\n",
      "Couldn't find article date for 34454674\n",
      "Couldn't find article date for 34464320\n",
      "Couldn't find article date for 34476473\n",
      "Couldn't find article date for 34491293\n",
      "Couldn't find article date for 34506320\n",
      "Couldn't find article date for 34510876\n",
      "Couldn't find article date for 34511614\n",
      "Couldn't find article date for 34512879\n",
      "Couldn't find article date for 34519801\n",
      "Couldn't find article date for 34532085\n",
      "Couldn't find article date for 34532117\n",
      "Couldn't find article date for 34532481\n",
      "Couldn't find article date for 34557905\n",
      "Couldn't find article date for 34569315\n",
      "Couldn't find article date for 34593617\n",
      "Couldn't find article date for 34622273\n",
      "Couldn't find article date for 34628872\n",
      "Couldn't find article date for 34657505\n",
      "Couldn't find article date for 34659814\n",
      "Couldn't find article date for 34659820\n",
      "Couldn't find article date for 34697194\n",
      "Couldn't find article date for 34713821\n",
      "Couldn't find article date for 34718471\n",
      "Couldn't find article date for 34734236\n",
      "Couldn't find article date for 34738106\n",
      "Couldn't find article date for 34754391\n",
      "Couldn't find article date for 34756850\n",
      "Couldn't find article date for 34766595\n",
      "Couldn't find article date for 34781824\n",
      "Couldn't find article date for 34786384\n",
      "Couldn't find article date for 34790363\n",
      "Couldn't find article date for 34790752\n",
      "Couldn't find article date for 34795936\n",
      "Couldn't find article date for 34797478\n",
      "Couldn't find article date for 34848479\n",
      "Couldn't find article date for 34876797\n",
      "Couldn't find article date for 34893843\n",
      "Couldn't find article date for 34913741\n",
      "Couldn't find article date for 34926667\n",
      "Couldn't find article date for 34937091\n",
      "Couldn't find article date for 34941029\n",
      "Couldn't find article date for 34941174\n",
      "Couldn't find article date for 34952537\n",
      "Couldn't find article date for 34969080\n",
      "Couldn't find article date for 34969725\n",
      "Couldn't find article date for 34979549\n",
      "Couldn't find article date for 34982451\n",
      "Couldn't find article date for 34988183\n",
      "Couldn't find article date for 34994207\n",
      "Couldn't find article date for 35037487\n",
      "Couldn't find article date for 35038327\n",
      "Couldn't find article date for 35039840\n",
      "Couldn't find article date for 35040871\n",
      "Couldn't find article date for 35070396\n",
      "Couldn't find article date for 35077542\n",
      "Couldn't find article date for 35077548\n",
      "Couldn't find article date for 35080619\n",
      "Couldn't find article date for 35108470\n",
      "Couldn't find article date for 35116096\n",
      "Couldn't find article date for 30625052\n",
      "Couldn't find article date for 30842166\n",
      "Couldn't find article date for 30813149\n",
      "Couldn't find article date for 30762735\n",
      "Couldn't find article date for 30353406\n",
      "Couldn't find article date for 30137281\n",
      "Couldn't find article date for 30566590\n",
      "Couldn't find article date for 30084992\n",
      "Couldn't find article date for 30722001\n",
      "Couldn't find article date for 30308612\n",
      "Couldn't find article date for 30799538\n",
      "Couldn't find article date for 30732125\n",
      "Couldn't find article date for 30971516\n",
      "Couldn't find article date for 30964526\n",
      "Couldn't find article date for 31092460\n",
      "Couldn't find article date for 30880777\n",
      "Couldn't find article date for 30169605\n",
      "Couldn't find article date for 31090563\n",
      "Couldn't find article date for 31216826\n",
      "Couldn't find article date for 30880777\n",
      "Couldn't find article date for 30870012\n",
      "Couldn't find article date for 31329828\n",
      "Couldn't find article date for 30676350\n",
      "Couldn't find article date for 31350847\n",
      "Couldn't find article date for 31404005\n",
      "Couldn't find article date for 31411696\n",
      "Couldn't find article date for 31304554\n",
      "Couldn't find article date for 31219517\n",
      "Couldn't find article date for 31550819\n",
      "Couldn't find article date for 31519624\n",
      "Couldn't find article date for 31436231\n",
      "Couldn't find article date for 28742685\n",
      "Couldn't find article date for 31676895\n",
      "Couldn't find article date for 31651453\n",
      "Couldn't find article date for 31646824\n",
      "Couldn't find article date for 31855875\n",
      "Couldn't find article date for 31876704\n",
      "Couldn't find article date for 31674317\n",
      "Couldn't find article date for 32010573\n",
      "Couldn't find article date for 30855089\n",
      "Couldn't find article date for 31504139\n",
      "Couldn't find article date for 30753272\n",
      "Couldn't find article date for 32306608\n",
      "Couldn't find article date for 32056186\n",
      "Couldn't find article date for 32317292\n",
      "Couldn't find article date for 32343308\n",
      "Couldn't find article date for 31839104\n",
      "Couldn't find article date for 32481404\n",
      "Couldn't find article date for 31868819\n",
      "Couldn't find article date for 31956250\n",
      "Couldn't find article date for 32701242\n",
      "Couldn't find article date for 32627605\n",
      "Couldn't find article date for 32536123\n",
      "Couldn't find article date for 32738955\n",
      "Couldn't find article date for 32720121\n",
      "Couldn't find article date for 32746598\n",
      "Couldn't find article date for 32833767\n",
      "Couldn't find article date for 32909468\n",
      "Couldn't find article date for 32880601\n",
      "Couldn't find article date for 33099941\n",
      "Couldn't find article date for 33065643\n",
      "Couldn't find article date for 31250880\n",
      "Couldn't find article date for 32591823\n",
      "Couldn't find article date for 31608939\n",
      "Couldn't find article date for 33274674\n",
      "Couldn't find article date for 33241302\n",
      "Couldn't find article date for 33508918\n",
      "Couldn't find article date for 32306008\n",
      "Couldn't find article date for 30653123\n",
      "Couldn't find article date for 33490196\n",
      "Couldn't find article date for 33545764\n",
      "Couldn't find article date for 33685044\n",
      "Couldn't find article date for 33595631\n",
      "Couldn't find article date for 33729467\n",
      "Couldn't find article date for 33813524\n",
      "Couldn't find article date for 33907099\n",
      "Couldn't find article date for 33982936\n",
      "Couldn't find article date for 33978698\n",
      "Couldn't find article date for 33714372\n",
      "Couldn't find article date for 33879663\n",
      "Couldn't find article date for 34034279\n",
      "Couldn't find article date for 34048682\n",
      "Couldn't find article date for 34155501\n",
      "Couldn't find article date for 34149004\n",
      "Couldn't find article date for 34281849\n",
      "Couldn't find article date for 33725995\n",
      "Couldn't find article date for 34324661\n",
      "Couldn't find article date for 34320651\n",
      "Couldn't find article date for 33792646\n",
      "Couldn't find article date for 34519801\n",
      "Couldn't find article date for 34551495\n",
      "Couldn't find article date for 33720069\n",
      "Couldn't find article date for 34988183\n",
      "Couldn't find article date for 34848479\n",
      "Couldn't find article date for 35108470\n",
      "Couldn't find article date for 34801105\n"
     ]
    }
   ],
   "source": [
    "from integration.citation_utils import pm_id_to_publication_date\n",
    "\n",
    "tqdm.pandas(desc=\"Fetching article dates\")\n",
    "\n",
    "df_ris[\"article_date_api\"] = pd.to_datetime(\n",
    "    df_ris[\"pm_id\"].progress_apply(\n",
    "        lambda pm_id: pm_id_to_publication_date(\n",
    "            pm_id=pm_id,\n",
    "            email=os.environ.get(\"PUBMED_USER\"),\n",
    "            api_key=os.environ.get(\"PUBMED_API_KEY\"),\n",
    "            cache_path=\"../data/literature/pm_id_to_entrez_xml.json\",\n",
    "        )\n",
    "    )\n",
    ")"
   ]
  },
  {
   "cell_type": "markdown",
   "metadata": {},
   "source": [
    "### Presence in GGPONC"
   ]
  },
  {
   "cell_type": "code",
   "execution_count": 41,
   "metadata": {
    "tags": []
   },
   "outputs": [
    {
     "data": {
      "application/vnd.jupyter.widget-view+json": {
       "model_id": "401b005821bd47199a6dd3099e446d5d",
       "version_major": 2,
       "version_minor": 0
      },
      "text/plain": [
       "Checking for presence in GGPONC:   0%|          | 0/3008 [00:00<?, ?it/s]"
      ]
     },
     "metadata": {},
     "output_type": "display_data"
    }
   ],
   "source": [
    "from evaluation.matching import is_in_ggponc\n",
    "from tqdm.auto import tqdm\n",
    "\n",
    "df_ggponc = (\n",
    "    pd.read_csv(PATH_GGPONC_LITERATURE)\n",
    "    .astype({\"pm_id\": \"Int64\"})\n",
    "    .query(\"guideline_id == @GUIDELINE_ID\")\n",
    ")\n",
    "ggponc_pm_ids = set(df_ggponc[\"pm_id\"].dropna())\n",
    "ggponc_titles = set(df_ggponc[\"title\"])\n",
    "\n",
    "tqdm.pandas(desc=\"Checking for presence in GGPONC\")\n",
    "df_ris = df_ris.progress_apply(\n",
    "    lambda row: is_in_ggponc(\n",
    "        row=row, ggponc_pm_ids=ggponc_pm_ids, ggponc_titles=ggponc_titles\n",
    "    ),\n",
    "    axis=1,\n",
    ")"
   ]
  },
  {
   "cell_type": "markdown",
   "metadata": {},
   "source": [
    "### Preparing final dataframe"
   ]
  },
  {
   "cell_type": "markdown",
   "metadata": {},
   "source": [
    "In some cases, we have resolved Cochrance Library IDs to Pubmed IDs which are already present in the dataset:"
   ]
  },
  {
   "cell_type": "code",
   "execution_count": 42,
   "metadata": {
    "tags": []
   },
   "outputs": [
    {
     "name": "stdout",
     "output_type": "stream",
     "text": [
      "There are 0 non-null PM ID duplicates in the dataset!\n"
     ]
    }
   ],
   "source": [
    "df_ris[\"is_pm_id_duplicate\"] = (\n",
    "    df_ris[\"pm_id\"].duplicated(keep=False) & df_ris[\"pm_id\"].notnull()\n",
    ")\n",
    "\n",
    "print(\n",
    "    f\"There are {len(df_ris.query('is_pm_id_duplicate == True'))} non-null PM ID duplicates in the dataset!\"\n",
    ")"
   ]
  },
  {
   "cell_type": "markdown",
   "metadata": {},
   "source": [
    "Some examples:"
   ]
  },
  {
   "cell_type": "code",
   "execution_count": 43,
   "metadata": {
    "tags": []
   },
   "outputs": [
    {
     "data": {
      "text/html": [
       "<div>\n",
       "<style scoped>\n",
       "    .dataframe tbody tr th:only-of-type {\n",
       "        vertical-align: middle;\n",
       "    }\n",
       "\n",
       "    .dataframe tbody tr th {\n",
       "        vertical-align: top;\n",
       "    }\n",
       "\n",
       "    .dataframe thead th {\n",
       "        text-align: right;\n",
       "    }\n",
       "</style>\n",
       "<table border=\"1\" class=\"dataframe\">\n",
       "  <thead>\n",
       "    <tr style=\"text-align: right;\">\n",
       "      <th></th>\n",
       "      <th>ris_id</th>\n",
       "      <th>pm_id</th>\n",
       "      <th>exclusion_reason</th>\n",
       "      <th>is_included</th>\n",
       "    </tr>\n",
       "  </thead>\n",
       "  <tbody>\n",
       "  </tbody>\n",
       "</table>\n",
       "</div>"
      ],
      "text/plain": [
       "Empty DataFrame\n",
       "Columns: [ris_id, pm_id, exclusion_reason, is_included]\n",
       "Index: []"
      ]
     },
     "execution_count": 43,
     "metadata": {},
     "output_type": "execute_result"
    }
   ],
   "source": [
    "df_ris.query(\"is_pm_id_duplicate == True\").sort_values([\"pm_id\", \"exclusion_reason\"])[\n",
    "    [\"ris_id\", \"pm_id\", \"exclusion_reason\", \"is_included\"]\n",
    "].head(10)"
   ]
  },
  {
   "cell_type": "markdown",
   "metadata": {},
   "source": [
    "Let's remove them:"
   ]
  },
  {
   "cell_type": "code",
   "execution_count": 44,
   "metadata": {
    "tags": []
   },
   "outputs": [],
   "source": [
    "df_ris.reset_index(drop=True, inplace=True)\n",
    "df_ris[\"exclusion_reason\"] = pd.Categorical(\n",
    "    df_ris[\"exclusion_reason\"], categories=exclusion_reason_order\n",
    ")\n",
    "df_ris = df_ris[\n",
    "    (\n",
    "        ~df_ris.sort_values([\"pm_id\", \"exclusion_reason\"], ascending=False).duplicated(\n",
    "            subset=\"pm_id\", keep=\"first\"\n",
    "        )\n",
    "    )\n",
    "    | (df_ris[\"pm_id\"].isnull())\n",
    "].drop(columns=[\"is_pm_id_duplicate\"])"
   ]
  },
  {
   "cell_type": "code",
   "execution_count": 45,
   "metadata": {
    "tags": []
   },
   "outputs": [
    {
     "data": {
      "text/html": [
       "<div>\n",
       "<style scoped>\n",
       "    .dataframe tbody tr th:only-of-type {\n",
       "        vertical-align: middle;\n",
       "    }\n",
       "\n",
       "    .dataframe tbody tr th {\n",
       "        vertical-align: top;\n",
       "    }\n",
       "\n",
       "    .dataframe thead th {\n",
       "        text-align: right;\n",
       "    }\n",
       "</style>\n",
       "<table border=\"1\" class=\"dataframe\">\n",
       "  <thead>\n",
       "    <tr style=\"text-align: right;\">\n",
       "      <th>is_rct_api</th>\n",
       "      <th>False</th>\n",
       "      <th>True</th>\n",
       "      <th>All</th>\n",
       "    </tr>\n",
       "    <tr>\n",
       "      <th>is_included</th>\n",
       "      <th></th>\n",
       "      <th></th>\n",
       "      <th></th>\n",
       "    </tr>\n",
       "  </thead>\n",
       "  <tbody>\n",
       "    <tr>\n",
       "      <th>False</th>\n",
       "      <td>2640</td>\n",
       "      <td>296</td>\n",
       "      <td>2936</td>\n",
       "    </tr>\n",
       "    <tr>\n",
       "      <th>True</th>\n",
       "      <td>52</td>\n",
       "      <td>20</td>\n",
       "      <td>72</td>\n",
       "    </tr>\n",
       "    <tr>\n",
       "      <th>All</th>\n",
       "      <td>2692</td>\n",
       "      <td>316</td>\n",
       "      <td>3008</td>\n",
       "    </tr>\n",
       "  </tbody>\n",
       "</table>\n",
       "</div>"
      ],
      "text/plain": [
       "is_rct_api   False  True   All\n",
       "is_included                   \n",
       "False         2640   296  2936\n",
       "True            52    20    72\n",
       "All           2692   316  3008"
      ]
     },
     "execution_count": 45,
     "metadata": {},
     "output_type": "execute_result"
    }
   ],
   "source": [
    "pd.crosstab(df_ris[\"is_included\"], df_ris[\"is_rct_api\"], margins=True)"
   ]
  },
  {
   "cell_type": "code",
   "execution_count": 46,
   "metadata": {
    "tags": []
   },
   "outputs": [
    {
     "data": {
      "text/html": [
       "<div>\n",
       "<style scoped>\n",
       "    .dataframe tbody tr th:only-of-type {\n",
       "        vertical-align: middle;\n",
       "    }\n",
       "\n",
       "    .dataframe tbody tr th {\n",
       "        vertical-align: top;\n",
       "    }\n",
       "\n",
       "    .dataframe thead th {\n",
       "        text-align: right;\n",
       "    }\n",
       "</style>\n",
       "<table border=\"1\" class=\"dataframe\">\n",
       "  <thead>\n",
       "    <tr style=\"text-align: right;\">\n",
       "      <th></th>\n",
       "      <th>ris_id</th>\n",
       "      <th>issn</th>\n",
       "      <th>volume</th>\n",
       "      <th>ip</th>\n",
       "      <th>date_published</th>\n",
       "      <th>title</th>\n",
       "      <th>end_page</th>\n",
       "      <th>abstract</th>\n",
       "      <th>author_address</th>\n",
       "      <th>authors</th>\n",
       "      <th>...</th>\n",
       "      <th>is_in_db_pm</th>\n",
       "      <th>is_in_db_ct</th>\n",
       "      <th>is_in_db_title</th>\n",
       "      <th>is_in_db</th>\n",
       "      <th>publication_types</th>\n",
       "      <th>is_rct_api</th>\n",
       "      <th>article_date_api</th>\n",
       "      <th>is_in_ggponc</th>\n",
       "      <th>is_relevant</th>\n",
       "      <th>is_not_relevant</th>\n",
       "    </tr>\n",
       "  </thead>\n",
       "  <tbody>\n",
       "  </tbody>\n",
       "</table>\n",
       "<p>0 rows × 39 columns</p>\n",
       "</div>"
      ],
      "text/plain": [
       "Empty DataFrame\n",
       "Columns: [ris_id, issn, volume, ip, date_published, title, end_page, abstract, author_address, authors, language, type_of_reference, keywords, path, exclusion_reason, rq, publication_date, nct_id, doi, pm_id, cn_id, rqs_and_reasons, is_included, pm_id_doi, pm_id_cn, nct_id_cn, pmc_id_cn, nct_id_db, pm_id_db, is_in_db_pm, is_in_db_ct, is_in_db_title, is_in_db, publication_types, is_rct_api, article_date_api, is_in_ggponc, is_relevant, is_not_relevant]\n",
       "Index: []\n",
       "\n",
       "[0 rows x 39 columns]"
      ]
     },
     "execution_count": 46,
     "metadata": {},
     "output_type": "execute_result"
    }
   ],
   "source": [
    "df_ris.query(\"is_included & is_rct_api & pm_id.isnull()\")"
   ]
  },
  {
   "cell_type": "markdown",
   "metadata": {},
   "source": [
    "### Excluding documents outside the search time frame / marking as relevant"
   ]
  },
  {
   "cell_type": "code",
   "execution_count": 47,
   "metadata": {
    "tags": []
   },
   "outputs": [
    {
     "data": {
      "text/html": [
       "<div>\n",
       "<style scoped>\n",
       "    .dataframe tbody tr th:only-of-type {\n",
       "        vertical-align: middle;\n",
       "    }\n",
       "\n",
       "    .dataframe tbody tr th {\n",
       "        vertical-align: top;\n",
       "    }\n",
       "\n",
       "    .dataframe thead th {\n",
       "        text-align: right;\n",
       "    }\n",
       "</style>\n",
       "<table border=\"1\" class=\"dataframe\">\n",
       "  <thead>\n",
       "    <tr style=\"text-align: right;\">\n",
       "      <th></th>\n",
       "      <th>pm_id</th>\n",
       "      <th>publication_date</th>\n",
       "      <th>is_rct_api</th>\n",
       "      <th>is_in_ggponc</th>\n",
       "      <th>exclusion_reason</th>\n",
       "    </tr>\n",
       "  </thead>\n",
       "  <tbody>\n",
       "    <tr>\n",
       "      <th>12</th>\n",
       "      <td>30470690</td>\n",
       "      <td>2019-04-01</td>\n",
       "      <td>True</td>\n",
       "      <td>False</td>\n",
       "      <td>FULLTEXT_exclude_Falscher Publikationszeitraum</td>\n",
       "    </tr>\n",
       "    <tr>\n",
       "      <th>34</th>\n",
       "      <td>30877177</td>\n",
       "      <td>2019-03-15</td>\n",
       "      <td>False</td>\n",
       "      <td>False</td>\n",
       "      <td>FULLTEXT_exclude_Falscher Publikationszeitraum</td>\n",
       "    </tr>\n",
       "    <tr>\n",
       "      <th>113</th>\n",
       "      <td>31278574</td>\n",
       "      <td>2019-07-05</td>\n",
       "      <td>False</td>\n",
       "      <td>False</td>\n",
       "      <td>FULLTEXT_exclude_Falscher Publikationszeitraum</td>\n",
       "    </tr>\n",
       "    <tr>\n",
       "      <th>148</th>\n",
       "      <td>31397195</td>\n",
       "      <td>2019-08-09</td>\n",
       "      <td>False</td>\n",
       "      <td>False</td>\n",
       "      <td>FULLTEXT_exclude_Falscher Publikationszeitraum</td>\n",
       "    </tr>\n",
       "    <tr>\n",
       "      <th>1902</th>\n",
       "      <td>30625052</td>\n",
       "      <td>2019-01-01</td>\n",
       "      <td>True</td>\n",
       "      <td>True</td>\n",
       "      <td>FULLTEXT_exclude_Falscher Publikationszeitraum</td>\n",
       "    </tr>\n",
       "    <tr>\n",
       "      <th>1912</th>\n",
       "      <td>30137281</td>\n",
       "      <td>2019-01-01</td>\n",
       "      <td>True</td>\n",
       "      <td>False</td>\n",
       "      <td>FULLTEXT_exclude_Falscher Publikationszeitraum</td>\n",
       "    </tr>\n",
       "    <tr>\n",
       "      <th>1921</th>\n",
       "      <td>33198003</td>\n",
       "      <td>2019-01-01</td>\n",
       "      <td>False</td>\n",
       "      <td>False</td>\n",
       "      <td>FULLTEXT_exclude_Falscher Publikationszeitraum</td>\n",
       "    </tr>\n",
       "    <tr>\n",
       "      <th>1943</th>\n",
       "      <td>30308612</td>\n",
       "      <td>2019-01-01</td>\n",
       "      <td>True</td>\n",
       "      <td>True</td>\n",
       "      <td>FULLTEXT_exclude_Falscher Publikationszeitraum</td>\n",
       "    </tr>\n",
       "    <tr>\n",
       "      <th>1950</th>\n",
       "      <td>30732125</td>\n",
       "      <td>2019-01-01</td>\n",
       "      <td>False</td>\n",
       "      <td>False</td>\n",
       "      <td>FULLTEXT_exclude_Falscher Publikationszeitraum</td>\n",
       "    </tr>\n",
       "    <tr>\n",
       "      <th>1967</th>\n",
       "      <td>30913304</td>\n",
       "      <td>2019-01-01</td>\n",
       "      <td>True</td>\n",
       "      <td>False</td>\n",
       "      <td>FULLTEXT_exclude_Falscher Publikationszeitraum</td>\n",
       "    </tr>\n",
       "    <tr>\n",
       "      <th>1972</th>\n",
       "      <td>30940189</td>\n",
       "      <td>2019-01-01</td>\n",
       "      <td>True</td>\n",
       "      <td>False</td>\n",
       "      <td>FULLTEXT_exclude_Falscher Publikationszeitraum</td>\n",
       "    </tr>\n",
       "    <tr>\n",
       "      <th>1987</th>\n",
       "      <td>30927036</td>\n",
       "      <td>2019-01-01</td>\n",
       "      <td>False</td>\n",
       "      <td>False</td>\n",
       "      <td>FULLTEXT_exclude_Falscher Publikationszeitraum</td>\n",
       "    </tr>\n",
       "    <tr>\n",
       "      <th>2012</th>\n",
       "      <td>30506519</td>\n",
       "      <td>2019-01-01</td>\n",
       "      <td>True</td>\n",
       "      <td>False</td>\n",
       "      <td>FULLTEXT_exclude_Falscher Publikationszeitraum</td>\n",
       "    </tr>\n",
       "    <tr>\n",
       "      <th>2024</th>\n",
       "      <td>31234927</td>\n",
       "      <td>2019-01-01</td>\n",
       "      <td>True</td>\n",
       "      <td>False</td>\n",
       "      <td>FULLTEXT_exclude_Falscher Publikationszeitraum</td>\n",
       "    </tr>\n",
       "    <tr>\n",
       "      <th>2120</th>\n",
       "      <td>31373648</td>\n",
       "      <td>2019-01-01</td>\n",
       "      <td>True</td>\n",
       "      <td>False</td>\n",
       "      <td>FULLTEXT_exclude_Falscher Publikationszeitraum</td>\n",
       "    </tr>\n",
       "  </tbody>\n",
       "</table>\n",
       "</div>"
      ],
      "text/plain": [
       "         pm_id publication_date  is_rct_api  is_in_ggponc  \\\n",
       "12    30470690       2019-04-01        True         False   \n",
       "34    30877177       2019-03-15       False         False   \n",
       "113   31278574       2019-07-05       False         False   \n",
       "148   31397195       2019-08-09       False         False   \n",
       "1902  30625052       2019-01-01        True          True   \n",
       "1912  30137281       2019-01-01        True         False   \n",
       "1921  33198003       2019-01-01       False         False   \n",
       "1943  30308612       2019-01-01        True          True   \n",
       "1950  30732125       2019-01-01       False         False   \n",
       "1967  30913304       2019-01-01        True         False   \n",
       "1972  30940189       2019-01-01        True         False   \n",
       "1987  30927036       2019-01-01       False         False   \n",
       "2012  30506519       2019-01-01        True         False   \n",
       "2024  31234927       2019-01-01        True         False   \n",
       "2120  31373648       2019-01-01        True         False   \n",
       "\n",
       "                                    exclusion_reason  \n",
       "12    FULLTEXT_exclude_Falscher Publikationszeitraum  \n",
       "34    FULLTEXT_exclude_Falscher Publikationszeitraum  \n",
       "113   FULLTEXT_exclude_Falscher Publikationszeitraum  \n",
       "148   FULLTEXT_exclude_Falscher Publikationszeitraum  \n",
       "1902  FULLTEXT_exclude_Falscher Publikationszeitraum  \n",
       "1912  FULLTEXT_exclude_Falscher Publikationszeitraum  \n",
       "1921  FULLTEXT_exclude_Falscher Publikationszeitraum  \n",
       "1943  FULLTEXT_exclude_Falscher Publikationszeitraum  \n",
       "1950  FULLTEXT_exclude_Falscher Publikationszeitraum  \n",
       "1967  FULLTEXT_exclude_Falscher Publikationszeitraum  \n",
       "1972  FULLTEXT_exclude_Falscher Publikationszeitraum  \n",
       "1987  FULLTEXT_exclude_Falscher Publikationszeitraum  \n",
       "2012  FULLTEXT_exclude_Falscher Publikationszeitraum  \n",
       "2024  FULLTEXT_exclude_Falscher Publikationszeitraum  \n",
       "2120  FULLTEXT_exclude_Falscher Publikationszeitraum  "
      ]
     },
     "execution_count": 47,
     "metadata": {},
     "output_type": "execute_result"
    }
   ],
   "source": [
    "df_ris.query(\"exclusion_reason == 'FULLTEXT_exclude_Falscher Publikationszeitraum'\")[\n",
    "    [\"pm_id\", \"publication_date\", \"is_rct_api\", \"is_in_ggponc\", \"exclusion_reason\"]\n",
    "]"
   ]
  },
  {
   "cell_type": "markdown",
   "metadata": {},
   "source": [
    "For the evaluation, we are interested in those that are either marked as included or already contained in GGPONC AND fall within the screening timeframe. This means that records that occur in GGPONC, but were excluded to due having been published outside the screening time frame have to be marked as not relevant:"
   ]
  },
  {
   "cell_type": "code",
   "execution_count": 65,
   "metadata": {
    "tags": []
   },
   "outputs": [],
   "source": [
    "# mask_not_excluded_due_to_wrong_tf = (df_ris[\"exclusion_reason\"] != \"FULLTEXT_exclude_Falscher Publikationszeitraum\")\n",
    "mask_is_included = df_ris[\"is_included\"]\n",
    "mask_is_in_ggponc_and_in_tf = df_ris[\"is_in_ggponc\"] & (\n",
    "    df_ris[\"exclusion_reason\"] != \"FULLTEXT_exclude_Falscher Publikationszeitraum\"\n",
    ")"
   ]
  },
  {
   "cell_type": "code",
   "execution_count": 66,
   "metadata": {
    "tags": []
   },
   "outputs": [],
   "source": [
    "df_ris[\"is_relevant\"] = mask_is_included | mask_is_in_ggponc_and_in_tf\n",
    "df_ris[\"is_not_relevant\"] = ~df_ris[\"is_relevant\"]"
   ]
  },
  {
   "cell_type": "code",
   "execution_count": 67,
   "metadata": {
    "tags": []
   },
   "outputs": [
    {
     "data": {
      "text/html": [
       "<div>\n",
       "<style scoped>\n",
       "    .dataframe tbody tr th:only-of-type {\n",
       "        vertical-align: middle;\n",
       "    }\n",
       "\n",
       "    .dataframe tbody tr th {\n",
       "        vertical-align: top;\n",
       "    }\n",
       "\n",
       "    .dataframe thead th {\n",
       "        text-align: right;\n",
       "    }\n",
       "</style>\n",
       "<table border=\"1\" class=\"dataframe\">\n",
       "  <thead>\n",
       "    <tr style=\"text-align: right;\">\n",
       "      <th>is_rct_api</th>\n",
       "      <th>False</th>\n",
       "      <th>True</th>\n",
       "      <th>All</th>\n",
       "    </tr>\n",
       "    <tr>\n",
       "      <th>is_relevant</th>\n",
       "      <th></th>\n",
       "      <th></th>\n",
       "      <th></th>\n",
       "    </tr>\n",
       "  </thead>\n",
       "  <tbody>\n",
       "    <tr>\n",
       "      <th>False</th>\n",
       "      <td>2637</td>\n",
       "      <td>290</td>\n",
       "      <td>2927</td>\n",
       "    </tr>\n",
       "    <tr>\n",
       "      <th>True</th>\n",
       "      <td>55</td>\n",
       "      <td>26</td>\n",
       "      <td>81</td>\n",
       "    </tr>\n",
       "    <tr>\n",
       "      <th>All</th>\n",
       "      <td>2692</td>\n",
       "      <td>316</td>\n",
       "      <td>3008</td>\n",
       "    </tr>\n",
       "  </tbody>\n",
       "</table>\n",
       "</div>"
      ],
      "text/plain": [
       "is_rct_api   False  True   All\n",
       "is_relevant                   \n",
       "False         2637   290  2927\n",
       "True            55    26    81\n",
       "All           2692   316  3008"
      ]
     },
     "execution_count": 67,
     "metadata": {},
     "output_type": "execute_result"
    }
   ],
   "source": [
    "pd.crosstab(df_ris[\"is_relevant\"], df_ris[\"is_rct_api\"], margins=True)"
   ]
  },
  {
   "cell_type": "code",
   "execution_count": 68,
   "metadata": {
    "tags": []
   },
   "outputs": [
    {
     "data": {
      "text/plain": [
       "(11, 39)"
      ]
     },
     "execution_count": 68,
     "metadata": {},
     "output_type": "execute_result"
    }
   ],
   "source": [
    "df_ris[~df_ris.is_included & df_ris.is_in_ggponc].shape"
   ]
  },
  {
   "cell_type": "code",
   "execution_count": 69,
   "metadata": {
    "tags": []
   },
   "outputs": [
    {
     "data": {
      "text/plain": [
       "2936"
      ]
     },
     "execution_count": 69,
     "metadata": {},
     "output_type": "execute_result"
    }
   ],
   "source": [
    "df_ris.exclusion_reason.value_counts().sum() - 72"
   ]
  },
  {
   "cell_type": "markdown",
   "metadata": {},
   "source": [
    "### Manual Screening Results"
   ]
  },
  {
   "cell_type": "markdown",
   "metadata": {},
   "source": [
    "We also have the results of the manual screening available. Although these were added after the original screening, we parse them at this point to reduce code duplication:"
   ]
  },
  {
   "cell_type": "code",
   "execution_count": 70,
   "metadata": {
    "tags": []
   },
   "outputs": [],
   "source": [
    "df_manual = pd.read_csv(PATH_MANUAL_REVIEW)\n",
    "df_manual = (\n",
    "    df_manual.query(\"source in ['Pubmed', 'Civic']\")\n",
    "    .astype({\"pm_id\": \"Int64\"})\n",
    "    .rename(columns={\"Ein- / Ausschlussgrund\": \"reason\"})[\n",
    "        [\"pm_id\", \"publication_date\", \"reason\", \"is_included\"]\n",
    "    ]\n",
    ")\n",
    "df_manual[\"publication_date\"] = pd.to_datetime(df_manual[\"publication_date\"])\n",
    "df_manual[\"is_excluded\"] = ~df_manual[\"is_included\"]\n",
    "df_manual[\"is_relevant\"] = df_manual[\"is_included\"]\n",
    "df_manual[\"is_not_relevant\"] = df_manual[\"is_excluded\"]\n",
    "df_manual[\"exclusion_reason\"] = df_manual.apply(lambda row: row[\"reason\"] if row[\"is_excluded\"] else pd.NA, axis=1)  # type: ignore\n",
    "df_manual.drop(columns=[\"reason\"], inplace=True)\n",
    "\n",
    "# Since these records have been retrieved from the system before, we know that they are in the DB and that they are RCTs:\n",
    "df_manual[\"publication_types\"] = [[] for _ in range(len(df_manual))]\n",
    "df_manual[\"is_rct_api\"] = True\n",
    "\n",
    "# But these 3 are actually reviews and not RCTs:\n",
    "df_manual.loc[\n",
    "    df_manual[\"pm_id\"].isin([34860570, 34980003, 33640423]), \"is_rct_api\"\n",
    "] = False\n",
    "\n",
    "df_manual[\"is_in_db\"] = True\n",
    "df_manual[\"is_in_ggponc\"] = False\n",
    "df_manual[\"screening_origin\"] = \"manual\""
   ]
  },
  {
   "cell_type": "code",
   "execution_count": 71,
   "metadata": {
    "tags": []
   },
   "outputs": [],
   "source": [
    "df_ris[\"screening_origin\"] = \"original\""
   ]
  },
  {
   "cell_type": "code",
   "execution_count": 72,
   "metadata": {
    "tags": []
   },
   "outputs": [],
   "source": [
    "df_ris = pd.concat([df_ris, df_manual])"
   ]
  },
  {
   "cell_type": "markdown",
   "metadata": {},
   "source": [
    "### Saving the output"
   ]
  },
  {
   "cell_type": "code",
   "execution_count": 73,
   "metadata": {
    "tags": []
   },
   "outputs": [
    {
     "data": {
      "text/plain": [
       "screening_origin  is_relevant  is_rct_api\n",
       "manual            False        False            3\n",
       "                               True             6\n",
       "                  True         True             9\n",
       "original          False        False         2637\n",
       "                               True           290\n",
       "                  True         False           55\n",
       "                               True            26\n",
       "dtype: int64"
      ]
     },
     "execution_count": 73,
     "metadata": {},
     "output_type": "execute_result"
    }
   ],
   "source": [
    "df_ris.groupby(['screening_origin', 'is_relevant', 'is_rct_api']).size()"
   ]
  },
  {
   "cell_type": "code",
   "execution_count": 74,
   "metadata": {
    "tags": []
   },
   "outputs": [],
   "source": [
    "from evaluation.parsing import save_parsed_ris_content"
   ]
  },
  {
   "cell_type": "code",
   "execution_count": 75,
   "metadata": {
    "tags": []
   },
   "outputs": [],
   "source": [
    "save_parsed_ris_content(\n",
    "    df=df_ris,\n",
    "    guideline_id=\"oesophaguskarzinom\",\n",
    "    guideline_name=\"Esophageal Carcinoma\",\n",
    "    cols_additional=[\"rq\", \"rqs_and_reasons\"],\n",
    "    csv_path=PATH_OUTPUT,\n",
    ")"
   ]
  },
  {
   "cell_type": "markdown",
   "metadata": {},
   "source": [
    "#### Sankey Diagram for thesis"
   ]
  },
  {
   "cell_type": "code",
   "execution_count": null,
   "metadata": {
    "tags": []
   },
   "outputs": [],
   "source": [
    "len(df_ris)"
   ]
  },
  {
   "cell_type": "code",
   "execution_count": null,
   "metadata": {
    "tags": []
   },
   "outputs": [],
   "source": [
    "df_ris_with_manual = df_ris"
   ]
  },
  {
   "cell_type": "code",
   "execution_count": null,
   "metadata": {
    "tags": []
   },
   "outputs": [],
   "source": [
    "df_ris = df_ris.query(\"screening_origin == 'original'\")"
   ]
  },
  {
   "cell_type": "markdown",
   "metadata": {},
   "source": [
    "This is an attempt to reconstruct the screening process from the available exclusion reason tags. The overall flow is not perfectly documented by the files, so this is a best effort."
   ]
  },
  {
   "cell_type": "code",
   "execution_count": null,
   "metadata": {
    "tags": []
   },
   "outputs": [],
   "source": [
    "in_ggponc[in_ggponc.is_excluded].shape"
   ]
  },
  {
   "cell_type": "code",
   "execution_count": null,
   "metadata": {
    "tags": []
   },
   "outputs": [],
   "source": [
    "final_other = df_ris.query(\n",
    "    \"(is_included | (is_in_ggponc & (exclusion_reason != 'FULLTEXT_exclude_Falscher Publikationszeitraum'))) & ~is_rct_api\"\n",
    ")\n",
    "final_rct = df_ris.query(\n",
    "    \"(is_included | (is_in_ggponc & (exclusion_reason != 'FULLTEXT_exclude_Falscher Publikationszeitraum'))) & is_rct_api\"\n",
    ")\n",
    "\n",
    "in_ggponc = df_ris.query(\n",
    "    \"is_in_ggponc & (exclusion_reason != 'FULLTEXT_exclude_Falscher Publikationszeitraum')\"\n",
    ")\n",
    "in_ggponc_rct = in_ggponc.query(\"is_rct_api\")\n",
    "in_ggponc_other = in_ggponc.query(\"~is_rct_api\")\n",
    "\n",
    "not_in_ggponc = df_ris.query(\"~is_in_ggponc & is_included\")\n",
    "not_in_ggponc_rct = df_ris.query(\"~is_in_ggponc & is_included & is_rct_api\")\n",
    "not_in_ggponc_other = df_ris.query(\"~is_in_ggponc & is_included & ~is_rct_api\")\n",
    "\n",
    "ft_inc = df_ris.query(\"is_included\")\n",
    "ft_inc_ggponc = ft_inc.query(\"is_in_ggponc\")\n",
    "ft_inc_no_ggponc = ft_inc.query(\"~is_in_ggponc\")\n",
    "\n",
    "ft_exc = df_ris.query(\"exclusion_reason.str.startswith('FULLTEXT_exclude')\")\n",
    "ft_exc_ggponc = ft_exc.query(\n",
    "    \"is_in_ggponc & (exclusion_reason != 'FULLTEXT_exclude_Falscher Publikationszeitraum')\"\n",
    ")\n",
    "ft_exc_no_ggponc = ft_exc.query(\"~is_in_ggponc\")\n",
    "\n",
    "tiab2_inc = pd.concat([ft_inc, ft_exc])\n",
    "tiab2_exc = df_ris.query(\"exclusion_reason == 'TIAB2_exclude'\")\n",
    "tiab2_exc_ggponc = tiab2_exc.query(\"is_in_ggponc\")\n",
    "tiab2_exc_no_ggponc = tiab2_exc.query(\"~is_in_ggponc\")\n",
    "\n",
    "tiab1_inc = pd.concat(\n",
    "    [tiab2_inc, tiab2_exc, df_ris.query(\"exclusion_reason == 'TIAB1_include'\")]\n",
    ")\n",
    "tiab1_inc_final = df_ris.query(\"exclusion_reason == 'TIAB1_include'\")\n",
    "tiab1_exc = df_ris.query(\"exclusion_reason == 'TIAB1_exclude'\")\n",
    "tiab1_exc_ggponc = tiab1_exc.query(\"is_in_ggponc\")\n",
    "tiab1_exc_no_ggponc = tiab1_exc.query(\"~is_in_ggponc\")"
   ]
  },
  {
   "cell_type": "code",
   "execution_count": null,
   "metadata": {
    "tags": []
   },
   "outputs": [],
   "source": [
    "nodes = [\n",
    "    [(\"All Found\", len(df_ris))],\n",
    "    [\n",
    "        (\"1. T/A\\nExcluded\", len(tiab1_exc), {\"label_pos\": \"right\"}),\n",
    "        (\"1. T/A\\nIncluded\", len(tiab1_inc), {\"label_pos\": \"bottom\"}),\n",
    "    ],\n",
    "    [\n",
    "        (\n",
    "            \"2. T/A\\nExcluded\",\n",
    "            len(tiab2_exc) + len(tiab1_inc_final),\n",
    "            {\"label_pos\": \"top\"},\n",
    "        ),  # some records have final state TIAB1_include\n",
    "        (\"2. T/A\\nIncluded\", len(tiab2_inc), {\"label_pos\": \"bottom\"}),\n",
    "    ],\n",
    "    [\n",
    "        (\"Full Text\\nExcluded\", len(ft_exc), {\"label_pos\": \"top\"}),\n",
    "        (\"Full Text\\nIncluded\", len(ft_inc), {\"label_pos\": \"bottom\"}),\n",
    "    ],\n",
    "    [\n",
    "        (\"Already cited\\nin CPG\", len(in_ggponc), {\"label_pos\": \"top\"}),\n",
    "        (\"Not\\nin CPG\", len(not_in_ggponc), {\"label_pos\": \"top\"}),\n",
    "    ],\n",
    "    [\n",
    "        (\"RCTs\", len(final_rct), {\"label_pos\": \"right\"}),\n",
    "        (\"Other\", len(final_other), {\"label_pos\": \"right\"}),\n",
    "    ],\n",
    "]"
   ]
  },
  {
   "cell_type": "code",
   "execution_count": null,
   "metadata": {
    "tags": []
   },
   "outputs": [],
   "source": [
    "flows = [\n",
    "    (\"All Found\", \"1. T/A\\nExcluded\", len(tiab1_exc)),\n",
    "    (\"All Found\", \"1. T/A\\nIncluded\", len(tiab1_inc)),\n",
    "    (\"1. T/A\\nExcluded\", \"Already cited\\nin CPG\", len(tiab1_exc_ggponc)),\n",
    "    (\"1. T/A\\nIncluded\", \"2. T/A\\nExcluded\", len(tiab2_exc) + len(tiab1_inc_final)),\n",
    "    (\"1. T/A\\nIncluded\", \"2. T/A\\nIncluded\", len(tiab2_inc)),\n",
    "    (\"2. T/A\\nExcluded\", \"Already cited\\nin CPG\", len(tiab2_exc_ggponc)),\n",
    "    (\"2. T/A\\nIncluded\", \"Full Text\\nExcluded\", len(ft_exc)),\n",
    "    (\"2. T/A\\nIncluded\", \"Full Text\\nIncluded\", len(ft_inc)),\n",
    "    (\"Full Text\\nExcluded\", \"Already cited\\nin CPG\", len(ft_exc_ggponc)),\n",
    "    (\"Full Text\\nIncluded\", \"Already cited\\nin CPG\", len(ft_inc_ggponc)),\n",
    "    (\"Full Text\\nIncluded\", \"Not\\nin CPG\", len(ft_inc_no_ggponc)),\n",
    "    (\"Already cited\\nin CPG\", \"RCTs\", len(in_ggponc_rct)),\n",
    "    (\"Already cited\\nin CPG\", \"Other\", len(in_ggponc_other)),\n",
    "    (\"Not\\nin CPG\", \"RCTs\", len(not_in_ggponc_rct)),\n",
    "    (\"Not\\nin CPG\", \"Other\", len(not_in_ggponc_other)),\n",
    "]"
   ]
  },
  {
   "cell_type": "code",
   "execution_count": null,
   "metadata": {
    "tags": []
   },
   "outputs": [],
   "source": [
    "from sankeyflow import Sankey\n",
    "from evaluation.plotting import set_size\n",
    "import matplotlib.pyplot as plt\n",
    "\n",
    "#plt.style.use(\"../thesis.mplstyle\")\n",
    "\n",
    "fig, ax = plt.subplots(figsize=set_size(\"thesis\"), layout=\"constrained\")\n",
    "\n",
    "s = Sankey(\n",
    "    flow_color_mode=\"source\",\n",
    "    nodes=nodes,\n",
    "    flows=flows,\n",
    "    node_pad_y_min=0.3,\n",
    "    align_y=\"tree\",\n",
    "    flow_color_mode_alpha=0.8,\n",
    ")\n",
    "s.draw(ax=ax)\n",
    "\n",
    "fig.savefig(PATH_LATEX_PLOT_OUTPUT / \"sankey_unique_per_step_reconstructed.pdf\")"
   ]
  },
  {
   "cell_type": "code",
   "execution_count": null,
   "metadata": {},
   "outputs": [],
   "source": []
  }
 ],
 "metadata": {
  "kernelspec": {
   "display_name": "Python [conda env:nge]",
   "language": "python",
   "name": "conda-env-nge-py"
  },
  "language_info": {
   "codemirror_mode": {
    "name": "ipython",
    "version": 3
   },
   "file_extension": ".py",
   "mimetype": "text/x-python",
   "name": "python",
   "nbconvert_exporter": "python",
   "pygments_lexer": "ipython3",
   "version": "3.10.12"
  }
 },
 "nbformat": 4,
 "nbformat_minor": 4
}
